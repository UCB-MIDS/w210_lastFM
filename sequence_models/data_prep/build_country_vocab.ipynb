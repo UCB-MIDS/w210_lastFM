{
 "cells": [
  {
   "cell_type": "code",
   "execution_count": 24,
   "metadata": {},
   "outputs": [
    {
     "data": {
      "text/plain": [
       "9223372036854775807"
      ]
     },
     "execution_count": 24,
     "metadata": {},
     "output_type": "execute_result"
    }
   ],
   "source": [
    "import os, os.path,sys\n",
    "import csv\n",
    "import collections\n",
    "import subprocess\n",
    "import pandas as pd\n",
    "\n",
    "from tqdm import tqdm\n",
    "csv.field_size_limit(sys.maxsize)\n"
   ]
  },
  {
   "cell_type": "code",
   "execution_count": 25,
   "metadata": {},
   "outputs": [],
   "source": [
    "profile_file = '/data_data/session_length/nishanth01/data/userid-profile.csv'\n",
    "vocab_file = '/data_data/session_length/nishanth01/data/country_vocab.csv'"
   ]
  },
  {
   "cell_type": "code",
   "execution_count": 26,
   "metadata": {},
   "outputs": [
    {
     "name": "stdout",
     "output_type": "stream",
     "text": [
      "Processing vocab file...\n",
      "Processed 992 records.\n"
     ]
    }
   ],
   "source": [
    "try:\n",
    "    os.remove(vocab_file) \n",
    "except OSError:\n",
    "    pass\n",
    "\n",
    "\n",
    "vocab_counter = collections.Counter()\n",
    "with open(profile_file) as tsvin:\n",
    "    tsvin = csv.reader(tsvin)\n",
    "    \n",
    "    i = 0\n",
    "    for row in tsvin:\n",
    "        try:\n",
    "            country = row[3].strip()\n",
    "            if(country):\n",
    "                vocab_counter.update([country.lower()])\n",
    "\n",
    "#             if(i == 100):\n",
    "#                 break\n",
    "\n",
    "        except Exception:\n",
    "            print('EXCEPTION: ',row)\n",
    "            pass\n",
    "\n",
    "        i = i+1\n",
    "\n",
    "print (\"Processing vocab file...\")  \n",
    "with open(vocab_file, 'w') as writer:\n",
    "    writer = csv.writer(writer,quoting=csv.QUOTE_NONNUMERIC,delimiter='\\t')\n",
    "    for word, count in vocab_counter.most_common():\n",
    "        row = [word]\n",
    "        row.append(count)\n",
    "        writer.writerow(row)\n",
    "\n",
    "print('Processed {0} records.'.format(i))    "
   ]
  },
  {
   "cell_type": "code",
   "execution_count": 27,
   "metadata": {},
   "outputs": [
    {
     "name": "stdout",
     "output_type": "stream",
     "text": [
      "\"united states\"\t228\r",
      "\r\n",
      "\"united kingdom\"\t126\r",
      "\r\n",
      "\"poland\"\t50\r",
      "\r\n",
      "\"germany\"\t36\r",
      "\r\n",
      "\"norway\"\t35\r",
      "\r\n",
      "\"canada\"\t32\r",
      "\r\n",
      "\"finland\"\t32\r",
      "\r\n",
      "\"turkey\"\t28\r",
      "\r\n",
      "\"italy\"\t27\r",
      "\r\n",
      "\"sweden\"\t24\r",
      "\r\n",
      "\"netherlands\"\t23\r",
      "\r\n",
      "\"australia\"\t22\r",
      "\r\n",
      "\"russian federation\"\t22\r",
      "\r\n",
      "\"brazil\"\t20\r",
      "\r\n",
      "\"spain\"\t17\r",
      "\r\n",
      "\"france\"\t14\r",
      "\r\n",
      "\"mexico\"\t12\r",
      "\r\n",
      "\"argentina\"\t9\r",
      "\r\n",
      "\"belgium\"\t9\r",
      "\r\n",
      "\"romania\"\t8\r",
      "\r\n",
      "\"portugal\"\t8\r",
      "\r\n",
      "\"chile\"\t8\r",
      "\r\n",
      "\"croatia\"\t7\r",
      "\r\n",
      "\"bulgaria\"\t7\r",
      "\r\n",
      "\"new zealand\"\t6\r",
      "\r\n",
      "\"venezuela\"\t6\r",
      "\r\n",
      "\"japan\"\t5\r",
      "\r\n",
      "\"czech republic\"\t5\r",
      "\r\n",
      "\"peru\"\t5\r",
      "\r\n",
      "\"switzerland\"\t5\r",
      "\r\n",
      "\"estonia\"\t4\r",
      "\r\n",
      "\"serbia\"\t4\r",
      "\r\n",
      "\"hungary\"\t4\r",
      "\r\n",
      "\"lithuania\"\t4\r",
      "\r\n",
      "\"slovakia\"\t4\r",
      "\r\n",
      "\"ireland\"\t4\r",
      "\r\n",
      "\"trinidad and tobago\"\t4\r",
      "\r\n",
      "\"colombia\"\t3\r",
      "\r\n",
      "\"greece\"\t3\r",
      "\r\n",
      "\"thailand\"\t3\r",
      "\r\n",
      "\"austria\"\t3\r",
      "\r\n",
      "\"latvia\"\t3\r",
      "\r\n",
      "\"china\"\t3\r",
      "\r\n",
      "\"slovenia\"\t2\r",
      "\r\n",
      "\"morocco\"\t2\r",
      "\r\n",
      "\"armenia\"\t1\r",
      "\r\n",
      "\"tunisia\"\t1\r",
      "\r\n",
      "\"belarus\"\t1\r",
      "\r\n",
      "\"antarctica\"\t1\r",
      "\r\n",
      "\"congo, the democratic republic of the\"\t1\r",
      "\r\n",
      "\"nicaragua\"\t1\r",
      "\r\n",
      "\"cote d'ivoire\"\t1\r",
      "\r\n",
      "\"malta\"\t1\r",
      "\r\n",
      "\"iceland\"\t1\r",
      "\r\n",
      "\"netherlands antilles\"\t1\r",
      "\r\n",
      "\"israel\"\t1\r",
      "\r\n",
      "\"algeria\"\t1\r",
      "\r\n",
      "\"singapore\"\t1\r",
      "\r\n",
      "\"british indian ocean territory\"\t1\r",
      "\r\n",
      "\"india\"\t1\r",
      "\r\n",
      "\"united states minor outlying islands\"\t1\r",
      "\r\n",
      "\"zimbabwe\"\t1\r",
      "\r\n",
      "\"northern mariana islands\"\t1\r",
      "\r\n",
      "\"macedonia\"\t1\r",
      "\r\n",
      "\"bosnia and herzegovina\"\t1\r",
      "\r\n",
      "\"korea, democratic people's republic of\"\t1\r",
      "\r\n"
     ]
    }
   ],
   "source": [
    "!head -100 /data_data/session_length/nishanth01/data/country_vocab.csv"
   ]
  },
  {
   "cell_type": "code",
   "execution_count": 22,
   "metadata": {},
   "outputs": [
    {
     "name": "stdout",
     "output_type": "stream",
     "text": [
      "/home/nishanth01\r\n"
     ]
    }
   ],
   "source": [
    "!pwd"
   ]
  },
  {
   "cell_type": "code",
   "execution_count": 23,
   "metadata": {},
   "outputs": [
    {
     "name": "stdout",
     "output_type": "stream",
     "text": [
      "Writing data.py\n"
     ]
    }
   ],
   "source": []
  },
  {
   "cell_type": "code",
   "execution_count": null,
   "metadata": {},
   "outputs": [],
   "source": []
  }
 ],
 "metadata": {
  "kernelspec": {
   "display_name": "Python 2",
   "language": "python",
   "name": "python2"
  },
  "language_info": {
   "codemirror_mode": {
    "name": "ipython",
    "version": 2
   },
   "file_extension": ".py",
   "mimetype": "text/x-python",
   "name": "python",
   "nbconvert_exporter": "python",
   "pygments_lexer": "ipython2",
   "version": "2.7.12"
  }
 },
 "nbformat": 4,
 "nbformat_minor": 2
}

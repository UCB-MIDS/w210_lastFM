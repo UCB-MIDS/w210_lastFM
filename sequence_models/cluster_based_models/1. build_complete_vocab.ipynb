{
 "cells": [
  {
   "cell_type": "code",
   "execution_count": 19,
   "metadata": {},
   "outputs": [
    {
     "data": {
      "text/plain": [
       "131072"
      ]
     },
     "execution_count": 19,
     "metadata": {},
     "output_type": "execute_result"
    }
   ],
   "source": [
    "import os, os.path,sys\n",
    "import csv\n",
    "import collections\n",
    "import subprocess\n",
    "import pandas as pd\n",
    "\n",
    "from tqdm import tqdm\n",
    "csv.field_size_limit(sys.maxsize)"
   ]
  },
  {
   "cell_type": "code",
   "execution_count": 20,
   "metadata": {},
   "outputs": [
    {
     "name": "stdout",
     "output_type": "stream",
     "text": [
      "/data_data/session_length/nishanth01\r\n"
     ]
    }
   ],
   "source": [
    "!pwd"
   ]
  },
  {
   "cell_type": "code",
   "execution_count": 21,
   "metadata": {},
   "outputs": [],
   "source": [
    "os.chdir(\"/data_data/session_length/nishanth01\")"
   ]
  },
  {
   "cell_type": "code",
   "execution_count": 22,
   "metadata": {},
   "outputs": [
    {
     "name": "stdout",
     "output_type": "stream",
     "text": [
      "/data_data/session_length/nishanth01\r\n"
     ]
    }
   ],
   "source": [
    "!pwd"
   ]
  },
  {
   "cell_type": "code",
   "execution_count": 23,
   "metadata": {},
   "outputs": [
    {
     "name": "stdout",
     "output_type": "stream",
     "text": [
      "\"299278d3-25dd-4f30-bae4-5b571c28034d\",\"the postal service\",\"such great heights\",3991\r",
      "\r\n",
      "\"8a26ca9b-d542-449b-a5e7-224da9eb8a77\",\"boy division\",\"love will tear us apart\",3651\r",
      "\r\n",
      "\"a74b1b7f-71a5-4011-9441-d0b5e4122711\",\"radiohead\",\"karma police\",3533\r",
      "\r\n",
      "\"0039c7ae-e1a7-4a7d-9b49-0cbc716821a6\",\"death cab for cutie\",\"soul meets body\",3479\r",
      "\r\n",
      "\"9c9f1380-2516-4fc9-a3e6-f9f61941d090\",\"muse\",\"supermassive black hole\",3463\r",
      "\r\n",
      "\"bf710b71-48e5-4e15-9bd6-96debb2e4e98\",\"the knife\",\"heartbeats\",3155\r",
      "\r\n",
      "\"52074ba6-e495-4ef3-9bb4-0703888a9f68\",\"arcade fire\",\"rebellion (lies)\",3047\r",
      "\r\n",
      "\"9c9f1380-2516-4fc9-a3e6-f9f61941d090\",\"muse\",\"starlight\",3040\r",
      "\r\n",
      "\"45a663b5-b1cb-4a91-bff6-2bef7bbfdd76\",\"britney spears\",\"gimme more\",3002\r",
      "\r\n",
      "\"95e1ead9-4d31-4808-a7ac-32c3614c116b\",\"the killers\",\"when you were young\",2997\r",
      "\r\n"
     ]
    }
   ],
   "source": [
    "!head data/tracks/tracks.csv"
   ]
  },
  {
   "cell_type": "code",
   "execution_count": 24,
   "metadata": {},
   "outputs": [],
   "source": [
    "tracks_file = '/data_data/session_length/nishanth01/data/tracks/tracks.csv'\n",
    "tracks_vocab_file = '/data_data/session_length/nishanth01/data/tracks_vocab.csv'\n",
    "artist_vocab_file = '/data_data/session_length/nishanth01/data/artist_vocab.csv'"
   ]
  },
  {
   "cell_type": "code",
   "execution_count": 36,
   "metadata": {},
   "outputs": [
    {
     "name": "stdout",
     "output_type": "stream",
     "text": [
      "Processing tracks vocab file...\n",
      "Processing artist vocab file...\n",
      "Processed 1498733 records.\n"
     ]
    }
   ],
   "source": [
    "try:\n",
    "    os.remove(tracks_vocab_file) \n",
    "    os.remove(artist_vocab_file) \n",
    "except OSError:\n",
    "    pass\n",
    "\n",
    "\n",
    "tracks_counter = collections.Counter()\n",
    "artist_counter = collections.Counter()\n",
    "with open(tracks_file) as tsvin:\n",
    "    tsvin = csv.reader(tsvin)\n",
    "    i = 0\n",
    "    for row in tsvin:\n",
    "        try:\n",
    "            artist = row[1]\n",
    "            track = row[2]\n",
    "            if(artist):\n",
    "                artist_counter.update([artist.lower().strip()])\n",
    "            if(track):\n",
    "                tracks_counter.update([track.lower().strip()])\n",
    "#             if(i==1000):\n",
    "#                 break\n",
    "        except Exception:\n",
    "            print('EXCEPTION: ',row)\n",
    "            pass\n",
    "\n",
    "        i = i+1\n",
    "\n",
    "print (\"Processing tracks vocab file...\")  \n",
    "with open(tracks_vocab_file, 'w') as writer:\n",
    "    writer = csv.writer(writer,quoting=csv.QUOTE_NONNUMERIC,delimiter='\\t')\n",
    "    for word, count in tracks_counter.most_common():\n",
    "        row = [word]\n",
    "        row.append(count)\n",
    "        writer.writerow(row)\n",
    "\n",
    "        \n",
    "print (\"Processing artist vocab file...\")  \n",
    "with open(artist_vocab_file, 'w') as writer:\n",
    "    writer = csv.writer(writer,quoting=csv.QUOTE_NONNUMERIC,delimiter='\\t')\n",
    "    for word, count in artist_counter.most_common():\n",
    "        row = [word]\n",
    "        row.append(count)\n",
    "        writer.writerow(row)\n",
    "\n",
    "print('Processed {0} records.'.format(i))    "
   ]
  },
  {
   "cell_type": "code",
   "execution_count": 37,
   "metadata": {},
   "outputs": [
    {
     "name": "stdout",
     "output_type": "stream",
     "text": [
      "\"[unknown]\"\t2327\r",
      "\r\n",
      "\"soundtrack\"\t2001\r",
      "\r\n",
      "\"black rebel motorcycle club\"\t1646\r",
      "\r\n",
      "\"wolfgang amadeus mozart\"\t1366\r",
      "\r\n",
      "\"depeche mode\"\t1269\r",
      "\r\n",
      "\"the beatles\"\t1266\r",
      "\r\n",
      "\"johann sebastian bach\"\t1215\r",
      "\r\n",
      "\"madonna\"\t1157\r",
      "\r\n",
      "\"frédéric chopin\"\t1139\r",
      "\r\n",
      "\"johnny cash\"\t1116\r",
      "\r\n"
     ]
    }
   ],
   "source": [
    "!head $artist_vocab_file "
   ]
  },
  {
   "cell_type": "code",
   "execution_count": 38,
   "metadata": {},
   "outputs": [
    {
     "name": "stdout",
     "output_type": "stream",
     "text": [
      "\"intro\"\t2187\r",
      "\r\n",
      "\"untitled\"\t586\r",
      "\r\n",
      "\"outro\"\t566\r",
      "\r\n",
      "\"[untitled]\"\t499\r",
      "\r\n",
      "\"interlude\"\t354\r",
      "\r\n",
      "\"home\"\t295\r",
      "\r\n",
      "\"introduction\"\t289\r",
      "\r\n",
      "\"bonus track\"\t266\r",
      "\r\n",
      "\"summertime\"\t258\r",
      "\r\n",
      "\"angel\"\t229\r",
      "\r\n"
     ]
    }
   ],
   "source": [
    "!head $tracks_vocab_file"
   ]
  },
  {
   "cell_type": "code",
   "execution_count": null,
   "metadata": {},
   "outputs": [],
   "source": []
  }
 ],
 "metadata": {
  "kernelspec": {
   "display_name": "Python 2",
   "language": "python",
   "name": "python2"
  },
  "language_info": {
   "codemirror_mode": {
    "name": "ipython",
    "version": 2
   },
   "file_extension": ".py",
   "mimetype": "text/x-python",
   "name": "python",
   "nbconvert_exporter": "python",
   "pygments_lexer": "ipython2",
   "version": "2.7.12"
  }
 },
 "nbformat": 4,
 "nbformat_minor": 2
}

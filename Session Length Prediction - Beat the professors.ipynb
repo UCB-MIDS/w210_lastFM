{
 "cells": [
  {
   "cell_type": "markdown",
   "metadata": {},
   "source": [
    "## Session Length Prediction -- Beat the professors:)"
   ]
  },
  {
   "cell_type": "code",
   "execution_count": 463,
   "metadata": {},
   "outputs": [],
   "source": [
    "import os\n",
    "import lxml\n",
    "\n",
    "import pandas as pd"
   ]
  },
  {
   "cell_type": "markdown",
   "metadata": {},
   "source": [
    "#### Use maximum width of notebook"
   ]
  },
  {
   "cell_type": "code",
   "execution_count": 464,
   "metadata": {},
   "outputs": [
    {
     "data": {
      "text/html": [
       "<style>.container { width:100% !important; }</style>"
      ],
      "text/plain": [
       "<IPython.core.display.HTML object>"
      ]
     },
     "metadata": {},
     "output_type": "display_data"
    }
   ],
   "source": [
    "from IPython.core.display import display, HTML\n",
    "display(HTML(\"<style>.container { width:100% !important; }</style>\"))\n",
    "\n",
    "pd.set_option('display.height', 1000)\n",
    "pd.set_option('display.max_rows', 500)\n",
    "pd.set_option('display.max_columns', 500)\n",
    "pd.set_option('display.width', 1000)\n",
    "pd.set_option('display.expand_frame_repr', False)\n",
    "pd.set_option('max_colwidth', 800)\n",
    "pd.set_option('display.max_colwidth', 500)\n",
    "pd.set_option('expand_frame_repr', True)"
   ]
  },
  {
   "cell_type": "code",
   "execution_count": 465,
   "metadata": {},
   "outputs": [
    {
     "name": "stdout",
     "output_type": "stream",
     "text": [
      "/data_data/session_length\r\n"
     ]
    }
   ],
   "source": [
    "os.chdir(\"/data_data/session_length/\")\n",
    "!pwd"
   ]
  },
  {
   "cell_type": "markdown",
   "metadata": {},
   "source": [
    "### Make sure no other spark jobs running before doing this"
   ]
  },
  {
   "cell_type": "code",
   "execution_count": 466,
   "metadata": {},
   "outputs": [],
   "source": [
    "#import pymongo\n",
    "#import pymongo_spark\n",
    "\n",
    "#pymongo_spark.activate()\n"
   ]
  },
  {
   "cell_type": "code",
   "execution_count": 467,
   "metadata": {},
   "outputs": [],
   "source": [
    "#sc.stop()\n",
    "#spark.stop()"
   ]
  },
  {
   "cell_type": "markdown",
   "metadata": {},
   "source": [
    "### If you want to restart Yarn etc"
   ]
  },
  {
   "cell_type": "code",
   "execution_count": 468,
   "metadata": {},
   "outputs": [],
   "source": [
    "#!/usr/local/hadoop/sbin/stop-all.sh\n",
    "#!/usr/local/hadoop/sbin/start-all.sh"
   ]
  },
  {
   "cell_type": "code",
   "execution_count": 470,
   "metadata": {},
   "outputs": [],
   "source": [
    "APP_NAME = \"Session Length Prediction\"\n",
    "\n",
    "try:\n",
    "    sc.stop()\n",
    "    spark.stop()\n",
    "except:\n",
    "    pass\n",
    "\n",
    "from pyspark import SparkConf\n",
    "from pyspark.context import SparkContext\n",
    "from pyspark.sql.session import SparkSession\n",
    "\n",
    "try:\n",
    "    sc and spark\n",
    "except (NameError, UnboundLocalError) as e:\n",
    "    import findspark\n",
    "    #findspark.init()\n",
    "    import pyspark\n",
    "    import pyspark.sql\n",
    "    \n",
    "    #sc = pyspark.SparkContext()\n",
    "    #spark = pyspark.sql.SparkSession(sc).builder.appName(APP_NAME).getOrCreate()\n",
    "    \n",
    "sc = SparkContext(conf = SparkConf() .set(\"spark.driver.maxResultSize\", \"40g\") .set(\"spark.sql.execution.arrow.enabled\", \"true\") .set('spark.sql.broadcastTimeout', 1000) .set('spark.local.dir', '/data_data/session_length/spark_tmp/') .set('spark.driver.memory', '80G') .set(\"spark.executor.instances\", \"20\") .set(\"spark.executor.cores\", 20) .set(\"spark.executor.memory\", \"12G\")).getOrCreate()\n",
    "spark = SparkSession(sc)\n",
    "spark.sparkContext.setLogLevel(\"ERROR\")\n",
    "    "
   ]
  },
  {
   "cell_type": "markdown",
   "metadata": {},
   "source": [
    "### Check configuration of Spark Environment"
   ]
  },
  {
   "cell_type": "code",
   "execution_count": 471,
   "metadata": {},
   "outputs": [
    {
     "data": {
      "text/plain": [
       "[(u'spark.local.dir', u'/data_data/session_length/spark_tmp/'),\n",
       " (u'spark.sql.execution.arrow.enabled', u'true'),\n",
       " (u'spark.executor.cores', u'20'),\n",
       " (u'spark.driver.memory', u'80G'),\n",
       " (u'spark.executor.id', u'driver'),\n",
       " (u'spark.app.name', u'pyspark-shell'),\n",
       " (u'spark.executor.instances', u'20'),\n",
       " (u'spark.driver.port', u'35233'),\n",
       " (u'spark.driver.maxResultSize', u'40g'),\n",
       " (u'spark.rdd.compress', u'True'),\n",
       " (u'spark.app.id', u'local-1537128781907'),\n",
       " (u'spark.driver.host', u'ip-172-31-41-62.ec2.internal'),\n",
       " (u'spark.serializer.objectStreamReset', u'100'),\n",
       " (u'spark.master', u'local[*]'),\n",
       " (u'spark.submit.deployMode', u'client'),\n",
       " (u'spark.sql.broadcastTimeout', u'1000'),\n",
       " (u'spark.executor.memory', u'12G'),\n",
       " (u'spark.ui.showConsoleProgress', u'true')]"
      ]
     },
     "execution_count": 471,
     "metadata": {},
     "output_type": "execute_result"
    }
   ],
   "source": [
    "sc._conf.getAll()"
   ]
  },
  {
   "cell_type": "code",
   "execution_count": 472,
   "metadata": {},
   "outputs": [],
   "source": [
    "from pyspark.sql.types import StructField, StructType, StringType, LongType, DateType, DoubleType, IntegerType\n",
    "from pyspark.sql.functions import count, mean, stddev_pop, min, max, lit, round, bround, pow, col, corr, lower, upper, avg, stddev, abs, log\n",
    "from pyspark.sql.functions import lit, trim, rtrim, rpad, trim, coalesce\n",
    "from pyspark.sql.functions import current_date, current_timestamp, date_add, date_sub, months_between, to_date\n",
    "from pyspark.sql.functions import udf, col, sum\n",
    "from pyspark.sql.window import Window\n",
    "from pyspark.sql.functions import desc, dense_rank, rank, expr\n",
    "\n",
    "from pyspark.ml import Pipeline\n",
    "from pyspark.ml.feature import RFormula\n",
    "from pyspark.ml.classification import LogisticRegression, GBTClassifier, DecisionTreeClassifier, RandomForestClassifier\n",
    "from pyspark.ml.evaluation import BinaryClassificationEvaluator\n",
    "from pyspark.ml.regression import RandomForestRegressor, GBTRegressor\n",
    "from pyspark.ml.feature import OneHotEncoderEstimator, StringIndexer, VectorAssembler\n",
    "from pyspark.ml.tuning import CrossValidator, ParamGridBuilder\n",
    "\n",
    "from datetime import datetime"
   ]
  },
  {
   "cell_type": "markdown",
   "metadata": {},
   "source": [
    "### Import Data"
   ]
  },
  {
   "cell_type": "markdown",
   "metadata": {},
   "source": [
    "#### Import utility tools"
   ]
  },
  {
   "cell_type": "markdown",
   "metadata": {},
   "source": [
    "#### Import both data sets"
   ]
  },
  {
   "cell_type": "code",
   "execution_count": 473,
   "metadata": {},
   "outputs": [
    {
     "name": "stdout",
     "output_type": "stream",
     "text": [
      "#id\tgender\tage\tcountry\tregistered\r\n",
      "user_000001\tm\t\tJapan\tAug 13, 2006\r\n",
      "user_000002\tf\t\tPeru\tFeb 24, 2006\r\n",
      "user_000003\tm\t22\tUnited States\tOct 30, 2005\r\n",
      "user_000004\tf\t\t\tApr 26, 2006\r\n",
      "user_000005\tm\t\tBulgaria\tJun 29, 2006\r\n",
      "user_000006\t\t24\tRussian Federation\tMay 18, 2006\r\n",
      "user_000007\tf\t\tUnited States\tJan 22, 2006\r\n",
      "user_000008\tm\t23\tSlovakia\tSep 28, 2006\r\n",
      "user_000009\tf\t19\tUnited States\tJan 13, 2007\r\n"
     ]
    }
   ],
   "source": [
    "!head data/lastFM/lastfm-dataset-1K/userid-profile.tsv"
   ]
  },
  {
   "cell_type": "code",
   "execution_count": 474,
   "metadata": {},
   "outputs": [],
   "source": [
    "users_df = None"
   ]
  },
  {
   "cell_type": "code",
   "execution_count": 475,
   "metadata": {},
   "outputs": [],
   "source": [
    "from_pattern = 'MMM dd, yyyy'\n",
    "to_pattern = 'yyyy-MM-dd'\n",
    "\n",
    "def import_user_data():\n",
    "    global users_df\n",
    "    print(\"==================================================================================================================\")\n",
    "    print(\"======================================== IMPORTING USERID-PROFILE.CSV  ======================================\")\n",
    "    print(\"==================================================================================================================\\n\\n\")\n",
    "    userSchema = StructType([\\\n",
    "        StructField('userid',  StringType(), True),\\\n",
    "        StructField('gender',  StringType(), True),\\\n",
    "        StructField('age',     IntegerType(), True),\\\n",
    "        StructField('country', StringType(), True),\\\n",
    "        StructField('registered', StringType(), True)])\n",
    "    users = spark.read.format('csv').schema(userSchema).option(\"sep\",\"\\t\").load('/data_data/session_length/data/lastFM/lastfm-dataset-1K/userid-profile.tsv')\n",
    "    users.show(5,False)\n",
    "    #func = udf(lambda x: datetime.strptime(x, to_pattern), DateType() )\n",
    "    users_df = users.withColumn('reg_date', to_date(col(\"registered\"), from_pattern))\n",
    "    users_df.show(5,False)"
   ]
  },
  {
   "cell_type": "code",
   "execution_count": 476,
   "metadata": {},
   "outputs": [
    {
     "name": "stdout",
     "output_type": "stream",
     "text": [
      "==================================================================================================================\n",
      "======================================== IMPORTING USERID-PROFILE.CSV  ======================================\n",
      "==================================================================================================================\n",
      "\n",
      "\n",
      "+-----------+------+----+-------------+------------+\n",
      "|userid     |gender|age |country      |registered  |\n",
      "+-----------+------+----+-------------+------------+\n",
      "|null       |null  |null|null         |null        |\n",
      "|user_000001|m     |null|Japan        |Aug 13, 2006|\n",
      "|user_000002|f     |null|Peru         |Feb 24, 2006|\n",
      "|user_000003|m     |22  |United States|Oct 30, 2005|\n",
      "|user_000004|f     |null|null         |Apr 26, 2006|\n",
      "+-----------+------+----+-------------+------------+\n",
      "only showing top 5 rows\n",
      "\n",
      "+-----------+------+----+-------------+------------+----------+\n",
      "|userid     |gender|age |country      |registered  |reg_date  |\n",
      "+-----------+------+----+-------------+------------+----------+\n",
      "|null       |null  |null|null         |null        |null      |\n",
      "|user_000001|m     |null|Japan        |Aug 13, 2006|2006-08-13|\n",
      "|user_000002|f     |null|Peru         |Feb 24, 2006|2006-02-24|\n",
      "|user_000003|m     |22  |United States|Oct 30, 2005|2005-10-30|\n",
      "|user_000004|f     |null|null         |Apr 26, 2006|2006-04-26|\n",
      "+-----------+------+----+-------------+------------+----------+\n",
      "only showing top 5 rows\n",
      "\n"
     ]
    }
   ],
   "source": [
    "import_user_data()"
   ]
  },
  {
   "cell_type": "markdown",
   "metadata": {},
   "source": [
    "#### Import music_data"
   ]
  },
  {
   "cell_type": "code",
   "execution_count": 477,
   "metadata": {},
   "outputs": [
    {
     "name": "stdout",
     "output_type": "stream",
     "text": [
      "user_000001\t2009-05-04T23:08:57Z\tf1b1cf71-bd35-4e99-8624-24a6e15f133a\tDeep Dish\t\tFuck Me Im Famous (Pacha Ibiza)-09-28-2007\r\n",
      "user_000001\t2009-05-04T13:54:10Z\ta7f7df4a-77d8-4f12-8acd-5c60c93f4de8\t坂本龍一\t\tComposition 0919 (Live_2009_4_15)\r\n",
      "user_000001\t2009-05-04T13:52:04Z\ta7f7df4a-77d8-4f12-8acd-5c60c93f4de8\t坂本龍一\t\tMc2 (Live_2009_4_15)\r\n",
      "user_000001\t2009-05-04T13:42:52Z\ta7f7df4a-77d8-4f12-8acd-5c60c93f4de8\t坂本龍一\t\tHibari (Live_2009_4_15)\r\n",
      "user_000001\t2009-05-04T13:42:11Z\ta7f7df4a-77d8-4f12-8acd-5c60c93f4de8\t坂本龍一\t\tMc1 (Live_2009_4_15)\r\n",
      "user_000001\t2009-05-04T13:38:31Z\ta7f7df4a-77d8-4f12-8acd-5c60c93f4de8\t坂本龍一\t\tTo Stanford (Live_2009_4_15)\r\n",
      "user_000001\t2009-05-04T13:33:28Z\ta7f7df4a-77d8-4f12-8acd-5c60c93f4de8\t坂本龍一\t\tImprovisation (Live_2009_4_15)\r\n",
      "user_000001\t2009-05-04T13:23:45Z\ta7f7df4a-77d8-4f12-8acd-5c60c93f4de8\t坂本龍一\t\tGlacier (Live_2009_4_15)\r\n",
      "user_000001\t2009-05-04T13:19:22Z\ta7f7df4a-77d8-4f12-8acd-5c60c93f4de8\t坂本龍一\t\tParolibre (Live_2009_4_15)\r\n",
      "user_000001\t2009-05-04T13:13:38Z\ta7f7df4a-77d8-4f12-8acd-5c60c93f4de8\t坂本龍一\t\tBibo No Aozora (Live_2009_4_15)\r\n"
     ]
    }
   ],
   "source": [
    "!head data/lastFM/lastfm-dataset-1K/userid-timestamp-artid-artname-traid-traname.tsv"
   ]
  },
  {
   "cell_type": "code",
   "execution_count": 478,
   "metadata": {},
   "outputs": [],
   "source": [
    "sessions_DF = None\n",
    "sessions_df = None"
   ]
  },
  {
   "cell_type": "code",
   "execution_count": 479,
   "metadata": {},
   "outputs": [],
   "source": [
    "from_pattern = 'yyyy-MM-ddTHH:mm:ssZ'\n",
    "to_pattern = 'yyyy-MM-dd'\n",
    "\n",
    "def import_session_data():\n",
    "    global sessions_DF\n",
    "    global sessions_df\n",
    "    print(\"====================================================================================================================\")\n",
    "    print(\"====================================userid-timestamp-artid-artname-traid-traname.tsv================================\")\n",
    "    print(\"==================================================================================================================\\n\\n\")\n",
    "    userSchema = StructType([\\\n",
    "        StructField('userid',  StringType(), True),\\\n",
    "        StructField('timestamp',  StringType(), True),\\\n",
    "        StructField('artid',     StringType(), True),\\\n",
    "        StructField('artname_', StringType(), True),\\\n",
    "        StructField('traid', StringType(), True),\\\n",
    "        StructField('traname_', StringType(), True)\n",
    "        ])\n",
    "    sessions = spark.read.format('csv').schema(userSchema).option(\"sep\",\"\\t\").load('/data_data/session_length/data/lastFM/lastfm-dataset-1K/userid-timestamp-artid-artname-traid-traname.tsv')\n",
    "    sessions.show(5,False)\n",
    "    #Assign window to time (using hour as window....)\n",
    "    def get_window(x):\n",
    "        return int(str(x).split(\"T\")[1].split(\":\")[0])\n",
    "    getWindow = udf(lambda timestamp:  get_window(timestamp))\n",
    "    sessions_DF = sessions.withColumn('session_date',to_date(col('timestamp'))).withColumn('session_window', getWindow(col('timestamp')))\n",
    "    sessions_DF.show(5,False)\n",
    "    #Translate artname_ to English\n",
    "    def translate_to_english(str_to_translate):\n",
    "        return gs.translate(str_to_translate, 'en')\n",
    "    func = udf(lambda str_to_translate:  translate_to_english(str_to_translate), StringType())\n",
    "    #sessions_df = sessions_DF.withColumn('artname', translate_to_english('artname_'))\n",
    "    #sessions_df[[\"artname_\"]].apply(lambda row: np.mean(row),axis=0)\n",
    "    #sessions_df[\"artname\"] = sessions_DF[\"artname_\"].apply(lambda name: translate_to_english(name),axis=0)\n",
    "    #.withColumn('traname', func(col('traname_')))\n",
    "    sessions_df = sessions_DF.rdd.map(lambda x: (x[\"artname_\"]))\n",
    "    print(sessions_df.take(5))"
   ]
  },
  {
   "cell_type": "code",
   "execution_count": null,
   "metadata": {},
   "outputs": [],
   "source": []
  },
  {
   "cell_type": "code",
   "execution_count": 480,
   "metadata": {},
   "outputs": [
    {
     "name": "stdout",
     "output_type": "stream",
     "text": [
      "====================================================================================================================\n",
      "====================================userid-timestamp-artid-artname-traid-traname.tsv================================\n",
      "==================================================================================================================\n",
      "\n",
      "\n",
      "+-----------+--------------------+------------------------------------+---------+-----+------------------------------------------+\n",
      "|userid     |timestamp           |artid                               |artname_ |traid|traname_                                  |\n",
      "+-----------+--------------------+------------------------------------+---------+-----+------------------------------------------+\n",
      "|user_000001|2009-05-04T23:08:57Z|f1b1cf71-bd35-4e99-8624-24a6e15f133a|Deep Dish|null |Fuck Me Im Famous (Pacha Ibiza)-09-28-2007|\n",
      "|user_000001|2009-05-04T13:54:10Z|a7f7df4a-77d8-4f12-8acd-5c60c93f4de8|坂本龍一     |null |Composition 0919 (Live_2009_4_15)         |\n",
      "|user_000001|2009-05-04T13:52:04Z|a7f7df4a-77d8-4f12-8acd-5c60c93f4de8|坂本龍一     |null |Mc2 (Live_2009_4_15)                      |\n",
      "|user_000001|2009-05-04T13:42:52Z|a7f7df4a-77d8-4f12-8acd-5c60c93f4de8|坂本龍一     |null |Hibari (Live_2009_4_15)                   |\n",
      "|user_000001|2009-05-04T13:42:11Z|a7f7df4a-77d8-4f12-8acd-5c60c93f4de8|坂本龍一     |null |Mc1 (Live_2009_4_15)                      |\n",
      "+-----------+--------------------+------------------------------------+---------+-----+------------------------------------------+\n",
      "only showing top 5 rows\n",
      "\n",
      "+-----------+--------------------+------------------------------------+---------+-----+------------------------------------------+------------+--------------+\n",
      "|userid     |timestamp           |artid                               |artname_ |traid|traname_                                  |session_date|session_window|\n",
      "+-----------+--------------------+------------------------------------+---------+-----+------------------------------------------+------------+--------------+\n",
      "|user_000001|2009-05-04T23:08:57Z|f1b1cf71-bd35-4e99-8624-24a6e15f133a|Deep Dish|null |Fuck Me Im Famous (Pacha Ibiza)-09-28-2007|2009-05-04  |23            |\n",
      "|user_000001|2009-05-04T13:54:10Z|a7f7df4a-77d8-4f12-8acd-5c60c93f4de8|坂本龍一     |null |Composition 0919 (Live_2009_4_15)         |2009-05-04  |13            |\n",
      "|user_000001|2009-05-04T13:52:04Z|a7f7df4a-77d8-4f12-8acd-5c60c93f4de8|坂本龍一     |null |Mc2 (Live_2009_4_15)                      |2009-05-04  |13            |\n",
      "|user_000001|2009-05-04T13:42:52Z|a7f7df4a-77d8-4f12-8acd-5c60c93f4de8|坂本龍一     |null |Hibari (Live_2009_4_15)                   |2009-05-04  |13            |\n",
      "|user_000001|2009-05-04T13:42:11Z|a7f7df4a-77d8-4f12-8acd-5c60c93f4de8|坂本龍一     |null |Mc1 (Live_2009_4_15)                      |2009-05-04  |13            |\n",
      "+-----------+--------------------+------------------------------------+---------+-----+------------------------------------------+------------+--------------+\n",
      "only showing top 5 rows\n",
      "\n",
      "[u'Deep Dish', u'\\u5742\\u672c\\u9f8d\\u4e00', u'\\u5742\\u672c\\u9f8d\\u4e00', u'\\u5742\\u672c\\u9f8d\\u4e00', u'\\u5742\\u672c\\u9f8d\\u4e00']\n"
     ]
    }
   ],
   "source": [
    "import_session_data()"
   ]
  },
  {
   "cell_type": "code",
   "execution_count": 481,
   "metadata": {},
   "outputs": [],
   "source": [
    "#from pyspark.sql.types import Row\n",
    "\n",
    "#row = Row(\"artname_\")\n",
    "#df_sessions = sessions_df.map(row).toDF()\n",
    "#schema = StructType([StructField(\"artname\", StringType(), True)])\n",
    "#df_sessions = sessions_df.toDF([\"artname\"],)\n",
    "#[gs.translate(x,'en') for x in df_sessions]\n",
    "#df_sessions = sessions_df.flatMap(gs.translate)\n",
    "#df_sessions.take(5)"
   ]
  },
  {
   "cell_type": "code",
   "execution_count": 482,
   "metadata": {},
   "outputs": [
    {
     "name": "stdout",
     "output_type": "stream",
     "text": [
      "+-----------+------+----+------------------+------------+----------+\n",
      "|     userid|gender| age|           country|  registered|  reg_date|\n",
      "+-----------+------+----+------------------+------------+----------+\n",
      "|       null|  null|null|              null|        null|      null|\n",
      "|user_000001|     m|null|             Japan|Aug 13, 2006|2006-08-13|\n",
      "|user_000002|     f|null|              Peru|Feb 24, 2006|2006-02-24|\n",
      "|user_000003|     m|  22|     United States|Oct 30, 2005|2005-10-30|\n",
      "|user_000004|     f|null|              null|Apr 26, 2006|2006-04-26|\n",
      "|user_000005|     m|null|          Bulgaria|Jun 29, 2006|2006-06-29|\n",
      "|user_000006|  null|  24|Russian Federation|May 18, 2006|2006-05-18|\n",
      "|user_000007|     f|null|     United States|Jan 22, 2006|2006-01-22|\n",
      "|user_000008|     m|  23|          Slovakia|Sep 28, 2006|2006-09-28|\n",
      "|user_000009|     f|  19|     United States|Jan 13, 2007|2007-01-13|\n",
      "|user_000010|     m|  19|            Poland| May 4, 2006|2006-05-04|\n",
      "|user_000011|     m|  21|           Finland| Sep 8, 2005|2005-09-08|\n",
      "|user_000012|     f|  28|     United States|Mar 30, 2005|2005-03-30|\n",
      "|user_000013|     f|  25|           Romania|Sep 25, 2006|2006-09-25|\n",
      "|user_000014|  null|null|              null|Jan 27, 2006|2006-01-27|\n",
      "|user_000015|  null|  21|     Cote D'Ivoire| Oct 3, 2006|2006-10-03|\n",
      "|user_000016|     m|null|    United Kingdom| Aug 5, 2005|2005-08-05|\n",
      "|user_000017|     m|  22|           Morocco|Aug 27, 2007|2007-08-27|\n",
      "|user_000018|  null|  22|    United Kingdom|Aug 26, 2005|2005-08-26|\n",
      "|user_000019|     f|  29|            Mexico|Nov 10, 2005|2005-11-10|\n",
      "+-----------+------+----+------------------+------------+----------+\n",
      "only showing top 20 rows\n",
      "\n"
     ]
    }
   ],
   "source": [
    "users_df.show()"
   ]
  },
  {
   "cell_type": "markdown",
   "metadata": {},
   "source": [
    "#### Denormalize by joining user and session databases"
   ]
  },
  {
   "cell_type": "code",
   "execution_count": 483,
   "metadata": {},
   "outputs": [
    {
     "name": "stdout",
     "output_type": "stream",
     "text": [
      "+-----------+--------------------+------------------------------------+---------------+------------------------------------+------------------------------------------+------------+--------------+------+----+-------+------------+----------+\n",
      "|userid     |timestamp           |artid                               |artname_       |traid                               |traname_                                  |session_date|session_window|gender|age |country|registered  |reg_date  |\n",
      "+-----------+--------------------+------------------------------------+---------------+------------------------------------+------------------------------------------+------------+--------------+------+----+-------+------------+----------+\n",
      "|user_000001|2009-05-04T23:08:57Z|f1b1cf71-bd35-4e99-8624-24a6e15f133a|Deep Dish      |null                                |Fuck Me Im Famous (Pacha Ibiza)-09-28-2007|2009-05-04  |23            |m     |null|Japan  |Aug 13, 2006|2006-08-13|\n",
      "|user_000001|2009-05-04T13:54:10Z|a7f7df4a-77d8-4f12-8acd-5c60c93f4de8|坂本龍一           |null                                |Composition 0919 (Live_2009_4_15)         |2009-05-04  |13            |m     |null|Japan  |Aug 13, 2006|2006-08-13|\n",
      "|user_000001|2009-05-04T13:52:04Z|a7f7df4a-77d8-4f12-8acd-5c60c93f4de8|坂本龍一           |null                                |Mc2 (Live_2009_4_15)                      |2009-05-04  |13            |m     |null|Japan  |Aug 13, 2006|2006-08-13|\n",
      "|user_000001|2009-05-04T13:42:52Z|a7f7df4a-77d8-4f12-8acd-5c60c93f4de8|坂本龍一           |null                                |Hibari (Live_2009_4_15)                   |2009-05-04  |13            |m     |null|Japan  |Aug 13, 2006|2006-08-13|\n",
      "|user_000001|2009-05-04T13:42:11Z|a7f7df4a-77d8-4f12-8acd-5c60c93f4de8|坂本龍一           |null                                |Mc1 (Live_2009_4_15)                      |2009-05-04  |13            |m     |null|Japan  |Aug 13, 2006|2006-08-13|\n",
      "|user_000001|2009-05-04T13:38:31Z|a7f7df4a-77d8-4f12-8acd-5c60c93f4de8|坂本龍一           |null                                |To Stanford (Live_2009_4_15)              |2009-05-04  |13            |m     |null|Japan  |Aug 13, 2006|2006-08-13|\n",
      "|user_000001|2009-05-04T13:33:28Z|a7f7df4a-77d8-4f12-8acd-5c60c93f4de8|坂本龍一           |null                                |Improvisation (Live_2009_4_15)            |2009-05-04  |13            |m     |null|Japan  |Aug 13, 2006|2006-08-13|\n",
      "|user_000001|2009-05-04T13:23:45Z|a7f7df4a-77d8-4f12-8acd-5c60c93f4de8|坂本龍一           |null                                |Glacier (Live_2009_4_15)                  |2009-05-04  |13            |m     |null|Japan  |Aug 13, 2006|2006-08-13|\n",
      "|user_000001|2009-05-04T13:19:22Z|a7f7df4a-77d8-4f12-8acd-5c60c93f4de8|坂本龍一           |null                                |Parolibre (Live_2009_4_15)                |2009-05-04  |13            |m     |null|Japan  |Aug 13, 2006|2006-08-13|\n",
      "|user_000001|2009-05-04T13:13:38Z|a7f7df4a-77d8-4f12-8acd-5c60c93f4de8|坂本龍一           |null                                |Bibo No Aozora (Live_2009_4_15)           |2009-05-04  |13            |m     |null|Japan  |Aug 13, 2006|2006-08-13|\n",
      "|user_000001|2009-05-04T13:06:09Z|a7f7df4a-77d8-4f12-8acd-5c60c93f4de8|坂本龍一           |f7c1f8f8-b935-45ed-8fc8-7def69d92a10|The Last Emperor (Theme)                  |2009-05-04  |13            |m     |null|Japan  |Aug 13, 2006|2006-08-13|\n",
      "|user_000001|2009-05-04T13:00:48Z|a7f7df4a-77d8-4f12-8acd-5c60c93f4de8|坂本龍一           |null                                |Happyend (Live_2009_4_15)                 |2009-05-04  |13            |m     |null|Japan  |Aug 13, 2006|2006-08-13|\n",
      "|user_000001|2009-05-04T12:55:34Z|a7f7df4a-77d8-4f12-8acd-5c60c93f4de8|坂本龍一           |475d4e50-cebb-4cd0-8cd4-c3df97987962|Tibetan Dance (Version)                   |2009-05-04  |12            |m     |null|Japan  |Aug 13, 2006|2006-08-13|\n",
      "|user_000001|2009-05-04T12:51:26Z|a7f7df4a-77d8-4f12-8acd-5c60c93f4de8|坂本龍一           |null                                |Behind The Mask (Live_2009_4_15)          |2009-05-04  |12            |m     |null|Japan  |Aug 13, 2006|2006-08-13|\n",
      "|user_000001|2009-05-03T15:48:25Z|ba2f4f3b-0293-4bc8-bb94-2f73b5207343|Underworld     |dc394163-2b78-4b56-94e4-658597a29ef8|Boy, Boy, Boy (Switch Remix)              |2009-05-03  |15            |m     |null|Japan  |Aug 13, 2006|2006-08-13|\n",
      "|user_000001|2009-05-03T15:37:56Z|ba2f4f3b-0293-4bc8-bb94-2f73b5207343|Underworld     |340d9a0b-9a43-4098-b116-9f79811bd508|Crocodile (Innervisions Orchestra Mix)    |2009-05-03  |15            |m     |null|Japan  |Aug 13, 2006|2006-08-13|\n",
      "|user_000001|2009-05-03T15:14:53Z|a16e47f5-aa54-47fe-87e4-bb8af91a9fdd|Ennio Morricone|0b04407b-f517-4e00-9e6a-494795efc73e|Ninna Nanna In Blu (Raw Deal Remix)       |2009-05-03  |15            |m     |null|Japan  |Aug 13, 2006|2006-08-13|\n",
      "|user_000001|2009-05-03T15:10:18Z|463a94f1-2713-40b1-9c88-dcc9c0170cae|Minus 8        |4e78efc4-e545-47af-9617-05ff816d86e2|Elysian Fields                            |2009-05-03  |15            |m     |null|Japan  |Aug 13, 2006|2006-08-13|\n",
      "|user_000001|2009-05-03T15:04:31Z|ad0811ea-e213-451d-b22f-fa1a7f9e0226|Beanfield      |fb51d2c4-cc69-4128-92f5-77ec38d66859|Planetary Deadlock                        |2009-05-03  |15            |m     |null|Japan  |Aug 13, 2006|2006-08-13|\n",
      "|user_000001|2009-05-03T14:56:25Z|309e2dfc-678e-4d09-a7a4-8eab9525b669|Dj Linus       |4277434f-e3c2-41ae-9ce3-23fd157f9347|Good Morning Love Coffee Is Ready         |2009-05-03  |14            |m     |null|Japan  |Aug 13, 2006|2006-08-13|\n",
      "+-----------+--------------------+------------------------------------+---------------+------------------------------------+------------------------------------------+------------+--------------+------+----+-------+------------+----------+\n",
      "only showing top 20 rows\n",
      "\n"
     ]
    }
   ],
   "source": [
    "users_df = users_df.withColumnRenamed('userid','user_id')\n",
    "u = users_df.alias('u')\n",
    "s = sessions_DF.alias('s')\n",
    "join_condition = [ (u.user_id == s.userid) ]\n",
    "sessionsDF = s.join(u, join_condition, 'inner').drop('user_id')\n",
    "sessionsDF.show(20,False)"
   ]
  },
  {
   "cell_type": "markdown",
   "metadata": {},
   "source": [
    "#### Safe as TSV file for Time Series analysis"
   ]
  },
  {
   "cell_type": "markdown",
   "metadata": {},
   "source": [
    "#### Uncomment if you want a fresh copy of the file"
   ]
  },
  {
   "cell_type": "code",
   "execution_count": 484,
   "metadata": {},
   "outputs": [],
   "source": [
    "#!rm -R /data_data/session_length/data/tmp\n",
    "#sessionsDF.coalesce(1).write.option(\"delimiter\", \"\\t\").csv('/data_data/session_length/data/tmp', header=\"True\")\n",
    "#!mv /data_data/session_length/data/tmp/part-* /data_data/session_length/data/Session_data.csv"
   ]
  },
  {
   "cell_type": "code",
   "execution_count": 485,
   "metadata": {},
   "outputs": [
    {
     "name": "stdout",
     "output_type": "stream",
     "text": [
      "userid\ttimestamp\tartid\tartname_\ttraid\ttraname_\tsession_window\tgender\tage\tcountry\tregistered\treg_date\r\n",
      "user_000001\t2009-05-04T23:08:57Z\tf1b1cf71-bd35-4e99-8624-24a6e15f133a\tDeep Dish\t\tFuck Me Im Famous (Pacha Ibiza)-09-28-2007\t23\tm\t\tJapan\tAug 13, 2006\t2006-08-13\r\n",
      "user_000001\t2009-05-04T13:54:10Z\ta7f7df4a-77d8-4f12-8acd-5c60c93f4de8\t坂本龍一\t\tComposition 0919 (Live_2009_4_15)\t13\tm\t\tJapan\tAug 13, 2006\t2006-08-13\r\n",
      "user_000001\t2009-05-04T13:52:04Z\ta7f7df4a-77d8-4f12-8acd-5c60c93f4de8\t坂本龍一\t\tMc2 (Live_2009_4_15)\t13\tm\t\tJapan\tAug 13, 2006\t2006-08-13\r\n",
      "user_000001\t2009-05-04T13:42:52Z\ta7f7df4a-77d8-4f12-8acd-5c60c93f4de8\t坂本龍一\t\tHibari (Live_2009_4_15)\t13\tm\t\tJapan\tAug 13, 2006\t2006-08-13\r\n",
      "user_000001\t2009-05-04T13:42:11Z\ta7f7df4a-77d8-4f12-8acd-5c60c93f4de8\t坂本龍一\t\tMc1 (Live_2009_4_15)\t13\tm\t\tJapan\tAug 13, 2006\t2006-08-13\r\n",
      "user_000001\t2009-05-04T13:38:31Z\ta7f7df4a-77d8-4f12-8acd-5c60c93f4de8\t坂本龍一\t\tTo Stanford (Live_2009_4_15)\t13\tm\t\tJapan\tAug 13, 2006\t2006-08-13\r\n",
      "user_000001\t2009-05-04T13:33:28Z\ta7f7df4a-77d8-4f12-8acd-5c60c93f4de8\t坂本龍一\t\tImprovisation (Live_2009_4_15)\t13\tm\t\tJapan\tAug 13, 2006\t2006-08-13\r\n",
      "user_000001\t2009-05-04T13:23:45Z\ta7f7df4a-77d8-4f12-8acd-5c60c93f4de8\t坂本龍一\t\tGlacier (Live_2009_4_15)\t13\tm\t\tJapan\tAug 13, 2006\t2006-08-13\r\n",
      "user_000001\t2009-05-04T13:19:22Z\ta7f7df4a-77d8-4f12-8acd-5c60c93f4de8\t坂本龍一\t\tParolibre (Live_2009_4_15)\t13\tm\t\tJapan\tAug 13, 2006\t2006-08-13\r\n"
     ]
    }
   ],
   "source": [
    "!head /data_data/session_length/data/Session_data.csv"
   ]
  },
  {
   "cell_type": "code",
   "execution_count": null,
   "metadata": {},
   "outputs": [],
   "source": []
  },
  {
   "cell_type": "code",
   "execution_count": null,
   "metadata": {},
   "outputs": [],
   "source": []
  },
  {
   "cell_type": "code",
   "execution_count": null,
   "metadata": {},
   "outputs": [],
   "source": []
  },
  {
   "cell_type": "code",
   "execution_count": null,
   "metadata": {},
   "outputs": [],
   "source": []
  },
  {
   "cell_type": "code",
   "execution_count": null,
   "metadata": {},
   "outputs": [],
   "source": []
  },
  {
   "cell_type": "markdown",
   "metadata": {},
   "source": [
    "### Get Local time by converting from UTC to Local [WORK IN PROGRESS]"
   ]
  },
  {
   "cell_type": "code",
   "execution_count": 487,
   "metadata": {},
   "outputs": [],
   "source": [
    "from dateutil import tz\n",
    "import pytz"
   ]
  },
  {
   "cell_type": "code",
   "execution_count": null,
   "metadata": {},
   "outputs": [],
   "source": [
    "\n"
   ]
  },
  {
   "cell_type": "markdown",
   "metadata": {},
   "source": [
    "### Use countryInfo from here: https://gist.githubusercontent.com/pamelafox/986163/raw/f5f9db4f1b287804fd07ffb3296ed0036292bc7a/countryinfo.py"
   ]
  },
  {
   "cell_type": "code",
   "execution_count": 488,
   "metadata": {},
   "outputs": [],
   "source": [
    "countries_info = [\n",
    "{'timezones': ['Europe/Andorra'], 'code': 'AD', 'continent': 'Europe', 'name': 'Andorra', 'capital': 'Andorra la Vella'},\n",
    "{'timezones': ['Asia/Kabul'], 'code': 'AF', 'continent': 'Asia', 'name': 'Afghanistan', 'capital': 'Kabul'},\n",
    "{'timezones': ['America/Antigua'], 'code': 'AG', 'continent': 'North America', 'name': 'Antigua and Barbuda', 'capital': \"St. John's\"},\n",
    "{'timezones': ['Europe/Tirane'], 'code': 'AL', 'continent': 'Europe', 'name': 'Albania', 'capital': 'Tirana'},\n",
    "{'timezones': ['Asia/Yerevan'], 'code': 'AM', 'continent': 'Asia', 'name': 'Armenia', 'capital': 'Yerevan'},\n",
    "{'timezones': ['Africa/Luanda'], 'code': 'AO', 'continent': 'Africa', 'name': 'Angola', 'capital': 'Luanda'},\n",
    "{'timezones': ['America/Argentina/Buenos_Aires', 'America/Argentina/Cordoba', 'America/Argentina/Jujuy', 'America/Argentina/Tucuman', 'America/Argentina/Catamarca', 'America/Argentina/La_Rioja', 'America/Argentina/San_Juan', 'America/Argentina/Mendoza', 'America/Argentina/Rio_Gallegos', 'America/Argentina/Ushuaia'], 'code': 'AR', 'continent': 'South America', 'name': 'Argentina', 'capital': 'Buenos Aires'},\n",
    "{'timezones': ['Europe/Vienna'], 'code': 'AT', 'continent': 'Europe', 'name': 'Austria', 'capital': 'Vienna'},\n",
    "{'timezones': ['Australia/Lord_Howe', 'Australia/Hobart', 'Australia/Currie', 'Australia/Melbourne', 'Australia/Sydney', 'Australia/Broken_Hill', 'Australia/Brisbane', 'Australia/Lindeman', 'Australia/Adelaide', 'Australia/Darwin', 'Australia/Perth'], 'code': 'AU', 'continent': 'Oceania', 'name': 'Australia', 'capital': 'Canberra'},\n",
    "{'timezones': ['Asia/Baku'], 'code': 'AZ', 'continent': 'Asia', 'name': 'Azerbaijan', 'capital': 'Baku'},\n",
    "{'timezones': ['America/Barbados'], 'code': 'BB', 'continent': 'North America', 'name': 'Barbados', 'capital': 'Bridgetown'},\n",
    "{'timezones': ['Asia/Dhaka'], 'code': 'BD', 'continent': 'Asia', 'name': 'Bangladesh', 'capital': 'Dhaka'},\n",
    "{'timezones': ['Europe/Brussels'], 'code': 'BE', 'continent': 'Europe', 'name': 'Belgium', 'capital': 'Brussels'},\n",
    "{'timezones': ['Africa/Ouagadougou'], 'code': 'BF', 'continent': 'Africa', 'name': 'Burkina Faso', 'capital': 'Ouagadougou'},\n",
    "{'timezones': ['Europe/Sofia'], 'code': 'BG', 'continent': 'Europe', 'name': 'Bulgaria', 'capital': 'Sofia'},\n",
    "{'timezones': ['Asia/Bahrain'], 'code': 'BH', 'continent': 'Asia', 'name': 'Bahrain', 'capital': 'Manama'},\n",
    "{'timezones': ['Africa/Bujumbura'], 'code': 'BI', 'continent': 'Africa', 'name': 'Burundi', 'capital': 'Bujumbura'},\n",
    "{'timezones': ['Africa/Porto-Novo'], 'code': 'BJ', 'continent': 'Africa', 'name': 'Benin', 'capital': 'Porto-Novo'},\n",
    "{'timezones': ['Asia/Brunei'], 'code': 'BN', 'continent': 'Asia', 'name': 'Brunei Darussalam', 'capital': 'Bandar Seri Begawan'},\n",
    "{'timezones': ['America/La_Paz'], 'code': 'BO', 'continent': 'South America', 'name': 'Bolivia', 'capital': 'Sucre'},\n",
    "{'timezones': ['America/Noronha', 'America/Belem', 'America/Fortaleza', 'America/Recife', 'America/Araguaina', 'America/Maceio', 'America/Bahia', 'America/Sao_Paulo', 'America/Campo_Grande', 'America/Cuiaba', 'America/Porto_Velho', 'America/Boa_Vista', 'America/Manaus', 'America/Eirunepe', 'America/Rio_Branco'], 'code': 'BR', 'continent': 'South America', 'name': 'Brazil', 'capital': 'Bras\\xc3\\xadlia'},\n",
    "{'timezones': ['America/Nassau'], 'code': 'BS', 'continent': 'North America', 'name': 'Bahamas', 'capital': 'Nassau'},\n",
    "{'timezones': ['Asia/Thimphu'], 'code': 'BT', 'continent': 'Asia', 'name': 'Bhutan', 'capital': 'Thimphu'},\n",
    "{'timezones': ['Africa/Gaborone'], 'code': 'BW', 'continent': 'Africa', 'name': 'Botswana', 'capital': 'Gaborone'},\n",
    "{'timezones': ['Europe/Minsk'], 'code': 'BY', 'continent': 'Europe', 'name': 'Belarus', 'capital': 'Minsk'},\n",
    "{'timezones': ['America/Belize'], 'code': 'BZ', 'continent': 'North America', 'name': 'Belize', 'capital': 'Belmopan'},\n",
    "{'timezones': ['America/St_Johns', 'America/Halifax', 'America/Glace_Bay', 'America/Moncton', 'America/Goose_Bay', 'America/Blanc-Sablon', 'America/Montreal', 'America/Toronto', 'America/Nipigon', 'America/Thunder_Bay', 'America/Pangnirtung', 'America/Iqaluit', 'America/Atikokan', 'America/Rankin_Inlet', 'America/Winnipeg', 'America/Rainy_River', 'America/Cambridge_Bay', 'America/Regina', 'America/Swift_Current', 'America/Edmonton', 'America/Yellowknife', 'America/Inuvik', 'America/Dawson_Creek', 'America/Vancouver', 'America/Whitehorse', 'America/Dawson'], 'code': 'CA', 'continent': 'North America', 'name': 'Canada', 'capital': 'Ottawa'},\n",
    "{'timezones': ['Africa/Kinshasa', 'Africa/Lubumbashi'], 'code': 'CD', 'continent': 'Africa', 'name': 'Democratic Republic of the Congo', 'capital': 'Kinshasa'},\n",
    "{'timezones': ['Africa/Brazzaville'], 'code': 'CG', 'continent': 'Africa', 'name': 'Republic of the Congo', 'capital': 'Brazzaville'},\n",
    "{'timezones': ['Africa/Abidjan'], 'code': 'CI', 'continent': 'Africa', 'name': \"C\\xc3\\xb4te d'Ivoire\", 'capital': 'Yamoussoukro'},\n",
    "{'timezones': ['America/Santiago', 'Pacific/Easter'], 'code': 'CL', 'continent': 'South America', 'name': 'Chile', 'capital': 'Santiago'},\n",
    "{'timezones': ['Africa/Douala'], 'code': 'CM', 'continent': 'Africa', 'name': 'Cameroon', 'capital': 'Yaound\\xc3\\xa9'},\n",
    "{'timezones': ['Asia/Shanghai', 'Asia/Harbin', 'Asia/Chongqing', 'Asia/Urumqi', 'Asia/Kashgar'], 'code': 'CN', 'continent': 'Asia', 'name': \"People's Republic of China\", 'capital': 'Beijing'},\n",
    "{'timezones': ['America/Bogota'], 'code': 'CO', 'continent': 'South America', 'name': 'Colombia', 'capital': 'Bogot\\xc3\\xa1'},\n",
    "{'timezones': ['America/Costa_Rica'], 'code': 'CR', 'continent': 'North America', 'name': 'Costa Rica', 'capital': 'San Jos\\xc3\\xa9'},\n",
    "{'timezones': ['America/Havana'], 'code': 'CU', 'continent': 'North America', 'name': 'Cuba', 'capital': 'Havana'},\n",
    "{'timezones': ['Atlantic/Cape_Verde'], 'code': 'CV', 'continent': 'Africa', 'name': 'Cape Verde', 'capital': 'Praia'},\n",
    "{'timezones': ['Asia/Nicosia'], 'code': 'CY', 'continent': 'Asia', 'name': 'Cyprus', 'capital': 'Nicosia'},\n",
    "{'timezones': ['Europe/Prague'], 'code': 'CZ', 'continent': 'Europe', 'name': 'Czech Republic', 'capital': 'Prague'},\n",
    "{'timezones': ['Europe/Berlin'], 'code': 'DE', 'continent': 'Europe', 'name': 'Germany', 'capital': 'Berlin'},\n",
    "{'timezones': ['Africa/Djibouti'], 'code': 'DJ', 'continent': 'Africa', 'name': 'Djibouti', 'capital': 'Djibouti City'},\n",
    "{'timezones': ['Europe/Copenhagen'], 'code': 'DK', 'continent': 'Europe', 'name': 'Denmark', 'capital': 'Copenhagen'},\n",
    "{'timezones': ['America/Dominica'], 'code': 'DM', 'continent': 'North America', 'name': 'Dominica', 'capital': 'Roseau'},\n",
    "{'timezones': ['America/Santo_Domingo'], 'code': 'DO', 'continent': 'North America', 'name': 'Dominican Republic', 'capital': 'Santo Domingo'},\n",
    "{'timezones': ['America/Guayaquil', 'Pacific/Galapagos'], 'code': 'EC', 'continent': 'South America', 'name': 'Ecuador', 'capital': 'Quito'},\n",
    "{'timezones': ['Europe/Tallinn'], 'code': 'EE', 'continent': 'Europe', 'name': 'Estonia', 'capital': 'Tallinn'},\n",
    "{'timezones': ['Africa/Cairo'], 'code': 'EG', 'continent': 'Africa', 'name': 'Egypt', 'capital': 'Cairo'},\n",
    "{'timezones': ['Africa/Asmera'], 'code': 'ER', 'continent': 'Africa', 'name': 'Eritrea', 'capital': 'Asmara'},\n",
    "{'timezones': ['Africa/Addis_Ababa'], 'code': 'ET', 'continent': 'Africa', 'name': 'Ethiopia', 'capital': 'Addis Ababa'},\n",
    "{'timezones': ['Europe/Helsinki'], 'code': 'FI', 'continent': 'Europe', 'name': 'Finland', 'capital': 'Helsinki'},\n",
    "{'timezones': ['Pacific/Fiji'], 'code': 'FJ', 'continent': 'Oceania', 'name': 'Fiji', 'capital': 'Suva'},\n",
    "{'timezones': ['Europe/Paris'], 'code': 'FR', 'continent': 'Europe', 'name': 'France', 'capital': 'Paris'},\n",
    "{'timezones': ['Africa/Libreville'], 'code': 'GA', 'continent': 'Africa', 'name': 'Gabon', 'capital': 'Libreville'},\n",
    "{'timezones': ['Asia/Tbilisi'], 'code': 'GE', 'continent': 'Asia', 'name': 'Georgia', 'capital': 'Tbilisi'},\n",
    "{'timezones': ['Africa/Accra'], 'code': 'GH', 'continent': 'Africa', 'name': 'Ghana', 'capital': 'Accra'},\n",
    "{'timezones': ['Africa/Banjul'], 'code': 'GM', 'continent': 'Africa', 'name': 'The Gambia', 'capital': 'Banjul'},\n",
    "{'timezones': ['Africa/Conakry'], 'code': 'GN', 'continent': 'Africa', 'name': 'Guinea', 'capital': 'Conakry'},\n",
    "{'timezones': ['Europe/Athens'], 'code': 'GR', 'continent': 'Europe', 'name': 'Greece', 'capital': 'Athens'},\n",
    "{'timezones': ['America/Guatemala'], 'code': 'GT', 'continent': 'North America', 'name': 'Guatemala', 'capital': 'Guatemala City'},\n",
    "{'timezones': ['America/Guatemala'], 'code': 'GT', 'continent': 'North America', 'name': 'Haiti', 'capital': 'Port-au-Prince'},\n",
    "{'timezones': ['Africa/Bissau'], 'code': 'GW', 'continent': 'Africa', 'name': 'Guinea-Bissau', 'capital': 'Bissau'},\n",
    "{'timezones': ['America/Guyana'], 'code': 'GY', 'continent': 'South America', 'name': 'Guyana', 'capital': 'Georgetown'},\n",
    "{'timezones': ['America/Tegucigalpa'], 'code': 'HN', 'continent': 'North America', 'name': 'Honduras', 'capital': 'Tegucigalpa'},\n",
    "{'timezones': ['Europe/Budapest'], 'code': 'HU', 'continent': 'Europe', 'name': 'Hungary', 'capital': 'Budapest'},\n",
    "{'timezones': ['Asia/Jakarta', 'Asia/Pontianak', 'Asia/Makassar', 'Asia/Jayapura'], 'code': 'ID', 'continent': 'Asia', 'name': 'Indonesia', 'capital': 'Jakarta'},\n",
    "{'timezones': ['Europe/Dublin'], 'code': 'IE', 'continent': 'Europe', 'name': 'Republic of Ireland', 'capital': 'Dublin'},\n",
    "{'timezones': ['Asia/Jerusalem'], 'code': 'IL', 'continent': 'Asia', 'name': 'Israel', 'capital': 'Jerusalem'},\n",
    "{'timezones': ['Asia/Calcutta'], 'code': 'IN', 'continent': 'Asia', 'name': 'India', 'capital': 'New Delhi'},\n",
    "{'timezones': ['Asia/Baghdad'], 'code': 'IQ', 'continent': 'Asia', 'name': 'Iraq', 'capital': 'Baghdad'},\n",
    "{'timezones': ['Asia/Tehran'], 'code': 'IR', 'continent': 'Asia', 'name': 'Iran', 'capital': 'Tehran'},\n",
    "{'timezones': ['Atlantic/Reykjavik'], 'code': 'IS', 'continent': 'Europe', 'name': 'Iceland', 'capital': 'Reykjav\\xc3\\xadk'},\n",
    "{'timezones': ['Europe/Rome'], 'code': 'IT', 'continent': 'Europe', 'name': 'Italy', 'capital': 'Rome'},\n",
    "{'timezones': ['America/Jamaica'], 'code': 'JM', 'continent': 'North America', 'name': 'Jamaica', 'capital': 'Kingston'},\n",
    "{'timezones': ['Asia/Amman'], 'code': 'JO', 'continent': 'Asia', 'name': 'Jordan', 'capital': 'Amman'},\n",
    "{'timezones': ['Asia/Tokyo'], 'code': 'JP', 'continent': 'Asia', 'name': 'Japan', 'capital': 'Tokyo'},\n",
    "{'timezones': ['Africa/Nairobi'], 'code': 'KE', 'continent': 'Africa', 'name': 'Kenya', 'capital': 'Nairobi'},\n",
    "{'timezones': ['Asia/Bishkek'], 'code': 'KG', 'continent': 'Asia', 'name': 'Kyrgyzstan', 'capital': 'Bishkek'},\n",
    "{'timezones': ['Pacific/Tarawa', 'Pacific/Enderbury', 'Pacific/Kiritimati'], 'code': 'KI', 'continent': 'Oceania', 'name': 'Kiribati', 'capital': 'Tarawa'},\n",
    "{'timezones': ['Asia/Pyongyang'], 'code': 'KP', 'continent': 'Asia', 'name': 'North Korea', 'capital': 'Pyongyang'},\n",
    "{'timezones': ['Asia/Seoul'], 'code': 'KR', 'continent': 'Asia', 'name': 'South Korea', 'capital': 'Seoul'},\n",
    "{'timezones': ['Asia/Kuwait'], 'code': 'KW', 'continent': 'Asia', 'name': 'Kuwait', 'capital': 'Kuwait City'},\n",
    "{'timezones': ['Asia/Beirut'], 'code': 'LB', 'continent': 'Asia', 'name': 'Lebanon', 'capital': 'Beirut'},\n",
    "{'timezones': ['Europe/Vaduz'], 'code': 'LI', 'continent': 'Europe', 'name': 'Liechtenstein', 'capital': 'Vaduz'},\n",
    "{'timezones': ['Africa/Monrovia'], 'code': 'LR', 'continent': 'Africa', 'name': 'Liberia', 'capital': 'Monrovia'},\n",
    "{'timezones': ['Africa/Maseru'], 'code': 'LS', 'continent': 'Africa', 'name': 'Lesotho', 'capital': 'Maseru'},\n",
    "{'timezones': ['Europe/Vilnius'], 'code': 'LT', 'continent': 'Europe', 'name': 'Lithuania', 'capital': 'Vilnius'},\n",
    "{'timezones': ['Europe/Luxembourg'], 'code': 'LU', 'continent': 'Europe', 'name': 'Luxembourg', 'capital': 'Luxembourg City'},\n",
    "{'timezones': ['Europe/Riga'], 'code': 'LV', 'continent': 'Europe', 'name': 'Latvia', 'capital': 'Riga'},\n",
    "{'timezones': ['Africa/Tripoli'], 'code': 'LY', 'continent': 'Africa', 'name': 'Libya', 'capital': 'Tripoli'},\n",
    "{'timezones': ['Indian/Antananarivo'], 'code': 'MG', 'continent': 'Africa', 'name': 'Madagascar', 'capital': 'Antananarivo'},\n",
    "{'timezones': ['Pacific/Majuro', 'Pacific/Kwajalein'], 'code': 'MH', 'continent': 'Oceania', 'name': 'Marshall Islands', 'capital': 'Majuro'},\n",
    "{'timezones': ['Europe/Skopje'], 'code': 'MK', 'continent': 'Europe', 'name': 'Macedonia', 'capital': 'Skopje'},\n",
    "{'timezones': ['Africa/Bamako'], 'code': 'ML', 'continent': 'Africa', 'name': 'Mali', 'capital': 'Bamako'},\n",
    "{'timezones': ['Asia/Rangoon'], 'code': 'MM', 'continent': 'Asia', 'name': 'Myanmar', 'capital': 'Naypyidaw'},\n",
    "{'timezones': ['Asia/Ulaanbaatar', 'Asia/Hovd', 'Asia/Choibalsan'], 'code': 'MN', 'continent': 'Asia', 'name': 'Mongolia', 'capital': 'Ulaanbaatar'},\n",
    "{'timezones': ['Africa/Nouakchott'], 'code': 'MR', 'continent': 'Africa', 'name': 'Mauritania', 'capital': 'Nouakchott'},\n",
    "{'timezones': ['Europe/Malta'], 'code': 'MT', 'continent': 'Europe', 'name': 'Malta', 'capital': 'Valletta'},\n",
    "{'timezones': ['Indian/Mauritius'], 'code': 'MU', 'continent': 'Africa', 'name': 'Mauritius', 'capital': 'Port Louis'},\n",
    "{'timezones': ['Indian/Maldives'], 'code': 'MV', 'continent': 'Asia', 'name': 'Maldives', 'capital': 'Mal\\xc3\\xa9'},\n",
    "{'timezones': ['Africa/Blantyre'], 'code': 'MW', 'continent': 'Africa', 'name': 'Malawi', 'capital': 'Lilongwe'},\n",
    "{'timezones': ['America/Mexico_City', 'America/Cancun', 'America/Merida', 'America/Monterrey', 'America/Mazatlan', 'America/Chihuahua', 'America/Hermosillo', 'America/Tijuana'], 'code': 'MX', 'continent': 'North America', 'name': 'Mexico', 'capital': 'Mexico City'},\n",
    "{'timezones': ['Asia/Kuala_Lumpur', 'Asia/Kuching'], 'code': 'MY', 'continent': 'Asia', 'name': 'Malaysia', 'capital': 'Kuala Lumpur'},\n",
    "{'timezones': ['Africa/Maputo'], 'code': 'MZ', 'continent': 'Africa', 'name': 'Mozambique', 'capital': 'Maputo'},\n",
    "{'timezones': ['Africa/Windhoek'], 'code': 'NA', 'continent': 'Africa', 'name': 'Namibia', 'capital': 'Windhoek'},\n",
    "{'timezones': ['Africa/Niamey'], 'code': 'NE', 'continent': 'Africa', 'name': 'Niger', 'capital': 'Niamey'},\n",
    "{'timezones': ['Africa/Lagos'], 'code': 'NG', 'continent': 'Africa', 'name': 'Nigeria', 'capital': 'Abuja'},\n",
    "{'timezones': ['America/Managua'], 'code': 'NI', 'continent': 'North America', 'name': 'Nicaragua', 'capital': 'Managua'},\n",
    "{'timezones': ['Europe/Amsterdam'], 'code': 'NL', 'continent': 'Europe', 'name': 'Kingdom of the Netherlands', 'capital': 'Amsterdam'},\n",
    "{'timezones': ['Europe/Oslo'], 'code': 'NO', 'continent': 'Europe', 'name': 'Norway', 'capital': 'Oslo'},\n",
    "{'timezones': ['Asia/Katmandu'], 'code': 'NP', 'continent': 'Asia', 'name': 'Nepal', 'capital': 'Kathmandu'},\n",
    "{'timezones': ['Pacific/Nauru'], 'code': 'NR', 'continent': 'Oceania', 'name': 'Nauru', 'capital': 'Yaren'},\n",
    "{'timezones': ['Pacific/Auckland', 'Pacific/Chatham'], 'code': 'NZ', 'continent': 'Oceania', 'name': 'New Zealand', 'capital': 'Wellington'},\n",
    "{'timezones': ['Asia/Muscat'], 'code': 'OM', 'continent': 'Asia', 'name': 'Oman', 'capital': 'Muscat'},\n",
    "{'timezones': ['America/Panama'], 'code': 'PA', 'continent': 'North America', 'name': 'Panama', 'capital': 'Panama City'},\n",
    "{'timezones': ['America/Lima'], 'code': 'PE', 'continent': 'South America', 'name': 'Peru', 'capital': 'Lima'},\n",
    "{'timezones': ['Pacific/Port_Moresby'], 'code': 'PG', 'continent': 'Oceania', 'name': 'Papua New Guinea', 'capital': 'Port Moresby'},\n",
    "{'timezones': ['Asia/Manila'], 'code': 'PH', 'continent': 'Asia', 'name': 'Philippines', 'capital': 'Manila'},\n",
    "{'timezones': ['Asia/Karachi'], 'code': 'PK', 'continent': 'Asia', 'name': 'Pakistan', 'capital': 'Islamabad'},\n",
    "{'timezones': ['Europe/Warsaw'], 'code': 'PL', 'continent': 'Europe', 'name': 'Poland', 'capital': 'Warsaw'},\n",
    "{'timezones': ['Europe/Lisbon', 'Atlantic/Madeira', 'Atlantic/Azores'], 'code': 'PT', 'continent': 'Europe', 'name': 'Portugal', 'capital': 'Lisbon'},\n",
    "{'timezones': ['Pacific/Palau'], 'code': 'PW', 'continent': 'Oceania', 'name': 'Palau', 'capital': 'Ngerulmud'},\n",
    "{'timezones': ['America/Asuncion'], 'code': 'PY', 'continent': 'South America', 'name': 'Paraguay', 'capital': 'Asunci\\xc3\\xb3n'},\n",
    "{'timezones': ['Asia/Qatar'], 'code': 'QA', 'continent': 'Asia', 'name': 'Qatar', 'capital': 'Doha'},\n",
    "{'timezones': ['Europe/Bucharest'], 'code': 'RO', 'continent': 'Europe', 'name': 'Romania', 'capital': 'Bucharest'},\n",
    "{'timezones': ['Europe/Kaliningrad', 'Europe/Moscow', 'Europe/Volgograd', 'Europe/Samara', 'Asia/Yekaterinburg', 'Asia/Omsk', 'Asia/Novosibirsk', 'Asia/Krasnoyarsk', 'Asia/Irkutsk', 'Asia/Yakutsk', 'Asia/Vladivostok', 'Asia/Sakhalin', 'Asia/Magadan', 'Asia/Kamchatka', 'Asia/Anadyr'], 'code': 'RU', 'continent': 'Europe', 'name': 'Russia', 'capital': 'Moscow'},\n",
    "{'timezones': ['Africa/Kigali'], 'code': 'RW', 'continent': 'Africa', 'name': 'Rwanda', 'capital': 'Kigali'},\n",
    "{'timezones': ['Asia/Riyadh'], 'code': 'SA', 'continent': 'Asia', 'name': 'Saudi Arabia', 'capital': 'Riyadh'},\n",
    "{'timezones': ['Pacific/Guadalcanal'], 'code': 'SB', 'continent': 'Oceania', 'name': 'Solomon Islands', 'capital': 'Honiara'},\n",
    "{'timezones': ['Indian/Mahe'], 'code': 'SC', 'continent': 'Africa', 'name': 'Seychelles', 'capital': 'Victoria'},\n",
    "{'timezones': ['Africa/Khartoum'], 'code': 'SD', 'continent': 'Africa', 'name': 'Sudan', 'capital': 'Khartoum'},\n",
    "{'timezones': ['Europe/Stockholm'], 'code': 'SE', 'continent': 'Europe', 'name': 'Sweden', 'capital': 'Stockholm'},\n",
    "{'timezones': ['Asia/Singapore'], 'code': 'SG', 'continent': 'Asia', 'name': 'Singapore', 'capital': 'Singapore'},\n",
    "{'timezones': ['Europe/Ljubljana'], 'code': 'SI', 'continent': 'Europe', 'name': 'Slovenia', 'capital': 'Ljubljana'},\n",
    "{'timezones': ['Europe/Bratislava'], 'code': 'SK', 'continent': 'Europe', 'name': 'Slovakia', 'capital': 'Bratislava'},\n",
    "{'timezones': ['Africa/Freetown'], 'code': 'SL', 'continent': 'Africa', 'name': 'Sierra Leone', 'capital': 'Freetown'},\n",
    "{'timezones': ['Europe/San_Marino'], 'code': 'SM', 'continent': 'Europe', 'name': 'San Marino', 'capital': 'San Marino'},\n",
    "{'timezones': ['Africa/Dakar'], 'code': 'SN', 'continent': 'Africa', 'name': 'Senegal', 'capital': 'Dakar'},\n",
    "{'timezones': ['Africa/Mogadishu'], 'code': 'SO', 'continent': 'Africa', 'name': 'Somalia', 'capital': 'Mogadishu'},\n",
    "{'timezones': ['America/Paramaribo'], 'code': 'SR', 'continent': 'South America', 'name': 'Suriname', 'capital': 'Paramaribo'},\n",
    "{'timezones': ['Africa/Sao_Tome'], 'code': 'ST', 'continent': 'Africa', 'name': 'S\\xc3\\xa3o Tom\\xc3\\xa9 and Pr\\xc3\\xadncipe', 'capital': 'S\\xc3\\xa3o Tom\\xc3\\xa9'},\n",
    "{'timezones': ['Asia/Damascus'], 'code': 'SY', 'continent': 'Asia', 'name': 'Syria', 'capital': 'Damascus'},\n",
    "{'timezones': ['Africa/Lome'], 'code': 'TG', 'continent': 'Africa', 'name': 'Togo', 'capital': 'Lom\\xc3\\xa9'},\n",
    "{'timezones': ['Asia/Bangkok'], 'code': 'TH', 'continent': 'Asia', 'name': 'Thailand', 'capital': 'Bangkok'},\n",
    "{'timezones': ['Asia/Dushanbe'], 'code': 'TJ', 'continent': 'Asia', 'name': 'Tajikistan', 'capital': 'Dushanbe'},\n",
    "{'timezones': ['Asia/Ashgabat'], 'code': 'TM', 'continent': 'Asia', 'name': 'Turkmenistan', 'capital': 'Ashgabat'},\n",
    "{'timezones': ['Africa/Tunis'], 'code': 'TN', 'continent': 'Africa', 'name': 'Tunisia', 'capital': 'Tunis'},\n",
    "{'timezones': ['Pacific/Tongatapu'], 'code': 'TO', 'continent': 'Oceania', 'name': 'Tonga', 'capital': 'Nuku\\xca\\xbbalofa'},\n",
    "{'timezones': ['Europe/Istanbul'], 'code': 'TR', 'continent': 'Asia', 'name': 'Turkey', 'capital': 'Ankara'},\n",
    "{'timezones': ['America/Port_of_Spain'], 'code': 'TT', 'continent': 'North America', 'name': 'Trinidad and Tobago', 'capital': 'Port of Spain'},\n",
    "{'timezones': ['Pacific/Funafuti'], 'code': 'TV', 'continent': 'Oceania', 'name': 'Tuvalu', 'capital': 'Funafuti'},\n",
    "{'timezones': ['Africa/Dar_es_Salaam'], 'code': 'TZ', 'continent': 'Africa', 'name': 'Tanzania', 'capital': 'Dodoma'},\n",
    "{'timezones': ['Europe/Kiev', 'Europe/Uzhgorod', 'Europe/Zaporozhye', 'Europe/Simferopol'], 'code': 'UA', 'continent': 'Europe', 'name': 'Ukraine', 'capital': 'Kiev'},\n",
    "{'timezones': ['Africa/Kampala'], 'code': 'UG', 'continent': 'Africa', 'name': 'Uganda', 'capital': 'Kampala'},\n",
    "{'timezones': ['America/New_York', 'America/Detroit', 'America/Kentucky/Louisville', 'America/Kentucky/Monticello', 'America/Indiana/Indianapolis', 'America/Indiana/Marengo', 'America/Indiana/Knox', 'America/Indiana/Vevay', 'America/Chicago', 'America/Indiana/Vincennes', 'America/Indiana/Petersburg', 'America/Menominee', 'America/North_Dakota/Center', 'America/North_Dakota/New_Salem', 'America/Denver', 'America/Boise', 'America/Shiprock', 'America/Phoenix', 'America/Los_Angeles', 'America/Anchorage', 'America/Juneau', 'America/Yakutat', 'America/Nome', 'America/Adak', 'Pacific/Honolulu'], 'code': 'US', 'continent': 'North America', 'name': 'United States', 'capital': 'Washington, D.C.'},\n",
    "{'timezones': ['America/Montevideo'], 'code': 'UY', 'continent': 'South America', 'name': 'Uruguay', 'capital': 'Montevideo'},\n",
    "{'timezones': ['Asia/Samarkand', 'Asia/Tashkent'], 'code': 'UZ', 'continent': 'Asia', 'name': 'Uzbekistan', 'capital': 'Tashkent'},\n",
    "{'timezones': ['Europe/Vatican'], 'code': 'VA', 'continent': 'Europe', 'name': 'Vatican City', 'capital': 'Vatican City'},\n",
    "{'timezones': ['America/Caracas'], 'code': 'VE', 'continent': 'South America', 'name': 'Venezuela', 'capital': 'Caracas'},\n",
    "{'timezones': ['Asia/Saigon'], 'code': 'VN', 'continent': 'Asia', 'name': 'Vietnam', 'capital': 'Hanoi'},\n",
    "{'timezones': ['Pacific/Efate'], 'code': 'VU', 'continent': 'Oceania', 'name': 'Vanuatu', 'capital': 'Port Vila'},\n",
    "{'timezones': ['Asia/Aden'], 'code': 'YE', 'continent': 'Asia', 'name': 'Yemen', 'capital': \"Sana'a\"},\n",
    "{'timezones': ['Africa/Lusaka'], 'code': 'ZM', 'continent': 'Africa', 'name': 'Zambia', 'capital': 'Lusaka'},\n",
    "{'timezones': ['Africa/Harare'], 'code': 'ZW', 'continent': 'Africa', 'name': 'Zimbabwe', 'capital': 'Harare'},\n",
    "{'timezones': ['Africa/Algiers'], 'code': 'DZ', 'continent': 'Africa', 'name': 'Algeria', 'capital': 'Algiers'},\n",
    "{'timezones': ['Europe/Sarajevo'], 'code': 'BA', 'continent': 'Europe', 'name': 'Bosnia and Herzegovina', 'capital': 'Sarajevo'},\n",
    "{'timezones': ['Asia/Phnom_Penh'], 'code': 'KH', 'continent': 'Asia', 'name': 'Cambodia', 'capital': 'Phnom Penh'},\n",
    "{'timezones': ['Africa/Bangui'], 'code': 'CF', 'continent': 'Africa', 'name': 'Central African Republic', 'capital': 'Bangui'},\n",
    "{'timezones': ['Africa/Ndjamena'], 'code': 'TD', 'continent': 'Africa', 'name': 'Chad', 'capital': \"N'Djamena\"},\n",
    "{'timezones': ['Indian/Comoro'], 'code': 'KM', 'continent': 'Africa', 'name': 'Comoros', 'capital': 'Moroni'},\n",
    "{'timezones': ['Europe/Zagreb'], 'code': 'HR', 'continent': 'Europe', 'name': 'Croatia', 'capital': 'Zagreb'},\n",
    "{'timezones': ['Asia/Dili'], 'code': 'TL', 'continent': 'Asia', 'name': 'East Timor', 'capital': 'Dili'},\n",
    "{'timezones': ['America/El_Salvador'], 'code': 'SV', 'continent': 'North America', 'name': 'El Salvador', 'capital': 'San Salvador'},\n",
    "{'timezones': ['Africa/Malabo'], 'code': 'GQ', 'continent': 'Africa', 'name': 'Equatorial Guinea', 'capital': 'Malabo'},\n",
    "{'timezones': ['America/Grenada'], 'code': 'GD', 'continent': 'North America', 'name': 'Grenada', 'capital': \"St. George's\"},\n",
    "{'timezones': ['Asia/Almaty', 'Asia/Qyzylorda', 'Asia/Aqtobe', 'Asia/Aqtau', 'Asia/Oral'], 'code': 'KZ', 'continent': 'Asia', 'name': 'Kazakhstan', 'capital': 'Astana'},\n",
    "{'timezones': ['Asia/Vientiane'], 'code': 'LA', 'continent': 'Asia', 'name': 'Laos', 'capital': 'Vientiane'},\n",
    "{'timezones': ['Pacific/Truk', 'Pacific/Ponape', 'Pacific/Kosrae'], 'code': 'FM', 'continent': 'Oceania', 'name': 'Federated States of Micronesia', 'capital': 'Palikir'},\n",
    "{'timezones': ['Europe/Chisinau'], 'code': 'MD', 'continent': 'Europe', 'name': 'Moldova', 'capital': 'Chi\\xc5\\x9fin\\xc4\\x83u'},\n",
    "{'timezones': ['Europe/Monaco'], 'code': 'MC', 'continent': 'Europe', 'name': 'Monaco', 'capital': 'Monaco'},\n",
    "{'timezones': ['Europe/Podgorica'], 'code': 'ME', 'continent': 'Europe', 'name': 'Montenegro', 'capital': 'Podgorica'},\n",
    "{'timezones': ['Africa/Casablanca'], 'code': 'MA', 'continent': 'Africa', 'name': 'Morocco', 'capital': 'Rabat'},\n",
    "{'timezones': ['America/St_Kitts'], 'code': 'KN', 'continent': 'North America', 'name': 'Saint Kitts and Nevis', 'capital': 'Basseterre'},\n",
    "{'timezones': ['America/St_Lucia'], 'code': 'LC', 'continent': 'North America', 'name': 'Saint Lucia', 'capital': 'Castries'},\n",
    "{'timezones': ['America/St_Vincent'], 'code': 'VC', 'continent': 'North America', 'name': 'Saint Vincent and the Grenadines', 'capital': 'Kingstown'},\n",
    "{'timezones': ['Pacific/Apia'], 'code': 'WS', 'continent': 'Oceania', 'name': 'Samoa', 'capital': 'Apia'},\n",
    "{'timezones': ['Europe/Belgrade'], 'code': 'RS', 'continent': 'Europe', 'name': 'Serbia', 'capital': 'Belgrade'},\n",
    "{'timezones': ['Africa/Johannesburg'], 'code': 'ZA', 'continent': 'Africa', 'name': 'South Africa', 'capital': 'Pretoria'},\n",
    "{'timezones': ['Europe/Madrid', 'Africa/Ceuta', 'Atlantic/Canary'], 'code': 'ES', 'continent': 'Europe', 'name': 'Spain', 'capital': 'Madrid'},\n",
    "{'timezones': ['Asia/Colombo'], 'code': 'LK', 'continent': 'Asia', 'name': 'Sri Lanka', 'capital': 'Sri Jayewardenepura Kotte'},\n",
    "{'timezones': ['Africa/Mbabane'], 'code': 'SZ', 'continent': 'Africa', 'name': 'Swaziland', 'capital': 'Mbabane'},\n",
    "{'timezones': ['Europe/Zurich'], 'code': 'CH', 'continent': 'Europe', 'name': 'Switzerland', 'capital': 'Bern'},\n",
    "{'timezones': ['Asia/Dubai'], 'code': 'AE', 'continent': 'Asia', 'name': 'United Arab Emirates', 'capital': 'Abu Dhabi'},\n",
    "{'timezones': ['Europe/London'], 'code': 'GB', 'continent': 'Europe', 'name': 'United Kingdom', 'capital': 'London'},\n",
    "]"
   ]
  },
  {
   "cell_type": "code",
   "execution_count": 489,
   "metadata": {},
   "outputs": [
    {
     "data": {
      "text/plain": [
       "[{'capital': 'Kuala Lumpur',\n",
       "  'code': 'MY',\n",
       "  'continent': 'Asia',\n",
       "  'name': 'Malaysia',\n",
       "  'timezones': ['Asia/Kuala_Lumpur', 'Asia/Kuching']},\n",
       " {'capital': 'Maputo',\n",
       "  'code': 'MZ',\n",
       "  'continent': 'Africa',\n",
       "  'name': 'Mozambique',\n",
       "  'timezones': ['Africa/Maputo']},\n",
       " {'capital': 'Windhoek',\n",
       "  'code': 'NA',\n",
       "  'continent': 'Africa',\n",
       "  'name': 'Namibia',\n",
       "  'timezones': ['Africa/Windhoek']},\n",
       " {'capital': 'Niamey',\n",
       "  'code': 'NE',\n",
       "  'continent': 'Africa',\n",
       "  'name': 'Niger',\n",
       "  'timezones': ['Africa/Niamey']},\n",
       " {'capital': 'Abuja',\n",
       "  'code': 'NG',\n",
       "  'continent': 'Africa',\n",
       "  'name': 'Nigeria',\n",
       "  'timezones': ['Africa/Lagos']},\n",
       " {'capital': 'Managua',\n",
       "  'code': 'NI',\n",
       "  'continent': 'North America',\n",
       "  'name': 'Nicaragua',\n",
       "  'timezones': ['America/Managua']},\n",
       " {'capital': 'Amsterdam',\n",
       "  'code': 'NL',\n",
       "  'continent': 'Europe',\n",
       "  'name': 'Kingdom of the Netherlands',\n",
       "  'timezones': ['Europe/Amsterdam']},\n",
       " {'capital': 'Oslo',\n",
       "  'code': 'NO',\n",
       "  'continent': 'Europe',\n",
       "  'name': 'Norway',\n",
       "  'timezones': ['Europe/Oslo']},\n",
       " {'capital': 'Kathmandu',\n",
       "  'code': 'NP',\n",
       "  'continent': 'Asia',\n",
       "  'name': 'Nepal',\n",
       "  'timezones': ['Asia/Katmandu']},\n",
       " {'capital': 'Yaren',\n",
       "  'code': 'NR',\n",
       "  'continent': 'Oceania',\n",
       "  'name': 'Nauru',\n",
       "  'timezones': ['Pacific/Nauru']},\n",
       " {'capital': 'Wellington',\n",
       "  'code': 'NZ',\n",
       "  'continent': 'Oceania',\n",
       "  'name': 'New Zealand',\n",
       "  'timezones': ['Pacific/Auckland', 'Pacific/Chatham']},\n",
       " {'capital': 'Muscat',\n",
       "  'code': 'OM',\n",
       "  'continent': 'Asia',\n",
       "  'name': 'Oman',\n",
       "  'timezones': ['Asia/Muscat']},\n",
       " {'capital': 'Panama City',\n",
       "  'code': 'PA',\n",
       "  'continent': 'North America',\n",
       "  'name': 'Panama',\n",
       "  'timezones': ['America/Panama']},\n",
       " {'capital': 'Lima',\n",
       "  'code': 'PE',\n",
       "  'continent': 'South America',\n",
       "  'name': 'Peru',\n",
       "  'timezones': ['America/Lima']},\n",
       " {'capital': 'Port Moresby',\n",
       "  'code': 'PG',\n",
       "  'continent': 'Oceania',\n",
       "  'name': 'Papua New Guinea',\n",
       "  'timezones': ['Pacific/Port_Moresby']},\n",
       " {'capital': 'Manila',\n",
       "  'code': 'PH',\n",
       "  'continent': 'Asia',\n",
       "  'name': 'Philippines',\n",
       "  'timezones': ['Asia/Manila']},\n",
       " {'capital': 'Islamabad',\n",
       "  'code': 'PK',\n",
       "  'continent': 'Asia',\n",
       "  'name': 'Pakistan',\n",
       "  'timezones': ['Asia/Karachi']},\n",
       " {'capital': 'Warsaw',\n",
       "  'code': 'PL',\n",
       "  'continent': 'Europe',\n",
       "  'name': 'Poland',\n",
       "  'timezones': ['Europe/Warsaw']},\n",
       " {'capital': 'Lisbon',\n",
       "  'code': 'PT',\n",
       "  'continent': 'Europe',\n",
       "  'name': 'Portugal',\n",
       "  'timezones': ['Europe/Lisbon', 'Atlantic/Madeira', 'Atlantic/Azores']},\n",
       " {'capital': 'Ngerulmud',\n",
       "  'code': 'PW',\n",
       "  'continent': 'Oceania',\n",
       "  'name': 'Palau',\n",
       "  'timezones': ['Pacific/Palau']},\n",
       " {'capital': 'Asunci\\xc3\\xb3n',\n",
       "  'code': 'PY',\n",
       "  'continent': 'South America',\n",
       "  'name': 'Paraguay',\n",
       "  'timezones': ['America/Asuncion']},\n",
       " {'capital': 'Doha',\n",
       "  'code': 'QA',\n",
       "  'continent': 'Asia',\n",
       "  'name': 'Qatar',\n",
       "  'timezones': ['Asia/Qatar']},\n",
       " {'capital': 'Bucharest',\n",
       "  'code': 'RO',\n",
       "  'continent': 'Europe',\n",
       "  'name': 'Romania',\n",
       "  'timezones': ['Europe/Bucharest']},\n",
       " {'capital': 'Moscow',\n",
       "  'code': 'RU',\n",
       "  'continent': 'Europe',\n",
       "  'name': 'Russia',\n",
       "  'timezones': ['Europe/Kaliningrad',\n",
       "   'Europe/Moscow',\n",
       "   'Europe/Volgograd',\n",
       "   'Europe/Samara',\n",
       "   'Asia/Yekaterinburg',\n",
       "   'Asia/Omsk',\n",
       "   'Asia/Novosibirsk',\n",
       "   'Asia/Krasnoyarsk',\n",
       "   'Asia/Irkutsk',\n",
       "   'Asia/Yakutsk',\n",
       "   'Asia/Vladivostok',\n",
       "   'Asia/Sakhalin',\n",
       "   'Asia/Magadan',\n",
       "   'Asia/Kamchatka',\n",
       "   'Asia/Anadyr']},\n",
       " {'capital': 'Kigali',\n",
       "  'code': 'RW',\n",
       "  'continent': 'Africa',\n",
       "  'name': 'Rwanda',\n",
       "  'timezones': ['Africa/Kigali']},\n",
       " {'capital': 'Riyadh',\n",
       "  'code': 'SA',\n",
       "  'continent': 'Asia',\n",
       "  'name': 'Saudi Arabia',\n",
       "  'timezones': ['Asia/Riyadh']},\n",
       " {'capital': 'Honiara',\n",
       "  'code': 'SB',\n",
       "  'continent': 'Oceania',\n",
       "  'name': 'Solomon Islands',\n",
       "  'timezones': ['Pacific/Guadalcanal']},\n",
       " {'capital': 'Victoria',\n",
       "  'code': 'SC',\n",
       "  'continent': 'Africa',\n",
       "  'name': 'Seychelles',\n",
       "  'timezones': ['Indian/Mahe']},\n",
       " {'capital': 'Khartoum',\n",
       "  'code': 'SD',\n",
       "  'continent': 'Africa',\n",
       "  'name': 'Sudan',\n",
       "  'timezones': ['Africa/Khartoum']},\n",
       " {'capital': 'Stockholm',\n",
       "  'code': 'SE',\n",
       "  'continent': 'Europe',\n",
       "  'name': 'Sweden',\n",
       "  'timezones': ['Europe/Stockholm']},\n",
       " {'capital': 'Singapore',\n",
       "  'code': 'SG',\n",
       "  'continent': 'Asia',\n",
       "  'name': 'Singapore',\n",
       "  'timezones': ['Asia/Singapore']},\n",
       " {'capital': 'Ljubljana',\n",
       "  'code': 'SI',\n",
       "  'continent': 'Europe',\n",
       "  'name': 'Slovenia',\n",
       "  'timezones': ['Europe/Ljubljana']},\n",
       " {'capital': 'Bratislava',\n",
       "  'code': 'SK',\n",
       "  'continent': 'Europe',\n",
       "  'name': 'Slovakia',\n",
       "  'timezones': ['Europe/Bratislava']},\n",
       " {'capital': 'Freetown',\n",
       "  'code': 'SL',\n",
       "  'continent': 'Africa',\n",
       "  'name': 'Sierra Leone',\n",
       "  'timezones': ['Africa/Freetown']},\n",
       " {'capital': 'San Marino',\n",
       "  'code': 'SM',\n",
       "  'continent': 'Europe',\n",
       "  'name': 'San Marino',\n",
       "  'timezones': ['Europe/San_Marino']},\n",
       " {'capital': 'Dakar',\n",
       "  'code': 'SN',\n",
       "  'continent': 'Africa',\n",
       "  'name': 'Senegal',\n",
       "  'timezones': ['Africa/Dakar']},\n",
       " {'capital': 'Mogadishu',\n",
       "  'code': 'SO',\n",
       "  'continent': 'Africa',\n",
       "  'name': 'Somalia',\n",
       "  'timezones': ['Africa/Mogadishu']},\n",
       " {'capital': 'Paramaribo',\n",
       "  'code': 'SR',\n",
       "  'continent': 'South America',\n",
       "  'name': 'Suriname',\n",
       "  'timezones': ['America/Paramaribo']},\n",
       " {'capital': 'S\\xc3\\xa3o Tom\\xc3\\xa9',\n",
       "  'code': 'ST',\n",
       "  'continent': 'Africa',\n",
       "  'name': 'S\\xc3\\xa3o Tom\\xc3\\xa9 and Pr\\xc3\\xadncipe',\n",
       "  'timezones': ['Africa/Sao_Tome']},\n",
       " {'capital': 'Damascus',\n",
       "  'code': 'SY',\n",
       "  'continent': 'Asia',\n",
       "  'name': 'Syria',\n",
       "  'timezones': ['Asia/Damascus']},\n",
       " {'capital': 'Lom\\xc3\\xa9',\n",
       "  'code': 'TG',\n",
       "  'continent': 'Africa',\n",
       "  'name': 'Togo',\n",
       "  'timezones': ['Africa/Lome']},\n",
       " {'capital': 'Bangkok',\n",
       "  'code': 'TH',\n",
       "  'continent': 'Asia',\n",
       "  'name': 'Thailand',\n",
       "  'timezones': ['Asia/Bangkok']},\n",
       " {'capital': 'Dushanbe',\n",
       "  'code': 'TJ',\n",
       "  'continent': 'Asia',\n",
       "  'name': 'Tajikistan',\n",
       "  'timezones': ['Asia/Dushanbe']},\n",
       " {'capital': 'Ashgabat',\n",
       "  'code': 'TM',\n",
       "  'continent': 'Asia',\n",
       "  'name': 'Turkmenistan',\n",
       "  'timezones': ['Asia/Ashgabat']},\n",
       " {'capital': 'Tunis',\n",
       "  'code': 'TN',\n",
       "  'continent': 'Africa',\n",
       "  'name': 'Tunisia',\n",
       "  'timezones': ['Africa/Tunis']},\n",
       " {'capital': 'Nuku\\xca\\xbbalofa',\n",
       "  'code': 'TO',\n",
       "  'continent': 'Oceania',\n",
       "  'name': 'Tonga',\n",
       "  'timezones': ['Pacific/Tongatapu']},\n",
       " {'capital': 'Ankara',\n",
       "  'code': 'TR',\n",
       "  'continent': 'Asia',\n",
       "  'name': 'Turkey',\n",
       "  'timezones': ['Europe/Istanbul']},\n",
       " {'capital': 'Port of Spain',\n",
       "  'code': 'TT',\n",
       "  'continent': 'North America',\n",
       "  'name': 'Trinidad and Tobago',\n",
       "  'timezones': ['America/Port_of_Spain']},\n",
       " {'capital': 'Funafuti',\n",
       "  'code': 'TV',\n",
       "  'continent': 'Oceania',\n",
       "  'name': 'Tuvalu',\n",
       "  'timezones': ['Pacific/Funafuti']}]"
      ]
     },
     "execution_count": 489,
     "metadata": {},
     "output_type": "execute_result"
    }
   ],
   "source": [
    "countries[101:150]"
   ]
  },
  {
   "cell_type": "code",
   "execution_count": 490,
   "metadata": {},
   "outputs": [
    {
     "data": {
      "text/plain": [
       "[None,\n",
       " None,\n",
       " None,\n",
       " None,\n",
       " None,\n",
       " None,\n",
       " None,\n",
       " None,\n",
       " None,\n",
       " None,\n",
       " None,\n",
       " None,\n",
       " None,\n",
       " None,\n",
       " None,\n",
       " None,\n",
       " None,\n",
       " None,\n",
       " None,\n",
       " None,\n",
       " None,\n",
       " None,\n",
       " None,\n",
       " None,\n",
       " None,\n",
       " None,\n",
       " None,\n",
       " None,\n",
       " None,\n",
       " None,\n",
       " None,\n",
       " None,\n",
       " None,\n",
       " None,\n",
       " None,\n",
       " None,\n",
       " None,\n",
       " None,\n",
       " None,\n",
       " None,\n",
       " None,\n",
       " None,\n",
       " None,\n",
       " None,\n",
       " None,\n",
       " None,\n",
       " None,\n",
       " None,\n",
       " None,\n",
       " None,\n",
       " None,\n",
       " None,\n",
       " None,\n",
       " None,\n",
       " None,\n",
       " None,\n",
       " None,\n",
       " None,\n",
       " None,\n",
       " None,\n",
       " None,\n",
       " None,\n",
       " None,\n",
       " None,\n",
       " None,\n",
       " None,\n",
       " None,\n",
       " None,\n",
       " None,\n",
       " None,\n",
       " None,\n",
       " None,\n",
       " None,\n",
       " None,\n",
       " None,\n",
       " None,\n",
       " None,\n",
       " None,\n",
       " None,\n",
       " None,\n",
       " None,\n",
       " None,\n",
       " None,\n",
       " None,\n",
       " None,\n",
       " None,\n",
       " None,\n",
       " None,\n",
       " None,\n",
       " None,\n",
       " None,\n",
       " None,\n",
       " None,\n",
       " None,\n",
       " None,\n",
       " None,\n",
       " None,\n",
       " None,\n",
       " None,\n",
       " None,\n",
       " None,\n",
       " None,\n",
       " None,\n",
       " None,\n",
       " None,\n",
       " None,\n",
       " None,\n",
       " None,\n",
       " None,\n",
       " None,\n",
       " None,\n",
       " None,\n",
       " None,\n",
       " None,\n",
       " None,\n",
       " None,\n",
       " None,\n",
       " None,\n",
       " None,\n",
       " None,\n",
       " None,\n",
       " None,\n",
       " None,\n",
       " None,\n",
       " None,\n",
       " None,\n",
       " None,\n",
       " None,\n",
       " None,\n",
       " None,\n",
       " None,\n",
       " None,\n",
       " None,\n",
       " None,\n",
       " None,\n",
       " None,\n",
       " None,\n",
       " None,\n",
       " None,\n",
       " None,\n",
       " None,\n",
       " None,\n",
       " None,\n",
       " None,\n",
       " None,\n",
       " None,\n",
       " None,\n",
       " None,\n",
       " None,\n",
       " None,\n",
       " None,\n",
       " None,\n",
       " None,\n",
       " None,\n",
       " None,\n",
       " None,\n",
       " None,\n",
       " None,\n",
       " None,\n",
       " None,\n",
       " None,\n",
       " None,\n",
       " None,\n",
       " None,\n",
       " None,\n",
       " None,\n",
       " None,\n",
       " None,\n",
       " None,\n",
       " None,\n",
       " None,\n",
       " None,\n",
       " None,\n",
       " None,\n",
       " None,\n",
       " None,\n",
       " None,\n",
       " None,\n",
       " None,\n",
       " None,\n",
       " None,\n",
       " None,\n",
       " None,\n",
       " None,\n",
       " None,\n",
       " None,\n",
       " None,\n",
       " None,\n",
       " None,\n",
       " None,\n",
       " None,\n",
       " None,\n",
       " None]"
      ]
     },
     "execution_count": 490,
     "metadata": {},
     "output_type": "execute_result"
    }
   ],
   "source": [
    "country_capital_city_tz = dict()\n",
    "[country_capital_city_tz.update({name['name']:name['continent'].split()[-1]+\"/\"+\"_\".join(name['capital'].split(\" \")).replace(\",\",\"\")}) for name in countries]"
   ]
  },
  {
   "cell_type": "code",
   "execution_count": 491,
   "metadata": {},
   "outputs": [
    {
     "data": {
      "text/plain": [
       "'Europe/Paris'"
      ]
     },
     "execution_count": 491,
     "metadata": {},
     "output_type": "execute_result"
    }
   ],
   "source": [
    "country_capital_city_tz['France']"
   ]
  },
  {
   "cell_type": "code",
   "execution_count": 492,
   "metadata": {},
   "outputs": [
    {
     "data": {
      "text/plain": [
       "'America/Washington_D.C.'"
      ]
     },
     "execution_count": 492,
     "metadata": {},
     "output_type": "execute_result"
    }
   ],
   "source": [
    "country_capital_city_tz['United States']"
   ]
  },
  {
   "cell_type": "code",
   "execution_count": 493,
   "metadata": {},
   "outputs": [],
   "source": [
    "import json\n",
    "with open('country_capital_city_tz.json', 'w') as file:\n",
    "     file.write(json.dumps(country_capital_city_tz))"
   ]
  },
  {
   "cell_type": "code",
   "execution_count": 494,
   "metadata": {},
   "outputs": [
    {
     "name": "stdout",
     "output_type": "stream",
     "text": [
      "{\"Canada\": \"America/Ottawa\", \"East Timor\": \"Asia/Dili\", \"Turkmenistan\": \"Asia/Ashgabat\", \"Lithuania\": \"Europe/Vilnius\", \"Cambodia\": \"Asia/Phnom_Penh\", \"Saint Kitts and Nevis\": \"America/Basseterre\", \"Ethiopia\": \"Africa/Addis_Ababa\", \"The Gambia\": \"Africa/Banjul\", \"Sri Lanka\": \"Asia/Sri_Jayewardenepura_Kotte\", \"Swaziland\": \"Africa/Mbabane\", \"Argentina\": \"America/Buenos_Aires\", \"Bolivia\": \"America/Sucre\", \"Cameroon\": \"Africa/Yaound\\u00e9\", \"Burkina Faso\": \"Africa/Ouagadougou\", \"Ghana\": \"Africa/Accra\", \"Saudi Arabia\": \"Asia/Riyadh\", \"Laos\": \"Asia/Vientiane\", \"Japan\": \"Asia/Tokyo\", \"Republic of Ireland\": \"Europe/Dublin\", \"Slovenia\": \"Europe/Ljubljana\", \"Guatemala\": \"America/Guatemala_City\", \"Bosnia and Herzegovina\": \"Europe/Sarajevo\", \"Kuwait\": \"Asia/Kuwait_City\", \"Germany\": \"Europe/Berlin\", \"Dominica\": \"America/Roseau\", \"Liberia\": \"Africa/Monrovia\", \"Maldives\": \"Asia/Mal\\u00e9\", \"Pakistan\": \"Asia/Islamabad\", \"Oman\": \"Asia/Muscat\", \"Tanzania\": \"Africa/Dodoma\", \"Seychelles\": \"Africa/Victoria\", \"Gabon\": \"Africa/Libreville\", \"Monaco\": \"Europe/Monaco\", \"New Zealand\": \"Oceania/Wellington\", \"Yemen\": \"Asia/Sana'a\", \"Andorra\": \"Europe/Andorra_la_Vella\", \"Albania\": \"Europe/Tirana\", \"Samoa\": \"Oceania/Apia\", \"United Arab Emirates\": \"Asia/Abu_Dhabi\", \"C\\u00f4te d'Ivoire\": \"Africa/Yamoussoukro\", \"India\": \"Asia/New_Delhi\", \"Azerbaijan\": \"Asia/Baku\", \"Madagascar\": \"Africa/Antananarivo\", \"Lesotho\": \"Africa/Maseru\", \"Saint Vincent and the Grenadines\": \"America/Kingstown\", \"Kenya\": \"Africa/Nairobi\", \"South Korea\": \"Asia/Seoul\", \"Tajikistan\": \"Asia/Dushanbe\", \"Turkey\": \"Asia/Ankara\", \"Afghanistan\": \"Asia/Kabul\", \"Czech Republic\": \"Europe/Prague\", \"Eritrea\": \"Africa/Asmara\", \"Solomon Islands\": \"Oceania/Honiara\", \"Saint Lucia\": \"America/Castries\", \"San Marino\": \"Europe/San_Marino\", \"Cyprus\": \"Asia/Nicosia\", \"Mongolia\": \"Asia/Ulaanbaatar\", \"France\": \"Europe/Paris\", \"Rwanda\": \"Africa/Kigali\", \"Slovakia\": \"Europe/Bratislava\", \"Somalia\": \"Africa/Mogadishu\", \"Peru\": \"America/Lima\", \"Vanuatu\": \"Oceania/Port_Vila\", \"Nauru\": \"Oceania/Yaren\", \"Norway\": \"Europe/Oslo\", \"Malawi\": \"Africa/Lilongwe\", \"Benin\": \"Africa/Porto-Novo\", \"Federated States of Micronesia\": \"Oceania/Palikir\", \"Cuba\": \"America/Havana\", \"Montenegro\": \"Europe/Podgorica\", \"Republic of the Congo\": \"Africa/Brazzaville\", \"Togo\": \"Africa/Lom\\u00e9\", \"Armenia\": \"Asia/Yerevan\", \"Dominican Republic\": \"America/Santo_Domingo\", \"Ukraine\": \"Europe/Kiev\", \"Bahrain\": \"Asia/Manama\", \"Tonga\": \"Oceania/Nuku\\u02bbalofa\", \"Indonesia\": \"Asia/Jakarta\", \"Libya\": \"Africa/Tripoli\", \"Finland\": \"Europe/Helsinki\", \"Central African Republic\": \"Africa/Bangui\", \"Mauritius\": \"Africa/Port_Louis\", \"Liechtenstein\": \"Europe/Vaduz\", \"Vietnam\": \"Asia/Hanoi\", \"Mali\": \"Africa/Bamako\", \"Vatican City\": \"Europe/Vatican_City\", \"Russia\": \"Europe/Moscow\", \"Bulgaria\": \"Europe/Sofia\", \"United States\": \"America/Washington_D.C.\", \"Romania\": \"Europe/Bucharest\", \"Angola\": \"Africa/Luanda\", \"Portugal\": \"Europe/Lisbon\", \"South Africa\": \"Africa/Pretoria\", \"Fiji\": \"Oceania/Suva\", \"Sweden\": \"Europe/Stockholm\", \"Qatar\": \"Asia/Doha\", \"Malaysia\": \"Asia/Kuala_Lumpur\", \"Senegal\": \"Africa/Dakar\", \"Mozambique\": \"Africa/Maputo\", \"Uganda\": \"Africa/Kampala\", \"Hungary\": \"Europe/Budapest\", \"Niger\": \"Africa/Niamey\", \"Brazil\": \"America/Bras\\u00edlia\", \"Jamaica\": \"America/Kingston\", \"Guinea\": \"Africa/Conakry\", \"Panama\": \"America/Panama_City\", \"Costa Rica\": \"America/San_Jos\\u00e9\", \"Luxembourg\": \"Europe/Luxembourg_City\", \"Cape Verde\": \"Africa/Praia\", \"Bahamas\": \"America/Nassau\", \"Syria\": \"Asia/Damascus\", \"Italy\": \"Europe/Rome\", \"Nigeria\": \"Africa/Abuja\", \"Ecuador\": \"America/Quito\", \"Bangladesh\": \"Asia/Dhaka\", \"Australia\": \"Oceania/Canberra\", \"Iran\": \"Asia/Tehran\", \"Algeria\": \"Africa/Algiers\", \"El Salvador\": \"America/San_Salvador\", \"Tuvalu\": \"Oceania/Funafuti\", \"Marshall Islands\": \"Oceania/Majuro\", \"Chile\": \"America/Santiago\", \"Belgium\": \"Europe/Brussels\", \"Kiribati\": \"Oceania/Tarawa\", \"Haiti\": \"America/Port-au-Prince\", \"Iraq\": \"Asia/Baghdad\", \"Sierra Leone\": \"Africa/Freetown\", \"Georgia\": \"Asia/Tbilisi\", \"Denmark\": \"Europe/Copenhagen\", \"Philippines\": \"Asia/Manila\", \"Moldova\": \"Europe/Chi\\u015fin\\u0103u\", \"Morocco\": \"Africa/Rabat\", \"Namibia\": \"Africa/Windhoek\", \"Guinea-Bissau\": \"Africa/Bissau\", \"Thailand\": \"Asia/Bangkok\", \"Switzerland\": \"Europe/Bern\", \"Grenada\": \"America/St._George's\", \"Belize\": \"America/Belmopan\", \"Chad\": \"Africa/N'Djamena\", \"Estonia\": \"Europe/Tallinn\", \"Uruguay\": \"America/Montevideo\", \"Equatorial Guinea\": \"Africa/Malabo\", \"Lebanon\": \"Asia/Beirut\", \"Uzbekistan\": \"Asia/Tashkent\", \"Tunisia\": \"Africa/Tunis\", \"Djibouti\": \"Africa/Djibouti_City\", \"Antigua and Barbuda\": \"America/St._John's\", \"Spain\": \"Europe/Madrid\", \"Colombia\": \"America/Bogot\\u00e1\", \"Burundi\": \"Africa/Bujumbura\", \"Nicaragua\": \"America/Managua\", \"Barbados\": \"America/Bridgetown\", \"S\\u00e3o Tom\\u00e9 and Pr\\u00edncipe\": \"Africa/S\\u00e3o_Tom\\u00e9\", \"Palau\": \"Oceania/Ngerulmud\", \"Bhutan\": \"Asia/Thimphu\", \"Sudan\": \"Africa/Khartoum\", \"Nepal\": \"Asia/Kathmandu\", \"Malta\": \"Europe/Valletta\", \"Brunei Darussalam\": \"Asia/Bandar_Seri_Begawan\", \"Democratic Republic of the Congo\": \"Africa/Kinshasa\", \"Suriname\": \"America/Paramaribo\", \"Kingdom of the Netherlands\": \"Europe/Amsterdam\", \"Venezuela\": \"America/Caracas\", \"Israel\": \"Asia/Jerusalem\", \"Iceland\": \"Europe/Reykjav\\u00edk\", \"Zambia\": \"Africa/Lusaka\", \"Austria\": \"Europe/Vienna\", \"Papua New Guinea\": \"Oceania/Port_Moresby\", \"Zimbabwe\": \"Africa/Harare\", \"Jordan\": \"Asia/Amman\", \"Kazakhstan\": \"Asia/Astana\", \"Poland\": \"Europe/Warsaw\", \"Mauritania\": \"Africa/Nouakchott\", \"Kyrgyzstan\": \"Asia/Bishkek\", \"Macedonia\": \"Europe/Skopje\", \"North Korea\": \"Asia/Pyongyang\", \"Trinidad and Tobago\": \"America/Port_of_Spain\", \"Latvia\": \"Europe/Riga\", \"Guyana\": \"America/Georgetown\", \"Belarus\": \"Europe/Minsk\", \"Honduras\": \"America/Tegucigalpa\", \"Myanmar\": \"Asia/Naypyidaw\", \"Mexico\": \"America/Mexico_City\", \"Egypt\": \"Africa/Cairo\", \"Singapore\": \"Asia/Singapore\", \"Serbia\": \"Europe/Belgrade\", \"Botswana\": \"Africa/Gaborone\", \"United Kingdom\": \"Europe/London\", \"People's Republic of China\": \"Asia/Beijing\", \"Greece\": \"Europe/Athens\", \"Paraguay\": \"America/Asunci\\u00f3n\", \"Croatia\": \"Europe/Zagreb\", \"Comoros\": \"Africa/Moroni\"}"
     ]
    }
   ],
   "source": [
    "!head country_capital_city_tz.json\n"
   ]
  },
  {
   "cell_type": "markdown",
   "metadata": {},
   "source": [
    "### Add TimeZone information for each session )"
   ]
  },
  {
   "cell_type": "markdown",
   "metadata": {},
   "source": [
    "### SWITCHING TO Map Reduce"
   ]
  },
  {
   "cell_type": "code",
   "execution_count": 495,
   "metadata": {},
   "outputs": [
    {
     "name": "stdout",
     "output_type": "stream",
     "text": [
      "/data_data/session_length\r\n"
     ]
    }
   ],
   "source": [
    "!pwd"
   ]
  },
  {
   "cell_type": "code",
   "execution_count": 507,
   "metadata": {},
   "outputs": [
    {
     "name": "stdout",
     "output_type": "stream",
     "text": [
      "Overwriting MRtranslate.py\n"
     ]
    }
   ],
   "source": [
    "%%writefile MRtranslate.py\n",
    "\n",
    "import mrjob\n",
    "from mrjob.job import MRJob\n",
    "from mrjob.step import MRStep\n",
    "from mrjob import step\n",
    "from mrjob.protocol import RawProtocol\n",
    "\n",
    "from collections import defaultdict, Counter\n",
    "\n",
    "import re\n",
    "import sys\n",
    "import json\n",
    "\n",
    "import datetime\n",
    "from datetime import datetime\n",
    "from dateutil import parser\n",
    "from dateutil import tz\n",
    "import pytz\n",
    "\n",
    "import ast\n",
    "\n",
    "import goslate \n",
    "import translate\n",
    "from googletrans import Translator\n",
    "\n",
    "import requests\n",
    "\n",
    "\n",
    "class MRtranslate(MRJob):\n",
    "\n",
    "    def __init__(self, *args, **kwargs):\n",
    "        super(MRtranslate, self).__init__(*args, **kwargs)\n",
    "        self.min_line_length = 12\n",
    "        self.translator   = Translator()\n",
    "        self.day_of_week  = {0:\"Monday\",1:\"Tuesday\",2:\"Wednesday\",3:\"Thursday\",4:\"Friday\",5:\"Saturday\",6:\"Sunday\"}\n",
    "        self.time_of_day  = {\"Night\":[0,1,2,3,4], \"Dawn\":[5,6],\"Morning\":[7,8,9],\"LateMorning\":[10,11], \"Lunch\":[12,13],\"Afternoon\":[14,15,16],\"LateAfternoon\":[17,18],\"Evening\":[19,20,21],\"LateEvening\":[22,23]}\n",
    "\n",
    "    def configure_options(self):\n",
    "        self.add_file_option('--tzFile', default=None, dest='tzFile')\n",
    "        \n",
    "    def translate(self, text):\n",
    "        return self.translator.translate(text)\n",
    "    \n",
    "    def utc_to_local(self, utc_timestamp, local_tz):\n",
    "        try:\n",
    "            local_dt = utc_timestamp.replace(tzinfo=pytz.utc).astimezone(local_tz)\n",
    "            #sys.stderr.write(\"LOCAL_DT:\"+repr(local_dt)+\"\\n\")\n",
    "            result = local_tz.normalize(local_dt)\n",
    "            #sys.stderr.write(\"RESULT ====> \"+repr(result)+\"\\n\")\n",
    "        except:\n",
    "            result = None\n",
    "        return result\n",
    "    \n",
    "    def get_time_of_day(self, hour):\n",
    "        for key in self.time_of_day.keys():\n",
    "            if hour in self.time_of_day[key]:\n",
    "                return key\n",
    "\n",
    "    def mapper_translate(self, _, line_):\n",
    "    \n",
    "        if len(line_) > self.min_line_length:\n",
    "            \n",
    "            line   = line_.split(\"\\t\")\n",
    "            user_id    = list(line)[0]\n",
    "            values = line[1:]\n",
    "\n",
    "            yield user_id, values\n",
    "        \n",
    "        \n",
    "    def reducer_timezone(self, user_id, values):\n",
    "        \n",
    "        tzFile = str(self.options.tzFile) \n",
    "        \n",
    "        tz_dict = dict()\n",
    "        \n",
    "        with open(tzFile,'r') as f:\n",
    "            \n",
    "            lines = f.readlines()\n",
    "            \n",
    "            tz_dict = ast.literal_eval(lines[0])\n",
    "        \n",
    "        for value in values:\n",
    "\n",
    "                utc_time  = value[0][:-1]\n",
    "                traid     = value[1]\n",
    "                artname   = self.translator.translate(value[2]).text\n",
    "                something = value[3]\n",
    "                tracname  = self.translator.translate(value[4]).text\n",
    "                session_window = value[5]\n",
    "                gender    = value[6]\n",
    "                age       = value[7]\n",
    "                country   = value[8]\n",
    "                registered= value[9] \n",
    "                reg_date  = value[10]\n",
    "                \n",
    "                try:\n",
    "                    local_tz  = pytz.timezone(tz_dict[country])\n",
    "                except:\n",
    "                    local_tz  = None\n",
    "                try:\n",
    "                    utc    = datetime.strptime(utc_time, '%Y-%m-%dT%H:%M:%S')\n",
    "                except: \n",
    "                    utc    = None\n",
    "                \n",
    "                try:\n",
    "                    event_time = self.utc_to_local(utc, local_tz)\n",
    "                except: \n",
    "                    event_time = None\n",
    "                    \n",
    "                try:\n",
    "                    time_diff  = event_time.utcoffset()\n",
    "                    local_time = event_time + time_diff\n",
    "                except:\n",
    "                    local_time = \"Null\"\n",
    "                \n",
    "                try:\n",
    "                    day_of_week = self.day_of_week[local_time.weekday()]\n",
    "                except:\n",
    "                    day_of_week = \"Null\"\n",
    "                    \n",
    "                try:\n",
    "                    time_of_day = self.get_time_of_day(local_time.hour)\n",
    "                except:\n",
    "                    time_of_day = \"Null\"\n",
    "                    \n",
    "                value_ = \"\\t\".join([str(x) for x in (utc_time, traid, artname, something, tracname, session_window, gender, age, country, registered, reg_date, str(local_tz), str(local_time), str(time_of_day), str(day_of_week))])\n",
    "\n",
    "                yield user_id, value_\n",
    " \n",
    "\n",
    "\n",
    "\n",
    "\n",
    "    def steps(self):\n",
    "        \n",
    "        JOBCONF = {\n",
    "            'mapred.map.tasks': 10,\n",
    "            'mapred.reduce.tasks': 10,\n",
    "            'mapreduce.job.local.dir':'/data_data/session_length/hadoop',\n",
    "            'mapred.task.tmp.dir':'/data_data/session_length/hadoop',\n",
    "            'mapreduce.task.tmp.dir':'/data_data/session_length/hadoop',\n",
    "            'mapreduce.output.fileoutputformat.outputdir': '/data_data/session_length/hadoop',\n",
    "            'mapreduce.cluster.local.dir':'/data_data/session_length/hadoop',\n",
    "            'mapred.partition.keypartitioner.options': '-k1',\n",
    "            'mapred.output.key.comparator.class': 'org.apache.hadoop.mapred.lib.KeyFieldBasedComparator',\n",
    "            'mapred.text.key.comparator.options': '-k1',\n",
    "            'mapreduce.map.memory.mb':40960,\n",
    "            'mapreduce.reduce.memory.mb':40960,\n",
    "            'mapreduce.map.java.opts':'-Xmx30720m',\n",
    "            'mapreduce.reduce.java.opts':'-Xmx61440m'\n",
    "        }\n",
    "        JOBCONF1 = {\n",
    "            'mapred.map.tasks': 10,\n",
    "            'mapred.reduce.tasks': 10,\n",
    "            'mapreduce.job.local.dir':'/data_data/session_length/hadoop',\n",
    "            'mapred.task.tmp.dir':'/data_data/session_length/hadoop',\n",
    "            'mapreduce.task.tmp.dir':'/data_data/session_length/hadoop',\n",
    "            'mapreduce.output.fileoutputformat.outputdir': '/data_data/session_length/hadoop',\n",
    "            'mapreduce.cluster.local.dir':'/data_data/session_length/hadoop',\n",
    "            'mapred.partition.keypartitioner.options': '-k1',\n",
    "            'mapred.output.key.comparator.class': 'org.apache.hadoop.mapred.lib.KeyFieldBasedComparator',\n",
    "            'mapred.text.key.comparator.options': '-k1',\n",
    "            'mapreduce.map.memory.mb':40960,\n",
    "            'mapreduce.reduce.memory.mb':40960,\n",
    "            'mapreduce.map.java.opts':'-Xmx30720m',\n",
    "            'mapreduce.reduce.java.opts':'-Xmx61440m'\n",
    "        }\n",
    "        \n",
    "        return [MRStep(mapper=self.mapper_translate,\n",
    "                      reducer=self.reducer_timezone)]\n",
    "       \n",
    "\n",
    "if __name__ == '__main__':\n",
    "    MRtranslate.run()\n"
   ]
  },
  {
   "cell_type": "code",
   "execution_count": 508,
   "metadata": {},
   "outputs": [
    {
     "name": "stdout",
     "output_type": "stream",
     "text": [
      "-rw-r--r-- 1 hduser hadoop 153K Sep 16 11:15 data/Session_data_1k.csv\r\n",
      "-rw-r--r-- 1 hduser hadoop 1.6M Sep 16 11:15 data/Session_data_10k.csv\r\n",
      "-rw-r--r-- 1 hduser hadoop  17M Sep 16 11:15 data/Session_data_100k.csv\r\n",
      "-rw-r--r-- 1 hduser hadoop 1.4K Sep 16 12:45 data/Session_data_10.csv\r\n",
      "-rw-r--r-- 1 hduser hadoop 164M Sep 16 20:17 data/Session_data_1M.csv\r\n"
     ]
    }
   ],
   "source": [
    "!ls -alrth  data/Session_data_*"
   ]
  },
  {
   "cell_type": "code",
   "execution_count": 511,
   "metadata": {},
   "outputs": [
    {
     "name": "stdout",
     "output_type": "stream",
     "text": [
      "rm: cannot remove '/data_data/session_length/session_data_10.tsv': No such file or directory\n",
      "/usr/local/lib/python2.7/dist-packages/requests/__init__.py:83: RequestsDependencyWarning: Old version of cryptography ([1, 2, 3]) may cause slowdown.\n",
      "  warnings.warn(warning, RequestsDependencyWarning)\n",
      "No handlers could be found for logger \"mrjob.launch\"\n",
      "No configs found; falling back on auto-configuration\n",
      "No configs specified for inline runner\n",
      "configure_options() is deprecated and will be removed in v0.7.0; please use configure_args() instead.\n",
      "add_file_option() is deprecated and will be removed in v0.7.0. Use add_file_arg() instead.\n",
      "Running step 1 of 1...\n",
      "Creating temp directory /tmp/MRtranslate.hduser.20180916.202135.104208\n",
      "configure_options() is deprecated and will be removed in v0.7.0; please use configure_args() instead.\n",
      "add_file_option() is deprecated and will be removed in v0.7.0. Use add_file_arg() instead.\n",
      "configure_options() is deprecated and will be removed in v0.7.0; please use configure_args() instead.\n",
      "add_file_option() is deprecated and will be removed in v0.7.0. Use add_file_arg() instead.\n",
      "configure_options() is deprecated and will be removed in v0.7.0; please use configure_args() instead.\n",
      "add_file_option() is deprecated and will be removed in v0.7.0. Use add_file_arg() instead.\n",
      "configure_options() is deprecated and will be removed in v0.7.0; please use configure_args() instead.\n",
      "add_file_option() is deprecated and will be removed in v0.7.0. Use add_file_arg() instead.\n",
      "configure_options() is deprecated and will be removed in v0.7.0; please use configure_args() instead.\n",
      "add_file_option() is deprecated and will be removed in v0.7.0. Use add_file_arg() instead.\n",
      "configure_options() is deprecated and will be removed in v0.7.0; please use configure_args() instead.\n",
      "add_file_option() is deprecated and will be removed in v0.7.0. Use add_file_arg() instead.\n",
      "configure_options() is deprecated and will be removed in v0.7.0; please use configure_args() instead.\n",
      "add_file_option() is deprecated and will be removed in v0.7.0. Use add_file_arg() instead.\n",
      "configure_options() is deprecated and will be removed in v0.7.0; please use configure_args() instead.\n",
      "add_file_option() is deprecated and will be removed in v0.7.0. Use add_file_arg() instead.\n",
      "configure_options() is deprecated and will be removed in v0.7.0; please use configure_args() instead.\n",
      "add_file_option() is deprecated and will be removed in v0.7.0. Use add_file_arg() instead.\n",
      "configure_options() is deprecated and will be removed in v0.7.0; please use configure_args() instead.\n",
      "add_file_option() is deprecated and will be removed in v0.7.0. Use add_file_arg() instead.\n",
      "configure_options() is deprecated and will be removed in v0.7.0; please use configure_args() instead.\n",
      "add_file_option() is deprecated and will be removed in v0.7.0. Use add_file_arg() instead.\n",
      "configure_options() is deprecated and will be removed in v0.7.0; please use configure_args() instead.\n",
      "add_file_option() is deprecated and will be removed in v0.7.0. Use add_file_arg() instead.\n",
      "job output is in /tmp/MRtranslate.hduser.20180916.202135.104208/output\n",
      "Streaming final output from /tmp/MRtranslate.hduser.20180916.202135.104208/output...\n",
      "Removing temp directory /tmp/MRtranslate.hduser.20180916.202135.104208...\n"
     ]
    }
   ],
   "source": [
    "!rm /data_data/session_length/session_data_10.tsv\n",
    "#!rm -R /tmp/MRtranslate*\n",
    "!python MRtranslate.py ./data/Session_data_10.csv --tzFile=/data_data/session_length/country_capital_city_tz.json  > Session_data_10_translated.tsv"
   ]
  },
  {
   "cell_type": "code",
   "execution_count": null,
   "metadata": {},
   "outputs": [],
   "source": []
  },
  {
   "cell_type": "code",
   "execution_count": null,
   "metadata": {},
   "outputs": [],
   "source": []
  },
  {
   "cell_type": "markdown",
   "metadata": {},
   "source": [
    "#### Using HOLIDAY API to determine whether day is holiday in each country"
   ]
  },
  {
   "cell_type": "markdown",
   "metadata": {},
   "source": [
    "https://holidayapi.com/"
   ]
  },
  {
   "cell_type": "code",
   "execution_count": 514,
   "metadata": {},
   "outputs": [],
   "source": [
    "holidays_dict = {\n",
    "\"\tAngola\t\":\"\tAO\t\",\n",
    "\"\tAustria\t\":\"\tAT\t\",\n",
    "\"\tAustralia\t\":\"\tAU\t\",\n",
    "\"\tAruba\t\":\"\tAW\t\",\n",
    "\"\tFalkland Islands\t\":\"\tAX\t\",\n",
    "\"\tBosnia and Herzegovina\t\":\"\tBA\t\",\n",
    "\"\tBelgium\t\":\"\tBE\t\",\n",
    "\"\tBulgaria\t\":\"\tBG\t\",\n",
    "\"\tBolivia\t\":\"\tBO\t\",\n",
    "\"\tBrazil\t\":\"\tBR\t\",\n",
    "\"\tThe Bahamas\t\":\"\tBS\t\",\n",
    "\"\tCanada\t\":\"\tCA\t\",\n",
    "\"\tSwitzerland\t\":\"\tCH\t\",\n",
    "\"\tChina\t\":\"\tCN\t\",\n",
    "\"\tColombia\t\":\"\tCO\t\",\n",
    "\"\tCosta Rica\t\":\"\tCR\t\",\n",
    "\"\tCuba\t\":\"\tCU\t\",\n",
    "\"\tCzech Republic\t\":\"\tCZ\t\",\n",
    "\"\tGermany\t\":\"\tDE\t\",\n",
    "\"\tDenmark\t\":\"\tDK\t\",\n",
    "\"\tDominican Republic\t\":\"\tDO\t\",\n",
    "\"\tEcuador\t\":\"\tEC\t\",\n",
    "\"\tSpain\t\":\"\tES\t\",\n",
    "\"\tFinland\t\":\"\tFI\t\",\n",
    "\"\tFrance\t\":\"\tFR\t\",\n",
    "\"\tAlsace\t\":\"\tFR\t\",\n",
    "\"\tUnited Kingdom\t\":\"\tGB\t\",\n",
    "\"\tEngland\t\":\"\tGB\t\",\n",
    "\"\tNorthern Ireland\t\":\"\tGB\t\",\n",
    "\"\tScotland\t\":\"\tGB\t\",\n",
    "\"\tWales\t\":\"\tGB\t\",\n",
    "\"\tGreece\t\":\"\tGR\t\",\n",
    "\"\tGuatemala\t\":\"\tGT\t\",\n",
    "\"\tHong Kong\t\":\"\tHK\t\",\n",
    "\"\tHonduras\t\":\"\tHN\t\",\n",
    "\"\tCroatia\t\":\"\tHR\t\",\n",
    "\"\tHungary\t\":\"\tHU\t\",\n",
    "\"\tIndonesia\t\":\"\tID\t\",\n",
    "\"\tIreland\t\":\"\tIE\t\",\n",
    "\"\tIndia\t\":\"\tIN\t\",\n",
    "\"\tIsrael\t\":\"\tIL\t\",\n",
    "\"\tIceland\t\":\"\tIS\t\",\n",
    "\"\tItaly\t\":\"\tIT\t\",\n",
    "\"\tJapan\t\":\"\tJP\t\",\n",
    "\"\tKazakhstan\t\":\"\tKZ\t\",\n",
    "\"\tLesotho\t\":\"\tLS\t\",\n",
    "\"\tLuxembourg\t\":\"\tLU\t\",\n",
    "\"\tMadagascar\t\":\"\tMG\t\",\n",
    "\"\tMartinique\t\":\"\tMQ\t\",\n",
    "\"\tMalta\t\":\"\tMT\t\",\n",
    "\"\tMauritius\t\":\"\tMU\t\",\n",
    "\"\tMexico\t\":\"\tMX\t\",\n",
    "\"\tMozambique\t\":\"\tMZ\t\",\n",
    "\"\tNigeria\t\":\"\tNG\t\",\n",
    "\"\tNetherlands\t\":\"\tNL\t\",\n",
    "\"\tNorway\t\":\"\tNO\t\",\n",
    "\"\tPeru\t\":\"\tPE\t\",\n",
    "\"\tPakistan\t\":\"\tPK\t\",\n",
    "\"\tPhilippines\t\":\"\tPH\t\",\n",
    "\"\tPoland\t\":\"\tPL\t\",\n",
    "\"\tPuerto Rico\t\":\"\tPR\t\",\n",
    "\"\tPortugal\t\":\"\tPT\t\",\n",
    "\"\tParaguay\t\":\"\tPY\t\",\n",
    "\"\tReunion\t\":\"\tRE\t\",\n",
    "\"\tRomania\t\":\"\tRO\t\",\n",
    "\"\tRussia\t\":\"\tRU\t\",\n",
    "\"\tSeychelles\t\":\"\tSC\t\",\n",
    "\"\tSweden\t\":\"\tSE\t\",\n",
    "\"\tSingapore\t\":\"\tSG\t\",\n",
    "\"\tSlovenia\t\":\"\tSI\t\",\n",
    "\"\tSao Tome and Principe\t\":\"\tST\t\",\n",
    "\"\tSlovakia\t\":\"\tSK\t\",\n",
    "\"\tTunisia\t\":\"\tTN\t\",\n",
    "\"\tTurkey\t\":\"\tTR\t\",\n",
    "\"\tUkraine\t\":\"\tUA\t\",\n",
    "\"\tUnited States\t\":\"\tUS\t\",\n",
    "\"\tUruguay\t\":\"\tUY\t\",\n",
    "\"\tVenezuela\t\":\"\tVE\t\",\n",
    "\"\tSouth Africa\t\":\"\tZA\t\"}"
   ]
  },
  {
   "cell_type": "code",
   "execution_count": 515,
   "metadata": {},
   "outputs": [
    {
     "data": {
      "text/plain": [
       "{'Alsace': 'FR',\n",
       " 'Angola': 'AO',\n",
       " 'Aruba': 'AW',\n",
       " 'Australia': 'AU',\n",
       " 'Austria': 'AT',\n",
       " 'Belgium': 'BE',\n",
       " 'Bolivia': 'BO',\n",
       " 'Bosnia and Herzegovina': 'BA',\n",
       " 'Brazil': 'BR',\n",
       " 'Bulgaria': 'BG',\n",
       " 'Canada': 'CA',\n",
       " 'China': 'CN',\n",
       " 'Colombia': 'CO',\n",
       " 'Costa Rica': 'CR',\n",
       " 'Croatia': 'HR',\n",
       " 'Cuba': 'CU',\n",
       " 'Czech Republic': 'CZ',\n",
       " 'Denmark': 'DK',\n",
       " 'Dominican Republic': 'DO',\n",
       " 'Ecuador': 'EC',\n",
       " 'England': 'GB',\n",
       " 'Falkland Islands': 'AX',\n",
       " 'Finland': 'FI',\n",
       " 'France': 'FR',\n",
       " 'Germany': 'DE',\n",
       " 'Greece': 'GR',\n",
       " 'Guatemala': 'GT',\n",
       " 'Honduras': 'HN',\n",
       " 'Hong Kong': 'HK',\n",
       " 'Hungary': 'HU',\n",
       " 'Iceland': 'IS',\n",
       " 'India': 'IN',\n",
       " 'Indonesia': 'ID',\n",
       " 'Ireland': 'IE',\n",
       " 'Israel': 'IL',\n",
       " 'Italy': 'IT',\n",
       " 'Japan': 'JP',\n",
       " 'Kazakhstan': 'KZ',\n",
       " 'Lesotho': 'LS',\n",
       " 'Luxembourg': 'LU',\n",
       " 'Madagascar': 'MG',\n",
       " 'Malta': 'MT',\n",
       " 'Martinique': 'MQ',\n",
       " 'Mauritius': 'MU',\n",
       " 'Mexico': 'MX',\n",
       " 'Mozambique': 'MZ',\n",
       " 'Netherlands': 'NL',\n",
       " 'Nigeria': 'NG',\n",
       " 'Northern Ireland': 'GB',\n",
       " 'Norway': 'NO',\n",
       " 'Pakistan': 'PK',\n",
       " 'Paraguay': 'PY',\n",
       " 'Peru': 'PE',\n",
       " 'Philippines': 'PH',\n",
       " 'Poland': 'PL',\n",
       " 'Portugal': 'PT',\n",
       " 'Puerto Rico': 'PR',\n",
       " 'Reunion': 'RE',\n",
       " 'Romania': 'RO',\n",
       " 'Russia': 'RU',\n",
       " 'Sao Tome and Principe': 'ST',\n",
       " 'Scotland': 'GB',\n",
       " 'Seychelles': 'SC',\n",
       " 'Singapore': 'SG',\n",
       " 'Slovakia': 'SK',\n",
       " 'Slovenia': 'SI',\n",
       " 'South Africa': 'ZA',\n",
       " 'Spain': 'ES',\n",
       " 'Sweden': 'SE',\n",
       " 'Switzerland': 'CH',\n",
       " 'The Bahamas': 'BS',\n",
       " 'Tunisia': 'TN',\n",
       " 'Turkey': 'TR',\n",
       " 'Ukraine': 'UA',\n",
       " 'United Kingdom': 'GB',\n",
       " 'United States': 'US',\n",
       " 'Uruguay': 'UY',\n",
       " 'Venezuela': 'VE',\n",
       " 'Wales': 'GB'}"
      ]
     },
     "execution_count": 515,
     "metadata": {},
     "output_type": "execute_result"
    }
   ],
   "source": [
    "h_dict = dict()\n",
    "holiday_dict = [h_dict.update({value.strip():key.strip()}) for value, key in holidays_dict.items()]\n",
    "h_dict"
   ]
  },
  {
   "cell_type": "markdown",
   "metadata": {},
   "source": [
    "#### API Usage"
   ]
  },
  {
   "cell_type": "code",
   "execution_count": 516,
   "metadata": {},
   "outputs": [],
   "source": [
    "import holidayapi"
   ]
  },
  {
   "cell_type": "code",
   "execution_count": 517,
   "metadata": {},
   "outputs": [],
   "source": [
    "holiday_api_key = 'c37751f8-3eea-4a41-b839-d6e49ae3c131'"
   ]
  },
  {
   "cell_type": "code",
   "execution_count": 518,
   "metadata": {},
   "outputs": [],
   "source": [
    "hapi = holidayapi.v1(holiday_api_key)\n",
    "\n",
    "parameters = {\n",
    "    'country': 'US',\n",
    "    'year':    2016,\n",
    "    'month':    7,\n",
    "    'day':      4\n",
    "    }\n",
    "\n",
    "holidays = hapi.holidays(parameters)"
   ]
  },
  {
   "cell_type": "code",
   "execution_count": 519,
   "metadata": {},
   "outputs": [
    {
     "data": {
      "text/plain": [
       "{u'holidays': [{u'date': u'2016-07-04',\n",
       "   u'name': u'Independence Day',\n",
       "   u'observed': u'2016-07-04',\n",
       "   u'public': True}],\n",
       " u'status': 200}"
      ]
     },
     "execution_count": 519,
     "metadata": {},
     "output_type": "execute_result"
    }
   ],
   "source": [
    "holidays"
   ]
  },
  {
   "cell_type": "code",
   "execution_count": 521,
   "metadata": {},
   "outputs": [
    {
     "ename": "Py4JJavaError",
     "evalue": "An error occurred while calling o115.showString.\n: org.apache.spark.sql.catalyst.errors.package$TreeNodeException: execute, tree:\nExchange hashpartitioning(country#3, 200)\n+- *(1) HashAggregate(keys=[country#3], functions=[], output=[country#3])\n   +- *(1) FileScan csv [country#3] Batched: false, Format: CSV, Location: InMemoryFileIndex[file:/data_data/session_length/data/lastFM/lastfm-dataset-1K/userid-profile.tsv], PartitionFilters: [], PushedFilters: [], ReadSchema: struct<country:string>\n\n\tat org.apache.spark.sql.catalyst.errors.package$.attachTree(package.scala:56)\n\tat org.apache.spark.sql.execution.exchange.ShuffleExchangeExec.doExecute(ShuffleExchangeExec.scala:119)\n\tat org.apache.spark.sql.execution.SparkPlan$$anonfun$execute$1.apply(SparkPlan.scala:131)\n\tat org.apache.spark.sql.execution.SparkPlan$$anonfun$execute$1.apply(SparkPlan.scala:127)\n\tat org.apache.spark.sql.execution.SparkPlan$$anonfun$executeQuery$1.apply(SparkPlan.scala:155)\n\tat org.apache.spark.rdd.RDDOperationScope$.withScope(RDDOperationScope.scala:151)\n\tat org.apache.spark.sql.execution.SparkPlan.executeQuery(SparkPlan.scala:152)\n\tat org.apache.spark.sql.execution.SparkPlan.execute(SparkPlan.scala:127)\n\tat org.apache.spark.sql.execution.InputAdapter.inputRDDs(WholeStageCodegenExec.scala:371)\n\tat org.apache.spark.sql.execution.aggregate.HashAggregateExec.inputRDDs(HashAggregateExec.scala:150)\n\tat org.apache.spark.sql.execution.BaseLimitExec$class.inputRDDs(limit.scala:62)\n\tat org.apache.spark.sql.execution.LocalLimitExec.inputRDDs(limit.scala:97)\n\tat org.apache.spark.sql.execution.WholeStageCodegenExec.doExecute(WholeStageCodegenExec.scala:605)\n\tat org.apache.spark.sql.execution.SparkPlan$$anonfun$execute$1.apply(SparkPlan.scala:131)\n\tat org.apache.spark.sql.execution.SparkPlan$$anonfun$execute$1.apply(SparkPlan.scala:127)\n\tat org.apache.spark.sql.execution.SparkPlan$$anonfun$executeQuery$1.apply(SparkPlan.scala:155)\n\tat org.apache.spark.rdd.RDDOperationScope$.withScope(RDDOperationScope.scala:151)\n\tat org.apache.spark.sql.execution.SparkPlan.executeQuery(SparkPlan.scala:152)\n\tat org.apache.spark.sql.execution.SparkPlan.execute(SparkPlan.scala:127)\n\tat org.apache.spark.sql.execution.SparkPlan.getByteArrayRdd(SparkPlan.scala:247)\n\tat org.apache.spark.sql.execution.SparkPlan.executeTake(SparkPlan.scala:337)\n\tat org.apache.spark.sql.execution.CollectLimitExec.executeCollect(limit.scala:38)\n\tat org.apache.spark.sql.Dataset.org$apache$spark$sql$Dataset$$collectFromPlan(Dataset.scala:3272)\n\tat org.apache.spark.sql.Dataset$$anonfun$head$1.apply(Dataset.scala:2484)\n\tat org.apache.spark.sql.Dataset$$anonfun$head$1.apply(Dataset.scala:2484)\n\tat org.apache.spark.sql.Dataset$$anonfun$52.apply(Dataset.scala:3253)\n\tat org.apache.spark.sql.execution.SQLExecution$.withNewExecutionId(SQLExecution.scala:77)\n\tat org.apache.spark.sql.Dataset.withAction(Dataset.scala:3252)\n\tat org.apache.spark.sql.Dataset.head(Dataset.scala:2484)\n\tat org.apache.spark.sql.Dataset.take(Dataset.scala:2698)\n\tat org.apache.spark.sql.Dataset.showString(Dataset.scala:254)\n\tat sun.reflect.GeneratedMethodAccessor70.invoke(Unknown Source)\n\tat sun.reflect.DelegatingMethodAccessorImpl.invoke(DelegatingMethodAccessorImpl.java:43)\n\tat java.lang.reflect.Method.invoke(Method.java:498)\n\tat py4j.reflection.MethodInvoker.invoke(MethodInvoker.java:244)\n\tat py4j.reflection.ReflectionEngine.invoke(ReflectionEngine.java:357)\n\tat py4j.Gateway.invoke(Gateway.java:282)\n\tat py4j.commands.AbstractCommand.invokeMethod(AbstractCommand.java:132)\n\tat py4j.commands.CallCommand.execute(CallCommand.java:79)\n\tat py4j.GatewayConnection.run(GatewayConnection.java:214)\n\tat java.lang.Thread.run(Thread.java:748)\nCaused by: java.lang.IllegalStateException: Cannot call methods on a stopped SparkContext.\nThis stopped SparkContext was created at:\n\norg.apache.spark.api.java.JavaSparkContext.<init>(JavaSparkContext.scala:58)\nsun.reflect.NativeConstructorAccessorImpl.newInstance0(Native Method)\nsun.reflect.NativeConstructorAccessorImpl.newInstance(NativeConstructorAccessorImpl.java:62)\nsun.reflect.DelegatingConstructorAccessorImpl.newInstance(DelegatingConstructorAccessorImpl.java:45)\njava.lang.reflect.Constructor.newInstance(Constructor.java:423)\npy4j.reflection.MethodInvoker.invoke(MethodInvoker.java:247)\npy4j.reflection.ReflectionEngine.invoke(ReflectionEngine.java:357)\npy4j.Gateway.invoke(Gateway.java:238)\npy4j.commands.ConstructorCommand.invokeConstructor(ConstructorCommand.java:80)\npy4j.commands.ConstructorCommand.execute(ConstructorCommand.java:69)\npy4j.GatewayConnection.run(GatewayConnection.java:214)\njava.lang.Thread.run(Thread.java:748)\n\nThe currently active SparkContext was created at:\n\norg.apache.spark.api.java.JavaSparkContext.<init>(JavaSparkContext.scala:58)\nsun.reflect.NativeConstructorAccessorImpl.newInstance0(Native Method)\nsun.reflect.NativeConstructorAccessorImpl.newInstance(NativeConstructorAccessorImpl.java:62)\nsun.reflect.DelegatingConstructorAccessorImpl.newInstance(DelegatingConstructorAccessorImpl.java:45)\njava.lang.reflect.Constructor.newInstance(Constructor.java:423)\npy4j.reflection.MethodInvoker.invoke(MethodInvoker.java:247)\npy4j.reflection.ReflectionEngine.invoke(ReflectionEngine.java:357)\npy4j.Gateway.invoke(Gateway.java:238)\npy4j.commands.ConstructorCommand.invokeConstructor(ConstructorCommand.java:80)\npy4j.commands.ConstructorCommand.execute(ConstructorCommand.java:69)\npy4j.GatewayConnection.run(GatewayConnection.java:214)\njava.lang.Thread.run(Thread.java:748)\n         \n\tat org.apache.spark.SparkContext.assertNotStopped(SparkContext.scala:99)\n\tat org.apache.spark.SparkContext.broadcast(SparkContext.scala:1478)\n\tat org.apache.spark.sql.execution.datasources.csv.CSVFileFormat.buildReader(CSVFileFormat.scala:96)\n\tat org.apache.spark.sql.execution.datasources.FileFormat$class.buildReaderWithPartitionValues(FileFormat.scala:129)\n\tat org.apache.spark.sql.execution.datasources.TextBasedFileFormat.buildReaderWithPartitionValues(FileFormat.scala:160)\n\tat org.apache.spark.sql.execution.FileSourceScanExec.inputRDD$lzycompute(DataSourceScanExec.scala:295)\n\tat org.apache.spark.sql.execution.FileSourceScanExec.inputRDD(DataSourceScanExec.scala:293)\n\tat org.apache.spark.sql.execution.FileSourceScanExec.inputRDDs(DataSourceScanExec.scala:313)\n\tat org.apache.spark.sql.execution.aggregate.HashAggregateExec.inputRDDs(HashAggregateExec.scala:150)\n\tat org.apache.spark.sql.execution.WholeStageCodegenExec.doExecute(WholeStageCodegenExec.scala:605)\n\tat org.apache.spark.sql.execution.SparkPlan$$anonfun$execute$1.apply(SparkPlan.scala:131)\n\tat org.apache.spark.sql.execution.SparkPlan$$anonfun$execute$1.apply(SparkPlan.scala:127)\n\tat org.apache.spark.sql.execution.SparkPlan$$anonfun$executeQuery$1.apply(SparkPlan.scala:155)\n\tat org.apache.spark.rdd.RDDOperationScope$.withScope(RDDOperationScope.scala:151)\n\tat org.apache.spark.sql.execution.SparkPlan.executeQuery(SparkPlan.scala:152)\n\tat org.apache.spark.sql.execution.SparkPlan.execute(SparkPlan.scala:127)\n\tat org.apache.spark.sql.execution.exchange.ShuffleExchangeExec.prepareShuffleDependency(ShuffleExchangeExec.scala:92)\n\tat org.apache.spark.sql.execution.exchange.ShuffleExchangeExec$$anonfun$doExecute$1.apply(ShuffleExchangeExec.scala:128)\n\tat org.apache.spark.sql.execution.exchange.ShuffleExchangeExec$$anonfun$doExecute$1.apply(ShuffleExchangeExec.scala:119)\n\tat org.apache.spark.sql.catalyst.errors.package$.attachTree(package.scala:52)\n\t... 40 more\n",
     "output_type": "error",
     "traceback": [
      "\u001b[0;31m\u001b[0m",
      "\u001b[0;31mPy4JJavaError\u001b[0mTraceback (most recent call last)",
      "\u001b[0;32m<ipython-input-521-931db3a814fd>\u001b[0m in \u001b[0;36m<module>\u001b[0;34m()\u001b[0m\n\u001b[0;32m----> 1\u001b[0;31m \u001b[0mcountries_df\u001b[0m\u001b[0;34m.\u001b[0m\u001b[0mshow\u001b[0m\u001b[0;34m(\u001b[0m\u001b[0;34m)\u001b[0m\u001b[0;34m\u001b[0m\u001b[0m\n\u001b[0m",
      "\u001b[0;32m/usr/local/lib/python2.7/dist-packages/pyspark/sql/dataframe.pyc\u001b[0m in \u001b[0;36mshow\u001b[0;34m(self, n, truncate, vertical)\u001b[0m\n\u001b[1;32m    348\u001b[0m         \"\"\"\n\u001b[1;32m    349\u001b[0m         \u001b[0;32mif\u001b[0m \u001b[0misinstance\u001b[0m\u001b[0;34m(\u001b[0m\u001b[0mtruncate\u001b[0m\u001b[0;34m,\u001b[0m \u001b[0mbool\u001b[0m\u001b[0;34m)\u001b[0m \u001b[0;32mand\u001b[0m \u001b[0mtruncate\u001b[0m\u001b[0;34m:\u001b[0m\u001b[0;34m\u001b[0m\u001b[0m\n\u001b[0;32m--> 350\u001b[0;31m             \u001b[0;32mprint\u001b[0m\u001b[0;34m(\u001b[0m\u001b[0mself\u001b[0m\u001b[0;34m.\u001b[0m\u001b[0m_jdf\u001b[0m\u001b[0;34m.\u001b[0m\u001b[0mshowString\u001b[0m\u001b[0;34m(\u001b[0m\u001b[0mn\u001b[0m\u001b[0;34m,\u001b[0m \u001b[0;36m20\u001b[0m\u001b[0;34m,\u001b[0m \u001b[0mvertical\u001b[0m\u001b[0;34m)\u001b[0m\u001b[0;34m)\u001b[0m\u001b[0;34m\u001b[0m\u001b[0m\n\u001b[0m\u001b[1;32m    351\u001b[0m         \u001b[0;32melse\u001b[0m\u001b[0;34m:\u001b[0m\u001b[0;34m\u001b[0m\u001b[0m\n\u001b[1;32m    352\u001b[0m             \u001b[0;32mprint\u001b[0m\u001b[0;34m(\u001b[0m\u001b[0mself\u001b[0m\u001b[0;34m.\u001b[0m\u001b[0m_jdf\u001b[0m\u001b[0;34m.\u001b[0m\u001b[0mshowString\u001b[0m\u001b[0;34m(\u001b[0m\u001b[0mn\u001b[0m\u001b[0;34m,\u001b[0m \u001b[0mint\u001b[0m\u001b[0;34m(\u001b[0m\u001b[0mtruncate\u001b[0m\u001b[0;34m)\u001b[0m\u001b[0;34m,\u001b[0m \u001b[0mvertical\u001b[0m\u001b[0;34m)\u001b[0m\u001b[0;34m)\u001b[0m\u001b[0;34m\u001b[0m\u001b[0m\n",
      "\u001b[0;32m/usr/local/lib/python2.7/dist-packages/py4j/java_gateway.pyc\u001b[0m in \u001b[0;36m__call__\u001b[0;34m(self, *args)\u001b[0m\n\u001b[1;32m   1158\u001b[0m         \u001b[0manswer\u001b[0m \u001b[0;34m=\u001b[0m \u001b[0mself\u001b[0m\u001b[0;34m.\u001b[0m\u001b[0mgateway_client\u001b[0m\u001b[0;34m.\u001b[0m\u001b[0msend_command\u001b[0m\u001b[0;34m(\u001b[0m\u001b[0mcommand\u001b[0m\u001b[0;34m)\u001b[0m\u001b[0;34m\u001b[0m\u001b[0m\n\u001b[1;32m   1159\u001b[0m         return_value = get_return_value(\n\u001b[0;32m-> 1160\u001b[0;31m             answer, self.gateway_client, self.target_id, self.name)\n\u001b[0m\u001b[1;32m   1161\u001b[0m \u001b[0;34m\u001b[0m\u001b[0m\n\u001b[1;32m   1162\u001b[0m         \u001b[0;32mfor\u001b[0m \u001b[0mtemp_arg\u001b[0m \u001b[0;32min\u001b[0m \u001b[0mtemp_args\u001b[0m\u001b[0;34m:\u001b[0m\u001b[0;34m\u001b[0m\u001b[0m\n",
      "\u001b[0;32m/usr/local/lib/python2.7/dist-packages/pyspark/sql/utils.pyc\u001b[0m in \u001b[0;36mdeco\u001b[0;34m(*a, **kw)\u001b[0m\n\u001b[1;32m     61\u001b[0m     \u001b[0;32mdef\u001b[0m \u001b[0mdeco\u001b[0m\u001b[0;34m(\u001b[0m\u001b[0;34m*\u001b[0m\u001b[0ma\u001b[0m\u001b[0;34m,\u001b[0m \u001b[0;34m**\u001b[0m\u001b[0mkw\u001b[0m\u001b[0;34m)\u001b[0m\u001b[0;34m:\u001b[0m\u001b[0;34m\u001b[0m\u001b[0m\n\u001b[1;32m     62\u001b[0m         \u001b[0;32mtry\u001b[0m\u001b[0;34m:\u001b[0m\u001b[0;34m\u001b[0m\u001b[0m\n\u001b[0;32m---> 63\u001b[0;31m             \u001b[0;32mreturn\u001b[0m \u001b[0mf\u001b[0m\u001b[0;34m(\u001b[0m\u001b[0;34m*\u001b[0m\u001b[0ma\u001b[0m\u001b[0;34m,\u001b[0m \u001b[0;34m**\u001b[0m\u001b[0mkw\u001b[0m\u001b[0;34m)\u001b[0m\u001b[0;34m\u001b[0m\u001b[0m\n\u001b[0m\u001b[1;32m     64\u001b[0m         \u001b[0;32mexcept\u001b[0m \u001b[0mpy4j\u001b[0m\u001b[0;34m.\u001b[0m\u001b[0mprotocol\u001b[0m\u001b[0;34m.\u001b[0m\u001b[0mPy4JJavaError\u001b[0m \u001b[0;32mas\u001b[0m \u001b[0me\u001b[0m\u001b[0;34m:\u001b[0m\u001b[0;34m\u001b[0m\u001b[0m\n\u001b[1;32m     65\u001b[0m             \u001b[0ms\u001b[0m \u001b[0;34m=\u001b[0m \u001b[0me\u001b[0m\u001b[0;34m.\u001b[0m\u001b[0mjava_exception\u001b[0m\u001b[0;34m.\u001b[0m\u001b[0mtoString\u001b[0m\u001b[0;34m(\u001b[0m\u001b[0;34m)\u001b[0m\u001b[0;34m\u001b[0m\u001b[0m\n",
      "\u001b[0;32m/usr/local/lib/python2.7/dist-packages/py4j/protocol.pyc\u001b[0m in \u001b[0;36mget_return_value\u001b[0;34m(answer, gateway_client, target_id, name)\u001b[0m\n\u001b[1;32m    318\u001b[0m                 raise Py4JJavaError(\n\u001b[1;32m    319\u001b[0m                     \u001b[0;34m\"An error occurred while calling {0}{1}{2}.\\n\"\u001b[0m\u001b[0;34m.\u001b[0m\u001b[0;34m\u001b[0m\u001b[0m\n\u001b[0;32m--> 320\u001b[0;31m                     format(target_id, \".\", name), value)\n\u001b[0m\u001b[1;32m    321\u001b[0m             \u001b[0;32melse\u001b[0m\u001b[0;34m:\u001b[0m\u001b[0;34m\u001b[0m\u001b[0m\n\u001b[1;32m    322\u001b[0m                 raise Py4JError(\n",
      "\u001b[0;31mPy4JJavaError\u001b[0m: An error occurred while calling o115.showString.\n: org.apache.spark.sql.catalyst.errors.package$TreeNodeException: execute, tree:\nExchange hashpartitioning(country#3, 200)\n+- *(1) HashAggregate(keys=[country#3], functions=[], output=[country#3])\n   +- *(1) FileScan csv [country#3] Batched: false, Format: CSV, Location: InMemoryFileIndex[file:/data_data/session_length/data/lastFM/lastfm-dataset-1K/userid-profile.tsv], PartitionFilters: [], PushedFilters: [], ReadSchema: struct<country:string>\n\n\tat org.apache.spark.sql.catalyst.errors.package$.attachTree(package.scala:56)\n\tat org.apache.spark.sql.execution.exchange.ShuffleExchangeExec.doExecute(ShuffleExchangeExec.scala:119)\n\tat org.apache.spark.sql.execution.SparkPlan$$anonfun$execute$1.apply(SparkPlan.scala:131)\n\tat org.apache.spark.sql.execution.SparkPlan$$anonfun$execute$1.apply(SparkPlan.scala:127)\n\tat org.apache.spark.sql.execution.SparkPlan$$anonfun$executeQuery$1.apply(SparkPlan.scala:155)\n\tat org.apache.spark.rdd.RDDOperationScope$.withScope(RDDOperationScope.scala:151)\n\tat org.apache.spark.sql.execution.SparkPlan.executeQuery(SparkPlan.scala:152)\n\tat org.apache.spark.sql.execution.SparkPlan.execute(SparkPlan.scala:127)\n\tat org.apache.spark.sql.execution.InputAdapter.inputRDDs(WholeStageCodegenExec.scala:371)\n\tat org.apache.spark.sql.execution.aggregate.HashAggregateExec.inputRDDs(HashAggregateExec.scala:150)\n\tat org.apache.spark.sql.execution.BaseLimitExec$class.inputRDDs(limit.scala:62)\n\tat org.apache.spark.sql.execution.LocalLimitExec.inputRDDs(limit.scala:97)\n\tat org.apache.spark.sql.execution.WholeStageCodegenExec.doExecute(WholeStageCodegenExec.scala:605)\n\tat org.apache.spark.sql.execution.SparkPlan$$anonfun$execute$1.apply(SparkPlan.scala:131)\n\tat org.apache.spark.sql.execution.SparkPlan$$anonfun$execute$1.apply(SparkPlan.scala:127)\n\tat org.apache.spark.sql.execution.SparkPlan$$anonfun$executeQuery$1.apply(SparkPlan.scala:155)\n\tat org.apache.spark.rdd.RDDOperationScope$.withScope(RDDOperationScope.scala:151)\n\tat org.apache.spark.sql.execution.SparkPlan.executeQuery(SparkPlan.scala:152)\n\tat org.apache.spark.sql.execution.SparkPlan.execute(SparkPlan.scala:127)\n\tat org.apache.spark.sql.execution.SparkPlan.getByteArrayRdd(SparkPlan.scala:247)\n\tat org.apache.spark.sql.execution.SparkPlan.executeTake(SparkPlan.scala:337)\n\tat org.apache.spark.sql.execution.CollectLimitExec.executeCollect(limit.scala:38)\n\tat org.apache.spark.sql.Dataset.org$apache$spark$sql$Dataset$$collectFromPlan(Dataset.scala:3272)\n\tat org.apache.spark.sql.Dataset$$anonfun$head$1.apply(Dataset.scala:2484)\n\tat org.apache.spark.sql.Dataset$$anonfun$head$1.apply(Dataset.scala:2484)\n\tat org.apache.spark.sql.Dataset$$anonfun$52.apply(Dataset.scala:3253)\n\tat org.apache.spark.sql.execution.SQLExecution$.withNewExecutionId(SQLExecution.scala:77)\n\tat org.apache.spark.sql.Dataset.withAction(Dataset.scala:3252)\n\tat org.apache.spark.sql.Dataset.head(Dataset.scala:2484)\n\tat org.apache.spark.sql.Dataset.take(Dataset.scala:2698)\n\tat org.apache.spark.sql.Dataset.showString(Dataset.scala:254)\n\tat sun.reflect.GeneratedMethodAccessor70.invoke(Unknown Source)\n\tat sun.reflect.DelegatingMethodAccessorImpl.invoke(DelegatingMethodAccessorImpl.java:43)\n\tat java.lang.reflect.Method.invoke(Method.java:498)\n\tat py4j.reflection.MethodInvoker.invoke(MethodInvoker.java:244)\n\tat py4j.reflection.ReflectionEngine.invoke(ReflectionEngine.java:357)\n\tat py4j.Gateway.invoke(Gateway.java:282)\n\tat py4j.commands.AbstractCommand.invokeMethod(AbstractCommand.java:132)\n\tat py4j.commands.CallCommand.execute(CallCommand.java:79)\n\tat py4j.GatewayConnection.run(GatewayConnection.java:214)\n\tat java.lang.Thread.run(Thread.java:748)\nCaused by: java.lang.IllegalStateException: Cannot call methods on a stopped SparkContext.\nThis stopped SparkContext was created at:\n\norg.apache.spark.api.java.JavaSparkContext.<init>(JavaSparkContext.scala:58)\nsun.reflect.NativeConstructorAccessorImpl.newInstance0(Native Method)\nsun.reflect.NativeConstructorAccessorImpl.newInstance(NativeConstructorAccessorImpl.java:62)\nsun.reflect.DelegatingConstructorAccessorImpl.newInstance(DelegatingConstructorAccessorImpl.java:45)\njava.lang.reflect.Constructor.newInstance(Constructor.java:423)\npy4j.reflection.MethodInvoker.invoke(MethodInvoker.java:247)\npy4j.reflection.ReflectionEngine.invoke(ReflectionEngine.java:357)\npy4j.Gateway.invoke(Gateway.java:238)\npy4j.commands.ConstructorCommand.invokeConstructor(ConstructorCommand.java:80)\npy4j.commands.ConstructorCommand.execute(ConstructorCommand.java:69)\npy4j.GatewayConnection.run(GatewayConnection.java:214)\njava.lang.Thread.run(Thread.java:748)\n\nThe currently active SparkContext was created at:\n\norg.apache.spark.api.java.JavaSparkContext.<init>(JavaSparkContext.scala:58)\nsun.reflect.NativeConstructorAccessorImpl.newInstance0(Native Method)\nsun.reflect.NativeConstructorAccessorImpl.newInstance(NativeConstructorAccessorImpl.java:62)\nsun.reflect.DelegatingConstructorAccessorImpl.newInstance(DelegatingConstructorAccessorImpl.java:45)\njava.lang.reflect.Constructor.newInstance(Constructor.java:423)\npy4j.reflection.MethodInvoker.invoke(MethodInvoker.java:247)\npy4j.reflection.ReflectionEngine.invoke(ReflectionEngine.java:357)\npy4j.Gateway.invoke(Gateway.java:238)\npy4j.commands.ConstructorCommand.invokeConstructor(ConstructorCommand.java:80)\npy4j.commands.ConstructorCommand.execute(ConstructorCommand.java:69)\npy4j.GatewayConnection.run(GatewayConnection.java:214)\njava.lang.Thread.run(Thread.java:748)\n         \n\tat org.apache.spark.SparkContext.assertNotStopped(SparkContext.scala:99)\n\tat org.apache.spark.SparkContext.broadcast(SparkContext.scala:1478)\n\tat org.apache.spark.sql.execution.datasources.csv.CSVFileFormat.buildReader(CSVFileFormat.scala:96)\n\tat org.apache.spark.sql.execution.datasources.FileFormat$class.buildReaderWithPartitionValues(FileFormat.scala:129)\n\tat org.apache.spark.sql.execution.datasources.TextBasedFileFormat.buildReaderWithPartitionValues(FileFormat.scala:160)\n\tat org.apache.spark.sql.execution.FileSourceScanExec.inputRDD$lzycompute(DataSourceScanExec.scala:295)\n\tat org.apache.spark.sql.execution.FileSourceScanExec.inputRDD(DataSourceScanExec.scala:293)\n\tat org.apache.spark.sql.execution.FileSourceScanExec.inputRDDs(DataSourceScanExec.scala:313)\n\tat org.apache.spark.sql.execution.aggregate.HashAggregateExec.inputRDDs(HashAggregateExec.scala:150)\n\tat org.apache.spark.sql.execution.WholeStageCodegenExec.doExecute(WholeStageCodegenExec.scala:605)\n\tat org.apache.spark.sql.execution.SparkPlan$$anonfun$execute$1.apply(SparkPlan.scala:131)\n\tat org.apache.spark.sql.execution.SparkPlan$$anonfun$execute$1.apply(SparkPlan.scala:127)\n\tat org.apache.spark.sql.execution.SparkPlan$$anonfun$executeQuery$1.apply(SparkPlan.scala:155)\n\tat org.apache.spark.rdd.RDDOperationScope$.withScope(RDDOperationScope.scala:151)\n\tat org.apache.spark.sql.execution.SparkPlan.executeQuery(SparkPlan.scala:152)\n\tat org.apache.spark.sql.execution.SparkPlan.execute(SparkPlan.scala:127)\n\tat org.apache.spark.sql.execution.exchange.ShuffleExchangeExec.prepareShuffleDependency(ShuffleExchangeExec.scala:92)\n\tat org.apache.spark.sql.execution.exchange.ShuffleExchangeExec$$anonfun$doExecute$1.apply(ShuffleExchangeExec.scala:128)\n\tat org.apache.spark.sql.execution.exchange.ShuffleExchangeExec$$anonfun$doExecute$1.apply(ShuffleExchangeExec.scala:119)\n\tat org.apache.spark.sql.catalyst.errors.package$.attachTree(package.scala:52)\n\t... 40 more\n"
     ]
    }
   ],
   "source": []
  },
  {
   "cell_type": "code",
   "execution_count": 460,
   "metadata": {},
   "outputs": [
    {
     "ename": "TypeError",
     "evalue": "Column is not iterable",
     "output_type": "error",
     "traceback": [
      "\u001b[0;31m\u001b[0m",
      "\u001b[0;31mTypeError\u001b[0mTraceback (most recent call last)",
      "\u001b[0;32m<ipython-input-460-7efb3bfc7c02>\u001b[0m in \u001b[0;36m<module>\u001b[0;34m()\u001b[0m\n\u001b[0;32m----> 1\u001b[0;31m \u001b[0;32mfor\u001b[0m \u001b[0mcountry\u001b[0m \u001b[0;32min\u001b[0m \u001b[0mcountries_df\u001b[0m\u001b[0;34m[\u001b[0m\u001b[0;34m'country'\u001b[0m\u001b[0;34m]\u001b[0m\u001b[0;34m:\u001b[0m\u001b[0;34m\u001b[0m\u001b[0m\n\u001b[0m\u001b[1;32m      2\u001b[0m     \u001b[0;32mprint\u001b[0m\u001b[0;34m(\u001b[0m\u001b[0mcountry\u001b[0m\u001b[0;34m)\u001b[0m\u001b[0;34m\u001b[0m\u001b[0m\n",
      "\u001b[0;32m/usr/local/lib/python2.7/dist-packages/pyspark/sql/column.pyc\u001b[0m in \u001b[0;36m__iter__\u001b[0;34m(self)\u001b[0m\n\u001b[1;32m    343\u001b[0m \u001b[0;34m\u001b[0m\u001b[0m\n\u001b[1;32m    344\u001b[0m     \u001b[0;32mdef\u001b[0m \u001b[0m__iter__\u001b[0m\u001b[0;34m(\u001b[0m\u001b[0mself\u001b[0m\u001b[0;34m)\u001b[0m\u001b[0;34m:\u001b[0m\u001b[0;34m\u001b[0m\u001b[0m\n\u001b[0;32m--> 345\u001b[0;31m         \u001b[0;32mraise\u001b[0m \u001b[0mTypeError\u001b[0m\u001b[0;34m(\u001b[0m\u001b[0;34m\"Column is not iterable\"\u001b[0m\u001b[0;34m)\u001b[0m\u001b[0;34m\u001b[0m\u001b[0m\n\u001b[0m\u001b[1;32m    346\u001b[0m \u001b[0;34m\u001b[0m\u001b[0m\n\u001b[1;32m    347\u001b[0m     \u001b[0;31m# string methods\u001b[0m\u001b[0;34m\u001b[0m\u001b[0;34m\u001b[0m\u001b[0m\n",
      "\u001b[0;31mTypeError\u001b[0m: Column is not iterable"
     ]
    }
   ],
   "source": []
  },
  {
   "cell_type": "code",
   "execution_count": null,
   "metadata": {},
   "outputs": [],
   "source": []
  },
  {
   "cell_type": "code",
   "execution_count": null,
   "metadata": {},
   "outputs": [],
   "source": []
  },
  {
   "cell_type": "code",
   "execution_count": 399,
   "metadata": {},
   "outputs": [
    {
     "data": {
      "text/plain": [
       "datetime.datetime(2009, 5, 5, 17, 8, 57, tzinfo=<DstTzInfo 'Asia/Tokyo' JST+9:00:00 STD>)"
      ]
     },
     "execution_count": 399,
     "metadata": {},
     "output_type": "execute_result"
    }
   ],
   "source": []
  },
  {
   "cell_type": "code",
   "execution_count": 400,
   "metadata": {},
   "outputs": [
    {
     "data": {
      "text/plain": [
       "datetime.datetime(2009, 5, 5, 8, 8, 57, tzinfo=<DstTzInfo 'Asia/Tokyo' JST+9:00:00 STD>)"
      ]
     },
     "execution_count": 400,
     "metadata": {},
     "output_type": "execute_result"
    }
   ],
   "source": [
    "local_time"
   ]
  },
  {
   "cell_type": "code",
   "execution_count": 344,
   "metadata": {},
   "outputs": [
    {
     "name": "stdout",
     "output_type": "stream",
     "text": [
      "\"user_000001\"\t\"2009-05-04T23:08:57\\tf1b1cf71-bd35-4e99-8624-24a6e15f133a\\tDeep Dish\\t\\tFuck Me Im Famous (Pacha Ibiza)-09-28-2007\\t23\\tm\\t\\tJapan\\tAug 13, 2006\\t2006-08-13\\tAsia/Tokyo\\t2009-05-05 08:08:57+09:00\"\r\n",
      "\"user_000001\"\t\"2009-05-04T13:54:10\\ta7f7df4a-77d8-4f12-8acd-5c60c93f4de8\\tRyuichi Sakamoto\\t\\tComposition 0919 (Live_2009_4_15)\\t13\\tm\\t\\tJapan\\tAug 13, 2006\\t2006-08-13\\tAsia/Tokyo\\t2009-05-04 22:54:10+09:00\"\r\n",
      "\"user_000001\"\t\"2009-05-04T13:52:04\\ta7f7df4a-77d8-4f12-8acd-5c60c93f4de8\\tRyuichi Sakamoto\\t\\tMc2 (Live_2009_4_15)\\t13\\tm\\t\\tJapan\\tAug 13, 2006\\t2006-08-13\\tAsia/Tokyo\\t2009-05-04 22:52:04+09:00\"\r\n",
      "\"user_000001\"\t\"2009-05-04T13:42:52\\ta7f7df4a-77d8-4f12-8acd-5c60c93f4de8\\tRyuichi Sakamoto\\t\\tHibari (Live_2009_4_15)\\t13\\tm\\t\\tJapan\\tAug 13, 2006\\t2006-08-13\\tAsia/Tokyo\\t2009-05-04 22:42:52+09:00\"\r\n",
      "\"user_000001\"\t\"2009-05-04T13:42:11\\ta7f7df4a-77d8-4f12-8acd-5c60c93f4de8\\tRyuichi Sakamoto\\t\\tMc1 (Live_2009_4_15)\\t13\\tm\\t\\tJapan\\tAug 13, 2006\\t2006-08-13\\tAsia/Tokyo\\t2009-05-04 22:42:11+09:00\"\r\n",
      "\"user_000001\"\t\"2009-05-04T13:38:31\\ta7f7df4a-77d8-4f12-8acd-5c60c93f4de8\\tRyuichi Sakamoto\\t\\tTo Stanford (Live_2009_4_15)\\t13\\tm\\t\\tJapan\\tAug 13, 2006\\t2006-08-13\\tAsia/Tokyo\\t2009-05-04 22:38:31+09:00\"\r\n",
      "\"user_000001\"\t\"2009-05-04T13:33:28\\ta7f7df4a-77d8-4f12-8acd-5c60c93f4de8\\tRyuichi Sakamoto\\t\\tImprovisation (Live_2009_4_15)\\t13\\tm\\t\\tJapan\\tAug 13, 2006\\t2006-08-13\\tAsia/Tokyo\\t2009-05-04 22:33:28+09:00\"\r\n",
      "\"user_000001\"\t\"2009-05-04T13:23:45\\ta7f7df4a-77d8-4f12-8acd-5c60c93f4de8\\tRyuichi Sakamoto\\t\\tGlacier (Live_2009_4_15)\\t13\\tm\\t\\tJapan\\tAug 13, 2006\\t2006-08-13\\tAsia/Tokyo\\t2009-05-04 22:23:45+09:00\"\r\n",
      "\"user_000001\"\t\"2009-05-04T13:19:22\\ta7f7df4a-77d8-4f12-8acd-5c60c93f4de8\\tRyuichi Sakamoto\\t\\tParolibre (Live_2009_4_15)\\t13\\tm\\t\\tJapan\\tAug 13, 2006\\t2006-08-13\\tAsia/Tokyo\\t2009-05-04 22:19:22+09:00\"\r\n",
      "\"userid\"\t\"timestam\\tartid\\tartname_\\ttraid\\tLoan_y_\\tsession_window\\tgender\\tage\\tcountry\\tregistered\\treg_date\\tNone\\tNone\"\r\n"
     ]
    }
   ],
   "source": [
    "!tail session_data_10.tsv "
   ]
  },
  {
   "cell_type": "code",
   "execution_count": 214,
   "metadata": {},
   "outputs": [
    {
     "name": "stdout",
     "output_type": "stream",
     "text": [
      "\"user_000001\"\t\"2009-05-04T23:08:57Z\\tf1b1cf71-bd35-4e99-8624-24a6e15f133a\\tDeep Dish\\t\\tFuck Me Im Famous (Pacha Ibiza)-09-28-2007\\t23\\tm\\t\\tJapan\\tAug 13, 2006\\t2006-08-13\"\r\n",
      "\"user_000001\"\t\"2009-05-04T13:54:10Z\\ta7f7df4a-77d8-4f12-8acd-5c60c93f4de8\\tRyuichi Sakamoto\\t\\tComposition 0919 (Live_2009_4_15)\\t13\\tm\\t\\tJapan\\tAug 13, 2006\\t2006-08-13\"\r\n",
      "\"user_000001\"\t\"2009-05-04T13:52:04Z\\ta7f7df4a-77d8-4f12-8acd-5c60c93f4de8\\tRyuichi Sakamoto\\t\\tMc2 (Live_2009_4_15)\\t13\\tm\\t\\tJapan\\tAug 13, 2006\\t2006-08-13\"\r\n",
      "\"user_000001\"\t\"2009-05-04T13:42:52Z\\ta7f7df4a-77d8-4f12-8acd-5c60c93f4de8\\tRyuichi Sakamoto\\t\\tHibari (Live_2009_4_15)\\t13\\tm\\t\\tJapan\\tAug 13, 2006\\t2006-08-13\"\r\n",
      "\"user_000001\"\t\"2009-05-04T13:42:11Z\\ta7f7df4a-77d8-4f12-8acd-5c60c93f4de8\\tRyuichi Sakamoto\\t\\tMc1 (Live_2009_4_15)\\t13\\tm\\t\\tJapan\\tAug 13, 2006\\t2006-08-13\"\r\n",
      "\"user_000001\"\t\"2009-05-04T13:38:31Z\\ta7f7df4a-77d8-4f12-8acd-5c60c93f4de8\\tRyuichi Sakamoto\\t\\tTo Stanford (Live_2009_4_15)\\t13\\tm\\t\\tJapan\\tAug 13, 2006\\t2006-08-13\"\r\n",
      "\"user_000001\"\t\"2009-05-04T13:33:28Z\\ta7f7df4a-77d8-4f12-8acd-5c60c93f4de8\\tRyuichi Sakamoto\\t\\tImprovisation (Live_2009_4_15)\\t13\\tm\\t\\tJapan\\tAug 13, 2006\\t2006-08-13\"\r\n",
      "\"user_000001\"\t\"2009-05-04T13:23:45Z\\ta7f7df4a-77d8-4f12-8acd-5c60c93f4de8\\tRyuichi Sakamoto\\t\\tGlacier (Live_2009_4_15)\\t13\\tm\\t\\tJapan\\tAug 13, 2006\\t2006-08-13\"\r\n",
      "\"user_000001\"\t\"2009-05-04T13:19:22Z\\ta7f7df4a-77d8-4f12-8acd-5c60c93f4de8\\tRyuichi Sakamoto\\t\\tParolibre (Live_2009_4_15)\\t13\\tm\\t\\tJapan\\tAug 13, 2006\\t2006-08-13\"\r\n",
      "\"userid\"\t\"timestamp\\tartid\\tartname_\\ttraid\\tLoan_y_\\tsession_window\\tgender\\tage\\tcountry\\tregistered\\treg_date\"\r\n"
     ]
    }
   ],
   "source": [
    "!head session_data_10.csv"
   ]
  },
  {
   "cell_type": "code",
   "execution_count": null,
   "metadata": {},
   "outputs": [],
   "source": []
  }
 ],
 "metadata": {
  "kernelspec": {
   "display_name": "Python 2",
   "language": "python",
   "name": "python2"
  },
  "language_info": {
   "codemirror_mode": {
    "name": "ipython",
    "version": 2
   },
   "file_extension": ".py",
   "mimetype": "text/x-python",
   "name": "python",
   "nbconvert_exporter": "python",
   "pygments_lexer": "ipython2",
   "version": "2.7.12"
  }
 },
 "nbformat": 4,
 "nbformat_minor": 2
}

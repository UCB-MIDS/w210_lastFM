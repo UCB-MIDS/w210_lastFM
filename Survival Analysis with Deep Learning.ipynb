{
 "cells": [
  {
   "cell_type": "code",
   "execution_count": 2,
   "metadata": {},
   "outputs": [],
   "source": [
    "import pandas as pd"
   ]
  },
  {
   "cell_type": "code",
   "execution_count": 4,
   "metadata": {},
   "outputs": [
    {
     "data": {
      "text/html": [
       "<style>.container { width:100% !important; }</style>"
      ],
      "text/plain": [
       "<IPython.core.display.HTML object>"
      ]
     },
     "metadata": {},
     "output_type": "display_data"
    }
   ],
   "source": [
    "from IPython.core.display import display, HTML\n",
    "display(HTML(\"<style>.container { width:100% !important; }</style>\"))\n",
    "\n",
    "pd.set_option('display.height', 1000)\n",
    "pd.set_option('display.max_rows', 500)\n",
    "pd.set_option('display.max_columns', 500)\n",
    "pd.set_option('display.width', 1000)\n",
    "pd.set_option('display.expand_frame_repr', False)\n",
    "pd.set_option('max_colwidth', 800)\n",
    "pd.set_option('display.max_colwidth', 500)\n",
    "pd.set_option('expand_frame_repr', True)"
   ]
  },
  {
   "cell_type": "code",
   "execution_count": null,
   "metadata": {},
   "outputs": [],
   "source": []
  },
  {
   "cell_type": "code",
   "execution_count": 3,
   "metadata": {},
   "outputs": [],
   "source": [
    "APP_NAME = \"Survival Analysis with Deep Learning\"\n",
    "\n",
    "try:\n",
    "    sc.stop()\n",
    "    spark.stop()\n",
    "except:\n",
    "    pass\n",
    "\n",
    "from pyspark import SparkConf\n",
    "from pyspark.context import SparkContext\n",
    "from pyspark.sql.session import SparkSession\n",
    "\n",
    "try:\n",
    "    sc and spark\n",
    "except (NameError, UnboundLocalError) as e:\n",
    "    import findspark\n",
    "    #findspark.init()\n",
    "    import pyspark\n",
    "    import pyspark.sql\n",
    "    \n",
    "    #sc = pyspark.SparkContext()\n",
    "    #spark = pyspark.sql.SparkSession(sc).builder.appName(APP_NAME).getOrCreate()\n",
    "    \n",
    "sc = SparkContext(conf = SparkConf() .set(\"spark.driver.maxResultSize\", \"20g\") .set(\"spark.sql.execution.arrow.enabled\", \"true\") .set('spark.sql.broadcastTimeout', 1000) .set('spark.local.dir', '/data_data/session_length/spark_tmp/') .set('spark.driver.memory', '20G') .set(\"spark.executor.instances\", \"20\") .set(\"spark.executor.cores\", 20) .set(\"spark.executor.memory\", \"8G\")).getOrCreate()\n",
    "spark = SparkSession(sc)\n",
    "spark.sparkContext.setLogLevel(\"ERROR\")\n",
    "    "
   ]
  },
  {
   "cell_type": "code",
   "execution_count": 5,
   "metadata": {},
   "outputs": [
    {
     "data": {
      "text/plain": [
       "[(u'spark.local.dir', u'/data_data/session_length/spark_tmp/'),\n",
       " (u'spark.driver.port', u'38336'),\n",
       " (u'spark.driver.memory', u'20G'),\n",
       " (u'spark.sql.execution.arrow.enabled', u'true'),\n",
       " (u'spark.executor.cores', u'20'),\n",
       " (u'spark.executor.memory', u'8G'),\n",
       " (u'spark.executor.id', u'driver'),\n",
       " (u'spark.app.name', u'pyspark-shell'),\n",
       " (u'spark.executor.instances', u'20'),\n",
       " (u'spark.driver.maxResultSize', u'20g'),\n",
       " (u'spark.rdd.compress', u'True'),\n",
       " (u'spark.driver.host', u'ip-172-31-41-62.ec2.internal'),\n",
       " (u'spark.app.id', u'local-1537981262764'),\n",
       " (u'spark.serializer.objectStreamReset', u'100'),\n",
       " (u'spark.master', u'local[*]'),\n",
       " (u'spark.submit.deployMode', u'client'),\n",
       " (u'spark.sql.broadcastTimeout', u'1000'),\n",
       " (u'spark.ui.showConsoleProgress', u'true')]"
      ]
     },
     "execution_count": 5,
     "metadata": {},
     "output_type": "execute_result"
    }
   ],
   "source": [
    "sc._conf.getAll()"
   ]
  },
  {
   "cell_type": "code",
   "execution_count": 67,
   "metadata": {},
   "outputs": [],
   "source": [
    "from pyspark.sql.types import StructField, StructType, StringType, LongType, DateType, DoubleType, IntegerType\n",
    "from pyspark.sql.functions import count, mean, stddev_pop, min, max, lit, round, bround, pow, col, corr, lower, upper, avg, stddev, abs, log\n",
    "from pyspark.sql.functions import lit, trim, rtrim, rpad, trim, coalesce\n",
    "from pyspark.sql.functions import current_date, current_timestamp, date_add, date_sub, months_between, to_date\n",
    "from pyspark.sql.functions import udf, col, countDistinct, lag\n",
    "from pyspark.sql.window import Window\n",
    "from pyspark.sql.functions import desc, dense_rank, rank, expr\n",
    "\n",
    "from pyspark.ml import Pipeline\n",
    "from pyspark.ml.feature import RFormula, Bucketizer, QuantileDiscretizer\n",
    "from pyspark.ml.classification import LogisticRegression, GBTClassifier, DecisionTreeClassifier, RandomForestClassifier, MultilayerPerceptronClassifier,NaiveBayes\n",
    "from pyspark.ml.evaluation import BinaryClassificationEvaluator, MulticlassClassificationEvaluator, RegressionEvaluator\n",
    "from pyspark.ml.regression import RandomForestRegressor, GBTRegressor\n",
    "from pyspark.ml.feature import OneHotEncoderEstimator, StringIndexer, VectorAssembler\n",
    "from pyspark.ml.tuning import CrossValidator, ParamGridBuilder\n",
    "from pyspark.ml.regression import AFTSurvivalRegression\n",
    "from pyspark.ml.linalg import Vectors\n",
    "\n",
    "from datetime import datetime\n",
    "import numpy as np\n",
    "\n",
    "import matplotlib.pyplot as plt\n",
    "%matplotlib inline\n",
    "import seaborn as sns"
   ]
  },
  {
   "cell_type": "code",
   "execution_count": 7,
   "metadata": {},
   "outputs": [
    {
     "name": "stdout",
     "output_type": "stream",
     "text": [
      "userid,gender,age,country,startdate,day_of_week,timeofday,sessionid,session_start,session_length\r",
      "\r\n",
      "user_000001,m,,Japan,2006-08-13,sunday   ,noon,1,2006-08-13 13:59:20,230\r",
      "\r\n",
      "user_000001,m,,Japan,2006-08-15,tuesday  ,morning,1,2006-08-15 12:27:51,170\r",
      "\r\n",
      "user_000001,m,,Japan,2006-08-16,wednesday,morning,1,2006-08-16 10:27:16,43\r",
      "\r\n",
      "user_000001,m,,Japan,2006-08-16,wednesday,noon,2,2006-08-16 13:43:02,86\r",
      "\r\n",
      "user_000001,m,,Japan,2006-08-17,thursday ,noon,1,2006-08-17 13:33:27,115\r",
      "\r\n",
      "user_000001,m,,Japan,2006-08-18,friday   ,evening,1,2006-08-18 19:09:27,46\r",
      "\r\n",
      "user_000001,m,,Japan,2006-08-19,saturday ,morning,1,2006-08-19 12:26:52,113\r",
      "\r\n",
      "user_000001,m,,Japan,2006-08-20,sunday   ,noon,1,2006-08-20 13:01:54,112\r",
      "\r\n",
      "user_000001,m,,Japan,2006-08-21,monday   ,night,1,2006-08-21 03:36:08,18\r",
      "\r\n"
     ]
    }
   ],
   "source": [
    "!head /data_data/session_length/usersessions-jayashree.csv"
   ]
  },
  {
   "cell_type": "code",
   "execution_count": 8,
   "metadata": {},
   "outputs": [
    {
     "name": "stdout",
     "output_type": "stream",
     "text": [
      "user_000001\t2009-05-04T23:08:57Z\tf1b1cf71-bd35-4e99-8624-24a6e15f133a\tDeep Dish\t\tFuck Me Im Famous (Pacha Ibiza)-09-28-2007\r\n",
      "user_000001\t2009-05-04T13:54:10Z\ta7f7df4a-77d8-4f12-8acd-5c60c93f4de8\t坂本龍一\t\tComposition 0919 (Live_2009_4_15)\r\n",
      "user_000001\t2009-05-04T13:52:04Z\ta7f7df4a-77d8-4f12-8acd-5c60c93f4de8\t坂本龍一\t\tMc2 (Live_2009_4_15)\r\n",
      "user_000001\t2009-05-04T13:42:52Z\ta7f7df4a-77d8-4f12-8acd-5c60c93f4de8\t坂本龍一\t\tHibari (Live_2009_4_15)\r\n",
      "user_000001\t2009-05-04T13:42:11Z\ta7f7df4a-77d8-4f12-8acd-5c60c93f4de8\t坂本龍一\t\tMc1 (Live_2009_4_15)\r\n",
      "user_000001\t2009-05-04T13:38:31Z\ta7f7df4a-77d8-4f12-8acd-5c60c93f4de8\t坂本龍一\t\tTo Stanford (Live_2009_4_15)\r\n",
      "user_000001\t2009-05-04T13:33:28Z\ta7f7df4a-77d8-4f12-8acd-5c60c93f4de8\t坂本龍一\t\tImprovisation (Live_2009_4_15)\r\n",
      "user_000001\t2009-05-04T13:23:45Z\ta7f7df4a-77d8-4f12-8acd-5c60c93f4de8\t坂本龍一\t\tGlacier (Live_2009_4_15)\r\n",
      "user_000001\t2009-05-04T13:19:22Z\ta7f7df4a-77d8-4f12-8acd-5c60c93f4de8\t坂本龍一\t\tParolibre (Live_2009_4_15)\r\n",
      "user_000001\t2009-05-04T13:13:38Z\ta7f7df4a-77d8-4f12-8acd-5c60c93f4de8\t坂本龍一\t\tBibo No Aozora (Live_2009_4_15)\r\n"
     ]
    }
   ],
   "source": [
    "!head /data_data/session_length/data/lastFM/lastfm-dataset-1K/userid-timestamp-artid-artname-traid-traname.tsv"
   ]
  },
  {
   "cell_type": "code",
   "execution_count": 8,
   "metadata": {},
   "outputs": [],
   "source": [
    "user_sessions_df = None"
   ]
  },
  {
   "cell_type": "code",
   "execution_count": 9,
   "metadata": {},
   "outputs": [],
   "source": [
    "def import_session_data():\n",
    "    print(\"==================================================================================================================\")\n",
    "    print(\"========================================    IMPORTING USER SESSION DATA     ======================================\")\n",
    "    print(\"==================================================================================================================\\n\\n\")\n",
    "    global user_sessions_df\n",
    "    sessionSchema = StructType([\n",
    "        StructField('userid', StringType(), True),\\\n",
    "        StructField('gender', StringType(), True),\\\n",
    "        StructField('age', IntegerType(), True),\\\n",
    "        StructField('country', StringType(), True),\\\n",
    "        StructField('startdate', DateType(), True),\\\n",
    "        StructField('day_of_week', StringType(), True),\\\n",
    "        StructField('timeofday', StringType(), True),\\\n",
    "        StructField('sessionid', IntegerType(), True),\\\n",
    "        StructField('session_start', DateType(), True),\\\n",
    "        StructField('session_length', IntegerType(), True),\\\n",
    "        ])\n",
    "    user_sessions_df = spark.read.format('csv').schema(sessionSchema).option('header',True).load('/data_data/session_length/usersessions-jayashree.csv')\n",
    "    \n"
   ]
  },
  {
   "cell_type": "code",
   "execution_count": 10,
   "metadata": {},
   "outputs": [
    {
     "name": "stdout",
     "output_type": "stream",
     "text": [
      "==================================================================================================================\n",
      "========================================    IMPORTING USER SESSION DATA     ======================================\n",
      "==================================================================================================================\n",
      "\n",
      "\n"
     ]
    }
   ],
   "source": [
    "import_session_data()"
   ]
  },
  {
   "cell_type": "code",
   "execution_count": 11,
   "metadata": {},
   "outputs": [
    {
     "name": "stdout",
     "output_type": "stream",
     "text": [
      "+-----------+------+----+-------+----------+-----------+---------+---------+-------------+--------------+\n",
      "|     userid|gender| age|country| startdate|day_of_week|timeofday|sessionid|session_start|session_length|\n",
      "+-----------+------+----+-------+----------+-----------+---------+---------+-------------+--------------+\n",
      "|user_000001|     m|null|  Japan|2006-08-13|  sunday   |     noon|        1|   2006-08-13|           230|\n",
      "|user_000001|     m|null|  Japan|2006-08-15|  tuesday  |  morning|        1|   2006-08-15|           170|\n",
      "|user_000001|     m|null|  Japan|2006-08-16|  wednesday|  morning|        1|   2006-08-16|            43|\n",
      "|user_000001|     m|null|  Japan|2006-08-16|  wednesday|     noon|        2|   2006-08-16|            86|\n",
      "|user_000001|     m|null|  Japan|2006-08-17|  thursday |     noon|        1|   2006-08-17|           115|\n",
      "|user_000001|     m|null|  Japan|2006-08-18|  friday   |  evening|        1|   2006-08-18|            46|\n",
      "|user_000001|     m|null|  Japan|2006-08-19|  saturday |  morning|        1|   2006-08-19|           113|\n",
      "|user_000001|     m|null|  Japan|2006-08-20|  sunday   |     noon|        1|   2006-08-20|           112|\n",
      "|user_000001|     m|null|  Japan|2006-08-21|  monday   |    night|        1|   2006-08-21|            18|\n",
      "|user_000001|     m|null|  Japan|2006-08-21|  monday   |    night|        2|   2006-08-21|            20|\n",
      "|user_000001|     m|null|  Japan|2006-08-21|  monday   |    night|        3|   2006-08-21|             8|\n",
      "|user_000001|     m|null|  Japan|2006-08-21|  monday   |  morning|        4|   2006-08-21|            22|\n",
      "|user_000001|     m|null|  Japan|2006-08-21|  monday   |     noon|        5|   2006-08-21|            92|\n",
      "|user_000001|     m|null|  Japan|2006-08-21|  monday   |     noon|        6|   2006-08-21|            26|\n",
      "|user_000001|     m|null|  Japan|2006-08-21|  monday   |     noon|        7|   2006-08-21|            42|\n",
      "|user_000001|     m|null|  Japan|2006-08-23|  wednesday|  morning|        1|   2006-08-23|            21|\n",
      "|user_000001|     m|null|  Japan|2006-08-23|  wednesday|     noon|        2|   2006-08-23|            40|\n",
      "|user_000001|     m|null|  Japan|2006-08-23|  wednesday|    night|        3|   2006-08-23|             3|\n",
      "|user_000001|     m|null|  Japan|2006-08-24|  thursday |     noon|        1|   2006-08-24|            16|\n",
      "|user_000001|     m|null|  Japan|2006-08-24|  thursday |     noon|        2|   2006-08-24|            19|\n",
      "+-----------+------+----+-------+----------+-----------+---------+---------+-------------+--------------+\n",
      "only showing top 20 rows\n",
      "\n"
     ]
    }
   ],
   "source": [
    "user_sessions_df.show()"
   ]
  },
  {
   "cell_type": "markdown",
   "metadata": {},
   "source": [
    "#### Add time window"
   ]
  },
  {
   "cell_type": "code",
   "execution_count": 12,
   "metadata": {},
   "outputs": [
    {
     "data": {
      "text/plain": [
       "datetime.datetime(2005, 1, 1, 0, 0)"
      ]
     },
     "execution_count": 12,
     "metadata": {},
     "output_type": "execute_result"
    }
   ],
   "source": [
    "day_zero = datetime(2005,01,01)\n",
    "day_zero"
   ]
  },
  {
   "cell_type": "code",
   "execution_count": 13,
   "metadata": {},
   "outputs": [],
   "source": [
    "from datetime import datetime\n",
    "\n",
    "def time_delta(end,start): \n",
    "    #end = datetime.strptime(end_, '%Y-%m-%dT%H:%M:%S.%f')\n",
    "    #start = datetime.strptime(start_, '%Y-%m-%dT%H:%M:%S.%f')\n",
    "    delta = (end-start)\n",
    "    return delta.days"
   ]
  },
  {
   "cell_type": "code",
   "execution_count": 14,
   "metadata": {},
   "outputs": [
    {
     "data": {
      "text/plain": [
       "5016"
      ]
     },
     "execution_count": 14,
     "metadata": {},
     "output_type": "execute_result"
    }
   ],
   "source": [
    "time_delta(datetime.now(), day_zero)"
   ]
  },
  {
   "cell_type": "code",
   "execution_count": 76,
   "metadata": {},
   "outputs": [],
   "source": [
    "\n",
    "time_delta_udf = udf(lambda end,start:  time_delta(end, start),IntegerType())\n",
    "\n",
    "\n",
    "user_session_with_window_df = user_sessions_df.withColumn('window', time_delta_udf(col(\"startdate\"), lit(day_zero).cast('date')))"
   ]
  },
  {
   "cell_type": "code",
   "execution_count": 77,
   "metadata": {},
   "outputs": [
    {
     "name": "stdout",
     "output_type": "stream",
     "text": [
      "+-----------+------+----+-------+----------+-----------+---------+---------+-------------+--------------+------+\n",
      "|     userid|gender| age|country| startdate|day_of_week|timeofday|sessionid|session_start|session_length|window|\n",
      "+-----------+------+----+-------+----------+-----------+---------+---------+-------------+--------------+------+\n",
      "|user_000001|     m|null|  Japan|2006-08-13|  sunday   |     noon|        1|   2006-08-13|           230|   589|\n",
      "|user_000001|     m|null|  Japan|2006-08-15|  tuesday  |  morning|        1|   2006-08-15|           170|   591|\n",
      "|user_000001|     m|null|  Japan|2006-08-16|  wednesday|  morning|        1|   2006-08-16|            43|   592|\n",
      "|user_000001|     m|null|  Japan|2006-08-16|  wednesday|     noon|        2|   2006-08-16|            86|   592|\n",
      "|user_000001|     m|null|  Japan|2006-08-17|  thursday |     noon|        1|   2006-08-17|           115|   593|\n",
      "|user_000001|     m|null|  Japan|2006-08-18|  friday   |  evening|        1|   2006-08-18|            46|   594|\n",
      "|user_000001|     m|null|  Japan|2006-08-19|  saturday |  morning|        1|   2006-08-19|           113|   595|\n",
      "|user_000001|     m|null|  Japan|2006-08-20|  sunday   |     noon|        1|   2006-08-20|           112|   596|\n",
      "|user_000001|     m|null|  Japan|2006-08-21|  monday   |    night|        1|   2006-08-21|            18|   597|\n",
      "|user_000001|     m|null|  Japan|2006-08-21|  monday   |    night|        2|   2006-08-21|            20|   597|\n",
      "|user_000001|     m|null|  Japan|2006-08-21|  monday   |    night|        3|   2006-08-21|             8|   597|\n",
      "|user_000001|     m|null|  Japan|2006-08-21|  monday   |  morning|        4|   2006-08-21|            22|   597|\n",
      "|user_000001|     m|null|  Japan|2006-08-21|  monday   |     noon|        5|   2006-08-21|            92|   597|\n",
      "|user_000001|     m|null|  Japan|2006-08-21|  monday   |     noon|        6|   2006-08-21|            26|   597|\n",
      "|user_000001|     m|null|  Japan|2006-08-21|  monday   |     noon|        7|   2006-08-21|            42|   597|\n",
      "|user_000001|     m|null|  Japan|2006-08-23|  wednesday|  morning|        1|   2006-08-23|            21|   599|\n",
      "|user_000001|     m|null|  Japan|2006-08-23|  wednesday|     noon|        2|   2006-08-23|            40|   599|\n",
      "|user_000001|     m|null|  Japan|2006-08-23|  wednesday|    night|        3|   2006-08-23|             3|   599|\n",
      "|user_000001|     m|null|  Japan|2006-08-24|  thursday |     noon|        1|   2006-08-24|            16|   600|\n",
      "|user_000001|     m|null|  Japan|2006-08-24|  thursday |     noon|        2|   2006-08-24|            19|   600|\n",
      "+-----------+------+----+-------+----------+-----------+---------+---------+-------------+--------------+------+\n",
      "only showing top 20 rows\n",
      "\n"
     ]
    }
   ],
   "source": [
    "user_session_with_window_df.show()"
   ]
  },
  {
   "cell_type": "markdown",
   "metadata": {},
   "source": [
    "### EDA"
   ]
  },
  {
   "cell_type": "markdown",
   "metadata": {},
   "source": [
    "#### Explore Distribution of Session Lengths"
   ]
  },
  {
   "cell_type": "code",
   "execution_count": 78,
   "metadata": {},
   "outputs": [],
   "source": [
    "plot_df = user_session_with_window_df.toPandas()"
   ]
  },
  {
   "cell_type": "code",
   "execution_count": 162,
   "metadata": {},
   "outputs": [],
   "source": [
    "plot_df2 = plot_df[['age','day_of_week','timeofday','session_length','gender']].dropna()"
   ]
  },
  {
   "cell_type": "code",
   "execution_count": 165,
   "metadata": {},
   "outputs": [
    {
     "data": {
      "image/png": "[encoded data removed]",
      "text/plain": [
       "<Figure size 765.625x720 with 16 Axes>"
      ]
     },
     "metadata": {},
     "output_type": "display_data"
    }
   ],
   "source": [
    "g = sns.PairGrid(plot_df2, vars=['age', 'gender', 'timeofday', 'session_length'],hue='gender', palette='RdBu_r')\n",
    "g.map(plt.scatter, alpha=0.8)\n",
    "g.add_legend();"
   ]
  },
  {
   "cell_type": "code",
   "execution_count": 160,
   "metadata": {},
   "outputs": [
    {
     "data": {
      "image/png": "[encoded data removed]",
      "text/plain": [
       "<Figure size 437.75x360 with 6 Axes>"
      ]
     },
     "metadata": {},
     "output_type": "display_data"
    }
   ],
   "source": [
    "\n",
    "sns.pairplot(plot_df2, hue='timeofday', size=2.5)\n",
    "plt.show()"
   ]
  },
  {
   "cell_type": "code",
   "execution_count": 108,
   "metadata": {},
   "outputs": [
    {
     "data": {
      "image/png": "[encoded data removed]",
      "text/plain": [
       "<Figure size 2592x1080 with 1 Axes>"
      ]
     },
     "metadata": {},
     "output_type": "display_data"
    }
   ],
   "source": [
    "fig, ax = plt.subplots()\n",
    "fig.set_size_inches(36, 15)\n",
    "sns.countplot(plot_df['session_length'])\n",
    "ax.set_xticklabels(ax.get_xticklabels(), rotation=40, ha=\"right\")\n",
    "plt.show()"
   ]
  },
  {
   "cell_type": "code",
   "execution_count": null,
   "metadata": {},
   "outputs": [],
   "source": []
  },
  {
   "cell_type": "code",
   "execution_count": 81,
   "metadata": {},
   "outputs": [],
   "source": [
    "user_session_with_window_df = user_session_with_window_df.withColumn('log_sess', round(log(col(\"session_length\")),1)).drop('session_length').withColumnRenamed('log_sess','session_length')"
   ]
  },
  {
   "cell_type": "code",
   "execution_count": 82,
   "metadata": {},
   "outputs": [
    {
     "name": "stdout",
     "output_type": "stream",
     "text": [
      "+-----------+------+----+-------+----------+-----------+---------+---------+-------------+------+--------------+\n",
      "|     userid|gender| age|country| startdate|day_of_week|timeofday|sessionid|session_start|window|session_length|\n",
      "+-----------+------+----+-------+----------+-----------+---------+---------+-------------+------+--------------+\n",
      "|user_000001|     m|null|  Japan|2006-08-13|  sunday   |     noon|        1|   2006-08-13|   589|           5.4|\n",
      "|user_000001|     m|null|  Japan|2006-08-15|  tuesday  |  morning|        1|   2006-08-15|   591|           5.1|\n",
      "|user_000001|     m|null|  Japan|2006-08-16|  wednesday|  morning|        1|   2006-08-16|   592|           3.8|\n",
      "|user_000001|     m|null|  Japan|2006-08-16|  wednesday|     noon|        2|   2006-08-16|   592|           4.5|\n",
      "|user_000001|     m|null|  Japan|2006-08-17|  thursday |     noon|        1|   2006-08-17|   593|           4.7|\n",
      "|user_000001|     m|null|  Japan|2006-08-18|  friday   |  evening|        1|   2006-08-18|   594|           3.8|\n",
      "|user_000001|     m|null|  Japan|2006-08-19|  saturday |  morning|        1|   2006-08-19|   595|           4.7|\n",
      "|user_000001|     m|null|  Japan|2006-08-20|  sunday   |     noon|        1|   2006-08-20|   596|           4.7|\n",
      "|user_000001|     m|null|  Japan|2006-08-21|  monday   |    night|        1|   2006-08-21|   597|           2.9|\n",
      "|user_000001|     m|null|  Japan|2006-08-21|  monday   |    night|        2|   2006-08-21|   597|           3.0|\n",
      "|user_000001|     m|null|  Japan|2006-08-21|  monday   |    night|        3|   2006-08-21|   597|           2.1|\n",
      "|user_000001|     m|null|  Japan|2006-08-21|  monday   |  morning|        4|   2006-08-21|   597|           3.1|\n",
      "|user_000001|     m|null|  Japan|2006-08-21|  monday   |     noon|        5|   2006-08-21|   597|           4.5|\n",
      "|user_000001|     m|null|  Japan|2006-08-21|  monday   |     noon|        6|   2006-08-21|   597|           3.3|\n",
      "|user_000001|     m|null|  Japan|2006-08-21|  monday   |     noon|        7|   2006-08-21|   597|           3.7|\n",
      "|user_000001|     m|null|  Japan|2006-08-23|  wednesday|  morning|        1|   2006-08-23|   599|           3.0|\n",
      "|user_000001|     m|null|  Japan|2006-08-23|  wednesday|     noon|        2|   2006-08-23|   599|           3.7|\n",
      "|user_000001|     m|null|  Japan|2006-08-23|  wednesday|    night|        3|   2006-08-23|   599|           1.1|\n",
      "|user_000001|     m|null|  Japan|2006-08-24|  thursday |     noon|        1|   2006-08-24|   600|           2.8|\n",
      "|user_000001|     m|null|  Japan|2006-08-24|  thursday |     noon|        2|   2006-08-24|   600|           2.9|\n",
      "+-----------+------+----+-------+----------+-----------+---------+---------+-------------+------+--------------+\n",
      "only showing top 20 rows\n",
      "\n"
     ]
    }
   ],
   "source": [
    "user_session_with_window_df.show()"
   ]
  },
  {
   "cell_type": "code",
   "execution_count": 44,
   "metadata": {},
   "outputs": [],
   "source": [
    "\n",
    "#w = Window.partitionBy(\"userid\").orderBy(\"window\").rowsBetween(Window.unboundedPreceding,Window.currentRow)\n",
    "#(user_session_with_window_df.withColumn(\"cumSum\", sum(\"session_length\").over(w)).show())"
   ]
  },
  {
   "cell_type": "code",
   "execution_count": 83,
   "metadata": {},
   "outputs": [],
   "source": [
    "plot_log_df = user_session_with_window_df.toPandas()"
   ]
  },
  {
   "cell_type": "code",
   "execution_count": 84,
   "metadata": {},
   "outputs": [
    {
     "data": {
      "text/plain": [
       "<matplotlib.axes._subplots.AxesSubplot at 0x7f9aa395d6d0>"
      ]
     },
     "execution_count": 84,
     "metadata": {},
     "output_type": "execute_result"
    },
    {
     "data": {
      "image/png": "[encoded data removed]",
      "text/plain": [
       "<Figure size 1440x1080 with 1 Axes>"
      ]
     },
     "metadata": {},
     "output_type": "display_data"
    }
   ],
   "source": [
    "fig, ax = plt.subplots()\n",
    "fig.set_size_inches(20, 15)\n",
    "sns.countplot(plot_log_df['session_length'])"
   ]
  },
  {
   "cell_type": "code",
   "execution_count": null,
   "metadata": {},
   "outputs": [],
   "source": []
  },
  {
   "cell_type": "code",
   "execution_count": 64,
   "metadata": {},
   "outputs": [],
   "source": [
    "timeofday    = list([x[0] for x in pd.Series(sess_tod_df.select('timeofday').collect())])\n",
    "num_sessions = list([y[0] for y in pd.Series(sess_tod_df.select('num_sessions').collect())])"
   ]
  },
  {
   "cell_type": "code",
   "execution_count": 91,
   "metadata": {},
   "outputs": [
    {
     "data": {
      "text/plain": [
       "<matplotlib.axes._subplots.AxesSubplot at 0x7f9a9e2c0090>"
      ]
     },
     "execution_count": 91,
     "metadata": {},
     "output_type": "execute_result"
    },
    {
     "data": {
      "image/png": "[encoded data removed]",
      "text/plain": [
       "<Figure size 576x432 with 1 Axes>"
      ]
     },
     "metadata": {},
     "output_type": "display_data"
    }
   ],
   "source": [
    "fig, ax = plt.subplots()\n",
    "fig.set_size_inches(8, 6)\n",
    "sns.countplot(plot_df['timeofday'])"
   ]
  },
  {
   "cell_type": "code",
   "execution_count": 92,
   "metadata": {},
   "outputs": [
    {
     "data": {
      "text/plain": [
       "<matplotlib.axes._subplots.AxesSubplot at 0x7f9a9e1de2d0>"
      ]
     },
     "execution_count": 92,
     "metadata": {},
     "output_type": "execute_result"
    },
    {
     "data": {
      "image/png": "[encoded data removed]",
      "text/plain": [
       "<Figure size 576x432 with 1 Axes>"
      ]
     },
     "metadata": {},
     "output_type": "display_data"
    }
   ],
   "source": [
    "fig, ax = plt.subplots()\n",
    "fig.set_size_inches(8, 6)\n",
    "sns.countplot(plot_log_df['timeofday'])"
   ]
  },
  {
   "cell_type": "code",
   "execution_count": 98,
   "metadata": {},
   "outputs": [
    {
     "data": {
      "text/plain": [
       "<matplotlib.axes._subplots.AxesSubplot at 0x7f9a9af0f610>"
      ]
     },
     "execution_count": 98,
     "metadata": {},
     "output_type": "execute_result"
    },
    {
     "data": {
      "image/png": "[encoded data removed]",
      "text/plain": [
       "<Figure size 1728x864 with 1 Axes>"
      ]
     },
     "metadata": {},
     "output_type": "display_data"
    }
   ],
   "source": [
    "fig, ax = plt.subplots()\n",
    "fig.set_size_inches(24, 12)\n",
    "sns.countplot(plot_log_df['age'])"
   ]
  },
  {
   "cell_type": "code",
   "execution_count": null,
   "metadata": {},
   "outputs": [],
   "source": []
  },
  {
   "cell_type": "code",
   "execution_count": 170,
   "metadata": {},
   "outputs": [],
   "source": [
    "#sns.kdeplot(plot_log_df.session_length[plot_log_df.gender=='M'], label='men', shade=True)\n",
    "#sns.kdeplot(plot_log_df.session_length[plot_log_df.gender=='W'], label='women', shade=True)\n",
    "#plt.xlabel('split_frac');"
   ]
  },
  {
   "cell_type": "code",
   "execution_count": null,
   "metadata": {},
   "outputs": [],
   "source": []
  },
  {
   "cell_type": "code",
   "execution_count": 106,
   "metadata": {},
   "outputs": [
    {
     "data": {
      "image/png": "[encoded data removed]",
      "text/plain": [
       "<Figure size 2592x1080 with 1 Axes>"
      ]
     },
     "metadata": {},
     "output_type": "display_data"
    }
   ],
   "source": [
    "fig, ax = plt.subplots()\n",
    "fig.set_size_inches(36, 15)\n",
    "sns.countplot(plot_log_df['country'], order = plot_log_df['country'].value_counts().index)\n",
    "ax.set_xticklabels(ax.get_xticklabels(), rotation=40, ha=\"right\")\n",
    "plt.show()"
   ]
  },
  {
   "cell_type": "code",
   "execution_count": null,
   "metadata": {},
   "outputs": [],
   "source": []
  },
  {
   "cell_type": "code",
   "execution_count": 173,
   "metadata": {},
   "outputs": [
    {
     "data": {
      "image/png": "[encoded data removed]",
      "text/plain": [
       "<Figure size 1229.75x288 with 1 Axes>"
      ]
     },
     "metadata": {},
     "output_type": "display_data"
    }
   ],
   "source": [
    "with sns.axes_style(style='ticks'):\n",
    "    g = sns.factorplot(\"day_of_week\", \"session_length\", \"timeofday\", data=plot_log_df, kind=\"box\", size=4, aspect=4)\n",
    "    g.set_axis_labels(\"Day of Week\", \"Session Length\")"
   ]
  },
  {
   "cell_type": "code",
   "execution_count": 174,
   "metadata": {},
   "outputs": [
    {
     "data": {
      "image/png": "[encoded data removed]",
      "text/plain": [
       "<Figure size 1229.75x288 with 1 Axes>"
      ]
     },
     "metadata": {},
     "output_type": "display_data"
    }
   ],
   "source": [
    "with sns.axes_style(style='ticks'):\n",
    "    g = sns.factorplot(\"day_of_week\", \"session_length\", \"timeofday\", data=plot_df, kind=\"box\", size=4, aspect=4)\n",
    "    g.set_axis_labels(\"Day of Week\", \"Session Length\")"
   ]
  },
  {
   "cell_type": "code",
   "execution_count": 150,
   "metadata": {},
   "outputs": [
    {
     "data": {
      "image/png": "[encoded data removed]",
      "text/plain": [
       "<Figure size 432x432 with 3 Axes>"
      ]
     },
     "metadata": {},
     "output_type": "display_data"
    }
   ],
   "source": [
    "sns.jointplot(\"session_length\", \"age\", data=plot_log_df, kind='reg');"
   ]
  },
  {
   "cell_type": "code",
   "execution_count": 152,
   "metadata": {},
   "outputs": [
    {
     "data": {
      "image/png": "[encoded data removed]",
      "text/plain": [
       "<Figure size 1517.75x360 with 1 Axes>"
      ]
     },
     "metadata": {},
     "output_type": "display_data"
    }
   ],
   "source": [
    "with sns.axes_style('white'):\n",
    "    g = sns.factorplot(\"day_of_week\", data=plot_log_df, aspect=4.0, kind='count',\n",
    "                       hue='timeofday')\n",
    "    g.set_ylabels('Session Length')"
   ]
  },
  {
   "cell_type": "code",
   "execution_count": null,
   "metadata": {},
   "outputs": [],
   "source": []
  },
  {
   "cell_type": "code",
   "execution_count": null,
   "metadata": {},
   "outputs": [],
   "source": []
  },
  {
   "cell_type": "code",
   "execution_count": 109,
   "metadata": {},
   "outputs": [
    {
     "data": {
      "text/plain": [
       "[5.4, 5.1, 3.8, 4.5, 4.7]"
      ]
     },
     "execution_count": 109,
     "metadata": {},
     "output_type": "execute_result"
    }
   ],
   "source": [
    "data = user_session_with_window_df.select('session_length').rdd.map(lambda row: row.session_length).collect()\n",
    "data[:5]"
   ]
  },
  {
   "cell_type": "code",
   "execution_count": 110,
   "metadata": {},
   "outputs": [],
   "source": [
    "data = pd.DataFrame(data,columns=['session_length']).iloc[:,0]"
   ]
  },
  {
   "cell_type": "code",
   "execution_count": 111,
   "metadata": {},
   "outputs": [
    {
     "data": {
      "text/plain": [
       "0    5.4\n",
       "1    5.1\n",
       "2    3.8\n",
       "3    4.5\n",
       "4    4.7\n",
       "Name: session_length, dtype: float64"
      ]
     },
     "execution_count": 111,
     "metadata": {},
     "output_type": "execute_result"
    }
   ],
   "source": [
    "data.head()"
   ]
  },
  {
   "cell_type": "code",
   "execution_count": 175,
   "metadata": {},
   "outputs": [
    {
     "data": {
      "text/plain": [
       "count    909911.000000\n",
       "mean          3.468112\n",
       "std           1.437358\n",
       "min           1.100000\n",
       "25%           2.500000\n",
       "50%           3.600000\n",
       "75%           4.500000\n",
       "max           9.900000\n",
       "Name: session_length, dtype: float64"
      ]
     },
     "execution_count": 175,
     "metadata": {},
     "output_type": "execute_result"
    }
   ],
   "source": [
    "data.describe()"
   ]
  },
  {
   "cell_type": "code",
   "execution_count": 112,
   "metadata": {},
   "outputs": [
    {
     "data": {
      "text/plain": [
       "[1.1, 1.1, 1.8, 2.6, 3.1, 3.5, 3.8, 4.1, 4.4, 4.9]"
      ]
     },
     "execution_count": 112,
     "metadata": {},
     "output_type": "execute_result"
    }
   ],
   "source": [
    "deciles = list(np.percentile(data, np.arange(0, 100, 10)))\n",
    "deciles"
   ]
  },
  {
   "cell_type": "markdown",
   "metadata": {},
   "source": [
    "#### Add Quantile Bucketized Column"
   ]
  },
  {
   "cell_type": "code",
   "execution_count": 177,
   "metadata": {},
   "outputs": [
    {
     "data": {
      "text/plain": [
       "83"
      ]
     },
     "execution_count": 177,
     "metadata": {},
     "output_type": "execute_result"
    }
   ],
   "source": [
    "num_windows = int(user_session_with_window_df.select('session_length').distinct().count())\n",
    "num_windows"
   ]
  },
  {
   "cell_type": "code",
   "execution_count": 113,
   "metadata": {},
   "outputs": [],
   "source": [
    "num_buckets = 10"
   ]
  },
  {
   "cell_type": "code",
   "execution_count": 114,
   "metadata": {},
   "outputs": [
    {
     "name": "stdout",
     "output_type": "stream",
     "text": [
      "+-----------+------+----+-------+----------+-----------+---------+---------+-------------+------+--------------+------+\n",
      "|     userid|gender| age|country| startdate|day_of_week|timeofday|sessionid|session_start|window|session_length|decile|\n",
      "+-----------+------+----+-------+----------+-----------+---------+---------+-------------+------+--------------+------+\n",
      "|user_000001|     m|null|  Japan|2006-08-13|  sunday   |     noon|        1|   2006-08-13|   589|           5.4|   9.0|\n",
      "|user_000001|     m|null|  Japan|2006-08-15|  tuesday  |  morning|        1|   2006-08-15|   591|           5.1|   9.0|\n",
      "|user_000001|     m|null|  Japan|2006-08-16|  wednesday|  morning|        1|   2006-08-16|   592|           3.8|   6.0|\n",
      "|user_000001|     m|null|  Japan|2006-08-16|  wednesday|     noon|        2|   2006-08-16|   592|           4.5|   8.0|\n",
      "|user_000001|     m|null|  Japan|2006-08-17|  thursday |     noon|        1|   2006-08-17|   593|           4.7|   8.0|\n",
      "|user_000001|     m|null|  Japan|2006-08-18|  friday   |  evening|        1|   2006-08-18|   594|           3.8|   6.0|\n",
      "|user_000001|     m|null|  Japan|2006-08-19|  saturday |  morning|        1|   2006-08-19|   595|           4.7|   8.0|\n",
      "|user_000001|     m|null|  Japan|2006-08-20|  sunday   |     noon|        1|   2006-08-20|   596|           4.7|   8.0|\n",
      "|user_000001|     m|null|  Japan|2006-08-21|  monday   |    night|        1|   2006-08-21|   597|           2.9|   3.0|\n",
      "|user_000001|     m|null|  Japan|2006-08-21|  monday   |    night|        2|   2006-08-21|   597|           3.0|   3.0|\n",
      "|user_000001|     m|null|  Japan|2006-08-21|  monday   |    night|        3|   2006-08-21|   597|           2.1|   2.0|\n",
      "|user_000001|     m|null|  Japan|2006-08-21|  monday   |  morning|        4|   2006-08-21|   597|           3.1|   4.0|\n",
      "|user_000001|     m|null|  Japan|2006-08-21|  monday   |     noon|        5|   2006-08-21|   597|           4.5|   8.0|\n",
      "|user_000001|     m|null|  Japan|2006-08-21|  monday   |     noon|        6|   2006-08-21|   597|           3.3|   4.0|\n",
      "|user_000001|     m|null|  Japan|2006-08-21|  monday   |     noon|        7|   2006-08-21|   597|           3.7|   5.0|\n",
      "|user_000001|     m|null|  Japan|2006-08-23|  wednesday|  morning|        1|   2006-08-23|   599|           3.0|   3.0|\n",
      "|user_000001|     m|null|  Japan|2006-08-23|  wednesday|     noon|        2|   2006-08-23|   599|           3.7|   5.0|\n",
      "|user_000001|     m|null|  Japan|2006-08-23|  wednesday|    night|        3|   2006-08-23|   599|           1.1|   1.0|\n",
      "|user_000001|     m|null|  Japan|2006-08-24|  thursday |     noon|        1|   2006-08-24|   600|           2.8|   3.0|\n",
      "|user_000001|     m|null|  Japan|2006-08-24|  thursday |     noon|        2|   2006-08-24|   600|           2.9|   3.0|\n",
      "+-----------+------+----+-------+----------+-----------+---------+---------+-------------+------+--------------+------+\n",
      "only showing top 20 rows\n",
      "\n"
     ]
    }
   ],
   "source": [
    "session_length_bucketizer = QuantileDiscretizer(numBuckets=num_buckets, inputCol=\"session_length\", outputCol=\"decile\", relativeError=0.01, handleInvalid=\"error\")\n",
    "bucketizer = session_length_bucketizer.fit(user_session_with_window_df)\n",
    "user_session_with_window_bucketized_df = bucketizer.setHandleInvalid(\"skip\").transform(user_session_with_window_df)\n",
    "user_session_with_window_bucketized_df.show()\n"
   ]
  },
  {
   "cell_type": "code",
   "execution_count": 115,
   "metadata": {},
   "outputs": [
    {
     "data": {
      "text/plain": [
       "[1.1, 1.1, 1.8, 2.6, 3.1, 3.5, 3.8, 4.1, 4.4, 4.9]"
      ]
     },
     "execution_count": 115,
     "metadata": {},
     "output_type": "execute_result"
    }
   ],
   "source": [
    "deciles"
   ]
  },
  {
   "cell_type": "code",
   "execution_count": 116,
   "metadata": {},
   "outputs": [],
   "source": [
    "decile_dict = {1.0:\"<5_mins\",2.0:\"<5_mins\",3.0:\"<10_mins\",4.0:\"<20_mins\",5.0:\"<30_mins\",6.0:\"<40_mins\",7.0:\"<1_hour\",8.0:\"<1.5_hours\",9.0:\"<2_hours\",10.0:\">3_hours\"}"
   ]
  },
  {
   "cell_type": "code",
   "execution_count": 117,
   "metadata": {},
   "outputs": [],
   "source": [
    "def get_description(decile):\n",
    "    try:\n",
    "        return decile_dict[decile]\n",
    "    except:\n",
    "        return None"
   ]
  },
  {
   "cell_type": "code",
   "execution_count": 118,
   "metadata": {},
   "outputs": [],
   "source": [
    "get_desc = udf(lambda decile: get_description(decile), StringType())"
   ]
  },
  {
   "cell_type": "code",
   "execution_count": 119,
   "metadata": {},
   "outputs": [],
   "source": [
    "user_session_with_window_bucketized_descr_df = user_session_with_window_bucketized_df.withColumn('description', get_desc(col('decile')))"
   ]
  },
  {
   "cell_type": "code",
   "execution_count": 120,
   "metadata": {},
   "outputs": [
    {
     "name": "stdout",
     "output_type": "stream",
     "text": [
      "+-----------+------+----+-------+----------+-----------+---------+---------+-------------+------+--------------+------+-----------+\n",
      "|     userid|gender| age|country| startdate|day_of_week|timeofday|sessionid|session_start|window|session_length|decile|description|\n",
      "+-----------+------+----+-------+----------+-----------+---------+---------+-------------+------+--------------+------+-----------+\n",
      "|user_000001|     m|null|  Japan|2006-08-13|  sunday   |     noon|        1|   2006-08-13|   589|           5.4|   9.0|   <2_hours|\n",
      "|user_000001|     m|null|  Japan|2006-08-15|  tuesday  |  morning|        1|   2006-08-15|   591|           5.1|   9.0|   <2_hours|\n",
      "|user_000001|     m|null|  Japan|2006-08-16|  wednesday|  morning|        1|   2006-08-16|   592|           3.8|   6.0|   <40_mins|\n",
      "|user_000001|     m|null|  Japan|2006-08-16|  wednesday|     noon|        2|   2006-08-16|   592|           4.5|   8.0| <1.5_hours|\n",
      "|user_000001|     m|null|  Japan|2006-08-17|  thursday |     noon|        1|   2006-08-17|   593|           4.7|   8.0| <1.5_hours|\n",
      "|user_000001|     m|null|  Japan|2006-08-18|  friday   |  evening|        1|   2006-08-18|   594|           3.8|   6.0|   <40_mins|\n",
      "|user_000001|     m|null|  Japan|2006-08-19|  saturday |  morning|        1|   2006-08-19|   595|           4.7|   8.0| <1.5_hours|\n",
      "|user_000001|     m|null|  Japan|2006-08-20|  sunday   |     noon|        1|   2006-08-20|   596|           4.7|   8.0| <1.5_hours|\n",
      "|user_000001|     m|null|  Japan|2006-08-21|  monday   |    night|        1|   2006-08-21|   597|           2.9|   3.0|   <10_mins|\n",
      "|user_000001|     m|null|  Japan|2006-08-21|  monday   |    night|        2|   2006-08-21|   597|           3.0|   3.0|   <10_mins|\n",
      "|user_000001|     m|null|  Japan|2006-08-21|  monday   |    night|        3|   2006-08-21|   597|           2.1|   2.0|    <5_mins|\n",
      "|user_000001|     m|null|  Japan|2006-08-21|  monday   |  morning|        4|   2006-08-21|   597|           3.1|   4.0|   <20_mins|\n",
      "|user_000001|     m|null|  Japan|2006-08-21|  monday   |     noon|        5|   2006-08-21|   597|           4.5|   8.0| <1.5_hours|\n",
      "|user_000001|     m|null|  Japan|2006-08-21|  monday   |     noon|        6|   2006-08-21|   597|           3.3|   4.0|   <20_mins|\n",
      "|user_000001|     m|null|  Japan|2006-08-21|  monday   |     noon|        7|   2006-08-21|   597|           3.7|   5.0|   <30_mins|\n",
      "|user_000001|     m|null|  Japan|2006-08-23|  wednesday|  morning|        1|   2006-08-23|   599|           3.0|   3.0|   <10_mins|\n",
      "|user_000001|     m|null|  Japan|2006-08-23|  wednesday|     noon|        2|   2006-08-23|   599|           3.7|   5.0|   <30_mins|\n",
      "|user_000001|     m|null|  Japan|2006-08-23|  wednesday|    night|        3|   2006-08-23|   599|           1.1|   1.0|    <5_mins|\n",
      "|user_000001|     m|null|  Japan|2006-08-24|  thursday |     noon|        1|   2006-08-24|   600|           2.8|   3.0|   <10_mins|\n",
      "|user_000001|     m|null|  Japan|2006-08-24|  thursday |     noon|        2|   2006-08-24|   600|           2.9|   3.0|   <10_mins|\n",
      "+-----------+------+----+-------+----------+-----------+---------+---------+-------------+------+--------------+------+-----------+\n",
      "only showing top 20 rows\n",
      "\n"
     ]
    }
   ],
   "source": [
    "user_session_with_window_bucketized_descr_df.show()"
   ]
  },
  {
   "cell_type": "code",
   "execution_count": 121,
   "metadata": {},
   "outputs": [],
   "source": [
    "train_data = None\n",
    "dev_data = None\n",
    "test_data = None"
   ]
  },
  {
   "cell_type": "code",
   "execution_count": 122,
   "metadata": {},
   "outputs": [
    {
     "name": "stdout",
     "output_type": "stream",
     "text": [
      "root\n",
      " |-- userid: string (nullable = true)\n",
      " |-- gender: string (nullable = true)\n",
      " |-- age: integer (nullable = true)\n",
      " |-- country: string (nullable = true)\n",
      " |-- startdate: date (nullable = true)\n",
      " |-- day_of_week: string (nullable = true)\n",
      " |-- timeofday: string (nullable = true)\n",
      " |-- sessionid: integer (nullable = true)\n",
      " |-- session_start: date (nullable = true)\n",
      " |-- window: integer (nullable = true)\n",
      " |-- session_length: double (nullable = true)\n",
      " |-- decile: double (nullable = true)\n",
      " |-- description: string (nullable = true)\n",
      "\n"
     ]
    }
   ],
   "source": [
    "user_session_with_window_bucketized_descr_df.printSchema()"
   ]
  },
  {
   "cell_type": "code",
   "execution_count": 123,
   "metadata": {},
   "outputs": [],
   "source": [
    "def get_train_dev_test_data():\n",
    "    print(\"==================================================================================================================\")\n",
    "    print(\"============================================     CREATE TRAIN/DEV/TEST SETS      =================================\")\n",
    "    print(\"==================================================================================================================\\n\\n\")\n",
    "    global train_data, dev_data, test_data\n",
    "    global user_session_with_window_df\n",
    "\n",
    "    session_data = user_session_with_window_bucketized_descr_df.select(\"userid\",\"age\",\"country\", \"day_of_week\", \"timeofday\", \"sessionid\",\"window\",\"description\").na.drop()\n",
    "    categoricalColumns = [\"userid\",\"country\", \"day_of_week\", \"timeofday\"]\n",
    "    cols = session_data.columns\n",
    "    stages =[]\n",
    "    for categoricalCol in categoricalColumns:\n",
    "        stringIndexer  = StringIndexer(inputCol=categoricalCol, outputCol=categoricalCol+\"Index\")\n",
    "        encoder = OneHotEncoderEstimator(inputCols=[stringIndexer.getOutputCol()], outputCols=[categoricalCol+\"classVec\"])\n",
    "        stages += [stringIndexer,encoder]\n",
    "    label_stringIdx = StringIndexer(inputCol=\"description\", outputCol=\"label\")\n",
    "    stages += [label_stringIdx]\n",
    "    numericCols = [\"age\",\"sessionid\",\"window\"]\n",
    "    assemblerInputs = [c + \"classVec\" for c in categoricalColumns] + numericCols\n",
    "    assembler = VectorAssembler(inputCols=assemblerInputs, outputCol=\"features\")\n",
    "    stages += [assembler]\n",
    "    pipeline = Pipeline(stages=stages)\n",
    "    pipelineModel = pipeline.fit(session_data)\n",
    "    session_data = pipelineModel.transform(session_data)\n",
    "    selectedcols = [\"label\",\"features\"] + cols\n",
    "    session_data = session_data.select(selectedcols)\n",
    "    print(\"************************************       DATA BEFORE TRAIN/DEV/TEST SPLIT     *************************************\")\n",
    "    session_data.show(5,False)\n",
    "    print(\"************************************           Splitting Train/Test data        *************************************\")\n",
    "    train_data, dev_data, test_data = session_data.randomSplit([0.65, 0.2, 0.15])"
   ]
  },
  {
   "cell_type": "code",
   "execution_count": 124,
   "metadata": {},
   "outputs": [
    {
     "name": "stdout",
     "output_type": "stream",
     "text": [
      "==================================================================================================================\n",
      "============================================     CREATE TRAIN/DEV/TEST SETS      =================================\n",
      "==================================================================================================================\n",
      "\n",
      "\n",
      "************************************       DATA BEFORE TRAIN/DEV/TEST SPLIT     *************************************\n",
      "+-----+-------------------------------------------------------------------+-----------+---+-------------+-----------+---------+---------+------+-----------+\n",
      "|label|features                                                           |userid     |age|country      |day_of_week|timeofday|sessionid|window|description|\n",
      "+-----+-------------------------------------------------------------------+-----------+---+-------------+-----------+---------+---------+------+-----------+\n",
      "|0.0  |(203,[47,156,198,200,201,202],[1.0,1.0,1.0,19.0,1.0,742.0])        |user_000009|19 |United States|saturday   |evening  |1        |742   |<5_mins    |\n",
      "|5.0  |(203,[47,156,195,200,201,202],[1.0,1.0,1.0,19.0,1.0,743.0])        |user_000009|19 |United States|sunday     |night    |1        |743   |<40_mins   |\n",
      "|2.0  |(203,[47,156,195,199,200,201,202],[1.0,1.0,1.0,1.0,19.0,2.0,743.0])|user_000009|19 |United States|sunday     |morning  |2        |743   |<10_mins   |\n",
      "|4.0  |(203,[47,156,195,199,200,201,202],[1.0,1.0,1.0,1.0,19.0,3.0,743.0])|user_000009|19 |United States|sunday     |morning  |3        |743   |<2_hours   |\n",
      "|7.0  |(203,[47,156,195,198,200,201,202],[1.0,1.0,1.0,1.0,19.0,4.0,743.0])|user_000009|19 |United States|sunday     |evening  |4        |743   |<1_hour    |\n",
      "+-----+-------------------------------------------------------------------+-----------+---+-------------+-----------+---------+---------+------+-----------+\n",
      "only showing top 5 rows\n",
      "\n",
      "************************************           Splitting Train/Test data        *************************************\n"
     ]
    }
   ],
   "source": [
    "get_train_dev_test_data()"
   ]
  },
  {
   "cell_type": "code",
   "execution_count": 125,
   "metadata": {},
   "outputs": [
    {
     "name": "stdout",
     "output_type": "stream",
     "text": [
      "==================================================================================================================\n",
      "============================================     CREATE TRAIN/DEV/TEST SETS      =================================\n",
      "==================================================================================================================\n",
      "\n",
      "\n",
      "************************************       DATA BEFORE TRAIN/DEV/TEST SPLIT     *************************************\n",
      "+-----+-------------------------------------------------------------------+-----------+---+-------------+-----------+---------+---------+------+-----------+\n",
      "|label|features                                                           |userid     |age|country      |day_of_week|timeofday|sessionid|window|description|\n",
      "+-----+-------------------------------------------------------------------+-----------+---+-------------+-----------+---------+---------+------+-----------+\n",
      "|0.0  |(203,[47,156,198,200,201,202],[1.0,1.0,1.0,19.0,1.0,742.0])        |user_000009|19 |United States|saturday   |evening  |1        |742   |<5_mins    |\n",
      "|5.0  |(203,[47,156,195,200,201,202],[1.0,1.0,1.0,19.0,1.0,743.0])        |user_000009|19 |United States|sunday     |night    |1        |743   |<40_mins   |\n",
      "|2.0  |(203,[47,156,195,199,200,201,202],[1.0,1.0,1.0,1.0,19.0,2.0,743.0])|user_000009|19 |United States|sunday     |morning  |2        |743   |<10_mins   |\n",
      "|4.0  |(203,[47,156,195,199,200,201,202],[1.0,1.0,1.0,1.0,19.0,3.0,743.0])|user_000009|19 |United States|sunday     |morning  |3        |743   |<2_hours   |\n",
      "|7.0  |(203,[47,156,195,198,200,201,202],[1.0,1.0,1.0,1.0,19.0,4.0,743.0])|user_000009|19 |United States|sunday     |evening  |4        |743   |<1_hour    |\n",
      "+-----+-------------------------------------------------------------------+-----------+---+-------------+-----------+---------+---------+------+-----------+\n",
      "only showing top 5 rows\n",
      "\n",
      "************************************           Splitting Train/Test data        *************************************\n"
     ]
    }
   ],
   "source": [
    "get_train_dev_test_data()"
   ]
  },
  {
   "cell_type": "code",
   "execution_count": 126,
   "metadata": {},
   "outputs": [
    {
     "name": "stdout",
     "output_type": "stream",
     "text": [
      "+-----+------------------------------------------------------------------+-----------+---+-------------+-----------+---------+---------+------+-----------+\n",
      "|label|features                                                          |userid     |age|country      |day_of_week|timeofday|sessionid|window|description|\n",
      "+-----+------------------------------------------------------------------+-----------+---+-------------+-----------+---------+---------+------+-----------+\n",
      "|0.0  |(203,[0,156,191,197,200,201,202],[1.0,1.0,1.0,1.0,27.0,1.0,702.0])|user_000089|27 |United States|monday     |noon     |1        |702   |<5_mins    |\n",
      "|0.0  |(203,[0,156,191,197,200,201,202],[1.0,1.0,1.0,1.0,27.0,2.0,632.0])|user_000089|27 |United States|monday     |noon     |2        |632   |<5_mins    |\n",
      "|0.0  |(203,[0,156,191,197,200,201,202],[1.0,1.0,1.0,1.0,27.0,2.0,674.0])|user_000089|27 |United States|monday     |noon     |2        |674   |<5_mins    |\n",
      "|0.0  |(203,[0,156,191,197,200,201,202],[1.0,1.0,1.0,1.0,27.0,3.0,401.0])|user_000089|27 |United States|monday     |noon     |3        |401   |<5_mins    |\n",
      "|0.0  |(203,[0,156,191,197,200,201,202],[1.0,1.0,1.0,1.0,27.0,3.0,415.0])|user_000089|27 |United States|monday     |noon     |3        |415   |<5_mins    |\n",
      "+-----+------------------------------------------------------------------+-----------+---+-------------+-----------+---------+---------+------+-----------+\n",
      "only showing top 5 rows\n",
      "\n"
     ]
    }
   ],
   "source": [
    "train_data.show(5,False)"
   ]
  },
  {
   "cell_type": "code",
   "execution_count": 127,
   "metadata": {},
   "outputs": [
    {
     "name": "stdout",
     "output_type": "stream",
     "text": [
      "+-----+------------------------------------------------------------------+-----------+---+-------------+-----------+---------+---------+------+-----------+\n",
      "|label|features                                                          |userid     |age|country      |day_of_week|timeofday|sessionid|window|description|\n",
      "+-----+------------------------------------------------------------------+-----------+---+-------------+-----------+---------+---------+------+-----------+\n",
      "|0.0  |(203,[0,156,191,197,200,201,202],[1.0,1.0,1.0,1.0,27.0,1.0,422.0])|user_000089|27 |United States|monday     |noon     |1        |422   |<5_mins    |\n",
      "|0.0  |(203,[0,156,191,197,200,201,202],[1.0,1.0,1.0,1.0,27.0,2.0,527.0])|user_000089|27 |United States|monday     |noon     |2        |527   |<5_mins    |\n",
      "|0.0  |(203,[0,156,191,197,200,201,202],[1.0,1.0,1.0,1.0,27.0,4.0,478.0])|user_000089|27 |United States|monday     |noon     |4        |478   |<5_mins    |\n",
      "|0.0  |(203,[0,156,191,197,200,201,202],[1.0,1.0,1.0,1.0,27.0,4.0,485.0])|user_000089|27 |United States|monday     |noon     |4        |485   |<5_mins    |\n",
      "|0.0  |(203,[0,156,191,197,200,201,202],[1.0,1.0,1.0,1.0,27.0,5.0,478.0])|user_000089|27 |United States|monday     |noon     |5        |478   |<5_mins    |\n",
      "+-----+------------------------------------------------------------------+-----------+---+-------------+-----------+---------+---------+------+-----------+\n",
      "only showing top 5 rows\n",
      "\n"
     ]
    }
   ],
   "source": [
    "dev_data.show(5,False)"
   ]
  },
  {
   "cell_type": "code",
   "execution_count": 128,
   "metadata": {},
   "outputs": [
    {
     "name": "stdout",
     "output_type": "stream",
     "text": [
      "+-----+------------------------------------------------------------------+-----------+---+-------------+-----------+---------+---------+------+-----------+\n",
      "|label|features                                                          |userid     |age|country      |day_of_week|timeofday|sessionid|window|description|\n",
      "+-----+------------------------------------------------------------------+-----------+---+-------------+-----------+---------+---------+------+-----------+\n",
      "|0.0  |(203,[0,156,191,197,200,201,202],[1.0,1.0,1.0,1.0,27.0,3.0,485.0])|user_000089|27 |United States|monday     |noon     |3        |485   |<5_mins    |\n",
      "|0.0  |(203,[0,156,191,197,200,201,202],[1.0,1.0,1.0,1.0,27.0,5.0,688.0])|user_000089|27 |United States|monday     |noon     |5        |688   |<5_mins    |\n",
      "|0.0  |(203,[0,156,191,197,200,201,202],[1.0,1.0,1.0,1.0,28.0,1.0,723.0])|user_000089|28 |United States|monday     |noon     |1        |723   |<5_mins    |\n",
      "|0.0  |(203,[0,156,191,197,200,201,202],[1.0,1.0,1.0,1.0,28.0,2.0,884.0])|user_000089|28 |United States|monday     |noon     |2        |884   |<5_mins    |\n",
      "|0.0  |(203,[0,156,191,197,200,201,202],[1.0,1.0,1.0,1.0,28.0,3.0,814.0])|user_000089|28 |United States|monday     |noon     |3        |814   |<5_mins    |\n",
      "+-----+------------------------------------------------------------------+-----------+---+-------------+-----------+---------+---------+------+-----------+\n",
      "only showing top 5 rows\n",
      "\n"
     ]
    }
   ],
   "source": [
    "test_data.show(5,False)"
   ]
  },
  {
   "cell_type": "markdown",
   "metadata": {},
   "source": [
    "### BASELINE DL model with Multinomial Naive Bayes"
   ]
  },
  {
   "cell_type": "code",
   "execution_count": 175,
   "metadata": {},
   "outputs": [],
   "source": [
    "smoothings  = [0.1,0.2,0.3,0.4,0.5,0.6,0.7,0.8,0.9,1.0]"
   ]
  },
  {
   "cell_type": "code",
   "execution_count": 176,
   "metadata": {},
   "outputs": [],
   "source": [
    "mnbModel = None"
   ]
  },
  {
   "cell_type": "code",
   "execution_count": 177,
   "metadata": {},
   "outputs": [],
   "source": [
    "def mnb_classifier(smoothing):\n",
    "    global mnbModel\n",
    "    global lr_results\n",
    "    global train_data, dev_data, test_data\n",
    "    mnb = NaiveBayes(smoothing=smoothing, modelType=\"multinomial\")\n",
    "    #print(\"---------------------------------  Fitting Model to TRAIN  ---------------------------\")\n",
    "    mnbModel = mnb.fit(train_data)\n",
    "    #print(\"---------------------------------  Generating Predictions  ---------------------------\")\n",
    "    predictions = mnbModel.transform(dev_data)\n",
    "    selected = predictions.select(\"label\", \"prediction\", \"userid\", \"age\", \"country\", \"day_of_week\", \"timeofday\", \"sessionid\",\"window\")\n",
    "    evaluator = MulticlassClassificationEvaluator().setMetricName('accuracy').setLabelCol('label').setPredictionCol(\"prediction\")\n",
    "    #print(\"---------------------------------  Evaluating Model     ------------------------------\")\n",
    "    result = evaluator.evaluate(mnbModel.transform(dev_data))\n",
    "    #result.select(\"features\",\"label\",\"prediction\").show(5,False)\n",
    "    mnb_results.update({smoothing:result})\n"
   ]
  },
  {
   "cell_type": "code",
   "execution_count": 178,
   "metadata": {},
   "outputs": [],
   "source": [
    "def eval_mnb_classifier():\n",
    "    print(\"###########################################################################################\")\n",
    "    print(\"############################     MULTINOMIAL NAIVE BAYES CLASSIFIER      ##################\")\n",
    "    print(\"###########################################################################################\")\n",
    "    print(\"\\tSMOOTHING\\tACCURACY\")\n",
    "    for smoothing in smoothings:\n",
    "        mnb_classifier(smoothing)\n",
    "        print(\"\\t{}\\t\\t{}\".format(smoothing, mnb_results[smoothing]))\n",
    "        "
   ]
  },
  {
   "cell_type": "code",
   "execution_count": 179,
   "metadata": {},
   "outputs": [
    {
     "name": "stdout",
     "output_type": "stream",
     "text": [
      "###########################################################################################\n",
      "############################     MULTINOMIAL NAIVE BAYES CLASSIFIER      ##################\n",
      "###########################################################################################\n",
      "\tSMOOTHING\tACCURACY\n",
      "\t0.1\t\t0.29217585693\n",
      "\t0.2\t\t0.292101341282\n",
      "\t0.3\t\t0.292213114754\n",
      "\t0.4\t\t0.292287630402\n",
      "\t0.5\t\t0.292287630402\n",
      "\t0.6\t\t0.292287630402\n",
      "\t0.7\t\t0.292250372578\n",
      "\t0.8\t\t0.292250372578\n",
      "\t0.9\t\t0.292399403875\n",
      "\t1.0\t\t0.292250372578\n"
     ]
    }
   ],
   "source": [
    "mnb_results = dict()\n",
    "\n",
    "eval_mnb_classifier()"
   ]
  },
  {
   "cell_type": "code",
   "execution_count": null,
   "metadata": {},
   "outputs": [],
   "source": []
  },
  {
   "cell_type": "markdown",
   "metadata": {},
   "source": [
    "### BASELINE DL model with Multinomial Logistic Regression"
   ]
  },
  {
   "cell_type": "code",
   "execution_count": 180,
   "metadata": {},
   "outputs": [],
   "source": [
    "lrModel = None"
   ]
  },
  {
   "cell_type": "code",
   "execution_count": 181,
   "metadata": {},
   "outputs": [],
   "source": [
    "def logistic_classifier(regparam, elasticnetparam):\n",
    "    global lrModel\n",
    "    global lr_results\n",
    "    global train_data, dev_data, test_data\n",
    "    lr = LogisticRegression(labelCol=\"label\", featuresCol=\"features\", maxIter=10, regParam=regparam, elasticNetParam=elasticnetparam)\n",
    "    #print(\"---------------------------------  Fitting Model to TRAIN  ---------------------------\")\n",
    "    lrModel = lr.fit(train_data)\n",
    "    #print(\"---------------------------------  Generating Predictions  ---------------------------\")\n",
    "    predictions = lrModel.transform(dev_data)\n",
    "    selected = predictions.select(\"label\", \"prediction\", \"userid\", \"age\", \"country\", \"day_of_week\", \"timeofday\", \"sessionid\",\"window\")\n",
    "    evaluator = MulticlassClassificationEvaluator().setMetricName('accuracy').setLabelCol('label').setPredictionCol(\"prediction\")\n",
    "    #print(\"---------------------------------  Evaluating Model     ------------------------------\")\n",
    "    result = evaluator.evaluate(lrModel.transform(dev_data))\n",
    "    #result.select(\"features\",\"label\",\"prediction\").show(5,False)\n",
    "    lr_results.update({elasticnetparam:{regparam:result}})\n",
    "    #print(\"MULTINOMIAL LOGISTIC REGRESSION RESULTS:\\t{}\".format(lr_results))"
   ]
  },
  {
   "cell_type": "code",
   "execution_count": 182,
   "metadata": {},
   "outputs": [],
   "source": [
    "regparams        = [0.1,0.2,0.3,0.4,0.5,0.6,0.7,0.8,0.9,1.0]\n",
    "elasticnetparams = [0.1,0.2,0.3,0.4,0.5,0.6,0.7,0.8,0.9,1.0]"
   ]
  },
  {
   "cell_type": "code",
   "execution_count": 239,
   "metadata": {},
   "outputs": [],
   "source": [
    "def eval_mlr_classifier():\n",
    "    print(\"###########################################################################################\")\n",
    "    print(\"###############################         LOGISTIC REGRESSION         #######################\")\n",
    "    print(\"###########################################################################################\")\n",
    "    print(\"\\tREGPARAM\\tELASTICNETPARAM\\t\\tACCURACY\")\n",
    "    for regparam in regparams:\n",
    "        for elasticnetparam in elasticnetparams:\n",
    "            logistic_classifier(regparam, elasticnetparam)\n",
    "            print(\"\\t{}\\t\\t\\t{}\\t\\t{}\".format(regparam, elasticnetparam,lr_results))\n",
    "        "
   ]
  },
  {
   "cell_type": "code",
   "execution_count": 240,
   "metadata": {},
   "outputs": [
    {
     "name": "stdout",
     "output_type": "stream",
     "text": [
      "###########################################################################################\n",
      "###############################         LOGISTIC REGRESSION         #######################\n",
      "###########################################################################################\n",
      "\tREGPARAM\tELASTICNETPARAM\t\tACCURACY\n",
      "\t0.1\t\t\t0.1\t\t{0.1: {0.1: 0.29195230998509686}}\n",
      "\t0.1\t\t\t0.2\t\t{0.2: {0.1: 0.28759314456035767}, 0.1: {0.1: 0.29195230998509686}}\n",
      "\t0.1\t\t\t0.3\t\t{0.3: {0.1: 0.28759314456035767}, 0.2: {0.1: 0.28759314456035767}, 0.1: {0.1: 0.29195230998509686}}\n",
      "\t0.1\t\t\t0.4\t\t{0.4: {0.1: 0.28759314456035767}, 0.3: {0.1: 0.28759314456035767}, 0.2: {0.1: 0.28759314456035767}, 0.1: {0.1: 0.29195230998509686}}\n",
      "\t0.1\t\t\t0.5\t\t{0.4: {0.1: 0.28759314456035767}, 0.5: {0.1: 0.28759314456035767}, 0.3: {0.1: 0.28759314456035767}, 0.2: {0.1: 0.28759314456035767}, 0.1: {0.1: 0.29195230998509686}}\n",
      "\t0.1\t\t\t0.6\t\t{0.5: {0.1: 0.28759314456035767}, 0.2: {0.1: 0.28759314456035767}, 0.4: {0.1: 0.28759314456035767}, 0.6: {0.1: 0.28759314456035767}, 0.3: {0.1: 0.28759314456035767}, 0.1: {0.1: 0.29195230998509686}}\n",
      "\t0.1\t\t\t0.7\t\t{0.5: {0.1: 0.28759314456035767}, 0.2: {0.1: 0.28759314456035767}, 0.4: {0.1: 0.28759314456035767}, 0.7: {0.1: 0.28759314456035767}, 0.6: {0.1: 0.28759314456035767}, 0.3: {0.1: 0.28759314456035767}, 0.1: {0.1: 0.29195230998509686}}\n",
      "\t0.1\t\t\t0.8\t\t{0.5: {0.1: 0.28759314456035767}, 0.2: {0.1: 0.28759314456035767}, 0.4: {0.1: 0.28759314456035767}, 0.7: {0.1: 0.28759314456035767}, 0.8: {0.1: 0.28759314456035767}, 0.6: {0.1: 0.28759314456035767}, 0.3: {0.1: 0.28759314456035767}, 0.1: {0.1: 0.29195230998509686}}\n",
      "\t0.1\t\t\t0.9\t\t{0.5: {0.1: 0.28759314456035767}, 0.9: {0.1: 0.28759314456035767}, 0.2: {0.1: 0.28759314456035767}, 0.4: {0.1: 0.28759314456035767}, 0.7: {0.1: 0.28759314456035767}, 0.8: {0.1: 0.28759314456035767}, 0.6: {0.1: 0.28759314456035767}, 0.3: {0.1: 0.28759314456035767}, 0.1: {0.1: 0.29195230998509686}}\n",
      "\t0.1\t\t\t1.0\t\t{0.5: {0.1: 0.28759314456035767}, 1.0: {0.1: 0.28759314456035767}, 0.9: {0.1: 0.28759314456035767}, 0.2: {0.1: 0.28759314456035767}, 0.4: {0.1: 0.28759314456035767}, 0.7: {0.1: 0.28759314456035767}, 0.8: {0.1: 0.28759314456035767}, 0.6: {0.1: 0.28759314456035767}, 0.3: {0.1: 0.28759314456035767}, 0.1: {0.1: 0.29195230998509686}}\n",
      "\t0.2\t\t\t0.1\t\t{0.5: {0.1: 0.28759314456035767}, 1.0: {0.1: 0.28759314456035767}, 0.4: {0.1: 0.28759314456035767}, 0.2: {0.1: 0.28759314456035767}, 0.1: {0.2: 0.28759314456035767}, 0.3: {0.1: 0.28759314456035767}, 0.6: {0.1: 0.28759314456035767}, 0.8: {0.1: 0.28759314456035767}, 0.9: {0.1: 0.28759314456035767}, 0.7: {0.1: 0.28759314456035767}}\n",
      "\t0.2\t\t\t0.2\t\t{0.5: {0.1: 0.28759314456035767}, 1.0: {0.1: 0.28759314456035767}, 0.4: {0.1: 0.28759314456035767}, 0.2: {0.2: 0.28759314456035767}, 0.1: {0.2: 0.28759314456035767}, 0.3: {0.1: 0.28759314456035767}, 0.6: {0.1: 0.28759314456035767}, 0.8: {0.1: 0.28759314456035767}, 0.9: {0.1: 0.28759314456035767}, 0.7: {0.1: 0.28759314456035767}}\n",
      "\t0.2\t\t\t0.3\t\t{0.5: {0.1: 0.28759314456035767}, 1.0: {0.1: 0.28759314456035767}, 0.4: {0.1: 0.28759314456035767}, 0.2: {0.2: 0.28759314456035767}, 0.1: {0.2: 0.28759314456035767}, 0.3: {0.2: 0.28759314456035767}, 0.6: {0.1: 0.28759314456035767}, 0.8: {0.1: 0.28759314456035767}, 0.9: {0.1: 0.28759314456035767}, 0.7: {0.1: 0.28759314456035767}}\n",
      "\t0.2\t\t\t0.4\t\t{0.5: {0.1: 0.28759314456035767}, 1.0: {0.1: 0.28759314456035767}, 0.4: {0.2: 0.28759314456035767}, 0.2: {0.2: 0.28759314456035767}, 0.1: {0.2: 0.28759314456035767}, 0.3: {0.2: 0.28759314456035767}, 0.6: {0.1: 0.28759314456035767}, 0.8: {0.1: 0.28759314456035767}, 0.9: {0.1: 0.28759314456035767}, 0.7: {0.1: 0.28759314456035767}}\n",
      "\t0.2\t\t\t0.5\t\t{0.5: {0.2: 0.28759314456035767}, 1.0: {0.1: 0.28759314456035767}, 0.4: {0.2: 0.28759314456035767}, 0.2: {0.2: 0.28759314456035767}, 0.1: {0.2: 0.28759314456035767}, 0.3: {0.2: 0.28759314456035767}, 0.6: {0.1: 0.28759314456035767}, 0.8: {0.1: 0.28759314456035767}, 0.9: {0.1: 0.28759314456035767}, 0.7: {0.1: 0.28759314456035767}}\n",
      "\t0.2\t\t\t0.6\t\t{0.5: {0.2: 0.28759314456035767}, 1.0: {0.1: 0.28759314456035767}, 0.4: {0.2: 0.28759314456035767}, 0.2: {0.2: 0.28759314456035767}, 0.1: {0.2: 0.28759314456035767}, 0.3: {0.2: 0.28759314456035767}, 0.6: {0.2: 0.28759314456035767}, 0.8: {0.1: 0.28759314456035767}, 0.9: {0.1: 0.28759314456035767}, 0.7: {0.1: 0.28759314456035767}}\n",
      "\t0.2\t\t\t0.7\t\t{0.5: {0.2: 0.28759314456035767}, 1.0: {0.1: 0.28759314456035767}, 0.4: {0.2: 0.28759314456035767}, 0.2: {0.2: 0.28759314456035767}, 0.1: {0.2: 0.28759314456035767}, 0.3: {0.2: 0.28759314456035767}, 0.6: {0.2: 0.28759314456035767}, 0.8: {0.1: 0.28759314456035767}, 0.9: {0.1: 0.28759314456035767}, 0.7: {0.2: 0.28759314456035767}}\n",
      "\t0.2\t\t\t0.8\t\t{0.5: {0.2: 0.28759314456035767}, 1.0: {0.1: 0.28759314456035767}, 0.4: {0.2: 0.28759314456035767}, 0.2: {0.2: 0.28759314456035767}, 0.1: {0.2: 0.28759314456035767}, 0.3: {0.2: 0.28759314456035767}, 0.6: {0.2: 0.28759314456035767}, 0.8: {0.2: 0.28759314456035767}, 0.9: {0.1: 0.28759314456035767}, 0.7: {0.2: 0.28759314456035767}}\n",
      "\t0.2\t\t\t0.9\t\t{0.5: {0.2: 0.28759314456035767}, 1.0: {0.1: 0.28759314456035767}, 0.4: {0.2: 0.28759314456035767}, 0.2: {0.2: 0.28759314456035767}, 0.1: {0.2: 0.28759314456035767}, 0.3: {0.2: 0.28759314456035767}, 0.6: {0.2: 0.28759314456035767}, 0.8: {0.2: 0.28759314456035767}, 0.9: {0.2: 0.28759314456035767}, 0.7: {0.2: 0.28759314456035767}}\n",
      "\t0.2\t\t\t1.0\t\t{0.5: {0.2: 0.28759314456035767}, 1.0: {0.2: 0.28759314456035767}, 0.4: {0.2: 0.28759314456035767}, 0.2: {0.2: 0.28759314456035767}, 0.1: {0.2: 0.28759314456035767}, 0.3: {0.2: 0.28759314456035767}, 0.6: {0.2: 0.28759314456035767}, 0.8: {0.2: 0.28759314456035767}, 0.9: {0.2: 0.28759314456035767}, 0.7: {0.2: 0.28759314456035767}}\n",
      "\t0.3\t\t\t0.1\t\t{0.5: {0.2: 0.28759314456035767}, 1.0: {0.2: 0.28759314456035767}, 0.4: {0.2: 0.28759314456035767}, 0.2: {0.2: 0.28759314456035767}, 0.1: {0.3: 0.28759314456035767}, 0.3: {0.2: 0.28759314456035767}, 0.6: {0.2: 0.28759314456035767}, 0.8: {0.2: 0.28759314456035767}, 0.9: {0.2: 0.28759314456035767}, 0.7: {0.2: 0.28759314456035767}}\n",
      "\t0.3\t\t\t0.2\t\t{0.5: {0.2: 0.28759314456035767}, 1.0: {0.2: 0.28759314456035767}, 0.4: {0.2: 0.28759314456035767}, 0.2: {0.3: 0.28759314456035767}, 0.1: {0.3: 0.28759314456035767}, 0.3: {0.2: 0.28759314456035767}, 0.6: {0.2: 0.28759314456035767}, 0.8: {0.2: 0.28759314456035767}, 0.9: {0.2: 0.28759314456035767}, 0.7: {0.2: 0.28759314456035767}}\n",
      "\t0.3\t\t\t0.3\t\t{0.5: {0.2: 0.28759314456035767}, 1.0: {0.2: 0.28759314456035767}, 0.4: {0.2: 0.28759314456035767}, 0.2: {0.3: 0.28759314456035767}, 0.1: {0.3: 0.28759314456035767}, 0.3: {0.3: 0.28759314456035767}, 0.6: {0.2: 0.28759314456035767}, 0.8: {0.2: 0.28759314456035767}, 0.9: {0.2: 0.28759314456035767}, 0.7: {0.2: 0.28759314456035767}}\n",
      "\t0.3\t\t\t0.4\t\t{0.5: {0.2: 0.28759314456035767}, 1.0: {0.2: 0.28759314456035767}, 0.4: {0.3: 0.28759314456035767}, 0.2: {0.3: 0.28759314456035767}, 0.1: {0.3: 0.28759314456035767}, 0.3: {0.3: 0.28759314456035767}, 0.6: {0.2: 0.28759314456035767}, 0.8: {0.2: 0.28759314456035767}, 0.9: {0.2: 0.28759314456035767}, 0.7: {0.2: 0.28759314456035767}}\n",
      "\t0.3\t\t\t0.5\t\t{0.5: {0.3: 0.28759314456035767}, 1.0: {0.2: 0.28759314456035767}, 0.4: {0.3: 0.28759314456035767}, 0.2: {0.3: 0.28759314456035767}, 0.1: {0.3: 0.28759314456035767}, 0.3: {0.3: 0.28759314456035767}, 0.6: {0.2: 0.28759314456035767}, 0.8: {0.2: 0.28759314456035767}, 0.9: {0.2: 0.28759314456035767}, 0.7: {0.2: 0.28759314456035767}}\n",
      "\t0.3\t\t\t0.6\t\t{0.5: {0.3: 0.28759314456035767}, 1.0: {0.2: 0.28759314456035767}, 0.4: {0.3: 0.28759314456035767}, 0.2: {0.3: 0.28759314456035767}, 0.1: {0.3: 0.28759314456035767}, 0.3: {0.3: 0.28759314456035767}, 0.6: {0.3: 0.28759314456035767}, 0.8: {0.2: 0.28759314456035767}, 0.9: {0.2: 0.28759314456035767}, 0.7: {0.2: 0.28759314456035767}}\n",
      "\t0.3\t\t\t0.7\t\t{0.5: {0.3: 0.28759314456035767}, 1.0: {0.2: 0.28759314456035767}, 0.4: {0.3: 0.28759314456035767}, 0.2: {0.3: 0.28759314456035767}, 0.1: {0.3: 0.28759314456035767}, 0.3: {0.3: 0.28759314456035767}, 0.6: {0.3: 0.28759314456035767}, 0.8: {0.2: 0.28759314456035767}, 0.9: {0.2: 0.28759314456035767}, 0.7: {0.3: 0.28759314456035767}}\n",
      "\t0.3\t\t\t0.8\t\t{0.5: {0.3: 0.28759314456035767}, 1.0: {0.2: 0.28759314456035767}, 0.4: {0.3: 0.28759314456035767}, 0.2: {0.3: 0.28759314456035767}, 0.1: {0.3: 0.28759314456035767}, 0.3: {0.3: 0.28759314456035767}, 0.6: {0.3: 0.28759314456035767}, 0.8: {0.3: 0.28759314456035767}, 0.9: {0.2: 0.28759314456035767}, 0.7: {0.3: 0.28759314456035767}}\n"
     ]
    },
    {
     "name": "stdout",
     "output_type": "stream",
     "text": [
      "\t0.3\t\t\t0.9\t\t{0.5: {0.3: 0.28759314456035767}, 1.0: {0.2: 0.28759314456035767}, 0.4: {0.3: 0.28759314456035767}, 0.2: {0.3: 0.28759314456035767}, 0.1: {0.3: 0.28759314456035767}, 0.3: {0.3: 0.28759314456035767}, 0.6: {0.3: 0.28759314456035767}, 0.8: {0.3: 0.28759314456035767}, 0.9: {0.3: 0.28759314456035767}, 0.7: {0.3: 0.28759314456035767}}\n",
      "\t0.3\t\t\t1.0\t\t{0.5: {0.3: 0.28759314456035767}, 1.0: {0.3: 0.28759314456035767}, 0.4: {0.3: 0.28759314456035767}, 0.2: {0.3: 0.28759314456035767}, 0.1: {0.3: 0.28759314456035767}, 0.3: {0.3: 0.28759314456035767}, 0.6: {0.3: 0.28759314456035767}, 0.8: {0.3: 0.28759314456035767}, 0.9: {0.3: 0.28759314456035767}, 0.7: {0.3: 0.28759314456035767}}\n",
      "\t0.4\t\t\t0.1\t\t{0.5: {0.3: 0.28759314456035767}, 1.0: {0.3: 0.28759314456035767}, 0.4: {0.3: 0.28759314456035767}, 0.2: {0.3: 0.28759314456035767}, 0.1: {0.4: 0.28759314456035767}, 0.3: {0.3: 0.28759314456035767}, 0.6: {0.3: 0.28759314456035767}, 0.8: {0.3: 0.28759314456035767}, 0.9: {0.3: 0.28759314456035767}, 0.7: {0.3: 0.28759314456035767}}\n",
      "\t0.4\t\t\t0.2\t\t{0.5: {0.3: 0.28759314456035767}, 1.0: {0.3: 0.28759314456035767}, 0.4: {0.3: 0.28759314456035767}, 0.2: {0.4: 0.28759314456035767}, 0.1: {0.4: 0.28759314456035767}, 0.3: {0.3: 0.28759314456035767}, 0.6: {0.3: 0.28759314456035767}, 0.8: {0.3: 0.28759314456035767}, 0.9: {0.3: 0.28759314456035767}, 0.7: {0.3: 0.28759314456035767}}\n",
      "\t0.4\t\t\t0.3\t\t{0.5: {0.3: 0.28759314456035767}, 1.0: {0.3: 0.28759314456035767}, 0.4: {0.3: 0.28759314456035767}, 0.2: {0.4: 0.28759314456035767}, 0.1: {0.4: 0.28759314456035767}, 0.3: {0.4: 0.28759314456035767}, 0.6: {0.3: 0.28759314456035767}, 0.8: {0.3: 0.28759314456035767}, 0.9: {0.3: 0.28759314456035767}, 0.7: {0.3: 0.28759314456035767}}\n",
      "\t0.4\t\t\t0.4\t\t{0.5: {0.3: 0.28759314456035767}, 1.0: {0.3: 0.28759314456035767}, 0.4: {0.4: 0.28759314456035767}, 0.2: {0.4: 0.28759314456035767}, 0.1: {0.4: 0.28759314456035767}, 0.3: {0.4: 0.28759314456035767}, 0.6: {0.3: 0.28759314456035767}, 0.8: {0.3: 0.28759314456035767}, 0.9: {0.3: 0.28759314456035767}, 0.7: {0.3: 0.28759314456035767}}\n",
      "\t0.4\t\t\t0.5\t\t{0.5: {0.4: 0.28759314456035767}, 1.0: {0.3: 0.28759314456035767}, 0.4: {0.4: 0.28759314456035767}, 0.2: {0.4: 0.28759314456035767}, 0.1: {0.4: 0.28759314456035767}, 0.3: {0.4: 0.28759314456035767}, 0.6: {0.3: 0.28759314456035767}, 0.8: {0.3: 0.28759314456035767}, 0.9: {0.3: 0.28759314456035767}, 0.7: {0.3: 0.28759314456035767}}\n",
      "\t0.4\t\t\t0.6\t\t{0.5: {0.4: 0.28759314456035767}, 1.0: {0.3: 0.28759314456035767}, 0.4: {0.4: 0.28759314456035767}, 0.2: {0.4: 0.28759314456035767}, 0.1: {0.4: 0.28759314456035767}, 0.3: {0.4: 0.28759314456035767}, 0.6: {0.4: 0.28759314456035767}, 0.8: {0.3: 0.28759314456035767}, 0.9: {0.3: 0.28759314456035767}, 0.7: {0.3: 0.28759314456035767}}\n",
      "\t0.4\t\t\t0.7\t\t{0.5: {0.4: 0.28759314456035767}, 1.0: {0.3: 0.28759314456035767}, 0.4: {0.4: 0.28759314456035767}, 0.2: {0.4: 0.28759314456035767}, 0.1: {0.4: 0.28759314456035767}, 0.3: {0.4: 0.28759314456035767}, 0.6: {0.4: 0.28759314456035767}, 0.8: {0.3: 0.28759314456035767}, 0.9: {0.3: 0.28759314456035767}, 0.7: {0.4: 0.28759314456035767}}\n",
      "\t0.4\t\t\t0.8\t\t{0.5: {0.4: 0.28759314456035767}, 1.0: {0.3: 0.28759314456035767}, 0.4: {0.4: 0.28759314456035767}, 0.2: {0.4: 0.28759314456035767}, 0.1: {0.4: 0.28759314456035767}, 0.3: {0.4: 0.28759314456035767}, 0.6: {0.4: 0.28759314456035767}, 0.8: {0.4: 0.28759314456035767}, 0.9: {0.3: 0.28759314456035767}, 0.7: {0.4: 0.28759314456035767}}\n",
      "\t0.4\t\t\t0.9\t\t{0.5: {0.4: 0.28759314456035767}, 1.0: {0.3: 0.28759314456035767}, 0.4: {0.4: 0.28759314456035767}, 0.2: {0.4: 0.28759314456035767}, 0.1: {0.4: 0.28759314456035767}, 0.3: {0.4: 0.28759314456035767}, 0.6: {0.4: 0.28759314456035767}, 0.8: {0.4: 0.28759314456035767}, 0.9: {0.4: 0.28759314456035767}, 0.7: {0.4: 0.28759314456035767}}\n",
      "\t0.4\t\t\t1.0\t\t{0.5: {0.4: 0.28759314456035767}, 1.0: {0.4: 0.28759314456035767}, 0.4: {0.4: 0.28759314456035767}, 0.2: {0.4: 0.28759314456035767}, 0.1: {0.4: 0.28759314456035767}, 0.3: {0.4: 0.28759314456035767}, 0.6: {0.4: 0.28759314456035767}, 0.8: {0.4: 0.28759314456035767}, 0.9: {0.4: 0.28759314456035767}, 0.7: {0.4: 0.28759314456035767}}\n",
      "\t0.5\t\t\t0.1\t\t{0.5: {0.4: 0.28759314456035767}, 1.0: {0.4: 0.28759314456035767}, 0.4: {0.4: 0.28759314456035767}, 0.2: {0.4: 0.28759314456035767}, 0.1: {0.5: 0.28759314456035767}, 0.3: {0.4: 0.28759314456035767}, 0.6: {0.4: 0.28759314456035767}, 0.8: {0.4: 0.28759314456035767}, 0.9: {0.4: 0.28759314456035767}, 0.7: {0.4: 0.28759314456035767}}\n",
      "\t0.5\t\t\t0.2\t\t{0.5: {0.4: 0.28759314456035767}, 1.0: {0.4: 0.28759314456035767}, 0.4: {0.4: 0.28759314456035767}, 0.2: {0.5: 0.28759314456035767}, 0.1: {0.5: 0.28759314456035767}, 0.3: {0.4: 0.28759314456035767}, 0.6: {0.4: 0.28759314456035767}, 0.8: {0.4: 0.28759314456035767}, 0.9: {0.4: 0.28759314456035767}, 0.7: {0.4: 0.28759314456035767}}\n",
      "\t0.5\t\t\t0.3\t\t{0.5: {0.4: 0.28759314456035767}, 1.0: {0.4: 0.28759314456035767}, 0.4: {0.4: 0.28759314456035767}, 0.2: {0.5: 0.28759314456035767}, 0.1: {0.5: 0.28759314456035767}, 0.3: {0.5: 0.28759314456035767}, 0.6: {0.4: 0.28759314456035767}, 0.8: {0.4: 0.28759314456035767}, 0.9: {0.4: 0.28759314456035767}, 0.7: {0.4: 0.28759314456035767}}\n",
      "\t0.5\t\t\t0.4\t\t{0.5: {0.4: 0.28759314456035767}, 1.0: {0.4: 0.28759314456035767}, 0.4: {0.5: 0.28759314456035767}, 0.2: {0.5: 0.28759314456035767}, 0.1: {0.5: 0.28759314456035767}, 0.3: {0.5: 0.28759314456035767}, 0.6: {0.4: 0.28759314456035767}, 0.8: {0.4: 0.28759314456035767}, 0.9: {0.4: 0.28759314456035767}, 0.7: {0.4: 0.28759314456035767}}\n",
      "\t0.5\t\t\t0.5\t\t{0.5: {0.5: 0.28759314456035767}, 1.0: {0.4: 0.28759314456035767}, 0.4: {0.5: 0.28759314456035767}, 0.2: {0.5: 0.28759314456035767}, 0.1: {0.5: 0.28759314456035767}, 0.3: {0.5: 0.28759314456035767}, 0.6: {0.4: 0.28759314456035767}, 0.8: {0.4: 0.28759314456035767}, 0.9: {0.4: 0.28759314456035767}, 0.7: {0.4: 0.28759314456035767}}\n",
      "\t0.5\t\t\t0.6\t\t{0.5: {0.5: 0.28759314456035767}, 1.0: {0.4: 0.28759314456035767}, 0.4: {0.5: 0.28759314456035767}, 0.2: {0.5: 0.28759314456035767}, 0.1: {0.5: 0.28759314456035767}, 0.3: {0.5: 0.28759314456035767}, 0.6: {0.5: 0.28759314456035767}, 0.8: {0.4: 0.28759314456035767}, 0.9: {0.4: 0.28759314456035767}, 0.7: {0.4: 0.28759314456035767}}\n",
      "\t0.5\t\t\t0.7\t\t{0.5: {0.5: 0.28759314456035767}, 1.0: {0.4: 0.28759314456035767}, 0.4: {0.5: 0.28759314456035767}, 0.2: {0.5: 0.28759314456035767}, 0.1: {0.5: 0.28759314456035767}, 0.3: {0.5: 0.28759314456035767}, 0.6: {0.5: 0.28759314456035767}, 0.8: {0.4: 0.28759314456035767}, 0.9: {0.4: 0.28759314456035767}, 0.7: {0.5: 0.28759314456035767}}\n",
      "\t0.5\t\t\t0.8\t\t{0.5: {0.5: 0.28759314456035767}, 1.0: {0.4: 0.28759314456035767}, 0.4: {0.5: 0.28759314456035767}, 0.2: {0.5: 0.28759314456035767}, 0.1: {0.5: 0.28759314456035767}, 0.3: {0.5: 0.28759314456035767}, 0.6: {0.5: 0.28759314456035767}, 0.8: {0.5: 0.28759314456035767}, 0.9: {0.4: 0.28759314456035767}, 0.7: {0.5: 0.28759314456035767}}\n",
      "\t0.5\t\t\t0.9\t\t{0.5: {0.5: 0.28759314456035767}, 1.0: {0.4: 0.28759314456035767}, 0.4: {0.5: 0.28759314456035767}, 0.2: {0.5: 0.28759314456035767}, 0.1: {0.5: 0.28759314456035767}, 0.3: {0.5: 0.28759314456035767}, 0.6: {0.5: 0.28759314456035767}, 0.8: {0.5: 0.28759314456035767}, 0.9: {0.5: 0.28759314456035767}, 0.7: {0.5: 0.28759314456035767}}\n",
      "\t0.5\t\t\t1.0\t\t{0.5: {0.5: 0.28759314456035767}, 1.0: {0.5: 0.28759314456035767}, 0.4: {0.5: 0.28759314456035767}, 0.2: {0.5: 0.28759314456035767}, 0.1: {0.5: 0.28759314456035767}, 0.3: {0.5: 0.28759314456035767}, 0.6: {0.5: 0.28759314456035767}, 0.8: {0.5: 0.28759314456035767}, 0.9: {0.5: 0.28759314456035767}, 0.7: {0.5: 0.28759314456035767}}\n",
      "\t0.6\t\t\t0.1\t\t{0.5: {0.5: 0.28759314456035767}, 1.0: {0.5: 0.28759314456035767}, 0.4: {0.5: 0.28759314456035767}, 0.2: {0.5: 0.28759314456035767}, 0.1: {0.6: 0.28759314456035767}, 0.3: {0.5: 0.28759314456035767}, 0.6: {0.5: 0.28759314456035767}, 0.8: {0.5: 0.28759314456035767}, 0.9: {0.5: 0.28759314456035767}, 0.7: {0.5: 0.28759314456035767}}\n",
      "\t0.6\t\t\t0.2\t\t{0.5: {0.5: 0.28759314456035767}, 1.0: {0.5: 0.28759314456035767}, 0.4: {0.5: 0.28759314456035767}, 0.2: {0.6: 0.28759314456035767}, 0.1: {0.6: 0.28759314456035767}, 0.3: {0.5: 0.28759314456035767}, 0.6: {0.5: 0.28759314456035767}, 0.8: {0.5: 0.28759314456035767}, 0.9: {0.5: 0.28759314456035767}, 0.7: {0.5: 0.28759314456035767}}\n"
     ]
    },
    {
     "name": "stdout",
     "output_type": "stream",
     "text": [
      "\t0.6\t\t\t0.3\t\t{0.5: {0.5: 0.28759314456035767}, 1.0: {0.5: 0.28759314456035767}, 0.4: {0.5: 0.28759314456035767}, 0.2: {0.6: 0.28759314456035767}, 0.1: {0.6: 0.28759314456035767}, 0.3: {0.6: 0.28759314456035767}, 0.6: {0.5: 0.28759314456035767}, 0.8: {0.5: 0.28759314456035767}, 0.9: {0.5: 0.28759314456035767}, 0.7: {0.5: 0.28759314456035767}}\n",
      "\t0.6\t\t\t0.4\t\t{0.5: {0.5: 0.28759314456035767}, 1.0: {0.5: 0.28759314456035767}, 0.4: {0.6: 0.28759314456035767}, 0.2: {0.6: 0.28759314456035767}, 0.1: {0.6: 0.28759314456035767}, 0.3: {0.6: 0.28759314456035767}, 0.6: {0.5: 0.28759314456035767}, 0.8: {0.5: 0.28759314456035767}, 0.9: {0.5: 0.28759314456035767}, 0.7: {0.5: 0.28759314456035767}}\n",
      "\t0.6\t\t\t0.5\t\t{0.5: {0.6: 0.28759314456035767}, 1.0: {0.5: 0.28759314456035767}, 0.4: {0.6: 0.28759314456035767}, 0.2: {0.6: 0.28759314456035767}, 0.1: {0.6: 0.28759314456035767}, 0.3: {0.6: 0.28759314456035767}, 0.6: {0.5: 0.28759314456035767}, 0.8: {0.5: 0.28759314456035767}, 0.9: {0.5: 0.28759314456035767}, 0.7: {0.5: 0.28759314456035767}}\n",
      "\t0.6\t\t\t0.6\t\t{0.5: {0.6: 0.28759314456035767}, 1.0: {0.5: 0.28759314456035767}, 0.4: {0.6: 0.28759314456035767}, 0.2: {0.6: 0.28759314456035767}, 0.1: {0.6: 0.28759314456035767}, 0.3: {0.6: 0.28759314456035767}, 0.6: {0.6: 0.28759314456035767}, 0.8: {0.5: 0.28759314456035767}, 0.9: {0.5: 0.28759314456035767}, 0.7: {0.5: 0.28759314456035767}}\n",
      "\t0.6\t\t\t0.7\t\t{0.5: {0.6: 0.28759314456035767}, 1.0: {0.5: 0.28759314456035767}, 0.4: {0.6: 0.28759314456035767}, 0.2: {0.6: 0.28759314456035767}, 0.1: {0.6: 0.28759314456035767}, 0.3: {0.6: 0.28759314456035767}, 0.6: {0.6: 0.28759314456035767}, 0.8: {0.5: 0.28759314456035767}, 0.9: {0.5: 0.28759314456035767}, 0.7: {0.6: 0.28759314456035767}}\n",
      "\t0.6\t\t\t0.8\t\t{0.5: {0.6: 0.28759314456035767}, 1.0: {0.5: 0.28759314456035767}, 0.4: {0.6: 0.28759314456035767}, 0.2: {0.6: 0.28759314456035767}, 0.1: {0.6: 0.28759314456035767}, 0.3: {0.6: 0.28759314456035767}, 0.6: {0.6: 0.28759314456035767}, 0.8: {0.6: 0.28759314456035767}, 0.9: {0.5: 0.28759314456035767}, 0.7: {0.6: 0.28759314456035767}}\n",
      "\t0.6\t\t\t0.9\t\t{0.5: {0.6: 0.28759314456035767}, 1.0: {0.5: 0.28759314456035767}, 0.4: {0.6: 0.28759314456035767}, 0.2: {0.6: 0.28759314456035767}, 0.1: {0.6: 0.28759314456035767}, 0.3: {0.6: 0.28759314456035767}, 0.6: {0.6: 0.28759314456035767}, 0.8: {0.6: 0.28759314456035767}, 0.9: {0.6: 0.28759314456035767}, 0.7: {0.6: 0.28759314456035767}}\n",
      "\t0.6\t\t\t1.0\t\t{0.5: {0.6: 0.28759314456035767}, 1.0: {0.6: 0.28759314456035767}, 0.4: {0.6: 0.28759314456035767}, 0.2: {0.6: 0.28759314456035767}, 0.1: {0.6: 0.28759314456035767}, 0.3: {0.6: 0.28759314456035767}, 0.6: {0.6: 0.28759314456035767}, 0.8: {0.6: 0.28759314456035767}, 0.9: {0.6: 0.28759314456035767}, 0.7: {0.6: 0.28759314456035767}}\n",
      "\t0.7\t\t\t0.1\t\t{0.5: {0.6: 0.28759314456035767}, 1.0: {0.6: 0.28759314456035767}, 0.4: {0.6: 0.28759314456035767}, 0.2: {0.6: 0.28759314456035767}, 0.1: {0.7: 0.28759314456035767}, 0.3: {0.6: 0.28759314456035767}, 0.6: {0.6: 0.28759314456035767}, 0.8: {0.6: 0.28759314456035767}, 0.9: {0.6: 0.28759314456035767}, 0.7: {0.6: 0.28759314456035767}}\n",
      "\t0.7\t\t\t0.2\t\t{0.5: {0.6: 0.28759314456035767}, 1.0: {0.6: 0.28759314456035767}, 0.4: {0.6: 0.28759314456035767}, 0.2: {0.7: 0.28759314456035767}, 0.1: {0.7: 0.28759314456035767}, 0.3: {0.6: 0.28759314456035767}, 0.6: {0.6: 0.28759314456035767}, 0.8: {0.6: 0.28759314456035767}, 0.9: {0.6: 0.28759314456035767}, 0.7: {0.6: 0.28759314456035767}}\n",
      "\t0.7\t\t\t0.3\t\t{0.5: {0.6: 0.28759314456035767}, 1.0: {0.6: 0.28759314456035767}, 0.4: {0.6: 0.28759314456035767}, 0.2: {0.7: 0.28759314456035767}, 0.1: {0.7: 0.28759314456035767}, 0.3: {0.7: 0.28759314456035767}, 0.6: {0.6: 0.28759314456035767}, 0.8: {0.6: 0.28759314456035767}, 0.9: {0.6: 0.28759314456035767}, 0.7: {0.6: 0.28759314456035767}}\n",
      "\t0.7\t\t\t0.4\t\t{0.5: {0.6: 0.28759314456035767}, 1.0: {0.6: 0.28759314456035767}, 0.4: {0.7: 0.28759314456035767}, 0.2: {0.7: 0.28759314456035767}, 0.1: {0.7: 0.28759314456035767}, 0.3: {0.7: 0.28759314456035767}, 0.6: {0.6: 0.28759314456035767}, 0.8: {0.6: 0.28759314456035767}, 0.9: {0.6: 0.28759314456035767}, 0.7: {0.6: 0.28759314456035767}}\n",
      "\t0.7\t\t\t0.5\t\t{0.5: {0.7: 0.28759314456035767}, 1.0: {0.6: 0.28759314456035767}, 0.4: {0.7: 0.28759314456035767}, 0.2: {0.7: 0.28759314456035767}, 0.1: {0.7: 0.28759314456035767}, 0.3: {0.7: 0.28759314456035767}, 0.6: {0.6: 0.28759314456035767}, 0.8: {0.6: 0.28759314456035767}, 0.9: {0.6: 0.28759314456035767}, 0.7: {0.6: 0.28759314456035767}}\n",
      "\t0.7\t\t\t0.6\t\t{0.5: {0.7: 0.28759314456035767}, 1.0: {0.6: 0.28759314456035767}, 0.4: {0.7: 0.28759314456035767}, 0.2: {0.7: 0.28759314456035767}, 0.1: {0.7: 0.28759314456035767}, 0.3: {0.7: 0.28759314456035767}, 0.6: {0.7: 0.28759314456035767}, 0.8: {0.6: 0.28759314456035767}, 0.9: {0.6: 0.28759314456035767}, 0.7: {0.6: 0.28759314456035767}}\n",
      "\t0.7\t\t\t0.7\t\t{0.5: {0.7: 0.28759314456035767}, 1.0: {0.6: 0.28759314456035767}, 0.4: {0.7: 0.28759314456035767}, 0.2: {0.7: 0.28759314456035767}, 0.1: {0.7: 0.28759314456035767}, 0.3: {0.7: 0.28759314456035767}, 0.6: {0.7: 0.28759314456035767}, 0.8: {0.6: 0.28759314456035767}, 0.9: {0.6: 0.28759314456035767}, 0.7: {0.7: 0.28759314456035767}}\n",
      "\t0.7\t\t\t0.8\t\t{0.5: {0.7: 0.28759314456035767}, 1.0: {0.6: 0.28759314456035767}, 0.4: {0.7: 0.28759314456035767}, 0.2: {0.7: 0.28759314456035767}, 0.1: {0.7: 0.28759314456035767}, 0.3: {0.7: 0.28759314456035767}, 0.6: {0.7: 0.28759314456035767}, 0.8: {0.7: 0.28759314456035767}, 0.9: {0.6: 0.28759314456035767}, 0.7: {0.7: 0.28759314456035767}}\n",
      "\t0.7\t\t\t0.9\t\t{0.5: {0.7: 0.28759314456035767}, 1.0: {0.6: 0.28759314456035767}, 0.4: {0.7: 0.28759314456035767}, 0.2: {0.7: 0.28759314456035767}, 0.1: {0.7: 0.28759314456035767}, 0.3: {0.7: 0.28759314456035767}, 0.6: {0.7: 0.28759314456035767}, 0.8: {0.7: 0.28759314456035767}, 0.9: {0.7: 0.28759314456035767}, 0.7: {0.7: 0.28759314456035767}}\n",
      "\t0.7\t\t\t1.0\t\t{0.5: {0.7: 0.28759314456035767}, 1.0: {0.7: 0.28759314456035767}, 0.4: {0.7: 0.28759314456035767}, 0.2: {0.7: 0.28759314456035767}, 0.1: {0.7: 0.28759314456035767}, 0.3: {0.7: 0.28759314456035767}, 0.6: {0.7: 0.28759314456035767}, 0.8: {0.7: 0.28759314456035767}, 0.9: {0.7: 0.28759314456035767}, 0.7: {0.7: 0.28759314456035767}}\n",
      "\t0.8\t\t\t0.1\t\t{0.5: {0.7: 0.28759314456035767}, 1.0: {0.7: 0.28759314456035767}, 0.4: {0.7: 0.28759314456035767}, 0.2: {0.7: 0.28759314456035767}, 0.1: {0.8: 0.28759314456035767}, 0.3: {0.7: 0.28759314456035767}, 0.6: {0.7: 0.28759314456035767}, 0.8: {0.7: 0.28759314456035767}, 0.9: {0.7: 0.28759314456035767}, 0.7: {0.7: 0.28759314456035767}}\n",
      "\t0.8\t\t\t0.2\t\t{0.5: {0.7: 0.28759314456035767}, 1.0: {0.7: 0.28759314456035767}, 0.4: {0.7: 0.28759314456035767}, 0.2: {0.8: 0.28759314456035767}, 0.1: {0.8: 0.28759314456035767}, 0.3: {0.7: 0.28759314456035767}, 0.6: {0.7: 0.28759314456035767}, 0.8: {0.7: 0.28759314456035767}, 0.9: {0.7: 0.28759314456035767}, 0.7: {0.7: 0.28759314456035767}}\n",
      "\t0.8\t\t\t0.3\t\t{0.5: {0.7: 0.28759314456035767}, 1.0: {0.7: 0.28759314456035767}, 0.4: {0.7: 0.28759314456035767}, 0.2: {0.8: 0.28759314456035767}, 0.1: {0.8: 0.28759314456035767}, 0.3: {0.8: 0.28759314456035767}, 0.6: {0.7: 0.28759314456035767}, 0.8: {0.7: 0.28759314456035767}, 0.9: {0.7: 0.28759314456035767}, 0.7: {0.7: 0.28759314456035767}}\n",
      "\t0.8\t\t\t0.4\t\t{0.5: {0.7: 0.28759314456035767}, 1.0: {0.7: 0.28759314456035767}, 0.4: {0.8: 0.28759314456035767}, 0.2: {0.8: 0.28759314456035767}, 0.1: {0.8: 0.28759314456035767}, 0.3: {0.8: 0.28759314456035767}, 0.6: {0.7: 0.28759314456035767}, 0.8: {0.7: 0.28759314456035767}, 0.9: {0.7: 0.28759314456035767}, 0.7: {0.7: 0.28759314456035767}}\n",
      "\t0.8\t\t\t0.5\t\t{0.5: {0.8: 0.28759314456035767}, 1.0: {0.7: 0.28759314456035767}, 0.4: {0.8: 0.28759314456035767}, 0.2: {0.8: 0.28759314456035767}, 0.1: {0.8: 0.28759314456035767}, 0.3: {0.8: 0.28759314456035767}, 0.6: {0.7: 0.28759314456035767}, 0.8: {0.7: 0.28759314456035767}, 0.9: {0.7: 0.28759314456035767}, 0.7: {0.7: 0.28759314456035767}}\n",
      "\t0.8\t\t\t0.6\t\t{0.5: {0.8: 0.28759314456035767}, 1.0: {0.7: 0.28759314456035767}, 0.4: {0.8: 0.28759314456035767}, 0.2: {0.8: 0.28759314456035767}, 0.1: {0.8: 0.28759314456035767}, 0.3: {0.8: 0.28759314456035767}, 0.6: {0.8: 0.28759314456035767}, 0.8: {0.7: 0.28759314456035767}, 0.9: {0.7: 0.28759314456035767}, 0.7: {0.7: 0.28759314456035767}}\n"
     ]
    },
    {
     "name": "stdout",
     "output_type": "stream",
     "text": [
      "\t0.8\t\t\t0.7\t\t{0.5: {0.8: 0.28759314456035767}, 1.0: {0.7: 0.28759314456035767}, 0.4: {0.8: 0.28759314456035767}, 0.2: {0.8: 0.28759314456035767}, 0.1: {0.8: 0.28759314456035767}, 0.3: {0.8: 0.28759314456035767}, 0.6: {0.8: 0.28759314456035767}, 0.8: {0.7: 0.28759314456035767}, 0.9: {0.7: 0.28759314456035767}, 0.7: {0.8: 0.28759314456035767}}\n",
      "\t0.8\t\t\t0.8\t\t{0.5: {0.8: 0.28759314456035767}, 1.0: {0.7: 0.28759314456035767}, 0.4: {0.8: 0.28759314456035767}, 0.2: {0.8: 0.28759314456035767}, 0.1: {0.8: 0.28759314456035767}, 0.3: {0.8: 0.28759314456035767}, 0.6: {0.8: 0.28759314456035767}, 0.8: {0.8: 0.28759314456035767}, 0.9: {0.7: 0.28759314456035767}, 0.7: {0.8: 0.28759314456035767}}\n",
      "\t0.8\t\t\t0.9\t\t{0.5: {0.8: 0.28759314456035767}, 1.0: {0.7: 0.28759314456035767}, 0.4: {0.8: 0.28759314456035767}, 0.2: {0.8: 0.28759314456035767}, 0.1: {0.8: 0.28759314456035767}, 0.3: {0.8: 0.28759314456035767}, 0.6: {0.8: 0.28759314456035767}, 0.8: {0.8: 0.28759314456035767}, 0.9: {0.8: 0.28759314456035767}, 0.7: {0.8: 0.28759314456035767}}\n",
      "\t0.8\t\t\t1.0\t\t{0.5: {0.8: 0.28759314456035767}, 1.0: {0.8: 0.28759314456035767}, 0.4: {0.8: 0.28759314456035767}, 0.2: {0.8: 0.28759314456035767}, 0.1: {0.8: 0.28759314456035767}, 0.3: {0.8: 0.28759314456035767}, 0.6: {0.8: 0.28759314456035767}, 0.8: {0.8: 0.28759314456035767}, 0.9: {0.8: 0.28759314456035767}, 0.7: {0.8: 0.28759314456035767}}\n",
      "\t0.9\t\t\t0.1\t\t{0.5: {0.8: 0.28759314456035767}, 1.0: {0.8: 0.28759314456035767}, 0.4: {0.8: 0.28759314456035767}, 0.2: {0.8: 0.28759314456035767}, 0.1: {0.9: 0.28759314456035767}, 0.3: {0.8: 0.28759314456035767}, 0.6: {0.8: 0.28759314456035767}, 0.8: {0.8: 0.28759314456035767}, 0.9: {0.8: 0.28759314456035767}, 0.7: {0.8: 0.28759314456035767}}\n",
      "\t0.9\t\t\t0.2\t\t{0.5: {0.8: 0.28759314456035767}, 1.0: {0.8: 0.28759314456035767}, 0.4: {0.8: 0.28759314456035767}, 0.2: {0.9: 0.28759314456035767}, 0.1: {0.9: 0.28759314456035767}, 0.3: {0.8: 0.28759314456035767}, 0.6: {0.8: 0.28759314456035767}, 0.8: {0.8: 0.28759314456035767}, 0.9: {0.8: 0.28759314456035767}, 0.7: {0.8: 0.28759314456035767}}\n",
      "\t0.9\t\t\t0.3\t\t{0.5: {0.8: 0.28759314456035767}, 1.0: {0.8: 0.28759314456035767}, 0.4: {0.8: 0.28759314456035767}, 0.2: {0.9: 0.28759314456035767}, 0.1: {0.9: 0.28759314456035767}, 0.3: {0.9: 0.28759314456035767}, 0.6: {0.8: 0.28759314456035767}, 0.8: {0.8: 0.28759314456035767}, 0.9: {0.8: 0.28759314456035767}, 0.7: {0.8: 0.28759314456035767}}\n",
      "\t0.9\t\t\t0.4\t\t{0.5: {0.8: 0.28759314456035767}, 1.0: {0.8: 0.28759314456035767}, 0.4: {0.9: 0.28759314456035767}, 0.2: {0.9: 0.28759314456035767}, 0.1: {0.9: 0.28759314456035767}, 0.3: {0.9: 0.28759314456035767}, 0.6: {0.8: 0.28759314456035767}, 0.8: {0.8: 0.28759314456035767}, 0.9: {0.8: 0.28759314456035767}, 0.7: {0.8: 0.28759314456035767}}\n",
      "\t0.9\t\t\t0.5\t\t{0.5: {0.9: 0.28759314456035767}, 1.0: {0.8: 0.28759314456035767}, 0.4: {0.9: 0.28759314456035767}, 0.2: {0.9: 0.28759314456035767}, 0.1: {0.9: 0.28759314456035767}, 0.3: {0.9: 0.28759314456035767}, 0.6: {0.8: 0.28759314456035767}, 0.8: {0.8: 0.28759314456035767}, 0.9: {0.8: 0.28759314456035767}, 0.7: {0.8: 0.28759314456035767}}\n",
      "\t0.9\t\t\t0.6\t\t{0.5: {0.9: 0.28759314456035767}, 1.0: {0.8: 0.28759314456035767}, 0.4: {0.9: 0.28759314456035767}, 0.2: {0.9: 0.28759314456035767}, 0.1: {0.9: 0.28759314456035767}, 0.3: {0.9: 0.28759314456035767}, 0.6: {0.9: 0.28759314456035767}, 0.8: {0.8: 0.28759314456035767}, 0.9: {0.8: 0.28759314456035767}, 0.7: {0.8: 0.28759314456035767}}\n",
      "\t0.9\t\t\t0.7\t\t{0.5: {0.9: 0.28759314456035767}, 1.0: {0.8: 0.28759314456035767}, 0.4: {0.9: 0.28759314456035767}, 0.2: {0.9: 0.28759314456035767}, 0.1: {0.9: 0.28759314456035767}, 0.3: {0.9: 0.28759314456035767}, 0.6: {0.9: 0.28759314456035767}, 0.8: {0.8: 0.28759314456035767}, 0.9: {0.8: 0.28759314456035767}, 0.7: {0.9: 0.28759314456035767}}\n",
      "\t0.9\t\t\t0.8\t\t{0.5: {0.9: 0.28759314456035767}, 1.0: {0.8: 0.28759314456035767}, 0.4: {0.9: 0.28759314456035767}, 0.2: {0.9: 0.28759314456035767}, 0.1: {0.9: 0.28759314456035767}, 0.3: {0.9: 0.28759314456035767}, 0.6: {0.9: 0.28759314456035767}, 0.8: {0.9: 0.28759314456035767}, 0.9: {0.8: 0.28759314456035767}, 0.7: {0.9: 0.28759314456035767}}\n",
      "\t0.9\t\t\t0.9\t\t{0.5: {0.9: 0.28759314456035767}, 1.0: {0.8: 0.28759314456035767}, 0.4: {0.9: 0.28759314456035767}, 0.2: {0.9: 0.28759314456035767}, 0.1: {0.9: 0.28759314456035767}, 0.3: {0.9: 0.28759314456035767}, 0.6: {0.9: 0.28759314456035767}, 0.8: {0.9: 0.28759314456035767}, 0.9: {0.9: 0.28759314456035767}, 0.7: {0.9: 0.28759314456035767}}\n",
      "\t0.9\t\t\t1.0\t\t{0.5: {0.9: 0.28759314456035767}, 1.0: {0.9: 0.28759314456035767}, 0.4: {0.9: 0.28759314456035767}, 0.2: {0.9: 0.28759314456035767}, 0.1: {0.9: 0.28759314456035767}, 0.3: {0.9: 0.28759314456035767}, 0.6: {0.9: 0.28759314456035767}, 0.8: {0.9: 0.28759314456035767}, 0.9: {0.9: 0.28759314456035767}, 0.7: {0.9: 0.28759314456035767}}\n",
      "\t1.0\t\t\t0.1\t\t{0.5: {0.9: 0.28759314456035767}, 1.0: {0.9: 0.28759314456035767}, 0.4: {0.9: 0.28759314456035767}, 0.2: {0.9: 0.28759314456035767}, 0.1: {1.0: 0.28759314456035767}, 0.3: {0.9: 0.28759314456035767}, 0.6: {0.9: 0.28759314456035767}, 0.8: {0.9: 0.28759314456035767}, 0.9: {0.9: 0.28759314456035767}, 0.7: {0.9: 0.28759314456035767}}\n",
      "\t1.0\t\t\t0.2\t\t{0.5: {0.9: 0.28759314456035767}, 1.0: {0.9: 0.28759314456035767}, 0.4: {0.9: 0.28759314456035767}, 0.2: {1.0: 0.28759314456035767}, 0.1: {1.0: 0.28759314456035767}, 0.3: {0.9: 0.28759314456035767}, 0.6: {0.9: 0.28759314456035767}, 0.8: {0.9: 0.28759314456035767}, 0.9: {0.9: 0.28759314456035767}, 0.7: {0.9: 0.28759314456035767}}\n",
      "\t1.0\t\t\t0.3\t\t{0.5: {0.9: 0.28759314456035767}, 1.0: {0.9: 0.28759314456035767}, 0.4: {0.9: 0.28759314456035767}, 0.2: {1.0: 0.28759314456035767}, 0.1: {1.0: 0.28759314456035767}, 0.3: {1.0: 0.28759314456035767}, 0.6: {0.9: 0.28759314456035767}, 0.8: {0.9: 0.28759314456035767}, 0.9: {0.9: 0.28759314456035767}, 0.7: {0.9: 0.28759314456035767}}\n",
      "\t1.0\t\t\t0.4\t\t{0.5: {0.9: 0.28759314456035767}, 1.0: {0.9: 0.28759314456035767}, 0.4: {1.0: 0.28759314456035767}, 0.2: {1.0: 0.28759314456035767}, 0.1: {1.0: 0.28759314456035767}, 0.3: {1.0: 0.28759314456035767}, 0.6: {0.9: 0.28759314456035767}, 0.8: {0.9: 0.28759314456035767}, 0.9: {0.9: 0.28759314456035767}, 0.7: {0.9: 0.28759314456035767}}\n",
      "\t1.0\t\t\t0.5\t\t{0.5: {1.0: 0.28759314456035767}, 1.0: {0.9: 0.28759314456035767}, 0.4: {1.0: 0.28759314456035767}, 0.2: {1.0: 0.28759314456035767}, 0.1: {1.0: 0.28759314456035767}, 0.3: {1.0: 0.28759314456035767}, 0.6: {0.9: 0.28759314456035767}, 0.8: {0.9: 0.28759314456035767}, 0.9: {0.9: 0.28759314456035767}, 0.7: {0.9: 0.28759314456035767}}\n",
      "\t1.0\t\t\t0.6\t\t{0.5: {1.0: 0.28759314456035767}, 1.0: {0.9: 0.28759314456035767}, 0.4: {1.0: 0.28759314456035767}, 0.2: {1.0: 0.28759314456035767}, 0.1: {1.0: 0.28759314456035767}, 0.3: {1.0: 0.28759314456035767}, 0.6: {1.0: 0.28759314456035767}, 0.8: {0.9: 0.28759314456035767}, 0.9: {0.9: 0.28759314456035767}, 0.7: {0.9: 0.28759314456035767}}\n",
      "\t1.0\t\t\t0.7\t\t{0.5: {1.0: 0.28759314456035767}, 1.0: {0.9: 0.28759314456035767}, 0.4: {1.0: 0.28759314456035767}, 0.2: {1.0: 0.28759314456035767}, 0.1: {1.0: 0.28759314456035767}, 0.3: {1.0: 0.28759314456035767}, 0.6: {1.0: 0.28759314456035767}, 0.8: {0.9: 0.28759314456035767}, 0.9: {0.9: 0.28759314456035767}, 0.7: {1.0: 0.28759314456035767}}\n",
      "\t1.0\t\t\t0.8\t\t{0.5: {1.0: 0.28759314456035767}, 1.0: {0.9: 0.28759314456035767}, 0.4: {1.0: 0.28759314456035767}, 0.2: {1.0: 0.28759314456035767}, 0.1: {1.0: 0.28759314456035767}, 0.3: {1.0: 0.28759314456035767}, 0.6: {1.0: 0.28759314456035767}, 0.8: {1.0: 0.28759314456035767}, 0.9: {0.9: 0.28759314456035767}, 0.7: {1.0: 0.28759314456035767}}\n",
      "\t1.0\t\t\t0.9\t\t{0.5: {1.0: 0.28759314456035767}, 1.0: {0.9: 0.28759314456035767}, 0.4: {1.0: 0.28759314456035767}, 0.2: {1.0: 0.28759314456035767}, 0.1: {1.0: 0.28759314456035767}, 0.3: {1.0: 0.28759314456035767}, 0.6: {1.0: 0.28759314456035767}, 0.8: {1.0: 0.28759314456035767}, 0.9: {1.0: 0.28759314456035767}, 0.7: {1.0: 0.28759314456035767}}\n",
      "\t1.0\t\t\t1.0\t\t{0.5: {1.0: 0.28759314456035767}, 1.0: {1.0: 0.28759314456035767}, 0.4: {1.0: 0.28759314456035767}, 0.2: {1.0: 0.28759314456035767}, 0.1: {1.0: 0.28759314456035767}, 0.3: {1.0: 0.28759314456035767}, 0.6: {1.0: 0.28759314456035767}, 0.8: {1.0: 0.28759314456035767}, 0.9: {1.0: 0.28759314456035767}, 0.7: {1.0: 0.28759314456035767}}\n"
     ]
    }
   ],
   "source": [
    "lr_results = {}\n",
    "eval_mlr_classifier()"
   ]
  },
  {
   "cell_type": "code",
   "execution_count": 241,
   "metadata": {},
   "outputs": [
    {
     "data": {
      "image/png": "[encoded data removed]",
      "text/plain": [
       "<Figure size 432x288 with 1 Axes>"
      ]
     },
     "metadata": {},
     "output_type": "display_data"
    }
   ],
   "source": [
    "trainingSummary = lrModel.summary\n",
    "\n",
    "objectiveHistory = trainingSummary.objectiveHistory\n",
    "plt.plot(objectiveHistory)\n",
    "plt.ylabel('Objective Function')\n",
    "plt.xlabel('Iteration')\n",
    "plt.show()"
   ]
  },
  {
   "cell_type": "markdown",
   "metadata": {},
   "source": [
    "#### Examples from: https://runawayhorse001.github.io/LearningApacheSpark/classification.html"
   ]
  },
  {
   "cell_type": "code",
   "execution_count": 242,
   "metadata": {},
   "outputs": [
    {
     "name": "stdout",
     "output_type": "stream",
     "text": [
      "+--------------------+-----+----------+\n",
      "|            features|label|prediction|\n",
      "+--------------------+-----+----------+\n",
      "|(203,[0,156,191,1...|  0.0|       0.0|\n",
      "|(203,[0,156,191,1...|  0.0|       0.0|\n",
      "|(203,[0,156,191,1...|  0.0|       0.0|\n",
      "|(203,[0,156,191,1...|  0.0|       0.0|\n",
      "|(203,[0,156,191,1...|  0.0|       0.0|\n",
      "+--------------------+-----+----------+\n",
      "only showing top 5 rows\n",
      "\n"
     ]
    }
   ],
   "source": [
    "predictions = lrModel.transform(dev_data)\n",
    "predictions.select(\"features\",\"label\",\"prediction\").show(5)"
   ]
  },
  {
   "cell_type": "code",
   "execution_count": 243,
   "metadata": {},
   "outputs": [
    {
     "name": "stdout",
     "output_type": "stream",
     "text": [
      "Test Error = 0.712407\n"
     ]
    }
   ],
   "source": [
    "# Select (prediction, true label) and compute test error\n",
    "evaluator = MulticlassClassificationEvaluator(\n",
    "    labelCol=\"label\", predictionCol=\"prediction\", metricName=\"accuracy\")\n",
    "accuracy = evaluator.evaluate(predictions)\n",
    "print(\"Test Error = %g\" % (1.0 - accuracy))"
   ]
  },
  {
   "cell_type": "code",
   "execution_count": null,
   "metadata": {},
   "outputs": [],
   "source": []
  },
  {
   "cell_type": "code",
   "execution_count": 244,
   "metadata": {},
   "outputs": [],
   "source": [
    "import matplotlib.pyplot as plt\n",
    "import numpy as np\n",
    "import itertools\n",
    "\n",
    "def plot_confusion_matrix(cm, classes,\n",
    "                          normalize=False,\n",
    "                          title='Confusion matrix',\n",
    "                          cmap=plt.cm.Blues):\n",
    "\n",
    "    if normalize:\n",
    "        cm = cm.astype('float') / cm.sum(axis=1)[:, np.newaxis]\n",
    "        print(\"Normalized confusion matrix\")\n",
    "    else:\n",
    "        print('Confusion matrix, without normalization')\n",
    "\n",
    "    print(cm)\n",
    "\n",
    "    plt.imshow(cm, interpolation='nearest', cmap=cmap)\n",
    "    plt.title(title)\n",
    "    plt.colorbar()\n",
    "    tick_marks = np.arange(len(classes))\n",
    "    plt.xticks(tick_marks, classes, rotation=45)\n",
    "    plt.yticks(tick_marks, classes)\n",
    "\n",
    "    fmt = '.2f' if normalize else 'd'\n",
    "    thresh = cm.max() / 2.\n",
    "    for i, j in itertools.product(range(cm.shape[0]), range(cm.shape[1])):\n",
    "        plt.text(j, i, format(cm[i, j], fmt),\n",
    "                 horizontalalignment=\"center\",\n",
    "                 color=\"white\" if cm[i, j] > thresh else \"black\")\n",
    "\n",
    "    plt.tight_layout()\n",
    "    plt.ylabel('True label')\n",
    "    plt.xlabel('Predicted label')"
   ]
  },
  {
   "cell_type": "code",
   "execution_count": 245,
   "metadata": {},
   "outputs": [
    {
     "name": "stdout",
     "output_type": "stream",
     "text": [
      "+-----+--------------------+-----------+---+-------------+-----------+---------+---------+------+-----------+--------------------+--------------------+----------+\n",
      "|label|            features|     userid|age|      country|day_of_week|timeofday|sessionid|window|description|       rawPrediction|         probability|prediction|\n",
      "+-----+--------------------+-----------+---+-------------+-----------+---------+---------+------+-----------+--------------------+--------------------+----------+\n",
      "|  0.0|(203,[0,156,191,1...|user_000089| 27|United States|  monday   |     noon|        1|   422|    <5_mins|[0.90646756855605...|[0.28613007606937...|       0.0|\n",
      "|  0.0|(203,[0,156,191,1...|user_000089| 27|United States|  monday   |     noon|        2|   527|    <5_mins|[0.90646756855605...|[0.28613007606937...|       0.0|\n",
      "|  0.0|(203,[0,156,191,1...|user_000089| 27|United States|  monday   |     noon|        4|   478|    <5_mins|[0.90646756855605...|[0.28613007606937...|       0.0|\n",
      "|  0.0|(203,[0,156,191,1...|user_000089| 27|United States|  monday   |     noon|        4|   485|    <5_mins|[0.90646756855605...|[0.28613007606937...|       0.0|\n",
      "|  0.0|(203,[0,156,191,1...|user_000089| 27|United States|  monday   |     noon|        5|   478|    <5_mins|[0.90646756855605...|[0.28613007606937...|       0.0|\n",
      "|  0.0|(203,[0,156,191,1...|user_000089| 27|United States|  monday   |     noon|        6|   688|    <5_mins|[0.90646756855605...|[0.28613007606937...|       0.0|\n",
      "|  0.0|(203,[0,156,191,1...|user_000089| 28|United States|  monday   |     noon|        3|   947|    <5_mins|[0.90646756855605...|[0.28613007606937...|       0.0|\n",
      "|  0.0|(203,[0,156,191,1...|user_000089| 29|United States|  monday   |     noon|        1|  1269|    <5_mins|[0.90646756855605...|[0.28613007606937...|       0.0|\n",
      "|  0.0|(203,[0,156,191,1...|user_000089| 30|United States|  monday   |     noon|        1|  1542|    <5_mins|[0.90646756855605...|[0.28613007606937...|       0.0|\n",
      "|  0.0|(203,[0,156,191,1...|user_000089| 27|United States|  monday   |  evening|        4|   583|    <5_mins|[0.90646756855605...|[0.28613007606937...|       0.0|\n",
      "|  0.0|(203,[0,156,191,1...|user_000089| 27|United States|  monday   |  evening|        4|   716|    <5_mins|[0.90646756855605...|[0.28613007606937...|       0.0|\n",
      "|  0.0|(203,[0,156,191,1...|user_000089| 27|United States|  monday   |  evening|        5|   485|    <5_mins|[0.90646756855605...|[0.28613007606937...|       0.0|\n",
      "|  0.0|(203,[0,156,191,1...|user_000089| 27|United States|  monday   |  evening|        6|   534|    <5_mins|[0.90646756855605...|[0.28613007606937...|       0.0|\n",
      "|  0.0|(203,[0,156,191,1...|user_000089| 28|United States|  monday   |  evening|        3|  1010|    <5_mins|[0.90646756855605...|[0.28613007606937...|       0.0|\n",
      "|  0.0|(203,[0,156,191,1...|user_000089| 29|United States|  monday   |  evening|        4|  1409|    <5_mins|[0.90646756855605...|[0.28613007606937...|       0.0|\n",
      "|  0.0|(203,[0,156,191,1...|user_000089| 29|United States|  monday   |  evening|        5|  1346|    <5_mins|[0.90646756855605...|[0.28613007606937...|       0.0|\n",
      "|  0.0|(203,[0,156,191,1...|user_000089| 29|United States|  monday   |  evening|        5|  1381|    <5_mins|[0.90646756855605...|[0.28613007606937...|       0.0|\n",
      "|  0.0|(203,[0,156,191,1...|user_000089| 29|United States|  monday   |  evening|        6|  1164|    <5_mins|[0.90646756855605...|[0.28613007606937...|       0.0|\n",
      "|  0.0|(203,[0,156,191,1...|user_000089| 30|United States|  monday   |  evening|        4|  1500|    <5_mins|[0.90646756855605...|[0.28613007606937...|       0.0|\n",
      "|  0.0|(203,[0,156,191,1...|user_000089| 30|United States|  monday   |  evening|        4|  1507|    <5_mins|[0.90646756855605...|[0.28613007606937...|       0.0|\n",
      "+-----+--------------------+-----------+---+-------------+-----------+---------+---------+------+-----------+--------------------+--------------------+----------+\n",
      "only showing top 20 rows\n",
      "\n"
     ]
    }
   ],
   "source": [
    "predictions.show()"
   ]
  },
  {
   "cell_type": "code",
   "execution_count": 246,
   "metadata": {},
   "outputs": [
    {
     "data": {
      "text/html": [
       "<div>\n",
       "<style scoped>\n",
       "    .dataframe tbody tr th:only-of-type {\n",
       "        vertical-align: middle;\n",
       "    }\n",
       "\n",
       "    .dataframe tbody tr th {\n",
       "        vertical-align: top;\n",
       "    }\n",
       "\n",
       "    .dataframe thead th {\n",
       "        text-align: right;\n",
       "    }\n",
       "</style>\n",
       "<table border=\"1\" class=\"dataframe\">\n",
       "  <thead>\n",
       "    <tr style=\"text-align: right;\">\n",
       "      <th></th>\n",
       "      <th>label</th>\n",
       "      <th>count</th>\n",
       "    </tr>\n",
       "  </thead>\n",
       "  <tbody>\n",
       "    <tr>\n",
       "      <th>0</th>\n",
       "      <td>0.0</td>\n",
       "      <td>7719</td>\n",
       "    </tr>\n",
       "    <tr>\n",
       "      <th>1</th>\n",
       "      <td>1.0</td>\n",
       "      <td>3272</td>\n",
       "    </tr>\n",
       "    <tr>\n",
       "      <th>2</th>\n",
       "      <td>2.0</td>\n",
       "      <td>2862</td>\n",
       "    </tr>\n",
       "    <tr>\n",
       "      <th>3</th>\n",
       "      <td>3.0</td>\n",
       "      <td>2772</td>\n",
       "    </tr>\n",
       "    <tr>\n",
       "      <th>4</th>\n",
       "      <td>4.0</td>\n",
       "      <td>2680</td>\n",
       "    </tr>\n",
       "    <tr>\n",
       "      <th>5</th>\n",
       "      <td>5.0</td>\n",
       "      <td>2568</td>\n",
       "    </tr>\n",
       "    <tr>\n",
       "      <th>6</th>\n",
       "      <td>6.0</td>\n",
       "      <td>2500</td>\n",
       "    </tr>\n",
       "    <tr>\n",
       "      <th>7</th>\n",
       "      <td>7.0</td>\n",
       "      <td>2467</td>\n",
       "    </tr>\n",
       "  </tbody>\n",
       "</table>\n",
       "</div>"
      ],
      "text/plain": [
       "   label  count\n",
       "0    0.0   7719\n",
       "1    1.0   3272\n",
       "2    2.0   2862\n",
       "3    3.0   2772\n",
       "4    4.0   2680\n",
       "5    5.0   2568\n",
       "6    6.0   2500\n",
       "7    7.0   2467"
      ]
     },
     "execution_count": 246,
     "metadata": {},
     "output_type": "execute_result"
    }
   ],
   "source": [
    "class_temp  = predictions.select(\"label\").groupBy(\"label\").count().sort('count', ascending=False).toPandas()\n",
    "class_temp"
   ]
  },
  {
   "cell_type": "code",
   "execution_count": 247,
   "metadata": {},
   "outputs": [],
   "source": [
    "class_names = class_temp['label']"
   ]
  },
  {
   "cell_type": "code",
   "execution_count": 248,
   "metadata": {},
   "outputs": [
    {
     "data": {
      "text/plain": [
       "0    0.0\n",
       "1    1.0\n",
       "2    2.0\n",
       "3    3.0\n",
       "4    4.0\n",
       "5    5.0\n",
       "6    6.0\n",
       "7    7.0\n",
       "Name: label, dtype: float64"
      ]
     },
     "execution_count": 248,
     "metadata": {},
     "output_type": "execute_result"
    }
   ],
   "source": [
    "class_names"
   ]
  },
  {
   "cell_type": "markdown",
   "metadata": {},
   "source": [
    "### Manually Create Confusion Matrix"
   ]
  },
  {
   "cell_type": "code",
   "execution_count": 249,
   "metadata": {},
   "outputs": [
    {
     "name": "stdout",
     "output_type": "stream",
     "text": [
      "+-----+----------+\n",
      "|label|prediction|\n",
      "+-----+----------+\n",
      "|  0.0|       0.0|\n",
      "|  0.0|       0.0|\n",
      "|  0.0|       0.0|\n",
      "|  0.0|       0.0|\n",
      "|  0.0|       0.0|\n",
      "|  0.0|       0.0|\n",
      "|  0.0|       0.0|\n",
      "|  0.0|       0.0|\n",
      "|  0.0|       0.0|\n",
      "|  0.0|       0.0|\n",
      "|  0.0|       0.0|\n",
      "|  0.0|       0.0|\n",
      "|  0.0|       0.0|\n",
      "|  0.0|       0.0|\n",
      "|  0.0|       0.0|\n",
      "|  0.0|       0.0|\n",
      "|  0.0|       0.0|\n",
      "|  0.0|       0.0|\n",
      "|  0.0|       0.0|\n",
      "|  0.0|       0.0|\n",
      "+-----+----------+\n",
      "only showing top 20 rows\n",
      "\n"
     ]
    }
   ],
   "source": [
    "df = predictions.select('label','prediction')\n",
    "df.show()"
   ]
  },
  {
   "cell_type": "code",
   "execution_count": 250,
   "metadata": {},
   "outputs": [
    {
     "name": "stdout",
     "output_type": "stream",
     "text": [
      "\tLABEL\tLabels\tPredictions\n",
      "\t0.0\t7719\t7719\n",
      "\t1.0\t3272\t0\n",
      "\t2.0\t2862\t0\n",
      "\t3.0\t2772\t0\n",
      "\t4.0\t2680\t0\n",
      "\t5.0\t2568\t0\n",
      "\t6.0\t2500\t0\n",
      "\t7.0\t2467\t0\n"
     ]
    }
   ],
   "source": [
    "print(\"\\tLABEL\\tLabels\\tPredictions\")\n",
    "for label in class_names:\n",
    "    num_labels = df[df['label'] == label].count()\n",
    "    num_correct_preds = df[(df['label'] == label) & (df['prediction'] == label)].count()\n",
    "    print(\"\\t{}\\t{}\\t{}\".format(label,num_labels,num_correct_preds))"
   ]
  },
  {
   "cell_type": "code",
   "execution_count": null,
   "metadata": {},
   "outputs": [],
   "source": []
  },
  {
   "cell_type": "code",
   "execution_count": null,
   "metadata": {},
   "outputs": [],
   "source": []
  },
  {
   "cell_type": "code",
   "execution_count": 251,
   "metadata": {},
   "outputs": [],
   "source": [
    "predictions_rdd = predictions.select('prediction','label').rdd.map(tuple)"
   ]
  },
  {
   "cell_type": "code",
   "execution_count": 252,
   "metadata": {},
   "outputs": [
    {
     "data": {
      "text/plain": [
       "[(0.0, 0.0), (0.0, 0.0), (0.0, 0.0), (0.0, 0.0), (0.0, 0.0)]"
      ]
     },
     "execution_count": 252,
     "metadata": {},
     "output_type": "execute_result"
    }
   ],
   "source": [
    "predictions_rdd.take(5)"
   ]
  },
  {
   "cell_type": "code",
   "execution_count": 253,
   "metadata": {},
   "outputs": [],
   "source": [
    "from pyspark.mllib.classification import LogisticRegressionWithLBFGS\n",
    "from pyspark.mllib.util import MLUtils\n",
    "from pyspark.mllib.evaluation import MulticlassMetrics\n",
    "\n",
    "metrics = MulticlassMetrics(predictions_rdd.map(tuple))"
   ]
  },
  {
   "cell_type": "code",
   "execution_count": null,
   "metadata": {},
   "outputs": [],
   "source": []
  },
  {
   "cell_type": "code",
   "execution_count": 254,
   "metadata": {},
   "outputs": [
    {
     "name": "stdout",
     "output_type": "stream",
     "text": [
      "Summary Stats\n",
      "Precision = 0.28759314456\n",
      "Recall = 0.28759314456\n",
      "F1 Score = 0.28759314456\n",
      "Class 0.0 precision = 0.28759314456\n",
      "Class 0.0 recall = 1.0\n",
      "Class 0.0 F1 Measure = 0.44671431465\n",
      "Class 1.0 precision = 0.0\n",
      "Class 1.0 recall = 0.0\n",
      "Class 1.0 F1 Measure = 0.0\n",
      "Class 2.0 precision = 0.0\n",
      "Class 2.0 recall = 0.0\n",
      "Class 2.0 F1 Measure = 0.0\n",
      "Class 3.0 precision = 0.0\n",
      "Class 3.0 recall = 0.0\n",
      "Class 3.0 F1 Measure = 0.0\n",
      "Class 4.0 precision = 0.0\n",
      "Class 4.0 recall = 0.0\n",
      "Class 4.0 F1 Measure = 0.0\n",
      "Class 5.0 precision = 0.0\n",
      "Class 5.0 recall = 0.0\n",
      "Class 5.0 F1 Measure = 0.0\n",
      "Class 6.0 precision = 0.0\n",
      "Class 6.0 recall = 0.0\n",
      "Class 6.0 F1 Measure = 0.0\n",
      "Class 7.0 precision = 0.0\n",
      "Class 7.0 recall = 0.0\n",
      "Class 7.0 F1 Measure = 0.0\n",
      "Weighted recall = 0.28759314456\n",
      "Weighted precision = 0.0827098167981\n",
      "Weighted F(1) Score = 0.12847197447\n",
      "Weighted F(0.5) Score = 0.0964525014495\n",
      "Weighted false positive rate = 0.28759314456\n"
     ]
    }
   ],
   "source": [
    "\n",
    "\n",
    "# Overall statistics\n",
    "precision = metrics.precision()\n",
    "recall = metrics.recall()\n",
    "f1Score = metrics.fMeasure()\n",
    "print(\"Summary Stats\")\n",
    "print(\"Precision = %s\" % precision)\n",
    "print(\"Recall = %s\" % recall)\n",
    "print(\"F1 Score = %s\" % f1Score)\n",
    "\n",
    "# Statistics by class\n",
    "#labels = data.map(lambda lp: lp.label).distinct().collect()\n",
    "labels = class_names\n",
    "for label in sorted(labels):\n",
    "    print(\"Class %s precision = %s\" % (label, metrics.precision(label)))\n",
    "    print(\"Class %s recall = %s\" % (label, metrics.recall(label)))\n",
    "    print(\"Class %s F1 Measure = %s\" % (label, metrics.fMeasure(label, beta=1.0)))\n",
    "\n",
    "# Weighted stats\n",
    "print(\"Weighted recall = %s\" % metrics.weightedRecall)\n",
    "print(\"Weighted precision = %s\" % metrics.weightedPrecision)\n",
    "print(\"Weighted F(1) Score = %s\" % metrics.weightedFMeasure())\n",
    "print(\"Weighted F(0.5) Score = %s\" % metrics.weightedFMeasure(beta=0.5))\n",
    "print(\"Weighted false positive rate = %s\" % metrics.weightedFalsePositiveRate)"
   ]
  },
  {
   "cell_type": "code",
   "execution_count": 255,
   "metadata": {},
   "outputs": [],
   "source": [
    "m = metrics.confusionMatrix()"
   ]
  },
  {
   "cell_type": "code",
   "execution_count": 256,
   "metadata": {},
   "outputs": [],
   "source": [
    "from pyspark.mllib.linalg import Vectors, DenseMatrix \n",
    "\n",
    "import seaborn as sns\n",
    "sns.set() \n",
    "\n",
    "\n",
    "def display_cm(m):\n",
    "  a = m.toArray().astype(np.float)\n",
    "  row_sums = a.sum(axis=1)\n",
    "  percentage_matrix = a.astype(np.float) / row_sums[:, np.newaxis]\n",
    "  print(percentage_matrix)\n",
    "  plt.figure(figsize=(3, 3))\n",
    "  sns.heatmap(percentage_matrix, annot=True,  fmt='.2f', xticklabels=['0' ,'1','2'], yticklabels=['0' ,'1','2']);\n",
    "  plt.title('Confusion Matrix');"
   ]
  },
  {
   "cell_type": "code",
   "execution_count": 257,
   "metadata": {},
   "outputs": [
    {
     "name": "stdout",
     "output_type": "stream",
     "text": [
      "[[1. 0. 0. 0. 0. 0. 0. 0.]\n",
      " [1. 0. 0. 0. 0. 0. 0. 0.]\n",
      " [1. 0. 0. 0. 0. 0. 0. 0.]\n",
      " [1. 0. 0. 0. 0. 0. 0. 0.]\n",
      " [1. 0. 0. 0. 0. 0. 0. 0.]\n",
      " [1. 0. 0. 0. 0. 0. 0. 0.]\n",
      " [1. 0. 0. 0. 0. 0. 0. 0.]\n",
      " [1. 0. 0. 0. 0. 0. 0. 0.]]\n"
     ]
    },
    {
     "data": {
      "image/png": "[encoded data removed]",
      "text/plain": [
       "<Figure size 216x216 with 2 Axes>"
      ]
     },
     "metadata": {},
     "output_type": "display_data"
    }
   ],
   "source": [
    "display_cm(m)"
   ]
  },
  {
   "cell_type": "code",
   "execution_count": null,
   "metadata": {},
   "outputs": [],
   "source": []
  },
  {
   "cell_type": "markdown",
   "metadata": {},
   "source": [
    "### BASELINE DL model with an generic MLP Classifier"
   ]
  },
  {
   "cell_type": "code",
   "execution_count": null,
   "metadata": {},
   "outputs": [],
   "source": []
  },
  {
   "cell_type": "code",
   "execution_count": 258,
   "metadata": {},
   "outputs": [
    {
     "name": "stdout",
     "output_type": "stream",
     "text": [
      "root\n",
      " |-- label: double (nullable = false)\n",
      " |-- features: vector (nullable = true)\n",
      " |-- userid: string (nullable = true)\n",
      " |-- age: integer (nullable = true)\n",
      " |-- country: string (nullable = true)\n",
      " |-- day_of_week: string (nullable = true)\n",
      " |-- timeofday: string (nullable = true)\n",
      " |-- sessionid: integer (nullable = true)\n",
      " |-- window: integer (nullable = true)\n",
      " |-- description: string (nullable = true)\n",
      "\n"
     ]
    }
   ],
   "source": [
    "train_data.printSchema()"
   ]
  },
  {
   "cell_type": "code",
   "execution_count": 259,
   "metadata": {},
   "outputs": [],
   "source": [
    "def mlp_classifier():\n",
    "    print(\"###########################################################################################\")\n",
    "    print(\"##################################       MLP CLASSIFIER      ##############################\")\n",
    "    print(\"###########################################################################################\")\n",
    "    global mlp_results\n",
    "    global train_data, dev_data, test_data\n",
    "    layer_1 = train_data.schema[\"features\"].metadata[\"ml_attr\"][\"num_attrs\"]\n",
    "    layer_2 = layer_1*4\n",
    "    layer_3 = int(layer_2/2)\n",
    "    layer_4 = num_buckets\n",
    "    layers = [layer_1, layer_2, layer_3, layer_4]\n",
    "    print(\"LAYERS: \\t{}\".format(layers))\n",
    "    print(\"---------------------------------  Training MLP Model        ------------------------------\")\n",
    "    trainer = MultilayerPerceptronClassifier(maxIter=5, layers=layers, blockSize=128)\n",
    "    print(\"---------------------------------  Fitting Model to TRAIN    ------------------------------\")\n",
    "    mlp_model = trainer.fit (train_data)        \n",
    "    print(\"---------------------------------  Testing Model against DEV ------------------------------\")\n",
    "    predictions = mlp_model.transform(dev_data)\n",
    "    selected = predictions.select(\"label\", \"prediction\", \"userid\", \"age\", \"country\", \"day_of_week\", \"timeofday\", \"sessionid\", \"window\")\n",
    "    print(\"evaluator = MulticlassClassificationEvaluator().....\")\n",
    "    evaluator = MulticlassClassificationEvaluator().setMetricName('accuracy').setLabelCol('label').setPredictionCol(\"prediction\")\n",
    "    print(\"result = evaluator.evaluate(mlp_model.transform(dev_data))\")\n",
    "    result = evaluator.evaluate(mlp_model.transform(dev_data))\n",
    "    mlp_results.append(result)\n",
    "    print(\"MLP CLASSIFIER RESULTS:\\t{}\".format(mlp_results))"
   ]
  },
  {
   "cell_type": "code",
   "execution_count": 260,
   "metadata": {},
   "outputs": [
    {
     "name": "stdout",
     "output_type": "stream",
     "text": [
      "###########################################################################################\n",
      "##################################       MLP CLASSIFIER      ##############################\n",
      "###########################################################################################\n",
      "LAYERS: \t[203, 812, 406, 10]\n",
      "---------------------------------  Training MLP Model        ------------------------------\n",
      "---------------------------------  Fitting Model to TRAIN    ------------------------------\n",
      "---------------------------------  Testing Model against DEV ------------------------------\n",
      "evaluator = MulticlassClassificationEvaluator().....\n",
      "result = evaluator.evaluate(mlp_model.transform(dev_data))\n",
      "MLP CLASSIFIER RESULTS:\t[0.28759314456035767]\n"
     ]
    }
   ],
   "source": [
    "mlp_results = []\n",
    "mlp_classifier()"
   ]
  },
  {
   "cell_type": "markdown",
   "metadata": {},
   "source": [
    "### BASELINE Model with Decision Tree Classifier"
   ]
  },
  {
   "cell_type": "code",
   "execution_count": 261,
   "metadata": {},
   "outputs": [],
   "source": [
    "dt_results = []\n",
    "maxBins = 100\n"
   ]
  },
  {
   "cell_type": "code",
   "execution_count": 262,
   "metadata": {},
   "outputs": [],
   "source": [
    "def decisionTree_classifier(max_depth):\n",
    "    global dt_results\n",
    "    global train_data, dev_data, test_data\n",
    "    dt = DecisionTreeClassifier(labelCol=\"label\", featuresCol=\"features\", maxDepth=max_depth, maxBins=100)\n",
    "    dtModel = dt.fit(train_data)\n",
    "    #print(\"numNodes = \", dtModel.numNodes)\n",
    "    #print(\"depth = \", dtModel.depth)\n",
    "    evaluator = MulticlassClassificationEvaluator().setMetricName ('accuracy').setPredictionCol ('prediction').setLabelCol ('label')\n",
    "    #print(\"result = evaluator.evaluate(dfModel.transform(dev_data))\")\n",
    "    result = evaluator.evaluate(dtModel.transform(dev_data))\n",
    "    #print(\"dt_results.append(result)\")\n",
    "    dt_results.append(result)\n",
    "    #print(\"DECISION TREE CLASSIFIER RESULTS:\\t{}\".format(dt_results))"
   ]
  },
  {
   "cell_type": "code",
   "execution_count": null,
   "metadata": {},
   "outputs": [],
   "source": []
  },
  {
   "cell_type": "code",
   "execution_count": 263,
   "metadata": {},
   "outputs": [],
   "source": [
    "def eval_dt_classifier():\n",
    "    print(\"###########################################################################################\")\n",
    "    print(\"###############################          DECISION TREE              #######################\")\n",
    "    print(\"###########################################################################################\")\n",
    "    print(\"\\tNUM_TREES\\tMAX_TREE_DEPTH\\t\\tACCURACY\")\n",
    "    global rf_results\n",
    "    for max_tree_depth in max_tree_depths:\n",
    "        decisionTree_classifier(max_tree_depth)\n",
    "        print(\"\\t{}\".format(rf_results))\n",
    "        "
   ]
  },
  {
   "cell_type": "code",
   "execution_count": 264,
   "metadata": {},
   "outputs": [],
   "source": [
    "max_tree_depths = [1,2,3,4,5,6,7,8,9,10]"
   ]
  },
  {
   "cell_type": "code",
   "execution_count": 265,
   "metadata": {},
   "outputs": [
    {
     "name": "stdout",
     "output_type": "stream",
     "text": [
      "###########################################################################################\n",
      "###############################          DECISION TREE              #######################\n",
      "###########################################################################################\n",
      "\tNUM_TREES\tMAX_TREE_DEPTH\t\tACCURACY\n",
      "\t[]\n",
      "\t[]\n",
      "\t[]\n",
      "\t[]\n",
      "\t[]\n",
      "\t[]\n",
      "\t[]\n",
      "\t[]\n",
      "\t[]\n",
      "\t[]\n"
     ]
    }
   ],
   "source": [
    "rf_results = []\n",
    "eval_dt_classifier()"
   ]
  },
  {
   "cell_type": "markdown",
   "metadata": {},
   "source": [
    "### BASELINE Model with RandomForest Classifier"
   ]
  },
  {
   "cell_type": "code",
   "execution_count": 266,
   "metadata": {},
   "outputs": [],
   "source": [
    "rfModel = None\n",
    "def randomForest_classifier(num_tree, max_tree_depth):\n",
    "    global rf_results\n",
    "    global rfModel\n",
    "    global train_data, dev_data, test_data\n",
    "    #rf = RandomForestClassifier(labelCol=\"label\", featuresCol=\"features\", maxDepth=20, maxBins=100)\n",
    "    rf = RandomForestClassifier(numTrees=num_tree, featureSubsetStrategy=\"auto\", impurity=\"gini\", labelCol=\"label\", featuresCol=\"features\", maxDepth=max_tree_depth, maxBins=100)\n",
    "    \n",
    "    #print(\"---------------------------------  Fitting Model to Train     ------------------------------\")\n",
    "    rfModel = rf.fit(train_data)\n",
    "    #print(\"---------------------------------  Transforming Dev           ------------------------------\")\n",
    "    predictions = rfModel.transform(dev_data)\n",
    "    selected = predictions.select(\"label\", \"prediction\", \"userid\", \"age\", \"country\", \"day_of_week\", \"timeofday\", \"sessionid\",\"window\")\n",
    "    #print(\"---------------------------------     Evaluating Model        ------------------------------\")\n",
    "    evaluator = MulticlassClassificationEvaluator().setMetricName('accuracy').setPredictionCol ('prediction').setLabelCol ('label')\n",
    "    result = evaluator.evaluate(rfModel.transform(dev_data))\n",
    "    #print(\"---------------------------------  Summarizing Results        ------------------------------\")\n",
    "    rf_results.update({num_tree:{max_tree_depth:result}})\n",
    "    #print(\"RANDOM FOREST CLASSIFIER RESULTS:\\t{}\".format(rf_results))"
   ]
  },
  {
   "cell_type": "code",
   "execution_count": 267,
   "metadata": {},
   "outputs": [],
   "source": [
    "def eval_rf_classifier():\n",
    "    print(\"###########################################################################################\")\n",
    "    print(\"###############################          RANDOM FOREST              #######################\")\n",
    "    print(\"###########################################################################################\")\n",
    "    print(\"\\tNUM_TREES\\tMAX_TREE_DEPTH\\t\\tACCURACY\")\n",
    "    for num_tree in num_trees:\n",
    "        for max_tree_depth in max_tree_depths:\n",
    "            randomForest_classifier(num_tree, max_tree_depth)\n",
    "            print(\"\\t{}\\t\\t\\t{}\\t\\t{}\".format(num_tree, max_tree_depth,rf_results[num_tree][max_tree_depth]))\n",
    "        "
   ]
  },
  {
   "cell_type": "code",
   "execution_count": 268,
   "metadata": {},
   "outputs": [],
   "source": [
    "max_tree_depths = [1,2,3,4,5,6,7,8,9,10]\n",
    "num_trees       = [10,20,30,40,50,60,70,80,100]"
   ]
  },
  {
   "cell_type": "code",
   "execution_count": 269,
   "metadata": {},
   "outputs": [
    {
     "name": "stdout",
     "output_type": "stream",
     "text": [
      "###########################################################################################\n",
      "###############################          RANDOM FOREST              #######################\n",
      "###########################################################################################\n",
      "\tNUM_TREES\tMAX_TREE_DEPTH\t\tACCURACY\n",
      "\t10\t\t\t1\t\t0.28759314456\n",
      "\t10\t\t\t2\t\t0.288152011923\n",
      "\t10\t\t\t3\t\t0.291356184799\n",
      "\t10\t\t\t4\t\t0.29217585693\n",
      "\t10\t\t\t5\t\t0.29217585693\n",
      "\t10\t\t\t6\t\t0.292436661699\n",
      "\t10\t\t\t7\t\t0.292511177347\n",
      "\t10\t\t\t8\t\t0.292995529061\n",
      "\t10\t\t\t9\t\t0.294076005961\n",
      "\t10\t\t\t10\t\t0.295044709389\n",
      "\t20\t\t\t1\t\t0.28759314456\n",
      "\t20\t\t\t2\t\t0.28759314456\n",
      "\t20\t\t\t3\t\t0.291952309985\n",
      "\t20\t\t\t4\t\t0.291952309985\n",
      "\t20\t\t\t5\t\t0.291952309985\n",
      "\t20\t\t\t6\t\t0.291952309985\n",
      "\t20\t\t\t7\t\t0.291952309985\n",
      "\t20\t\t\t8\t\t0.293479880775\n",
      "\t20\t\t\t9\t\t0.293889716841\n",
      "\t20\t\t\t10\t\t0.293740685544\n",
      "\t30\t\t\t1\t\t0.28759314456\n",
      "\t30\t\t\t2\t\t0.28759314456\n",
      "\t30\t\t\t3\t\t0.288859910581\n",
      "\t30\t\t\t4\t\t0.291952309985\n",
      "\t30\t\t\t5\t\t0.291915052161\n",
      "\t30\t\t\t6\t\t0.291915052161\n",
      "\t30\t\t\t7\t\t0.291915052161\n",
      "\t30\t\t\t8\t\t0.293181818182\n",
      "\t30\t\t\t9\t\t0.293293591654\n",
      "\t30\t\t\t10\t\t0.294411326379\n",
      "\t40\t\t\t1\t\t0.28759314456\n",
      "\t40\t\t\t2\t\t0.28759314456\n",
      "\t40\t\t\t3\t\t0.291952309985\n",
      "\t40\t\t\t4\t\t0.291952309985\n",
      "\t40\t\t\t5\t\t0.291952309985\n",
      "\t40\t\t\t6\t\t0.291952309985\n",
      "\t40\t\t\t7\t\t0.292958271237\n",
      "\t40\t\t\t8\t\t0.293293591654\n",
      "\t40\t\t\t9\t\t0.293517138599\n",
      "\t40\t\t\t10\t\t0.29433681073\n",
      "\t50\t\t\t1\t\t0.28759314456\n",
      "\t50\t\t\t2\t\t0.28759314456\n",
      "\t50\t\t\t3\t\t0.291356184799\n",
      "\t50\t\t\t4\t\t0.291505216095\n",
      "\t50\t\t\t5\t\t0.292101341282\n",
      "\t50\t\t\t6\t\t0.291952309985\n",
      "\t50\t\t\t7\t\t0.291952309985\n",
      "\t50\t\t\t8\t\t0.291915052161\n",
      "\t50\t\t\t9\t\t0.292473919523\n",
      "\t50\t\t\t10\t\t0.293442622951\n",
      "\t60\t\t\t1\t\t0.28759314456\n",
      "\t60\t\t\t2\t\t0.28759314456\n",
      "\t60\t\t\t3\t\t0.291915052161\n",
      "\t60\t\t\t4\t\t0.292064083458\n",
      "\t60\t\t\t5\t\t0.292026825633\n",
      "\t60\t\t\t6\t\t0.292026825633\n",
      "\t60\t\t\t7\t\t0.292026825633\n",
      "\t60\t\t\t8\t\t0.291952309985\n",
      "\t60\t\t\t9\t\t0.292287630402\n",
      "\t60\t\t\t10\t\t0.294299552906\n",
      "\t70\t\t\t1\t\t0.28759314456\n",
      "\t70\t\t\t2\t\t0.28759314456\n",
      "\t70\t\t\t3\t\t0.291952309985\n",
      "\t70\t\t\t4\t\t0.291952309985\n",
      "\t70\t\t\t5\t\t0.291952309985\n",
      "\t70\t\t\t6\t\t0.291952309985\n",
      "\t70\t\t\t7\t\t0.291952309985\n",
      "\t70\t\t\t8\t\t0.293144560358\n",
      "\t70\t\t\t9\t\t0.294113263785\n",
      "\t70\t\t\t10\t\t0.295342771982\n",
      "\t80\t\t\t1\t\t0.28759314456\n",
      "\t80\t\t\t2\t\t0.28759314456\n",
      "\t80\t\t\t3\t\t0.292064083458\n",
      "\t80\t\t\t4\t\t0.291952309985\n",
      "\t80\t\t\t5\t\t0.291952309985\n",
      "\t80\t\t\t6\t\t0.291952309985\n",
      "\t80\t\t\t7\t\t0.291952309985\n",
      "\t80\t\t\t8\t\t0.292660208644\n",
      "\t80\t\t\t9\t\t0.293330849478\n",
      "\t80\t\t\t10\t\t0.29370342772\n",
      "\t100\t\t\t1\t\t0.28759314456\n",
      "\t100\t\t\t2\t\t0.28759314456\n",
      "\t100\t\t\t3\t\t0.291989567809\n",
      "\t100\t\t\t4\t\t0.291952309985\n",
      "\t100\t\t\t5\t\t0.291952309985\n",
      "\t100\t\t\t6\t\t0.291952309985\n",
      "\t100\t\t\t7\t\t0.291952309985\n",
      "\t100\t\t\t8\t\t0.291952309985\n",
      "\t100\t\t\t9\t\t0.292921013413\n",
      "\t100\t\t\t10\t\t0.293442622951\n"
     ]
    }
   ],
   "source": [
    "rf_results = dict()\n",
    "\n",
    "eval_rf_classifier()"
   ]
  },
  {
   "cell_type": "code",
   "execution_count": null,
   "metadata": {},
   "outputs": [],
   "source": []
  },
  {
   "cell_type": "markdown",
   "metadata": {},
   "source": [
    "### SCIKIT LEARN"
   ]
  },
  {
   "cell_type": "code",
   "execution_count": 270,
   "metadata": {},
   "outputs": [
    {
     "name": "stdout",
     "output_type": "stream",
     "text": [
      "/usr/local/lib/python2.7/dist-packages/pip/_vendor/requests/__init__.py:83: RequestsDependencyWarning: Old version of cryptography ([1, 2, 3]) may cause slowdown.\n",
      "  warnings.warn(warning, RequestsDependencyWarning)\n",
      "Requirement already satisfied: keras in /usr/local/lib/python2.7/dist-packages (1.2.2)\n",
      "Requirement already satisfied: six in /usr/local/lib/python2.7/dist-packages (from keras) (1.11.0)\n",
      "Requirement already satisfied: theano in /usr/local/lib/python2.7/dist-packages (from keras) (1.0.3)\n",
      "Requirement already satisfied: pyyaml in /usr/lib/python2.7/dist-packages (from keras) (3.11)\n",
      "Requirement already satisfied: numpy>=1.9.1 in /usr/local/lib/python2.7/dist-packages (from theano->keras) (1.14.2)\n",
      "Requirement already satisfied: scipy>=0.14 in /usr/local/lib/python2.7/dist-packages (from theano->keras) (1.0.1)\n"
     ]
    }
   ],
   "source": [
    "# Import SciKitLearn\n",
    "from sklearn.preprocessing import LabelEncoder \n",
    "from sklearn.preprocessing import MinMaxScaler\n",
    "from sklearn.preprocessing import minmax_scale\n",
    "from sklearn.preprocessing import MaxAbsScaler\n",
    "from sklearn.preprocessing import StandardScaler\n",
    "from sklearn.preprocessing import RobustScaler\n",
    "from sklearn.preprocessing import Normalizer\n",
    "from sklearn.metrics import r2_score\n",
    "from sklearn.decomposition import PCA\n",
    "from sklearn.cluster import KMeans\n",
    "from sklearn.mixture import GMM\n",
    "\n",
    "# Regression models\n",
    "from sklearn.linear_model import LinearRegression\n",
    "from sklearn.linear_model import Ridge\n",
    "from sklearn.linear_model import Lasso, MultiTaskLassoCV, LassoLarsCV, LassoLarsIC \n",
    "from sklearn.ensemble import RandomForestRegressor\n",
    "from sklearn.ensemble import AdaBoostRegressor\n",
    "from sklearn.ensemble import GradientBoostingRegressor\n",
    "from sklearn.tree import DecisionTreeRegressor\n",
    "from sklearn.svm import SVR\n",
    "from sklearn.multioutput import MultiOutputRegressor\n",
    "from sklearn.model_selection import GridSearchCV as CV\n",
    "\n",
    "# Other packages\n",
    "import time\n",
    "import numpy as np\n",
    "import pandas as pd\n",
    "import re\n",
    "import scipy as sp\n",
    "import matplotlib.pyplot as plt\n",
    "from numpy import concatenate\n",
    "from pandas import DataFrame, Series, read_csv, scatter_matrix\n",
    "\n",
    "# Install packages\n",
    "!pip install keras\n",
    "\n",
    "# Weighted Mean Absolute Error Function\n",
    "def weighted_mean_abs_err(y_true, y_pred, weights):\n",
    "  return np.mean(np.mean(np.abs(y_true - y_pred), axis=1) * weights)"
   ]
  },
  {
   "cell_type": "code",
   "execution_count": 271,
   "metadata": {},
   "outputs": [
    {
     "name": "stdout",
     "output_type": "stream",
     "text": [
      "userid,gender,age,country,startdate,day_of_week,timeofday,sessionid,session_start,session_length\r",
      "\r\n",
      "user_000001,1,,32,2006-08-13,0,2,1,2006-08-13 13:59:20,230\r",
      "\r\n",
      "user_000001,1,,32,2006-08-15,2,1,1,2006-08-15 12:27:51,170\r",
      "\r\n",
      "user_000001,1,,32,2006-08-16,3,1,1,2006-08-16 10:27:16,43\r",
      "\r\n",
      "user_000001,1,,32,2006-08-16,3,2,2,2006-08-16 13:43:02,86\r",
      "\r\n",
      "user_000001,1,,32,2006-08-17,4,2,1,2006-08-17 13:33:27,115\r",
      "\r\n",
      "user_000001,1,,32,2006-08-18,5,3,1,2006-08-18 19:09:27,46\r",
      "\r\n",
      "user_000001,1,,32,2006-08-19,6,1,1,2006-08-19 12:26:52,113\r",
      "\r\n",
      "user_000001,1,,32,2006-08-20,0,2,1,2006-08-20 13:01:54,112\r",
      "\r\n",
      "user_000001,1,,32,2006-08-21,1,4,1,2006-08-21 03:36:08,18\r",
      "\r\n"
     ]
    }
   ],
   "source": [
    "!head /data_data/session_length/usersessions-with-ids-jayashree.csv"
   ]
  },
  {
   "cell_type": "code",
   "execution_count": 272,
   "metadata": {},
   "outputs": [],
   "source": [
    "userSession_df = None"
   ]
  },
  {
   "cell_type": "code",
   "execution_count": 273,
   "metadata": {},
   "outputs": [],
   "source": [
    "\n",
    "def import_sessionData():\n",
    "    print(\"==================================================================================================================\")\n",
    "    print(\"========================================    IMPORTING USER SESSION DATA     ======================================\")\n",
    "    print(\"==================================================================================================================\\n\\n\")\n",
    "    global userSession_df\n",
    "    \n",
    "    sessionSchema = StructType([\n",
    "        StructField('userid', StringType(), True),\\\n",
    "        StructField('gender', IntegerType(), True),\\\n",
    "        StructField('age', IntegerType(), True),\\\n",
    "        StructField('country', IntegerType(), True),\\\n",
    "        StructField('startdate', DateType(), True),\\\n",
    "        StructField('day_of_week', IntegerType(), True),\\\n",
    "        StructField('timeofday', IntegerType(), True),\\\n",
    "        StructField('sessionid', IntegerType(), True),\\\n",
    "        StructField('session_start', StringType(), True),\\\n",
    "        StructField('session_length', IntegerType(), True),\\\n",
    "        ])\n",
    "    \n",
    "    userSession_df = spark.read.format('csv').schema(sessionSchema).option('header',True).load('/data_data/session_length/usersessions-with-ids-jayashree.csv')\n",
    "    \n"
   ]
  },
  {
   "cell_type": "code",
   "execution_count": 274,
   "metadata": {},
   "outputs": [
    {
     "name": "stdout",
     "output_type": "stream",
     "text": [
      "==================================================================================================================\n",
      "========================================    IMPORTING USER SESSION DATA     ======================================\n",
      "==================================================================================================================\n",
      "\n",
      "\n"
     ]
    }
   ],
   "source": [
    "import_sessionData()"
   ]
  },
  {
   "cell_type": "code",
   "execution_count": 275,
   "metadata": {},
   "outputs": [
    {
     "name": "stdout",
     "output_type": "stream",
     "text": [
      "+-----------+------+----+-------+----------+-----------+---------+---------+-------------------+--------------+\n",
      "|userid     |gender|age |country|startdate |day_of_week|timeofday|sessionid|session_start      |session_length|\n",
      "+-----------+------+----+-------+----------+-----------+---------+---------+-------------------+--------------+\n",
      "|user_000001|1     |null|32     |2006-08-13|0          |2        |1        |2006-08-13 13:59:20|230           |\n",
      "|user_000001|1     |null|32     |2006-08-15|2          |1        |1        |2006-08-15 12:27:51|170           |\n",
      "|user_000001|1     |null|32     |2006-08-16|3          |1        |1        |2006-08-16 10:27:16|43            |\n",
      "|user_000001|1     |null|32     |2006-08-16|3          |2        |2        |2006-08-16 13:43:02|86            |\n",
      "|user_000001|1     |null|32     |2006-08-17|4          |2        |1        |2006-08-17 13:33:27|115           |\n",
      "+-----------+------+----+-------+----------+-----------+---------+---------+-------------------+--------------+\n",
      "only showing top 5 rows\n",
      "\n"
     ]
    }
   ],
   "source": [
    "userSession_df.show(5,False)"
   ]
  },
  {
   "cell_type": "code",
   "execution_count": 276,
   "metadata": {},
   "outputs": [],
   "source": [
    "def get_flat_date(date):\n",
    "    return str(date).replace(\"-\",\"\")"
   ]
  },
  {
   "cell_type": "code",
   "execution_count": 277,
   "metadata": {},
   "outputs": [],
   "source": [
    "flatten_date = udf(lambda date: get_flat_date(date), IntegerType())"
   ]
  },
  {
   "cell_type": "code",
   "execution_count": 278,
   "metadata": {},
   "outputs": [],
   "source": [
    "userSession_df = userSession_df.withColumn('start_date',flatten_date(col('startdate')))"
   ]
  },
  {
   "cell_type": "code",
   "execution_count": 279,
   "metadata": {},
   "outputs": [
    {
     "name": "stdout",
     "output_type": "stream",
     "text": [
      "+-----------+------+----+-------+----------+-----------+---------+---------+-------------------+--------------+----------+\n",
      "|     userid|gender| age|country| startdate|day_of_week|timeofday|sessionid|      session_start|session_length|start_date|\n",
      "+-----------+------+----+-------+----------+-----------+---------+---------+-------------------+--------------+----------+\n",
      "|user_000001|     1|null|     32|2006-08-13|          0|        2|        1|2006-08-13 13:59:20|           230|      null|\n",
      "|user_000001|     1|null|     32|2006-08-15|          2|        1|        1|2006-08-15 12:27:51|           170|      null|\n",
      "|user_000001|     1|null|     32|2006-08-16|          3|        1|        1|2006-08-16 10:27:16|            43|      null|\n",
      "|user_000001|     1|null|     32|2006-08-16|          3|        2|        2|2006-08-16 13:43:02|            86|      null|\n",
      "|user_000001|     1|null|     32|2006-08-17|          4|        2|        1|2006-08-17 13:33:27|           115|      null|\n",
      "+-----------+------+----+-------+----------+-----------+---------+---------+-------------------+--------------+----------+\n",
      "only showing top 5 rows\n",
      "\n"
     ]
    }
   ],
   "source": [
    "userSession_df.show(5)"
   ]
  },
  {
   "cell_type": "code",
   "execution_count": 280,
   "metadata": {},
   "outputs": [],
   "source": [
    "userSession_with_window_df = userSession_df.withColumn('window', time_delta_udf(col(\"startdate\"), lit(day_zero).cast('date')))"
   ]
  },
  {
   "cell_type": "code",
   "execution_count": 281,
   "metadata": {},
   "outputs": [
    {
     "name": "stdout",
     "output_type": "stream",
     "text": [
      "+-----------+------+----+-------+----------+-----------+---------+---------+-------------------+--------------+----------+------+\n",
      "|     userid|gender| age|country| startdate|day_of_week|timeofday|sessionid|      session_start|session_length|start_date|window|\n",
      "+-----------+------+----+-------+----------+-----------+---------+---------+-------------------+--------------+----------+------+\n",
      "|user_000001|     1|null|     32|2006-08-13|          0|        2|        1|2006-08-13 13:59:20|           230|      null|   589|\n",
      "|user_000001|     1|null|     32|2006-08-15|          2|        1|        1|2006-08-15 12:27:51|           170|      null|   591|\n",
      "|user_000001|     1|null|     32|2006-08-16|          3|        1|        1|2006-08-16 10:27:16|            43|      null|   592|\n",
      "|user_000001|     1|null|     32|2006-08-16|          3|        2|        2|2006-08-16 13:43:02|            86|      null|   592|\n",
      "|user_000001|     1|null|     32|2006-08-17|          4|        2|        1|2006-08-17 13:33:27|           115|      null|   593|\n",
      "|user_000001|     1|null|     32|2006-08-18|          5|        3|        1|2006-08-18 19:09:27|            46|      null|   594|\n",
      "|user_000001|     1|null|     32|2006-08-19|          6|        1|        1|2006-08-19 12:26:52|           113|      null|   595|\n",
      "|user_000001|     1|null|     32|2006-08-20|          0|        2|        1|2006-08-20 13:01:54|           112|      null|   596|\n",
      "|user_000001|     1|null|     32|2006-08-21|          1|        4|        1|2006-08-21 03:36:08|            18|      null|   597|\n",
      "|user_000001|     1|null|     32|2006-08-21|          1|        4|        2|2006-08-21 04:33:20|            20|      null|   597|\n",
      "|user_000001|     1|null|     32|2006-08-21|          1|        4|        3|2006-08-21 05:32:45|             8|      null|   597|\n",
      "|user_000001|     1|null|     32|2006-08-21|          1|        1|        4|2006-08-21 09:09:25|            22|      null|   597|\n",
      "|user_000001|     1|null|     32|2006-08-21|          1|        2|        5|2006-08-21 14:38:07|            92|      null|   597|\n",
      "|user_000001|     1|null|     32|2006-08-21|          1|        2|        6|2006-08-21 16:56:13|            26|      null|   597|\n",
      "|user_000001|     1|null|     32|2006-08-21|          1|        2|        7|2006-08-21 17:55:52|            42|      null|   597|\n",
      "|user_000001|     1|null|     32|2006-08-23|          3|        1|        1|2006-08-23 12:32:01|            21|      null|   599|\n",
      "|user_000001|     1|null|     32|2006-08-23|          3|        2|        2|2006-08-23 13:31:14|            40|      null|   599|\n",
      "|user_000001|     1|null|     32|2006-08-23|          3|        4|        3|2006-08-23 23:56:25|             3|      null|   599|\n",
      "|user_000001|     1|null|     32|2006-08-24|          4|        2|        1|2006-08-24 14:08:42|            16|      null|   600|\n",
      "|user_000001|     1|null|     32|2006-08-24|          4|        2|        2|2006-08-24 15:04:23|            19|      null|   600|\n",
      "+-----------+------+----+-------+----------+-----------+---------+---------+-------------------+--------------+----------+------+\n",
      "only showing top 20 rows\n",
      "\n"
     ]
    }
   ],
   "source": [
    "userSession_with_window_df.show()"
   ]
  },
  {
   "cell_type": "code",
   "execution_count": 282,
   "metadata": {},
   "outputs": [],
   "source": [
    "userSession_with_window_df = userSession_with_window_df.withColumn('log_sess', round(log(col(\"session_length\")),1)).drop('session_length').withColumnRenamed('log_sess','session_length')"
   ]
  },
  {
   "cell_type": "code",
   "execution_count": 283,
   "metadata": {},
   "outputs": [
    {
     "name": "stdout",
     "output_type": "stream",
     "text": [
      "+-----------+------+----+-------+----------+-----------+---------+---------+-------------------+----------+------+--------------+\n",
      "|     userid|gender| age|country| startdate|day_of_week|timeofday|sessionid|      session_start|start_date|window|session_length|\n",
      "+-----------+------+----+-------+----------+-----------+---------+---------+-------------------+----------+------+--------------+\n",
      "|user_000001|     1|null|     32|2006-08-13|          0|        2|        1|2006-08-13 13:59:20|      null|   589|           5.4|\n",
      "|user_000001|     1|null|     32|2006-08-15|          2|        1|        1|2006-08-15 12:27:51|      null|   591|           5.1|\n",
      "|user_000001|     1|null|     32|2006-08-16|          3|        1|        1|2006-08-16 10:27:16|      null|   592|           3.8|\n",
      "|user_000001|     1|null|     32|2006-08-16|          3|        2|        2|2006-08-16 13:43:02|      null|   592|           4.5|\n",
      "|user_000001|     1|null|     32|2006-08-17|          4|        2|        1|2006-08-17 13:33:27|      null|   593|           4.7|\n",
      "|user_000001|     1|null|     32|2006-08-18|          5|        3|        1|2006-08-18 19:09:27|      null|   594|           3.8|\n",
      "|user_000001|     1|null|     32|2006-08-19|          6|        1|        1|2006-08-19 12:26:52|      null|   595|           4.7|\n",
      "|user_000001|     1|null|     32|2006-08-20|          0|        2|        1|2006-08-20 13:01:54|      null|   596|           4.7|\n",
      "|user_000001|     1|null|     32|2006-08-21|          1|        4|        1|2006-08-21 03:36:08|      null|   597|           2.9|\n",
      "|user_000001|     1|null|     32|2006-08-21|          1|        4|        2|2006-08-21 04:33:20|      null|   597|           3.0|\n",
      "|user_000001|     1|null|     32|2006-08-21|          1|        4|        3|2006-08-21 05:32:45|      null|   597|           2.1|\n",
      "|user_000001|     1|null|     32|2006-08-21|          1|        1|        4|2006-08-21 09:09:25|      null|   597|           3.1|\n",
      "|user_000001|     1|null|     32|2006-08-21|          1|        2|        5|2006-08-21 14:38:07|      null|   597|           4.5|\n",
      "|user_000001|     1|null|     32|2006-08-21|          1|        2|        6|2006-08-21 16:56:13|      null|   597|           3.3|\n",
      "|user_000001|     1|null|     32|2006-08-21|          1|        2|        7|2006-08-21 17:55:52|      null|   597|           3.7|\n",
      "|user_000001|     1|null|     32|2006-08-23|          3|        1|        1|2006-08-23 12:32:01|      null|   599|           3.0|\n",
      "|user_000001|     1|null|     32|2006-08-23|          3|        2|        2|2006-08-23 13:31:14|      null|   599|           3.7|\n",
      "|user_000001|     1|null|     32|2006-08-23|          3|        4|        3|2006-08-23 23:56:25|      null|   599|           1.1|\n",
      "|user_000001|     1|null|     32|2006-08-24|          4|        2|        1|2006-08-24 14:08:42|      null|   600|           2.8|\n",
      "|user_000001|     1|null|     32|2006-08-24|          4|        2|        2|2006-08-24 15:04:23|      null|   600|           2.9|\n",
      "+-----------+------+----+-------+----------+-----------+---------+---------+-------------------+----------+------+--------------+\n",
      "only showing top 20 rows\n",
      "\n"
     ]
    }
   ],
   "source": [
    "userSession_with_window_df.show()"
   ]
  },
  {
   "cell_type": "code",
   "execution_count": 284,
   "metadata": {},
   "outputs": [
    {
     "name": "stdout",
     "output_type": "stream",
     "text": [
      "+-----------+------+----+-------+----------+-----------+---------+---------+-------------------+----------+------+--------------+-------+\n",
      "|     userid|gender| age|country| startdate|day_of_week|timeofday|sessionid|      session_start|start_date|window|session_length|usernum|\n",
      "+-----------+------+----+-------+----------+-----------+---------+---------+-------------------+----------+------+--------------+-------+\n",
      "|user_000001|     1|null|     32|2006-08-13|          0|        2|        1|2006-08-13 13:59:20|      null|   589|           5.4|      1|\n",
      "|user_000001|     1|null|     32|2006-08-15|          2|        1|        1|2006-08-15 12:27:51|      null|   591|           5.1|      1|\n",
      "|user_000001|     1|null|     32|2006-08-16|          3|        1|        1|2006-08-16 10:27:16|      null|   592|           3.8|      1|\n",
      "|user_000001|     1|null|     32|2006-08-16|          3|        2|        2|2006-08-16 13:43:02|      null|   592|           4.5|      1|\n",
      "|user_000001|     1|null|     32|2006-08-17|          4|        2|        1|2006-08-17 13:33:27|      null|   593|           4.7|      1|\n",
      "|user_000001|     1|null|     32|2006-08-18|          5|        3|        1|2006-08-18 19:09:27|      null|   594|           3.8|      1|\n",
      "|user_000001|     1|null|     32|2006-08-19|          6|        1|        1|2006-08-19 12:26:52|      null|   595|           4.7|      1|\n",
      "|user_000001|     1|null|     32|2006-08-20|          0|        2|        1|2006-08-20 13:01:54|      null|   596|           4.7|      1|\n",
      "|user_000001|     1|null|     32|2006-08-21|          1|        4|        1|2006-08-21 03:36:08|      null|   597|           2.9|      1|\n",
      "|user_000001|     1|null|     32|2006-08-21|          1|        4|        2|2006-08-21 04:33:20|      null|   597|           3.0|      1|\n",
      "|user_000001|     1|null|     32|2006-08-21|          1|        4|        3|2006-08-21 05:32:45|      null|   597|           2.1|      1|\n",
      "|user_000001|     1|null|     32|2006-08-21|          1|        1|        4|2006-08-21 09:09:25|      null|   597|           3.1|      1|\n",
      "|user_000001|     1|null|     32|2006-08-21|          1|        2|        5|2006-08-21 14:38:07|      null|   597|           4.5|      1|\n",
      "|user_000001|     1|null|     32|2006-08-21|          1|        2|        6|2006-08-21 16:56:13|      null|   597|           3.3|      1|\n",
      "|user_000001|     1|null|     32|2006-08-21|          1|        2|        7|2006-08-21 17:55:52|      null|   597|           3.7|      1|\n",
      "|user_000001|     1|null|     32|2006-08-23|          3|        1|        1|2006-08-23 12:32:01|      null|   599|           3.0|      1|\n",
      "|user_000001|     1|null|     32|2006-08-23|          3|        2|        2|2006-08-23 13:31:14|      null|   599|           3.7|      1|\n",
      "|user_000001|     1|null|     32|2006-08-23|          3|        4|        3|2006-08-23 23:56:25|      null|   599|           1.1|      1|\n",
      "|user_000001|     1|null|     32|2006-08-24|          4|        2|        1|2006-08-24 14:08:42|      null|   600|           2.8|      1|\n",
      "|user_000001|     1|null|     32|2006-08-24|          4|        2|        2|2006-08-24 15:04:23|      null|   600|           2.9|      1|\n",
      "+-----------+------+----+-------+----------+-----------+---------+---------+-------------------+----------+------+--------------+-------+\n",
      "only showing top 20 rows\n",
      "\n"
     ]
    }
   ],
   "source": [
    "get_user_num = udf(lambda userid: int(userid.split('_')[1].lstrip('0')))\n",
    "userSession_with_window_df = userSession_with_window_df.withColumn('usernum', get_user_num(col('userid'))) \n",
    "userSession_with_window_df.show()"
   ]
  },
  {
   "cell_type": "code",
   "execution_count": 285,
   "metadata": {},
   "outputs": [],
   "source": [
    "data = userSession_with_window_df.toPandas()"
   ]
  },
  {
   "cell_type": "code",
   "execution_count": 286,
   "metadata": {},
   "outputs": [
    {
     "data": {
      "text/html": [
       "<div>\n",
       "<style scoped>\n",
       "    .dataframe tbody tr th:only-of-type {\n",
       "        vertical-align: middle;\n",
       "    }\n",
       "\n",
       "    .dataframe tbody tr th {\n",
       "        vertical-align: top;\n",
       "    }\n",
       "\n",
       "    .dataframe thead th {\n",
       "        text-align: right;\n",
       "    }\n",
       "</style>\n",
       "<table border=\"1\" class=\"dataframe\">\n",
       "  <thead>\n",
       "    <tr style=\"text-align: right;\">\n",
       "      <th></th>\n",
       "      <th>userid</th>\n",
       "      <th>gender</th>\n",
       "      <th>age</th>\n",
       "      <th>country</th>\n",
       "      <th>startdate</th>\n",
       "      <th>day_of_week</th>\n",
       "      <th>timeofday</th>\n",
       "      <th>sessionid</th>\n",
       "      <th>session_start</th>\n",
       "      <th>start_date</th>\n",
       "      <th>window</th>\n",
       "      <th>session_length</th>\n",
       "      <th>usernum</th>\n",
       "    </tr>\n",
       "  </thead>\n",
       "  <tbody>\n",
       "    <tr>\n",
       "      <th>0</th>\n",
       "      <td>user_000001</td>\n",
       "      <td>1.0</td>\n",
       "      <td>NaN</td>\n",
       "      <td>32</td>\n",
       "      <td>2006-08-13</td>\n",
       "      <td>0</td>\n",
       "      <td>2</td>\n",
       "      <td>1</td>\n",
       "      <td>2006-08-13 13:59:20</td>\n",
       "      <td>NaN</td>\n",
       "      <td>589</td>\n",
       "      <td>5.4</td>\n",
       "      <td>1</td>\n",
       "    </tr>\n",
       "    <tr>\n",
       "      <th>1</th>\n",
       "      <td>user_000001</td>\n",
       "      <td>1.0</td>\n",
       "      <td>NaN</td>\n",
       "      <td>32</td>\n",
       "      <td>2006-08-15</td>\n",
       "      <td>2</td>\n",
       "      <td>1</td>\n",
       "      <td>1</td>\n",
       "      <td>2006-08-15 12:27:51</td>\n",
       "      <td>NaN</td>\n",
       "      <td>591</td>\n",
       "      <td>5.1</td>\n",
       "      <td>1</td>\n",
       "    </tr>\n",
       "    <tr>\n",
       "      <th>2</th>\n",
       "      <td>user_000001</td>\n",
       "      <td>1.0</td>\n",
       "      <td>NaN</td>\n",
       "      <td>32</td>\n",
       "      <td>2006-08-16</td>\n",
       "      <td>3</td>\n",
       "      <td>1</td>\n",
       "      <td>1</td>\n",
       "      <td>2006-08-16 10:27:16</td>\n",
       "      <td>NaN</td>\n",
       "      <td>592</td>\n",
       "      <td>3.8</td>\n",
       "      <td>1</td>\n",
       "    </tr>\n",
       "    <tr>\n",
       "      <th>3</th>\n",
       "      <td>user_000001</td>\n",
       "      <td>1.0</td>\n",
       "      <td>NaN</td>\n",
       "      <td>32</td>\n",
       "      <td>2006-08-16</td>\n",
       "      <td>3</td>\n",
       "      <td>2</td>\n",
       "      <td>2</td>\n",
       "      <td>2006-08-16 13:43:02</td>\n",
       "      <td>NaN</td>\n",
       "      <td>592</td>\n",
       "      <td>4.5</td>\n",
       "      <td>1</td>\n",
       "    </tr>\n",
       "    <tr>\n",
       "      <th>4</th>\n",
       "      <td>user_000001</td>\n",
       "      <td>1.0</td>\n",
       "      <td>NaN</td>\n",
       "      <td>32</td>\n",
       "      <td>2006-08-17</td>\n",
       "      <td>4</td>\n",
       "      <td>2</td>\n",
       "      <td>1</td>\n",
       "      <td>2006-08-17 13:33:27</td>\n",
       "      <td>NaN</td>\n",
       "      <td>593</td>\n",
       "      <td>4.7</td>\n",
       "      <td>1</td>\n",
       "    </tr>\n",
       "    <tr>\n",
       "      <th>5</th>\n",
       "      <td>user_000001</td>\n",
       "      <td>1.0</td>\n",
       "      <td>NaN</td>\n",
       "      <td>32</td>\n",
       "      <td>2006-08-18</td>\n",
       "      <td>5</td>\n",
       "      <td>3</td>\n",
       "      <td>1</td>\n",
       "      <td>2006-08-18 19:09:27</td>\n",
       "      <td>NaN</td>\n",
       "      <td>594</td>\n",
       "      <td>3.8</td>\n",
       "      <td>1</td>\n",
       "    </tr>\n",
       "    <tr>\n",
       "      <th>6</th>\n",
       "      <td>user_000001</td>\n",
       "      <td>1.0</td>\n",
       "      <td>NaN</td>\n",
       "      <td>32</td>\n",
       "      <td>2006-08-19</td>\n",
       "      <td>6</td>\n",
       "      <td>1</td>\n",
       "      <td>1</td>\n",
       "      <td>2006-08-19 12:26:52</td>\n",
       "      <td>NaN</td>\n",
       "      <td>595</td>\n",
       "      <td>4.7</td>\n",
       "      <td>1</td>\n",
       "    </tr>\n",
       "    <tr>\n",
       "      <th>7</th>\n",
       "      <td>user_000001</td>\n",
       "      <td>1.0</td>\n",
       "      <td>NaN</td>\n",
       "      <td>32</td>\n",
       "      <td>2006-08-20</td>\n",
       "      <td>0</td>\n",
       "      <td>2</td>\n",
       "      <td>1</td>\n",
       "      <td>2006-08-20 13:01:54</td>\n",
       "      <td>NaN</td>\n",
       "      <td>596</td>\n",
       "      <td>4.7</td>\n",
       "      <td>1</td>\n",
       "    </tr>\n",
       "    <tr>\n",
       "      <th>8</th>\n",
       "      <td>user_000001</td>\n",
       "      <td>1.0</td>\n",
       "      <td>NaN</td>\n",
       "      <td>32</td>\n",
       "      <td>2006-08-21</td>\n",
       "      <td>1</td>\n",
       "      <td>4</td>\n",
       "      <td>1</td>\n",
       "      <td>2006-08-21 03:36:08</td>\n",
       "      <td>NaN</td>\n",
       "      <td>597</td>\n",
       "      <td>2.9</td>\n",
       "      <td>1</td>\n",
       "    </tr>\n",
       "    <tr>\n",
       "      <th>9</th>\n",
       "      <td>user_000001</td>\n",
       "      <td>1.0</td>\n",
       "      <td>NaN</td>\n",
       "      <td>32</td>\n",
       "      <td>2006-08-21</td>\n",
       "      <td>1</td>\n",
       "      <td>4</td>\n",
       "      <td>2</td>\n",
       "      <td>2006-08-21 04:33:20</td>\n",
       "      <td>NaN</td>\n",
       "      <td>597</td>\n",
       "      <td>3.0</td>\n",
       "      <td>1</td>\n",
       "    </tr>\n",
       "  </tbody>\n",
       "</table>\n",
       "</div>"
      ],
      "text/plain": [
       "        userid  gender  age  country   startdate  day_of_week  timeofday  sessionid        session_start  start_date  window  session_length usernum\n",
       "0  user_000001     1.0  NaN       32  2006-08-13            0          2          1  2006-08-13 13:59:20         NaN     589             5.4       1\n",
       "1  user_000001     1.0  NaN       32  2006-08-15            2          1          1  2006-08-15 12:27:51         NaN     591             5.1       1\n",
       "2  user_000001     1.0  NaN       32  2006-08-16            3          1          1  2006-08-16 10:27:16         NaN     592             3.8       1\n",
       "3  user_000001     1.0  NaN       32  2006-08-16            3          2          2  2006-08-16 13:43:02         NaN     592             4.5       1\n",
       "4  user_000001     1.0  NaN       32  2006-08-17            4          2          1  2006-08-17 13:33:27         NaN     593             4.7       1\n",
       "5  user_000001     1.0  NaN       32  2006-08-18            5          3          1  2006-08-18 19:09:27         NaN     594             3.8       1\n",
       "6  user_000001     1.0  NaN       32  2006-08-19            6          1          1  2006-08-19 12:26:52         NaN     595             4.7       1\n",
       "7  user_000001     1.0  NaN       32  2006-08-20            0          2          1  2006-08-20 13:01:54         NaN     596             4.7       1\n",
       "8  user_000001     1.0  NaN       32  2006-08-21            1          4          1  2006-08-21 03:36:08         NaN     597             2.9       1\n",
       "9  user_000001     1.0  NaN       32  2006-08-21            1          4          2  2006-08-21 04:33:20         NaN     597             3.0       1"
      ]
     },
     "execution_count": 286,
     "metadata": {},
     "output_type": "execute_result"
    }
   ],
   "source": [
    "data[:10]"
   ]
  },
  {
   "cell_type": "code",
   "execution_count": 287,
   "metadata": {},
   "outputs": [],
   "source": [
    "model_df = data[['userid','gender','country','window','day_of_week','timeofday','sessionid','usernum','session_length']].set_index(['userid']) "
   ]
  },
  {
   "cell_type": "code",
   "execution_count": 288,
   "metadata": {},
   "outputs": [
    {
     "data": {
      "text/html": [
       "<div>\n",
       "<style scoped>\n",
       "    .dataframe tbody tr th:only-of-type {\n",
       "        vertical-align: middle;\n",
       "    }\n",
       "\n",
       "    .dataframe tbody tr th {\n",
       "        vertical-align: top;\n",
       "    }\n",
       "\n",
       "    .dataframe thead th {\n",
       "        text-align: right;\n",
       "    }\n",
       "</style>\n",
       "<table border=\"1\" class=\"dataframe\">\n",
       "  <thead>\n",
       "    <tr style=\"text-align: right;\">\n",
       "      <th></th>\n",
       "      <th>gender</th>\n",
       "      <th>country</th>\n",
       "      <th>window</th>\n",
       "      <th>day_of_week</th>\n",
       "      <th>timeofday</th>\n",
       "      <th>sessionid</th>\n",
       "      <th>usernum</th>\n",
       "      <th>session_length</th>\n",
       "    </tr>\n",
       "    <tr>\n",
       "      <th>userid</th>\n",
       "      <th></th>\n",
       "      <th></th>\n",
       "      <th></th>\n",
       "      <th></th>\n",
       "      <th></th>\n",
       "      <th></th>\n",
       "      <th></th>\n",
       "      <th></th>\n",
       "    </tr>\n",
       "  </thead>\n",
       "  <tbody>\n",
       "    <tr>\n",
       "      <th>user_000001</th>\n",
       "      <td>1.0</td>\n",
       "      <td>32</td>\n",
       "      <td>589</td>\n",
       "      <td>0</td>\n",
       "      <td>2</td>\n",
       "      <td>1</td>\n",
       "      <td>1</td>\n",
       "      <td>5.4</td>\n",
       "    </tr>\n",
       "    <tr>\n",
       "      <th>user_000001</th>\n",
       "      <td>1.0</td>\n",
       "      <td>32</td>\n",
       "      <td>591</td>\n",
       "      <td>2</td>\n",
       "      <td>1</td>\n",
       "      <td>1</td>\n",
       "      <td>1</td>\n",
       "      <td>5.1</td>\n",
       "    </tr>\n",
       "    <tr>\n",
       "      <th>user_000001</th>\n",
       "      <td>1.0</td>\n",
       "      <td>32</td>\n",
       "      <td>592</td>\n",
       "      <td>3</td>\n",
       "      <td>1</td>\n",
       "      <td>1</td>\n",
       "      <td>1</td>\n",
       "      <td>3.8</td>\n",
       "    </tr>\n",
       "    <tr>\n",
       "      <th>user_000001</th>\n",
       "      <td>1.0</td>\n",
       "      <td>32</td>\n",
       "      <td>592</td>\n",
       "      <td>3</td>\n",
       "      <td>2</td>\n",
       "      <td>2</td>\n",
       "      <td>1</td>\n",
       "      <td>4.5</td>\n",
       "    </tr>\n",
       "    <tr>\n",
       "      <th>user_000001</th>\n",
       "      <td>1.0</td>\n",
       "      <td>32</td>\n",
       "      <td>593</td>\n",
       "      <td>4</td>\n",
       "      <td>2</td>\n",
       "      <td>1</td>\n",
       "      <td>1</td>\n",
       "      <td>4.7</td>\n",
       "    </tr>\n",
       "  </tbody>\n",
       "</table>\n",
       "</div>"
      ],
      "text/plain": [
       "             gender  country  window  day_of_week  timeofday  sessionid usernum  session_length\n",
       "userid                                                                                         \n",
       "user_000001     1.0       32     589            0          2          1       1             5.4\n",
       "user_000001     1.0       32     591            2          1          1       1             5.1\n",
       "user_000001     1.0       32     592            3          1          1       1             3.8\n",
       "user_000001     1.0       32     592            3          2          2       1             4.5\n",
       "user_000001     1.0       32     593            4          2          1       1             4.7"
      ]
     },
     "execution_count": 288,
     "metadata": {},
     "output_type": "execute_result"
    }
   ],
   "source": [
    "model_df.head()"
   ]
  },
  {
   "cell_type": "markdown",
   "metadata": {},
   "source": [
    "### DECISION TREE"
   ]
  },
  {
   "cell_type": "code",
   "execution_count": null,
   "metadata": {},
   "outputs": [],
   "source": []
  },
  {
   "cell_type": "code",
   "execution_count": null,
   "metadata": {},
   "outputs": [],
   "source": []
  },
  {
   "cell_type": "code",
   "execution_count": null,
   "metadata": {},
   "outputs": [],
   "source": []
  },
  {
   "cell_type": "code",
   "execution_count": null,
   "metadata": {},
   "outputs": [],
   "source": []
  },
  {
   "cell_type": "markdown",
   "metadata": {},
   "source": [
    "### LSTM"
   ]
  },
  {
   "cell_type": "code",
   "execution_count": 290,
   "metadata": {},
   "outputs": [
    {
     "data": {
      "text/html": [
       "<div>\n",
       "<style scoped>\n",
       "    .dataframe tbody tr th:only-of-type {\n",
       "        vertical-align: middle;\n",
       "    }\n",
       "\n",
       "    .dataframe tbody tr th {\n",
       "        vertical-align: top;\n",
       "    }\n",
       "\n",
       "    .dataframe thead th {\n",
       "        text-align: right;\n",
       "    }\n",
       "</style>\n",
       "<table border=\"1\" class=\"dataframe\">\n",
       "  <thead>\n",
       "    <tr style=\"text-align: right;\">\n",
       "      <th></th>\n",
       "      <th>gender</th>\n",
       "      <th>country</th>\n",
       "      <th>window</th>\n",
       "      <th>day_of_week</th>\n",
       "      <th>timeofday</th>\n",
       "      <th>sessionid</th>\n",
       "      <th>usernum</th>\n",
       "      <th>session_length</th>\n",
       "    </tr>\n",
       "    <tr>\n",
       "      <th>userid</th>\n",
       "      <th></th>\n",
       "      <th></th>\n",
       "      <th></th>\n",
       "      <th></th>\n",
       "      <th></th>\n",
       "      <th></th>\n",
       "      <th></th>\n",
       "      <th></th>\n",
       "    </tr>\n",
       "  </thead>\n",
       "  <tbody>\n",
       "    <tr>\n",
       "      <th>user_000001</th>\n",
       "      <td>1.0</td>\n",
       "      <td>32</td>\n",
       "      <td>589</td>\n",
       "      <td>0</td>\n",
       "      <td>2</td>\n",
       "      <td>1</td>\n",
       "      <td>1</td>\n",
       "      <td>5.4</td>\n",
       "    </tr>\n",
       "    <tr>\n",
       "      <th>user_000001</th>\n",
       "      <td>1.0</td>\n",
       "      <td>32</td>\n",
       "      <td>591</td>\n",
       "      <td>2</td>\n",
       "      <td>1</td>\n",
       "      <td>1</td>\n",
       "      <td>1</td>\n",
       "      <td>5.1</td>\n",
       "    </tr>\n",
       "    <tr>\n",
       "      <th>user_000001</th>\n",
       "      <td>1.0</td>\n",
       "      <td>32</td>\n",
       "      <td>592</td>\n",
       "      <td>3</td>\n",
       "      <td>1</td>\n",
       "      <td>1</td>\n",
       "      <td>1</td>\n",
       "      <td>3.8</td>\n",
       "    </tr>\n",
       "    <tr>\n",
       "      <th>user_000001</th>\n",
       "      <td>1.0</td>\n",
       "      <td>32</td>\n",
       "      <td>592</td>\n",
       "      <td>3</td>\n",
       "      <td>2</td>\n",
       "      <td>2</td>\n",
       "      <td>1</td>\n",
       "      <td>4.5</td>\n",
       "    </tr>\n",
       "    <tr>\n",
       "      <th>user_000001</th>\n",
       "      <td>1.0</td>\n",
       "      <td>32</td>\n",
       "      <td>593</td>\n",
       "      <td>4</td>\n",
       "      <td>2</td>\n",
       "      <td>1</td>\n",
       "      <td>1</td>\n",
       "      <td>4.7</td>\n",
       "    </tr>\n",
       "  </tbody>\n",
       "</table>\n",
       "</div>"
      ],
      "text/plain": [
       "             gender  country  window  day_of_week  timeofday  sessionid usernum  session_length\n",
       "userid                                                                                         \n",
       "user_000001     1.0       32     589            0          2          1       1             5.4\n",
       "user_000001     1.0       32     591            2          1          1       1             5.1\n",
       "user_000001     1.0       32     592            3          1          1       1             3.8\n",
       "user_000001     1.0       32     592            3          2          2       1             4.5\n",
       "user_000001     1.0       32     593            4          2          1       1             4.7"
      ]
     },
     "execution_count": 290,
     "metadata": {},
     "output_type": "execute_result"
    }
   ],
   "source": [
    "model_df[:5]"
   ]
  },
  {
   "cell_type": "code",
   "execution_count": null,
   "metadata": {},
   "outputs": [],
   "source": []
  },
  {
   "cell_type": "code",
   "execution_count": null,
   "metadata": {},
   "outputs": [],
   "source": []
  }
 ],
 "metadata": {
  "kernelspec": {
   "display_name": "Python 2",
   "language": "python",
   "name": "python2"
  }
 },
 "nbformat": 4,
 "nbformat_minor": 2
}

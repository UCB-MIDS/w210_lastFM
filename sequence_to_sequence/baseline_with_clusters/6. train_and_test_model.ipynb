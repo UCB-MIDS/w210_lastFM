{
 "cells": [
  {
   "cell_type": "code",
   "execution_count": 73,
   "metadata": {},
   "outputs": [
    {
     "name": "stdout",
     "output_type": "stream",
     "text": [
      "Overwriting testModel2.py\n"
     ]
    }
   ],
   "source": [
    "%%writefile testModel2.py\n",
    "\n",
    "import pandas as pd\n",
    "from collections import namedtuple\n",
    "import util\n",
    "\n",
    "\n",
    "def get_params():\n",
    "    hps_dict = {\n",
    "        'data_file' : '/home/ubuntu/data/user_profile_cluster.csv',\n",
    "        'clusters':5,\n",
    "        'train_file':'/home/ubuntu/data/summary/train/{0}.csv',\n",
    "        'test_file':'/home/ubuntu/data/summary/test/{0}.csv',\n",
    "        'validate_file':'/home/ubuntu/data/summary/validate/{0}.csv',\n",
    "        'model_dir':'/home/ubuntu/data/models/',\n",
    "        'loss_func':'mae',\n",
    "        'optimizer':'adam',\n",
    "        'hidden_dim' : 250,\n",
    "        'batch_size' : 400,\n",
    "        'epochs' : 500,\n",
    "        'layered':False,\n",
    "        'layer_dims':150,\n",
    "        'no_layers':1,\n",
    "        'model_lstm':True,\n",
    "        'filter_outliers':False,\n",
    "        'baseline_mae':4828.088,\n",
    "        'dropout':[0.0],\n",
    "        'verbose_level':2,\n",
    "        'plot_eval':False\n",
    "    }\n",
    "    \n",
    "    hps = namedtuple(\"HParams\", hps_dict.keys())(**hps_dict)\n",
    "    return hps\n",
    "\n",
    "def run():\n",
    "    hps = get_params()\n",
    "    users = util.train(hps)    \n",
    "    util.test(users,hps)\n",
    "        \n",
    "        \n",
    "if __name__ == '__main__':\n",
    "    run()"
   ]
  },
  {
   "cell_type": "code",
   "execution_count": 74,
   "metadata": {},
   "outputs": [],
   "source": [
    "!chmod 777 testModel2.py"
   ]
  },
  {
   "cell_type": "code",
   "execution_count": 26,
   "metadata": {},
   "outputs": [
    {
     "name": "stdout",
     "output_type": "stream",
     "text": [
      "create_utility.ipynb  model.ipynb  __pycache__\t  testModel.py\r\n",
      "model2.ipynb\t      nohup.out    testModel2.py  util.py\r\n"
     ]
    }
   ],
   "source": [
    "!ls"
   ]
  },
  {
   "cell_type": "code",
   "execution_count": 76,
   "metadata": {},
   "outputs": [],
   "source": [
    "#!rm nohup.out"
   ]
  },
  {
   "cell_type": "code",
   "execution_count": 1,
   "metadata": {},
   "outputs": [
    {
     "name": "stdout",
     "output_type": "stream",
     "text": [
      " - 2s - loss: 6193.5577 - val_loss: 7513.1416\r\n",
      "Epoch 307/350\r\n",
      " - 2s - loss: 6193.5276 - val_loss: 7513.0685\r\n",
      "Epoch 308/350\r\n",
      " - 2s - loss: 6193.4980 - val_loss: 7512.9968\r\n",
      "Epoch 309/350\r\n",
      " - 2s - loss: 6193.4693 - val_loss: 7512.9263\r\n",
      "Epoch 310/350\r\n",
      " - 2s - loss: 6193.4414 - val_loss: 7512.8566\r\n",
      "Epoch 311/350\r\n",
      " - 2s - loss: 6193.4141 - val_loss: 7512.7878\r\n",
      "Epoch 312/350\r\n",
      " - 2s - loss: 6193.3877 - val_loss: 7512.7209\r\n",
      "Epoch 313/350\r\n",
      " - 2s - loss: 6193.3620 - val_loss: 7512.6542\r\n",
      "Epoch 314/350\r\n",
      " - 2s - loss: 6193.3369 - val_loss: 7512.5898\r\n",
      "Epoch 315/350\r\n",
      " - 2s - loss: 6193.3125 - val_loss: 7512.5273\r\n",
      "Epoch 316/350\r\n",
      " - 2s - loss: 6193.2888 - val_loss: 7512.4663\r\n",
      "Epoch 317/350\r\n",
      " - 2s - loss: 6193.2657 - val_loss: 7512.4065\r\n",
      "Epoch 318/350\r\n",
      " - 2s - loss: 6193.2433 - val_loss: 7512.3477\r\n",
      "Epoch 319/350\r\n",
      " - 2s - loss: 6193.2215 - val_loss: 7512.2899\r\n",
      "Epoch 320/350\r\n",
      " - 2s - loss: 6193.2001 - val_loss: 7512.2343\r\n",
      "Epoch 321/350\r\n",
      " - 2s - loss: 6193.1793 - val_loss: 7512.1791\r\n",
      "Epoch 322/350\r\n",
      " - 2s - loss: 6193.1590 - val_loss: 7512.1251\r\n",
      "Epoch 323/350\r\n",
      " - 2s - loss: 6193.1391 - val_loss: 7512.0720\r\n",
      "Epoch 324/350\r\n",
      " - 2s - loss: 6193.1198 - val_loss: 7512.0195\r\n",
      "Epoch 325/350\r\n",
      " - 2s - loss: 6193.1010 - val_loss: 7511.9680\r\n",
      "Epoch 326/350\r\n",
      " - 2s - loss: 6193.0824 - val_loss: 7511.9171\r\n",
      "Epoch 327/350\r\n",
      " - 2s - loss: 6193.0643 - val_loss: 7511.8675\r\n",
      "Epoch 328/350\r\n",
      " - 2s - loss: 6193.0466 - val_loss: 7511.8192\r\n",
      "Epoch 329/350\r\n",
      " - 2s - loss: 6193.0293 - val_loss: 7511.7716\r\n",
      "Epoch 330/350\r\n",
      " - 2s - loss: 6193.0124 - val_loss: 7511.7252\r\n",
      "Epoch 331/350\r\n",
      " - 2s - loss: 6192.9960 - val_loss: 7511.6797\r\n",
      "Epoch 332/350\r\n",
      " - 2s - loss: 6192.9801 - val_loss: 7511.6358\r\n",
      "Epoch 333/350\r\n",
      " - 2s - loss: 6192.9645 - val_loss: 7511.5938\r\n",
      "Epoch 334/350\r\n",
      " - 2s - loss: 6192.9492 - val_loss: 7511.5517\r\n",
      "Epoch 335/350\r\n",
      " - 2s - loss: 6192.9341 - val_loss: 7511.5118\r\n",
      "Epoch 336/350\r\n",
      " - 2s - loss: 6192.9196 - val_loss: 7511.4729\r\n",
      "Epoch 337/350\r\n",
      " - 2s - loss: 6192.9055 - val_loss: 7511.4345\r\n",
      "Epoch 338/350\r\n",
      " - 2s - loss: 6192.8917 - val_loss: 7511.3969\r\n",
      "Epoch 339/350\r\n",
      " - 2s - loss: 6192.8783 - val_loss: 7511.3596\r\n",
      "Epoch 340/350\r\n",
      " - 2s - loss: 6192.8652 - val_loss: 7511.3233\r\n",
      "Epoch 341/350\r\n",
      " - 2s - loss: 6192.8525 - val_loss: 7511.2875\r\n",
      "Epoch 342/350\r\n",
      " - 2s - loss: 6192.8400 - val_loss: 7511.2523\r\n",
      "Epoch 343/350\r\n",
      " - 2s - loss: 6192.8279 - val_loss: 7511.2182\r\n",
      "Epoch 344/350\r\n",
      " - 2s - loss: 6192.8160 - val_loss: 7511.1847\r\n",
      "Epoch 345/350\r\n",
      " - 2s - loss: 6192.8043 - val_loss: 7511.1516\r\n",
      "Epoch 346/350\r\n",
      " - 2s - loss: 6192.7928 - val_loss: 7511.1194\r\n",
      "Epoch 347/350\r\n",
      " - 2s - loss: 6192.7816 - val_loss: 7511.0878\r\n",
      "Epoch 348/350\r\n",
      " - 2s - loss: 6192.7706 - val_loss: 7511.0569\r\n",
      "Epoch 349/350\r\n",
      " - 2s - loss: 6192.7599 - val_loss: 7511.0269\r\n",
      "Epoch 350/350\r\n",
      " - 2s - loss: 6192.7494 - val_loss: 7510.9974\r\n",
      "Using TensorFlow backend.\r\n",
      "SAVING model: /home/ubuntu/data/models/model_3\r\n",
      "Testing cluster: 1:: users: 601\r\n",
      "RETRIEVING model: /home/ubuntu/data/models/model_1\r\n",
      "TEST::  (13752, 1, 9) (13752,)\r\n",
      "METRICS :: RMSE: 5225.861565502618 ; MAE: 3025.119116143476 ; Normalized MAE: 0.6265666897835077\r\n",
      "Testing cluster: 3:: users: 248\r\n",
      "RETRIEVING model: /home/ubuntu/data/models/model_3\r\n",
      "TEST::  (5503, 1, 9) (5503,)\r\n",
      "METRICS :: RMSE: 12204.85972166289 ; MAE: 6230.723217289859 ; Normalized MAE: 1.2905156694098905\r\n",
      "METRICS :: RMSE: 7878.858173321781 ; MAE: 3941.2676162010475 ; Normalized MAE: 0.8163205840906479\r\n"
     ]
    }
   ],
   "source": [
    "!tail -100 nohup.out"
   ]
  },
  {
   "cell_type": "code",
   "execution_count": 11,
   "metadata": {},
   "outputs": [
    {
     "name": "stdout",
     "output_type": "stream",
     "text": [
      "ubuntu    5644  4989 99 07:05 pts/2    00:00:12 python testModel2.py\r\n",
      "ubuntu    5703  5315  0 07:05 pts/3    00:00:00 /bin/sh -c ps -ef | grep \"testModel2.py\"\r\n",
      "ubuntu    5705  5703  0 07:05 pts/3    00:00:00 grep testModel2.py\r\n"
     ]
    }
   ],
   "source": [
    "!ps -ef | grep \"testModel2.py\""
   ]
  },
  {
   "cell_type": "code",
   "execution_count": 23,
   "metadata": {},
   "outputs": [],
   "source": [
    "#!kill -9 2718"
   ]
  },
  {
   "cell_type": "code",
   "execution_count": null,
   "metadata": {},
   "outputs": [],
   "source": []
  }
 ],
 "metadata": {
  "kernelspec": {
   "display_name": "Environment (conda_tensorflow_p36)",
   "language": "python",
   "name": "conda_tensorflow_p36"
  },
  "language_info": {
   "codemirror_mode": {
    "name": "ipython",
    "version": 3
   },
   "file_extension": ".py",
   "mimetype": "text/x-python",
   "name": "python",
   "nbconvert_exporter": "python",
   "pygments_lexer": "ipython3",
   "version": "3.6.5"
  }
 },
 "nbformat": 4,
 "nbformat_minor": 2
}

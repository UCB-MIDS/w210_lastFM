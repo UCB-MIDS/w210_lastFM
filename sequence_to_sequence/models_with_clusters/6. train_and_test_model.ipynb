{
 "cells": [
  {
   "cell_type": "code",
   "execution_count": null,
   "metadata": {},
   "outputs": [],
   "source": [
    "import util\n",
    "from collections import namedtuple"
   ]
  },
  {
   "cell_type": "code",
   "execution_count": null,
   "metadata": {},
   "outputs": [],
   "source": [
    "def get_params():\n",
    "    hps_dict = {\n",
    "        'data_file' : '/home/ubuntu/data/user_profile_cluster.csv',\n",
    "        'use_spectral_clustering':True,\n",
    "        'cluster_columns':(0,8),\n",
    "        'clusters':5,\n",
    "        'standardize':True,\n",
    "        'model_dir':'/home/ubuntu/data/models/',\n",
    "        'train_file':'/home/ubuntu/data/summary/train/{0}.csv',\n",
    "        'test_file':'/home/ubuntu/data/summary/test/{0}.csv',\n",
    "        'validate_file':'/home/ubuntu/data/summary/validate/{0}.csv',\n",
    "        'baseline_mae':5429.204,#4828.088,\n",
    "        'baseline_mae_std':0.754,\n",
    "    }\n",
    "    \n",
    "    hps = namedtuple(\"HParams\", hps_dict.keys())(**hps_dict)\n",
    "    return hps"
   ]
  },
  {
   "cell_type": "code",
   "execution_count": null,
   "metadata": {},
   "outputs": [],
   "source": [
    "util.get_baseline_mae(get_params())"
   ]
  },
  {
   "cell_type": "code",
   "execution_count": 2,
   "metadata": {},
   "outputs": [
    {
     "name": "stdout",
     "output_type": "stream",
     "text": [
      "Overwriting testModel2.py\n"
     ]
    }
   ],
   "source": [
    "%%writefile testModel2.py\n",
    "\n",
    "import pandas as pd\n",
    "from collections import namedtuple\n",
    "import util\n",
    "\n",
    "\n",
    "def get_params():\n",
    "    hps_dict = {\n",
    "        'data_file' : '/home/ubuntu/data/user_profile_cluster.csv',\n",
    "        'use_spectral_clustering':True,\n",
    "        'cluster_columns':(0,8),\n",
    "        'clusters':5,\n",
    "        'standardize':False,\n",
    "        'mix_std':True,\n",
    "        'train_file':'/home/ubuntu/data/summary/train/{0}.csv',\n",
    "        'test_file':'/home/ubuntu/data/summary/test/{0}.csv',\n",
    "        'validate_file':'/home/ubuntu/data/summary/validate/{0}.csv',\n",
    "        'model_dir':'/home/ubuntu/data/models/',\n",
    "        'loss_func':'mae',\n",
    "        'optimizer':'adam',\n",
    "        'hidden_dim' : 250,\n",
    "        'batch_size' : 400,\n",
    "        'epochs' : 500,\n",
    "        'layered':False,\n",
    "        'layer_dims':150,\n",
    "        'no_layers':1,\n",
    "        'model_lstm':True,\n",
    "        'filter_outliers':False,\n",
    "        'baseline_mae':4932.859,#4828.088,\n",
    "        'baseline_mae_std':0.766,\n",
    "        'dropout':[0.0],\n",
    "        'verbose_level':2,\n",
    "        'plot_eval':False\n",
    "    }\n",
    "    \n",
    "    hps = namedtuple(\"HParams\", hps_dict.keys())(**hps_dict)\n",
    "    return hps\n",
    "\n",
    "def run():\n",
    "    hps = get_params()\n",
    "    users = util.train(hps)    \n",
    "    util.test(users,hps)\n",
    "        \n",
    "        \n",
    "if __name__ == '__main__':\n",
    "    run()"
   ]
  },
  {
   "cell_type": "code",
   "execution_count": 3,
   "metadata": {},
   "outputs": [],
   "source": [
    "!chmod 777 testModel2.py"
   ]
  },
  {
   "cell_type": "code",
   "execution_count": null,
   "metadata": {},
   "outputs": [],
   "source": [
    "#!python testModel2.py"
   ]
  },
  {
   "cell_type": "code",
   "execution_count": null,
   "metadata": {},
   "outputs": [],
   "source": [
    "!ls"
   ]
  },
  {
   "cell_type": "code",
   "execution_count": null,
   "metadata": {},
   "outputs": [],
   "source": [
    "#!rm nohup.out"
   ]
  },
  {
   "cell_type": "code",
   "execution_count": 6,
   "metadata": {},
   "outputs": [
    {
     "name": "stdout",
     "output_type": "stream",
     "text": [
      "Epoch 174/350\r\n",
      " - 3s - loss: 2288.3934 - val_loss: 2034.8612\r\n",
      "Epoch 175/350\r\n",
      " - 3s - loss: 2288.3861 - val_loss: 2034.8594\r\n",
      "Epoch 176/350\r\n",
      " - 3s - loss: 2288.3792 - val_loss: 2034.8578\r\n",
      "Epoch 177/350\r\n",
      " - 3s - loss: 2288.3725 - val_loss: 2034.8572\r\n",
      "Epoch 178/350\r\n",
      " - 3s - loss: 2288.3656 - val_loss: 2034.8561\r\n",
      "Epoch 179/350\r\n",
      " - 3s - loss: 2288.3590 - val_loss: 2034.8559\r\n",
      "Epoch 180/350\r\n",
      " - 3s - loss: 2288.3523 - val_loss: 2034.8556\r\n",
      "Epoch 181/350\r\n",
      " - 3s - loss: 2288.3456 - val_loss: 2034.8549\r\n",
      "Epoch 182/350\r\n",
      " - 3s - loss: 2288.3391 - val_loss: 2034.8543\r\n",
      "Epoch 183/350\r\n",
      " - 3s - loss: 2288.3327 - val_loss: 2034.8537\r\n",
      "Epoch 184/350\r\n",
      " - 3s - loss: 2288.3263 - val_loss: 2034.8531\r\n",
      "Epoch 185/350\r\n",
      " - 3s - loss: 2288.3199 - val_loss: 2034.8530\r\n",
      "Epoch 186/350\r\n",
      " - 3s - loss: 2288.3135 - val_loss: 2034.8526\r\n",
      "Epoch 187/350\r\n",
      " - 3s - loss: 2288.3072 - val_loss: 2034.8523\r\n",
      "Epoch 188/350\r\n",
      " - 3s - loss: 2288.3008 - val_loss: 2034.8510\r\n"
     ]
    }
   ],
   "source": [
    "!tail -30 nohup.out"
   ]
  },
  {
   "cell_type": "code",
   "execution_count": 4,
   "metadata": {},
   "outputs": [
    {
     "name": "stdout",
     "output_type": "stream",
     "text": [
      "ubuntu    5640  2790 99 19:31 pts/1    00:00:22 python testModel2.py\r\n",
      "ubuntu    5739  5622  0 19:31 pts/2    00:00:00 /bin/sh -c ps -ef | grep \"testModel2.py\"\r\n",
      "ubuntu    5741  5739  0 19:31 pts/2    00:00:00 grep testModel2.py\r\n"
     ]
    }
   ],
   "source": [
    "!ps -ef | grep \"testModel2.py\""
   ]
  },
  {
   "cell_type": "code",
   "execution_count": null,
   "metadata": {},
   "outputs": [],
   "source": [
    "#!kill -9 2790"
   ]
  },
  {
   "cell_type": "code",
   "execution_count": null,
   "metadata": {},
   "outputs": [],
   "source": []
  }
 ],
 "metadata": {
  "kernelspec": {
   "display_name": "Environment (conda_tensorflow_p36)",
   "language": "python",
   "name": "conda_tensorflow_p36"
  },
  "language_info": {
   "codemirror_mode": {
    "name": "ipython",
    "version": 3
   },
   "file_extension": ".py",
   "mimetype": "text/x-python",
   "name": "python",
   "nbconvert_exporter": "python",
   "pygments_lexer": "ipython3",
   "version": "3.6.5"
  }
 },
 "nbformat": 4,
 "nbformat_minor": 2
}

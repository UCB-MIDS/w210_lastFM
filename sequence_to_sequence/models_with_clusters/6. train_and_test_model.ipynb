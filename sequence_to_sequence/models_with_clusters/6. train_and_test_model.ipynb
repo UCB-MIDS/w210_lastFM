{
 "cells": [
  {
   "cell_type": "code",
   "execution_count": 1,
   "metadata": {},
   "outputs": [
    {
     "name": "stderr",
     "output_type": "stream",
     "text": [
      "Using TensorFlow backend.\n"
     ]
    }
   ],
   "source": [
    "import util\n",
    "from collections import namedtuple"
   ]
  },
  {
   "cell_type": "code",
   "execution_count": null,
   "metadata": {},
   "outputs": [],
   "source": [
    "def get_params():\n",
    "    hps_dict = {\n",
    "        'data_file' : '/home/ubuntu/data/user_profile_cluster.csv',\n",
    "        'use_spectral_clustering':True,\n",
    "        'cluster_columns':(0,8),\n",
    "        'clusters':5,\n",
    "        'standardize':True,\n",
    "        'train_file':'/home/ubuntu/data/summary/train/{0}.csv',\n",
    "        'test_file':'/home/ubuntu/data/summary/test/{0}.csv',\n",
    "        'validate_file':'/home/ubuntu/data/summary/validate/{0}.csv',\n",
    "        'baseline_mae':5429.204,#4828.088,\n",
    "        'baseline_mae_std':0.754,\n",
    "    }\n",
    "    \n",
    "    hps = namedtuple(\"HParams\", hps_dict.keys())(**hps_dict)\n",
    "    return hps"
   ]
  },
  {
   "cell_type": "code",
   "execution_count": null,
   "metadata": {},
   "outputs": [],
   "source": [
    "util.get_baseline_mae(get_params())"
   ]
  },
  {
   "cell_type": "code",
   "execution_count": 32,
   "metadata": {},
   "outputs": [
    {
     "name": "stdout",
     "output_type": "stream",
     "text": [
      "Overwriting testModel2.py\n"
     ]
    }
   ],
   "source": [
    "%%writefile testModel2.py\n",
    "\n",
    "import pandas as pd\n",
    "from collections import namedtuple\n",
    "import util\n",
    "\n",
    "\n",
    "def get_params():\n",
    "    hps_dict = {\n",
    "        'data_file' : '/home/ubuntu/data/user_profile_cluster.csv',\n",
    "        'use_spectral_clustering':True,\n",
    "        'cluster_columns':(0,8),\n",
    "        'clusters':5,\n",
    "        'standardize':False,\n",
    "        'mix_std':True,\n",
    "        'train_file':'/home/ubuntu/data/summary/train/{0}.csv',\n",
    "        'test_file':'/home/ubuntu/data/summary/test/{0}.csv',\n",
    "        'validate_file':'/home/ubuntu/data/summary/validate/{0}.csv',\n",
    "        'model_dir':'/home/ubuntu/data/models/',\n",
    "        'loss_func':'mae',\n",
    "        'optimizer':'adam',\n",
    "        'hidden_dim' : 250,\n",
    "        'batch_size' : 400,\n",
    "        'epochs' : 500,\n",
    "        'layered':False,\n",
    "        'layer_dims':150,\n",
    "        'no_layers':1,\n",
    "        'model_lstm':True,\n",
    "        'filter_outliers':False,\n",
    "        'baseline_mae':4932.859,#4828.088,\n",
    "        'baseline_mae_std':0.770,\n",
    "        'dropout':[0.0],\n",
    "        'verbose_level':2,\n",
    "        'plot_eval':False\n",
    "    }\n",
    "    \n",
    "    hps = namedtuple(\"HParams\", hps_dict.keys())(**hps_dict)\n",
    "    return hps\n",
    "\n",
    "def run():\n",
    "    hps = get_params()\n",
    "    users = util.train(hps)    \n",
    "    util.test(users,hps)\n",
    "        \n",
    "        \n",
    "if __name__ == '__main__':\n",
    "    run()"
   ]
  },
  {
   "cell_type": "code",
   "execution_count": 33,
   "metadata": {},
   "outputs": [],
   "source": [
    "!chmod 777 testModel2.py"
   ]
  },
  {
   "cell_type": "code",
   "execution_count": 5,
   "metadata": {},
   "outputs": [],
   "source": [
    "#!python testModel2.py"
   ]
  },
  {
   "cell_type": "code",
   "execution_count": null,
   "metadata": {},
   "outputs": [],
   "source": [
    "!ls"
   ]
  },
  {
   "cell_type": "code",
   "execution_count": null,
   "metadata": {},
   "outputs": [],
   "source": [
    "#!rm nohup.out"
   ]
  },
  {
   "cell_type": "code",
   "execution_count": 1,
   "metadata": {},
   "outputs": [],
   "source": [
    "#!tail -30 nohup.out"
   ]
  },
  {
   "cell_type": "code",
   "execution_count": null,
   "metadata": {},
   "outputs": [],
   "source": [
    "!ps -ef | grep \"testModel2.py\""
   ]
  },
  {
   "cell_type": "code",
   "execution_count": null,
   "metadata": {},
   "outputs": [],
   "source": [
    "#!kill -9 2718"
   ]
  }
 ],
 "metadata": {
  "kernelspec": {
   "display_name": "Environment (conda_tensorflow_p36)",
   "language": "python",
   "name": "conda_tensorflow_p36"
  },
  "language_info": {
   "codemirror_mode": {
    "name": "ipython",
    "version": 3
   },
   "file_extension": ".py",
   "mimetype": "text/x-python",
   "name": "python",
   "nbconvert_exporter": "python",
   "pygments_lexer": "ipython3",
   "version": "3.6.5"
  }
 },
 "nbformat": 4,
 "nbformat_minor": 2
}

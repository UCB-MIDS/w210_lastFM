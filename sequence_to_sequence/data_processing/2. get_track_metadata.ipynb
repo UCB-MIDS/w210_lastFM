{
 "cells": [
  {
   "cell_type": "code",
   "execution_count": 8,
   "metadata": {
    "collapsed": false
   },
   "outputs": [
    {
     "data": {
      "text/plain": [
       "9223372036854775807"
      ]
     },
     "execution_count": 8,
     "metadata": {},
     "output_type": "execute_result"
    }
   ],
   "source": [
    "import os, os.path,sys\n",
    "import csv\n",
    "import collections\n",
    "import subprocess\n",
    "import pandas as pd\n",
    "import numpy as np\n",
    "import glob\n",
    "from datetime import datetime as dt\n",
    "from stanfordcorenlp import StanfordCoreNLP\n",
    "from tqdm import tqdm\n",
    "from multiprocessing import Pool\n",
    "import requests\n",
    "\n",
    "\n",
    "csv.field_size_limit(sys.maxsize)\n"
   ]
  },
  {
   "cell_type": "code",
   "execution_count": 9,
   "metadata": {
    "collapsed": true
   },
   "outputs": [],
   "source": [
    "tracks_file = 'data/tracks/tracks.csv'"
   ]
  },
  {
   "cell_type": "code",
   "execution_count": 10,
   "metadata": {
    "collapsed": false
   },
   "outputs": [],
   "source": [
    "def get_track_info(artist,track):\n",
    "    base_url = 'http://ws.audioscrobbler.com/2.0/'\n",
    "    context = '?method=track.getInfo&api_key=db3a905ecd9f0b7d0e9641c39e7527dd&format=json'\n",
    "    params = '&artist={0}&track={1}'.format(artist,track)\n",
    "    resp = requests.get(base_url+context+params)\n",
    "    if resp.status_code != 200:\n",
    "        raise Exception('Failed')\n",
    "    response = resp.json()\n",
    "    duration = response['track']['duration']\n",
    "    tags = response['track']['toptags']['tag']\n",
    "    genre = [x['name'] for x in tags]\n",
    "    genre = ','.join(genre)\n",
    "    return duration,genre    \n",
    "\n",
    "def get_remaining_tracks():\n",
    "    \n",
    "    columns1 = ['artist_id','artist_name','track_name','count']\n",
    "    all_tracks = pd.read_csv(tracks_file,names=columns1)\n",
    "\n",
    "    failed_tracks_file = 'data/tracks/tracks_failed_*.csv'    \n",
    "    failed_files = glob.glob(failed_tracks_file)\n",
    "    failed = pd.concat((pd.read_csv(f,names=columns1) for f in failed_files))\n",
    "\n",
    "    columns2 = ['artist_id','artist_name','track_name','count','duration','genre']\n",
    "    complete_tracks_file = 'data/tracks/tracks_complete_*.csv'\n",
    "    complete_files = glob.glob(complete_tracks_file)\n",
    "    completed = pd.concat((pd.read_csv(f,names=columns2) for f in complete_files))\n",
    "\n",
    "    tracks1 = all_tracks[~all_tracks['artist_name'].isin(completed['artist_name']) | \n",
    "                         ~all_tracks['track_name'].isin(completed['track_name'])]\n",
    "    remaining = tracks1[~tracks1['artist_name'].isin(failed['artist_name']) | \n",
    "                      ~tracks1['track_name'].isin(failed['track_name'])]\n",
    "    return remaining"
   ]
  },
  {
   "cell_type": "code",
   "execution_count": 11,
   "metadata": {
    "collapsed": false
   },
   "outputs": [],
   "source": [
    "def process_tracks(tracks,file_size,process_id):\n",
    "\n",
    "    print('STARTED: Process: {0} with size: {1}'.format(process_id,file_size))\n",
    "    complete_tracks_file = 'data/tracks/tracks_complete_{0}.csv'.format(process_id)\n",
    "    failed_tracks_file = 'data/tracks/tracks_failed_{0}.csv'.format(process_id)    \n",
    "\n",
    "    if os.path.exists(complete_tracks_file):\n",
    "        aw = 'a' \n",
    "    else:\n",
    "        aw = 'w+' \n",
    "        \n",
    "    i = 0\n",
    "    with open(complete_tracks_file, aw) as writer:\n",
    "        writer = csv.writer(writer,quoting=csv.QUOTE_NONNUMERIC)\n",
    "        for row in tqdm(tracks.itertuples(),total=file_size):\n",
    "            data = []\n",
    "            try:\n",
    "                artist_id = row.artist_id\n",
    "                artist = row.artist_name\n",
    "                track = row.track_name\n",
    "                count = row.count\n",
    "\n",
    "                data.append(artist_id)\n",
    "                data.append(artist)\n",
    "                data.append(track)\n",
    "                data.append(count)\n",
    "                \n",
    "                duration,genre = get_track_info(artist,track)\n",
    "                data.append(duration)\n",
    "                data.append(genre)\n",
    "                writer.writerow(data)\n",
    "            except Exception as e:\n",
    "                if os.path.exists(failed_tracks_file):\n",
    "                    append_write = 'a' \n",
    "                else:\n",
    "                    append_write = 'w+' \n",
    "                \n",
    "                with open(failed_tracks_file, append_write) as failed:\n",
    "                    failed = csv.writer(failed,quoting=csv.QUOTE_NONNUMERIC)\n",
    "                    failed.writerow(data)\n",
    "                pass\n",
    "            \n",
    "#             if(i==100):\n",
    "#                 break\n",
    "            i = i+1 \n",
    "    print('COMPLETED: Process: {0} with size: {1}'.format(process_id,file_size))"
   ]
  },
  {
   "cell_type": "code",
   "execution_count": 12,
   "metadata": {
    "collapsed": true
   },
   "outputs": [],
   "source": [
    "def parallel_process(remaining,threads):\n",
    "    pool = Pool()\n",
    "    data = np.array_split(remaining, threads)\n",
    "    for i in range(threads):\n",
    "        df = data[i]\n",
    "        size = df.shape[0]\n",
    "        pool.apply_async(process_tracks, [df,size,i])   "
   ]
  },
  {
   "cell_type": "code",
   "execution_count": 13,
   "metadata": {
    "collapsed": false
   },
   "outputs": [
    {
     "data": {
      "text/plain": [
       "(0, 4)"
      ]
     },
     "execution_count": 13,
     "metadata": {},
     "output_type": "execute_result"
    }
   ],
   "source": [
    "remaining = get_remaining_tracks()\n",
    "remaining.shape"
   ]
  },
  {
   "cell_type": "code",
   "execution_count": 7,
   "metadata": {
    "collapsed": false
   },
   "outputs": [
    {
     "name": "stdout",
     "output_type": "stream",
     "text": [
      "STARTED: Process: 0 with size: 128642\n"
     ]
    },
    {
     "name": "stderr",
     "output_type": "stream",
     "text": [
      "  0%|          | 1/128642 [00:00<7:04:12,  5.05it/s]"
     ]
    },
    {
     "name": "stdout",
     "output_type": "stream",
     "text": [
      "STARTED: Process: 1 with size: 128641\n"
     ]
    },
    {
     "name": "stderr",
     "output_type": "stream",
     "text": [
      "  0%|          | 2/128642 [00:00<6:48:40,  5.25it/s]"
     ]
    },
    {
     "name": "stdout",
     "output_type": "stream",
     "text": [
      "STARTED: Process: 2 with size: 128641\n"
     ]
    },
    {
     "name": "stderr",
     "output_type": "stream",
     "text": [
      "100%|██████████| 128642/128642 [4:38:54<00:00,  7.69it/s]    \n"
     ]
    },
    {
     "name": "stdout",
     "output_type": "stream",
     "text": [
      "COMPLETED: Process: 0 with size: 128642\n"
     ]
    },
    {
     "name": "stderr",
     "output_type": "stream",
     "text": [
      "100%|██████████| 128641/128641 [4:40:48<00:00,  7.64it/s]  \n"
     ]
    },
    {
     "name": "stdout",
     "output_type": "stream",
     "text": [
      "COMPLETED: Process: 1 with size: 128641\n"
     ]
    },
    {
     "name": "stderr",
     "output_type": "stream",
     "text": [
      "100%|██████████| 128641/128641 [4:43:21<00:00,  3.38it/s]\n"
     ]
    },
    {
     "name": "stdout",
     "output_type": "stream",
     "text": [
      "COMPLETED: Process: 2 with size: 128641\n"
     ]
    }
   ],
   "source": [
    "parallel_process(remaining,3)"
   ]
  },
  {
   "cell_type": "code",
   "execution_count": null,
   "metadata": {
    "collapsed": true
   },
   "outputs": [],
   "source": []
  }
 ],
 "metadata": {
  "anaconda-cloud": {},
  "kernelspec": {
   "display_name": "Python [Root]",
   "language": "python",
   "name": "Python [Root]"
  },
  "language_info": {
   "codemirror_mode": {
    "name": "ipython",
    "version": 3
   },
   "file_extension": ".py",
   "mimetype": "text/x-python",
   "name": "python",
   "nbconvert_exporter": "python",
   "pygments_lexer": "ipython3",
   "version": "3.5.2"
  }
 },
 "nbformat": 4,
 "nbformat_minor": 0
}

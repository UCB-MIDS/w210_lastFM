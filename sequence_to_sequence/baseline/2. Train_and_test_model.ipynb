{
 "cells": [
  {
   "cell_type": "code",
   "execution_count": 31,
   "metadata": {},
   "outputs": [
    {
     "name": "stdout",
     "output_type": "stream",
     "text": [
      "Overwriting testModel7.py\n"
     ]
    }
   ],
   "source": [
    "%%writefile testModel7.py\n",
    "\n",
    "import util\n",
    "import pandas as pd\n",
    "from collections import namedtuple\n",
    "\n",
    "\n",
    "def get_params():\n",
    "    hps_dict = {\n",
    "        'train_file' : '/home/ubuntu/data/summary/train/*.csv',\n",
    "        'validate_file' : '/home/ubuntu/data/summary/validate/*.csv',\n",
    "        'test_file' : '/home/ubuntu/data/summary/test/*.csv',\n",
    "        'loss_func':'mae',\n",
    "        'optimizer':'adam',\n",
    "        'hidden_dim' : 250,\n",
    "        'batch_size' : 400,\n",
    "        'epochs' : 150,\n",
    "        'layered':True,\n",
    "        'layer_dims':150,\n",
    "        'no_layers':1,\n",
    "        'model_lstm':True,\n",
    "        'filter_outliers':True,\n",
    "        'upper_limit':99.5,\n",
    "        'baseline_mae':4520.485,\n",
    "        'dropout':[0.0,0.1,0.2]\n",
    "    }\n",
    "    \n",
    "    hps = namedtuple(\"HParams\", hps_dict.keys())(**hps_dict)\n",
    "    return hps\n",
    "\n",
    "\n",
    "\n",
    "def run():\n",
    "    hps = get_params()\n",
    "    rmse_l = list()\n",
    "    mae_l = list()\n",
    "    norm_l = list()\n",
    "    for dropout in hps.dropout:\n",
    "        rmse,mae,norm = util.experiment(hps,dropout)\n",
    "        rmse_l.append(rmse)\n",
    "        mae_l.append(mae)\n",
    "        norm_l.append(norm)\n",
    "    \n",
    "    print('RESULTS:')\n",
    "    print('=========')\n",
    "    i=0\n",
    "    for dropout in hps.dropout:\n",
    "        print('Droput: {0} ===> RMSE: {1} ; MAE: {2} ; Normalized MAE: {3}'.format(dropout,\n",
    "                                                                                   rmse_l[i],\n",
    "                                                                                   mae_l[i],\n",
    "                                                                                   norm_l[i]))\n",
    "        i += 1\n",
    "        \n",
    "        \n",
    "if __name__ == '__main__':\n",
    "    run()"
   ]
  },
  {
   "cell_type": "code",
   "execution_count": 32,
   "metadata": {},
   "outputs": [],
   "source": [
    "!chmod 777 testModel7.py"
   ]
  },
  {
   "cell_type": "code",
   "execution_count": 33,
   "metadata": {},
   "outputs": [],
   "source": [
    "!rm -rf nohup.out"
   ]
  },
  {
   "cell_type": "code",
   "execution_count": 9,
   "metadata": {},
   "outputs": [],
   "source": [
    "#!python testModel7.py"
   ]
  },
  {
   "cell_type": "code",
   "execution_count": 29,
   "metadata": {},
   "outputs": [],
   "source": [
    "#nohup python testModel7.py &"
   ]
  },
  {
   "cell_type": "code",
   "execution_count": null,
   "metadata": {},
   "outputs": [],
   "source": [
    "#ps -ef | grep \"testModel7.py\""
   ]
  },
  {
   "cell_type": "code",
   "execution_count": 39,
   "metadata": {},
   "outputs": [
    {
     "name": "stdout",
     "output_type": "stream",
     "text": [
      "Epoch 150/150\r\n",
      " - 18s - loss: 3996.2946 - val_loss: 3975.5349\r\n",
      "Using TensorFlow backend.\r\n",
      "TEST::  (19890, 1, 9) (19890,)\r\n",
      "METRICS :: RMSE: 7208.082085756386 ; MAE: 3940.1485715134413 ; Normalized MAE: 0.8716207600541627\r\n",
      "RESULTS:\r\n",
      "=========\r\n",
      "Droput: 0.0 ===> RMSE: 7225.948549786576 ; MAE: 3941.398583468844 ; Normalized MAE: 0.8718972817007123\r\n",
      "Droput: 0.1 ===> RMSE: 7205.967253651086 ; MAE: 3940.0405567044527 ; Normalized MAE: 0.8715968655364309\r\n",
      "Droput: 0.2 ===> RMSE: 7208.082085756386 ; MAE: 3940.1485715134413 ; Normalized MAE: 0.8716207600541627\r\n"
     ]
    }
   ],
   "source": [
    "!tail nohup.out"
   ]
  },
  {
   "cell_type": "code",
   "execution_count": null,
   "metadata": {},
   "outputs": [],
   "source": []
  }
 ],
 "metadata": {
  "kernelspec": {
   "display_name": "Environment (conda_tensorflow_p36)",
   "language": "python",
   "name": "conda_tensorflow_p36"
  },
  "language_info": {
   "codemirror_mode": {
    "name": "ipython",
    "version": 3
   },
   "file_extension": ".py",
   "mimetype": "text/x-python",
   "name": "python",
   "nbconvert_exporter": "python",
   "pygments_lexer": "ipython3",
   "version": "3.6.5"
  }
 },
 "nbformat": 4,
 "nbformat_minor": 2
}

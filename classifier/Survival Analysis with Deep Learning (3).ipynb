{
 "cells": [
  {
   "cell_type": "code",
   "execution_count": 11,
   "metadata": {},
   "outputs": [],
   "source": [
    "import pandas as pd"
   ]
  },
  {
   "cell_type": "code",
   "execution_count": 12,
   "metadata": {},
   "outputs": [
    {
     "data": {
      "text/html": [
       "<style>.container { width:100% !important; }</style>"
      ],
      "text/plain": [
       "<IPython.core.display.HTML object>"
      ]
     },
     "metadata": {},
     "output_type": "display_data"
    }
   ],
   "source": [
    "from IPython.core.display import display, HTML\n",
    "display(HTML(\"<style>.container { width:100% !important; }</style>\"))\n",
    "\n",
    "pd.set_option('display.height', 1000)\n",
    "pd.set_option('display.max_rows', 500)\n",
    "pd.set_option('display.max_columns', 500)\n",
    "pd.set_option('display.width', 1000)\n",
    "pd.set_option('display.expand_frame_repr', False)\n",
    "pd.set_option('max_colwidth', 800)\n",
    "pd.set_option('display.max_colwidth', 500)\n",
    "pd.set_option('expand_frame_repr', True)"
   ]
  },
  {
   "cell_type": "code",
   "execution_count": null,
   "metadata": {},
   "outputs": [],
   "source": []
  },
  {
   "cell_type": "code",
   "execution_count": 13,
   "metadata": {},
   "outputs": [],
   "source": [
    "APP_NAME = \"Survival Analysis with Deep Learning\"\n",
    "\n",
    "try:\n",
    "    sc.stop()\n",
    "    spark.stop()\n",
    "except:\n",
    "    pass\n",
    "\n",
    "from pyspark import SparkConf\n",
    "from pyspark.context import SparkContext\n",
    "from pyspark.sql.session import SparkSession\n",
    "\n",
    "try:\n",
    "    sc and spark\n",
    "except (NameError, UnboundLocalError) as e:\n",
    "    import findspark\n",
    "    #findspark.init()\n",
    "    import pyspark\n",
    "    import pyspark.sql\n",
    "    \n",
    "    #sc = pyspark.SparkContext()\n",
    "    #spark = pyspark.sql.SparkSession(sc).builder.appName(APP_NAME).getOrCreate()\n",
    "    \n",
    "sc = SparkContext(conf = SparkConf() .set(\"spark.driver.maxResultSize\", \"20g\") .set(\"spark.sql.execution.arrow.enabled\", \"true\") .set('spark.sql.broadcastTimeout', 1000) .set('spark.local.dir', '/data_data/session_length/spark_tmp/') .set('spark.driver.memory', '20G') .set(\"spark.executor.instances\", \"20\") .set(\"spark.executor.cores\", 20) .set(\"spark.executor.memory\", \"8G\")).getOrCreate()\n",
    "spark = SparkSession(sc)\n",
    "spark.sparkContext.setLogLevel(\"ERROR\")\n",
    "    "
   ]
  },
  {
   "cell_type": "code",
   "execution_count": 14,
   "metadata": {},
   "outputs": [
    {
     "data": {
      "text/plain": [
       "[(u'spark.driver.port', u'40505'),\n",
       " (u'spark.local.dir', u'/data_data/session_length/spark_tmp/'),\n",
       " (u'spark.driver.memory', u'20G'),\n",
       " (u'spark.sql.execution.arrow.enabled', u'true'),\n",
       " (u'spark.executor.cores', u'20'),\n",
       " (u'spark.executor.memory', u'8G'),\n",
       " (u'spark.executor.id', u'driver'),\n",
       " (u'spark.app.name', u'pyspark-shell'),\n",
       " (u'spark.executor.instances', u'20'),\n",
       " (u'spark.app.id', u'local-1539095140511'),\n",
       " (u'spark.driver.maxResultSize', u'20g'),\n",
       " (u'spark.rdd.compress', u'True'),\n",
       " (u'spark.driver.host', u'ip-172-31-41-62.ec2.internal'),\n",
       " (u'spark.serializer.objectStreamReset', u'100'),\n",
       " (u'spark.master', u'local[*]'),\n",
       " (u'spark.submit.deployMode', u'client'),\n",
       " (u'spark.sql.broadcastTimeout', u'1000'),\n",
       " (u'spark.ui.showConsoleProgress', u'true')]"
      ]
     },
     "execution_count": 14,
     "metadata": {},
     "output_type": "execute_result"
    }
   ],
   "source": [
    "sc._conf.getAll()"
   ]
  },
  {
   "cell_type": "code",
   "execution_count": 15,
   "metadata": {},
   "outputs": [],
   "source": [
    "from pyspark.sql.types import StructField, StructType, StringType, LongType, DateType, DoubleType, IntegerType\n",
    "from pyspark.sql.functions import count, mean, stddev_pop, min, max, lit, round, bround, pow, col, corr, lower, upper, avg, stddev, abs, log\n",
    "from pyspark.sql.functions import lit, trim, rtrim, rpad, trim, coalesce\n",
    "from pyspark.sql.functions import current_date, current_timestamp, date_add, date_sub, months_between, to_date\n",
    "from pyspark.sql.functions import udf, col, countDistinct, lag\n",
    "from pyspark.sql.window import Window\n",
    "from pyspark.sql.functions import desc, dense_rank, rank, expr\n",
    "\n",
    "from pyspark.ml import Pipeline\n",
    "from pyspark.ml.feature import RFormula, Bucketizer, QuantileDiscretizer\n",
    "from pyspark.ml.classification import LogisticRegression, GBTClassifier, DecisionTreeClassifier, RandomForestClassifier, MultilayerPerceptronClassifier,NaiveBayes\n",
    "from pyspark.ml.evaluation import BinaryClassificationEvaluator, MulticlassClassificationEvaluator, RegressionEvaluator\n",
    "from pyspark.ml.regression import RandomForestRegressor, GBTRegressor\n",
    "from pyspark.ml.feature import OneHotEncoderEstimator, StringIndexer, VectorAssembler\n",
    "from pyspark.ml.tuning import CrossValidator, ParamGridBuilder\n",
    "from pyspark.ml.regression import AFTSurvivalRegression\n",
    "from pyspark.ml.linalg import Vectors\n",
    "\n",
    "from datetime import datetime\n",
    "import numpy as np\n",
    "\n",
    "import matplotlib.pyplot as plt\n",
    "%matplotlib inline\n",
    "import seaborn as sns"
   ]
  },
  {
   "cell_type": "code",
   "execution_count": 16,
   "metadata": {},
   "outputs": [
    {
     "name": "stdout",
     "output_type": "stream",
     "text": [
      "userid,gender,age,country,startdate,day_of_week,timeofday,sessionid,session_start,session_length\r",
      "\r\n",
      "user_000001,m,,Japan,2006-08-13,sunday   ,noon,1,2006-08-13 13:59:20,230\r",
      "\r\n",
      "user_000001,m,,Japan,2006-08-15,tuesday  ,morning,1,2006-08-15 12:27:51,170\r",
      "\r\n",
      "user_000001,m,,Japan,2006-08-16,wednesday,morning,1,2006-08-16 10:27:16,43\r",
      "\r\n",
      "user_000001,m,,Japan,2006-08-16,wednesday,noon,2,2006-08-16 13:43:02,86\r",
      "\r\n",
      "user_000001,m,,Japan,2006-08-17,thursday ,noon,1,2006-08-17 13:33:27,115\r",
      "\r\n",
      "user_000001,m,,Japan,2006-08-18,friday   ,evening,1,2006-08-18 19:09:27,46\r",
      "\r\n",
      "user_000001,m,,Japan,2006-08-19,saturday ,morning,1,2006-08-19 12:26:52,113\r",
      "\r\n",
      "user_000001,m,,Japan,2006-08-20,sunday   ,noon,1,2006-08-20 13:01:54,112\r",
      "\r\n",
      "user_000001,m,,Japan,2006-08-21,monday   ,night,1,2006-08-21 03:36:08,18\r",
      "\r\n"
     ]
    }
   ],
   "source": [
    "!head /data_data/session_length/usersessions-jayashree.csv"
   ]
  },
  {
   "cell_type": "code",
   "execution_count": 17,
   "metadata": {},
   "outputs": [
    {
     "name": "stdout",
     "output_type": "stream",
     "text": [
      "user_000001\t2009-05-04T23:08:57Z\tf1b1cf71-bd35-4e99-8624-24a6e15f133a\tDeep Dish\t\tFuck Me Im Famous (Pacha Ibiza)-09-28-2007\r\n",
      "user_000001\t2009-05-04T13:54:10Z\ta7f7df4a-77d8-4f12-8acd-5c60c93f4de8\t坂本龍一\t\tComposition 0919 (Live_2009_4_15)\r\n",
      "user_000001\t2009-05-04T13:52:04Z\ta7f7df4a-77d8-4f12-8acd-5c60c93f4de8\t坂本龍一\t\tMc2 (Live_2009_4_15)\r\n",
      "user_000001\t2009-05-04T13:42:52Z\ta7f7df4a-77d8-4f12-8acd-5c60c93f4de8\t坂本龍一\t\tHibari (Live_2009_4_15)\r\n",
      "user_000001\t2009-05-04T13:42:11Z\ta7f7df4a-77d8-4f12-8acd-5c60c93f4de8\t坂本龍一\t\tMc1 (Live_2009_4_15)\r\n",
      "user_000001\t2009-05-04T13:38:31Z\ta7f7df4a-77d8-4f12-8acd-5c60c93f4de8\t坂本龍一\t\tTo Stanford (Live_2009_4_15)\r\n",
      "user_000001\t2009-05-04T13:33:28Z\ta7f7df4a-77d8-4f12-8acd-5c60c93f4de8\t坂本龍一\t\tImprovisation (Live_2009_4_15)\r\n",
      "user_000001\t2009-05-04T13:23:45Z\ta7f7df4a-77d8-4f12-8acd-5c60c93f4de8\t坂本龍一\t\tGlacier (Live_2009_4_15)\r\n",
      "user_000001\t2009-05-04T13:19:22Z\ta7f7df4a-77d8-4f12-8acd-5c60c93f4de8\t坂本龍一\t\tParolibre (Live_2009_4_15)\r\n",
      "user_000001\t2009-05-04T13:13:38Z\ta7f7df4a-77d8-4f12-8acd-5c60c93f4de8\t坂本龍一\t\tBibo No Aozora (Live_2009_4_15)\r\n"
     ]
    }
   ],
   "source": [
    "!head /data_data/session_length/data/lastFM/lastfm-dataset-1K/userid-timestamp-artid-artname-traid-traname.tsv"
   ]
  },
  {
   "cell_type": "code",
   "execution_count": 18,
   "metadata": {},
   "outputs": [],
   "source": [
    "user_sessions_df = None"
   ]
  },
  {
   "cell_type": "code",
   "execution_count": 19,
   "metadata": {},
   "outputs": [],
   "source": [
    "def import_session_data():\n",
    "    print(\"==================================================================================================================\")\n",
    "    print(\"========================================    IMPORTING USER SESSION DATA     ======================================\")\n",
    "    print(\"==================================================================================================================\\n\\n\")\n",
    "    global user_sessions_df\n",
    "    sessionSchema = StructType([\n",
    "        StructField('userid', StringType(), True),\\\n",
    "        StructField('gender', StringType(), True),\\\n",
    "        StructField('age', IntegerType(), True),\\\n",
    "        StructField('country', StringType(), True),\\\n",
    "        StructField('startdate', DateType(), True),\\\n",
    "        StructField('day_of_week', StringType(), True),\\\n",
    "        StructField('timeofday', StringType(), True),\\\n",
    "        StructField('sessionid', IntegerType(), True),\\\n",
    "        StructField('session_start', DateType(), True),\\\n",
    "        StructField('session_length', IntegerType(), True),\\\n",
    "        ])\n",
    "    user_sessions_df = spark.read.format('csv').schema(sessionSchema).option('header',True).load('/data_data/session_length/usersessions-jayashree.csv')\n",
    "    \n"
   ]
  },
  {
   "cell_type": "code",
   "execution_count": 20,
   "metadata": {},
   "outputs": [
    {
     "name": "stdout",
     "output_type": "stream",
     "text": [
      "==================================================================================================================\n",
      "========================================    IMPORTING USER SESSION DATA     ======================================\n",
      "==================================================================================================================\n",
      "\n",
      "\n"
     ]
    }
   ],
   "source": [
    "import_session_data()"
   ]
  },
  {
   "cell_type": "code",
   "execution_count": 21,
   "metadata": {},
   "outputs": [
    {
     "name": "stdout",
     "output_type": "stream",
     "text": [
      "+-----------+------+----+-------+----------+-----------+---------+---------+-------------+--------------+\n",
      "|     userid|gender| age|country| startdate|day_of_week|timeofday|sessionid|session_start|session_length|\n",
      "+-----------+------+----+-------+----------+-----------+---------+---------+-------------+--------------+\n",
      "|user_000001|     m|null|  Japan|2006-08-13|  sunday   |     noon|        1|   2006-08-13|           230|\n",
      "|user_000001|     m|null|  Japan|2006-08-15|  tuesday  |  morning|        1|   2006-08-15|           170|\n",
      "|user_000001|     m|null|  Japan|2006-08-16|  wednesday|  morning|        1|   2006-08-16|            43|\n",
      "|user_000001|     m|null|  Japan|2006-08-16|  wednesday|     noon|        2|   2006-08-16|            86|\n",
      "|user_000001|     m|null|  Japan|2006-08-17|  thursday |     noon|        1|   2006-08-17|           115|\n",
      "|user_000001|     m|null|  Japan|2006-08-18|  friday   |  evening|        1|   2006-08-18|            46|\n",
      "|user_000001|     m|null|  Japan|2006-08-19|  saturday |  morning|        1|   2006-08-19|           113|\n",
      "|user_000001|     m|null|  Japan|2006-08-20|  sunday   |     noon|        1|   2006-08-20|           112|\n",
      "|user_000001|     m|null|  Japan|2006-08-21|  monday   |    night|        1|   2006-08-21|            18|\n",
      "|user_000001|     m|null|  Japan|2006-08-21|  monday   |    night|        2|   2006-08-21|            20|\n",
      "|user_000001|     m|null|  Japan|2006-08-21|  monday   |    night|        3|   2006-08-21|             8|\n",
      "|user_000001|     m|null|  Japan|2006-08-21|  monday   |  morning|        4|   2006-08-21|            22|\n",
      "|user_000001|     m|null|  Japan|2006-08-21|  monday   |     noon|        5|   2006-08-21|            92|\n",
      "|user_000001|     m|null|  Japan|2006-08-21|  monday   |     noon|        6|   2006-08-21|            26|\n",
      "|user_000001|     m|null|  Japan|2006-08-21|  monday   |     noon|        7|   2006-08-21|            42|\n",
      "|user_000001|     m|null|  Japan|2006-08-23|  wednesday|  morning|        1|   2006-08-23|            21|\n",
      "|user_000001|     m|null|  Japan|2006-08-23|  wednesday|     noon|        2|   2006-08-23|            40|\n",
      "|user_000001|     m|null|  Japan|2006-08-23|  wednesday|    night|        3|   2006-08-23|             3|\n",
      "|user_000001|     m|null|  Japan|2006-08-24|  thursday |     noon|        1|   2006-08-24|            16|\n",
      "|user_000001|     m|null|  Japan|2006-08-24|  thursday |     noon|        2|   2006-08-24|            19|\n",
      "+-----------+------+----+-------+----------+-----------+---------+---------+-------------+--------------+\n",
      "only showing top 20 rows\n",
      "\n"
     ]
    }
   ],
   "source": [
    "user_sessions_df.show()"
   ]
  },
  {
   "cell_type": "markdown",
   "metadata": {},
   "source": [
    "#### Add time window"
   ]
  },
  {
   "cell_type": "code",
   "execution_count": 22,
   "metadata": {},
   "outputs": [
    {
     "data": {
      "text/plain": [
       "datetime.datetime(2005, 1, 1, 0, 0)"
      ]
     },
     "execution_count": 22,
     "metadata": {},
     "output_type": "execute_result"
    }
   ],
   "source": [
    "day_zero = datetime(2005,01,01)\n",
    "day_zero"
   ]
  },
  {
   "cell_type": "code",
   "execution_count": 23,
   "metadata": {},
   "outputs": [],
   "source": [
    "from datetime import datetime\n",
    "\n",
    "def time_delta(end,start): \n",
    "    #end = datetime.strptime(end_, '%Y-%m-%dT%H:%M:%S.%f')\n",
    "    #start = datetime.strptime(start_, '%Y-%m-%dT%H:%M:%S.%f')\n",
    "    delta = (end-start)\n",
    "    return delta.days"
   ]
  },
  {
   "cell_type": "code",
   "execution_count": 24,
   "metadata": {},
   "outputs": [
    {
     "data": {
      "text/plain": [
       "5029"
      ]
     },
     "execution_count": 24,
     "metadata": {},
     "output_type": "execute_result"
    }
   ],
   "source": [
    "time_delta(datetime.now(), day_zero)"
   ]
  },
  {
   "cell_type": "code",
   "execution_count": 25,
   "metadata": {},
   "outputs": [],
   "source": [
    "\n",
    "time_delta_udf = udf(lambda end,start:  time_delta(end, start),IntegerType())\n",
    "\n",
    "\n",
    "user_session_with_window_df = user_sessions_df.withColumn('window', time_delta_udf(col(\"startdate\"), lit(day_zero).cast('date')))"
   ]
  },
  {
   "cell_type": "code",
   "execution_count": 26,
   "metadata": {},
   "outputs": [
    {
     "name": "stdout",
     "output_type": "stream",
     "text": [
      "+-----------+------+----+-------+----------+-----------+---------+---------+-------------+--------------+------+\n",
      "|     userid|gender| age|country| startdate|day_of_week|timeofday|sessionid|session_start|session_length|window|\n",
      "+-----------+------+----+-------+----------+-----------+---------+---------+-------------+--------------+------+\n",
      "|user_000001|     m|null|  Japan|2006-08-13|  sunday   |     noon|        1|   2006-08-13|           230|   589|\n",
      "|user_000001|     m|null|  Japan|2006-08-15|  tuesday  |  morning|        1|   2006-08-15|           170|   591|\n",
      "|user_000001|     m|null|  Japan|2006-08-16|  wednesday|  morning|        1|   2006-08-16|            43|   592|\n",
      "|user_000001|     m|null|  Japan|2006-08-16|  wednesday|     noon|        2|   2006-08-16|            86|   592|\n",
      "|user_000001|     m|null|  Japan|2006-08-17|  thursday |     noon|        1|   2006-08-17|           115|   593|\n",
      "|user_000001|     m|null|  Japan|2006-08-18|  friday   |  evening|        1|   2006-08-18|            46|   594|\n",
      "|user_000001|     m|null|  Japan|2006-08-19|  saturday |  morning|        1|   2006-08-19|           113|   595|\n",
      "|user_000001|     m|null|  Japan|2006-08-20|  sunday   |     noon|        1|   2006-08-20|           112|   596|\n",
      "|user_000001|     m|null|  Japan|2006-08-21|  monday   |    night|        1|   2006-08-21|            18|   597|\n",
      "|user_000001|     m|null|  Japan|2006-08-21|  monday   |    night|        2|   2006-08-21|            20|   597|\n",
      "|user_000001|     m|null|  Japan|2006-08-21|  monday   |    night|        3|   2006-08-21|             8|   597|\n",
      "|user_000001|     m|null|  Japan|2006-08-21|  monday   |  morning|        4|   2006-08-21|            22|   597|\n",
      "|user_000001|     m|null|  Japan|2006-08-21|  monday   |     noon|        5|   2006-08-21|            92|   597|\n",
      "|user_000001|     m|null|  Japan|2006-08-21|  monday   |     noon|        6|   2006-08-21|            26|   597|\n",
      "|user_000001|     m|null|  Japan|2006-08-21|  monday   |     noon|        7|   2006-08-21|            42|   597|\n",
      "|user_000001|     m|null|  Japan|2006-08-23|  wednesday|  morning|        1|   2006-08-23|            21|   599|\n",
      "|user_000001|     m|null|  Japan|2006-08-23|  wednesday|     noon|        2|   2006-08-23|            40|   599|\n",
      "|user_000001|     m|null|  Japan|2006-08-23|  wednesday|    night|        3|   2006-08-23|             3|   599|\n",
      "|user_000001|     m|null|  Japan|2006-08-24|  thursday |     noon|        1|   2006-08-24|            16|   600|\n",
      "|user_000001|     m|null|  Japan|2006-08-24|  thursday |     noon|        2|   2006-08-24|            19|   600|\n",
      "+-----------+------+----+-------+----------+-----------+---------+---------+-------------+--------------+------+\n",
      "only showing top 20 rows\n",
      "\n"
     ]
    }
   ],
   "source": [
    "user_session_with_window_df.show()"
   ]
  },
  {
   "cell_type": "code",
   "execution_count": 27,
   "metadata": {},
   "outputs": [],
   "source": [
    "from pyspark.sql.functions import lag\n",
    "\n",
    "df_lag = user_session_with_window_df.withColumn('prev_window',lag(user_session_with_window_df['window']).over(Window.partitionBy(\"userid\").orderBy('sessionid')))\n",
    "\n",
    "user_session_with_window_df = df_lag.withColumn('time_since_last_session', (df_lag['window'] - df_lag['prev_window'])).drop('window').drop('prev_window').withColumnRenamed('time_since_last_session','window')"
   ]
  },
  {
   "cell_type": "code",
   "execution_count": 28,
   "metadata": {},
   "outputs": [
    {
     "name": "stdout",
     "output_type": "stream",
     "text": [
      "+-----------+------+---+-------------+----------+-----------+---------+---------+-------------+--------------+------+\n",
      "|userid     |gender|age|country      |startdate |day_of_week|timeofday|sessionid|session_start|session_length|window|\n",
      "+-----------+------+---+-------------+----------+-----------+---------+---------+-------------+--------------+------+\n",
      "|user_000066|f     |20 |United States|2006-05-09|tuesday    |evening  |1        |2006-05-09   |18            |null  |\n",
      "|user_000066|f     |20 |United States|2006-05-10|wednesday  |night    |1        |2006-05-10   |101           |1     |\n",
      "|user_000066|f     |20 |United States|2006-05-11|thursday   |night    |1        |2006-05-11   |73            |1     |\n",
      "|user_000066|f     |20 |United States|2006-05-12|friday     |night    |1        |2006-05-12   |61            |1     |\n",
      "|user_000066|f     |20 |United States|2006-05-13|saturday   |night    |1        |2006-05-13   |157           |1     |\n",
      "|user_000066|f     |20 |United States|2006-05-14|sunday     |night    |1        |2006-05-14   |24            |1     |\n",
      "|user_000066|f     |20 |United States|2006-05-15|monday     |night    |1        |2006-05-15   |62            |1     |\n",
      "|user_000066|f     |20 |United States|2006-05-16|tuesday    |night    |1        |2006-05-16   |63            |1     |\n",
      "|user_000066|f     |20 |United States|2006-05-17|wednesday  |night    |1        |2006-05-17   |55            |1     |\n",
      "|user_000066|f     |20 |United States|2006-05-18|thursday   |night    |1        |2006-05-18   |85            |1     |\n",
      "|user_000066|f     |20 |United States|2006-05-19|friday     |night    |1        |2006-05-19   |94            |1     |\n",
      "|user_000066|f     |20 |United States|2006-05-20|saturday   |night    |1        |2006-05-20   |113           |1     |\n",
      "|user_000066|f     |20 |United States|2006-05-21|sunday     |noon     |1        |2006-05-21   |3             |1     |\n",
      "|user_000066|f     |20 |United States|2006-05-22|monday     |night    |1        |2006-05-22   |26            |1     |\n",
      "|user_000066|f     |20 |United States|2006-05-23|tuesday    |evening  |1        |2006-05-23   |20            |1     |\n",
      "|user_000066|f     |20 |United States|2006-05-24|wednesday  |night    |1        |2006-05-24   |41            |1     |\n",
      "|user_000066|f     |20 |United States|2006-05-25|thursday   |night    |1        |2006-05-25   |3             |1     |\n",
      "|user_000066|f     |20 |United States|2006-05-26|friday     |night    |1        |2006-05-26   |20            |1     |\n",
      "|user_000066|f     |20 |United States|2006-05-27|saturday   |night    |1        |2006-05-27   |6             |1     |\n",
      "|user_000066|f     |20 |United States|2006-05-28|sunday     |noon     |1        |2006-05-28   |97            |1     |\n",
      "+-----------+------+---+-------------+----------+-----------+---------+---------+-------------+--------------+------+\n",
      "only showing top 20 rows\n",
      "\n"
     ]
    }
   ],
   "source": [
    "user_session_with_window_df.show(20,False)"
   ]
  },
  {
   "cell_type": "code",
   "execution_count": 29,
   "metadata": {},
   "outputs": [
    {
     "name": "stdout",
     "output_type": "stream",
     "text": [
      "+-------+-----------------+\n",
      "|summary|   session_length|\n",
      "+-------+-----------------+\n",
      "|  count|           413598|\n",
      "|   mean|53.46756754142912|\n",
      "| stddev|65.88391982126348|\n",
      "|    min|                3|\n",
      "|    max|              720|\n",
      "+-------+-----------------+\n",
      "\n"
     ]
    }
   ],
   "source": [
    "user_sessions_df.describe('session_length').show()"
   ]
  },
  {
   "cell_type": "code",
   "execution_count": 30,
   "metadata": {},
   "outputs": [
    {
     "name": "stdout",
     "output_type": "stream",
     "text": [
      "+-------+-----------------+\n",
      "|summary|   session_length|\n",
      "+-------+-----------------+\n",
      "|  count|           413598|\n",
      "|   mean|53.46756754142912|\n",
      "| stddev|65.88391982126348|\n",
      "|    min|                3|\n",
      "|    max|              720|\n",
      "+-------+-----------------+\n",
      "\n"
     ]
    }
   ],
   "source": [
    "user_sessions_df.select('session_length').describe().show()\n"
   ]
  },
  {
   "cell_type": "markdown",
   "metadata": {},
   "source": [
    "### EDA"
   ]
  },
  {
   "cell_type": "markdown",
   "metadata": {},
   "source": [
    "#### Explore Distribution of Session Lengths"
   ]
  },
  {
   "cell_type": "code",
   "execution_count": 31,
   "metadata": {},
   "outputs": [],
   "source": [
    "plot_df = user_session_with_window_df.toPandas()"
   ]
  },
  {
   "cell_type": "code",
   "execution_count": 32,
   "metadata": {},
   "outputs": [],
   "source": [
    "plot_df2 = plot_df[['age','day_of_week','timeofday','session_length','gender']].dropna()"
   ]
  },
  {
   "cell_type": "code",
   "execution_count": 33,
   "metadata": {},
   "outputs": [
    {
     "data": {
      "image/png": "[encoded data removed]",
      "text/plain": [
       "<Figure size 765.625x720 with 16 Axes>"
      ]
     },
     "metadata": {},
     "output_type": "display_data"
    }
   ],
   "source": [
    "g = sns.PairGrid(plot_df2, vars=['age', 'gender', 'timeofday', 'session_length'],hue='gender', palette='RdBu_r')\n",
    "g.map(plt.scatter, alpha=0.8)\n",
    "g.add_legend();"
   ]
  },
  {
   "cell_type": "code",
   "execution_count": 34,
   "metadata": {},
   "outputs": [
    {
     "data": {
      "image/png": "[encoded data removed]",
      "text/plain": [
       "<Figure size 2592x1080 with 1 Axes>"
      ]
     },
     "metadata": {},
     "output_type": "display_data"
    }
   ],
   "source": [
    "fig, ax = plt.subplots()\n",
    "fig.set_size_inches(36, 15)\n",
    "sns.countplot(plot_df['session_length'])\n",
    "ax.set_xticklabels(ax.get_xticklabels(), rotation=40, ha=\"right\")\n",
    "plt.show()"
   ]
  },
  {
   "cell_type": "code",
   "execution_count": null,
   "metadata": {},
   "outputs": [],
   "source": []
  },
  {
   "cell_type": "code",
   "execution_count": 35,
   "metadata": {},
   "outputs": [],
   "source": [
    "user_session_with_window_df = user_session_with_window_df.withColumn('log_sess', round(log(col(\"session_length\")),1)).drop('session_length').withColumnRenamed('log_sess','session_length')"
   ]
  },
  {
   "cell_type": "code",
   "execution_count": 36,
   "metadata": {},
   "outputs": [
    {
     "name": "stdout",
     "output_type": "stream",
     "text": [
      "+-----------+------+---+-------------+----------+-----------+---------+---------+-------------+------+--------------+\n",
      "|     userid|gender|age|      country| startdate|day_of_week|timeofday|sessionid|session_start|window|session_length|\n",
      "+-----------+------+---+-------------+----------+-----------+---------+---------+-------------+------+--------------+\n",
      "|user_000066|     f| 20|United States|2006-05-09|  tuesday  |  evening|        1|   2006-05-09|  null|           2.9|\n",
      "|user_000066|     f| 20|United States|2006-05-10|  wednesday|    night|        1|   2006-05-10|     1|           4.6|\n",
      "|user_000066|     f| 20|United States|2006-05-11|  thursday |    night|        1|   2006-05-11|     1|           4.3|\n",
      "|user_000066|     f| 20|United States|2006-05-12|  friday   |    night|        1|   2006-05-12|     1|           4.1|\n",
      "|user_000066|     f| 20|United States|2006-05-13|  saturday |    night|        1|   2006-05-13|     1|           5.1|\n",
      "|user_000066|     f| 20|United States|2006-05-14|  sunday   |    night|        1|   2006-05-14|     1|           3.2|\n",
      "|user_000066|     f| 20|United States|2006-05-15|  monday   |    night|        1|   2006-05-15|     1|           4.1|\n",
      "|user_000066|     f| 20|United States|2006-05-16|  tuesday  |    night|        1|   2006-05-16|     1|           4.1|\n",
      "|user_000066|     f| 20|United States|2006-05-17|  wednesday|    night|        1|   2006-05-17|     1|           4.0|\n",
      "|user_000066|     f| 20|United States|2006-05-18|  thursday |    night|        1|   2006-05-18|     1|           4.4|\n",
      "|user_000066|     f| 20|United States|2006-05-19|  friday   |    night|        1|   2006-05-19|     1|           4.5|\n",
      "|user_000066|     f| 20|United States|2006-05-20|  saturday |    night|        1|   2006-05-20|     1|           4.7|\n",
      "|user_000066|     f| 20|United States|2006-05-21|  sunday   |     noon|        1|   2006-05-21|     1|           1.1|\n",
      "|user_000066|     f| 20|United States|2006-05-22|  monday   |    night|        1|   2006-05-22|     1|           3.3|\n",
      "|user_000066|     f| 20|United States|2006-05-23|  tuesday  |  evening|        1|   2006-05-23|     1|           3.0|\n",
      "|user_000066|     f| 20|United States|2006-05-24|  wednesday|    night|        1|   2006-05-24|     1|           3.7|\n",
      "|user_000066|     f| 20|United States|2006-05-25|  thursday |    night|        1|   2006-05-25|     1|           1.1|\n",
      "|user_000066|     f| 20|United States|2006-05-26|  friday   |    night|        1|   2006-05-26|     1|           3.0|\n",
      "|user_000066|     f| 20|United States|2006-05-27|  saturday |    night|        1|   2006-05-27|     1|           1.8|\n",
      "|user_000066|     f| 20|United States|2006-05-28|  sunday   |     noon|        1|   2006-05-28|     1|           4.6|\n",
      "+-----------+------+---+-------------+----------+-----------+---------+---------+-------------+------+--------------+\n",
      "only showing top 20 rows\n",
      "\n"
     ]
    }
   ],
   "source": [
    "user_session_with_window_df.show()"
   ]
  },
  {
   "cell_type": "code",
   "execution_count": 37,
   "metadata": {},
   "outputs": [],
   "source": [
    "\n",
    "#w = Window.partitionBy(\"userid\").orderBy(\"window\").rowsBetween(Window.unboundedPreceding,Window.currentRow)\n",
    "#(user_session_with_window_df.withColumn(\"cumSum\", sum(\"session_length\").over(w)).show())"
   ]
  },
  {
   "cell_type": "code",
   "execution_count": 38,
   "metadata": {},
   "outputs": [],
   "source": [
    "plot_log_df = user_session_with_window_df.toPandas()"
   ]
  },
  {
   "cell_type": "code",
   "execution_count": 39,
   "metadata": {},
   "outputs": [
    {
     "data": {
      "text/plain": [
       "<matplotlib.axes._subplots.AxesSubplot at 0x7f2bef900350>"
      ]
     },
     "execution_count": 39,
     "metadata": {},
     "output_type": "execute_result"
    },
    {
     "data": {
      "image/png": "[encoded data removed]",
      "text/plain": [
       "<Figure size 1440x1080 with 1 Axes>"
      ]
     },
     "metadata": {},
     "output_type": "display_data"
    }
   ],
   "source": [
    "fig, ax = plt.subplots()\n",
    "fig.set_size_inches(20, 15)\n",
    "sns.countplot(plot_log_df['session_length'])"
   ]
  },
  {
   "cell_type": "code",
   "execution_count": 40,
   "metadata": {},
   "outputs": [
    {
     "name": "stderr",
     "output_type": "stream",
     "text": [
      "/usr/local/lib/python2.7/dist-packages/seaborn/categorical.py:3666: UserWarning: The `factorplot` function has been renamed to `catplot`. The original name will be removed in a future release. Please update your code. Note that the default `kind` in `factorplot` (`'point'`) has changed `'strip'` in `catplot`.\n",
      "  warnings.warn(msg)\n",
      "/usr/local/lib/python2.7/dist-packages/seaborn/categorical.py:3672: UserWarning: The `size` paramter has been renamed to `height`; please update your code.\n",
      "  warnings.warn(msg, UserWarning)\n"
     ]
    },
    {
     "data": {
      "image/png": "[encoded data removed]",
      "text/plain": [
       "<Figure size 1229.75x288 with 1 Axes>"
      ]
     },
     "metadata": {},
     "output_type": "display_data"
    }
   ],
   "source": [
    "with sns.axes_style(style='ticks'):\n",
    "    g = sns.factorplot(\"day_of_week\", \"session_length\", \"timeofday\", data=plot_log_df, kind=\"box\", size=4, aspect=4)\n",
    "    g.set_axis_labels(\"Day of Week\", \"Session Length\")"
   ]
  },
  {
   "cell_type": "code",
   "execution_count": 41,
   "metadata": {},
   "outputs": [
    {
     "data": {
      "text/plain": [
       "<matplotlib.axes._subplots.AxesSubplot at 0x7f2be6abcd90>"
      ]
     },
     "execution_count": 41,
     "metadata": {},
     "output_type": "execute_result"
    },
    {
     "data": {
      "image/png": "[encoded data removed]",
      "text/plain": [
       "<Figure size 1440x432 with 1 Axes>"
      ]
     },
     "metadata": {},
     "output_type": "display_data"
    }
   ],
   "source": [
    "fig, ax = plt.subplots()\n",
    "fig.set_size_inches(20, 6)\n",
    "sns.countplot(plot_df['day_of_week'])"
   ]
  },
  {
   "cell_type": "code",
   "execution_count": 42,
   "metadata": {},
   "outputs": [
    {
     "name": "stdout",
     "output_type": "stream",
     "text": [
      "+---------+------------+\n",
      "|timeofday|num_sessions|\n",
      "+---------+------------+\n",
      "|     noon|      119684|\n",
      "|    night|       78362|\n",
      "|  morning|       96262|\n",
      "|  evening|      119290|\n",
      "+---------+------------+\n",
      "\n"
     ]
    }
   ],
   "source": [
    "sess_tod_df = user_session_with_window_df.groupBy('timeofday').agg(count(\"timeofday\").alias(\"num_sessions\"))\n",
    "sess_tod_df.show()"
   ]
  },
  {
   "cell_type": "code",
   "execution_count": 43,
   "metadata": {},
   "outputs": [],
   "source": [
    "timeofday    = list([x[0] for x in pd.Series(sess_tod_df.select('timeofday').collect())])\n",
    "num_sessions = list([y[0] for y in pd.Series(sess_tod_df.select('num_sessions').collect())])"
   ]
  },
  {
   "cell_type": "code",
   "execution_count": 44,
   "metadata": {},
   "outputs": [
    {
     "data": {
      "text/plain": [
       "<matplotlib.axes._subplots.AxesSubplot at 0x7f2be6a51490>"
      ]
     },
     "execution_count": 44,
     "metadata": {},
     "output_type": "execute_result"
    },
    {
     "data": {
      "image/png": "[encoded data removed]",
      "text/plain": [
       "<Figure size 576x432 with 1 Axes>"
      ]
     },
     "metadata": {},
     "output_type": "display_data"
    }
   ],
   "source": [
    "fig, ax = plt.subplots()\n",
    "fig.set_size_inches(8, 6)\n",
    "sns.countplot(plot_df['timeofday'])"
   ]
  },
  {
   "cell_type": "code",
   "execution_count": 45,
   "metadata": {},
   "outputs": [
    {
     "data": {
      "text/plain": [
       "<matplotlib.axes._subplots.AxesSubplot at 0x7f2c06d93a90>"
      ]
     },
     "execution_count": 45,
     "metadata": {},
     "output_type": "execute_result"
    },
    {
     "data": {
      "image/png": "[encoded data removed]",
      "text/plain": [
       "<Figure size 576x432 with 1 Axes>"
      ]
     },
     "metadata": {},
     "output_type": "display_data"
    }
   ],
   "source": [
    "fig, ax = plt.subplots()\n",
    "fig.set_size_inches(8, 6)\n",
    "sns.countplot(plot_log_df['timeofday'])"
   ]
  },
  {
   "cell_type": "code",
   "execution_count": 46,
   "metadata": {},
   "outputs": [
    {
     "name": "stderr",
     "output_type": "stream",
     "text": [
      "/usr/local/lib/python2.7/dist-packages/seaborn/axisgrid.py:2065: UserWarning: The `size` parameter has been renamed to `height`; pleaes update your code.\n",
      "  warnings.warn(msg, UserWarning)\n"
     ]
    },
    {
     "data": {
      "image/png": "[encoded data removed]",
      "text/plain": [
       "<Figure size 437.75x360 with 6 Axes>"
      ]
     },
     "metadata": {},
     "output_type": "display_data"
    }
   ],
   "source": [
    "\n",
    "sns.pairplot(plot_df2, hue='timeofday', size=2.5)\n",
    "plt.show()"
   ]
  },
  {
   "cell_type": "code",
   "execution_count": 47,
   "metadata": {},
   "outputs": [
    {
     "data": {
      "text/plain": [
       "<seaborn.axisgrid.FacetGrid at 0x7f2be683cf50>"
      ]
     },
     "execution_count": 47,
     "metadata": {},
     "output_type": "execute_result"
    },
    {
     "data": {
      "image/png": "[encoded data removed]",
      "text/plain": [
       "<Figure size 437.75x360 with 1 Axes>"
      ]
     },
     "metadata": {},
     "output_type": "display_data"
    }
   ],
   "source": [
    "sns.lmplot(\"age\", \"session_length\", data=plot_log_df, hue='timeofday', fit_reg=False)"
   ]
  },
  {
   "cell_type": "code",
   "execution_count": 48,
   "metadata": {},
   "outputs": [
    {
     "data": {
      "image/png": "[encoded data removed]",
      "text/plain": [
       "<Figure size 432x432 with 3 Axes>"
      ]
     },
     "metadata": {},
     "output_type": "display_data"
    }
   ],
   "source": [
    "sns.jointplot(\"session_length\", \"age\", data=plot_log_df, kind='reg');"
   ]
  },
  {
   "cell_type": "code",
   "execution_count": 49,
   "metadata": {},
   "outputs": [
    {
     "data": {
      "text/plain": [
       "<matplotlib.axes._subplots.AxesSubplot at 0x7f2be5d66c90>"
      ]
     },
     "execution_count": 49,
     "metadata": {},
     "output_type": "execute_result"
    },
    {
     "data": {
      "image/png": "[encoded data removed]",
      "text/plain": [
       "<Figure size 1728x864 with 1 Axes>"
      ]
     },
     "metadata": {},
     "output_type": "display_data"
    }
   ],
   "source": [
    "fig, ax = plt.subplots()\n",
    "fig.set_size_inches(24, 12)\n",
    "sns.countplot(plot_log_df['age'])"
   ]
  },
  {
   "cell_type": "code",
   "execution_count": 50,
   "metadata": {},
   "outputs": [
    {
     "data": {
      "text/plain": [
       "<matplotlib.axes._subplots.AxesSubplot at 0x7f2be66bc290>"
      ]
     },
     "execution_count": 50,
     "metadata": {},
     "output_type": "execute_result"
    },
    {
     "data": {
      "image/png": "[encoded data removed]",
      "text/plain": [
       "<Figure size 1728x864 with 1 Axes>"
      ]
     },
     "metadata": {},
     "output_type": "display_data"
    }
   ],
   "source": [
    "fig, ax = plt.subplots()\n",
    "fig.set_size_inches(24, 12)\n",
    "sns.barplot(x=\"age\", y=\"session_length\", hue=\"gender\", data=plot_log_df)"
   ]
  },
  {
   "cell_type": "code",
   "execution_count": 51,
   "metadata": {},
   "outputs": [
    {
     "data": {
      "text/plain": [
       "<matplotlib.axes._subplots.AxesSubplot at 0x7f2c0bb88ed0>"
      ]
     },
     "execution_count": 51,
     "metadata": {},
     "output_type": "execute_result"
    },
    {
     "data": {
      "image/png": "[encoded data removed]",
      "text/plain": [
       "<Figure size 864x576 with 1 Axes>"
      ]
     },
     "metadata": {},
     "output_type": "display_data"
    }
   ],
   "source": [
    "fig, ax = plt.subplots()\n",
    "fig.set_size_inches(12, 8)\n",
    "sns.barplot(x=\"day_of_week\", y=\"session_length\", hue=\"gender\", data=plot_log_df)"
   ]
  },
  {
   "cell_type": "code",
   "execution_count": 52,
   "metadata": {},
   "outputs": [
    {
     "data": {
      "text/plain": [
       "<matplotlib.axes._subplots.AxesSubplot at 0x7f2c0b8c9a50>"
      ]
     },
     "execution_count": 52,
     "metadata": {},
     "output_type": "execute_result"
    },
    {
     "data": {
      "image/png": "[encoded data removed]",
      "text/plain": [
       "<Figure size 864x576 with 1 Axes>"
      ]
     },
     "metadata": {},
     "output_type": "display_data"
    }
   ],
   "source": [
    "fig, ax = plt.subplots()\n",
    "fig.set_size_inches(12, 8)\n",
    "sns.barplot(x=\"timeofday\", y=\"session_length\", hue=\"gender\", data=plot_log_df)"
   ]
  },
  {
   "cell_type": "code",
   "execution_count": 53,
   "metadata": {},
   "outputs": [
    {
     "name": "stderr",
     "output_type": "stream",
     "text": [
      "/usr/local/lib/python2.7/dist-packages/statsmodels/nonparametric/kde.py:454: RuntimeWarning: invalid value encountered in greater\n",
      "  X = X[np.logical_and(X>clip[0], X<clip[1])] # won't work for two columns.\n",
      "/usr/local/lib/python2.7/dist-packages/statsmodels/nonparametric/kde.py:454: RuntimeWarning: invalid value encountered in less\n",
      "  X = X[np.logical_and(X>clip[0], X<clip[1])] # won't work for two columns.\n"
     ]
    },
    {
     "data": {
      "image/png": "[encoded data removed]",
      "text/plain": [
       "<Figure size 1728x864 with 1 Axes>"
      ]
     },
     "metadata": {},
     "output_type": "display_data"
    }
   ],
   "source": [
    "cols = ['age']\n",
    "fig, ax = plt.subplots()\n",
    "fig.set_size_inches(24, 12)\n",
    "for col in cols:\n",
    "    sns.kdeplot(plot_log_df[col], shade=True)"
   ]
  },
  {
   "cell_type": "code",
   "execution_count": 54,
   "metadata": {},
   "outputs": [],
   "source": [
    "#sns.kdeplot(plot_log_df.session_length[plot_log_df.gender=='M'], label='men', shade=True)\n",
    "#sns.kdeplot(plot_log_df.session_length[plot_log_df.gender=='W'], label='women', shade=True)\n",
    "#plt.xlabel('split_frac');"
   ]
  },
  {
   "cell_type": "code",
   "execution_count": null,
   "metadata": {},
   "outputs": [],
   "source": []
  },
  {
   "cell_type": "code",
   "execution_count": 55,
   "metadata": {},
   "outputs": [
    {
     "data": {
      "image/png": "[encoded data removed]",
      "text/plain": [
       "<Figure size 2592x1080 with 1 Axes>"
      ]
     },
     "metadata": {},
     "output_type": "display_data"
    }
   ],
   "source": [
    "fig, ax = plt.subplots()\n",
    "fig.set_size_inches(36, 15)\n",
    "sns.countplot(plot_log_df['country'], order = plot_log_df['country'].value_counts().index)\n",
    "ax.set_xticklabels(ax.get_xticklabels(), rotation=40, ha=\"right\")\n",
    "plt.show()"
   ]
  },
  {
   "cell_type": "code",
   "execution_count": null,
   "metadata": {},
   "outputs": [],
   "source": []
  },
  {
   "cell_type": "code",
   "execution_count": 56,
   "metadata": {},
   "outputs": [
    {
     "data": {
      "image/png": "[encoded data removed]",
      "text/plain": [
       "<Figure size 2381.75x288 with 1 Axes>"
      ]
     },
     "metadata": {},
     "output_type": "display_data"
    }
   ],
   "source": [
    "with sns.axes_style(style='ticks'):\n",
    "    g = sns.factorplot(\"day_of_week\", \"session_length\", \"timeofday\", data=plot_df, kind=\"box\", size=4, aspect=8)\n",
    "    g.set_axis_labels(\"Day of Week\", \"Session Length\")"
   ]
  },
  {
   "cell_type": "code",
   "execution_count": 57,
   "metadata": {},
   "outputs": [
    {
     "data": {
      "image/png": "[encoded data removed]",
      "text/plain": [
       "<Figure size 1517.75x360 with 1 Axes>"
      ]
     },
     "metadata": {},
     "output_type": "display_data"
    }
   ],
   "source": [
    "with sns.axes_style('white'):\n",
    "    g = sns.factorplot(\"day_of_week\", data=plot_log_df, aspect=4.0, kind='count',\n",
    "                       hue='timeofday')\n",
    "    g.set_ylabels('Session Length')"
   ]
  },
  {
   "cell_type": "code",
   "execution_count": 58,
   "metadata": {},
   "outputs": [
    {
     "data": {
      "text/plain": [
       "[5.4, 5.1, 3.8, 4.5, 4.7]"
      ]
     },
     "execution_count": 58,
     "metadata": {},
     "output_type": "execute_result"
    }
   ],
   "source": [
    "data = user_session_with_window_df.select('session_length').rdd.map(lambda row: row.session_length).collect()\n",
    "data[:5]"
   ]
  },
  {
   "cell_type": "code",
   "execution_count": 59,
   "metadata": {},
   "outputs": [],
   "source": [
    "data = pd.DataFrame(data,columns=['session_length']).iloc[:,0]"
   ]
  },
  {
   "cell_type": "code",
   "execution_count": 60,
   "metadata": {},
   "outputs": [
    {
     "data": {
      "text/plain": [
       "0    5.4\n",
       "1    5.1\n",
       "2    3.8\n",
       "3    4.5\n",
       "4    4.7\n",
       "Name: session_length, dtype: float64"
      ]
     },
     "execution_count": 60,
     "metadata": {},
     "output_type": "execute_result"
    }
   ],
   "source": [
    "data.head()"
   ]
  },
  {
   "cell_type": "code",
   "execution_count": 61,
   "metadata": {},
   "outputs": [
    {
     "data": {
      "text/plain": [
       "count    413598.000000\n",
       "mean          3.247923\n",
       "std           1.333481\n",
       "min           1.100000\n",
       "25%           2.200000\n",
       "50%           3.500000\n",
       "75%           4.300000\n",
       "max           6.600000\n",
       "Name: session_length, dtype: float64"
      ]
     },
     "execution_count": 61,
     "metadata": {},
     "output_type": "execute_result"
    }
   ],
   "source": [
    "data.describe()"
   ]
  },
  {
   "cell_type": "code",
   "execution_count": 62,
   "metadata": {},
   "outputs": [
    {
     "data": {
      "text/plain": [
       "[1.1, 1.1, 1.8, 2.6, 3.1, 3.5, 3.8, 4.1, 4.4, 4.9]"
      ]
     },
     "execution_count": 62,
     "metadata": {},
     "output_type": "execute_result"
    }
   ],
   "source": [
    "deciles = list(np.percentile(data, np.arange(0, 100, 10)))\n",
    "deciles"
   ]
  },
  {
   "cell_type": "markdown",
   "metadata": {},
   "source": [
    "#### Add Quantile Bucketized Column"
   ]
  },
  {
   "cell_type": "code",
   "execution_count": 63,
   "metadata": {},
   "outputs": [
    {
     "data": {
      "text/plain": [
       "51"
      ]
     },
     "execution_count": 63,
     "metadata": {},
     "output_type": "execute_result"
    }
   ],
   "source": [
    "num_windows = int(user_session_with_window_df.select('session_length').distinct().count())\n",
    "num_windows"
   ]
  },
  {
   "cell_type": "code",
   "execution_count": 64,
   "metadata": {},
   "outputs": [],
   "source": [
    "num_buckets = 10"
   ]
  },
  {
   "cell_type": "code",
   "execution_count": 65,
   "metadata": {},
   "outputs": [
    {
     "name": "stdout",
     "output_type": "stream",
     "text": [
      "+-----------+------+---+-------------+----------+-----------+---------+---------+-------------+------+--------------+------+\n",
      "|     userid|gender|age|      country| startdate|day_of_week|timeofday|sessionid|session_start|window|session_length|decile|\n",
      "+-----------+------+---+-------------+----------+-----------+---------+---------+-------------+------+--------------+------+\n",
      "|user_000066|     f| 20|United States|2006-05-09|  tuesday  |  evening|        1|   2006-05-09|  null|           2.9|   3.0|\n",
      "|user_000066|     f| 20|United States|2006-05-10|  wednesday|    night|        1|   2006-05-10|     1|           4.6|   8.0|\n",
      "|user_000066|     f| 20|United States|2006-05-11|  thursday |    night|        1|   2006-05-11|     1|           4.3|   7.0|\n",
      "|user_000066|     f| 20|United States|2006-05-12|  friday   |    night|        1|   2006-05-12|     1|           4.1|   7.0|\n",
      "|user_000066|     f| 20|United States|2006-05-13|  saturday |    night|        1|   2006-05-13|     1|           5.1|   9.0|\n",
      "|user_000066|     f| 20|United States|2006-05-14|  sunday   |    night|        1|   2006-05-14|     1|           3.2|   4.0|\n",
      "|user_000066|     f| 20|United States|2006-05-15|  monday   |    night|        1|   2006-05-15|     1|           4.1|   7.0|\n",
      "|user_000066|     f| 20|United States|2006-05-16|  tuesday  |    night|        1|   2006-05-16|     1|           4.1|   7.0|\n",
      "|user_000066|     f| 20|United States|2006-05-17|  wednesday|    night|        1|   2006-05-17|     1|           4.0|   6.0|\n",
      "|user_000066|     f| 20|United States|2006-05-18|  thursday |    night|        1|   2006-05-18|     1|           4.4|   8.0|\n",
      "|user_000066|     f| 20|United States|2006-05-19|  friday   |    night|        1|   2006-05-19|     1|           4.5|   8.0|\n",
      "|user_000066|     f| 20|United States|2006-05-20|  saturday |    night|        1|   2006-05-20|     1|           4.7|   8.0|\n",
      "|user_000066|     f| 20|United States|2006-05-21|  sunday   |     noon|        1|   2006-05-21|     1|           1.1|   1.0|\n",
      "|user_000066|     f| 20|United States|2006-05-22|  monday   |    night|        1|   2006-05-22|     1|           3.3|   4.0|\n",
      "|user_000066|     f| 20|United States|2006-05-23|  tuesday  |  evening|        1|   2006-05-23|     1|           3.0|   3.0|\n",
      "|user_000066|     f| 20|United States|2006-05-24|  wednesday|    night|        1|   2006-05-24|     1|           3.7|   5.0|\n",
      "|user_000066|     f| 20|United States|2006-05-25|  thursday |    night|        1|   2006-05-25|     1|           1.1|   1.0|\n",
      "|user_000066|     f| 20|United States|2006-05-26|  friday   |    night|        1|   2006-05-26|     1|           3.0|   3.0|\n",
      "|user_000066|     f| 20|United States|2006-05-27|  saturday |    night|        1|   2006-05-27|     1|           1.8|   2.0|\n",
      "|user_000066|     f| 20|United States|2006-05-28|  sunday   |     noon|        1|   2006-05-28|     1|           4.6|   8.0|\n",
      "+-----------+------+---+-------------+----------+-----------+---------+---------+-------------+------+--------------+------+\n",
      "only showing top 20 rows\n",
      "\n"
     ]
    }
   ],
   "source": [
    "session_length_bucketizer = QuantileDiscretizer(numBuckets=num_buckets, inputCol=\"session_length\", outputCol=\"decile\", relativeError=0.01, handleInvalid=\"error\")\n",
    "bucketizer = session_length_bucketizer.fit(user_session_with_window_df)\n",
    "user_session_with_window_bucketized_df = bucketizer.setHandleInvalid(\"skip\").transform(user_session_with_window_df)\n",
    "user_session_with_window_bucketized_df.show()\n"
   ]
  },
  {
   "cell_type": "code",
   "execution_count": 66,
   "metadata": {},
   "outputs": [
    {
     "name": "stdout",
     "output_type": "stream",
     "text": [
      "root\n",
      " |-- userid: string (nullable = true)\n",
      " |-- gender: string (nullable = true)\n",
      " |-- age: integer (nullable = true)\n",
      " |-- country: string (nullable = true)\n",
      " |-- startdate: date (nullable = true)\n",
      " |-- day_of_week: string (nullable = true)\n",
      " |-- timeofday: string (nullable = true)\n",
      " |-- sessionid: integer (nullable = true)\n",
      " |-- session_start: date (nullable = true)\n",
      " |-- window: integer (nullable = true)\n",
      " |-- session_length: double (nullable = true)\n",
      " |-- decile: double (nullable = true)\n",
      "\n"
     ]
    }
   ],
   "source": [
    "user_session_with_window_bucketized_df.printSchema()"
   ]
  },
  {
   "cell_type": "code",
   "execution_count": 67,
   "metadata": {},
   "outputs": [
    {
     "data": {
      "text/plain": [
       "[1.1, 1.1, 1.8, 2.6, 3.1, 3.5, 3.8, 4.1, 4.4, 4.9]"
      ]
     },
     "execution_count": 67,
     "metadata": {},
     "output_type": "execute_result"
    }
   ],
   "source": [
    "deciles"
   ]
  },
  {
   "cell_type": "code",
   "execution_count": 68,
   "metadata": {},
   "outputs": [],
   "source": [
    "decile_dict = {1.0:\"<5_mins\",2.0:\"<5_mins\",3.0:\"<10_mins\",4.0:\"<20_mins\",5.0:\"<30_mins\",6.0:\"<40_mins\",7.0:\"<1_hour\",8.0:\"<1.5_hours\",9.0:\"<2_hours\",10.0:\">3_hours\"}"
   ]
  },
  {
   "cell_type": "code",
   "execution_count": 69,
   "metadata": {},
   "outputs": [
    {
     "data": {
      "text/plain": [
       "{1.0: '<5_mins',\n",
       " 2.0: '<5_mins',\n",
       " 3.0: '<10_mins',\n",
       " 4.0: '<20_mins',\n",
       " 5.0: '<30_mins',\n",
       " 6.0: '<40_mins',\n",
       " 7.0: '<1_hour',\n",
       " 8.0: '<1.5_hours',\n",
       " 9.0: '<2_hours',\n",
       " 10.0: '>3_hours'}"
      ]
     },
     "execution_count": 69,
     "metadata": {},
     "output_type": "execute_result"
    }
   ],
   "source": [
    "decile_dict"
   ]
  },
  {
   "cell_type": "code",
   "execution_count": 70,
   "metadata": {},
   "outputs": [],
   "source": [
    "def get_description(decile):\n",
    "    try:\n",
    "        return decile_dict[decile]\n",
    "    except:\n",
    "        return None"
   ]
  },
  {
   "cell_type": "code",
   "execution_count": 71,
   "metadata": {},
   "outputs": [
    {
     "data": {
      "text/plain": [
       "'<5_mins'"
      ]
     },
     "execution_count": 71,
     "metadata": {},
     "output_type": "execute_result"
    }
   ],
   "source": [
    "get_description(1.0)"
   ]
  },
  {
   "cell_type": "code",
   "execution_count": 72,
   "metadata": {},
   "outputs": [],
   "source": [
    "get_desc = udf(lambda bucket: get_description(bucket), returnType=StringType())"
   ]
  },
  {
   "cell_type": "code",
   "execution_count": 73,
   "metadata": {},
   "outputs": [],
   "source": [
    "user_session_with_window_bucketized_descr_df = user_session_with_window_bucketized_df.withColumn('description', get_desc('decile'))"
   ]
  },
  {
   "cell_type": "code",
   "execution_count": 74,
   "metadata": {},
   "outputs": [
    {
     "name": "stdout",
     "output_type": "stream",
     "text": [
      "+-----------+------+---+-------------+----------+-----------+---------+---------+-------------+------+--------------+------+-----------+\n",
      "|     userid|gender|age|      country| startdate|day_of_week|timeofday|sessionid|session_start|window|session_length|decile|description|\n",
      "+-----------+------+---+-------------+----------+-----------+---------+---------+-------------+------+--------------+------+-----------+\n",
      "|user_000066|     f| 20|United States|2006-05-09|  tuesday  |  evening|        1|   2006-05-09|  null|           2.9|   3.0|   <10_mins|\n",
      "|user_000066|     f| 20|United States|2006-05-10|  wednesday|    night|        1|   2006-05-10|     1|           4.6|   8.0| <1.5_hours|\n",
      "|user_000066|     f| 20|United States|2006-05-11|  thursday |    night|        1|   2006-05-11|     1|           4.3|   7.0|    <1_hour|\n",
      "|user_000066|     f| 20|United States|2006-05-12|  friday   |    night|        1|   2006-05-12|     1|           4.1|   7.0|    <1_hour|\n",
      "|user_000066|     f| 20|United States|2006-05-13|  saturday |    night|        1|   2006-05-13|     1|           5.1|   9.0|   <2_hours|\n",
      "|user_000066|     f| 20|United States|2006-05-14|  sunday   |    night|        1|   2006-05-14|     1|           3.2|   4.0|   <20_mins|\n",
      "|user_000066|     f| 20|United States|2006-05-15|  monday   |    night|        1|   2006-05-15|     1|           4.1|   7.0|    <1_hour|\n",
      "|user_000066|     f| 20|United States|2006-05-16|  tuesday  |    night|        1|   2006-05-16|     1|           4.1|   7.0|    <1_hour|\n",
      "|user_000066|     f| 20|United States|2006-05-17|  wednesday|    night|        1|   2006-05-17|     1|           4.0|   6.0|   <40_mins|\n",
      "|user_000066|     f| 20|United States|2006-05-18|  thursday |    night|        1|   2006-05-18|     1|           4.4|   8.0| <1.5_hours|\n",
      "|user_000066|     f| 20|United States|2006-05-19|  friday   |    night|        1|   2006-05-19|     1|           4.5|   8.0| <1.5_hours|\n",
      "|user_000066|     f| 20|United States|2006-05-20|  saturday |    night|        1|   2006-05-20|     1|           4.7|   8.0| <1.5_hours|\n",
      "|user_000066|     f| 20|United States|2006-05-21|  sunday   |     noon|        1|   2006-05-21|     1|           1.1|   1.0|    <5_mins|\n",
      "|user_000066|     f| 20|United States|2006-05-22|  monday   |    night|        1|   2006-05-22|     1|           3.3|   4.0|   <20_mins|\n",
      "|user_000066|     f| 20|United States|2006-05-23|  tuesday  |  evening|        1|   2006-05-23|     1|           3.0|   3.0|   <10_mins|\n",
      "|user_000066|     f| 20|United States|2006-05-24|  wednesday|    night|        1|   2006-05-24|     1|           3.7|   5.0|   <30_mins|\n",
      "|user_000066|     f| 20|United States|2006-05-25|  thursday |    night|        1|   2006-05-25|     1|           1.1|   1.0|    <5_mins|\n",
      "|user_000066|     f| 20|United States|2006-05-26|  friday   |    night|        1|   2006-05-26|     1|           3.0|   3.0|   <10_mins|\n",
      "|user_000066|     f| 20|United States|2006-05-27|  saturday |    night|        1|   2006-05-27|     1|           1.8|   2.0|    <5_mins|\n",
      "|user_000066|     f| 20|United States|2006-05-28|  sunday   |     noon|        1|   2006-05-28|     1|           4.6|   8.0| <1.5_hours|\n",
      "+-----------+------+---+-------------+----------+-----------+---------+---------+-------------+------+--------------+------+-----------+\n",
      "only showing top 20 rows\n",
      "\n"
     ]
    }
   ],
   "source": [
    "user_session_with_window_bucketized_descr_df.show()"
   ]
  },
  {
   "cell_type": "code",
   "execution_count": 75,
   "metadata": {},
   "outputs": [],
   "source": [
    "train_data = None\n",
    "dev_data = None\n",
    "test_data = None"
   ]
  },
  {
   "cell_type": "code",
   "execution_count": 76,
   "metadata": {},
   "outputs": [
    {
     "name": "stdout",
     "output_type": "stream",
     "text": [
      "root\n",
      " |-- userid: string (nullable = true)\n",
      " |-- gender: string (nullable = true)\n",
      " |-- age: integer (nullable = true)\n",
      " |-- country: string (nullable = true)\n",
      " |-- startdate: date (nullable = true)\n",
      " |-- day_of_week: string (nullable = true)\n",
      " |-- timeofday: string (nullable = true)\n",
      " |-- sessionid: integer (nullable = true)\n",
      " |-- session_start: date (nullable = true)\n",
      " |-- window: integer (nullable = true)\n",
      " |-- session_length: double (nullable = true)\n",
      " |-- decile: double (nullable = true)\n",
      " |-- description: string (nullable = true)\n",
      "\n"
     ]
    }
   ],
   "source": [
    "user_session_with_window_bucketized_descr_df.printSchema()"
   ]
  },
  {
   "cell_type": "code",
   "execution_count": 77,
   "metadata": {},
   "outputs": [],
   "source": [
    "from pyspark.sql.functions import percent_rank\n",
    "\n",
    "def get_train_dev_test_data():\n",
    "    print(\"==================================================================================================================\")\n",
    "    print(\"============================================     CREATE TRAIN/DEV/TEST SETS      =================================\")\n",
    "    print(\"==================================================================================================================\\n\\n\")\n",
    "    global train_data, dev_data, test_data\n",
    "    global user_session_with_window_df\n",
    "    \n",
    "    print(\"SESSION_DATA_WITH_WINDOW_BUCKETIZED_DESCR_DF.USERID.COUNT():\\t{}\".format(user_session_with_window_bucketized_descr_df.select(\"userid\").distinct().count()))\n",
    "    session_data = user_session_with_window_bucketized_descr_df.select(\"userid\",\"country\", \"day_of_week\", \"timeofday\", \"sessionid\",\"window\",\"description\").na.drop()\n",
    "    print(\"SESSION_DATA.USERID.COUNT():\\t{}\".format(session_data.select(\"userid\").distinct().count()))\n",
    "    categoricalColumns = [\"userid\",\"country\", \"day_of_week\", \"timeofday\"]\n",
    "    cols = session_data.columns\n",
    "    stages =[]\n",
    "    for categoricalCol in categoricalColumns:\n",
    "        stringIndexer  = StringIndexer(inputCol=categoricalCol, outputCol=categoricalCol+\"Index\")\n",
    "        encoder = OneHotEncoderEstimator(inputCols=[stringIndexer.getOutputCol()], outputCols=[categoricalCol+\"classVec\"])\n",
    "        stages += [stringIndexer,encoder]\n",
    "    label_stringIdx = StringIndexer(inputCol=\"description\", outputCol=\"label\")\n",
    "    stages += [label_stringIdx]\n",
    "    numericCols = [\"sessionid\",\"window\"]\n",
    "    assemblerInputs = [c + \"classVec\" for c in categoricalColumns] + numericCols\n",
    "    assembler = VectorAssembler(inputCols=assemblerInputs, outputCol=\"features\")\n",
    "    stages += [assembler]\n",
    "    pipeline = Pipeline(stages=stages)\n",
    "    pipelineModel = pipeline.fit(session_data)\n",
    "    session_data = pipelineModel.transform(session_data)\n",
    "    selectedcols = [\"label\",\"features\"] + cols\n",
    "    session_data = session_data.select(selectedcols)\n",
    "    print(\"************************************       DATA BEFORE TRAIN/DEV/TEST SPLIT     *************************************\")\n",
    "    session_data.show(5,False)\n",
    "    print(\"************************************           Splitting Train/Test data        *************************************\")\n",
    "    #train_data, dev_data, test_data = session_data.randomSplit([0.65, 0.2, 0.15])\n",
    "    \n",
    "    print(\"SESSION_DATA.COUNT():\\t{}\".format(session_data.count()))\n",
    "    print(\"SESSION_DATA.USERID.COUNT():\\t{}\".format(session_data.select(\"userid\").distinct().count()))\n",
    "\n",
    "    session_data_df = session_data.withColumn(\"rank\", percent_rank().over(Window.partitionBy().orderBy(\"userid\")))\n",
    "    train_data = session_data_df.where(\"rank <= .65\").drop(\"rank\")\n",
    "    #train_data.show()\n",
    "    dev_data = session_data_df.where((\"rank > .65\") and (\"rank < 0.799\")).drop(\"rank\")\n",
    "    #dev_data.show()\n",
    "    test_data = session_data_df.where(\"rank > .80\").drop(\"rank\")\n",
    "    #test_data.show()"
   ]
  },
  {
   "cell_type": "code",
   "execution_count": 78,
   "metadata": {},
   "outputs": [
    {
     "name": "stdout",
     "output_type": "stream",
     "text": [
      "==================================================================================================================\n",
      "============================================     CREATE TRAIN/DEV/TEST SETS      =================================\n",
      "==================================================================================================================\n",
      "\n",
      "\n",
      "SESSION_DATA_WITH_WINDOW_BUCKETIZED_DESCR_DF.USERID.COUNT():\t564\n",
      "SESSION_DATA.USERID.COUNT():\t504\n",
      "************************************       DATA BEFORE TRAIN/DEV/TEST SPLIT     *************************************\n",
      "+-----+-------------------------------------------------+-----------+-------------+-----------+---------+---------+------+-----------+\n",
      "|label|features                                         |userid     |country      |day_of_week|timeofday|sessionid|window|description|\n",
      "+-----+-------------------------------------------------+-----------+-------------+-----------+---------+---------+------+-----------+\n",
      "|1.0  |(568,[366,503,559,566,567],[1.0,1.0,1.0,1.0,1.0])|user_000066|United States|wednesday  |night    |1        |1     |<1.5_hours |\n",
      "|7.0  |(568,[366,503,560,566,567],[1.0,1.0,1.0,1.0,1.0])|user_000066|United States|thursday   |night    |1        |1     |<1_hour    |\n",
      "|7.0  |(568,[366,503,561,566,567],[1.0,1.0,1.0,1.0,1.0])|user_000066|United States|friday     |night    |1        |1     |<1_hour    |\n",
      "|3.0  |(568,[366,503,566,567],[1.0,1.0,1.0,1.0])        |user_000066|United States|saturday   |night    |1        |1     |<2_hours   |\n",
      "|4.0  |(568,[366,503,562,566,567],[1.0,1.0,1.0,1.0,1.0])|user_000066|United States|sunday     |night    |1        |1     |<20_mins   |\n",
      "+-----+-------------------------------------------------+-----------+-------------+-----------+---------+---------+------+-----------+\n",
      "only showing top 5 rows\n",
      "\n",
      "************************************           Splitting Train/Test data        *************************************\n",
      "SESSION_DATA.COUNT():\t384928\n",
      "SESSION_DATA.USERID.COUNT():\t504\n"
     ]
    }
   ],
   "source": [
    "get_train_dev_test_data()"
   ]
  },
  {
   "cell_type": "code",
   "execution_count": 79,
   "metadata": {},
   "outputs": [
    {
     "name": "stdout",
     "output_type": "stream",
     "text": [
      "+-----+---------------------------------------------------------+-----------+-------+-----------+---------+---------+------+-----------+\n",
      "|label|features                                                 |userid     |country|day_of_week|timeofday|sessionid|window|description|\n",
      "+-----+---------------------------------------------------------+-----------+-------+-----------+---------+---------+------+-----------+\n",
      "|3.0  |(568,[125,536,557,565,566,567],[1.0,1.0,1.0,1.0,1.0,2.0])|user_000001|Japan  |tuesday    |morning  |1        |2     |<2_hours   |\n",
      "|5.0  |(568,[125,536,559,565,566,567],[1.0,1.0,1.0,1.0,1.0,1.0])|user_000001|Japan  |wednesday  |morning  |1        |1     |<40_mins   |\n",
      "|1.0  |(568,[125,536,560,563,566,567],[1.0,1.0,1.0,1.0,1.0,1.0])|user_000001|Japan  |thursday   |noon     |1        |1     |<1.5_hours |\n",
      "|5.0  |(568,[125,536,561,564,566,567],[1.0,1.0,1.0,1.0,1.0,1.0])|user_000001|Japan  |friday     |evening  |1        |1     |<40_mins   |\n",
      "|1.0  |(568,[125,536,565,566,567],[1.0,1.0,1.0,1.0,1.0])        |user_000001|Japan  |saturday   |morning  |1        |1     |<1.5_hours |\n",
      "+-----+---------------------------------------------------------+-----------+-------+-----------+---------+---------+------+-----------+\n",
      "only showing top 5 rows\n",
      "\n"
     ]
    }
   ],
   "source": [
    "train_data.show(5,False)"
   ]
  },
  {
   "cell_type": "code",
   "execution_count": 80,
   "metadata": {},
   "outputs": [
    {
     "name": "stdout",
     "output_type": "stream",
     "text": [
      "+-----+---------------------------------------------------------+-----------+-------+-----------+---------+---------+------+-----------+\n",
      "|label|features                                                 |userid     |country|day_of_week|timeofday|sessionid|window|description|\n",
      "+-----+---------------------------------------------------------+-----------+-------+-----------+---------+---------+------+-----------+\n",
      "|3.0  |(568,[125,536,557,565,566,567],[1.0,1.0,1.0,1.0,1.0,2.0])|user_000001|Japan  |tuesday    |morning  |1        |2     |<2_hours   |\n",
      "|5.0  |(568,[125,536,559,565,566,567],[1.0,1.0,1.0,1.0,1.0,1.0])|user_000001|Japan  |wednesday  |morning  |1        |1     |<40_mins   |\n",
      "|1.0  |(568,[125,536,560,563,566,567],[1.0,1.0,1.0,1.0,1.0,1.0])|user_000001|Japan  |thursday   |noon     |1        |1     |<1.5_hours |\n",
      "|5.0  |(568,[125,536,561,564,566,567],[1.0,1.0,1.0,1.0,1.0,1.0])|user_000001|Japan  |friday     |evening  |1        |1     |<40_mins   |\n",
      "|1.0  |(568,[125,536,565,566,567],[1.0,1.0,1.0,1.0,1.0])        |user_000001|Japan  |saturday   |morning  |1        |1     |<1.5_hours |\n",
      "+-----+---------------------------------------------------------+-----------+-------+-----------+---------+---------+------+-----------+\n",
      "only showing top 5 rows\n",
      "\n"
     ]
    }
   ],
   "source": [
    "dev_data.show(5,False)"
   ]
  },
  {
   "cell_type": "code",
   "execution_count": 81,
   "metadata": {},
   "outputs": [
    {
     "name": "stdout",
     "output_type": "stream",
     "text": [
      "+-----+------------------------------------------------+-----------+-------------+-----------+---------+---------+------+-----------+\n",
      "|label|features                                        |userid     |country      |day_of_week|timeofday|sessionid|window|description|\n",
      "+-----+------------------------------------------------+-----------+-------------+-----------+---------+---------+------+-----------+\n",
      "|5.0  |(568,[35,503,559,566,567],[1.0,1.0,1.0,1.0,1.0])|user_000782|United States|wednesday  |night    |1        |1     |<40_mins   |\n",
      "|3.0  |(568,[35,503,560,566,567],[1.0,1.0,1.0,1.0,1.0])|user_000782|United States|thursday   |night    |1        |1     |<2_hours   |\n",
      "|0.0  |(568,[35,503,561,566,567],[1.0,1.0,1.0,1.0,1.0])|user_000782|United States|friday     |night    |1        |1     |<5_mins    |\n",
      "|6.0  |(568,[35,503,562,566,567],[1.0,1.0,1.0,1.0,2.0])|user_000782|United States|sunday     |night    |1        |2     |<30_mins   |\n",
      "|5.0  |(568,[35,503,558,566,567],[1.0,1.0,1.0,1.0,1.0])|user_000782|United States|monday     |night    |1        |1     |<40_mins   |\n",
      "+-----+------------------------------------------------+-----------+-------------+-----------+---------+---------+------+-----------+\n",
      "only showing top 5 rows\n",
      "\n"
     ]
    }
   ],
   "source": [
    "test_data.show(5,False)"
   ]
  },
  {
   "cell_type": "markdown",
   "metadata": {},
   "source": [
    "### BASELINE DL model with Multinomial Naive Bayes"
   ]
  },
  {
   "cell_type": "code",
   "execution_count": 82,
   "metadata": {},
   "outputs": [],
   "source": [
    "smoothings  = [0.1,0.2,0.3,0.4,0.5,0.6,0.7,0.8,0.9,1.0]"
   ]
  },
  {
   "cell_type": "code",
   "execution_count": 83,
   "metadata": {},
   "outputs": [],
   "source": [
    "mnbModel = None"
   ]
  },
  {
   "cell_type": "code",
   "execution_count": 84,
   "metadata": {},
   "outputs": [],
   "source": [
    "def mnb_classifier(smoothing):\n",
    "    global mnbModel\n",
    "    global lr_results\n",
    "    global train_data, dev_data, test_data\n",
    "    mnb = NaiveBayes(smoothing=smoothing, modelType=\"multinomial\")\n",
    "    #print(\"---------------------------------  Fitting Model to TRAIN  ---------------------------\")\n",
    "    mnbModel = mnb.fit(train_data)\n",
    "    #print(\"---------------------------------  Generating Predictions  ---------------------------\")\n",
    "    predictions = mnbModel.transform(dev_data)\n",
    "    selected = predictions.select(\"label\", \"prediction\", \"userid\", \"country\", \"day_of_week\", \"timeofday\", \"sessionid\",\"window\")\n",
    "    evaluator = MulticlassClassificationEvaluator().setMetricName('accuracy').setLabelCol('label').setPredictionCol(\"prediction\")\n",
    "    #print(\"---------------------------------  Evaluating Model     ------------------------------\")\n",
    "    result = evaluator.evaluate(mnbModel.transform(dev_data))\n",
    "    #result.select(\"features\",\"label\",\"prediction\").show(5,False)\n",
    "    mnb_results.update({smoothing:result})\n"
   ]
  },
  {
   "cell_type": "code",
   "execution_count": 85,
   "metadata": {},
   "outputs": [],
   "source": [
    "def eval_mnb_classifier():\n",
    "    print(\"###########################################################################################\")\n",
    "    print(\"############################     MULTINOMIAL NAIVE BAYES CLASSIFIER      ##################\")\n",
    "    print(\"###########################################################################################\")\n",
    "    print(\"\\tSMOOTHING\\tACCURACY\")\n",
    "    for smoothing in smoothings:\n",
    "        mnb_classifier(smoothing)\n",
    "        print(\"\\t{}\\t\\t{}\".format(smoothing, mnb_results[smoothing]))\n",
    "        "
   ]
  },
  {
   "cell_type": "code",
   "execution_count": 86,
   "metadata": {},
   "outputs": [],
   "source": [
    "mnb_results = dict()\n",
    "\n",
    "#eval_mnb_classifier()"
   ]
  },
  {
   "cell_type": "code",
   "execution_count": null,
   "metadata": {},
   "outputs": [],
   "source": []
  },
  {
   "cell_type": "markdown",
   "metadata": {},
   "source": [
    "### BASELINE DL model with Multinomial Logistic Regression"
   ]
  },
  {
   "cell_type": "code",
   "execution_count": 87,
   "metadata": {},
   "outputs": [],
   "source": [
    "lrModel = None"
   ]
  },
  {
   "cell_type": "code",
   "execution_count": 88,
   "metadata": {},
   "outputs": [],
   "source": [
    "def logistic_classifier(regparam, elasticnetparam):\n",
    "    global lrModel\n",
    "    global lr_results\n",
    "    global train_data, dev_data, test_data\n",
    "    lr = LogisticRegression(labelCol=\"label\", featuresCol=\"features\", maxIter=10, regParam=regparam, elasticNetParam=elasticnetparam)\n",
    "    #print(\"---------------------------------  Fitting Model to TRAIN  ---------------------------\")\n",
    "    lrModel = lr.fit(train_data)\n",
    "    #print(\"---------------------------------  Generating Predictions  ---------------------------\")\n",
    "    predictions = lrModel.transform(dev_data)\n",
    "    selected = predictions.select(\"label\", \"prediction\", \"userid\",  \"country\", \"day_of_week\", \"timeofday\", \"sessionid\",\"window\")\n",
    "    evaluator = MulticlassClassificationEvaluator().setMetricName('accuracy').setLabelCol('label').setPredictionCol(\"prediction\")\n",
    "    #print(\"---------------------------------  Evaluating Model     ------------------------------\")\n",
    "    result = evaluator.evaluate(lrModel.transform(dev_data))\n",
    "    #result.select(\"features\",\"label\",\"prediction\").show(5,False)\n",
    "    lr_results.update({elasticnetparam:{regparam:result}})\n",
    "    #print(\"MULTINOMIAL LOGISTIC REGRESSION RESULTS:\\t{}\".format(lr_results))"
   ]
  },
  {
   "cell_type": "code",
   "execution_count": 89,
   "metadata": {},
   "outputs": [],
   "source": [
    "regparams        = [0.1,0.2,0.3,0.4,0.5,0.6,0.7,0.8,0.9,1.0]\n",
    "elasticnetparams = [0.1,0.2,0.3,0.4,0.5,0.6,0.7,0.8,0.9,1.0]"
   ]
  },
  {
   "cell_type": "code",
   "execution_count": 90,
   "metadata": {},
   "outputs": [],
   "source": [
    "def eval_mlr_classifier():\n",
    "    print(\"###########################################################################################\")\n",
    "    print(\"###############################         LOGISTIC REGRESSION         #######################\")\n",
    "    print(\"###########################################################################################\")\n",
    "    print(\"\\tREGPARAM\\tELASTICNETPARAM\\t\\tACCURACY\")\n",
    "    for regparam in regparams:\n",
    "        for elasticnetparam in elasticnetparams:\n",
    "            logistic_classifier(regparam, elasticnetparam)\n",
    "            print(\"\\t{}\\t\\t\\t{}\\t\\t{}\".format(regparam, elasticnetparam,lr_results))\n",
    "        "
   ]
  },
  {
   "cell_type": "code",
   "execution_count": 91,
   "metadata": {
    "scrolled": true
   },
   "outputs": [
    {
     "name": "stdout",
     "output_type": "stream",
     "text": [
      "###########################################################################################\n",
      "###############################         LOGISTIC REGRESSION         #######################\n",
      "###########################################################################################\n",
      "\tREGPARAM\tELASTICNETPARAM\t\tACCURACY\n",
      "\t0.1\t\t\t0.1\t\t{0.1: {0.1: 0.29314888010540185}}\n",
      "\t0.1\t\t\t0.2\t\t{0.2: {0.1: 0.2912662429925857}, 0.1: {0.1: 0.29314888010540185}}\n",
      "\t0.1\t\t\t0.3\t\t{0.3: {0.1: 0.2912662429925857}, 0.2: {0.1: 0.2912662429925857}, 0.1: {0.1: 0.29314888010540185}}\n",
      "\t0.1\t\t\t0.4\t\t{0.4: {0.1: 0.2912662429925857}, 0.3: {0.1: 0.2912662429925857}, 0.2: {0.1: 0.2912662429925857}, 0.1: {0.1: 0.29314888010540185}}\n",
      "\t0.1\t\t\t0.5\t\t{0.4: {0.1: 0.2912662429925857}, 0.5: {0.1: 0.2912662429925857}, 0.3: {0.1: 0.2912662429925857}, 0.2: {0.1: 0.2912662429925857}, 0.1: {0.1: 0.29314888010540185}}\n",
      "\t0.1\t\t\t0.6\t\t{0.5: {0.1: 0.2912662429925857}, 0.2: {0.1: 0.2912662429925857}, 0.4: {0.1: 0.2912662429925857}, 0.6: {0.1: 0.2912662429925857}, 0.3: {0.1: 0.2912662429925857}, 0.1: {0.1: 0.29314888010540185}}\n",
      "\t0.1\t\t\t0.7\t\t{0.5: {0.1: 0.2912662429925857}, 0.2: {0.1: 0.2912662429925857}, 0.4: {0.1: 0.2912662429925857}, 0.7: {0.1: 0.2912662429925857}, 0.6: {0.1: 0.2912662429925857}, 0.3: {0.1: 0.2912662429925857}, 0.1: {0.1: 0.29314888010540185}}\n",
      "\t0.1\t\t\t0.8\t\t{0.5: {0.1: 0.2912662429925857}, 0.2: {0.1: 0.2912662429925857}, 0.4: {0.1: 0.2912662429925857}, 0.7: {0.1: 0.2912662429925857}, 0.8: {0.1: 0.2912662429925857}, 0.6: {0.1: 0.2912662429925857}, 0.3: {0.1: 0.2912662429925857}, 0.1: {0.1: 0.29314888010540185}}\n",
      "\t0.1\t\t\t0.9\t\t{0.5: {0.1: 0.2912662429925857}, 0.9: {0.1: 0.2912662429925857}, 0.2: {0.1: 0.2912662429925857}, 0.4: {0.1: 0.2912662429925857}, 0.7: {0.1: 0.2912662429925857}, 0.8: {0.1: 0.2912662429925857}, 0.6: {0.1: 0.2912662429925857}, 0.3: {0.1: 0.2912662429925857}, 0.1: {0.1: 0.29314888010540185}}\n",
      "\t0.1\t\t\t1.0\t\t{0.5: {0.1: 0.2912662429925857}, 1.0: {0.1: 0.2912662429925857}, 0.9: {0.1: 0.2912662429925857}, 0.2: {0.1: 0.2912662429925857}, 0.4: {0.1: 0.2912662429925857}, 0.7: {0.1: 0.2912662429925857}, 0.8: {0.1: 0.2912662429925857}, 0.6: {0.1: 0.2912662429925857}, 0.3: {0.1: 0.2912662429925857}, 0.1: {0.1: 0.29314888010540185}}\n",
      "\t0.2\t\t\t0.1\t\t{0.5: {0.1: 0.2912662429925857}, 1.0: {0.1: 0.2912662429925857}, 0.4: {0.1: 0.2912662429925857}, 0.2: {0.1: 0.2912662429925857}, 0.1: {0.2: 0.2912662429925857}, 0.3: {0.1: 0.2912662429925857}, 0.6: {0.1: 0.2912662429925857}, 0.8: {0.1: 0.2912662429925857}, 0.9: {0.1: 0.2912662429925857}, 0.7: {0.1: 0.2912662429925857}}\n",
      "\t0.2\t\t\t0.2\t\t{0.5: {0.1: 0.2912662429925857}, 1.0: {0.1: 0.2912662429925857}, 0.4: {0.1: 0.2912662429925857}, 0.2: {0.2: 0.2912662429925857}, 0.1: {0.2: 0.2912662429925857}, 0.3: {0.1: 0.2912662429925857}, 0.6: {0.1: 0.2912662429925857}, 0.8: {0.1: 0.2912662429925857}, 0.9: {0.1: 0.2912662429925857}, 0.7: {0.1: 0.2912662429925857}}\n",
      "\t0.2\t\t\t0.3\t\t{0.5: {0.1: 0.2912662429925857}, 1.0: {0.1: 0.2912662429925857}, 0.4: {0.1: 0.2912662429925857}, 0.2: {0.2: 0.2912662429925857}, 0.1: {0.2: 0.2912662429925857}, 0.3: {0.2: 0.2912662429925857}, 0.6: {0.1: 0.2912662429925857}, 0.8: {0.1: 0.2912662429925857}, 0.9: {0.1: 0.2912662429925857}, 0.7: {0.1: 0.2912662429925857}}\n",
      "\t0.2\t\t\t0.4\t\t{0.5: {0.1: 0.2912662429925857}, 1.0: {0.1: 0.2912662429925857}, 0.4: {0.2: 0.2912662429925857}, 0.2: {0.2: 0.2912662429925857}, 0.1: {0.2: 0.2912662429925857}, 0.3: {0.2: 0.2912662429925857}, 0.6: {0.1: 0.2912662429925857}, 0.8: {0.1: 0.2912662429925857}, 0.9: {0.1: 0.2912662429925857}, 0.7: {0.1: 0.2912662429925857}}\n",
      "\t0.2\t\t\t0.5\t\t{0.5: {0.2: 0.2912662429925857}, 1.0: {0.1: 0.2912662429925857}, 0.4: {0.2: 0.2912662429925857}, 0.2: {0.2: 0.2912662429925857}, 0.1: {0.2: 0.2912662429925857}, 0.3: {0.2: 0.2912662429925857}, 0.6: {0.1: 0.2912662429925857}, 0.8: {0.1: 0.2912662429925857}, 0.9: {0.1: 0.2912662429925857}, 0.7: {0.1: 0.2912662429925857}}\n",
      "\t0.2\t\t\t0.6\t\t{0.5: {0.2: 0.2912662429925857}, 1.0: {0.1: 0.2912662429925857}, 0.4: {0.2: 0.2912662429925857}, 0.2: {0.2: 0.2912662429925857}, 0.1: {0.2: 0.2912662429925857}, 0.3: {0.2: 0.2912662429925857}, 0.6: {0.2: 0.2912662429925857}, 0.8: {0.1: 0.2912662429925857}, 0.9: {0.1: 0.2912662429925857}, 0.7: {0.1: 0.2912662429925857}}\n",
      "\t0.2\t\t\t0.7\t\t{0.5: {0.2: 0.2912662429925857}, 1.0: {0.1: 0.2912662429925857}, 0.4: {0.2: 0.2912662429925857}, 0.2: {0.2: 0.2912662429925857}, 0.1: {0.2: 0.2912662429925857}, 0.3: {0.2: 0.2912662429925857}, 0.6: {0.2: 0.2912662429925857}, 0.8: {0.1: 0.2912662429925857}, 0.9: {0.1: 0.2912662429925857}, 0.7: {0.2: 0.2912662429925857}}\n",
      "\t0.2\t\t\t0.8\t\t{0.5: {0.2: 0.2912662429925857}, 1.0: {0.1: 0.2912662429925857}, 0.4: {0.2: 0.2912662429925857}, 0.2: {0.2: 0.2912662429925857}, 0.1: {0.2: 0.2912662429925857}, 0.3: {0.2: 0.2912662429925857}, 0.6: {0.2: 0.2912662429925857}, 0.8: {0.2: 0.2912662429925857}, 0.9: {0.1: 0.2912662429925857}, 0.7: {0.2: 0.2912662429925857}}\n",
      "\t0.2\t\t\t0.9\t\t{0.5: {0.2: 0.2912662429925857}, 1.0: {0.1: 0.2912662429925857}, 0.4: {0.2: 0.2912662429925857}, 0.2: {0.2: 0.2912662429925857}, 0.1: {0.2: 0.2912662429925857}, 0.3: {0.2: 0.2912662429925857}, 0.6: {0.2: 0.2912662429925857}, 0.8: {0.2: 0.2912662429925857}, 0.9: {0.2: 0.2912662429925857}, 0.7: {0.2: 0.2912662429925857}}\n",
      "\t0.2\t\t\t1.0\t\t{0.5: {0.2: 0.2912662429925857}, 1.0: {0.2: 0.2912662429925857}, 0.4: {0.2: 0.2912662429925857}, 0.2: {0.2: 0.2912662429925857}, 0.1: {0.2: 0.2912662429925857}, 0.3: {0.2: 0.2912662429925857}, 0.6: {0.2: 0.2912662429925857}, 0.8: {0.2: 0.2912662429925857}, 0.9: {0.2: 0.2912662429925857}, 0.7: {0.2: 0.2912662429925857}}\n",
      "\t0.3\t\t\t0.1\t\t{0.5: {0.2: 0.2912662429925857}, 1.0: {0.2: 0.2912662429925857}, 0.4: {0.2: 0.2912662429925857}, 0.2: {0.2: 0.2912662429925857}, 0.1: {0.3: 0.2912662429925857}, 0.3: {0.2: 0.2912662429925857}, 0.6: {0.2: 0.2912662429925857}, 0.8: {0.2: 0.2912662429925857}, 0.9: {0.2: 0.2912662429925857}, 0.7: {0.2: 0.2912662429925857}}\n",
      "\t0.3\t\t\t0.2\t\t{0.5: {0.2: 0.2912662429925857}, 1.0: {0.2: 0.2912662429925857}, 0.4: {0.2: 0.2912662429925857}, 0.2: {0.3: 0.2912662429925857}, 0.1: {0.3: 0.2912662429925857}, 0.3: {0.2: 0.2912662429925857}, 0.6: {0.2: 0.2912662429925857}, 0.8: {0.2: 0.2912662429925857}, 0.9: {0.2: 0.2912662429925857}, 0.7: {0.2: 0.2912662429925857}}\n",
      "\t0.3\t\t\t0.3\t\t{0.5: {0.2: 0.2912662429925857}, 1.0: {0.2: 0.2912662429925857}, 0.4: {0.2: 0.2912662429925857}, 0.2: {0.3: 0.2912662429925857}, 0.1: {0.3: 0.2912662429925857}, 0.3: {0.3: 0.2912662429925857}, 0.6: {0.2: 0.2912662429925857}, 0.8: {0.2: 0.2912662429925857}, 0.9: {0.2: 0.2912662429925857}, 0.7: {0.2: 0.2912662429925857}}\n",
      "\t0.3\t\t\t0.4\t\t{0.5: {0.2: 0.2912662429925857}, 1.0: {0.2: 0.2912662429925857}, 0.4: {0.3: 0.2912662429925857}, 0.2: {0.3: 0.2912662429925857}, 0.1: {0.3: 0.2912662429925857}, 0.3: {0.3: 0.2912662429925857}, 0.6: {0.2: 0.2912662429925857}, 0.8: {0.2: 0.2912662429925857}, 0.9: {0.2: 0.2912662429925857}, 0.7: {0.2: 0.2912662429925857}}\n",
      "\t0.3\t\t\t0.5\t\t{0.5: {0.3: 0.2912662429925857}, 1.0: {0.2: 0.2912662429925857}, 0.4: {0.3: 0.2912662429925857}, 0.2: {0.3: 0.2912662429925857}, 0.1: {0.3: 0.2912662429925857}, 0.3: {0.3: 0.2912662429925857}, 0.6: {0.2: 0.2912662429925857}, 0.8: {0.2: 0.2912662429925857}, 0.9: {0.2: 0.2912662429925857}, 0.7: {0.2: 0.2912662429925857}}\n",
      "\t0.3\t\t\t0.6\t\t{0.5: {0.3: 0.2912662429925857}, 1.0: {0.2: 0.2912662429925857}, 0.4: {0.3: 0.2912662429925857}, 0.2: {0.3: 0.2912662429925857}, 0.1: {0.3: 0.2912662429925857}, 0.3: {0.3: 0.2912662429925857}, 0.6: {0.3: 0.2912662429925857}, 0.8: {0.2: 0.2912662429925857}, 0.9: {0.2: 0.2912662429925857}, 0.7: {0.2: 0.2912662429925857}}\n",
      "\t0.3\t\t\t0.7\t\t{0.5: {0.3: 0.2912662429925857}, 1.0: {0.2: 0.2912662429925857}, 0.4: {0.3: 0.2912662429925857}, 0.2: {0.3: 0.2912662429925857}, 0.1: {0.3: 0.2912662429925857}, 0.3: {0.3: 0.2912662429925857}, 0.6: {0.3: 0.2912662429925857}, 0.8: {0.2: 0.2912662429925857}, 0.9: {0.2: 0.2912662429925857}, 0.7: {0.3: 0.2912662429925857}}\n",
      "\t0.3\t\t\t0.8\t\t{0.5: {0.3: 0.2912662429925857}, 1.0: {0.2: 0.2912662429925857}, 0.4: {0.3: 0.2912662429925857}, 0.2: {0.3: 0.2912662429925857}, 0.1: {0.3: 0.2912662429925857}, 0.3: {0.3: 0.2912662429925857}, 0.6: {0.3: 0.2912662429925857}, 0.8: {0.3: 0.2912662429925857}, 0.9: {0.2: 0.2912662429925857}, 0.7: {0.3: 0.2912662429925857}}\n"
     ]
    },
    {
     "name": "stdout",
     "output_type": "stream",
     "text": [
      "\t0.3\t\t\t0.9\t\t{0.5: {0.3: 0.2912662429925857}, 1.0: {0.2: 0.2912662429925857}, 0.4: {0.3: 0.2912662429925857}, 0.2: {0.3: 0.2912662429925857}, 0.1: {0.3: 0.2912662429925857}, 0.3: {0.3: 0.2912662429925857}, 0.6: {0.3: 0.2912662429925857}, 0.8: {0.3: 0.2912662429925857}, 0.9: {0.3: 0.2912662429925857}, 0.7: {0.3: 0.2912662429925857}}\n",
      "\t0.3\t\t\t1.0\t\t{0.5: {0.3: 0.2912662429925857}, 1.0: {0.3: 0.2912662429925857}, 0.4: {0.3: 0.2912662429925857}, 0.2: {0.3: 0.2912662429925857}, 0.1: {0.3: 0.2912662429925857}, 0.3: {0.3: 0.2912662429925857}, 0.6: {0.3: 0.2912662429925857}, 0.8: {0.3: 0.2912662429925857}, 0.9: {0.3: 0.2912662429925857}, 0.7: {0.3: 0.2912662429925857}}\n",
      "\t0.4\t\t\t0.1\t\t{0.5: {0.3: 0.2912662429925857}, 1.0: {0.3: 0.2912662429925857}, 0.4: {0.3: 0.2912662429925857}, 0.2: {0.3: 0.2912662429925857}, 0.1: {0.4: 0.2912662429925857}, 0.3: {0.3: 0.2912662429925857}, 0.6: {0.3: 0.2912662429925857}, 0.8: {0.3: 0.2912662429925857}, 0.9: {0.3: 0.2912662429925857}, 0.7: {0.3: 0.2912662429925857}}\n",
      "\t0.4\t\t\t0.2\t\t{0.5: {0.3: 0.2912662429925857}, 1.0: {0.3: 0.2912662429925857}, 0.4: {0.3: 0.2912662429925857}, 0.2: {0.4: 0.2912662429925857}, 0.1: {0.4: 0.2912662429925857}, 0.3: {0.3: 0.2912662429925857}, 0.6: {0.3: 0.2912662429925857}, 0.8: {0.3: 0.2912662429925857}, 0.9: {0.3: 0.2912662429925857}, 0.7: {0.3: 0.2912662429925857}}\n",
      "\t0.4\t\t\t0.3\t\t{0.5: {0.3: 0.2912662429925857}, 1.0: {0.3: 0.2912662429925857}, 0.4: {0.3: 0.2912662429925857}, 0.2: {0.4: 0.2912662429925857}, 0.1: {0.4: 0.2912662429925857}, 0.3: {0.4: 0.2912662429925857}, 0.6: {0.3: 0.2912662429925857}, 0.8: {0.3: 0.2912662429925857}, 0.9: {0.3: 0.2912662429925857}, 0.7: {0.3: 0.2912662429925857}}\n",
      "\t0.4\t\t\t0.4\t\t{0.5: {0.3: 0.2912662429925857}, 1.0: {0.3: 0.2912662429925857}, 0.4: {0.4: 0.2912662429925857}, 0.2: {0.4: 0.2912662429925857}, 0.1: {0.4: 0.2912662429925857}, 0.3: {0.4: 0.2912662429925857}, 0.6: {0.3: 0.2912662429925857}, 0.8: {0.3: 0.2912662429925857}, 0.9: {0.3: 0.2912662429925857}, 0.7: {0.3: 0.2912662429925857}}\n",
      "\t0.4\t\t\t0.5\t\t{0.5: {0.4: 0.2912662429925857}, 1.0: {0.3: 0.2912662429925857}, 0.4: {0.4: 0.2912662429925857}, 0.2: {0.4: 0.2912662429925857}, 0.1: {0.4: 0.2912662429925857}, 0.3: {0.4: 0.2912662429925857}, 0.6: {0.3: 0.2912662429925857}, 0.8: {0.3: 0.2912662429925857}, 0.9: {0.3: 0.2912662429925857}, 0.7: {0.3: 0.2912662429925857}}\n",
      "\t0.4\t\t\t0.6\t\t{0.5: {0.4: 0.2912662429925857}, 1.0: {0.3: 0.2912662429925857}, 0.4: {0.4: 0.2912662429925857}, 0.2: {0.4: 0.2912662429925857}, 0.1: {0.4: 0.2912662429925857}, 0.3: {0.4: 0.2912662429925857}, 0.6: {0.4: 0.2912662429925857}, 0.8: {0.3: 0.2912662429925857}, 0.9: {0.3: 0.2912662429925857}, 0.7: {0.3: 0.2912662429925857}}\n",
      "\t0.4\t\t\t0.7\t\t{0.5: {0.4: 0.2912662429925857}, 1.0: {0.3: 0.2912662429925857}, 0.4: {0.4: 0.2912662429925857}, 0.2: {0.4: 0.2912662429925857}, 0.1: {0.4: 0.2912662429925857}, 0.3: {0.4: 0.2912662429925857}, 0.6: {0.4: 0.2912662429925857}, 0.8: {0.3: 0.2912662429925857}, 0.9: {0.3: 0.2912662429925857}, 0.7: {0.4: 0.2912662429925857}}\n",
      "\t0.4\t\t\t0.8\t\t{0.5: {0.4: 0.2912662429925857}, 1.0: {0.3: 0.2912662429925857}, 0.4: {0.4: 0.2912662429925857}, 0.2: {0.4: 0.2912662429925857}, 0.1: {0.4: 0.2912662429925857}, 0.3: {0.4: 0.2912662429925857}, 0.6: {0.4: 0.2912662429925857}, 0.8: {0.4: 0.2912662429925857}, 0.9: {0.3: 0.2912662429925857}, 0.7: {0.4: 0.2912662429925857}}\n",
      "\t0.4\t\t\t0.9\t\t{0.5: {0.4: 0.2912662429925857}, 1.0: {0.3: 0.2912662429925857}, 0.4: {0.4: 0.2912662429925857}, 0.2: {0.4: 0.2912662429925857}, 0.1: {0.4: 0.2912662429925857}, 0.3: {0.4: 0.2912662429925857}, 0.6: {0.4: 0.2912662429925857}, 0.8: {0.4: 0.2912662429925857}, 0.9: {0.4: 0.2912662429925857}, 0.7: {0.4: 0.2912662429925857}}\n",
      "\t0.4\t\t\t1.0\t\t{0.5: {0.4: 0.2912662429925857}, 1.0: {0.4: 0.2912662429925857}, 0.4: {0.4: 0.2912662429925857}, 0.2: {0.4: 0.2912662429925857}, 0.1: {0.4: 0.2912662429925857}, 0.3: {0.4: 0.2912662429925857}, 0.6: {0.4: 0.2912662429925857}, 0.8: {0.4: 0.2912662429925857}, 0.9: {0.4: 0.2912662429925857}, 0.7: {0.4: 0.2912662429925857}}\n",
      "\t0.5\t\t\t0.1\t\t{0.5: {0.4: 0.2912662429925857}, 1.0: {0.4: 0.2912662429925857}, 0.4: {0.4: 0.2912662429925857}, 0.2: {0.4: 0.2912662429925857}, 0.1: {0.5: 0.2912662429925857}, 0.3: {0.4: 0.2912662429925857}, 0.6: {0.4: 0.2912662429925857}, 0.8: {0.4: 0.2912662429925857}, 0.9: {0.4: 0.2912662429925857}, 0.7: {0.4: 0.2912662429925857}}\n",
      "\t0.5\t\t\t0.2\t\t{0.5: {0.4: 0.2912662429925857}, 1.0: {0.4: 0.2912662429925857}, 0.4: {0.4: 0.2912662429925857}, 0.2: {0.5: 0.2912662429925857}, 0.1: {0.5: 0.2912662429925857}, 0.3: {0.4: 0.2912662429925857}, 0.6: {0.4: 0.2912662429925857}, 0.8: {0.4: 0.2912662429925857}, 0.9: {0.4: 0.2912662429925857}, 0.7: {0.4: 0.2912662429925857}}\n",
      "\t0.5\t\t\t0.3\t\t{0.5: {0.4: 0.2912662429925857}, 1.0: {0.4: 0.2912662429925857}, 0.4: {0.4: 0.2912662429925857}, 0.2: {0.5: 0.2912662429925857}, 0.1: {0.5: 0.2912662429925857}, 0.3: {0.5: 0.2912662429925857}, 0.6: {0.4: 0.2912662429925857}, 0.8: {0.4: 0.2912662429925857}, 0.9: {0.4: 0.2912662429925857}, 0.7: {0.4: 0.2912662429925857}}\n",
      "\t0.5\t\t\t0.4\t\t{0.5: {0.4: 0.2912662429925857}, 1.0: {0.4: 0.2912662429925857}, 0.4: {0.5: 0.2912662429925857}, 0.2: {0.5: 0.2912662429925857}, 0.1: {0.5: 0.2912662429925857}, 0.3: {0.5: 0.2912662429925857}, 0.6: {0.4: 0.2912662429925857}, 0.8: {0.4: 0.2912662429925857}, 0.9: {0.4: 0.2912662429925857}, 0.7: {0.4: 0.2912662429925857}}\n",
      "\t0.5\t\t\t0.5\t\t{0.5: {0.5: 0.2912662429925857}, 1.0: {0.4: 0.2912662429925857}, 0.4: {0.5: 0.2912662429925857}, 0.2: {0.5: 0.2912662429925857}, 0.1: {0.5: 0.2912662429925857}, 0.3: {0.5: 0.2912662429925857}, 0.6: {0.4: 0.2912662429925857}, 0.8: {0.4: 0.2912662429925857}, 0.9: {0.4: 0.2912662429925857}, 0.7: {0.4: 0.2912662429925857}}\n",
      "\t0.5\t\t\t0.6\t\t{0.5: {0.5: 0.2912662429925857}, 1.0: {0.4: 0.2912662429925857}, 0.4: {0.5: 0.2912662429925857}, 0.2: {0.5: 0.2912662429925857}, 0.1: {0.5: 0.2912662429925857}, 0.3: {0.5: 0.2912662429925857}, 0.6: {0.5: 0.2912662429925857}, 0.8: {0.4: 0.2912662429925857}, 0.9: {0.4: 0.2912662429925857}, 0.7: {0.4: 0.2912662429925857}}\n",
      "\t0.5\t\t\t0.7\t\t{0.5: {0.5: 0.2912662429925857}, 1.0: {0.4: 0.2912662429925857}, 0.4: {0.5: 0.2912662429925857}, 0.2: {0.5: 0.2912662429925857}, 0.1: {0.5: 0.2912662429925857}, 0.3: {0.5: 0.2912662429925857}, 0.6: {0.5: 0.2912662429925857}, 0.8: {0.4: 0.2912662429925857}, 0.9: {0.4: 0.2912662429925857}, 0.7: {0.5: 0.2912662429925857}}\n",
      "\t0.5\t\t\t0.8\t\t{0.5: {0.5: 0.2912662429925857}, 1.0: {0.4: 0.2912662429925857}, 0.4: {0.5: 0.2912662429925857}, 0.2: {0.5: 0.2912662429925857}, 0.1: {0.5: 0.2912662429925857}, 0.3: {0.5: 0.2912662429925857}, 0.6: {0.5: 0.2912662429925857}, 0.8: {0.5: 0.2912662429925857}, 0.9: {0.4: 0.2912662429925857}, 0.7: {0.5: 0.2912662429925857}}\n",
      "\t0.5\t\t\t0.9\t\t{0.5: {0.5: 0.2912662429925857}, 1.0: {0.4: 0.2912662429925857}, 0.4: {0.5: 0.2912662429925857}, 0.2: {0.5: 0.2912662429925857}, 0.1: {0.5: 0.2912662429925857}, 0.3: {0.5: 0.2912662429925857}, 0.6: {0.5: 0.2912662429925857}, 0.8: {0.5: 0.2912662429925857}, 0.9: {0.5: 0.2912662429925857}, 0.7: {0.5: 0.2912662429925857}}\n",
      "\t0.5\t\t\t1.0\t\t{0.5: {0.5: 0.2912662429925857}, 1.0: {0.5: 0.2912662429925857}, 0.4: {0.5: 0.2912662429925857}, 0.2: {0.5: 0.2912662429925857}, 0.1: {0.5: 0.2912662429925857}, 0.3: {0.5: 0.2912662429925857}, 0.6: {0.5: 0.2912662429925857}, 0.8: {0.5: 0.2912662429925857}, 0.9: {0.5: 0.2912662429925857}, 0.7: {0.5: 0.2912662429925857}}\n",
      "\t0.6\t\t\t0.1\t\t{0.5: {0.5: 0.2912662429925857}, 1.0: {0.5: 0.2912662429925857}, 0.4: {0.5: 0.2912662429925857}, 0.2: {0.5: 0.2912662429925857}, 0.1: {0.6: 0.2912662429925857}, 0.3: {0.5: 0.2912662429925857}, 0.6: {0.5: 0.2912662429925857}, 0.8: {0.5: 0.2912662429925857}, 0.9: {0.5: 0.2912662429925857}, 0.7: {0.5: 0.2912662429925857}}\n",
      "\t0.6\t\t\t0.2\t\t{0.5: {0.5: 0.2912662429925857}, 1.0: {0.5: 0.2912662429925857}, 0.4: {0.5: 0.2912662429925857}, 0.2: {0.6: 0.2912662429925857}, 0.1: {0.6: 0.2912662429925857}, 0.3: {0.5: 0.2912662429925857}, 0.6: {0.5: 0.2912662429925857}, 0.8: {0.5: 0.2912662429925857}, 0.9: {0.5: 0.2912662429925857}, 0.7: {0.5: 0.2912662429925857}}\n",
      "\t0.6\t\t\t0.3\t\t{0.5: {0.5: 0.2912662429925857}, 1.0: {0.5: 0.2912662429925857}, 0.4: {0.5: 0.2912662429925857}, 0.2: {0.6: 0.2912662429925857}, 0.1: {0.6: 0.2912662429925857}, 0.3: {0.6: 0.2912662429925857}, 0.6: {0.5: 0.2912662429925857}, 0.8: {0.5: 0.2912662429925857}, 0.9: {0.5: 0.2912662429925857}, 0.7: {0.5: 0.2912662429925857}}\n"
     ]
    },
    {
     "name": "stdout",
     "output_type": "stream",
     "text": [
      "\t0.6\t\t\t0.4\t\t{0.5: {0.5: 0.2912662429925857}, 1.0: {0.5: 0.2912662429925857}, 0.4: {0.6: 0.2912662429925857}, 0.2: {0.6: 0.2912662429925857}, 0.1: {0.6: 0.2912662429925857}, 0.3: {0.6: 0.2912662429925857}, 0.6: {0.5: 0.2912662429925857}, 0.8: {0.5: 0.2912662429925857}, 0.9: {0.5: 0.2912662429925857}, 0.7: {0.5: 0.2912662429925857}}\n",
      "\t0.6\t\t\t0.5\t\t{0.5: {0.6: 0.2912662429925857}, 1.0: {0.5: 0.2912662429925857}, 0.4: {0.6: 0.2912662429925857}, 0.2: {0.6: 0.2912662429925857}, 0.1: {0.6: 0.2912662429925857}, 0.3: {0.6: 0.2912662429925857}, 0.6: {0.5: 0.2912662429925857}, 0.8: {0.5: 0.2912662429925857}, 0.9: {0.5: 0.2912662429925857}, 0.7: {0.5: 0.2912662429925857}}\n",
      "\t0.6\t\t\t0.6\t\t{0.5: {0.6: 0.2912662429925857}, 1.0: {0.5: 0.2912662429925857}, 0.4: {0.6: 0.2912662429925857}, 0.2: {0.6: 0.2912662429925857}, 0.1: {0.6: 0.2912662429925857}, 0.3: {0.6: 0.2912662429925857}, 0.6: {0.6: 0.2912662429925857}, 0.8: {0.5: 0.2912662429925857}, 0.9: {0.5: 0.2912662429925857}, 0.7: {0.5: 0.2912662429925857}}\n",
      "\t0.6\t\t\t0.7\t\t{0.5: {0.6: 0.2912662429925857}, 1.0: {0.5: 0.2912662429925857}, 0.4: {0.6: 0.2912662429925857}, 0.2: {0.6: 0.2912662429925857}, 0.1: {0.6: 0.2912662429925857}, 0.3: {0.6: 0.2912662429925857}, 0.6: {0.6: 0.2912662429925857}, 0.8: {0.5: 0.2912662429925857}, 0.9: {0.5: 0.2912662429925857}, 0.7: {0.6: 0.2912662429925857}}\n",
      "\t0.6\t\t\t0.8\t\t{0.5: {0.6: 0.2912662429925857}, 1.0: {0.5: 0.2912662429925857}, 0.4: {0.6: 0.2912662429925857}, 0.2: {0.6: 0.2912662429925857}, 0.1: {0.6: 0.2912662429925857}, 0.3: {0.6: 0.2912662429925857}, 0.6: {0.6: 0.2912662429925857}, 0.8: {0.6: 0.2912662429925857}, 0.9: {0.5: 0.2912662429925857}, 0.7: {0.6: 0.2912662429925857}}\n",
      "\t0.6\t\t\t0.9\t\t{0.5: {0.6: 0.2912662429925857}, 1.0: {0.5: 0.2912662429925857}, 0.4: {0.6: 0.2912662429925857}, 0.2: {0.6: 0.2912662429925857}, 0.1: {0.6: 0.2912662429925857}, 0.3: {0.6: 0.2912662429925857}, 0.6: {0.6: 0.2912662429925857}, 0.8: {0.6: 0.2912662429925857}, 0.9: {0.6: 0.2912662429925857}, 0.7: {0.6: 0.2912662429925857}}\n",
      "\t0.6\t\t\t1.0\t\t{0.5: {0.6: 0.2912662429925857}, 1.0: {0.6: 0.2912662429925857}, 0.4: {0.6: 0.2912662429925857}, 0.2: {0.6: 0.2912662429925857}, 0.1: {0.6: 0.2912662429925857}, 0.3: {0.6: 0.2912662429925857}, 0.6: {0.6: 0.2912662429925857}, 0.8: {0.6: 0.2912662429925857}, 0.9: {0.6: 0.2912662429925857}, 0.7: {0.6: 0.2912662429925857}}\n",
      "\t0.7\t\t\t0.1\t\t{0.5: {0.6: 0.2912662429925857}, 1.0: {0.6: 0.2912662429925857}, 0.4: {0.6: 0.2912662429925857}, 0.2: {0.6: 0.2912662429925857}, 0.1: {0.7: 0.2912662429925857}, 0.3: {0.6: 0.2912662429925857}, 0.6: {0.6: 0.2912662429925857}, 0.8: {0.6: 0.2912662429925857}, 0.9: {0.6: 0.2912662429925857}, 0.7: {0.6: 0.2912662429925857}}\n",
      "\t0.7\t\t\t0.2\t\t{0.5: {0.6: 0.2912662429925857}, 1.0: {0.6: 0.2912662429925857}, 0.4: {0.6: 0.2912662429925857}, 0.2: {0.7: 0.2912662429925857}, 0.1: {0.7: 0.2912662429925857}, 0.3: {0.6: 0.2912662429925857}, 0.6: {0.6: 0.2912662429925857}, 0.8: {0.6: 0.2912662429925857}, 0.9: {0.6: 0.2912662429925857}, 0.7: {0.6: 0.2912662429925857}}\n",
      "\t0.7\t\t\t0.3\t\t{0.5: {0.6: 0.2912662429925857}, 1.0: {0.6: 0.2912662429925857}, 0.4: {0.6: 0.2912662429925857}, 0.2: {0.7: 0.2912662429925857}, 0.1: {0.7: 0.2912662429925857}, 0.3: {0.7: 0.2912662429925857}, 0.6: {0.6: 0.2912662429925857}, 0.8: {0.6: 0.2912662429925857}, 0.9: {0.6: 0.2912662429925857}, 0.7: {0.6: 0.2912662429925857}}\n",
      "\t0.7\t\t\t0.4\t\t{0.5: {0.6: 0.2912662429925857}, 1.0: {0.6: 0.2912662429925857}, 0.4: {0.7: 0.2912662429925857}, 0.2: {0.7: 0.2912662429925857}, 0.1: {0.7: 0.2912662429925857}, 0.3: {0.7: 0.2912662429925857}, 0.6: {0.6: 0.2912662429925857}, 0.8: {0.6: 0.2912662429925857}, 0.9: {0.6: 0.2912662429925857}, 0.7: {0.6: 0.2912662429925857}}\n",
      "\t0.7\t\t\t0.5\t\t{0.5: {0.7: 0.2912662429925857}, 1.0: {0.6: 0.2912662429925857}, 0.4: {0.7: 0.2912662429925857}, 0.2: {0.7: 0.2912662429925857}, 0.1: {0.7: 0.2912662429925857}, 0.3: {0.7: 0.2912662429925857}, 0.6: {0.6: 0.2912662429925857}, 0.8: {0.6: 0.2912662429925857}, 0.9: {0.6: 0.2912662429925857}, 0.7: {0.6: 0.2912662429925857}}\n",
      "\t0.7\t\t\t0.6\t\t{0.5: {0.7: 0.2912662429925857}, 1.0: {0.6: 0.2912662429925857}, 0.4: {0.7: 0.2912662429925857}, 0.2: {0.7: 0.2912662429925857}, 0.1: {0.7: 0.2912662429925857}, 0.3: {0.7: 0.2912662429925857}, 0.6: {0.7: 0.2912662429925857}, 0.8: {0.6: 0.2912662429925857}, 0.9: {0.6: 0.2912662429925857}, 0.7: {0.6: 0.2912662429925857}}\n",
      "\t0.7\t\t\t0.7\t\t{0.5: {0.7: 0.2912662429925857}, 1.0: {0.6: 0.2912662429925857}, 0.4: {0.7: 0.2912662429925857}, 0.2: {0.7: 0.2912662429925857}, 0.1: {0.7: 0.2912662429925857}, 0.3: {0.7: 0.2912662429925857}, 0.6: {0.7: 0.2912662429925857}, 0.8: {0.6: 0.2912662429925857}, 0.9: {0.6: 0.2912662429925857}, 0.7: {0.7: 0.2912662429925857}}\n",
      "\t0.7\t\t\t0.8\t\t{0.5: {0.7: 0.2912662429925857}, 1.0: {0.6: 0.2912662429925857}, 0.4: {0.7: 0.2912662429925857}, 0.2: {0.7: 0.2912662429925857}, 0.1: {0.7: 0.2912662429925857}, 0.3: {0.7: 0.2912662429925857}, 0.6: {0.7: 0.2912662429925857}, 0.8: {0.7: 0.2912662429925857}, 0.9: {0.6: 0.2912662429925857}, 0.7: {0.7: 0.2912662429925857}}\n",
      "\t0.7\t\t\t0.9\t\t{0.5: {0.7: 0.2912662429925857}, 1.0: {0.6: 0.2912662429925857}, 0.4: {0.7: 0.2912662429925857}, 0.2: {0.7: 0.2912662429925857}, 0.1: {0.7: 0.2912662429925857}, 0.3: {0.7: 0.2912662429925857}, 0.6: {0.7: 0.2912662429925857}, 0.8: {0.7: 0.2912662429925857}, 0.9: {0.7: 0.2912662429925857}, 0.7: {0.7: 0.2912662429925857}}\n",
      "\t0.7\t\t\t1.0\t\t{0.5: {0.7: 0.2912662429925857}, 1.0: {0.7: 0.2912662429925857}, 0.4: {0.7: 0.2912662429925857}, 0.2: {0.7: 0.2912662429925857}, 0.1: {0.7: 0.2912662429925857}, 0.3: {0.7: 0.2912662429925857}, 0.6: {0.7: 0.2912662429925857}, 0.8: {0.7: 0.2912662429925857}, 0.9: {0.7: 0.2912662429925857}, 0.7: {0.7: 0.2912662429925857}}\n",
      "\t0.8\t\t\t0.1\t\t{0.5: {0.7: 0.2912662429925857}, 1.0: {0.7: 0.2912662429925857}, 0.4: {0.7: 0.2912662429925857}, 0.2: {0.7: 0.2912662429925857}, 0.1: {0.8: 0.2912662429925857}, 0.3: {0.7: 0.2912662429925857}, 0.6: {0.7: 0.2912662429925857}, 0.8: {0.7: 0.2912662429925857}, 0.9: {0.7: 0.2912662429925857}, 0.7: {0.7: 0.2912662429925857}}\n",
      "\t0.8\t\t\t0.2\t\t{0.5: {0.7: 0.2912662429925857}, 1.0: {0.7: 0.2912662429925857}, 0.4: {0.7: 0.2912662429925857}, 0.2: {0.8: 0.2912662429925857}, 0.1: {0.8: 0.2912662429925857}, 0.3: {0.7: 0.2912662429925857}, 0.6: {0.7: 0.2912662429925857}, 0.8: {0.7: 0.2912662429925857}, 0.9: {0.7: 0.2912662429925857}, 0.7: {0.7: 0.2912662429925857}}\n",
      "\t0.8\t\t\t0.3\t\t{0.5: {0.7: 0.2912662429925857}, 1.0: {0.7: 0.2912662429925857}, 0.4: {0.7: 0.2912662429925857}, 0.2: {0.8: 0.2912662429925857}, 0.1: {0.8: 0.2912662429925857}, 0.3: {0.8: 0.2912662429925857}, 0.6: {0.7: 0.2912662429925857}, 0.8: {0.7: 0.2912662429925857}, 0.9: {0.7: 0.2912662429925857}, 0.7: {0.7: 0.2912662429925857}}\n",
      "\t0.8\t\t\t0.4\t\t{0.5: {0.7: 0.2912662429925857}, 1.0: {0.7: 0.2912662429925857}, 0.4: {0.8: 0.2912662429925857}, 0.2: {0.8: 0.2912662429925857}, 0.1: {0.8: 0.2912662429925857}, 0.3: {0.8: 0.2912662429925857}, 0.6: {0.7: 0.2912662429925857}, 0.8: {0.7: 0.2912662429925857}, 0.9: {0.7: 0.2912662429925857}, 0.7: {0.7: 0.2912662429925857}}\n",
      "\t1.0\t\t\t0.2\t\t{0.5: {0.9: 0.2912662429925857}, 1.0: {0.9: 0.2912662429925857}, 0.4: {0.9: 0.2912662429925857}, 0.2: {1.0: 0.2912662429925857}, 0.1: {1.0: 0.2912662429925857}, 0.3: {0.9: 0.2912662429925857}, 0.6: {0.9: 0.2912662429925857}, 0.8: {0.9: 0.2912662429925857}, 0.9: {0.9: 0.2912662429925857}, 0.7: {0.9: 0.2912662429925857}}\n",
      "\t1.0\t\t\t0.3\t\t{0.5: {0.9: 0.2912662429925857}, 1.0: {0.9: 0.2912662429925857}, 0.4: {0.9: 0.2912662429925857}, 0.2: {1.0: 0.2912662429925857}, 0.1: {1.0: 0.2912662429925857}, 0.3: {1.0: 0.2912662429925857}, 0.6: {0.9: 0.2912662429925857}, 0.8: {0.9: 0.2912662429925857}, 0.9: {0.9: 0.2912662429925857}, 0.7: {0.9: 0.2912662429925857}}\n",
      "\t1.0\t\t\t0.4\t\t{0.5: {0.9: 0.2912662429925857}, 1.0: {0.9: 0.2912662429925857}, 0.4: {1.0: 0.2912662429925857}, 0.2: {1.0: 0.2912662429925857}, 0.1: {1.0: 0.2912662429925857}, 0.3: {1.0: 0.2912662429925857}, 0.6: {0.9: 0.2912662429925857}, 0.8: {0.9: 0.2912662429925857}, 0.9: {0.9: 0.2912662429925857}, 0.7: {0.9: 0.2912662429925857}}\n",
      "\t1.0\t\t\t0.5\t\t{0.5: {1.0: 0.2912662429925857}, 1.0: {0.9: 0.2912662429925857}, 0.4: {1.0: 0.2912662429925857}, 0.2: {1.0: 0.2912662429925857}, 0.1: {1.0: 0.2912662429925857}, 0.3: {1.0: 0.2912662429925857}, 0.6: {0.9: 0.2912662429925857}, 0.8: {0.9: 0.2912662429925857}, 0.9: {0.9: 0.2912662429925857}, 0.7: {0.9: 0.2912662429925857}}\n"
     ]
    },
    {
     "name": "stdout",
     "output_type": "stream",
     "text": [
      "\t1.0\t\t\t0.6\t\t{0.5: {1.0: 0.2912662429925857}, 1.0: {0.9: 0.2912662429925857}, 0.4: {1.0: 0.2912662429925857}, 0.2: {1.0: 0.2912662429925857}, 0.1: {1.0: 0.2912662429925857}, 0.3: {1.0: 0.2912662429925857}, 0.6: {1.0: 0.2912662429925857}, 0.8: {0.9: 0.2912662429925857}, 0.9: {0.9: 0.2912662429925857}, 0.7: {0.9: 0.2912662429925857}}\n",
      "\t1.0\t\t\t0.7\t\t{0.5: {1.0: 0.2912662429925857}, 1.0: {0.9: 0.2912662429925857}, 0.4: {1.0: 0.2912662429925857}, 0.2: {1.0: 0.2912662429925857}, 0.1: {1.0: 0.2912662429925857}, 0.3: {1.0: 0.2912662429925857}, 0.6: {1.0: 0.2912662429925857}, 0.8: {0.9: 0.2912662429925857}, 0.9: {0.9: 0.2912662429925857}, 0.7: {1.0: 0.2912662429925857}}\n",
      "\t1.0\t\t\t0.8\t\t{0.5: {1.0: 0.2912662429925857}, 1.0: {0.9: 0.2912662429925857}, 0.4: {1.0: 0.2912662429925857}, 0.2: {1.0: 0.2912662429925857}, 0.1: {1.0: 0.2912662429925857}, 0.3: {1.0: 0.2912662429925857}, 0.6: {1.0: 0.2912662429925857}, 0.8: {1.0: 0.2912662429925857}, 0.9: {0.9: 0.2912662429925857}, 0.7: {1.0: 0.2912662429925857}}\n",
      "\t1.0\t\t\t0.9\t\t{0.5: {1.0: 0.2912662429925857}, 1.0: {0.9: 0.2912662429925857}, 0.4: {1.0: 0.2912662429925857}, 0.2: {1.0: 0.2912662429925857}, 0.1: {1.0: 0.2912662429925857}, 0.3: {1.0: 0.2912662429925857}, 0.6: {1.0: 0.2912662429925857}, 0.8: {1.0: 0.2912662429925857}, 0.9: {1.0: 0.2912662429925857}, 0.7: {1.0: 0.2912662429925857}}\n",
      "\t1.0\t\t\t1.0\t\t{0.5: {1.0: 0.2912662429925857}, 1.0: {1.0: 0.2912662429925857}, 0.4: {1.0: 0.2912662429925857}, 0.2: {1.0: 0.2912662429925857}, 0.1: {1.0: 0.2912662429925857}, 0.3: {1.0: 0.2912662429925857}, 0.6: {1.0: 0.2912662429925857}, 0.8: {1.0: 0.2912662429925857}, 0.9: {1.0: 0.2912662429925857}, 0.7: {1.0: 0.2912662429925857}}\n"
     ]
    }
   ],
   "source": [
    "lr_results = {}\n",
    "eval_mlr_classifier()"
   ]
  },
  {
   "cell_type": "code",
   "execution_count": 92,
   "metadata": {},
   "outputs": [
    {
     "data": {
      "image/png": "[encoded data removed]",
      "text/plain": [
       "<Figure size 432x288 with 1 Axes>"
      ]
     },
     "metadata": {},
     "output_type": "display_data"
    }
   ],
   "source": [
    "trainingSummary = lrModel.summary\n",
    "\n",
    "objectiveHistory = trainingSummary.objectiveHistory\n",
    "plt.plot(objectiveHistory)\n",
    "plt.ylabel('Objective Function')\n",
    "plt.xlabel('Iteration')\n",
    "plt.show()"
   ]
  },
  {
   "cell_type": "markdown",
   "metadata": {},
   "source": [
    "#### Examples from: https://runawayhorse001.github.io/LearningApacheSpark/classification.html"
   ]
  },
  {
   "cell_type": "code",
   "execution_count": 93,
   "metadata": {},
   "outputs": [
    {
     "name": "stdout",
     "output_type": "stream",
     "text": [
      "+---------------------------------------------------------+-----+----------+\n",
      "|features                                                 |label|prediction|\n",
      "+---------------------------------------------------------+-----+----------+\n",
      "|(568,[125,536,557,565,566,567],[1.0,1.0,1.0,1.0,1.0,2.0])|3.0  |0.0       |\n",
      "|(568,[125,536,559,565,566,567],[1.0,1.0,1.0,1.0,1.0,1.0])|5.0  |0.0       |\n",
      "|(568,[125,536,560,563,566,567],[1.0,1.0,1.0,1.0,1.0,1.0])|1.0  |0.0       |\n",
      "|(568,[125,536,561,564,566,567],[1.0,1.0,1.0,1.0,1.0,1.0])|5.0  |0.0       |\n",
      "|(568,[125,536,565,566,567],[1.0,1.0,1.0,1.0,1.0])        |1.0  |0.0       |\n",
      "|(568,[125,536,562,563,566,567],[1.0,1.0,1.0,1.0,1.0,1.0])|1.0  |0.0       |\n",
      "|(568,[125,536,558,566,567],[1.0,1.0,1.0,1.0,1.0])        |2.0  |0.0       |\n",
      "|(568,[125,536,559,565,566,567],[1.0,1.0,1.0,1.0,1.0,2.0])|2.0  |0.0       |\n",
      "|(568,[125,536,560,563,566,567],[1.0,1.0,1.0,1.0,1.0,1.0])|2.0  |0.0       |\n",
      "|(568,[125,536,561,565,566,567],[1.0,1.0,1.0,1.0,1.0,1.0])|1.0  |0.0       |\n",
      "|(568,[125,536,562,565,566,567],[1.0,1.0,1.0,1.0,1.0,2.0])|2.0  |0.0       |\n",
      "|(568,[125,536,561,563,566,567],[1.0,1.0,1.0,1.0,1.0,5.0])|3.0  |0.0       |\n",
      "|(568,[125,536,565,566,567],[1.0,1.0,1.0,1.0,1.0])        |3.0  |0.0       |\n",
      "|(568,[125,536,558,563,566,567],[1.0,1.0,1.0,1.0,1.0,2.0])|3.0  |0.0       |\n",
      "|(568,[125,536,559,566,567],[1.0,1.0,1.0,1.0,2.0])        |3.0  |0.0       |\n",
      "|(568,[125,536,560,565,566,567],[1.0,1.0,1.0,1.0,1.0,1.0])|3.0  |0.0       |\n",
      "|(568,[125,536,561,566,567],[1.0,1.0,1.0,1.0,1.0])        |7.0  |0.0       |\n",
      "|(568,[125,536,563,566,567],[1.0,1.0,1.0,1.0,1.0])        |3.0  |0.0       |\n",
      "|(568,[125,536,558,563,566,567],[1.0,1.0,1.0,1.0,1.0,2.0])|3.0  |0.0       |\n",
      "|(568,[125,536,557,563,566,567],[1.0,1.0,1.0,1.0,1.0,1.0])|3.0  |0.0       |\n",
      "+---------------------------------------------------------+-----+----------+\n",
      "only showing top 20 rows\n",
      "\n"
     ]
    }
   ],
   "source": [
    "predictions = lrModel.transform(dev_data)\n",
    "predictions.select(\"features\",\"label\",\"prediction\").show(20, False)"
   ]
  },
  {
   "cell_type": "code",
   "execution_count": 94,
   "metadata": {},
   "outputs": [
    {
     "name": "stdout",
     "output_type": "stream",
     "text": [
      "Test Error = 0.708734\n"
     ]
    }
   ],
   "source": [
    "# Select (prediction, true label) and compute test error\n",
    "evaluator = MulticlassClassificationEvaluator(\n",
    "    labelCol=\"label\", predictionCol=\"prediction\", metricName=\"accuracy\")\n",
    "accuracy = evaluator.evaluate(predictions)\n",
    "print(\"Test Error = %g\" % (1.0 - accuracy))"
   ]
  },
  {
   "cell_type": "code",
   "execution_count": null,
   "metadata": {},
   "outputs": [],
   "source": []
  },
  {
   "cell_type": "code",
   "execution_count": 95,
   "metadata": {},
   "outputs": [],
   "source": [
    "import matplotlib.pyplot as plt\n",
    "import numpy as np\n",
    "import itertools\n",
    "\n",
    "def plot_confusion_matrix(cm, classes,\n",
    "                          normalize=False,\n",
    "                          title='Confusion matrix',\n",
    "                          cmap=plt.cm.Blues):\n",
    "\n",
    "    if normalize:\n",
    "        cm = cm.astype('float') / cm.sum(axis=1)[:, np.newaxis]\n",
    "        print(\"Normalized confusion matrix\")\n",
    "    else:\n",
    "        print('Confusion matrix, without normalization')\n",
    "\n",
    "    print(cm)\n",
    "\n",
    "    plt.imshow(cm, interpolation='nearest', cmap=cmap)\n",
    "    plt.title(title)\n",
    "    plt.colorbar()\n",
    "    tick_marks = np.arange(len(classes))\n",
    "    plt.xticks(tick_marks, classes, rotation=45)\n",
    "    plt.yticks(tick_marks, classes)\n",
    "\n",
    "    fmt = '.2f' if normalize else 'd'\n",
    "    thresh = cm.max() / 2.\n",
    "    for i, j in itertools.product(range(cm.shape[0]), range(cm.shape[1])):\n",
    "        plt.text(j, i, format(cm[i, j], fmt),\n",
    "                 horizontalalignment=\"center\",\n",
    "                 color=\"white\" if cm[i, j] > thresh else \"black\")\n",
    "\n",
    "    plt.tight_layout()\n",
    "    plt.ylabel('True label')\n",
    "    plt.xlabel('Predicted label')"
   ]
  },
  {
   "cell_type": "code",
   "execution_count": 96,
   "metadata": {},
   "outputs": [
    {
     "name": "stdout",
     "output_type": "stream",
     "text": [
      "+-----+----------------------------------------------------------+-----------+--------------+-----------+---------+---------+------+-----------+----------------------------------------------------------------------------------------------------------------------------------------------------------------------+-----------------------------------------------------------------------------------------------------------------------------------------------------------------+----------+\n",
      "|label|features                                                  |userid     |country       |day_of_week|timeofday|sessionid|window|description|rawPrediction                                                                                                                                                         |probability                                                                                                                                                      |prediction|\n",
      "+-----+----------------------------------------------------------+-----------+--------------+-----------+---------+---------+------+-----------+----------------------------------------------------------------------------------------------------------------------------------------------------------------------+-----------------------------------------------------------------------------------------------------------------------------------------------------------------+----------+\n",
      "|7.0  |(568,[273,503,559,564,566,567],[1.0,1.0,1.0,1.0,3.0,13.0])|user_000079|United States |wednesday  |evening  |3        |13    |<1_hour    |[0.9048653611093891,0.06657065456238523,-0.07658704362162877,-0.11429788202121619,-0.12544486996788104,-0.18901613814458323,-0.21580060655677194,-0.25028947535969315]|[0.28563332189643903,0.12352137159136072,0.10704576916784396,0.10308415091434517,0.10194145377439431,0.09566259810925995,0.09313433649142712,0.08997699805492955]|0.0       |\n",
      "|5.0  |(568,[116,503,566,567],[1.0,1.0,1.0,1.0])                 |user_000511|United States |saturday   |night    |1        |1     |<40_mins   |[0.9048653611093891,0.06657065456238523,-0.07658704362162877,-0.11429788202121619,-0.12544486996788104,-0.18901613814458323,-0.21580060655677194,-0.25028947535969315]|[0.28563332189643903,0.12352137159136072,0.10704576916784396,0.10308415091434517,0.10194145377439431,0.09566259810925995,0.09313433649142712,0.08997699805492955]|0.0       |\n",
      "|0.0  |(568,[26,504,559,563,566,567],[1.0,1.0,1.0,1.0,3.0,1.0])  |user_000518|United Kingdom|wednesday  |noon     |3        |1     |<5_mins    |[0.9048653611093891,0.06657065456238523,-0.07658704362162877,-0.11429788202121619,-0.12544486996788104,-0.18901613814458323,-0.21580060655677194,-0.25028947535969315]|[0.28563332189643903,0.12352137159136072,0.10704576916784396,0.10308415091434517,0.10194145377439431,0.09566259810925995,0.09313433649142712,0.08997699805492955]|0.0       |\n",
      "+-----+----------------------------------------------------------+-----------+--------------+-----------+---------+---------+------+-----------+----------------------------------------------------------------------------------------------------------------------------------------------------------------------+-----------------------------------------------------------------------------------------------------------------------------------------------------------------+----------+\n",
      "\n"
     ]
    }
   ],
   "source": [
    "predictions.sample(0.00001).show(20, False)"
   ]
  },
  {
   "cell_type": "code",
   "execution_count": 97,
   "metadata": {},
   "outputs": [
    {
     "data": {
      "text/html": [
       "<div>\n",
       "<style scoped>\n",
       "    .dataframe tbody tr th:only-of-type {\n",
       "        vertical-align: middle;\n",
       "    }\n",
       "\n",
       "    .dataframe tbody tr th {\n",
       "        vertical-align: top;\n",
       "    }\n",
       "\n",
       "    .dataframe thead th {\n",
       "        text-align: right;\n",
       "    }\n",
       "</style>\n",
       "<table border=\"1\" class=\"dataframe\">\n",
       "  <thead>\n",
       "    <tr style=\"text-align: right;\">\n",
       "      <th></th>\n",
       "      <th>label</th>\n",
       "      <th>count</th>\n",
       "    </tr>\n",
       "  </thead>\n",
       "  <tbody>\n",
       "    <tr>\n",
       "      <th>0</th>\n",
       "      <td>0.0</td>\n",
       "      <td>90197</td>\n",
       "    </tr>\n",
       "    <tr>\n",
       "      <th>1</th>\n",
       "      <td>1.0</td>\n",
       "      <td>37923</td>\n",
       "    </tr>\n",
       "    <tr>\n",
       "      <th>2</th>\n",
       "      <td>2.0</td>\n",
       "      <td>32777</td>\n",
       "    </tr>\n",
       "    <tr>\n",
       "      <th>3</th>\n",
       "      <td>3.0</td>\n",
       "      <td>32376</td>\n",
       "    </tr>\n",
       "    <tr>\n",
       "      <th>4</th>\n",
       "      <td>4.0</td>\n",
       "      <td>31170</td>\n",
       "    </tr>\n",
       "    <tr>\n",
       "      <th>5</th>\n",
       "      <td>5.0</td>\n",
       "      <td>29228</td>\n",
       "    </tr>\n",
       "    <tr>\n",
       "      <th>6</th>\n",
       "      <td>6.0</td>\n",
       "      <td>28335</td>\n",
       "    </tr>\n",
       "    <tr>\n",
       "      <th>7</th>\n",
       "      <td>7.0</td>\n",
       "      <td>27666</td>\n",
       "    </tr>\n",
       "  </tbody>\n",
       "</table>\n",
       "</div>"
      ],
      "text/plain": [
       "   label  count\n",
       "0    0.0  90197\n",
       "1    1.0  37923\n",
       "2    2.0  32777\n",
       "3    3.0  32376\n",
       "4    4.0  31170\n",
       "5    5.0  29228\n",
       "6    6.0  28335\n",
       "7    7.0  27666"
      ]
     },
     "execution_count": 97,
     "metadata": {},
     "output_type": "execute_result"
    }
   ],
   "source": [
    "class_temp  = predictions.select(\"label\").groupBy(\"label\").count().sort('count', ascending=False).toPandas()\n",
    "class_temp"
   ]
  },
  {
   "cell_type": "code",
   "execution_count": 98,
   "metadata": {},
   "outputs": [],
   "source": [
    "class_names = class_temp['label']"
   ]
  },
  {
   "cell_type": "code",
   "execution_count": 99,
   "metadata": {},
   "outputs": [
    {
     "data": {
      "text/plain": [
       "0    0.0\n",
       "1    1.0\n",
       "2    2.0\n",
       "3    3.0\n",
       "4    4.0\n",
       "5    5.0\n",
       "6    6.0\n",
       "7    7.0\n",
       "Name: label, dtype: float64"
      ]
     },
     "execution_count": 99,
     "metadata": {},
     "output_type": "execute_result"
    }
   ],
   "source": [
    "class_names"
   ]
  },
  {
   "cell_type": "markdown",
   "metadata": {},
   "source": [
    "### Manually Create Confusion Matrix"
   ]
  },
  {
   "cell_type": "code",
   "execution_count": 100,
   "metadata": {},
   "outputs": [
    {
     "name": "stdout",
     "output_type": "stream",
     "text": [
      "+-----+----------+\n",
      "|label|prediction|\n",
      "+-----+----------+\n",
      "|  3.0|       0.0|\n",
      "|  5.0|       0.0|\n",
      "|  1.0|       0.0|\n",
      "|  5.0|       0.0|\n",
      "|  1.0|       0.0|\n",
      "|  1.0|       0.0|\n",
      "|  2.0|       0.0|\n",
      "|  2.0|       0.0|\n",
      "|  2.0|       0.0|\n",
      "|  1.0|       0.0|\n",
      "|  2.0|       0.0|\n",
      "|  3.0|       0.0|\n",
      "|  3.0|       0.0|\n",
      "|  3.0|       0.0|\n",
      "|  3.0|       0.0|\n",
      "|  3.0|       0.0|\n",
      "|  7.0|       0.0|\n",
      "|  3.0|       0.0|\n",
      "|  3.0|       0.0|\n",
      "|  3.0|       0.0|\n",
      "+-----+----------+\n",
      "only showing top 20 rows\n",
      "\n"
     ]
    }
   ],
   "source": [
    "df = predictions.select('label','prediction')\n",
    "df.show()"
   ]
  },
  {
   "cell_type": "code",
   "execution_count": 101,
   "metadata": {},
   "outputs": [
    {
     "name": "stdout",
     "output_type": "stream",
     "text": [
      "\tLABEL\tLabels\tPredictions\n",
      "\t0.0\t90197\t90197\n",
      "\t1.0\t37923\t0\n",
      "\t2.0\t32777\t0\n",
      "\t3.0\t32376\t0\n",
      "\t4.0\t31170\t0\n",
      "\t5.0\t29228\t0\n",
      "\t6.0\t28335\t0\n",
      "\t7.0\t27666\t0\n"
     ]
    }
   ],
   "source": [
    "print(\"\\tLABEL\\tLabels\\tPredictions\")\n",
    "for label in class_names:\n",
    "    num_labels = df[df['label'] == label].count()\n",
    "    num_correct_preds = df[(df['label'] == label) & (df['prediction'] == label)].count()\n",
    "    print(\"\\t{}\\t{}\\t{}\".format(label,num_labels,num_correct_preds))"
   ]
  },
  {
   "cell_type": "code",
   "execution_count": 102,
   "metadata": {},
   "outputs": [],
   "source": [
    "predictions_rdd = predictions.select('prediction','label').rdd.map(tuple)"
   ]
  },
  {
   "cell_type": "code",
   "execution_count": 103,
   "metadata": {},
   "outputs": [
    {
     "data": {
      "text/plain": [
       "[(0.0, 3.0), (0.0, 5.0), (0.0, 1.0), (0.0, 5.0), (0.0, 1.0)]"
      ]
     },
     "execution_count": 103,
     "metadata": {},
     "output_type": "execute_result"
    }
   ],
   "source": [
    "predictions_rdd.take(5)"
   ]
  },
  {
   "cell_type": "code",
   "execution_count": 104,
   "metadata": {},
   "outputs": [],
   "source": [
    "from pyspark.mllib.classification import LogisticRegressionWithLBFGS\n",
    "from pyspark.mllib.util import MLUtils\n",
    "from pyspark.mllib.evaluation import MulticlassMetrics\n",
    "\n"
   ]
  },
  {
   "cell_type": "code",
   "execution_count": 105,
   "metadata": {},
   "outputs": [],
   "source": [
    "metrics = MulticlassMetrics(predictions_rdd.map(tuple))"
   ]
  },
  {
   "cell_type": "code",
   "execution_count": 106,
   "metadata": {},
   "outputs": [
    {
     "name": "stdout",
     "output_type": "stream",
     "text": [
      "Summary Stats\n",
      "Precision = \t\t0.291266242993\n",
      "Recall = \t\t0.291266242993\n",
      "F1 Score = \t\t0.291266242993\n",
      "Class 0.0 precision = \t0.291266242993\n",
      "Class 0.0 recall = \t1.0\n",
      "Class 0.0 F1 Measure = \t0.451132745974\n",
      "Class 1.0 precision = \t0.0\n",
      "Class 1.0 recall = \t0.0\n",
      "Class 1.0 F1 Measure = \t0.0\n",
      "Class 2.0 precision = \t0.0\n",
      "Class 2.0 recall = \t0.0\n",
      "Class 2.0 F1 Measure = \t0.0\n",
      "Class 3.0 precision = \t0.0\n",
      "Class 3.0 recall = \t0.0\n",
      "Class 3.0 F1 Measure = \t0.0\n",
      "Class 4.0 precision = \t0.0\n",
      "Class 4.0 recall = \t0.0\n",
      "Class 4.0 F1 Measure = \t0.0\n",
      "Class 5.0 precision = \t0.0\n",
      "Class 5.0 recall = \t0.0\n",
      "Class 5.0 F1 Measure = \t0.0\n",
      "Class 6.0 precision = \t0.0\n",
      "Class 6.0 recall = \t0.0\n",
      "Class 6.0 F1 Measure = \t0.0\n",
      "Class 7.0 precision = \t0.0\n",
      "Class 7.0 recall = \t0.0\n",
      "Class 7.0 F1 Measure = \t0.0\n",
      "Weighted recall = \t0.291266242993\n",
      "Weighted precision = \t0.084836024307\n",
      "Weighted F(1) Score = \t0.131399740011\n",
      "Weighted F(0.5) Score = 0.0988473092826\n",
      "Weighted false positive rate = 0.291266242993\n"
     ]
    }
   ],
   "source": [
    "\n",
    "\n",
    "# Overall statistics\n",
    "precision = metrics.precision()\n",
    "recall = metrics.recall()\n",
    "f1Score = metrics.fMeasure()\n",
    "print(\"Summary Stats\")\n",
    "print(\"Precision = \\t\\t%s\" % precision)\n",
    "print(\"Recall = \\t\\t%s\" % recall)\n",
    "print(\"F1 Score = \\t\\t%s\" % f1Score)\n",
    "\n",
    "# Statistics by class\n",
    "#labels = data.map(lambda lp: lp.label).distinct().collect()\n",
    "labels = class_names\n",
    "for label in sorted(labels):\n",
    "    print(\"Class %s precision = \\t%s\" % (label, metrics.precision(label)))\n",
    "    print(\"Class %s recall = \\t%s\" % (label, metrics.recall(label)))\n",
    "    print(\"Class %s F1 Measure = \\t%s\" % (label, metrics.fMeasure(label, beta=1.0)))\n",
    "\n",
    "# Weighted stats\n",
    "print(\"Weighted recall = \\t%s\" % metrics.weightedRecall)\n",
    "print(\"Weighted precision = \\t%s\" % metrics.weightedPrecision)\n",
    "print(\"Weighted F(1) Score = \\t%s\" % metrics.weightedFMeasure())\n",
    "print(\"Weighted F(0.5) Score = %s\" % metrics.weightedFMeasure(beta=0.5))\n",
    "print(\"Weighted false positive rate = %s\" % metrics.weightedFalsePositiveRate)"
   ]
  },
  {
   "cell_type": "code",
   "execution_count": 107,
   "metadata": {},
   "outputs": [],
   "source": [
    "m = metrics.confusionMatrix()"
   ]
  },
  {
   "cell_type": "code",
   "execution_count": 108,
   "metadata": {},
   "outputs": [],
   "source": [
    "from pyspark.mllib.linalg import Vectors, DenseMatrix \n",
    "\n",
    "import seaborn as sns\n",
    "sns.set() \n",
    "\n",
    "\n",
    "def display_cm(m):\n",
    "  a = m.toArray().astype(np.float)\n",
    "  row_sums = a.sum(axis=1)\n",
    "  percentage_matrix = a.astype(np.float) / row_sums[:, np.newaxis]\n",
    "  print(percentage_matrix)\n",
    "  plt.figure(figsize=(3, 3))\n",
    "  sns.heatmap(percentage_matrix, annot=True,  fmt='.2f', xticklabels=['0' ,'1','2'], yticklabels=['0' ,'1','2']);\n",
    "  plt.title('Confusion Matrix');"
   ]
  },
  {
   "cell_type": "code",
   "execution_count": 109,
   "metadata": {},
   "outputs": [
    {
     "name": "stdout",
     "output_type": "stream",
     "text": [
      "[[1. 0. 0. 0. 0. 0. 0. 0.]\n",
      " [1. 0. 0. 0. 0. 0. 0. 0.]\n",
      " [1. 0. 0. 0. 0. 0. 0. 0.]\n",
      " [1. 0. 0. 0. 0. 0. 0. 0.]\n",
      " [1. 0. 0. 0. 0. 0. 0. 0.]\n",
      " [1. 0. 0. 0. 0. 0. 0. 0.]\n",
      " [1. 0. 0. 0. 0. 0. 0. 0.]\n",
      " [1. 0. 0. 0. 0. 0. 0. 0.]]\n"
     ]
    },
    {
     "data": {
      "image/png": "[encoded data removed]",
      "text/plain": [
       "<Figure size 216x216 with 2 Axes>"
      ]
     },
     "metadata": {},
     "output_type": "display_data"
    }
   ],
   "source": [
    "display_cm(m)"
   ]
  },
  {
   "cell_type": "markdown",
   "metadata": {},
   "source": [
    "### BASELINE DL model with an generic MLP Classifier"
   ]
  },
  {
   "cell_type": "code",
   "execution_count": null,
   "metadata": {},
   "outputs": [],
   "source": []
  },
  {
   "cell_type": "code",
   "execution_count": 110,
   "metadata": {},
   "outputs": [
    {
     "name": "stdout",
     "output_type": "stream",
     "text": [
      "root\n",
      " |-- label: double (nullable = false)\n",
      " |-- features: vector (nullable = true)\n",
      " |-- userid: string (nullable = true)\n",
      " |-- country: string (nullable = true)\n",
      " |-- day_of_week: string (nullable = true)\n",
      " |-- timeofday: string (nullable = true)\n",
      " |-- sessionid: integer (nullable = true)\n",
      " |-- window: integer (nullable = true)\n",
      " |-- description: string (nullable = true)\n",
      "\n"
     ]
    }
   ],
   "source": [
    "train_data.printSchema()"
   ]
  },
  {
   "cell_type": "code",
   "execution_count": 111,
   "metadata": {},
   "outputs": [],
   "source": [
    "def mlp_classifier():\n",
    "    print(\"###########################################################################################\")\n",
    "    print(\"##################################       MLP CLASSIFIER      ##############################\")\n",
    "    print(\"###########################################################################################\")\n",
    "    global mlp_results\n",
    "    global train_data, dev_data, test_data\n",
    "    layer_1 = train_data.schema[\"features\"].metadata[\"ml_attr\"][\"num_attrs\"]\n",
    "    layer_2 = layer_1*4\n",
    "    layer_3 = int(layer_2/2)\n",
    "    layer_4 = num_buckets\n",
    "    layers = [layer_1, layer_2, layer_3, layer_4]\n",
    "    print(\"LAYERS: \\t{}\".format(layers))\n",
    "    print(\"---------------------------------  Training MLP Model        ------------------------------\")\n",
    "    trainer = MultilayerPerceptronClassifier(maxIter=5, layers=layers, blockSize=128)\n",
    "    print(\"---------------------------------  Fitting Model to TRAIN    ------------------------------\")\n",
    "    mlp_model = trainer.fit (train_data)        \n",
    "    print(\"---------------------------------  Testing Model against DEV ------------------------------\")\n",
    "    predictions = mlp_model.transform(dev_data)\n",
    "    selected = predictions.select(\"label\", \"prediction\", \"userid\", \"country\", \"day_of_week\", \"timeofday\", \"sessionid\", \"window\")\n",
    "    print(\"evaluator = MulticlassClassificationEvaluator().....\")\n",
    "    evaluator = MulticlassClassificationEvaluator().setMetricName('accuracy').setLabelCol('label').setPredictionCol(\"prediction\")\n",
    "    print(\"result = evaluator.evaluate(mlp_model.transform(dev_data))\")\n",
    "    result = evaluator.evaluate(mlp_model.transform(dev_data))\n",
    "    mlp_results.append(result)\n",
    "    print(\"MLP CLASSIFIER RESULTS:\\t{}\".format(mlp_results))"
   ]
  },
  {
   "cell_type": "code",
   "execution_count": 112,
   "metadata": {},
   "outputs": [],
   "source": [
    "mlp_results = []\n",
    "#mlp_classifier()"
   ]
  },
  {
   "cell_type": "markdown",
   "metadata": {},
   "source": [
    "### BASELINE Model with Decision Tree Classifier"
   ]
  },
  {
   "cell_type": "code",
   "execution_count": 113,
   "metadata": {},
   "outputs": [],
   "source": [
    "dt_results = []\n",
    "maxBins = 100\n"
   ]
  },
  {
   "cell_type": "code",
   "execution_count": 114,
   "metadata": {},
   "outputs": [],
   "source": [
    "def decisionTree_classifier(max_depth):\n",
    "    global dt_results\n",
    "    global train_data, dev_data, test_data\n",
    "    dt = DecisionTreeClassifier(labelCol=\"label\", featuresCol=\"features\", maxDepth=max_depth, maxBins=100)\n",
    "    dtModel = dt.fit(train_data)\n",
    "    #print(\"numNodes = \", dtModel.numNodes)\n",
    "    #print(\"depth = \", dtModel.depth)\n",
    "    evaluator = MulticlassClassificationEvaluator().setMetricName ('accuracy').setPredictionCol ('prediction').setLabelCol ('label')\n",
    "    #print(\"result = evaluator.evaluate(dfModel.transform(dev_data))\")\n",
    "    result = evaluator.evaluate(dtModel.transform(dev_data))\n",
    "    #print(\"dt_results.append(result)\")\n",
    "    dt_results.append(result)\n",
    "    #print(\"DECISION TREE CLASSIFIER RESULTS:\\t{}\".format(dt_results))"
   ]
  },
  {
   "cell_type": "code",
   "execution_count": null,
   "metadata": {},
   "outputs": [],
   "source": []
  },
  {
   "cell_type": "code",
   "execution_count": 115,
   "metadata": {},
   "outputs": [],
   "source": [
    "def eval_dt_classifier():\n",
    "    print(\"###########################################################################################\")\n",
    "    print(\"###############################          DECISION TREE              #######################\")\n",
    "    print(\"###########################################################################################\")\n",
    "    print(\"\\tNUM_TREES\\tMAX_TREE_DEPTH\\t\\tACCURACY\")\n",
    "    global rf_results\n",
    "    for max_tree_depth in max_tree_depths:\n",
    "        decisionTree_classifier(max_tree_depth)\n",
    "        print(\"\\t{}\".format(rf_results))\n",
    "        "
   ]
  },
  {
   "cell_type": "code",
   "execution_count": 116,
   "metadata": {},
   "outputs": [],
   "source": [
    "max_tree_depths = [1,2,3,4,5,6,7,8,9,10]"
   ]
  },
  {
   "cell_type": "code",
   "execution_count": 117,
   "metadata": {},
   "outputs": [
    {
     "name": "stdout",
     "output_type": "stream",
     "text": [
      "###########################################################################################\n",
      "###############################          DECISION TREE              #######################\n",
      "###########################################################################################\n",
      "\tNUM_TREES\tMAX_TREE_DEPTH\t\tACCURACY\n",
      "\t[]\n",
      "\t[]\n",
      "\t[]\n",
      "\t[]\n",
      "\t[]\n",
      "\t[]\n",
      "\t[]\n",
      "\t[]\n",
      "\t[]\n",
      "\t[]\n"
     ]
    }
   ],
   "source": [
    "rf_results = []\n",
    "eval_dt_classifier()"
   ]
  },
  {
   "cell_type": "markdown",
   "metadata": {},
   "source": [
    "### BASELINE Model with RandomForest Classifier"
   ]
  },
  {
   "cell_type": "code",
   "execution_count": 118,
   "metadata": {},
   "outputs": [],
   "source": [
    "rfModel = None\n",
    "def randomForest_classifier(num_tree, max_tree_depth):\n",
    "    global rf_results\n",
    "    global rfModel\n",
    "    global train_data, dev_data, test_data\n",
    "    #rf = RandomForestClassifier(labelCol=\"label\", featuresCol=\"features\", maxDepth=20, maxBins=100)\n",
    "    rf = RandomForestClassifier(numTrees=num_tree, featureSubsetStrategy=\"auto\", impurity=\"gini\", labelCol=\"label\", featuresCol=\"features\", maxDepth=max_tree_depth, maxBins=100)\n",
    "    \n",
    "    #print(\"---------------------------------  Fitting Model to Train     ------------------------------\")\n",
    "    rfModel = rf.fit(train_data)\n",
    "    #print(\"---------------------------------  Transforming Dev           ------------------------------\")\n",
    "    predictions = rfModel.transform(dev_data)\n",
    "    selected = predictions.select(\"label\", \"prediction\", \"userid\", \"country\", \"day_of_week\", \"timeofday\", \"sessionid\",\"window\")\n",
    "    #print(\"---------------------------------     Evaluating Model        ------------------------------\")\n",
    "    evaluator = MulticlassClassificationEvaluator().setMetricName('accuracy').setPredictionCol ('prediction').setLabelCol ('label')\n",
    "    result = evaluator.evaluate(rfModel.transform(dev_data))\n",
    "    #print(\"---------------------------------  Summarizing Results        ------------------------------\")\n",
    "    rf_results.update({num_tree:{max_tree_depth:result}})\n",
    "    #print(\"RANDOM FOREST CLASSIFIER RESULTS:\\t{}\".format(rf_results))"
   ]
  },
  {
   "cell_type": "code",
   "execution_count": 119,
   "metadata": {},
   "outputs": [],
   "source": [
    "def eval_rf_classifier():\n",
    "    print(\"###########################################################################################\")\n",
    "    print(\"###############################          RANDOM FOREST              #######################\")\n",
    "    print(\"###########################################################################################\")\n",
    "    print(\"\\tNUM_TREES\\tMAX_TREE_DEPTH\\t\\tACCURACY\")\n",
    "    for num_tree in num_trees:\n",
    "        for max_tree_depth in max_tree_depths:\n",
    "            randomForest_classifier(num_tree, max_tree_depth)\n",
    "            print(\"\\t{}\\t\\t\\t{}\\t\\t{}\".format(num_tree, max_tree_depth,rf_results))\n",
    "        "
   ]
  },
  {
   "cell_type": "code",
   "execution_count": 120,
   "metadata": {},
   "outputs": [],
   "source": [
    "max_tree_depths = [1,2,3,4,5,6,7,8,9,10]\n",
    "num_trees       = [10,20,30,40,50,60,70,80,100]"
   ]
  },
  {
   "cell_type": "code",
   "execution_count": 121,
   "metadata": {},
   "outputs": [
    {
     "name": "stdout",
     "output_type": "stream",
     "text": [
      "###########################################################################################\n",
      "###############################          RANDOM FOREST              #######################\n",
      "###########################################################################################\n",
      "\tNUM_TREES\tMAX_TREE_DEPTH\t\tACCURACY\n",
      "\t10\t\t\t1\t\t{10: {1: 0.2912662429925857}}\n",
      "\t10\t\t\t2\t\t{10: {2: 0.291992818207652}}\n",
      "\t10\t\t\t3\t\t{10: {3: 0.29198313053811775}}\n",
      "\t10\t\t\t4\t\t{10: {4: 0.29198313053811775}}\n",
      "\t10\t\t\t5\t\t{10: {5: 0.29203479810896693}}\n",
      "\t10\t\t\t6\t\t{10: {6: 0.29216719625926785}}\n",
      "\t10\t\t\t7\t\t{10: {7: 0.2921994884910486}}\n",
      "\t10\t\t\t8\t\t{10: {8: 0.2942629621018368}}\n",
      "\t10\t\t\t9\t\t{10: {9: 0.2942629621018368}}\n",
      "\t10\t\t\t10\t\t{10: {10: 0.29493141129969774}}\n",
      "\t20\t\t\t1\t\t{10: {10: 0.29493141129969774}, 20: {1: 0.2912662429925857}}\n",
      "\t20\t\t\t2\t\t{10: {10: 0.29493141129969774}, 20: {2: 0.2912662429925857}}\n",
      "\t20\t\t\t3\t\t{10: {10: 0.29493141129969774}, 20: {3: 0.2912662429925857}}\n",
      "\t20\t\t\t4\t\t{10: {10: 0.29493141129969774}, 20: {4: 0.2912662429925857}}\n",
      "\t20\t\t\t5\t\t{10: {10: 0.29493141129969774}, 20: {5: 0.2912662429925857}}\n",
      "\t20\t\t\t6\t\t{10: {10: 0.29493141129969774}, 20: {6: 0.2922220930532951}}\n",
      "\t20\t\t\t7\t\t{10: {10: 0.29493141129969774}, 20: {7: 0.29231251130228114}}\n",
      "\t20\t\t\t8\t\t{10: {10: 0.29493141129969774}, 20: {8: 0.29242553411351363}}\n",
      "\t20\t\t\t9\t\t{10: {10: 0.29493141129969774}, 20: {9: 0.29246428479165054}}\n",
      "\t20\t\t\t10\t\t{10: {10: 0.29493141129969774}, 20: {10: 0.29528985507246375}}\n",
      "\t30\t\t\t1\t\t{10: {10: 0.29493141129969774}, 20: {10: 0.29528985507246375}, 30: {1: 0.2912662429925857}}\n",
      "\t30\t\t\t2\t\t{10: {10: 0.29493141129969774}, 20: {10: 0.29528985507246375}, 30: {2: 0.2912662429925857}}\n",
      "\t30\t\t\t3\t\t{10: {10: 0.29493141129969774}, 20: {10: 0.29528985507246375}, 30: {3: 0.2912662429925857}}\n",
      "\t30\t\t\t4\t\t{10: {10: 0.29493141129969774}, 20: {10: 0.29528985507246375}, 30: {4: 0.2912662429925857}}\n",
      "\t30\t\t\t5\t\t{10: {10: 0.29493141129969774}, 20: {10: 0.29528985507246375}, 30: {5: 0.2912823891084761}}\n",
      "\t30\t\t\t6\t\t{10: {10: 0.29493141129969774}, 20: {10: 0.29528985507246375}, 30: {6: 0.29364940969800307}}\n",
      "\t30\t\t\t7\t\t{10: {10: 0.29493141129969774}, 20: {10: 0.29528985507246375}, 30: {7: 0.2936655558138934}}\n",
      "\t30\t\t\t8\t\t{10: {10: 0.29493141129969774}, 20: {10: 0.29528985507246375}, 30: {8: 0.29368170192978377}}\n",
      "\t30\t\t\t9\t\t{10: {10: 0.29493141129969774}, 20: {10: 0.29528985507246375}, 30: {9: 0.29414671006742615}}\n",
      "\t30\t\t\t10\t\t{10: {10: 0.29493141129969774}, 20: {10: 0.29528985507246375}, 30: {10: 0.29594215815443436}}\n",
      "\t40\t\t\t1\t\t{40: {1: 0.2912662429925857}, 10: {10: 0.29493141129969774}, 20: {10: 0.29528985507246375}, 30: {10: 0.29594215815443436}}\n",
      "\t40\t\t\t2\t\t{40: {2: 0.2912662429925857}, 10: {10: 0.29493141129969774}, 20: {10: 0.29528985507246375}, 30: {10: 0.29594215815443436}}\n",
      "\t40\t\t\t3\t\t{40: {3: 0.2912662429925857}, 10: {10: 0.29493141129969774}, 20: {10: 0.29528985507246375}, 30: {10: 0.29594215815443436}}\n",
      "\t40\t\t\t4\t\t{40: {4: 0.2912662429925857}, 10: {10: 0.29493141129969774}, 20: {10: 0.29528985507246375}, 30: {10: 0.29594215815443436}}\n",
      "\t40\t\t\t5\t\t{40: {5: 0.2912662429925857}, 10: {10: 0.29493141129969774}, 20: {10: 0.29528985507246375}, 30: {10: 0.29594215815443436}}\n",
      "\t40\t\t\t6\t\t{40: {6: 0.2912662429925857}, 10: {10: 0.29493141129969774}, 20: {10: 0.29528985507246375}, 30: {10: 0.29594215815443436}}\n",
      "\t40\t\t\t8\t\t{40: {8: 0.294227440646878}, 10: {10: 0.29493141129969774}, 20: {10: 0.29528985507246375}, 30: {10: 0.29594215815443436}}\n",
      "\t40\t\t\t9\t\t{40: {9: 0.29452452917926064}, 10: {10: 0.29493141129969774}, 20: {10: 0.29528985507246375}, 30: {10: 0.29594215815443436}}\n",
      "\t40\t\t\t10\t\t{40: {10: 0.2947893254798626}, 10: {10: 0.29493141129969774}, 20: {10: 0.29528985507246375}, 30: {10: 0.29594215815443436}}\n",
      "\t50\t\t\t1\t\t{40: {10: 0.2947893254798626}, 10: {10: 0.29493141129969774}, 20: {10: 0.29528985507246375}, 50: {1: 0.2912662429925857}, 30: {10: 0.29594215815443436}}\n",
      "\t50\t\t\t2\t\t{50: {2: 0.2912662429925857}, 20: {10: 0.29528985507246375}, 40: {10: 0.2947893254798626}, 10: {10: 0.29493141129969774}, 30: {10: 0.29594215815443436}}\n",
      "\t50\t\t\t3\t\t{50: {3: 0.2912662429925857}, 20: {10: 0.29528985507246375}, 40: {10: 0.2947893254798626}, 10: {10: 0.29493141129969774}, 30: {10: 0.29594215815443436}}\n",
      "\t50\t\t\t4\t\t{50: {4: 0.2912662429925857}, 20: {10: 0.29528985507246375}, 40: {10: 0.2947893254798626}, 10: {10: 0.29493141129969774}, 30: {10: 0.29594215815443436}}\n",
      "\t50\t\t\t5\t\t{50: {5: 0.2912662429925857}, 20: {10: 0.29528985507246375}, 40: {10: 0.2947893254798626}, 10: {10: 0.29493141129969774}, 30: {10: 0.29594215815443436}}\n",
      "\t50\t\t\t6\t\t{50: {6: 0.2912662429925857}, 20: {10: 0.29528985507246375}, 40: {10: 0.2947893254798626}, 10: {10: 0.29493141129969774}, 30: {10: 0.29594215815443436}}\n",
      "\t50\t\t\t7\t\t{50: {7: 0.2915633315249683}, 20: {10: 0.29528985507246375}, 40: {10: 0.2947893254798626}, 10: {10: 0.29493141129969774}, 30: {10: 0.29594215815443436}}\n",
      "\t50\t\t\t8\t\t{50: {8: 0.2925805368260611}, 20: {10: 0.29528985507246375}, 40: {10: 0.2947893254798626}, 10: {10: 0.29493141129969774}, 30: {10: 0.29594215815443436}}\n",
      "\t50\t\t\t9\t\t{50: {9: 0.2934007595132915}, 20: {10: 0.29528985507246375}, 40: {10: 0.2947893254798626}, 10: {10: 0.29493141129969774}, 30: {10: 0.29594215815443436}}\n",
      "\t50\t\t\t10\t\t{50: {10: 0.2959324704849002}, 20: {10: 0.29528985507246375}, 40: {10: 0.2947893254798626}, 10: {10: 0.29493141129969774}, 30: {10: 0.29594215815443436}}\n",
      "\t60\t\t\t1\t\t{50: {10: 0.2959324704849002}, 20: {10: 0.29528985507246375}, 40: {10: 0.2947893254798626}, 10: {10: 0.29493141129969774}, 60: {1: 0.2912662429925857}, 30: {10: 0.29594215815443436}}\n",
      "\t60\t\t\t2\t\t{50: {10: 0.2959324704849002}, 20: {10: 0.29528985507246375}, 40: {10: 0.2947893254798626}, 10: {10: 0.29493141129969774}, 60: {2: 0.2912662429925857}, 30: {10: 0.29594215815443436}}\n",
      "\t60\t\t\t3\t\t{50: {10: 0.2959324704849002}, 20: {10: 0.29528985507246375}, 40: {10: 0.2947893254798626}, 10: {10: 0.29493141129969774}, 60: {3: 0.2912662429925857}, 30: {10: 0.29594215815443436}}\n",
      "\t60\t\t\t4\t\t{50: {10: 0.2959324704849002}, 20: {10: 0.29528985507246375}, 40: {10: 0.2947893254798626}, 10: {10: 0.29493141129969774}, 60: {4: 0.2912662429925857}, 30: {10: 0.29594215815443436}}\n",
      "\t60\t\t\t5\t\t{50: {10: 0.2959324704849002}, 20: {10: 0.29528985507246375}, 40: {10: 0.2947893254798626}, 10: {10: 0.29493141129969774}, 60: {5: 0.2912662429925857}, 30: {10: 0.29594215815443436}}\n",
      "\t60\t\t\t6\t\t{50: {10: 0.2959324704849002}, 20: {10: 0.29528985507246375}, 40: {10: 0.2947893254798626}, 10: {10: 0.29493141129969774}, 60: {6: 0.2912662429925857}, 30: {10: 0.29594215815443436}}\n",
      "\t60\t\t\t7\t\t{50: {10: 0.2959324704849002}, 20: {10: 0.29528985507246375}, 40: {10: 0.2947893254798626}, 10: {10: 0.29493141129969774}, 60: {7: 0.29376566173241364}, 30: {10: 0.29594215815443436}}\n",
      "\t60\t\t\t8\t\t{50: {10: 0.2959324704849002}, 20: {10: 0.29528985507246375}, 40: {10: 0.2947893254798626}, 10: {10: 0.29493141129969774}, 60: {8: 0.294227440646878}, 30: {10: 0.29594215815443436}}\n",
      "\t60\t\t\t9\t\t{50: {10: 0.2959324704849002}, 20: {10: 0.29528985507246375}, 40: {10: 0.2947893254798626}, 10: {10: 0.29493141129969774}, 60: {9: 0.29429202511043945}, 30: {10: 0.29594215815443436}}\n",
      "\t60\t\t\t10\t\t{50: {10: 0.2959324704849002}, 20: {10: 0.29528985507246375}, 40: {10: 0.2947893254798626}, 10: {10: 0.29493141129969774}, 60: {10: 0.2953738148750936}, 30: {10: 0.29594215815443436}}\n",
      "\t70\t\t\t1\t\t{50: {10: 0.2959324704849002}, 20: {10: 0.29528985507246375}, 70: {1: 0.2912662429925857}, 40: {10: 0.2947893254798626}, 10: {10: 0.29493141129969774}, 60: {10: 0.2953738148750936}, 30: {10: 0.29594215815443436}}\n",
      "\t70\t\t\t2\t\t{50: {10: 0.2959324704849002}, 20: {10: 0.29528985507246375}, 70: {2: 0.2912662429925857}, 40: {10: 0.2947893254798626}, 10: {10: 0.29493141129969774}, 60: {10: 0.2953738148750936}, 30: {10: 0.29594215815443436}}\n",
      "\t70\t\t\t3\t\t{50: {10: 0.2959324704849002}, 20: {10: 0.29528985507246375}, 70: {3: 0.2912662429925857}, 40: {10: 0.2947893254798626}, 10: {10: 0.29493141129969774}, 60: {10: 0.2953738148750936}, 30: {10: 0.29594215815443436}}\n",
      "\t70\t\t\t4\t\t{50: {10: 0.2959324704849002}, 20: {10: 0.29528985507246375}, 70: {4: 0.2912662429925857}, 40: {10: 0.2947893254798626}, 10: {10: 0.29493141129969774}, 60: {10: 0.2953738148750936}, 30: {10: 0.29594215815443436}}\n",
      "\t70\t\t\t5\t\t{50: {10: 0.2959324704849002}, 20: {10: 0.29528985507246375}, 70: {5: 0.2912662429925857}, 40: {10: 0.2947893254798626}, 10: {10: 0.29493141129969774}, 60: {10: 0.2953738148750936}, 30: {10: 0.29594215815443436}}\n"
     ]
    },
    {
     "name": "stdout",
     "output_type": "stream",
     "text": [
      "\t70\t\t\t6\t\t{50: {10: 0.2959324704849002}, 20: {10: 0.29528985507246375}, 70: {6: 0.2912662429925857}, 40: {10: 0.2947893254798626}, 10: {10: 0.29493141129969774}, 60: {10: 0.2953738148750936}, 30: {10: 0.29594215815443436}}\n",
      "\t70\t\t\t7\t\t{50: {10: 0.2959324704849002}, 20: {10: 0.29528985507246375}, 70: {7: 0.29254178614792425}, 40: {10: 0.2947893254798626}, 10: {10: 0.29493141129969774}, 60: {10: 0.2953738148750936}, 30: {10: 0.29594215815443436}}\n",
      "\t70\t\t\t8\t\t{50: {10: 0.2959324704849002}, 20: {10: 0.29528985507246375}, 70: {8: 0.2946149474282467}, 40: {10: 0.2947893254798626}, 10: {10: 0.29493141129969774}, 60: {10: 0.2953738148750936}, 30: {10: 0.29594215815443436}}\n",
      "\t70\t\t\t9\t\t{50: {10: 0.2959324704849002}, 20: {10: 0.29528985507246375}, 70: {9: 0.2949346405228758}, 40: {10: 0.2947893254798626}, 10: {10: 0.29493141129969774}, 60: {10: 0.2953738148750936}, 30: {10: 0.29594215815443436}}\n",
      "\t70\t\t\t10\t\t{50: {10: 0.2959324704849002}, 20: {10: 0.29528985507246375}, 70: {10: 0.2961326823219406}, 40: {10: 0.2947893254798626}, 10: {10: 0.29493141129969774}, 60: {10: 0.2953738148750936}, 30: {10: 0.29594215815443436}}\n",
      "\t80\t\t\t1\t\t{80: {1: 0.2912662429925857}, 50: {10: 0.2959324704849002}, 20: {10: 0.29528985507246375}, 70: {10: 0.2961326823219406}, 40: {10: 0.2947893254798626}, 10: {10: 0.29493141129969774}, 60: {10: 0.2953738148750936}, 30: {10: 0.29594215815443436}}\n",
      "\t80\t\t\t3\t\t{80: {3: 0.2912662429925857}, 50: {10: 0.2959324704849002}, 20: {10: 0.29528985507246375}, 70: {10: 0.2961326823219406}, 40: {10: 0.2947893254798626}, 10: {10: 0.29493141129969774}, 60: {10: 0.2953738148750936}, 30: {10: 0.29594215815443436}}\n",
      "\t80\t\t\t4\t\t{80: {4: 0.2912662429925857}, 50: {10: 0.2959324704849002}, 20: {10: 0.29528985507246375}, 70: {10: 0.2961326823219406}, 40: {10: 0.2947893254798626}, 10: {10: 0.29493141129969774}, 60: {10: 0.2953738148750936}, 30: {10: 0.29594215815443436}}\n",
      "\t80\t\t\t5\t\t{80: {5: 0.2912662429925857}, 50: {10: 0.2959324704849002}, 20: {10: 0.29528985507246375}, 70: {10: 0.2961326823219406}, 40: {10: 0.2947893254798626}, 10: {10: 0.29493141129969774}, 60: {10: 0.2953738148750936}, 30: {10: 0.29594215815443436}}\n",
      "\t80\t\t\t6\t\t{80: {6: 0.2926903304141156}, 50: {10: 0.2959324704849002}, 20: {10: 0.29528985507246375}, 70: {10: 0.2961326823219406}, 40: {10: 0.2947893254798626}, 10: {10: 0.29493141129969774}, 60: {10: 0.2953738148750936}, 30: {10: 0.29594215815443436}}\n",
      "\t80\t\t\t7\t\t{80: {7: 0.2933620088351546}, 50: {10: 0.2959324704849002}, 20: {10: 0.29528985507246375}, 70: {10: 0.2961326823219406}, 40: {10: 0.2947893254798626}, 10: {10: 0.29493141129969774}, 60: {10: 0.2953738148750936}, 30: {10: 0.29594215815443436}}\n",
      "\t80\t\t\t8\t\t{80: {8: 0.2946084889818905}, 50: {10: 0.2959324704849002}, 20: {10: 0.29528985507246375}, 70: {10: 0.2961326823219406}, 40: {10: 0.2947893254798626}, 10: {10: 0.29493141129969774}, 60: {10: 0.2953738148750936}, 30: {10: 0.29594215815443436}}\n",
      "\t80\t\t\t9\t\t{80: {9: 0.2958000723345992}, 50: {10: 0.2959324704849002}, 20: {10: 0.29528985507246375}, 70: {10: 0.2961326823219406}, 40: {10: 0.2947893254798626}, 10: {10: 0.29493141129969774}, 60: {10: 0.2953738148750936}, 30: {10: 0.29594215815443436}}\n",
      "\t80\t\t\t10\t\t{80: {10: 0.2960358056265985}, 50: {10: 0.2959324704849002}, 20: {10: 0.29528985507246375}, 70: {10: 0.2961326823219406}, 40: {10: 0.2947893254798626}, 10: {10: 0.29493141129969774}, 60: {10: 0.2953738148750936}, 30: {10: 0.29594215815443436}}\n",
      "\t100\t\t\t1\t\t{80: {10: 0.2960358056265985}, 50: {10: 0.2959324704849002}, 20: {10: 0.29528985507246375}, 70: {10: 0.2961326823219406}, 40: {10: 0.2947893254798626}, 100: {1: 0.2912662429925857}, 10: {10: 0.29493141129969774}, 60: {10: 0.2953738148750936}, 30: {10: 0.29594215815443436}}\n",
      "\t100\t\t\t2\t\t{80: {10: 0.2960358056265985}, 50: {10: 0.2959324704849002}, 20: {10: 0.29528985507246375}, 70: {10: 0.2961326823219406}, 40: {10: 0.2947893254798626}, 100: {2: 0.2912662429925857}, 10: {10: 0.29493141129969774}, 60: {10: 0.2953738148750936}, 30: {10: 0.29594215815443436}}\n",
      "\t100\t\t\t3\t\t{80: {10: 0.2960358056265985}, 50: {10: 0.2959324704849002}, 20: {10: 0.29528985507246375}, 70: {10: 0.2961326823219406}, 40: {10: 0.2947893254798626}, 100: {3: 0.2912662429925857}, 10: {10: 0.29493141129969774}, 60: {10: 0.2953738148750936}, 30: {10: 0.29594215815443436}}\n",
      "\t100\t\t\t4\t\t{80: {10: 0.2960358056265985}, 50: {10: 0.2959324704849002}, 20: {10: 0.29528985507246375}, 70: {10: 0.2961326823219406}, 40: {10: 0.2947893254798626}, 100: {4: 0.2912662429925857}, 10: {10: 0.29493141129969774}, 60: {10: 0.2953738148750936}, 30: {10: 0.29594215815443436}}\n",
      "\t100\t\t\t5\t\t{80: {10: 0.2960358056265985}, 50: {10: 0.2959324704849002}, 20: {10: 0.29528985507246375}, 70: {10: 0.2961326823219406}, 40: {10: 0.2947893254798626}, 100: {5: 0.2912662429925857}, 10: {10: 0.29493141129969774}, 60: {10: 0.2953738148750936}, 30: {10: 0.29594215815443436}}\n",
      "\t100\t\t\t6\t\t{80: {10: 0.2960358056265985}, 50: {10: 0.2959324704849002}, 20: {10: 0.29528985507246375}, 70: {10: 0.2961326823219406}, 40: {10: 0.2947893254798626}, 100: {6: 0.2912662429925857}, 10: {10: 0.29493141129969774}, 60: {10: 0.2953738148750936}, 30: {10: 0.29594215815443436}}\n",
      "\t100\t\t\t7\t\t{80: {10: 0.2960358056265985}, 50: {10: 0.2959324704849002}, 20: {10: 0.29528985507246375}, 70: {10: 0.2961326823219406}, 40: {10: 0.2947893254798626}, 100: {7: 0.29414671006742615}, 10: {10: 0.29493141129969774}, 60: {10: 0.2953738148750936}, 30: {10: 0.29594215815443436}}\n",
      "\t100\t\t\t8\t\t{80: {10: 0.2960358056265985}, 50: {10: 0.2959324704849002}, 20: {10: 0.29528985507246375}, 70: {10: 0.2961326823219406}, 40: {10: 0.2947893254798626}, 100: {8: 0.294808700818931}, 10: {10: 0.29493141129969774}, 60: {10: 0.2953738148750936}, 30: {10: 0.29594215815443436}}\n",
      "\t100\t\t\t9\t\t{80: {10: 0.2960358056265985}, 50: {10: 0.2959324704849002}, 20: {10: 0.29528985507246375}, 70: {10: 0.2961326823219406}, 40: {10: 0.2947893254798626}, 100: {9: 0.2949023482910951}, 10: {10: 0.29493141129969774}, 60: {10: 0.2953738148750936}, 30: {10: 0.29594215815443436}}\n",
      "\t100\t\t\t10\t\t{80: {10: 0.2960358056265985}, 50: {10: 0.2959324704849002}, 20: {10: 0.29528985507246375}, 70: {10: 0.2961326823219406}, 40: {10: 0.2947893254798626}, 100: {10: 0.29602288873388616}, 10: {10: 0.29493141129969774}, 60: {10: 0.2953738148750936}, 30: {10: 0.29594215815443436}}\n"
     ]
    }
   ],
   "source": [
    "rf_results = dict()\n",
    "\n",
    "eval_rf_classifier()"
   ]
  },
  {
   "cell_type": "code",
   "execution_count": null,
   "metadata": {},
   "outputs": [],
   "source": []
  },
  {
   "cell_type": "markdown",
   "metadata": {},
   "source": [
    "### SCIKIT LEARN"
   ]
  },
  {
   "cell_type": "code",
   "execution_count": 122,
   "metadata": {},
   "outputs": [
    {
     "name": "stdout",
     "output_type": "stream",
     "text": [
      "/usr/local/lib/python2.7/dist-packages/pip/_vendor/requests/__init__.py:83: RequestsDependencyWarning: Old version of cryptography ([1, 2, 3]) may cause slowdown.\n",
      "  warnings.warn(warning, RequestsDependencyWarning)\n",
      "Requirement already satisfied: keras in /usr/local/lib/python2.7/dist-packages (1.2.2)\n",
      "Requirement already satisfied: six in /usr/local/lib/python2.7/dist-packages (from keras) (1.11.0)\n",
      "Requirement already satisfied: theano in /usr/local/lib/python2.7/dist-packages (from keras) (1.0.3)\n",
      "Requirement already satisfied: pyyaml in /usr/lib/python2.7/dist-packages (from keras) (3.11)\n",
      "Requirement already satisfied: numpy>=1.9.1 in /usr/local/lib/python2.7/dist-packages (from theano->keras) (1.14.2)\n",
      "Requirement already satisfied: scipy>=0.14 in /usr/local/lib/python2.7/dist-packages (from theano->keras) (1.0.1)\n",
      "\u001b[33mYou are using pip version 18.0, however version 18.1 is available.\n",
      "You should consider upgrading via the 'pip install --upgrade pip' command.\u001b[0m\n"
     ]
    }
   ],
   "source": [
    "# Import SciKitLearn\n",
    "from sklearn.preprocessing import LabelEncoder \n",
    "from sklearn.preprocessing import MinMaxScaler\n",
    "from sklearn.preprocessing import minmax_scale\n",
    "from sklearn.preprocessing import MaxAbsScaler\n",
    "from sklearn.preprocessing import StandardScaler\n",
    "from sklearn.preprocessing import RobustScaler\n",
    "from sklearn.preprocessing import Normalizer\n",
    "from sklearn.metrics import r2_score\n",
    "from sklearn.decomposition import PCA\n",
    "from sklearn.cluster import KMeans\n",
    "from sklearn.mixture import GMM\n",
    "\n",
    "# Regression models\n",
    "from sklearn.linear_model import LinearRegression\n",
    "from sklearn.linear_model import Ridge\n",
    "from sklearn.linear_model import Lasso, MultiTaskLassoCV, LassoLarsCV, LassoLarsIC \n",
    "from sklearn.ensemble import RandomForestRegressor\n",
    "from sklearn.ensemble import AdaBoostRegressor\n",
    "from sklearn.ensemble import GradientBoostingRegressor\n",
    "from sklearn.tree import DecisionTreeRegressor\n",
    "from sklearn.svm import SVR\n",
    "from sklearn.multioutput import MultiOutputRegressor\n",
    "from sklearn.model_selection import GridSearchCV as CV\n",
    "\n",
    "# Other packages\n",
    "import time\n",
    "import numpy as np\n",
    "import pandas as pd\n",
    "import re\n",
    "import scipy as sp\n",
    "import matplotlib.pyplot as plt\n",
    "from numpy import concatenate\n",
    "from pandas import DataFrame, Series, read_csv, scatter_matrix\n",
    "\n",
    "# Install packages\n",
    "!pip install keras\n",
    "\n",
    "# Weighted Mean Absolute Error Function\n",
    "def weighted_mean_abs_err(y_true, y_pred, weights):\n",
    "  return np.mean(np.mean(np.abs(y_true - y_pred), axis=1) * weights)"
   ]
  },
  {
   "cell_type": "code",
   "execution_count": 123,
   "metadata": {},
   "outputs": [
    {
     "name": "stdout",
     "output_type": "stream",
     "text": [
      "userid,gender,age,country,startdate,day_of_week,timeofday,sessionid,session_start,session_length\r",
      "\r\n",
      "user_000001,1,,32,2006-08-13,0,2,1,2006-08-13 13:59:20,230\r",
      "\r\n",
      "user_000001,1,,32,2006-08-15,2,1,1,2006-08-15 12:27:51,170\r",
      "\r\n",
      "user_000001,1,,32,2006-08-16,3,1,1,2006-08-16 10:27:16,43\r",
      "\r\n",
      "user_000001,1,,32,2006-08-16,3,2,2,2006-08-16 13:43:02,86\r",
      "\r\n",
      "user_000001,1,,32,2006-08-17,4,2,1,2006-08-17 13:33:27,115\r",
      "\r\n",
      "user_000001,1,,32,2006-08-18,5,3,1,2006-08-18 19:09:27,46\r",
      "\r\n",
      "user_000001,1,,32,2006-08-19,6,1,1,2006-08-19 12:26:52,113\r",
      "\r\n",
      "user_000001,1,,32,2006-08-20,0,2,1,2006-08-20 13:01:54,112\r",
      "\r\n",
      "user_000001,1,,32,2006-08-21,1,4,1,2006-08-21 03:36:08,18\r",
      "\r\n"
     ]
    }
   ],
   "source": [
    "!head /data_data/session_length/usersessions-with-ids-jayashree.csv"
   ]
  },
  {
   "cell_type": "code",
   "execution_count": 124,
   "metadata": {},
   "outputs": [],
   "source": [
    "userSession_df = None"
   ]
  },
  {
   "cell_type": "code",
   "execution_count": 125,
   "metadata": {},
   "outputs": [],
   "source": [
    "\n",
    "def import_sessionData():\n",
    "    print(\"==================================================================================================================\")\n",
    "    print(\"========================================    IMPORTING USER SESSION DATA     ======================================\")\n",
    "    print(\"==================================================================================================================\\n\\n\")\n",
    "    global userSession_df\n",
    "    \n",
    "    sessionSchema = StructType([\n",
    "        StructField('userid', StringType(), True),\\\n",
    "        StructField('gender', IntegerType(), True),\\\n",
    "        StructField('age', IntegerType(), True),\\\n",
    "        StructField('country', IntegerType(), True),\\\n",
    "        StructField('startdate', DateType(), True),\\\n",
    "        StructField('day_of_week', IntegerType(), True),\\\n",
    "        StructField('timeofday', IntegerType(), True),\\\n",
    "        StructField('sessionid', IntegerType(), True),\\\n",
    "        StructField('session_start', StringType(), True),\\\n",
    "        StructField('session_length', IntegerType(), True),\\\n",
    "        ])\n",
    "    \n",
    "    userSession_df = spark.read.format('csv').schema(sessionSchema).option('header',True).load('/data_data/session_length/usersessions-with-ids-jayashree.csv')\n",
    "    \n"
   ]
  },
  {
   "cell_type": "code",
   "execution_count": 126,
   "metadata": {},
   "outputs": [
    {
     "name": "stdout",
     "output_type": "stream",
     "text": [
      "==================================================================================================================\n",
      "========================================    IMPORTING USER SESSION DATA     ======================================\n",
      "==================================================================================================================\n",
      "\n",
      "\n"
     ]
    }
   ],
   "source": [
    "import_sessionData()"
   ]
  },
  {
   "cell_type": "code",
   "execution_count": 127,
   "metadata": {},
   "outputs": [
    {
     "name": "stdout",
     "output_type": "stream",
     "text": [
      "+-----------+------+----+-------+----------+-----------+---------+---------+-------------------+--------------+\n",
      "|userid     |gender|age |country|startdate |day_of_week|timeofday|sessionid|session_start      |session_length|\n",
      "+-----------+------+----+-------+----------+-----------+---------+---------+-------------------+--------------+\n",
      "|user_000001|1     |null|32     |2006-08-13|0          |2        |1        |2006-08-13 13:59:20|230           |\n",
      "|user_000001|1     |null|32     |2006-08-15|2          |1        |1        |2006-08-15 12:27:51|170           |\n",
      "|user_000001|1     |null|32     |2006-08-16|3          |1        |1        |2006-08-16 10:27:16|43            |\n",
      "|user_000001|1     |null|32     |2006-08-16|3          |2        |2        |2006-08-16 13:43:02|86            |\n",
      "|user_000001|1     |null|32     |2006-08-17|4          |2        |1        |2006-08-17 13:33:27|115           |\n",
      "+-----------+------+----+-------+----------+-----------+---------+---------+-------------------+--------------+\n",
      "only showing top 5 rows\n",
      "\n"
     ]
    }
   ],
   "source": [
    "userSession_df.show(5,False)"
   ]
  },
  {
   "cell_type": "code",
   "execution_count": 128,
   "metadata": {},
   "outputs": [],
   "source": [
    "def get_flat_date(date):\n",
    "    return str(date).replace(\"-\",\"\")"
   ]
  },
  {
   "cell_type": "code",
   "execution_count": 129,
   "metadata": {},
   "outputs": [],
   "source": [
    "flatten_date = udf(lambda date: get_flat_date(date), IntegerType())"
   ]
  },
  {
   "cell_type": "code",
   "execution_count": 130,
   "metadata": {},
   "outputs": [],
   "source": [
    "userSession_df = userSession_df.withColumn('start_date',flatten_date('startdate'))"
   ]
  },
  {
   "cell_type": "code",
   "execution_count": 131,
   "metadata": {},
   "outputs": [
    {
     "name": "stdout",
     "output_type": "stream",
     "text": [
      "+-----------+------+----+-------+----------+-----------+---------+---------+-------------------+--------------+----------+\n",
      "|     userid|gender| age|country| startdate|day_of_week|timeofday|sessionid|      session_start|session_length|start_date|\n",
      "+-----------+------+----+-------+----------+-----------+---------+---------+-------------------+--------------+----------+\n",
      "|user_000001|     1|null|     32|2006-08-13|          0|        2|        1|2006-08-13 13:59:20|           230|      null|\n",
      "|user_000001|     1|null|     32|2006-08-15|          2|        1|        1|2006-08-15 12:27:51|           170|      null|\n",
      "|user_000001|     1|null|     32|2006-08-16|          3|        1|        1|2006-08-16 10:27:16|            43|      null|\n",
      "|user_000001|     1|null|     32|2006-08-16|          3|        2|        2|2006-08-16 13:43:02|            86|      null|\n",
      "|user_000001|     1|null|     32|2006-08-17|          4|        2|        1|2006-08-17 13:33:27|           115|      null|\n",
      "+-----------+------+----+-------+----------+-----------+---------+---------+-------------------+--------------+----------+\n",
      "only showing top 5 rows\n",
      "\n"
     ]
    }
   ],
   "source": [
    "userSession_df.show(5)"
   ]
  },
  {
   "cell_type": "code",
   "execution_count": 132,
   "metadata": {},
   "outputs": [],
   "source": [
    "userSession_with_window_df = userSession_df.withColumn('window', time_delta_udf(\"startdate\", lit(day_zero).cast('date')))"
   ]
  },
  {
   "cell_type": "code",
   "execution_count": 133,
   "metadata": {},
   "outputs": [
    {
     "name": "stdout",
     "output_type": "stream",
     "text": [
      "+-----------+------+----+-------+----------+-----------+---------+---------+-------------------+--------------+----------+------+\n",
      "|     userid|gender| age|country| startdate|day_of_week|timeofday|sessionid|      session_start|session_length|start_date|window|\n",
      "+-----------+------+----+-------+----------+-----------+---------+---------+-------------------+--------------+----------+------+\n",
      "|user_000001|     1|null|     32|2006-08-13|          0|        2|        1|2006-08-13 13:59:20|           230|      null|   589|\n",
      "|user_000001|     1|null|     32|2006-08-15|          2|        1|        1|2006-08-15 12:27:51|           170|      null|   591|\n",
      "|user_000001|     1|null|     32|2006-08-16|          3|        1|        1|2006-08-16 10:27:16|            43|      null|   592|\n",
      "|user_000001|     1|null|     32|2006-08-16|          3|        2|        2|2006-08-16 13:43:02|            86|      null|   592|\n",
      "|user_000001|     1|null|     32|2006-08-17|          4|        2|        1|2006-08-17 13:33:27|           115|      null|   593|\n",
      "|user_000001|     1|null|     32|2006-08-18|          5|        3|        1|2006-08-18 19:09:27|            46|      null|   594|\n",
      "|user_000001|     1|null|     32|2006-08-19|          6|        1|        1|2006-08-19 12:26:52|           113|      null|   595|\n",
      "|user_000001|     1|null|     32|2006-08-20|          0|        2|        1|2006-08-20 13:01:54|           112|      null|   596|\n",
      "|user_000001|     1|null|     32|2006-08-21|          1|        4|        1|2006-08-21 03:36:08|            18|      null|   597|\n",
      "|user_000001|     1|null|     32|2006-08-21|          1|        4|        2|2006-08-21 04:33:20|            20|      null|   597|\n",
      "|user_000001|     1|null|     32|2006-08-21|          1|        4|        3|2006-08-21 05:32:45|             8|      null|   597|\n",
      "|user_000001|     1|null|     32|2006-08-21|          1|        1|        4|2006-08-21 09:09:25|            22|      null|   597|\n",
      "|user_000001|     1|null|     32|2006-08-21|          1|        2|        5|2006-08-21 14:38:07|            92|      null|   597|\n",
      "|user_000001|     1|null|     32|2006-08-21|          1|        2|        6|2006-08-21 16:56:13|            26|      null|   597|\n",
      "|user_000001|     1|null|     32|2006-08-21|          1|        2|        7|2006-08-21 17:55:52|            42|      null|   597|\n",
      "|user_000001|     1|null|     32|2006-08-23|          3|        1|        1|2006-08-23 12:32:01|            21|      null|   599|\n",
      "|user_000001|     1|null|     32|2006-08-23|          3|        2|        2|2006-08-23 13:31:14|            40|      null|   599|\n",
      "|user_000001|     1|null|     32|2006-08-23|          3|        4|        3|2006-08-23 23:56:25|             3|      null|   599|\n",
      "|user_000001|     1|null|     32|2006-08-24|          4|        2|        1|2006-08-24 14:08:42|            16|      null|   600|\n",
      "|user_000001|     1|null|     32|2006-08-24|          4|        2|        2|2006-08-24 15:04:23|            19|      null|   600|\n",
      "+-----------+------+----+-------+----------+-----------+---------+---------+-------------------+--------------+----------+------+\n",
      "only showing top 20 rows\n",
      "\n"
     ]
    }
   ],
   "source": [
    "userSession_with_window_df.show()"
   ]
  },
  {
   "cell_type": "code",
   "execution_count": 134,
   "metadata": {},
   "outputs": [],
   "source": [
    "userSession_with_window_df = userSession_with_window_df.withColumn('log_sess', round(log(\"session_length\"),1)).drop('session_length').withColumnRenamed('log_sess','session_length')"
   ]
  },
  {
   "cell_type": "code",
   "execution_count": 135,
   "metadata": {},
   "outputs": [
    {
     "name": "stdout",
     "output_type": "stream",
     "text": [
      "+-----------+------+----+-------+----------+-----------+---------+---------+-------------------+----------+------+--------------+\n",
      "|     userid|gender| age|country| startdate|day_of_week|timeofday|sessionid|      session_start|start_date|window|session_length|\n",
      "+-----------+------+----+-------+----------+-----------+---------+---------+-------------------+----------+------+--------------+\n",
      "|user_000001|     1|null|     32|2006-08-13|          0|        2|        1|2006-08-13 13:59:20|      null|   589|           5.4|\n",
      "|user_000001|     1|null|     32|2006-08-15|          2|        1|        1|2006-08-15 12:27:51|      null|   591|           5.1|\n",
      "|user_000001|     1|null|     32|2006-08-16|          3|        1|        1|2006-08-16 10:27:16|      null|   592|           3.8|\n",
      "|user_000001|     1|null|     32|2006-08-16|          3|        2|        2|2006-08-16 13:43:02|      null|   592|           4.5|\n",
      "|user_000001|     1|null|     32|2006-08-17|          4|        2|        1|2006-08-17 13:33:27|      null|   593|           4.7|\n",
      "|user_000001|     1|null|     32|2006-08-18|          5|        3|        1|2006-08-18 19:09:27|      null|   594|           3.8|\n",
      "|user_000001|     1|null|     32|2006-08-19|          6|        1|        1|2006-08-19 12:26:52|      null|   595|           4.7|\n",
      "|user_000001|     1|null|     32|2006-08-20|          0|        2|        1|2006-08-20 13:01:54|      null|   596|           4.7|\n",
      "|user_000001|     1|null|     32|2006-08-21|          1|        4|        1|2006-08-21 03:36:08|      null|   597|           2.9|\n",
      "|user_000001|     1|null|     32|2006-08-21|          1|        4|        2|2006-08-21 04:33:20|      null|   597|           3.0|\n",
      "|user_000001|     1|null|     32|2006-08-21|          1|        4|        3|2006-08-21 05:32:45|      null|   597|           2.1|\n",
      "|user_000001|     1|null|     32|2006-08-21|          1|        1|        4|2006-08-21 09:09:25|      null|   597|           3.1|\n",
      "|user_000001|     1|null|     32|2006-08-21|          1|        2|        5|2006-08-21 14:38:07|      null|   597|           4.5|\n",
      "|user_000001|     1|null|     32|2006-08-21|          1|        2|        6|2006-08-21 16:56:13|      null|   597|           3.3|\n",
      "|user_000001|     1|null|     32|2006-08-21|          1|        2|        7|2006-08-21 17:55:52|      null|   597|           3.7|\n",
      "|user_000001|     1|null|     32|2006-08-23|          3|        1|        1|2006-08-23 12:32:01|      null|   599|           3.0|\n",
      "|user_000001|     1|null|     32|2006-08-23|          3|        2|        2|2006-08-23 13:31:14|      null|   599|           3.7|\n",
      "|user_000001|     1|null|     32|2006-08-23|          3|        4|        3|2006-08-23 23:56:25|      null|   599|           1.1|\n",
      "|user_000001|     1|null|     32|2006-08-24|          4|        2|        1|2006-08-24 14:08:42|      null|   600|           2.8|\n",
      "|user_000001|     1|null|     32|2006-08-24|          4|        2|        2|2006-08-24 15:04:23|      null|   600|           2.9|\n",
      "+-----------+------+----+-------+----------+-----------+---------+---------+-------------------+----------+------+--------------+\n",
      "only showing top 20 rows\n",
      "\n"
     ]
    }
   ],
   "source": [
    "userSession_with_window_df.show()"
   ]
  },
  {
   "cell_type": "code",
   "execution_count": 136,
   "metadata": {},
   "outputs": [
    {
     "name": "stdout",
     "output_type": "stream",
     "text": [
      "+-----------+------+----+-------+----------+-----------+---------+---------+-------------------+----------+------+--------------+-------+\n",
      "|     userid|gender| age|country| startdate|day_of_week|timeofday|sessionid|      session_start|start_date|window|session_length|usernum|\n",
      "+-----------+------+----+-------+----------+-----------+---------+---------+-------------------+----------+------+--------------+-------+\n",
      "|user_000001|     1|null|     32|2006-08-13|          0|        2|        1|2006-08-13 13:59:20|      null|   589|           5.4|      1|\n",
      "|user_000001|     1|null|     32|2006-08-15|          2|        1|        1|2006-08-15 12:27:51|      null|   591|           5.1|      1|\n",
      "|user_000001|     1|null|     32|2006-08-16|          3|        1|        1|2006-08-16 10:27:16|      null|   592|           3.8|      1|\n",
      "|user_000001|     1|null|     32|2006-08-16|          3|        2|        2|2006-08-16 13:43:02|      null|   592|           4.5|      1|\n",
      "|user_000001|     1|null|     32|2006-08-17|          4|        2|        1|2006-08-17 13:33:27|      null|   593|           4.7|      1|\n",
      "|user_000001|     1|null|     32|2006-08-18|          5|        3|        1|2006-08-18 19:09:27|      null|   594|           3.8|      1|\n",
      "|user_000001|     1|null|     32|2006-08-19|          6|        1|        1|2006-08-19 12:26:52|      null|   595|           4.7|      1|\n",
      "|user_000001|     1|null|     32|2006-08-20|          0|        2|        1|2006-08-20 13:01:54|      null|   596|           4.7|      1|\n",
      "|user_000001|     1|null|     32|2006-08-21|          1|        4|        1|2006-08-21 03:36:08|      null|   597|           2.9|      1|\n",
      "|user_000001|     1|null|     32|2006-08-21|          1|        4|        2|2006-08-21 04:33:20|      null|   597|           3.0|      1|\n",
      "|user_000001|     1|null|     32|2006-08-21|          1|        4|        3|2006-08-21 05:32:45|      null|   597|           2.1|      1|\n",
      "|user_000001|     1|null|     32|2006-08-21|          1|        1|        4|2006-08-21 09:09:25|      null|   597|           3.1|      1|\n",
      "|user_000001|     1|null|     32|2006-08-21|          1|        2|        5|2006-08-21 14:38:07|      null|   597|           4.5|      1|\n",
      "|user_000001|     1|null|     32|2006-08-21|          1|        2|        6|2006-08-21 16:56:13|      null|   597|           3.3|      1|\n",
      "|user_000001|     1|null|     32|2006-08-21|          1|        2|        7|2006-08-21 17:55:52|      null|   597|           3.7|      1|\n",
      "|user_000001|     1|null|     32|2006-08-23|          3|        1|        1|2006-08-23 12:32:01|      null|   599|           3.0|      1|\n",
      "|user_000001|     1|null|     32|2006-08-23|          3|        2|        2|2006-08-23 13:31:14|      null|   599|           3.7|      1|\n",
      "|user_000001|     1|null|     32|2006-08-23|          3|        4|        3|2006-08-23 23:56:25|      null|   599|           1.1|      1|\n",
      "|user_000001|     1|null|     32|2006-08-24|          4|        2|        1|2006-08-24 14:08:42|      null|   600|           2.8|      1|\n",
      "|user_000001|     1|null|     32|2006-08-24|          4|        2|        2|2006-08-24 15:04:23|      null|   600|           2.9|      1|\n",
      "+-----------+------+----+-------+----------+-----------+---------+---------+-------------------+----------+------+--------------+-------+\n",
      "only showing top 20 rows\n",
      "\n"
     ]
    }
   ],
   "source": [
    "get_user_num = udf(lambda userid: int(userid.split('_')[1].lstrip('0')))\n",
    "userSession_with_window_df = userSession_with_window_df.withColumn('usernum', get_user_num('userid')) \n",
    "userSession_with_window_df.show()"
   ]
  },
  {
   "cell_type": "code",
   "execution_count": 137,
   "metadata": {},
   "outputs": [],
   "source": [
    "data = userSession_with_window_df.toPandas()"
   ]
  },
  {
   "cell_type": "code",
   "execution_count": 138,
   "metadata": {},
   "outputs": [
    {
     "data": {
      "text/html": [
       "<div>\n",
       "<style scoped>\n",
       "    .dataframe tbody tr th:only-of-type {\n",
       "        vertical-align: middle;\n",
       "    }\n",
       "\n",
       "    .dataframe tbody tr th {\n",
       "        vertical-align: top;\n",
       "    }\n",
       "\n",
       "    .dataframe thead th {\n",
       "        text-align: right;\n",
       "    }\n",
       "</style>\n",
       "<table border=\"1\" class=\"dataframe\">\n",
       "  <thead>\n",
       "    <tr style=\"text-align: right;\">\n",
       "      <th></th>\n",
       "      <th>userid</th>\n",
       "      <th>gender</th>\n",
       "      <th>age</th>\n",
       "      <th>country</th>\n",
       "      <th>startdate</th>\n",
       "      <th>day_of_week</th>\n",
       "      <th>timeofday</th>\n",
       "      <th>sessionid</th>\n",
       "      <th>session_start</th>\n",
       "      <th>start_date</th>\n",
       "      <th>window</th>\n",
       "      <th>session_length</th>\n",
       "      <th>usernum</th>\n",
       "    </tr>\n",
       "  </thead>\n",
       "  <tbody>\n",
       "    <tr>\n",
       "      <th>0</th>\n",
       "      <td>user_000001</td>\n",
       "      <td>1.0</td>\n",
       "      <td>NaN</td>\n",
       "      <td>32</td>\n",
       "      <td>2006-08-13</td>\n",
       "      <td>0</td>\n",
       "      <td>2</td>\n",
       "      <td>1</td>\n",
       "      <td>2006-08-13 13:59:20</td>\n",
       "      <td>NaN</td>\n",
       "      <td>589</td>\n",
       "      <td>5.4</td>\n",
       "      <td>1</td>\n",
       "    </tr>\n",
       "    <tr>\n",
       "      <th>1</th>\n",
       "      <td>user_000001</td>\n",
       "      <td>1.0</td>\n",
       "      <td>NaN</td>\n",
       "      <td>32</td>\n",
       "      <td>2006-08-15</td>\n",
       "      <td>2</td>\n",
       "      <td>1</td>\n",
       "      <td>1</td>\n",
       "      <td>2006-08-15 12:27:51</td>\n",
       "      <td>NaN</td>\n",
       "      <td>591</td>\n",
       "      <td>5.1</td>\n",
       "      <td>1</td>\n",
       "    </tr>\n",
       "    <tr>\n",
       "      <th>2</th>\n",
       "      <td>user_000001</td>\n",
       "      <td>1.0</td>\n",
       "      <td>NaN</td>\n",
       "      <td>32</td>\n",
       "      <td>2006-08-16</td>\n",
       "      <td>3</td>\n",
       "      <td>1</td>\n",
       "      <td>1</td>\n",
       "      <td>2006-08-16 10:27:16</td>\n",
       "      <td>NaN</td>\n",
       "      <td>592</td>\n",
       "      <td>3.8</td>\n",
       "      <td>1</td>\n",
       "    </tr>\n",
       "    <tr>\n",
       "      <th>3</th>\n",
       "      <td>user_000001</td>\n",
       "      <td>1.0</td>\n",
       "      <td>NaN</td>\n",
       "      <td>32</td>\n",
       "      <td>2006-08-16</td>\n",
       "      <td>3</td>\n",
       "      <td>2</td>\n",
       "      <td>2</td>\n",
       "      <td>2006-08-16 13:43:02</td>\n",
       "      <td>NaN</td>\n",
       "      <td>592</td>\n",
       "      <td>4.5</td>\n",
       "      <td>1</td>\n",
       "    </tr>\n",
       "    <tr>\n",
       "      <th>4</th>\n",
       "      <td>user_000001</td>\n",
       "      <td>1.0</td>\n",
       "      <td>NaN</td>\n",
       "      <td>32</td>\n",
       "      <td>2006-08-17</td>\n",
       "      <td>4</td>\n",
       "      <td>2</td>\n",
       "      <td>1</td>\n",
       "      <td>2006-08-17 13:33:27</td>\n",
       "      <td>NaN</td>\n",
       "      <td>593</td>\n",
       "      <td>4.7</td>\n",
       "      <td>1</td>\n",
       "    </tr>\n",
       "    <tr>\n",
       "      <th>5</th>\n",
       "      <td>user_000001</td>\n",
       "      <td>1.0</td>\n",
       "      <td>NaN</td>\n",
       "      <td>32</td>\n",
       "      <td>2006-08-18</td>\n",
       "      <td>5</td>\n",
       "      <td>3</td>\n",
       "      <td>1</td>\n",
       "      <td>2006-08-18 19:09:27</td>\n",
       "      <td>NaN</td>\n",
       "      <td>594</td>\n",
       "      <td>3.8</td>\n",
       "      <td>1</td>\n",
       "    </tr>\n",
       "    <tr>\n",
       "      <th>6</th>\n",
       "      <td>user_000001</td>\n",
       "      <td>1.0</td>\n",
       "      <td>NaN</td>\n",
       "      <td>32</td>\n",
       "      <td>2006-08-19</td>\n",
       "      <td>6</td>\n",
       "      <td>1</td>\n",
       "      <td>1</td>\n",
       "      <td>2006-08-19 12:26:52</td>\n",
       "      <td>NaN</td>\n",
       "      <td>595</td>\n",
       "      <td>4.7</td>\n",
       "      <td>1</td>\n",
       "    </tr>\n",
       "    <tr>\n",
       "      <th>7</th>\n",
       "      <td>user_000001</td>\n",
       "      <td>1.0</td>\n",
       "      <td>NaN</td>\n",
       "      <td>32</td>\n",
       "      <td>2006-08-20</td>\n",
       "      <td>0</td>\n",
       "      <td>2</td>\n",
       "      <td>1</td>\n",
       "      <td>2006-08-20 13:01:54</td>\n",
       "      <td>NaN</td>\n",
       "      <td>596</td>\n",
       "      <td>4.7</td>\n",
       "      <td>1</td>\n",
       "    </tr>\n",
       "    <tr>\n",
       "      <th>8</th>\n",
       "      <td>user_000001</td>\n",
       "      <td>1.0</td>\n",
       "      <td>NaN</td>\n",
       "      <td>32</td>\n",
       "      <td>2006-08-21</td>\n",
       "      <td>1</td>\n",
       "      <td>4</td>\n",
       "      <td>1</td>\n",
       "      <td>2006-08-21 03:36:08</td>\n",
       "      <td>NaN</td>\n",
       "      <td>597</td>\n",
       "      <td>2.9</td>\n",
       "      <td>1</td>\n",
       "    </tr>\n",
       "    <tr>\n",
       "      <th>9</th>\n",
       "      <td>user_000001</td>\n",
       "      <td>1.0</td>\n",
       "      <td>NaN</td>\n",
       "      <td>32</td>\n",
       "      <td>2006-08-21</td>\n",
       "      <td>1</td>\n",
       "      <td>4</td>\n",
       "      <td>2</td>\n",
       "      <td>2006-08-21 04:33:20</td>\n",
       "      <td>NaN</td>\n",
       "      <td>597</td>\n",
       "      <td>3.0</td>\n",
       "      <td>1</td>\n",
       "    </tr>\n",
       "  </tbody>\n",
       "</table>\n",
       "</div>"
      ],
      "text/plain": [
       "        userid  gender  age  country   startdate  day_of_week  timeofday  sessionid        session_start  start_date  window  session_length usernum\n",
       "0  user_000001     1.0  NaN       32  2006-08-13            0          2          1  2006-08-13 13:59:20         NaN     589             5.4       1\n",
       "1  user_000001     1.0  NaN       32  2006-08-15            2          1          1  2006-08-15 12:27:51         NaN     591             5.1       1\n",
       "2  user_000001     1.0  NaN       32  2006-08-16            3          1          1  2006-08-16 10:27:16         NaN     592             3.8       1\n",
       "3  user_000001     1.0  NaN       32  2006-08-16            3          2          2  2006-08-16 13:43:02         NaN     592             4.5       1\n",
       "4  user_000001     1.0  NaN       32  2006-08-17            4          2          1  2006-08-17 13:33:27         NaN     593             4.7       1\n",
       "5  user_000001     1.0  NaN       32  2006-08-18            5          3          1  2006-08-18 19:09:27         NaN     594             3.8       1\n",
       "6  user_000001     1.0  NaN       32  2006-08-19            6          1          1  2006-08-19 12:26:52         NaN     595             4.7       1\n",
       "7  user_000001     1.0  NaN       32  2006-08-20            0          2          1  2006-08-20 13:01:54         NaN     596             4.7       1\n",
       "8  user_000001     1.0  NaN       32  2006-08-21            1          4          1  2006-08-21 03:36:08         NaN     597             2.9       1\n",
       "9  user_000001     1.0  NaN       32  2006-08-21            1          4          2  2006-08-21 04:33:20         NaN     597             3.0       1"
      ]
     },
     "execution_count": 138,
     "metadata": {},
     "output_type": "execute_result"
    }
   ],
   "source": [
    "data[:10]"
   ]
  },
  {
   "cell_type": "code",
   "execution_count": 139,
   "metadata": {},
   "outputs": [],
   "source": [
    "model_df = data[['userid','gender','country','window','day_of_week','timeofday','sessionid','usernum','session_length']].set_index(['userid']) "
   ]
  },
  {
   "cell_type": "code",
   "execution_count": 140,
   "metadata": {},
   "outputs": [
    {
     "data": {
      "text/html": [
       "<div>\n",
       "<style scoped>\n",
       "    .dataframe tbody tr th:only-of-type {\n",
       "        vertical-align: middle;\n",
       "    }\n",
       "\n",
       "    .dataframe tbody tr th {\n",
       "        vertical-align: top;\n",
       "    }\n",
       "\n",
       "    .dataframe thead th {\n",
       "        text-align: right;\n",
       "    }\n",
       "</style>\n",
       "<table border=\"1\" class=\"dataframe\">\n",
       "  <thead>\n",
       "    <tr style=\"text-align: right;\">\n",
       "      <th></th>\n",
       "      <th>gender</th>\n",
       "      <th>country</th>\n",
       "      <th>window</th>\n",
       "      <th>day_of_week</th>\n",
       "      <th>timeofday</th>\n",
       "      <th>sessionid</th>\n",
       "      <th>usernum</th>\n",
       "      <th>session_length</th>\n",
       "    </tr>\n",
       "    <tr>\n",
       "      <th>userid</th>\n",
       "      <th></th>\n",
       "      <th></th>\n",
       "      <th></th>\n",
       "      <th></th>\n",
       "      <th></th>\n",
       "      <th></th>\n",
       "      <th></th>\n",
       "      <th></th>\n",
       "    </tr>\n",
       "  </thead>\n",
       "  <tbody>\n",
       "    <tr>\n",
       "      <th>user_000001</th>\n",
       "      <td>1.0</td>\n",
       "      <td>32</td>\n",
       "      <td>589</td>\n",
       "      <td>0</td>\n",
       "      <td>2</td>\n",
       "      <td>1</td>\n",
       "      <td>1</td>\n",
       "      <td>5.4</td>\n",
       "    </tr>\n",
       "    <tr>\n",
       "      <th>user_000001</th>\n",
       "      <td>1.0</td>\n",
       "      <td>32</td>\n",
       "      <td>591</td>\n",
       "      <td>2</td>\n",
       "      <td>1</td>\n",
       "      <td>1</td>\n",
       "      <td>1</td>\n",
       "      <td>5.1</td>\n",
       "    </tr>\n",
       "    <tr>\n",
       "      <th>user_000001</th>\n",
       "      <td>1.0</td>\n",
       "      <td>32</td>\n",
       "      <td>592</td>\n",
       "      <td>3</td>\n",
       "      <td>1</td>\n",
       "      <td>1</td>\n",
       "      <td>1</td>\n",
       "      <td>3.8</td>\n",
       "    </tr>\n",
       "    <tr>\n",
       "      <th>user_000001</th>\n",
       "      <td>1.0</td>\n",
       "      <td>32</td>\n",
       "      <td>592</td>\n",
       "      <td>3</td>\n",
       "      <td>2</td>\n",
       "      <td>2</td>\n",
       "      <td>1</td>\n",
       "      <td>4.5</td>\n",
       "    </tr>\n",
       "    <tr>\n",
       "      <th>user_000001</th>\n",
       "      <td>1.0</td>\n",
       "      <td>32</td>\n",
       "      <td>593</td>\n",
       "      <td>4</td>\n",
       "      <td>2</td>\n",
       "      <td>1</td>\n",
       "      <td>1</td>\n",
       "      <td>4.7</td>\n",
       "    </tr>\n",
       "  </tbody>\n",
       "</table>\n",
       "</div>"
      ],
      "text/plain": [
       "             gender  country  window  day_of_week  timeofday  sessionid usernum  session_length\n",
       "userid                                                                                         \n",
       "user_000001     1.0       32     589            0          2          1       1             5.4\n",
       "user_000001     1.0       32     591            2          1          1       1             5.1\n",
       "user_000001     1.0       32     592            3          1          1       1             3.8\n",
       "user_000001     1.0       32     592            3          2          2       1             4.5\n",
       "user_000001     1.0       32     593            4          2          1       1             4.7"
      ]
     },
     "execution_count": 140,
     "metadata": {},
     "output_type": "execute_result"
    }
   ],
   "source": [
    "model_df.head()"
   ]
  },
  {
   "cell_type": "markdown",
   "metadata": {},
   "source": [
    "### DECISION TREE"
   ]
  },
  {
   "cell_type": "code",
   "execution_count": null,
   "metadata": {},
   "outputs": [],
   "source": []
  },
  {
   "cell_type": "code",
   "execution_count": null,
   "metadata": {},
   "outputs": [],
   "source": []
  },
  {
   "cell_type": "code",
   "execution_count": null,
   "metadata": {},
   "outputs": [],
   "source": []
  },
  {
   "cell_type": "code",
   "execution_count": null,
   "metadata": {},
   "outputs": [],
   "source": []
  },
  {
   "cell_type": "markdown",
   "metadata": {},
   "source": [
    "### TENSORFLOW"
   ]
  },
  {
   "cell_type": "code",
   "execution_count": 141,
   "metadata": {},
   "outputs": [],
   "source": [
    "from sklearn.utils import shuffle\n",
    "from sklearn import preprocessing"
   ]
  },
  {
   "cell_type": "code",
   "execution_count": 142,
   "metadata": {},
   "outputs": [
    {
     "name": "stdout",
     "output_type": "stream",
     "text": [
      "+------+-------+------+-----------+---------+---------+-------+--------------+\n",
      "|gender|country|window|day_of_week|timeofday|sessionid|usernum|session_length|\n",
      "+------+-------+------+-----------+---------+---------+-------+--------------+\n",
      "|   1.0|     32|   589|          0|        2|        1|      1|           5.4|\n",
      "|   1.0|     32|   591|          2|        1|        1|      1|           5.1|\n",
      "|   1.0|     32|   592|          3|        1|        1|      1|           3.8|\n",
      "|   1.0|     32|   592|          3|        2|        2|      1|           4.5|\n",
      "|   1.0|     32|   593|          4|        2|        1|      1|           4.7|\n",
      "|   1.0|     32|   594|          5|        3|        1|      1|           3.8|\n",
      "|   1.0|     32|   595|          6|        1|        1|      1|           4.7|\n",
      "|   1.0|     32|   596|          0|        2|        1|      1|           4.7|\n",
      "|   1.0|     32|   597|          1|        4|        1|      1|           2.9|\n",
      "|   1.0|     32|   597|          1|        4|        2|      1|           3.0|\n",
      "|   1.0|     32|   597|          1|        4|        3|      1|           2.1|\n",
      "|   1.0|     32|   597|          1|        1|        4|      1|           3.1|\n",
      "|   1.0|     32|   597|          1|        2|        5|      1|           4.5|\n",
      "|   1.0|     32|   597|          1|        2|        6|      1|           3.3|\n",
      "|   1.0|     32|   597|          1|        2|        7|      1|           3.7|\n",
      "|   1.0|     32|   599|          3|        1|        1|      1|           3.0|\n",
      "|   1.0|     32|   599|          3|        2|        2|      1|           3.7|\n",
      "|   1.0|     32|   599|          3|        4|        3|      1|           1.1|\n",
      "|   1.0|     32|   600|          4|        2|        1|      1|           2.8|\n",
      "|   1.0|     32|   600|          4|        2|        2|      1|           2.9|\n",
      "+------+-------+------+-----------+---------+---------+-------+--------------+\n",
      "only showing top 20 rows\n",
      "\n"
     ]
    }
   ],
   "source": [
    "model_spark = spark.createDataFrame(model_df)\n",
    "model_spark.show()"
   ]
  },
  {
   "cell_type": "code",
   "execution_count": 143,
   "metadata": {},
   "outputs": [
    {
     "data": {
      "text/plain": [
       "pyspark.sql.dataframe.DataFrame"
      ]
     },
     "execution_count": 143,
     "metadata": {},
     "output_type": "execute_result"
    }
   ],
   "source": [
    "type(model_spark)"
   ]
  },
  {
   "cell_type": "code",
   "execution_count": 144,
   "metadata": {},
   "outputs": [
    {
     "name": "stdout",
     "output_type": "stream",
     "text": [
      "+------+-------+------+-----------+---------+---------+-------+--------------+\n",
      "|gender|country|window|day_of_week|timeofday|sessionid|usernum|session_length|\n",
      "+------+-------+------+-----------+---------+---------+-------+--------------+\n",
      "|   1.0|     32|   589|          0|        2|        1|      1|           9.0|\n",
      "|   1.0|     32|   591|          2|        1|        1|      1|           8.0|\n",
      "|   1.0|     32|   592|          3|        1|        1|      1|           5.0|\n",
      "|   1.0|     32|   592|          3|        2|        2|      1|           7.0|\n",
      "|   1.0|     32|   593|          4|        2|        1|      1|           8.0|\n",
      "|   1.0|     32|   594|          5|        3|        1|      1|           5.0|\n",
      "|   1.0|     32|   595|          6|        1|        1|      1|           8.0|\n",
      "|   1.0|     32|   596|          0|        2|        1|      1|           8.0|\n",
      "|   1.0|     32|   597|          1|        4|        1|      1|           3.0|\n",
      "|   1.0|     32|   597|          1|        4|        2|      1|           3.0|\n",
      "|   1.0|     32|   597|          1|        4|        3|      1|           1.0|\n",
      "|   1.0|     32|   597|          1|        1|        4|      1|           3.0|\n",
      "|   1.0|     32|   597|          1|        2|        5|      1|           7.0|\n",
      "|   1.0|     32|   597|          1|        2|        6|      1|           4.0|\n",
      "|   1.0|     32|   597|          1|        2|        7|      1|           5.0|\n",
      "|   1.0|     32|   599|          3|        1|        1|      1|           3.0|\n",
      "|   1.0|     32|   599|          3|        2|        2|      1|           5.0|\n",
      "|   1.0|     32|   599|          3|        4|        3|      1|           1.0|\n",
      "|   1.0|     32|   600|          4|        2|        1|      1|           2.0|\n",
      "|   1.0|     32|   600|          4|        2|        2|      1|           3.0|\n",
      "+------+-------+------+-----------+---------+---------+-------+--------------+\n",
      "only showing top 20 rows\n",
      "\n"
     ]
    }
   ],
   "source": [
    "session_length_bucketizer = QuantileDiscretizer(numBuckets=num_buckets, inputCol=\"session_length\", outputCol=\"decile\", relativeError=0.01, handleInvalid=\"error\")\n",
    "bucketizer = session_length_bucketizer.fit(model_spark)\n",
    "model_bucketized_df = bucketizer.setHandleInvalid(\"skip\").transform(model_spark).drop('session_length').withColumnRenamed('decile','session_length')\n",
    "model_bucketized_df.show()"
   ]
  },
  {
   "cell_type": "code",
   "execution_count": 145,
   "metadata": {},
   "outputs": [
    {
     "data": {
      "text/html": [
       "<div>\n",
       "<style scoped>\n",
       "    .dataframe tbody tr th:only-of-type {\n",
       "        vertical-align: middle;\n",
       "    }\n",
       "\n",
       "    .dataframe tbody tr th {\n",
       "        vertical-align: top;\n",
       "    }\n",
       "\n",
       "    .dataframe thead th {\n",
       "        text-align: right;\n",
       "    }\n",
       "</style>\n",
       "<table border=\"1\" class=\"dataframe\">\n",
       "  <thead>\n",
       "    <tr style=\"text-align: right;\">\n",
       "      <th></th>\n",
       "      <th>usernum</th>\n",
       "      <th>gender</th>\n",
       "      <th>country</th>\n",
       "      <th>window</th>\n",
       "      <th>day_of_week</th>\n",
       "      <th>timeofday</th>\n",
       "      <th>sessionid</th>\n",
       "      <th>session_length</th>\n",
       "    </tr>\n",
       "  </thead>\n",
       "  <tbody>\n",
       "    <tr>\n",
       "      <th>0</th>\n",
       "      <td>1</td>\n",
       "      <td>1.0</td>\n",
       "      <td>32</td>\n",
       "      <td>589</td>\n",
       "      <td>0</td>\n",
       "      <td>2</td>\n",
       "      <td>1</td>\n",
       "      <td>9.0</td>\n",
       "    </tr>\n",
       "    <tr>\n",
       "      <th>1</th>\n",
       "      <td>1</td>\n",
       "      <td>1.0</td>\n",
       "      <td>32</td>\n",
       "      <td>591</td>\n",
       "      <td>2</td>\n",
       "      <td>1</td>\n",
       "      <td>1</td>\n",
       "      <td>8.0</td>\n",
       "    </tr>\n",
       "    <tr>\n",
       "      <th>2</th>\n",
       "      <td>1</td>\n",
       "      <td>1.0</td>\n",
       "      <td>32</td>\n",
       "      <td>592</td>\n",
       "      <td>3</td>\n",
       "      <td>1</td>\n",
       "      <td>1</td>\n",
       "      <td>5.0</td>\n",
       "    </tr>\n",
       "    <tr>\n",
       "      <th>3</th>\n",
       "      <td>1</td>\n",
       "      <td>1.0</td>\n",
       "      <td>32</td>\n",
       "      <td>592</td>\n",
       "      <td>3</td>\n",
       "      <td>2</td>\n",
       "      <td>2</td>\n",
       "      <td>7.0</td>\n",
       "    </tr>\n",
       "    <tr>\n",
       "      <th>4</th>\n",
       "      <td>1</td>\n",
       "      <td>1.0</td>\n",
       "      <td>32</td>\n",
       "      <td>593</td>\n",
       "      <td>4</td>\n",
       "      <td>2</td>\n",
       "      <td>1</td>\n",
       "      <td>8.0</td>\n",
       "    </tr>\n",
       "  </tbody>\n",
       "</table>\n",
       "</div>"
      ],
      "text/plain": [
       "  usernum  gender  country  window  day_of_week  timeofday  sessionid  session_length\n",
       "0       1     1.0       32     589            0          2          1             9.0\n",
       "1       1     1.0       32     591            2          1          1             8.0\n",
       "2       1     1.0       32     592            3          1          1             5.0\n",
       "3       1     1.0       32     592            3          2          2             7.0\n",
       "4       1     1.0       32     593            4          2          1             8.0"
      ]
     },
     "execution_count": 145,
     "metadata": {},
     "output_type": "execute_result"
    }
   ],
   "source": [
    "unscaled_model_df = model_bucketized_df.select('usernum','gender','country','window','day_of_week','timeofday','sessionid','session_length').toPandas().dropna()\n",
    "unscaled_model_df[:5]"
   ]
  },
  {
   "cell_type": "code",
   "execution_count": 146,
   "metadata": {},
   "outputs": [],
   "source": [
    "scaler = preprocessing.StandardScaler()\n",
    "scaled_df = scaler.fit_transform(unscaled_model_df)\n",
    "model_df = pd.DataFrame(scaled_df, columns=['usernum','gender','country','window','day_of_week','timeofday','sessionid','session_length'])"
   ]
  },
  {
   "cell_type": "code",
   "execution_count": 147,
   "metadata": {},
   "outputs": [
    {
     "data": {
      "text/html": [
       "<div>\n",
       "<style scoped>\n",
       "    .dataframe tbody tr th:only-of-type {\n",
       "        vertical-align: middle;\n",
       "    }\n",
       "\n",
       "    .dataframe tbody tr th {\n",
       "        vertical-align: top;\n",
       "    }\n",
       "\n",
       "    .dataframe thead th {\n",
       "        text-align: right;\n",
       "    }\n",
       "</style>\n",
       "<table border=\"1\" class=\"dataframe\">\n",
       "  <thead>\n",
       "    <tr style=\"text-align: right;\">\n",
       "      <th></th>\n",
       "      <th>usernum</th>\n",
       "      <th>gender</th>\n",
       "      <th>country</th>\n",
       "      <th>window</th>\n",
       "      <th>day_of_week</th>\n",
       "      <th>timeofday</th>\n",
       "      <th>sessionid</th>\n",
       "      <th>session_length</th>\n",
       "    </tr>\n",
       "  </thead>\n",
       "  <tbody>\n",
       "    <tr>\n",
       "      <th>0</th>\n",
       "      <td>-1.664247</td>\n",
       "      <td>0.722905</td>\n",
       "      <td>-0.609895</td>\n",
       "      <td>-1.116246</td>\n",
       "      <td>-1.513687</td>\n",
       "      <td>-0.437709</td>\n",
       "      <td>-0.841193</td>\n",
       "      <td>1.598150</td>\n",
       "    </tr>\n",
       "    <tr>\n",
       "      <th>1</th>\n",
       "      <td>-1.664247</td>\n",
       "      <td>0.722905</td>\n",
       "      <td>-0.609895</td>\n",
       "      <td>-1.110946</td>\n",
       "      <td>-0.495229</td>\n",
       "      <td>-1.375169</td>\n",
       "      <td>-0.841193</td>\n",
       "      <td>1.234782</td>\n",
       "    </tr>\n",
       "    <tr>\n",
       "      <th>2</th>\n",
       "      <td>-1.664247</td>\n",
       "      <td>0.722905</td>\n",
       "      <td>-0.609895</td>\n",
       "      <td>-1.108296</td>\n",
       "      <td>0.013999</td>\n",
       "      <td>-1.375169</td>\n",
       "      <td>-0.841193</td>\n",
       "      <td>0.144676</td>\n",
       "    </tr>\n",
       "    <tr>\n",
       "      <th>3</th>\n",
       "      <td>-1.664247</td>\n",
       "      <td>0.722905</td>\n",
       "      <td>-0.609895</td>\n",
       "      <td>-1.108296</td>\n",
       "      <td>0.013999</td>\n",
       "      <td>-0.437709</td>\n",
       "      <td>-0.111949</td>\n",
       "      <td>0.871413</td>\n",
       "    </tr>\n",
       "    <tr>\n",
       "      <th>4</th>\n",
       "      <td>-1.664247</td>\n",
       "      <td>0.722905</td>\n",
       "      <td>-0.609895</td>\n",
       "      <td>-1.105646</td>\n",
       "      <td>0.523228</td>\n",
       "      <td>-0.437709</td>\n",
       "      <td>-0.841193</td>\n",
       "      <td>1.234782</td>\n",
       "    </tr>\n",
       "  </tbody>\n",
       "</table>\n",
       "</div>"
      ],
      "text/plain": [
       "    usernum    gender   country    window  day_of_week  timeofday  sessionid  session_length\n",
       "0 -1.664247  0.722905 -0.609895 -1.116246    -1.513687  -0.437709  -0.841193        1.598150\n",
       "1 -1.664247  0.722905 -0.609895 -1.110946    -0.495229  -1.375169  -0.841193        1.234782\n",
       "2 -1.664247  0.722905 -0.609895 -1.108296     0.013999  -1.375169  -0.841193        0.144676\n",
       "3 -1.664247  0.722905 -0.609895 -1.108296     0.013999  -0.437709  -0.111949        0.871413\n",
       "4 -1.664247  0.722905 -0.609895 -1.105646     0.523228  -0.437709  -0.841193        1.234782"
      ]
     },
     "execution_count": 147,
     "metadata": {},
     "output_type": "execute_result"
    }
   ],
   "source": [
    "model_df[:5]"
   ]
  },
  {
   "cell_type": "code",
   "execution_count": 148,
   "metadata": {},
   "outputs": [],
   "source": [
    "#train cut point ~ 65% of samples\n",
    "train_size = int(0.65*model_df.shape[0])\n",
    "\n",
    "#dev cut point ~20% of samples\n",
    "dev_size   = int(0.2*model_df.shape[0])\n",
    "\n",
    "#test cut point ~15% of samples\n",
    "test_size  = int(0.15%model_df.shape[0])\n",
    "test_cut   = train_size + dev_size"
   ]
  },
  {
   "cell_type": "code",
   "execution_count": 149,
   "metadata": {},
   "outputs": [],
   "source": [
    "input_       = shuffle(model_df.reset_index())\n",
    "input_data   = np.array(input_.iloc[:,1:-1]).astype(np.float32)\n",
    "input_labels = np.array(input_.iloc[:,-1]).astype(np.float32)"
   ]
  },
  {
   "cell_type": "code",
   "execution_count": 150,
   "metadata": {},
   "outputs": [
    {
     "data": {
      "text/plain": [
       "array([[-0.19070075, -1.3833079 ,  0.9091998 ,  0.58503664,  1.0324574 ,\n",
       "         1.4372108 , -0.84119326],\n",
       "       [-0.910419  , -1.3833079 ,  0.71318763, -1.6806898 ,  0.5232284 ,\n",
       "        -0.43770903, -0.11194864],\n",
       "       [ 0.6825119 ,  0.7229048 ,  0.86019677, -1.0155467 ,  0.01399946,\n",
       "         0.49975088, -0.11194864],\n",
       "       [ 1.3681203 ,  0.7229048 ,  0.9091998 , -0.77969915, -1.0044584 ,\n",
       "         1.4372108 , -0.84119326],\n",
       "       [ 0.9997337 , -1.3833079 ,  0.9091998 , -1.2964438 , -0.49522948,\n",
       "         1.4372108 , -0.11194864]], dtype=float32)"
      ]
     },
     "execution_count": 150,
     "metadata": {},
     "output_type": "execute_result"
    }
   ],
   "source": [
    "input_data[:5]"
   ]
  },
  {
   "cell_type": "code",
   "execution_count": 151,
   "metadata": {},
   "outputs": [
    {
     "data": {
      "text/plain": [
       "array([0.14467569, 0.5080443 , 1.5981501 , 0.5080443 , 1.2347816 ],\n",
       "      dtype=float32)"
      ]
     },
     "execution_count": 151,
     "metadata": {},
     "output_type": "execute_result"
    }
   ],
   "source": [
    "input_labels[:5]"
   ]
  },
  {
   "cell_type": "code",
   "execution_count": null,
   "metadata": {},
   "outputs": [],
   "source": []
  },
  {
   "cell_type": "code",
   "execution_count": 152,
   "metadata": {},
   "outputs": [
    {
     "data": {
      "text/plain": [
       "(794173, 7)"
      ]
     },
     "execution_count": 152,
     "metadata": {},
     "output_type": "execute_result"
    }
   ],
   "source": [
    "input_data.shape"
   ]
  },
  {
   "cell_type": "code",
   "execution_count": 153,
   "metadata": {},
   "outputs": [],
   "source": [
    "num_examples = train_size"
   ]
  },
  {
   "cell_type": "code",
   "execution_count": 154,
   "metadata": {},
   "outputs": [
    {
     "data": {
      "text/plain": [
       "array([[-0.19070075, -1.3833079 ,  0.9091998 ,  0.58503664,  1.0324574 ,\n",
       "         1.4372108 , -0.84119326],\n",
       "       [-0.910419  , -1.3833079 ,  0.71318763, -1.6806898 ,  0.5232284 ,\n",
       "        -0.43770903, -0.11194864],\n",
       "       [ 0.6825119 ,  0.7229048 ,  0.86019677, -1.0155467 ,  0.01399946,\n",
       "         0.49975088, -0.11194864],\n",
       "       [ 1.3681203 ,  0.7229048 ,  0.9091998 , -0.77969915, -1.0044584 ,\n",
       "         1.4372108 , -0.84119326],\n",
       "       [ 0.9997337 , -1.3833079 ,  0.9091998 , -1.2964438 , -0.49522948,\n",
       "         1.4372108 , -0.11194864]], dtype=float32)"
      ]
     },
     "execution_count": 154,
     "metadata": {},
     "output_type": "execute_result"
    }
   ],
   "source": [
    "train_X = input_data[:train_size]\n",
    "train_X[:5]"
   ]
  },
  {
   "cell_type": "code",
   "execution_count": 155,
   "metadata": {},
   "outputs": [
    {
     "data": {
      "text/plain": [
       "(516212, 7)"
      ]
     },
     "execution_count": 155,
     "metadata": {},
     "output_type": "execute_result"
    }
   ],
   "source": [
    "train_X.shape"
   ]
  },
  {
   "cell_type": "code",
   "execution_count": 156,
   "metadata": {},
   "outputs": [
    {
     "data": {
      "text/plain": [
       "dtype('float32')"
      ]
     },
     "execution_count": 156,
     "metadata": {},
     "output_type": "execute_result"
    }
   ],
   "source": [
    "train_X.dtype"
   ]
  },
  {
   "cell_type": "code",
   "execution_count": 157,
   "metadata": {},
   "outputs": [
    {
     "data": {
      "text/plain": [
       "(516212,)"
      ]
     },
     "execution_count": 157,
     "metadata": {},
     "output_type": "execute_result"
    }
   ],
   "source": [
    "train_Y = input_labels[:train_size]\n",
    "train_Y.shape"
   ]
  },
  {
   "cell_type": "code",
   "execution_count": 158,
   "metadata": {},
   "outputs": [
    {
     "data": {
      "text/plain": [
       "array([[-0.3578391 ,  0.7229048 ,  0.86019677, -1.8105384 ,  0.5232284 ,\n",
       "        -1.3751689 , -0.11194864],\n",
       "       [ 1.7194519 ,  0.7229048 , -1.099925  ,  0.1186415 ,  0.5232284 ,\n",
       "         0.49975088,  2.8050299 ],\n",
       "       [-0.920652  ,  0.7229048 ,  0.9091998 ,  0.5638369 ,  0.5232284 ,\n",
       "         0.49975088, -0.11194864],\n",
       "       [ 1.6648761 ,  0.7229048 ,  0.86019677,  1.4356778 ,  0.5232284 ,\n",
       "        -0.43770903, -0.84119326],\n",
       "       [ 1.6103003 ,  0.7229048 ,  0.9091998 ,  0.74668497,  0.01399946,\n",
       "         0.49975088, -0.84119326]], dtype=float32)"
      ]
     },
     "execution_count": 158,
     "metadata": {},
     "output_type": "execute_result"
    }
   ],
   "source": [
    "dev_X = input_data[train_size:test_cut]\n",
    "dev_X[:5]"
   ]
  },
  {
   "cell_type": "code",
   "execution_count": 159,
   "metadata": {},
   "outputs": [
    {
     "data": {
      "text/plain": [
       "array([ 0.5080443 ,  0.14467569,  1.2347816 , -0.21869294,  0.5080443 ],\n",
       "      dtype=float32)"
      ]
     },
     "execution_count": 159,
     "metadata": {},
     "output_type": "execute_result"
    }
   ],
   "source": [
    "dev_Y = input_labels[train_size:test_cut]\n",
    "dev_Y[:5]"
   ]
  },
  {
   "cell_type": "code",
   "execution_count": 160,
   "metadata": {},
   "outputs": [
    {
     "data": {
      "text/plain": [
       "516212"
      ]
     },
     "execution_count": 160,
     "metadata": {},
     "output_type": "execute_result"
    }
   ],
   "source": [
    "n_samples = train_X.shape[0]\n",
    "n_samples"
   ]
  },
  {
   "cell_type": "code",
   "execution_count": 161,
   "metadata": {},
   "outputs": [
    {
     "data": {
      "text/plain": [
       "7"
      ]
     },
     "execution_count": 161,
     "metadata": {},
     "output_type": "execute_result"
    }
   ],
   "source": [
    "num_features = train_X.shape[1]\n",
    "num_features"
   ]
  },
  {
   "cell_type": "markdown",
   "metadata": {},
   "source": [
    "### Logistic Regression with TensorFlow"
   ]
  },
  {
   "cell_type": "code",
   "execution_count": 162,
   "metadata": {},
   "outputs": [
    {
     "name": "stderr",
     "output_type": "stream",
     "text": [
      "/usr/local/lib/python2.7/dist-packages/requests/__init__.py:83: RequestsDependencyWarning: Old version of cryptography ([1, 2, 3]) may cause slowdown.\n",
      "  warnings.warn(warning, RequestsDependencyWarning)\n"
     ]
    }
   ],
   "source": [
    "from __future__ import print_function\n",
    "import tensorflow as tf\n",
    "from tensorflow.contrib import rnn\n"
   ]
  },
  {
   "cell_type": "code",
   "execution_count": 163,
   "metadata": {},
   "outputs": [],
   "source": [
    "learning_rate   = 0.01\n",
    "training_epochs = 100\n",
    "batch_size      = 1000\n",
    "display_step    = 10"
   ]
  },
  {
   "cell_type": "code",
   "execution_count": 164,
   "metadata": {},
   "outputs": [],
   "source": [
    "# tf Graph Input\n",
    "X = tf.placeholder(tf.float32, [batch_size, num_features])\n",
    "Y = tf.placeholder(tf.float32, [batch_size,])\n",
    "\n",
    "# Set model weights\n",
    "W = tf.Variable(tf.zeros([num_features, batch_size]))\n",
    "b = tf.Variable(tf.zeros([batch_size]))"
   ]
  },
  {
   "cell_type": "code",
   "execution_count": 165,
   "metadata": {},
   "outputs": [],
   "source": [
    "with tf.name_scope('prediction'):\n",
    "    pred = tf.nn.softmax(tf.matmul(X, W) + b)\n",
    "    tf.summary.histogram('predictions', pred)\n",
    "\n",
    "with tf.name_scope('cost'):\n",
    "    cost = tf.reduce_mean(-tf.reduce_sum(Y*tf.log(pred), reduction_indices=1))\n",
    "    tf.summary.histogram('cost', cost)\n",
    "    \n",
    "optimizer = tf.train.GradientDescentOptimizer(learning_rate).minimize(cost)\n",
    "\n",
    "init = tf.global_variables_initializer()"
   ]
  },
  {
   "cell_type": "code",
   "execution_count": 166,
   "metadata": {},
   "outputs": [],
   "source": [
    "def get_next_batch(i, b_size,data,labels):\n",
    "    start = i*b_size\n",
    "    end = start + b_size\n",
    "    return data[start:end], labels[start:end]"
   ]
  },
  {
   "cell_type": "code",
   "execution_count": 167,
   "metadata": {},
   "outputs": [
    {
     "data": {
      "text/plain": [
       "[numpy.ndarray, numpy.ndarray]"
      ]
     },
     "execution_count": 167,
     "metadata": {},
     "output_type": "execute_result"
    }
   ],
   "source": [
    "[ type(x) for x in get_next_batch(0,batch_size, train_X, train_Y)]"
   ]
  },
  {
   "cell_type": "code",
   "execution_count": 168,
   "metadata": {},
   "outputs": [
    {
     "data": {
      "text/plain": [
       "516212"
      ]
     },
     "execution_count": 168,
     "metadata": {},
     "output_type": "execute_result"
    }
   ],
   "source": [
    "n_samples"
   ]
  },
  {
   "cell_type": "code",
   "execution_count": 169,
   "metadata": {},
   "outputs": [
    {
     "data": {
      "text/plain": [
       "(158834, 7)"
      ]
     },
     "execution_count": 169,
     "metadata": {},
     "output_type": "execute_result"
    }
   ],
   "source": [
    "dev_X.shape"
   ]
  },
  {
   "cell_type": "code",
   "execution_count": 170,
   "metadata": {},
   "outputs": [
    {
     "data": {
      "text/plain": [
       "(158834,)"
      ]
     },
     "execution_count": 170,
     "metadata": {},
     "output_type": "execute_result"
    }
   ],
   "source": [
    "dev_Y.shape"
   ]
  },
  {
   "cell_type": "code",
   "execution_count": 171,
   "metadata": {},
   "outputs": [
    {
     "name": "stdout",
     "output_type": "stream",
     "text": [
      "/data_data/session_length\r\n"
     ]
    }
   ],
   "source": [
    "!pwd"
   ]
  },
  {
   "cell_type": "code",
   "execution_count": 172,
   "metadata": {},
   "outputs": [],
   "source": [
    "#!tensorboard --logdir=/data_data/session_length/logs/"
   ]
  },
  {
   "cell_type": "code",
   "execution_count": 173,
   "metadata": {},
   "outputs": [],
   "source": [
    "#!mkdir ./logs"
   ]
  },
  {
   "cell_type": "markdown",
   "metadata": {},
   "source": [
    "### LSTM Classifier: Train classifier to predict decile that a session will fall into"
   ]
  },
  {
   "cell_type": "code",
   "execution_count": 174,
   "metadata": {},
   "outputs": [
    {
     "name": "stdout",
     "output_type": "stream",
     "text": [
      "Epoch: 0010 cost= -110.188638739\n",
      "Epoch: 0020 cost= nan\n",
      "Epoch: 0030 cost= nan\n",
      "Epoch: 0040 cost= nan\n",
      "Epoch: 0050 cost= nan\n",
      "Epoch: 0060 cost= nan\n",
      "Epoch: 0070 cost= nan\n",
      "Epoch: 0080 cost= nan\n",
      "Epoch: 0090 cost= nan\n",
      "Epoch: 0100 cost= nan\n"
     ]
    }
   ],
   "source": [
    "# Start training\n",
    "with tf.Session() as sess:\n",
    "    sess.run(init)\n",
    "    \n",
    "    with tf.name_scope('train'):\n",
    "        for epoch in range(training_epochs):\n",
    "            avg_cost = 0\n",
    "            total_batch = int(n_samples/batch_size)\n",
    "\n",
    "            for i in range(total_batch):\n",
    "                #print(\"ITERATION:\\t{}\\tBATCH_SIZE:\\t{}\".format(i,batch_size))\n",
    "                batch_xs, batch_ys = get_next_batch(i,batch_size, train_X, train_Y)\n",
    "\n",
    "                _, c = sess.run([optimizer, cost], feed_dict={X: batch_xs, Y: batch_ys})\n",
    "                #print(\"cost:\\t{}\".format(c))\n",
    "                avg_cost += c / total_batch\n",
    "\n",
    "            if (epoch+1) % display_step == 0:\n",
    "                print(\"Epoch:\", '%04d' % (epoch+1), \"cost=\", \"{:.9f}\".format(avg_cost))\n",
    "\n",
    "            tf.summary.scalar('average_cost', avg_cost)\n",
    "            \n",
    "        #print \"Optimization Finished!\"\n",
    "        \n",
    "    with tf.name_scope('accuracy'):\n",
    "        correct_prediction = tf.equal(tf.argmax(pred, 1), tf.argmax(Y, 1))\n",
    "        accuracy = tf.reduce_mean(tf.cast(correct_prediction, tf.float32))\n",
    "        #print(accuracy)\n",
    "        tf.summary.scalar('accuracy', accuracy)\n",
    "    \n",
    "    #devX = shuffle(dev_X)[:batch_size]\n",
    "    #devY = shuffle(dev_Y)[:batch_size]\n",
    "    \n",
    "    #print(\"Accuracy:\", accuracy.eval({X: devX, Y: devY}))\n",
    "    \n",
    "    merged = tf.summary.merge_all()\n",
    "    train_writer = tf.summary.FileWriter('/data_data/session_length/logs/train', sess.graph)\n",
    "    test_writer  = tf.summary.FileWriter('/data_data/session_length/logs/test')"
   ]
  },
  {
   "cell_type": "code",
   "execution_count": null,
   "metadata": {},
   "outputs": [],
   "source": []
  },
  {
   "cell_type": "code",
   "execution_count": 175,
   "metadata": {},
   "outputs": [],
   "source": [
    "# Training Parameters\n",
    "learning_rate = 0.001\n",
    "training_steps = 10000\n",
    "batch_size = 100\n",
    "display_step = 200\n",
    "\n",
    "# Network Parameters\n",
    "num_input = 7 \n",
    "timesteps = 28 \n",
    "num_hidden = 128 # hidden layer num of features\n",
    "num_classes = 10 # MNIST total classes (0-9 digits)\n",
    "\n",
    "# tf Graph input\n",
    "X = tf.placeholder(\"float\", [None, timesteps, num_input])\n",
    "Y = tf.placeholder(\"float\", [None, num_classes])"
   ]
  },
  {
   "cell_type": "markdown",
   "metadata": {},
   "source": [
    "### LSTM Classifier Part II"
   ]
  },
  {
   "cell_type": "code",
   "execution_count": 176,
   "metadata": {},
   "outputs": [],
   "source": [
    "hidden_layer_size = 100\n",
    "\n",
    "num_classes       = 10\n",
    "\n",
    "_seq_len          = n_samples\n",
    "\n",
    "_labels           = deciles\n",
    "\n",
    "time_steps        = 10\n",
    "\n",
    "embed_dimension   = 50"
   ]
  },
  {
   "cell_type": "code",
   "execution_count": 177,
   "metadata": {},
   "outputs": [],
   "source": [
    "_inputs   = tf.placeholder(tf.int32,   shape=[batch_size, time_steps])\n",
    "_labels   = tf.placeholder(tf.float32, shape=[batch_size, num_classes])\n",
    "_size     = 10\n",
    "_seqlens  = tf.placeholder(tf.int32, shape=[batch_size])"
   ]
  },
  {
   "cell_type": "code",
   "execution_count": 178,
   "metadata": {},
   "outputs": [],
   "source": [
    "with tf.name_scope('embeddings'):\n",
    "    embeddings = tf.Variable( tf.random_uniform([_size, embed_dimension], -1.0, 1.0), name='embedding')\n",
    "    embed      = tf.nn.embedding_lookup(embeddings, _inputs)"
   ]
  },
  {
   "cell_type": "code",
   "execution_count": 179,
   "metadata": {},
   "outputs": [
    {
     "data": {
      "text/plain": [
       "TensorShape([Dimension(10), Dimension(50)])"
      ]
     },
     "execution_count": 179,
     "metadata": {},
     "output_type": "execute_result"
    }
   ],
   "source": [
    "embeddings.get_shape()"
   ]
  },
  {
   "cell_type": "code",
   "execution_count": 180,
   "metadata": {},
   "outputs": [
    {
     "data": {
      "text/plain": [
       "TensorShape([Dimension(100), Dimension(10), Dimension(50)])"
      ]
     },
     "execution_count": 180,
     "metadata": {},
     "output_type": "execute_result"
    }
   ],
   "source": [
    "embed.get_shape()"
   ]
  },
  {
   "cell_type": "code",
   "execution_count": 182,
   "metadata": {},
   "outputs": [
    {
     "name": "stdout",
     "output_type": "stream",
     "text": [
      "LSTM output_size: \t100\tinput_spec:\\None\n"
     ]
    },
    {
     "ename": "ValueError",
     "evalue": "Tensor(\"Shape_1:0\", shape=(1,), dtype=int32) must be from the same graph as Tensor(\"lstm/rnn/stack:0\", shape=(1,), dtype=int32).",
     "output_type": "error",
     "traceback": [
      "\u001b[0;31m\u001b[0m",
      "\u001b[0;31mValueError\u001b[0mTraceback (most recent call last)",
      "\u001b[0;32m<ipython-input-182-b61b924d5a3a>\u001b[0m in \u001b[0;36m<module>\u001b[0;34m()\u001b[0m\n\u001b[1;32m      7\u001b[0m     \u001b[0;32mprint\u001b[0m\u001b[0;34m(\u001b[0m\u001b[0;34m\"LSTM output_size: \\t{}\\tinput_spec:\\{}\"\u001b[0m\u001b[0;34m.\u001b[0m\u001b[0mformat\u001b[0m\u001b[0;34m(\u001b[0m\u001b[0mlstm_cell\u001b[0m\u001b[0;34m.\u001b[0m\u001b[0moutput_size\u001b[0m\u001b[0;34m,\u001b[0m\u001b[0mlstm_cell\u001b[0m\u001b[0;34m.\u001b[0m\u001b[0minput_spec\u001b[0m\u001b[0;34m)\u001b[0m\u001b[0;34m)\u001b[0m\u001b[0;34m\u001b[0m\u001b[0m\n\u001b[1;32m      8\u001b[0m \u001b[0;34m\u001b[0m\u001b[0m\n\u001b[0;32m----> 9\u001b[0;31m     \u001b[0moutputs\u001b[0m\u001b[0;34m,\u001b[0m \u001b[0mstates\u001b[0m \u001b[0;34m=\u001b[0m \u001b[0mtf\u001b[0m\u001b[0;34m.\u001b[0m\u001b[0mnn\u001b[0m\u001b[0;34m.\u001b[0m\u001b[0mdynamic_rnn\u001b[0m\u001b[0;34m(\u001b[0m\u001b[0mlstm_cell\u001b[0m\u001b[0;34m,\u001b[0m \u001b[0membed\u001b[0m\u001b[0;34m,\u001b[0m \u001b[0msequence_length\u001b[0m \u001b[0;34m=\u001b[0m \u001b[0m_seqlens\u001b[0m\u001b[0;34m,\u001b[0m \u001b[0mdtype\u001b[0m\u001b[0;34m=\u001b[0m\u001b[0mtf\u001b[0m\u001b[0;34m.\u001b[0m\u001b[0mfloat32\u001b[0m\u001b[0;34m)\u001b[0m\u001b[0;34m\u001b[0m\u001b[0m\n\u001b[0m\u001b[1;32m     10\u001b[0m \u001b[0;34m\u001b[0m\u001b[0m\n\u001b[1;32m     11\u001b[0m     \u001b[0mweights\u001b[0m         \u001b[0;34m=\u001b[0m \u001b[0;34m{\u001b[0m \u001b[0;34m'linear_layer'\u001b[0m\u001b[0;34m:\u001b[0m \u001b[0mtf\u001b[0m\u001b[0;34m.\u001b[0m\u001b[0mVariable\u001b[0m\u001b[0;34m(\u001b[0m\u001b[0mtf\u001b[0m\u001b[0;34m.\u001b[0m\u001b[0mtruncated_normal\u001b[0m\u001b[0;34m(\u001b[0m\u001b[0;34m[\u001b[0m\u001b[0mhidden_layer_size\u001b[0m\u001b[0;34m,\u001b[0m \u001b[0mnum_classes\u001b[0m\u001b[0;34m]\u001b[0m\u001b[0;34m,\u001b[0m \u001b[0mmean\u001b[0m\u001b[0;34m=\u001b[0m\u001b[0;36m0\u001b[0m\u001b[0;34m,\u001b[0m \u001b[0mstddev\u001b[0m\u001b[0;34m=\u001b[0m\u001b[0;36m0.01\u001b[0m\u001b[0;34m)\u001b[0m\u001b[0;34m)\u001b[0m \u001b[0;34m}\u001b[0m\u001b[0;34m\u001b[0m\u001b[0m\n",
      "\u001b[0;32m/usr/local/lib/python2.7/dist-packages/tensorflow/python/ops/rnn.pyc\u001b[0m in \u001b[0;36mdynamic_rnn\u001b[0;34m(cell, inputs, sequence_length, initial_state, dtype, parallel_iterations, swap_memory, time_major, scope)\u001b[0m\n\u001b[1;32m    583\u001b[0m       \u001b[0;31m# Perform some shape validation\u001b[0m\u001b[0;34m\u001b[0m\u001b[0;34m\u001b[0m\u001b[0m\n\u001b[1;32m    584\u001b[0m       with ops.control_dependencies(\n\u001b[0;32m--> 585\u001b[0;31m           [_assert_has_shape(sequence_length, [batch_size])]):\n\u001b[0m\u001b[1;32m    586\u001b[0m         sequence_length = array_ops.identity(\n\u001b[1;32m    587\u001b[0m             sequence_length, name=\"CheckSeqLen\")\n",
      "\u001b[0;32m/usr/local/lib/python2.7/dist-packages/tensorflow/python/ops/rnn.pyc\u001b[0m in \u001b[0;36m_assert_has_shape\u001b[0;34m(x, shape)\u001b[0m\n\u001b[1;32m    576\u001b[0m       \u001b[0mpacked_shape\u001b[0m \u001b[0;34m=\u001b[0m \u001b[0marray_ops\u001b[0m\u001b[0;34m.\u001b[0m\u001b[0mstack\u001b[0m\u001b[0;34m(\u001b[0m\u001b[0mshape\u001b[0m\u001b[0;34m)\u001b[0m\u001b[0;34m\u001b[0m\u001b[0m\n\u001b[1;32m    577\u001b[0m       return control_flow_ops.Assert(\n\u001b[0;32m--> 578\u001b[0;31m           \u001b[0mmath_ops\u001b[0m\u001b[0;34m.\u001b[0m\u001b[0mreduce_all\u001b[0m\u001b[0;34m(\u001b[0m\u001b[0mmath_ops\u001b[0m\u001b[0;34m.\u001b[0m\u001b[0mequal\u001b[0m\u001b[0;34m(\u001b[0m\u001b[0mx_shape\u001b[0m\u001b[0;34m,\u001b[0m \u001b[0mpacked_shape\u001b[0m\u001b[0;34m)\u001b[0m\u001b[0;34m)\u001b[0m\u001b[0;34m,\u001b[0m\u001b[0;34m\u001b[0m\u001b[0m\n\u001b[0m\u001b[1;32m    579\u001b[0m           [\"Expected shape for Tensor %s is \" % x.name,\n\u001b[1;32m    580\u001b[0m            packed_shape, \" but saw shape: \", x_shape])\n",
      "\u001b[0;32m/usr/local/lib/python2.7/dist-packages/tensorflow/python/ops/gen_math_ops.pyc\u001b[0m in \u001b[0;36mequal\u001b[0;34m(x, y, name)\u001b[0m\n\u001b[1;32m    751\u001b[0m     \u001b[0mA\u001b[0m \u001b[0;34m`\u001b[0m\u001b[0mTensor\u001b[0m\u001b[0;34m`\u001b[0m \u001b[0mof\u001b[0m \u001b[0mtype\u001b[0m \u001b[0;34m`\u001b[0m\u001b[0mbool\u001b[0m\u001b[0;34m`\u001b[0m\u001b[0;34m.\u001b[0m\u001b[0;34m\u001b[0m\u001b[0m\n\u001b[1;32m    752\u001b[0m   \"\"\"\n\u001b[0;32m--> 753\u001b[0;31m   \u001b[0mresult\u001b[0m \u001b[0;34m=\u001b[0m \u001b[0m_op_def_lib\u001b[0m\u001b[0;34m.\u001b[0m\u001b[0mapply_op\u001b[0m\u001b[0;34m(\u001b[0m\u001b[0;34m\"Equal\"\u001b[0m\u001b[0;34m,\u001b[0m \u001b[0mx\u001b[0m\u001b[0;34m=\u001b[0m\u001b[0mx\u001b[0m\u001b[0;34m,\u001b[0m \u001b[0my\u001b[0m\u001b[0;34m=\u001b[0m\u001b[0my\u001b[0m\u001b[0;34m,\u001b[0m \u001b[0mname\u001b[0m\u001b[0;34m=\u001b[0m\u001b[0mname\u001b[0m\u001b[0;34m)\u001b[0m\u001b[0;34m\u001b[0m\u001b[0m\n\u001b[0m\u001b[1;32m    754\u001b[0m   \u001b[0;32mreturn\u001b[0m \u001b[0mresult\u001b[0m\u001b[0;34m\u001b[0m\u001b[0m\n\u001b[1;32m    755\u001b[0m \u001b[0;34m\u001b[0m\u001b[0m\n",
      "\u001b[0;32m/usr/local/lib/python2.7/dist-packages/tensorflow/python/framework/op_def_library.pyc\u001b[0m in \u001b[0;36mapply_op\u001b[0;34m(self, op_type_name, name, **keywords)\u001b[0m\n\u001b[1;32m    328\u001b[0m       \u001b[0;31m# Need to flatten all the arguments into a list.\u001b[0m\u001b[0;34m\u001b[0m\u001b[0;34m\u001b[0m\u001b[0m\n\u001b[1;32m    329\u001b[0m       \u001b[0;31m# pylint: disable=protected-access\u001b[0m\u001b[0;34m\u001b[0m\u001b[0;34m\u001b[0m\u001b[0m\n\u001b[0;32m--> 330\u001b[0;31m       \u001b[0mg\u001b[0m \u001b[0;34m=\u001b[0m \u001b[0mops\u001b[0m\u001b[0;34m.\u001b[0m\u001b[0m_get_graph_from_inputs\u001b[0m\u001b[0;34m(\u001b[0m\u001b[0m_Flatten\u001b[0m\u001b[0;34m(\u001b[0m\u001b[0mkeywords\u001b[0m\u001b[0;34m.\u001b[0m\u001b[0mvalues\u001b[0m\u001b[0;34m(\u001b[0m\u001b[0;34m)\u001b[0m\u001b[0;34m)\u001b[0m\u001b[0;34m)\u001b[0m\u001b[0;34m\u001b[0m\u001b[0m\n\u001b[0m\u001b[1;32m    331\u001b[0m       \u001b[0;31m# pylint: enable=protected-access\u001b[0m\u001b[0;34m\u001b[0m\u001b[0;34m\u001b[0m\u001b[0m\n\u001b[1;32m    332\u001b[0m     \u001b[0;32mexcept\u001b[0m \u001b[0mAssertionError\u001b[0m \u001b[0;32mas\u001b[0m \u001b[0me\u001b[0m\u001b[0;34m:\u001b[0m\u001b[0;34m\u001b[0m\u001b[0m\n",
      "\u001b[0;32m/usr/local/lib/python2.7/dist-packages/tensorflow/python/framework/ops.pyc\u001b[0m in \u001b[0;36m_get_graph_from_inputs\u001b[0;34m(op_input_list, graph)\u001b[0m\n\u001b[1;32m   4260\u001b[0m         \u001b[0mgraph\u001b[0m \u001b[0;34m=\u001b[0m \u001b[0mgraph_element\u001b[0m\u001b[0;34m.\u001b[0m\u001b[0mgraph\u001b[0m\u001b[0;34m\u001b[0m\u001b[0m\n\u001b[1;32m   4261\u001b[0m       \u001b[0;32melif\u001b[0m \u001b[0moriginal_graph_element\u001b[0m \u001b[0;32mis\u001b[0m \u001b[0;32mnot\u001b[0m \u001b[0mNone\u001b[0m\u001b[0;34m:\u001b[0m\u001b[0;34m\u001b[0m\u001b[0m\n\u001b[0;32m-> 4262\u001b[0;31m         \u001b[0m_assert_same_graph\u001b[0m\u001b[0;34m(\u001b[0m\u001b[0moriginal_graph_element\u001b[0m\u001b[0;34m,\u001b[0m \u001b[0mgraph_element\u001b[0m\u001b[0;34m)\u001b[0m\u001b[0;34m\u001b[0m\u001b[0m\n\u001b[0m\u001b[1;32m   4263\u001b[0m       \u001b[0;32melif\u001b[0m \u001b[0mgraph_element\u001b[0m\u001b[0;34m.\u001b[0m\u001b[0mgraph\u001b[0m \u001b[0;32mis\u001b[0m \u001b[0;32mnot\u001b[0m \u001b[0mgraph\u001b[0m\u001b[0;34m:\u001b[0m\u001b[0;34m\u001b[0m\u001b[0m\n\u001b[1;32m   4264\u001b[0m         raise ValueError(\n",
      "\u001b[0;32m/usr/local/lib/python2.7/dist-packages/tensorflow/python/framework/ops.pyc\u001b[0m in \u001b[0;36m_assert_same_graph\u001b[0;34m(original_item, item)\u001b[0m\n\u001b[1;32m   4199\u001b[0m   \u001b[0;32mif\u001b[0m \u001b[0moriginal_item\u001b[0m\u001b[0;34m.\u001b[0m\u001b[0mgraph\u001b[0m \u001b[0;32mis\u001b[0m \u001b[0;32mnot\u001b[0m \u001b[0mitem\u001b[0m\u001b[0;34m.\u001b[0m\u001b[0mgraph\u001b[0m\u001b[0;34m:\u001b[0m\u001b[0;34m\u001b[0m\u001b[0m\n\u001b[1;32m   4200\u001b[0m     raise ValueError(\n\u001b[0;32m-> 4201\u001b[0;31m         \"%s must be from the same graph as %s.\" % (item, original_item))\n\u001b[0m\u001b[1;32m   4202\u001b[0m \u001b[0;34m\u001b[0m\u001b[0m\n\u001b[1;32m   4203\u001b[0m \u001b[0;34m\u001b[0m\u001b[0m\n",
      "\u001b[0;31mValueError\u001b[0m: Tensor(\"Shape_1:0\", shape=(1,), dtype=int32) must be from the same graph as Tensor(\"lstm/rnn/stack:0\", shape=(1,), dtype=int32)."
     ]
    }
   ],
   "source": [
    "tf.reset_default_graph()\n",
    "\n",
    "with tf.variable_scope('lstm'):\n",
    "    \n",
    "    lstm_cell       = tf.contrib.rnn.BasicLSTMCell(hidden_layer_size, forget_bias=1.0)\n",
    "    \n",
    "    print(\"LSTM output_size: \\t{}\\tinput_spec:\\{}\".format(lstm_cell.output_size,lstm_cell.input_spec))\n",
    "    \n",
    "    outputs, states = tf.nn.dynamic_rnn(lstm_cell, embed, sequence_length = _seqlens, dtype=tf.float32)\n",
    "    \n",
    "    weights         = { 'linear_layer': tf.Variable(tf.truncated_normal([hidden_layer_size, num_classes], mean=0, stddev=0.01)) }\n",
    "    \n",
    "    biases          = { 'linear_layer': tf.Variable(tf.truncated_normal([num_classes], mean=0, stddev=0.01))}\n",
    "    \n",
    "    final_output    = tf.matmul(states[1], weights[\"linear_layer\"]) + biases[\"linear_layer\"]\n",
    "    \n",
    "    softmax         = tf.nn.softmax_cross_entropy_with_logits(logits = final_output, labels = _labels)\n",
    "    \n",
    "    cross_entropy   = tf.reduce_mean(softmax)\n",
    "    \n",
    "    "
   ]
  },
  {
   "cell_type": "code",
   "execution_count": 183,
   "metadata": {},
   "outputs": [
    {
     "ename": "NameError",
     "evalue": "name 'cross_entropy' is not defined",
     "output_type": "error",
     "traceback": [
      "\u001b[0;31m\u001b[0m",
      "\u001b[0;31mNameError\u001b[0mTraceback (most recent call last)",
      "\u001b[0;32m<ipython-input-183-3e2540f8f892>\u001b[0m in \u001b[0;36m<module>\u001b[0;34m()\u001b[0m\n\u001b[0;32m----> 1\u001b[0;31m \u001b[0mtrain_step\u001b[0m \u001b[0;34m=\u001b[0m \u001b[0mtf\u001b[0m\u001b[0;34m.\u001b[0m\u001b[0mtrain\u001b[0m\u001b[0;34m.\u001b[0m\u001b[0mRMSPropOptimizer\u001b[0m\u001b[0;34m(\u001b[0m\u001b[0;36m0.001\u001b[0m\u001b[0;34m,\u001b[0m \u001b[0;36m0.9\u001b[0m\u001b[0;34m)\u001b[0m\u001b[0;34m.\u001b[0m\u001b[0mminimize\u001b[0m\u001b[0;34m(\u001b[0m\u001b[0mcross_entropy\u001b[0m\u001b[0;34m)\u001b[0m\u001b[0;34m\u001b[0m\u001b[0m\n\u001b[0m\u001b[1;32m      2\u001b[0m \u001b[0;34m\u001b[0m\u001b[0m\n\u001b[1;32m      3\u001b[0m \u001b[0mcorrection_prediction\u001b[0m \u001b[0;34m=\u001b[0m \u001b[0mtf\u001b[0m\u001b[0;34m.\u001b[0m\u001b[0mequal\u001b[0m\u001b[0;34m(\u001b[0m\u001b[0mtf\u001b[0m\u001b[0;34m.\u001b[0m\u001b[0margmax\u001b[0m\u001b[0;34m(\u001b[0m\u001b[0m_labels\u001b[0m\u001b[0;34m,\u001b[0m \u001b[0;36m1\u001b[0m\u001b[0;34m)\u001b[0m\u001b[0;34m,\u001b[0m \u001b[0mtf\u001b[0m\u001b[0;34m.\u001b[0m\u001b[0margmax\u001b[0m\u001b[0;34m(\u001b[0m\u001b[0mfinal_output\u001b[0m\u001b[0;34m,\u001b[0m \u001b[0;36m1\u001b[0m\u001b[0;34m)\u001b[0m\u001b[0;34m)\u001b[0m\u001b[0;34m\u001b[0m\u001b[0m\n\u001b[1;32m      4\u001b[0m \u001b[0;34m\u001b[0m\u001b[0m\n\u001b[1;32m      5\u001b[0m \u001b[0maccuracy\u001b[0m   \u001b[0;34m=\u001b[0m \u001b[0;34m(\u001b[0m\u001b[0mtf\u001b[0m\u001b[0;34m.\u001b[0m\u001b[0mreduce_mean\u001b[0m\u001b[0;34m(\u001b[0m\u001b[0mtf\u001b[0m\u001b[0;34m.\u001b[0m\u001b[0mcast\u001b[0m\u001b[0;34m(\u001b[0m\u001b[0mcorrect_prediction\u001b[0m\u001b[0;34m,\u001b[0m \u001b[0mtf\u001b[0m\u001b[0;34m.\u001b[0m\u001b[0mfloat32\u001b[0m\u001b[0;34m)\u001b[0m\u001b[0;34m)\u001b[0m\u001b[0;34m)\u001b[0m\u001b[0;34m*\u001b[0m\u001b[0;36m100\u001b[0m\u001b[0;34m\u001b[0m\u001b[0m\n",
      "\u001b[0;31mNameError\u001b[0m: name 'cross_entropy' is not defined"
     ]
    }
   ],
   "source": [
    "train_step = tf.train.RMSPropOptimizer(0.001, 0.9).minimize(cross_entropy)\n",
    "\n",
    "correction_prediction = tf.equal(tf.argmax(_labels, 1), tf.argmax(final_output, 1))\n",
    "\n",
    "accuracy   = (tf.reduce_mean(tf.cast(correct_prediction, tf.float32)))*100\n",
    "\n",
    "with tf.Session() as sess:\n",
    "    \n",
    "    sess.run(tf.global_variables_initializer())\n",
    "    \n",
    "    for step in range(1000):\n",
    "        \n",
    "        x_batch, y_batch = get_next_batch(step, batch_size, train_X, train_Y)\n",
    "    \n",
    "        if step % 100 == 0:\n",
    "\n",
    "            acc = sess.run(accuracy,feed_dict={inputs:x_batch, _labels:y_batch})\n",
    "\n",
    "            print(\"Accuracy at %d: %.5f\" % (step, acc))\n",
    "            \n",
    "            \n",
    "    for test_batch in range(5):\n",
    "        \n",
    "        x_tes, y_test = get_next_batch(test_batch, batch_size, train_X, train_Y)\n",
    "        \n",
    "        batch_pred, batch_acc = sess.run([tf.argmax(final_output,1), accuracy], feed_dict={_inputs:x_test, _labels:y_test})\n",
    "        \n",
    "        print(\"Test batch accuracy %d: %.5f\" % (test_batch, batch_acc))\n",
    "\n",
    "    ouput_example  = session.run([outputs], feed_dict={_inputs:x_test, _labels:y_test})\n",
    "    \n",
    "    states_example = sess.run([states[1]], feed_dict={_inputs:x_test, _labels:y_test})\n",
    "        \n",
    "    "
   ]
  },
  {
   "cell_type": "code",
   "execution_count": null,
   "metadata": {},
   "outputs": [],
   "source": []
  },
  {
   "cell_type": "markdown",
   "metadata": {},
   "source": [
    "### CNN with TensorFlow"
   ]
  },
  {
   "cell_type": "code",
   "execution_count": null,
   "metadata": {},
   "outputs": [],
   "source": []
  },
  {
   "cell_type": "code",
   "execution_count": null,
   "metadata": {},
   "outputs": [],
   "source": []
  },
  {
   "cell_type": "code",
   "execution_count": null,
   "metadata": {},
   "outputs": [],
   "source": []
  },
  {
   "cell_type": "code",
   "execution_count": null,
   "metadata": {},
   "outputs": [],
   "source": []
  },
  {
   "cell_type": "code",
   "execution_count": null,
   "metadata": {},
   "outputs": [],
   "source": []
  },
  {
   "cell_type": "code",
   "execution_count": null,
   "metadata": {},
   "outputs": [],
   "source": []
  },
  {
   "cell_type": "code",
   "execution_count": null,
   "metadata": {},
   "outputs": [],
   "source": []
  },
  {
   "cell_type": "code",
   "execution_count": null,
   "metadata": {},
   "outputs": [],
   "source": []
  },
  {
   "cell_type": "code",
   "execution_count": null,
   "metadata": {},
   "outputs": [],
   "source": []
  },
  {
   "cell_type": "code",
   "execution_count": null,
   "metadata": {},
   "outputs": [],
   "source": []
  },
  {
   "cell_type": "code",
   "execution_count": null,
   "metadata": {},
   "outputs": [],
   "source": []
  },
  {
   "cell_type": "code",
   "execution_count": null,
   "metadata": {},
   "outputs": [],
   "source": []
  },
  {
   "cell_type": "code",
   "execution_count": null,
   "metadata": {},
   "outputs": [],
   "source": []
  },
  {
   "cell_type": "code",
   "execution_count": null,
   "metadata": {},
   "outputs": [],
   "source": []
  },
  {
   "cell_type": "code",
   "execution_count": null,
   "metadata": {},
   "outputs": [],
   "source": []
  }
 ],
 "metadata": {
  "kernelspec": {
   "display_name": "Python 2",
   "language": "python",
   "name": "python2"
  },
  "language_info": {
   "codemirror_mode": {
    "name": "ipython",
    "version": 2
   },
   "file_extension": ".py",
   "mimetype": "text/x-python",
   "name": "python",
   "nbconvert_exporter": "python",
   "pygments_lexer": "ipython2",
   "version": "2.7.12"
  }
 },
 "nbformat": 4,
 "nbformat_minor": 2
}

{
 "cells": [
  {
   "cell_type": "markdown",
   "metadata": {},
   "source": [
    "## ETL: Add local timezone to each song played"
   ]
  },
  {
   "cell_type": "code",
   "execution_count": 30,
   "metadata": {},
   "outputs": [],
   "source": [
    "import os\n",
    "import lxml\n",
    "\n",
    "import pandas as pd"
   ]
  },
  {
   "cell_type": "markdown",
   "metadata": {},
   "source": [
    "#### Use maximum width of notebook"
   ]
  },
  {
   "cell_type": "code",
   "execution_count": 31,
   "metadata": {},
   "outputs": [
    {
     "data": {
      "text/html": [
       "<style>.container { width:100% !important; }</style>"
      ],
      "text/plain": [
       "<IPython.core.display.HTML object>"
      ]
     },
     "metadata": {},
     "output_type": "display_data"
    }
   ],
   "source": [
    "from IPython.core.display import display, HTML\n",
    "display(HTML(\"<style>.container { width:100% !important; }</style>\"))\n",
    "\n",
    "pd.set_option('display.height', 1000)\n",
    "pd.set_option('display.max_rows', 500)\n",
    "pd.set_option('display.max_columns', 500)\n",
    "pd.set_option('display.width', 1000)\n",
    "pd.set_option('display.expand_frame_repr', False)\n",
    "pd.set_option('max_colwidth', 800)\n",
    "pd.set_option('display.max_colwidth', 500)\n",
    "pd.set_option('expand_frame_repr', True)"
   ]
  },
  {
   "cell_type": "code",
   "execution_count": 32,
   "metadata": {},
   "outputs": [
    {
     "name": "stdout",
     "output_type": "stream",
     "text": [
      "hduser\r\n"
     ]
    }
   ],
   "source": [
    "!whoami"
   ]
  },
  {
   "cell_type": "code",
   "execution_count": 33,
   "metadata": {},
   "outputs": [
    {
     "name": "stdout",
     "output_type": "stream",
     "text": [
      "/data_data/session_length\r\n"
     ]
    }
   ],
   "source": [
    "os.chdir(\"/data_data/session_length/\")\n",
    "!pwd"
   ]
  },
  {
   "cell_type": "code",
   "execution_count": 34,
   "metadata": {},
   "outputs": [
    {
     "name": "stdout",
     "output_type": "stream",
     "text": [
      "LESSOPEN=| /usr/bin/lesspipe %s\r\n",
      "MAIL=/var/mail/hduser\r\n",
      "USER=hduser\r\n",
      "J2SDKDIR=/usr/lib/jvm/java-8-oracle\r\n",
      "MPLBACKEND=module://ipykernel.pylab.backend_inline\r\n",
      "SHLVL=1\r\n",
      "J2REDIR=/usr/lib/jvm/java-8-oracle/jre\r\n",
      "OLDPWD=/data_data/session_length/data\r\n",
      "HOME=/home/hduser\r\n",
      "PAGER=cat\r\n",
      "LOGNAME=hduser\r\n",
      "_=/usr/bin/nohup\r\n",
      "TERM=xterm-color\r\n",
      "PATH=/usr/local/bin:/home/hduser/bin:/home/hduser/.local/bin:/usr/local/bin:/usr/bin:/bin:/usr/local/games:/usr/games:/snap/bin:/usr/lib/jvm/java-8-oracle/bin:/usr/lib/jvm/java-8-oracle/db/bin:/usr/lib/jvm/java-8-oracle/jre/bin:/usr/local/hadoop/bin:/usr/local/hadoop/sbin\r\n",
      "DERBY_HOME=/usr/lib/jvm/java-8-oracle/db\r\n",
      "LANG=en_US.UTF-8\r\n",
      "LS_COLORS=rs=0:di=01;34:ln=01;36:mh=00:pi=40;33:so=01;35:do=01;35:bd=40;33;01:cd=40;33;01:or=40;31;01:mi=00:su=37;41:sg=30;43:ca=30;41:tw=30;42:ow=34;42:st=37;44:ex=01;32:*.tar=01;31:*.tgz=01;31:*.arc=01;31:*.arj=01;31:*.taz=01;31:*.lha=01;31:*.lz4=01;31:*.lzh=01;31:*.lzma=01;31:*.tlz=01;31:*.txz=01;31:*.tzo=01;31:*.t7z=01;31:*.zip=01;31:*.z=01;31:*.Z=01;31:*.dz=01;31:*.gz=01;31:*.lrz=01;31:*.lz=01;31:*.lzo=01;31:*.xz=01;31:*.bz2=01;31:*.bz=01;31:*.tbz=01;31:*.tbz2=01;31:*.tz=01;31:*.deb=01;31:*.rpm=01;31:*.jar=01;31:*.war=01;31:*.ear=01;31:*.sar=01;31:*.rar=01;31:*.alz=01;31:*.ace=01;31:*.zoo=01;31:*.cpio=01;31:*.7z=01;31:*.rz=01;31:*.cab=01;31:*.jpg=01;35:*.jpeg=01;35:*.gif=01;35:*.bmp=01;35:*.pbm=01;35:*.pgm=01;35:*.ppm=01;35:*.tga=01;35:*.xbm=01;35:*.xpm=01;35:*.tif=01;35:*.tiff=01;35:*.png=01;35:*.svg=01;35:*.svgz=01;35:*.mng=01;35:*.pcx=01;35:*.mov=01;35:*.mpg=01;35:*.mpeg=01;35:*.m2v=01;35:*.mkv=01;35:*.webm=01;35:*.ogm=01;35:*.mp4=01;35:*.m4v=01;35:*.mp4v=01;35:*.vob=01;35:*.qt=01;35:*.nuv=01;35:*.wmv=01;35:*.asf=01;35:*.rm=01;35:*.rmvb=01;35:*.flc=01;35:*.avi=01;35:*.fli=01;35:*.flv=01;35:*.gl=01;35:*.dl=01;35:*.xcf=01;35:*.xwd=01;35:*.yuv=01;35:*.cgm=01;35:*.emf=01;35:*.ogv=01;35:*.ogx=01;35:*.aac=00;36:*.au=00;36:*.flac=00;36:*.m4a=00;36:*.mid=00;36:*.midi=00;36:*.mka=00;36:*.mp3=00;36:*.mpc=00;36:*.ogg=00;36:*.ra=00;36:*.wav=00;36:*.oga=00;36:*.opus=00;36:*.spx=00;36:*.xspf=00;36:\r\n",
      "SHELL=/bin/bash\r\n",
      "LESSCLOSE=/usr/bin/lesspipe %s %s\r\n",
      "GIT_PAGER=cat\r\n",
      "JAVA_HOME=/usr/lib/jvm/java-8-oracle\r\n",
      "PWD=/data_data/session_length\r\n",
      "CLICOLOR=1\r\n",
      "JPY_PARENT_PID=13525\r\n",
      "XDG_DATA_DIRS=/usr/local/share:/usr/share:/var/lib/snapd/desktop\r\n"
     ]
    }
   ],
   "source": [
    "!env"
   ]
  },
  {
   "cell_type": "markdown",
   "metadata": {},
   "source": [
    "### Make sure no other spark jobs running before doing this"
   ]
  },
  {
   "cell_type": "code",
   "execution_count": 35,
   "metadata": {},
   "outputs": [],
   "source": [
    "#import pymongo\n",
    "#import pymongo_spark\n",
    "\n",
    "#pymongo_spark.activate()\n"
   ]
  },
  {
   "cell_type": "code",
   "execution_count": 36,
   "metadata": {},
   "outputs": [],
   "source": [
    "#sc.stop()\n",
    "#spark.stop()"
   ]
  },
  {
   "cell_type": "markdown",
   "metadata": {},
   "source": [
    "### If you want to restart Yarn etc"
   ]
  },
  {
   "cell_type": "code",
   "execution_count": 37,
   "metadata": {},
   "outputs": [],
   "source": [
    "!export HADOOP_HOME=/usr/local/hadoop \n",
    "!export PATH=$PATH:/usr/local/hadoop/bin:/usr/local/hadoop/sbin"
   ]
  },
  {
   "cell_type": "code",
   "execution_count": 38,
   "metadata": {},
   "outputs": [],
   "source": [
    "#!/usr/local/hadoop/sbin/stop-all.sh\n",
    "#!/usr/local/hadoop/sbin/start-all.sh"
   ]
  },
  {
   "cell_type": "code",
   "execution_count": 39,
   "metadata": {},
   "outputs": [],
   "source": [
    "APP_NAME = \"ETL Add Local TimeZone and is_holiday flag\"\n",
    "\n",
    "try:\n",
    "    sc.stop()\n",
    "    spark.stop()\n",
    "except:\n",
    "    pass\n",
    "\n",
    "from pyspark import SparkConf\n",
    "from pyspark.context import SparkContext\n",
    "from pyspark.sql.session import SparkSession\n",
    "\n",
    "try:\n",
    "    sc and spark\n",
    "except (NameError, UnboundLocalError) as e:\n",
    "    import findspark\n",
    "    #findspark.init()\n",
    "    import pyspark\n",
    "    import pyspark.sql\n",
    "    \n",
    "    #sc = pyspark.SparkContext()\n",
    "    #spark = pyspark.sql.SparkSession(sc).builder.appName(APP_NAME).getOrCreate()\n",
    "    \n",
    "sc = SparkContext(conf = SparkConf() .set(\"spark.sql.autoBroadcastJoinThreshold\",-1) .set(\"spark.driver.maxResultSize\", \"40g\") .set(\"spark.sql.execution.arrow.enabled\", \"true\") .set('spark.sql.broadcastTimeout', 1000) .set('spark.local.dir', '/data_data/session_length/spark_tmp/') .set('spark.driver.memory', '80G') .set(\"spark.executor.instances\", \"20\") .set(\"spark.executor.cores\", 20) .set(\"spark.executor.memory\", \"12G\")).getOrCreate()\n",
    "spark = SparkSession(sc)\n",
    "spark.sparkContext.setLogLevel(\"ERROR\")\n",
    "    "
   ]
  },
  {
   "cell_type": "markdown",
   "metadata": {},
   "source": [
    "### Check configuration of Spark Environment"
   ]
  },
  {
   "cell_type": "code",
   "execution_count": 40,
   "metadata": {},
   "outputs": [
    {
     "data": {
      "text/plain": [
       "[(u'spark.app.id', u'local-1540267597098'),\n",
       " (u'spark.local.dir', u'/data_data/session_length/spark_tmp/'),\n",
       " (u'spark.sql.execution.arrow.enabled', u'true'),\n",
       " (u'spark.executor.cores', u'20'),\n",
       " (u'spark.driver.memory', u'80G'),\n",
       " (u'spark.executor.id', u'driver'),\n",
       " (u'spark.app.name', u'pyspark-shell'),\n",
       " (u'spark.executor.instances', u'20'),\n",
       " (u'spark.driver.maxResultSize', u'40g'),\n",
       " (u'spark.rdd.compress', u'True'),\n",
       " (u'spark.driver.host', u'ip-172-31-41-62.ec2.internal'),\n",
       " (u'spark.serializer.objectStreamReset', u'100'),\n",
       " (u'spark.master', u'local[*]'),\n",
       " (u'spark.driver.port', u'46641'),\n",
       " (u'spark.submit.deployMode', u'client'),\n",
       " (u'spark.sql.autoBroadcastJoinThreshold', u'-1'),\n",
       " (u'spark.sql.broadcastTimeout', u'1000'),\n",
       " (u'spark.executor.memory', u'12G'),\n",
       " (u'spark.ui.showConsoleProgress', u'true')]"
      ]
     },
     "execution_count": 40,
     "metadata": {},
     "output_type": "execute_result"
    }
   ],
   "source": [
    "sc._conf.getAll()"
   ]
  },
  {
   "cell_type": "code",
   "execution_count": 41,
   "metadata": {},
   "outputs": [],
   "source": [
    "from pyspark.sql.types import StructField, StructType, StringType, LongType, DateType, DoubleType, IntegerType\n",
    "from pyspark.sql.functions import count, mean, stddev_pop, min, max, lit, round, bround, pow, col, corr, lower, upper, avg, stddev, abs, log\n",
    "from pyspark.sql.functions import lit, trim, rtrim, rpad, trim, coalesce\n",
    "from pyspark.sql.functions import current_date, current_timestamp, date_add, date_sub, months_between, to_date\n",
    "from pyspark.sql.functions import udf, col, sum\n",
    "from pyspark.sql.window import Window\n",
    "from pyspark.sql.functions import desc, dense_rank, rank, expr\n",
    "\n",
    "from pyspark.ml import Pipeline\n",
    "from pyspark.ml.feature import RFormula\n",
    "from pyspark.ml.classification import LogisticRegression, GBTClassifier, DecisionTreeClassifier, RandomForestClassifier\n",
    "from pyspark.ml.evaluation import BinaryClassificationEvaluator\n",
    "from pyspark.ml.regression import RandomForestRegressor, GBTRegressor\n",
    "from pyspark.ml.feature import OneHotEncoderEstimator, StringIndexer, VectorAssembler\n",
    "from pyspark.ml.tuning import CrossValidator, ParamGridBuilder\n",
    "\n",
    "from datetime import datetime"
   ]
  },
  {
   "cell_type": "markdown",
   "metadata": {},
   "source": [
    "### Import Data"
   ]
  },
  {
   "cell_type": "markdown",
   "metadata": {},
   "source": [
    "#### Import utility tools"
   ]
  },
  {
   "cell_type": "markdown",
   "metadata": {},
   "source": [
    "#### Import both data sets"
   ]
  },
  {
   "cell_type": "code",
   "execution_count": 42,
   "metadata": {},
   "outputs": [
    {
     "name": "stdout",
     "output_type": "stream",
     "text": [
      "#id\tgender\tage\tcountry\tregistered\r\n",
      "user_000001\tm\t\tJapan\tAug 13, 2006\r\n",
      "user_000002\tf\t\tPeru\tFeb 24, 2006\r\n",
      "user_000003\tm\t22\tUnited States\tOct 30, 2005\r\n",
      "user_000004\tf\t\t\tApr 26, 2006\r\n",
      "user_000005\tm\t\tBulgaria\tJun 29, 2006\r\n",
      "user_000006\t\t24\tRussian Federation\tMay 18, 2006\r\n",
      "user_000007\tf\t\tUnited States\tJan 22, 2006\r\n",
      "user_000008\tm\t23\tSlovakia\tSep 28, 2006\r\n",
      "user_000009\tf\t19\tUnited States\tJan 13, 2007\r\n"
     ]
    }
   ],
   "source": [
    "!head data/lastFM/lastfm-dataset-1K/userid-profile.tsv"
   ]
  },
  {
   "cell_type": "code",
   "execution_count": 43,
   "metadata": {},
   "outputs": [],
   "source": [
    "users_df = None"
   ]
  },
  {
   "cell_type": "code",
   "execution_count": 44,
   "metadata": {},
   "outputs": [],
   "source": [
    "from_pattern = 'MMM dd, yyyy'\n",
    "to_pattern = 'yyyy-MM-dd'\n",
    "\n",
    "def import_user_data():\n",
    "    global users_df\n",
    "    print(\"==================================================================================================================\")\n",
    "    print(\"======================================== IMPORTING USERID-PROFILE.CSV  ======================================\")\n",
    "    print(\"==================================================================================================================\\n\\n\")\n",
    "    userSchema = StructType([\\\n",
    "        StructField('userid',  StringType(), True),\\\n",
    "        StructField('gender',  StringType(), True),\\\n",
    "        StructField('age',     IntegerType(), True),\\\n",
    "        StructField('country', StringType(), True),\\\n",
    "        StructField('registered', StringType(), True)])\n",
    "    users = spark.read.format('csv').schema(userSchema).option(\"sep\",\"\\t\").load('/data_data/session_length/data/lastFM/lastfm-dataset-1K/userid-profile.tsv')\n",
    "    users.show(5,False)\n",
    "    #func = udf(lambda x: datetime.strptime(x, to_pattern), DateType() )\n",
    "    users_df = users.withColumn('reg_date', to_date(col(\"registered\"), from_pattern))\n",
    "    users_df.show(5,False)"
   ]
  },
  {
   "cell_type": "code",
   "execution_count": 45,
   "metadata": {},
   "outputs": [
    {
     "name": "stdout",
     "output_type": "stream",
     "text": [
      "==================================================================================================================\n",
      "======================================== IMPORTING USERID-PROFILE.CSV  ======================================\n",
      "==================================================================================================================\n",
      "\n",
      "\n",
      "+-----------+------+----+-------------+------------+\n",
      "|userid     |gender|age |country      |registered  |\n",
      "+-----------+------+----+-------------+------------+\n",
      "|null       |null  |null|null         |null        |\n",
      "|user_000001|m     |null|Japan        |Aug 13, 2006|\n",
      "|user_000002|f     |null|Peru         |Feb 24, 2006|\n",
      "|user_000003|m     |22  |United States|Oct 30, 2005|\n",
      "|user_000004|f     |null|null         |Apr 26, 2006|\n",
      "+-----------+------+----+-------------+------------+\n",
      "only showing top 5 rows\n",
      "\n",
      "+-----------+------+----+-------------+------------+----------+\n",
      "|userid     |gender|age |country      |registered  |reg_date  |\n",
      "+-----------+------+----+-------------+------------+----------+\n",
      "|null       |null  |null|null         |null        |null      |\n",
      "|user_000001|m     |null|Japan        |Aug 13, 2006|2006-08-13|\n",
      "|user_000002|f     |null|Peru         |Feb 24, 2006|2006-02-24|\n",
      "|user_000003|m     |22  |United States|Oct 30, 2005|2005-10-30|\n",
      "|user_000004|f     |null|null         |Apr 26, 2006|2006-04-26|\n",
      "+-----------+------+----+-------------+------------+----------+\n",
      "only showing top 5 rows\n",
      "\n"
     ]
    }
   ],
   "source": [
    "import_user_data()"
   ]
  },
  {
   "cell_type": "markdown",
   "metadata": {},
   "source": [
    "#### Import music_data"
   ]
  },
  {
   "cell_type": "code",
   "execution_count": 46,
   "metadata": {},
   "outputs": [
    {
     "name": "stdout",
     "output_type": "stream",
     "text": [
      "user_000001\t2009-05-04T23:08:57Z\tf1b1cf71-bd35-4e99-8624-24a6e15f133a\tDeep Dish\t\tFuck Me Im Famous (Pacha Ibiza)-09-28-2007\r\n",
      "user_000001\t2009-05-04T13:54:10Z\ta7f7df4a-77d8-4f12-8acd-5c60c93f4de8\t坂本龍一\t\tComposition 0919 (Live_2009_4_15)\r\n",
      "user_000001\t2009-05-04T13:52:04Z\ta7f7df4a-77d8-4f12-8acd-5c60c93f4de8\t坂本龍一\t\tMc2 (Live_2009_4_15)\r\n",
      "user_000001\t2009-05-04T13:42:52Z\ta7f7df4a-77d8-4f12-8acd-5c60c93f4de8\t坂本龍一\t\tHibari (Live_2009_4_15)\r\n",
      "user_000001\t2009-05-04T13:42:11Z\ta7f7df4a-77d8-4f12-8acd-5c60c93f4de8\t坂本龍一\t\tMc1 (Live_2009_4_15)\r\n",
      "user_000001\t2009-05-04T13:38:31Z\ta7f7df4a-77d8-4f12-8acd-5c60c93f4de8\t坂本龍一\t\tTo Stanford (Live_2009_4_15)\r\n",
      "user_000001\t2009-05-04T13:33:28Z\ta7f7df4a-77d8-4f12-8acd-5c60c93f4de8\t坂本龍一\t\tImprovisation (Live_2009_4_15)\r\n",
      "user_000001\t2009-05-04T13:23:45Z\ta7f7df4a-77d8-4f12-8acd-5c60c93f4de8\t坂本龍一\t\tGlacier (Live_2009_4_15)\r\n",
      "user_000001\t2009-05-04T13:19:22Z\ta7f7df4a-77d8-4f12-8acd-5c60c93f4de8\t坂本龍一\t\tParolibre (Live_2009_4_15)\r\n",
      "user_000001\t2009-05-04T13:13:38Z\ta7f7df4a-77d8-4f12-8acd-5c60c93f4de8\t坂本龍一\t\tBibo No Aozora (Live_2009_4_15)\r\n"
     ]
    }
   ],
   "source": [
    "!head data/lastFM/lastfm-dataset-1K/userid-timestamp-artid-artname-traid-traname.tsv"
   ]
  },
  {
   "cell_type": "code",
   "execution_count": 47,
   "metadata": {},
   "outputs": [],
   "source": [
    "sessions_DF = None\n",
    "sessions_df = None"
   ]
  },
  {
   "cell_type": "code",
   "execution_count": 48,
   "metadata": {},
   "outputs": [],
   "source": [
    "from_pattern = 'yyyy-MM-ddTHH:mm:ssZ'\n",
    "to_pattern = 'yyyy-MM-dd'\n",
    "\n",
    "def import_session_data():\n",
    "    global sessions_DF\n",
    "    global sessions_df\n",
    "    print(\"====================================================================================================================\")\n",
    "    print(\"====================================userid-timestamp-artid-artname-traid-traname.tsv================================\")\n",
    "    print(\"==================================================================================================================\\n\\n\")\n",
    "    userSchema = StructType([\\\n",
    "        StructField('userid',  StringType(), True),\\\n",
    "        StructField('timestamp',  StringType(), True),\\\n",
    "        StructField('artid',     StringType(), True),\\\n",
    "        StructField('artname_', StringType(), True),\\\n",
    "        StructField('traid', StringType(), True),\\\n",
    "        StructField('traname_', StringType(), True)\n",
    "        ])\n",
    "    sessions = spark.read.format('csv').schema(userSchema).option(\"sep\",\"\\t\").load('/data_data/session_length/data/lastFM/lastfm-dataset-1K/userid-timestamp-artid-artname-traid-traname.tsv')\n",
    "    sessions.show(5,False)\n",
    "    #Assign window to time (using hour as window....)\n",
    "    def get_window(x):\n",
    "        return int(str(x).split(\"T\")[1].split(\":\")[0])\n",
    "    getWindow = udf(lambda timestamp:  get_window(timestamp))\n",
    "    sessions_DF = sessions.withColumn('session_date',to_date(col('timestamp'))).withColumn('session_window', getWindow(col('timestamp')))\n",
    "    sessions_DF.show(5,False)\n",
    "    #Translate artname_ to English\n",
    "    def translate_to_english(str_to_translate):\n",
    "        return gs.translate(str_to_translate, 'en')\n",
    "    func = udf(lambda str_to_translate:  translate_to_english(str_to_translate), StringType())\n",
    "    #sessions_df = sessions_DF.withColumn('artname', translate_to_english('artname_'))\n",
    "    #sessions_df[[\"artname_\"]].apply(lambda row: np.mean(row),axis=0)\n",
    "    #sessions_df[\"artname\"] = sessions_DF[\"artname_\"].apply(lambda name: translate_to_english(name),axis=0)\n",
    "    #.withColumn('traname', func(col('traname_')))\n",
    "    sessions_df = sessions_DF.rdd.map(lambda x: (x[\"artname_\"]))\n",
    "    print(sessions_df.take(5))"
   ]
  },
  {
   "cell_type": "code",
   "execution_count": null,
   "metadata": {},
   "outputs": [],
   "source": []
  },
  {
   "cell_type": "code",
   "execution_count": 49,
   "metadata": {},
   "outputs": [
    {
     "name": "stdout",
     "output_type": "stream",
     "text": [
      "====================================================================================================================\n",
      "====================================userid-timestamp-artid-artname-traid-traname.tsv================================\n",
      "==================================================================================================================\n",
      "\n",
      "\n",
      "+-----------+--------------------+------------------------------------+---------+-----+------------------------------------------+\n",
      "|userid     |timestamp           |artid                               |artname_ |traid|traname_                                  |\n",
      "+-----------+--------------------+------------------------------------+---------+-----+------------------------------------------+\n",
      "|user_000001|2009-05-04T23:08:57Z|f1b1cf71-bd35-4e99-8624-24a6e15f133a|Deep Dish|null |Fuck Me Im Famous (Pacha Ibiza)-09-28-2007|\n",
      "|user_000001|2009-05-04T13:54:10Z|a7f7df4a-77d8-4f12-8acd-5c60c93f4de8|坂本龍一     |null |Composition 0919 (Live_2009_4_15)         |\n",
      "|user_000001|2009-05-04T13:52:04Z|a7f7df4a-77d8-4f12-8acd-5c60c93f4de8|坂本龍一     |null |Mc2 (Live_2009_4_15)                      |\n",
      "|user_000001|2009-05-04T13:42:52Z|a7f7df4a-77d8-4f12-8acd-5c60c93f4de8|坂本龍一     |null |Hibari (Live_2009_4_15)                   |\n",
      "|user_000001|2009-05-04T13:42:11Z|a7f7df4a-77d8-4f12-8acd-5c60c93f4de8|坂本龍一     |null |Mc1 (Live_2009_4_15)                      |\n",
      "+-----------+--------------------+------------------------------------+---------+-----+------------------------------------------+\n",
      "only showing top 5 rows\n",
      "\n",
      "+-----------+--------------------+------------------------------------+---------+-----+------------------------------------------+------------+--------------+\n",
      "|userid     |timestamp           |artid                               |artname_ |traid|traname_                                  |session_date|session_window|\n",
      "+-----------+--------------------+------------------------------------+---------+-----+------------------------------------------+------------+--------------+\n",
      "|user_000001|2009-05-04T23:08:57Z|f1b1cf71-bd35-4e99-8624-24a6e15f133a|Deep Dish|null |Fuck Me Im Famous (Pacha Ibiza)-09-28-2007|2009-05-04  |23            |\n",
      "|user_000001|2009-05-04T13:54:10Z|a7f7df4a-77d8-4f12-8acd-5c60c93f4de8|坂本龍一     |null |Composition 0919 (Live_2009_4_15)         |2009-05-04  |13            |\n",
      "|user_000001|2009-05-04T13:52:04Z|a7f7df4a-77d8-4f12-8acd-5c60c93f4de8|坂本龍一     |null |Mc2 (Live_2009_4_15)                      |2009-05-04  |13            |\n",
      "|user_000001|2009-05-04T13:42:52Z|a7f7df4a-77d8-4f12-8acd-5c60c93f4de8|坂本龍一     |null |Hibari (Live_2009_4_15)                   |2009-05-04  |13            |\n",
      "|user_000001|2009-05-04T13:42:11Z|a7f7df4a-77d8-4f12-8acd-5c60c93f4de8|坂本龍一     |null |Mc1 (Live_2009_4_15)                      |2009-05-04  |13            |\n",
      "+-----------+--------------------+------------------------------------+---------+-----+------------------------------------------+------------+--------------+\n",
      "only showing top 5 rows\n",
      "\n",
      "[u'Deep Dish', u'\\u5742\\u672c\\u9f8d\\u4e00', u'\\u5742\\u672c\\u9f8d\\u4e00', u'\\u5742\\u672c\\u9f8d\\u4e00', u'\\u5742\\u672c\\u9f8d\\u4e00']\n"
     ]
    }
   ],
   "source": [
    "import_session_data()"
   ]
  },
  {
   "cell_type": "code",
   "execution_count": 50,
   "metadata": {},
   "outputs": [],
   "source": [
    "#from pyspark.sql.types import Row\n",
    "\n",
    "#row = Row(\"artname_\")\n",
    "#df_sessions = sessions_df.map(row).toDF()\n",
    "#schema = StructType([StructField(\"artname\", StringType(), True)])\n",
    "#df_sessions = sessions_df.toDF([\"artname\"],)\n",
    "#[gs.translate(x,'en') for x in df_sessions]\n",
    "#df_sessions = sessions_df.flatMap(gs.translate)\n",
    "#df_sessions.take(5)"
   ]
  },
  {
   "cell_type": "code",
   "execution_count": 51,
   "metadata": {},
   "outputs": [
    {
     "name": "stdout",
     "output_type": "stream",
     "text": [
      "+-----------+------+----+------------------+------------+----------+\n",
      "|     userid|gender| age|           country|  registered|  reg_date|\n",
      "+-----------+------+----+------------------+------------+----------+\n",
      "|       null|  null|null|              null|        null|      null|\n",
      "|user_000001|     m|null|             Japan|Aug 13, 2006|2006-08-13|\n",
      "|user_000002|     f|null|              Peru|Feb 24, 2006|2006-02-24|\n",
      "|user_000003|     m|  22|     United States|Oct 30, 2005|2005-10-30|\n",
      "|user_000004|     f|null|              null|Apr 26, 2006|2006-04-26|\n",
      "|user_000005|     m|null|          Bulgaria|Jun 29, 2006|2006-06-29|\n",
      "|user_000006|  null|  24|Russian Federation|May 18, 2006|2006-05-18|\n",
      "|user_000007|     f|null|     United States|Jan 22, 2006|2006-01-22|\n",
      "|user_000008|     m|  23|          Slovakia|Sep 28, 2006|2006-09-28|\n",
      "|user_000009|     f|  19|     United States|Jan 13, 2007|2007-01-13|\n",
      "|user_000010|     m|  19|            Poland| May 4, 2006|2006-05-04|\n",
      "|user_000011|     m|  21|           Finland| Sep 8, 2005|2005-09-08|\n",
      "|user_000012|     f|  28|     United States|Mar 30, 2005|2005-03-30|\n",
      "|user_000013|     f|  25|           Romania|Sep 25, 2006|2006-09-25|\n",
      "|user_000014|  null|null|              null|Jan 27, 2006|2006-01-27|\n",
      "|user_000015|  null|  21|     Cote D'Ivoire| Oct 3, 2006|2006-10-03|\n",
      "|user_000016|     m|null|    United Kingdom| Aug 5, 2005|2005-08-05|\n",
      "|user_000017|     m|  22|           Morocco|Aug 27, 2007|2007-08-27|\n",
      "|user_000018|  null|  22|    United Kingdom|Aug 26, 2005|2005-08-26|\n",
      "|user_000019|     f|  29|            Mexico|Nov 10, 2005|2005-11-10|\n",
      "+-----------+------+----+------------------+------------+----------+\n",
      "only showing top 20 rows\n",
      "\n"
     ]
    }
   ],
   "source": [
    "users_df.show()"
   ]
  },
  {
   "cell_type": "markdown",
   "metadata": {},
   "source": [
    "#### Denormalize by joining user and session databases"
   ]
  },
  {
   "cell_type": "code",
   "execution_count": 52,
   "metadata": {},
   "outputs": [
    {
     "name": "stdout",
     "output_type": "stream",
     "text": [
      "+-----------+--------------------+------------------------------------+------------------+------------------------------------+---------------------------+------------+--------------+------+---+-------------+-----------+----------+\n",
      "|userid     |timestamp           |artid                               |artname_          |traid                               |traname_                   |session_date|session_window|gender|age|country      |registered |reg_date  |\n",
      "+-----------+--------------------+------------------------------------+------------------+------------------------------------+---------------------------+------------+--------------+------+---+-------------+-----------+----------+\n",
      "|user_000066|2009-03-27T17:18:26Z|null                                |The Amen Corner   |null                                |Our Love (Is In The Pocket)|2009-03-27  |17            |f     |20 |United States|May 9, 2006|2006-05-09|\n",
      "|user_000066|2009-03-08T04:06:21Z|2ceb4e66-4eaa-4dba-ad3a-30df3b742557|Natalia Lafourcade|a8864539-e4cc-4fc7-93d5-59c3c6f19a64|En El 2000                 |2009-03-08  |4             |f     |20 |United States|May 9, 2006|2006-05-09|\n",
      "|user_000066|2009-03-08T03:57:15Z|b539e453-c4fe-47e3-8a07-8517eac74429|宇多田ヒカル            |7de5cd2c-cb9e-40e0-bdf7-768c757b3a35|Time Will Tell             |2009-03-08  |3             |f     |20 |United States|May 9, 2006|2006-05-09|\n",
      "|user_000066|2009-03-08T03:52:42Z|86443348-fd26-48cf-bd13-7ea7fa27505c|Crystal Kay       |997cf64c-b1cf-4909-9c7d-752b47116141|あなたのそばで                    |2009-03-08  |3             |f     |20 |United States|May 9, 2006|2006-05-09|\n",
      "|user_000066|2009-03-08T03:38:22Z|22a1161f-966c-4c38-aba0-c99cb59806de|Jyongri           |46aacfaf-4e18-4a72-80d1-7d0a14a48e2d|Possession                 |2009-03-08  |3             |f     |20 |United States|May 9, 2006|2006-05-09|\n",
      "|user_000066|2009-03-08T03:34:39Z|a0d2e581-7bb7-4755-ba42-79ee9f3b2244|Leah Dizon        |null                                |Unmeisen (Album Version)   |2009-03-08  |3             |f     |20 |United States|May 9, 2006|2006-05-09|\n",
      "|user_000066|2009-03-08T03:27:50Z|b539e453-c4fe-47e3-8a07-8517eac74429|宇多田ヒカル            |97324396-a586-4ccf-9b24-e64ad3359419|Final Distance             |2009-03-08  |3             |f     |20 |United States|May 9, 2006|2006-05-09|\n",
      "|user_000066|2009-03-07T23:41:12Z|39153756-5ffa-42a1-9b97-0468839021c3|Belanova          |bd386035-36bc-476d-b2e9-6cd9cba6a792|Niño                       |2009-03-07  |23            |f     |20 |United States|May 9, 2006|2006-05-09|\n",
      "|user_000066|2009-03-07T23:37:46Z|04cff564-a2e3-4560-8e7e-bc2539e7b46c|Reik              |9dc118f9-c56e-45cc-8848-2a5005f83391|Que Vida La Mia            |2009-03-07  |23            |f     |20 |United States|May 9, 2006|2006-05-09|\n",
      "|user_000066|2009-03-07T23:34:03Z|04cff564-a2e3-4560-8e7e-bc2539e7b46c|Reik              |17d73d1e-3a9b-4be0-8b7f-4016adc1d003|Me Duele Amarte            |2009-03-07  |23            |f     |20 |United States|May 9, 2006|2006-05-09|\n",
      "|user_000066|2009-03-07T23:16:21Z|04cff564-a2e3-4560-8e7e-bc2539e7b46c|Reik              |9dc118f9-c56e-45cc-8848-2a5005f83391|Que Vida La Mia            |2009-03-07  |23            |f     |20 |United States|May 9, 2006|2006-05-09|\n",
      "|user_000066|2009-03-07T23:08:49Z|04cff564-a2e3-4560-8e7e-bc2539e7b46c|Reik              |8638c1f6-2253-4d5f-90c1-62dde794353a|Amor Primero               |2009-03-07  |23            |f     |20 |United States|May 9, 2006|2006-05-09|\n",
      "|user_000066|2009-03-07T23:04:59Z|04cff564-a2e3-4560-8e7e-bc2539e7b46c|Reik              |9f2adba4-76d4-4bd7-a7a9-1b7579a6e6e0|De Que Sirve               |2009-03-07  |23            |f     |20 |United States|May 9, 2006|2006-05-09|\n",
      "|user_000066|2009-03-07T23:00:52Z|04cff564-a2e3-4560-8e7e-bc2539e7b46c|Reik              |1a3bcd3e-6714-4aab-aeae-22417bf4aa51|Levemente                  |2009-03-07  |23            |f     |20 |United States|May 9, 2006|2006-05-09|\n",
      "|user_000066|2009-03-07T22:57:28Z|04cff564-a2e3-4560-8e7e-bc2539e7b46c|Reik              |67afec75-0a33-434f-b8dd-defe5c082786|Vuelve                     |2009-03-07  |22            |f     |20 |United States|May 9, 2006|2006-05-09|\n",
      "|user_000066|2009-03-07T22:45:56Z|04cff564-a2e3-4560-8e7e-bc2539e7b46c|Reik              |45d962c7-30c8-4b05-b73a-8c401df57ec5|Sabes                      |2009-03-07  |22            |f     |20 |United States|May 9, 2006|2006-05-09|\n",
      "|user_000066|2009-03-07T22:35:43Z|04cff564-a2e3-4560-8e7e-bc2539e7b46c|Reik              |aa0b74b8-f321-483e-b5b7-1ef6cf41fac9|Invierno                   |2009-03-07  |22            |f     |20 |United States|May 9, 2006|2006-05-09|\n",
      "|user_000066|2009-03-07T22:32:36Z|04cff564-a2e3-4560-8e7e-bc2539e7b46c|Reik              |9dc118f9-c56e-45cc-8848-2a5005f83391|Que Vida La Mia            |2009-03-07  |22            |f     |20 |United States|May 9, 2006|2006-05-09|\n",
      "|user_000066|2009-03-07T22:29:17Z|04cff564-a2e3-4560-8e7e-bc2539e7b46c|Reik              |17d73d1e-3a9b-4be0-8b7f-4016adc1d003|Me Duele Amarte            |2009-03-07  |22            |f     |20 |United States|May 9, 2006|2006-05-09|\n",
      "|user_000066|2009-03-07T22:25:19Z|04cff564-a2e3-4560-8e7e-bc2539e7b46c|Reik              |37d07d02-0a75-4e54-b5b8-d495a0e60ede|Noviembre Sin Ti           |2009-03-07  |22            |f     |20 |United States|May 9, 2006|2006-05-09|\n",
      "+-----------+--------------------+------------------------------------+------------------+------------------------------------+---------------------------+------------+--------------+------+---+-------------+-----------+----------+\n",
      "only showing top 20 rows\n",
      "\n"
     ]
    }
   ],
   "source": [
    "users_df = users_df.withColumnRenamed('userid','user_id')\n",
    "u = users_df.alias('u')\n",
    "s = sessions_DF.alias('s')\n",
    "join_condition = [ (u.user_id == s.userid) ]\n",
    "sessionsDF = s.join(u, join_condition, 'inner').drop('user_id')\n",
    "sessionsDF.show(20,False)"
   ]
  },
  {
   "cell_type": "markdown",
   "metadata": {},
   "source": [
    "#### Save as TSV file for Time Series analysis"
   ]
  },
  {
   "cell_type": "markdown",
   "metadata": {},
   "source": [
    "#### Uncomment if you want a fresh copy of the file"
   ]
  },
  {
   "cell_type": "code",
   "execution_count": 53,
   "metadata": {},
   "outputs": [],
   "source": [
    "#!rm -R /data_data/session_length/data/tmp\n",
    "#sessionsDF.coalesce(1).write.option(\"delimiter\", \"\\t\").csv('/data_data/session_length/data/tmp', header=\"True\")\n",
    "#!mv /data_data/session_length/data/tmp/part-* /data_data/session_length/data/Session_data.csv"
   ]
  },
  {
   "cell_type": "code",
   "execution_count": 54,
   "metadata": {},
   "outputs": [
    {
     "name": "stdout",
     "output_type": "stream",
     "text": [
      "userid\ttimestamp\tartid\tartname_\ttraid\ttraname_\tsession_window\tgender\tage\tcountry\tregistered\treg_date\r\n",
      "user_000001\t2009-05-04T23:08:57Z\tf1b1cf71-bd35-4e99-8624-24a6e15f133a\tDeep Dish\t\tFuck Me Im Famous (Pacha Ibiza)-09-28-2007\t23\tm\t\tJapan\tAug 13, 2006\t2006-08-13\r\n",
      "user_000001\t2009-05-04T13:54:10Z\ta7f7df4a-77d8-4f12-8acd-5c60c93f4de8\t坂本龍一\t\tComposition 0919 (Live_2009_4_15)\t13\tm\t\tJapan\tAug 13, 2006\t2006-08-13\r\n",
      "user_000001\t2009-05-04T13:52:04Z\ta7f7df4a-77d8-4f12-8acd-5c60c93f4de8\t坂本龍一\t\tMc2 (Live_2009_4_15)\t13\tm\t\tJapan\tAug 13, 2006\t2006-08-13\r\n",
      "user_000001\t2009-05-04T13:42:52Z\ta7f7df4a-77d8-4f12-8acd-5c60c93f4de8\t坂本龍一\t\tHibari (Live_2009_4_15)\t13\tm\t\tJapan\tAug 13, 2006\t2006-08-13\r\n",
      "user_000001\t2009-05-04T13:42:11Z\ta7f7df4a-77d8-4f12-8acd-5c60c93f4de8\t坂本龍一\t\tMc1 (Live_2009_4_15)\t13\tm\t\tJapan\tAug 13, 2006\t2006-08-13\r\n",
      "user_000001\t2009-05-04T13:38:31Z\ta7f7df4a-77d8-4f12-8acd-5c60c93f4de8\t坂本龍一\t\tTo Stanford (Live_2009_4_15)\t13\tm\t\tJapan\tAug 13, 2006\t2006-08-13\r\n",
      "user_000001\t2009-05-04T13:33:28Z\ta7f7df4a-77d8-4f12-8acd-5c60c93f4de8\t坂本龍一\t\tImprovisation (Live_2009_4_15)\t13\tm\t\tJapan\tAug 13, 2006\t2006-08-13\r\n",
      "user_000001\t2009-05-04T13:23:45Z\ta7f7df4a-77d8-4f12-8acd-5c60c93f4de8\t坂本龍一\t\tGlacier (Live_2009_4_15)\t13\tm\t\tJapan\tAug 13, 2006\t2006-08-13\r\n",
      "user_000001\t2009-05-04T13:19:22Z\ta7f7df4a-77d8-4f12-8acd-5c60c93f4de8\t坂本龍一\t\tParolibre (Live_2009_4_15)\t13\tm\t\tJapan\tAug 13, 2006\t2006-08-13\r\n"
     ]
    }
   ],
   "source": [
    "!head /data_data/session_length/data/Session_data.csv"
   ]
  },
  {
   "cell_type": "markdown",
   "metadata": {},
   "source": [
    "### Get Local time by converting from UTC to Local [WORK IN PROGRESS]"
   ]
  },
  {
   "cell_type": "code",
   "execution_count": 55,
   "metadata": {},
   "outputs": [],
   "source": [
    "from dateutil import tz\n",
    "import pytz"
   ]
  },
  {
   "cell_type": "markdown",
   "metadata": {},
   "source": [
    "### Use countryInfo from here: https://gist.githubusercontent.com/pamelafox/986163/raw/f5f9db4f1b287804fd07ffb3296ed0036292bc7a/countryinfo.py"
   ]
  },
  {
   "cell_type": "code",
   "execution_count": 56,
   "metadata": {},
   "outputs": [],
   "source": [
    "countries_info = [\n",
    "{'timezones': ['Europe/Andorra'], 'code': 'AD', 'continent': 'Europe', 'name': 'Andorra', 'capital': 'Andorra la Vella'},\n",
    "{'timezones': ['Asia/Kabul'], 'code': 'AF', 'continent': 'Asia', 'name': 'Afghanistan', 'capital': 'Kabul'},\n",
    "{'timezones': ['America/Antigua'], 'code': 'AG', 'continent': 'North America', 'name': 'Antigua and Barbuda', 'capital': \"St. John's\"},\n",
    "{'timezones': ['Europe/Tirane'], 'code': 'AL', 'continent': 'Europe', 'name': 'Albania', 'capital': 'Tirana'},\n",
    "{'timezones': ['Asia/Yerevan'], 'code': 'AM', 'continent': 'Asia', 'name': 'Armenia', 'capital': 'Yerevan'},\n",
    "{'timezones': ['Africa/Luanda'], 'code': 'AO', 'continent': 'Africa', 'name': 'Angola', 'capital': 'Luanda'},\n",
    "{'timezones': ['America/Argentina/Buenos_Aires', 'America/Argentina/Cordoba', 'America/Argentina/Jujuy', 'America/Argentina/Tucuman', 'America/Argentina/Catamarca', 'America/Argentina/La_Rioja', 'America/Argentina/San_Juan', 'America/Argentina/Mendoza', 'America/Argentina/Rio_Gallegos', 'America/Argentina/Ushuaia'], 'code': 'AR', 'continent': 'South America', 'name': 'Argentina', 'capital': 'Buenos Aires'},\n",
    "{'timezones': ['Europe/Vienna'], 'code': 'AT', 'continent': 'Europe', 'name': 'Austria', 'capital': 'Vienna'},\n",
    "{'timezones': ['Australia/Lord_Howe', 'Australia/Hobart', 'Australia/Currie', 'Australia/Melbourne', 'Australia/Sydney', 'Australia/Broken_Hill', 'Australia/Brisbane', 'Australia/Lindeman', 'Australia/Adelaide', 'Australia/Darwin', 'Australia/Perth'], 'code': 'AU', 'continent': 'Oceania', 'name': 'Australia', 'capital': 'Canberra'},\n",
    "{'timezones': ['Asia/Baku'], 'code': 'AZ', 'continent': 'Asia', 'name': 'Azerbaijan', 'capital': 'Baku'},\n",
    "{'timezones': ['America/Barbados'], 'code': 'BB', 'continent': 'North America', 'name': 'Barbados', 'capital': 'Bridgetown'},\n",
    "{'timezones': ['Asia/Dhaka'], 'code': 'BD', 'continent': 'Asia', 'name': 'Bangladesh', 'capital': 'Dhaka'},\n",
    "{'timezones': ['Europe/Brussels'], 'code': 'BE', 'continent': 'Europe', 'name': 'Belgium', 'capital': 'Brussels'},\n",
    "{'timezones': ['Africa/Ouagadougou'], 'code': 'BF', 'continent': 'Africa', 'name': 'Burkina Faso', 'capital': 'Ouagadougou'},\n",
    "{'timezones': ['Europe/Sofia'], 'code': 'BG', 'continent': 'Europe', 'name': 'Bulgaria', 'capital': 'Sofia'},\n",
    "{'timezones': ['Asia/Bahrain'], 'code': 'BH', 'continent': 'Asia', 'name': 'Bahrain', 'capital': 'Manama'},\n",
    "{'timezones': ['Africa/Bujumbura'], 'code': 'BI', 'continent': 'Africa', 'name': 'Burundi', 'capital': 'Bujumbura'},\n",
    "{'timezones': ['Africa/Porto-Novo'], 'code': 'BJ', 'continent': 'Africa', 'name': 'Benin', 'capital': 'Porto-Novo'},\n",
    "{'timezones': ['Asia/Brunei'], 'code': 'BN', 'continent': 'Asia', 'name': 'Brunei Darussalam', 'capital': 'Bandar Seri Begawan'},\n",
    "{'timezones': ['America/La_Paz'], 'code': 'BO', 'continent': 'South America', 'name': 'Bolivia', 'capital': 'Sucre'},\n",
    "{'timezones': ['America/Noronha', 'America/Belem', 'America/Fortaleza', 'America/Recife', 'America/Araguaina', 'America/Maceio', 'America/Bahia', 'America/Sao_Paulo', 'America/Campo_Grande', 'America/Cuiaba', 'America/Porto_Velho', 'America/Boa_Vista', 'America/Manaus', 'America/Eirunepe', 'America/Rio_Branco'], 'code': 'BR', 'continent': 'South America', 'name': 'Brazil', 'capital': 'Brasilia'},\n",
    "{'timezones': ['America/Nassau'], 'code': 'BS', 'continent': 'North America', 'name': 'Bahamas', 'capital': 'Nassau'},\n",
    "{'timezones': ['Asia/Thimphu'], 'code': 'BT', 'continent': 'Asia', 'name': 'Bhutan', 'capital': 'Thimphu'},\n",
    "{'timezones': ['Africa/Gaborone'], 'code': 'BW', 'continent': 'Africa', 'name': 'Botswana', 'capital': 'Gaborone'},\n",
    "{'timezones': ['Europe/Minsk'], 'code': 'BY', 'continent': 'Europe', 'name': 'Belarus', 'capital': 'Minsk'},\n",
    "{'timezones': ['America/Belize'], 'code': 'BZ', 'continent': 'North America', 'name': 'Belize', 'capital': 'Belmopan'},\n",
    "{'timezones': ['America/St_Johns', 'America/Halifax', 'America/Glace_Bay', 'America/Moncton', 'America/Goose_Bay', 'America/Blanc-Sablon', 'America/Montreal', 'America/Toronto', 'America/Nipigon', 'America/Thunder_Bay', 'America/Pangnirtung', 'America/Iqaluit', 'America/Atikokan', 'America/Rankin_Inlet', 'America/Winnipeg', 'America/Rainy_River', 'America/Cambridge_Bay', 'America/Regina', 'America/Swift_Current', 'America/Edmonton', 'America/Yellowknife', 'America/Inuvik', 'America/Dawson_Creek', 'America/Vancouver', 'America/Whitehorse', 'America/Dawson'], 'code': 'CA', 'continent': 'North America', 'name': 'Canada', 'capital': 'Ottawa'},\n",
    "{'timezones': ['Africa/Kinshasa', 'Africa/Lubumbashi'], 'code': 'CD', 'continent': 'Africa', 'name': 'Democratic Republic of the Congo', 'capital': 'Kinshasa'},\n",
    "{'timezones': ['Africa/Brazzaville'], 'code': 'CG', 'continent': 'Africa', 'name': 'Republic of the Congo', 'capital': 'Brazzaville'},\n",
    "{'timezones': ['Africa/Abidjan'], 'code': 'CI', 'continent': 'Africa', 'name': \"Cote d'Ivoire\", 'capital': 'Yamoussoukro'},\n",
    "{'timezones': ['America/Santiago', 'Pacific/Easter'], 'code': 'CL', 'continent': 'South America', 'name': 'Chile', 'capital': 'Santiago'},\n",
    "{'timezones': ['Africa/Douala'], 'code': 'CM', 'continent': 'Africa', 'name': 'Cameroon', 'capital': 'Yaounde'},\n",
    "{'timezones': ['Asia/Shanghai', 'Asia/Harbin', 'Asia/Chongqing', 'Asia/Urumqi', 'Asia/Kashgar'], 'code': 'CN', 'continent': 'Asia', 'name': \"People's Republic of China\", 'capital': 'Beijing'},\n",
    "{'timezones': ['America/Bogota'], 'code': 'CO', 'continent': 'South America', 'name': 'Colombia', 'capital': 'Bogota'},\n",
    "{'timezones': ['America/Costa_Rica'], 'code': 'CR', 'continent': 'North America', 'name': 'Costa Rica', 'capital': 'San Jose'},\n",
    "{'timezones': ['America/Havana'], 'code': 'CU', 'continent': 'North America', 'name': 'Cuba', 'capital': 'Havana'},\n",
    "{'timezones': ['Atlantic/Cape_Verde'], 'code': 'CV', 'continent': 'Africa', 'name': 'Cape Verde', 'capital': 'Praia'},\n",
    "{'timezones': ['Asia/Nicosia'], 'code': 'CY', 'continent': 'Asia', 'name': 'Cyprus', 'capital': 'Nicosia'},\n",
    "{'timezones': ['Europe/Prague'], 'code': 'CZ', 'continent': 'Europe', 'name': 'Czech Republic', 'capital': 'Prague'},\n",
    "{'timezones': ['Europe/Berlin'], 'code': 'DE', 'continent': 'Europe', 'name': 'Germany', 'capital': 'Berlin'},\n",
    "{'timezones': ['Africa/Djibouti'], 'code': 'DJ', 'continent': 'Africa', 'name': 'Djibouti', 'capital': 'Djibouti City'},\n",
    "{'timezones': ['Europe/Copenhagen'], 'code': 'DK', 'continent': 'Europe', 'name': 'Denmark', 'capital': 'Copenhagen'},\n",
    "{'timezones': ['America/Dominica'], 'code': 'DM', 'continent': 'North America', 'name': 'Dominica', 'capital': 'Roseau'},\n",
    "{'timezones': ['America/Santo_Domingo'], 'code': 'DO', 'continent': 'North America', 'name': 'Dominican Republic', 'capital': 'Santo Domingo'},\n",
    "{'timezones': ['America/Guayaquil', 'Pacific/Galapagos'], 'code': 'EC', 'continent': 'South America', 'name': 'Ecuador', 'capital': 'Quito'},\n",
    "{'timezones': ['Europe/Tallinn'], 'code': 'EE', 'continent': 'Europe', 'name': 'Estonia', 'capital': 'Tallinn'},\n",
    "{'timezones': ['Africa/Cairo'], 'code': 'EG', 'continent': 'Africa', 'name': 'Egypt', 'capital': 'Cairo'},\n",
    "{'timezones': ['Africa/Asmera'], 'code': 'ER', 'continent': 'Africa', 'name': 'Eritrea', 'capital': 'Asmara'},\n",
    "{'timezones': ['Africa/Addis_Ababa'], 'code': 'ET', 'continent': 'Africa', 'name': 'Ethiopia', 'capital': 'Addis Ababa'},\n",
    "{'timezones': ['Europe/Helsinki'], 'code': 'FI', 'continent': 'Europe', 'name': 'Finland', 'capital': 'Helsinki'},\n",
    "{'timezones': ['Pacific/Fiji'], 'code': 'FJ', 'continent': 'Oceania', 'name': 'Fiji', 'capital': 'Suva'},\n",
    "{'timezones': ['Europe/Paris'], 'code': 'FR', 'continent': 'Europe', 'name': 'France', 'capital': 'Paris'},\n",
    "{'timezones': ['Africa/Libreville'], 'code': 'GA', 'continent': 'Africa', 'name': 'Gabon', 'capital': 'Libreville'},\n",
    "{'timezones': ['Asia/Tbilisi'], 'code': 'GE', 'continent': 'Asia', 'name': 'Georgia', 'capital': 'Tbilisi'},\n",
    "{'timezones': ['Africa/Accra'], 'code': 'GH', 'continent': 'Africa', 'name': 'Ghana', 'capital': 'Accra'},\n",
    "{'timezones': ['Africa/Banjul'], 'code': 'GM', 'continent': 'Africa', 'name': 'The Gambia', 'capital': 'Banjul'},\n",
    "{'timezones': ['Africa/Conakry'], 'code': 'GN', 'continent': 'Africa', 'name': 'Guinea', 'capital': 'Conakry'},\n",
    "{'timezones': ['Europe/Athens'], 'code': 'GR', 'continent': 'Europe', 'name': 'Greece', 'capital': 'Athens'},\n",
    "{'timezones': ['America/Guatemala'], 'code': 'GT', 'continent': 'North America', 'name': 'Guatemala', 'capital': 'Guatemala City'},\n",
    "{'timezones': ['America/Guatemala'], 'code': 'GT', 'continent': 'North America', 'name': 'Haiti', 'capital': 'Port-au-Prince'},\n",
    "{'timezones': ['Africa/Bissau'], 'code': 'GW', 'continent': 'Africa', 'name': 'Guinea-Bissau', 'capital': 'Bissau'},\n",
    "{'timezones': ['America/Guyana'], 'code': 'GY', 'continent': 'South America', 'name': 'Guyana', 'capital': 'Georgetown'},\n",
    "{'timezones': ['America/Tegucigalpa'], 'code': 'HN', 'continent': 'North America', 'name': 'Honduras', 'capital': 'Tegucigalpa'},\n",
    "{'timezones': ['Europe/Budapest'], 'code': 'HU', 'continent': 'Europe', 'name': 'Hungary', 'capital': 'Budapest'},\n",
    "{'timezones': ['Asia/Jakarta', 'Asia/Pontianak', 'Asia/Makassar', 'Asia/Jayapura'], 'code': 'ID', 'continent': 'Asia', 'name': 'Indonesia', 'capital': 'Jakarta'},\n",
    "{'timezones': ['Europe/Dublin'], 'code': 'IE', 'continent': 'Europe', 'name': 'Republic of Ireland', 'capital': 'Dublin'},\n",
    "{'timezones': ['Asia/Jerusalem'], 'code': 'IL', 'continent': 'Asia', 'name': 'Israel', 'capital': 'Jerusalem'},\n",
    "{'timezones': ['Asia/Calcutta'], 'code': 'IN', 'continent': 'Asia', 'name': 'India', 'capital': 'New Delhi'},\n",
    "{'timezones': ['Asia/Baghdad'], 'code': 'IQ', 'continent': 'Asia', 'name': 'Iraq', 'capital': 'Baghdad'},\n",
    "{'timezones': ['Asia/Tehran'], 'code': 'IR', 'continent': 'Asia', 'name': 'Iran', 'capital': 'Tehran'},\n",
    "{'timezones': ['Atlantic/Reykjavik'], 'code': 'IS', 'continent': 'Europe', 'name': 'Iceland', 'capital': 'Reykjavik'},\n",
    "{'timezones': ['Europe/Rome'], 'code': 'IT', 'continent': 'Europe', 'name': 'Italy', 'capital': 'Rome'},\n",
    "{'timezones': ['America/Jamaica'], 'code': 'JM', 'continent': 'North America', 'name': 'Jamaica', 'capital': 'Kingston'},\n",
    "{'timezones': ['Asia/Amman'], 'code': 'JO', 'continent': 'Asia', 'name': 'Jordan', 'capital': 'Amman'},\n",
    "{'timezones': ['Asia/Tokyo'], 'code': 'JP', 'continent': 'Asia', 'name': 'Japan', 'capital': 'Tokyo'},\n",
    "{'timezones': ['Africa/Nairobi'], 'code': 'KE', 'continent': 'Africa', 'name': 'Kenya', 'capital': 'Nairobi'},\n",
    "{'timezones': ['Asia/Bishkek'], 'code': 'KG', 'continent': 'Asia', 'name': 'Kyrgyzstan', 'capital': 'Bishkek'},\n",
    "{'timezones': ['Pacific/Tarawa', 'Pacific/Enderbury', 'Pacific/Kiritimati'], 'code': 'KI', 'continent': 'Oceania', 'name': 'Kiribati', 'capital': 'Tarawa'},\n",
    "{'timezones': ['Asia/Pyongyang'], 'code': 'KP', 'continent': 'Asia', 'name': 'North Korea', 'capital': 'Pyongyang'},\n",
    "{'timezones': ['Asia/Seoul'], 'code': 'KR', 'continent': 'Asia', 'name': 'South Korea', 'capital': 'Seoul'},\n",
    "{'timezones': ['Asia/Kuwait'], 'code': 'KW', 'continent': 'Asia', 'name': 'Kuwait', 'capital': 'Kuwait City'},\n",
    "{'timezones': ['Asia/Beirut'], 'code': 'LB', 'continent': 'Asia', 'name': 'Lebanon', 'capital': 'Beirut'},\n",
    "{'timezones': ['Europe/Vaduz'], 'code': 'LI', 'continent': 'Europe', 'name': 'Liechtenstein', 'capital': 'Vaduz'},\n",
    "{'timezones': ['Africa/Monrovia'], 'code': 'LR', 'continent': 'Africa', 'name': 'Liberia', 'capital': 'Monrovia'},\n",
    "{'timezones': ['Africa/Maseru'], 'code': 'LS', 'continent': 'Africa', 'name': 'Lesotho', 'capital': 'Maseru'},\n",
    "{'timezones': ['Europe/Vilnius'], 'code': 'LT', 'continent': 'Europe', 'name': 'Lithuania', 'capital': 'Vilnius'},\n",
    "{'timezones': ['Europe/Luxembourg'], 'code': 'LU', 'continent': 'Europe', 'name': 'Luxembourg', 'capital': 'Luxembourg City'},\n",
    "{'timezones': ['Europe/Riga'], 'code': 'LV', 'continent': 'Europe', 'name': 'Latvia', 'capital': 'Riga'},\n",
    "{'timezones': ['Africa/Tripoli'], 'code': 'LY', 'continent': 'Africa', 'name': 'Libya', 'capital': 'Tripoli'},\n",
    "{'timezones': ['Indian/Antananarivo'], 'code': 'MG', 'continent': 'Africa', 'name': 'Madagascar', 'capital': 'Antananarivo'},\n",
    "{'timezones': ['Pacific/Majuro', 'Pacific/Kwajalein'], 'code': 'MH', 'continent': 'Oceania', 'name': 'Marshall Islands', 'capital': 'Majuro'},\n",
    "{'timezones': ['Europe/Skopje'], 'code': 'MK', 'continent': 'Europe', 'name': 'Macedonia', 'capital': 'Skopje'},\n",
    "{'timezones': ['Africa/Bamako'], 'code': 'ML', 'continent': 'Africa', 'name': 'Mali', 'capital': 'Bamako'},\n",
    "{'timezones': ['Asia/Rangoon'], 'code': 'MM', 'continent': 'Asia', 'name': 'Myanmar', 'capital': 'Naypyidaw'},\n",
    "{'timezones': ['Asia/Ulaanbaatar', 'Asia/Hovd', 'Asia/Choibalsan'], 'code': 'MN', 'continent': 'Asia', 'name': 'Mongolia', 'capital': 'Ulaanbaatar'},\n",
    "{'timezones': ['Africa/Nouakchott'], 'code': 'MR', 'continent': 'Africa', 'name': 'Mauritania', 'capital': 'Nouakchott'},\n",
    "{'timezones': ['Europe/Malta'], 'code': 'MT', 'continent': 'Europe', 'name': 'Malta', 'capital': 'Valletta'},\n",
    "{'timezones': ['Indian/Mauritius'], 'code': 'MU', 'continent': 'Africa', 'name': 'Mauritius', 'capital': 'Port Louis'},\n",
    "{'timezones': ['Indian/Maldives'], 'code': 'MV', 'continent': 'Asia', 'name': 'Maldives', 'capital': 'Male'},\n",
    "{'timezones': ['Africa/Blantyre'], 'code': 'MW', 'continent': 'Africa', 'name': 'Malawi', 'capital': 'Lilongwe'},\n",
    "{'timezones': ['America/Mexico_City', 'America/Cancun', 'America/Merida', 'America/Monterrey', 'America/Mazatlan', 'America/Chihuahua', 'America/Hermosillo', 'America/Tijuana'], 'code': 'MX', 'continent': 'North America', 'name': 'Mexico', 'capital': 'Mexico City'},\n",
    "{'timezones': ['Asia/Kuala_Lumpur', 'Asia/Kuching'], 'code': 'MY', 'continent': 'Asia', 'name': 'Malaysia', 'capital': 'Kuala Lumpur'},\n",
    "{'timezones': ['Africa/Maputo'], 'code': 'MZ', 'continent': 'Africa', 'name': 'Mozambique', 'capital': 'Maputo'},\n",
    "{'timezones': ['Africa/Windhoek'], 'code': 'NA', 'continent': 'Africa', 'name': 'Namibia', 'capital': 'Windhoek'},\n",
    "{'timezones': ['Africa/Niamey'], 'code': 'NE', 'continent': 'Africa', 'name': 'Niger', 'capital': 'Niamey'},\n",
    "{'timezones': ['Africa/Lagos'], 'code': 'NG', 'continent': 'Africa', 'name': 'Nigeria', 'capital': 'Abuja'},\n",
    "{'timezones': ['America/Managua'], 'code': 'NI', 'continent': 'North America', 'name': 'Nicaragua', 'capital': 'Managua'},\n",
    "{'timezones': ['Europe/Amsterdam'], 'code': 'NL', 'continent': 'Europe', 'name': 'Kingdom of the Netherlands', 'capital': 'Amsterdam'},\n",
    "{'timezones': ['Europe/Oslo'], 'code': 'NO', 'continent': 'Europe', 'name': 'Norway', 'capital': 'Oslo'},\n",
    "{'timezones': ['Asia/Katmandu'], 'code': 'NP', 'continent': 'Asia', 'name': 'Nepal', 'capital': 'Kathmandu'},\n",
    "{'timezones': ['Pacific/Nauru'], 'code': 'NR', 'continent': 'Oceania', 'name': 'Nauru', 'capital': 'Yaren'},\n",
    "{'timezones': ['Pacific/Auckland', 'Pacific/Chatham'], 'code': 'NZ', 'continent': 'Oceania', 'name': 'New Zealand', 'capital': 'Wellington'},\n",
    "{'timezones': ['Asia/Muscat'], 'code': 'OM', 'continent': 'Asia', 'name': 'Oman', 'capital': 'Muscat'},\n",
    "{'timezones': ['America/Panama'], 'code': 'PA', 'continent': 'North America', 'name': 'Panama', 'capital': 'Panama City'},\n",
    "{'timezones': ['America/Lima'], 'code': 'PE', 'continent': 'South America', 'name': 'Peru', 'capital': 'Lima'},\n",
    "{'timezones': ['Pacific/Port_Moresby'], 'code': 'PG', 'continent': 'Oceania', 'name': 'Papua New Guinea', 'capital': 'Port Moresby'},\n",
    "{'timezones': ['Asia/Manila'], 'code': 'PH', 'continent': 'Asia', 'name': 'Philippines', 'capital': 'Manila'},\n",
    "{'timezones': ['Asia/Karachi'], 'code': 'PK', 'continent': 'Asia', 'name': 'Pakistan', 'capital': 'Islamabad'},\n",
    "{'timezones': ['Europe/Warsaw'], 'code': 'PL', 'continent': 'Europe', 'name': 'Poland', 'capital': 'Warsaw'},\n",
    "{'timezones': ['Europe/Lisbon', 'Atlantic/Madeira', 'Atlantic/Azores'], 'code': 'PT', 'continent': 'Europe', 'name': 'Portugal', 'capital': 'Lisbon'},\n",
    "{'timezones': ['Pacific/Palau'], 'code': 'PW', 'continent': 'Oceania', 'name': 'Palau', 'capital': 'Ngerulmud'},\n",
    "{'timezones': ['America/Asuncion'], 'code': 'PY', 'continent': 'South America', 'name': 'Paraguay', 'capital': 'Asuncicion'},\n",
    "{'timezones': ['Asia/Qatar'], 'code': 'QA', 'continent': 'Asia', 'name': 'Qatar', 'capital': 'Doha'},\n",
    "{'timezones': ['Europe/Bucharest'], 'code': 'RO', 'continent': 'Europe', 'name': 'Romania', 'capital': 'Bucharest'},\n",
    "{'timezones': ['Europe/Kaliningrad', 'Europe/Moscow', 'Europe/Volgograd', 'Europe/Samara', 'Asia/Yekaterinburg', 'Asia/Omsk', 'Asia/Novosibirsk', 'Asia/Krasnoyarsk', 'Asia/Irkutsk', 'Asia/Yakutsk', 'Asia/Vladivostok', 'Asia/Sakhalin', 'Asia/Magadan', 'Asia/Kamchatka', 'Asia/Anadyr'], 'code': 'RU', 'continent': 'Europe', 'name': 'Russia', 'capital': 'Moscow'},\n",
    "{'timezones': ['Africa/Kigali'], 'code': 'RW', 'continent': 'Africa', 'name': 'Rwanda', 'capital': 'Kigali'},\n",
    "{'timezones': ['Asia/Riyadh'], 'code': 'SA', 'continent': 'Asia', 'name': 'Saudi Arabia', 'capital': 'Riyadh'},\n",
    "{'timezones': ['Pacific/Guadalcanal'], 'code': 'SB', 'continent': 'Oceania', 'name': 'Solomon Islands', 'capital': 'Honiara'},\n",
    "{'timezones': ['Indian/Mahe'], 'code': 'SC', 'continent': 'Africa', 'name': 'Seychelles', 'capital': 'Victoria'},\n",
    "{'timezones': ['Africa/Khartoum'], 'code': 'SD', 'continent': 'Africa', 'name': 'Sudan', 'capital': 'Khartoum'},\n",
    "{'timezones': ['Europe/Stockholm'], 'code': 'SE', 'continent': 'Europe', 'name': 'Sweden', 'capital': 'Stockholm'},\n",
    "{'timezones': ['Asia/Singapore'], 'code': 'SG', 'continent': 'Asia', 'name': 'Singapore', 'capital': 'Singapore'},\n",
    "{'timezones': ['Europe/Ljubljana'], 'code': 'SI', 'continent': 'Europe', 'name': 'Slovenia', 'capital': 'Ljubljana'},\n",
    "{'timezones': ['Europe/Bratislava'], 'code': 'SK', 'continent': 'Europe', 'name': 'Slovakia', 'capital': 'Bratislava'},\n",
    "{'timezones': ['Africa/Freetown'], 'code': 'SL', 'continent': 'Africa', 'name': 'Sierra Leone', 'capital': 'Freetown'},\n",
    "{'timezones': ['Europe/San_Marino'], 'code': 'SM', 'continent': 'Europe', 'name': 'San Marino', 'capital': 'San Marino'},\n",
    "{'timezones': ['Africa/Dakar'], 'code': 'SN', 'continent': 'Africa', 'name': 'Senegal', 'capital': 'Dakar'},\n",
    "{'timezones': ['Africa/Mogadishu'], 'code': 'SO', 'continent': 'Africa', 'name': 'Somalia', 'capital': 'Mogadishu'},\n",
    "{'timezones': ['America/Paramaribo'], 'code': 'SR', 'continent': 'South America', 'name': 'Suriname', 'capital': 'Paramaribo'},\n",
    "{'timezones': ['Africa/Sao_Tome'], 'code': 'ST', 'continent': 'Africa', 'name': 'Sao Tome and Principe', 'capital': 'Sao Tome'},\n",
    "{'timezones': ['Asia/Damascus'], 'code': 'SY', 'continent': 'Asia', 'name': 'Syria', 'capital': 'Damascus'},\n",
    "{'timezones': ['Africa/Lome'], 'code': 'TG', 'continent': 'Africa', 'name': 'Togo', 'capital': 'Lome'},\n",
    "{'timezones': ['Asia/Bangkok'], 'code': 'TH', 'continent': 'Asia', 'name': 'Thailand', 'capital': 'Bangkok'},\n",
    "{'timezones': ['Asia/Dushanbe'], 'code': 'TJ', 'continent': 'Asia', 'name': 'Tajikistan', 'capital': 'Dushanbe'},\n",
    "{'timezones': ['Asia/Ashgabat'], 'code': 'TM', 'continent': 'Asia', 'name': 'Turkmenistan', 'capital': 'Ashgabat'},\n",
    "{'timezones': ['Africa/Tunis'], 'code': 'TN', 'continent': 'Africa', 'name': 'Tunisia', 'capital': 'Tunis'},\n",
    "{'timezones': ['Pacific/Tongatapu'], 'code': 'TO', 'continent': 'Oceania', 'name': 'Tonga', 'capital': 'Nukualofa'},\n",
    "{'timezones': ['Europe/Istanbul'], 'code': 'TR', 'continent': 'Asia', 'name': 'Turkey', 'capital': 'Ankara'},\n",
    "{'timezones': ['America/Port_of_Spain'], 'code': 'TT', 'continent': 'North America', 'name': 'Trinidad and Tobago', 'capital': 'Port of Spain'},\n",
    "{'timezones': ['Pacific/Funafuti'], 'code': 'TV', 'continent': 'Oceania', 'name': 'Tuvalu', 'capital': 'Funafuti'},\n",
    "{'timezones': ['Africa/Dar_es_Salaam'], 'code': 'TZ', 'continent': 'Africa', 'name': 'Tanzania', 'capital': 'Dodoma'},\n",
    "{'timezones': ['Europe/Kiev', 'Europe/Uzhgorod', 'Europe/Zaporozhye', 'Europe/Simferopol'], 'code': 'UA', 'continent': 'Europe', 'name': 'Ukraine', 'capital': 'Kiev'},\n",
    "{'timezones': ['Africa/Kampala'], 'code': 'UG', 'continent': 'Africa', 'name': 'Uganda', 'capital': 'Kampala'},\n",
    "{'timezones': ['America/New_York', 'America/Detroit', 'America/Kentucky/Louisville', 'America/Kentucky/Monticello', 'America/Indiana/Indianapolis', 'America/Indiana/Marengo', 'America/Indiana/Knox', 'America/Indiana/Vevay', 'America/Chicago', 'America/Indiana/Vincennes', 'America/Indiana/Petersburg', 'America/Menominee', 'America/North_Dakota/Center', 'America/North_Dakota/New_Salem', 'America/Denver', 'America/Boise', 'America/Shiprock', 'America/Phoenix', 'America/Los_Angeles', 'America/Anchorage', 'America/Juneau', 'America/Yakutat', 'America/Nome', 'America/Adak', 'Pacific/Honolulu'], 'code': 'US', 'continent': 'North America', 'name': 'United States', 'capital': 'Washington, D.C.'},\n",
    "{'timezones': ['America/Montevideo'], 'code': 'UY', 'continent': 'South America', 'name': 'Uruguay', 'capital': 'Montevideo'},\n",
    "{'timezones': ['Asia/Samarkand', 'Asia/Tashkent'], 'code': 'UZ', 'continent': 'Asia', 'name': 'Uzbekistan', 'capital': 'Tashkent'},\n",
    "{'timezones': ['Europe/Vatican'], 'code': 'VA', 'continent': 'Europe', 'name': 'Vatican City', 'capital': 'Vatican City'},\n",
    "{'timezones': ['America/Caracas'], 'code': 'VE', 'continent': 'South America', 'name': 'Venezuela', 'capital': 'Caracas'},\n",
    "{'timezones': ['Asia/Saigon'], 'code': 'VN', 'continent': 'Asia', 'name': 'Vietnam', 'capital': 'Hanoi'},\n",
    "{'timezones': ['Pacific/Efate'], 'code': 'VU', 'continent': 'Oceania', 'name': 'Vanuatu', 'capital': 'Port Vila'},\n",
    "{'timezones': ['Asia/Aden'], 'code': 'YE', 'continent': 'Asia', 'name': 'Yemen', 'capital': \"Sana'a\"},\n",
    "{'timezones': ['Africa/Lusaka'], 'code': 'ZM', 'continent': 'Africa', 'name': 'Zambia', 'capital': 'Lusaka'},\n",
    "{'timezones': ['Africa/Harare'], 'code': 'ZW', 'continent': 'Africa', 'name': 'Zimbabwe', 'capital': 'Harare'},\n",
    "{'timezones': ['Africa/Algiers'], 'code': 'DZ', 'continent': 'Africa', 'name': 'Algeria', 'capital': 'Algiers'},\n",
    "{'timezones': ['Europe/Sarajevo'], 'code': 'BA', 'continent': 'Europe', 'name': 'Bosnia and Herzegovina', 'capital': 'Sarajevo'},\n",
    "{'timezones': ['Asia/Phnom_Penh'], 'code': 'KH', 'continent': 'Asia', 'name': 'Cambodia', 'capital': 'Phnom Penh'},\n",
    "{'timezones': ['Africa/Bangui'], 'code': 'CF', 'continent': 'Africa', 'name': 'Central African Republic', 'capital': 'Bangui'},\n",
    "{'timezones': ['Africa/Ndjamena'], 'code': 'TD', 'continent': 'Africa', 'name': 'Chad', 'capital': \"N'Djamena\"},\n",
    "{'timezones': ['Indian/Comoro'], 'code': 'KM', 'continent': 'Africa', 'name': 'Comoros', 'capital': 'Moroni'},\n",
    "{'timezones': ['Europe/Zagreb'], 'code': 'HR', 'continent': 'Europe', 'name': 'Croatia', 'capital': 'Zagreb'},\n",
    "{'timezones': ['Asia/Dili'], 'code': 'TL', 'continent': 'Asia', 'name': 'East Timor', 'capital': 'Dili'},\n",
    "{'timezones': ['America/El_Salvador'], 'code': 'SV', 'continent': 'North America', 'name': 'El Salvador', 'capital': 'San Salvador'},\n",
    "{'timezones': ['Africa/Malabo'], 'code': 'GQ', 'continent': 'Africa', 'name': 'Equatorial Guinea', 'capital': 'Malabo'},\n",
    "{'timezones': ['America/Grenada'], 'code': 'GD', 'continent': 'North America', 'name': 'Grenada', 'capital': \"St. George's\"},\n",
    "{'timezones': ['Asia/Almaty', 'Asia/Qyzylorda', 'Asia/Aqtobe', 'Asia/Aqtau', 'Asia/Oral'], 'code': 'KZ', 'continent': 'Asia', 'name': 'Kazakhstan', 'capital': 'Astana'},\n",
    "{'timezones': ['Asia/Vientiane'], 'code': 'LA', 'continent': 'Asia', 'name': 'Laos', 'capital': 'Vientiane'},\n",
    "{'timezones': ['Pacific/Truk', 'Pacific/Ponape', 'Pacific/Kosrae'], 'code': 'FM', 'continent': 'Oceania', 'name': 'Federated States of Micronesia', 'capital': 'Palikir'},\n",
    "{'timezones': ['Europe/Chisinau'], 'code': 'MD', 'continent': 'Europe', 'name': 'Moldova', 'capital': 'Chisinau'},\n",
    "{'timezones': ['Europe/Monaco'], 'code': 'MC', 'continent': 'Europe', 'name': 'Monaco', 'capital': 'Monaco'},\n",
    "{'timezones': ['Europe/Podgorica'], 'code': 'ME', 'continent': 'Europe', 'name': 'Montenegro', 'capital': 'Podgorica'},\n",
    "{'timezones': ['Africa/Casablanca'], 'code': 'MA', 'continent': 'Africa', 'name': 'Morocco', 'capital': 'Rabat'},\n",
    "{'timezones': ['America/St_Kitts'], 'code': 'KN', 'continent': 'North America', 'name': 'Saint Kitts and Nevis', 'capital': 'Basseterre'},\n",
    "{'timezones': ['America/St_Lucia'], 'code': 'LC', 'continent': 'North America', 'name': 'Saint Lucia', 'capital': 'Castries'},\n",
    "{'timezones': ['America/St_Vincent'], 'code': 'VC', 'continent': 'North America', 'name': 'Saint Vincent and the Grenadines', 'capital': 'Kingstown'},\n",
    "{'timezones': ['Pacific/Apia'], 'code': 'WS', 'continent': 'Oceania', 'name': 'Samoa', 'capital': 'Apia'},\n",
    "{'timezones': ['Europe/Belgrade'], 'code': 'RS', 'continent': 'Europe', 'name': 'Serbia', 'capital': 'Belgrade'},\n",
    "{'timezones': ['Africa/Johannesburg'], 'code': 'ZA', 'continent': 'Africa', 'name': 'South Africa', 'capital': 'Pretoria'},\n",
    "{'timezones': ['Europe/Madrid', 'Africa/Ceuta', 'Atlantic/Canary'], 'code': 'ES', 'continent': 'Europe', 'name': 'Spain', 'capital': 'Madrid'},\n",
    "{'timezones': ['Asia/Colombo'], 'code': 'LK', 'continent': 'Asia', 'name': 'Sri Lanka', 'capital': 'Sri Jayewardenepura Kotte'},\n",
    "{'timezones': ['Africa/Mbabane'], 'code': 'SZ', 'continent': 'Africa', 'name': 'Swaziland', 'capital': 'Mbabane'},\n",
    "{'timezones': ['Europe/Zurich'], 'code': 'CH', 'continent': 'Europe', 'name': 'Switzerland', 'capital': 'Bern'},\n",
    "{'timezones': ['Asia/Dubai'], 'code': 'AE', 'continent': 'Asia', 'name': 'United Arab Emirates', 'capital': 'Abu Dhabi'},\n",
    "{'timezones': ['Europe/London'], 'code': 'GB', 'continent': 'Europe', 'name': 'United Kingdom', 'capital': 'London'},\n",
    "]"
   ]
  },
  {
   "cell_type": "code",
   "execution_count": 57,
   "metadata": {},
   "outputs": [
    {
     "data": {
      "text/plain": [
       "[None,\n",
       " None,\n",
       " None,\n",
       " None,\n",
       " None,\n",
       " None,\n",
       " None,\n",
       " None,\n",
       " None,\n",
       " None,\n",
       " None,\n",
       " None,\n",
       " None,\n",
       " None,\n",
       " None,\n",
       " None,\n",
       " None,\n",
       " None,\n",
       " None,\n",
       " None,\n",
       " None,\n",
       " None,\n",
       " None,\n",
       " None,\n",
       " None,\n",
       " None,\n",
       " None,\n",
       " None,\n",
       " None,\n",
       " None,\n",
       " None,\n",
       " None,\n",
       " None,\n",
       " None,\n",
       " None,\n",
       " None,\n",
       " None,\n",
       " None,\n",
       " None,\n",
       " None,\n",
       " None,\n",
       " None,\n",
       " None,\n",
       " None,\n",
       " None,\n",
       " None,\n",
       " None,\n",
       " None,\n",
       " None,\n",
       " None,\n",
       " None,\n",
       " None,\n",
       " None,\n",
       " None,\n",
       " None,\n",
       " None,\n",
       " None,\n",
       " None,\n",
       " None,\n",
       " None,\n",
       " None,\n",
       " None,\n",
       " None,\n",
       " None,\n",
       " None,\n",
       " None,\n",
       " None,\n",
       " None,\n",
       " None,\n",
       " None,\n",
       " None,\n",
       " None,\n",
       " None,\n",
       " None,\n",
       " None,\n",
       " None,\n",
       " None,\n",
       " None,\n",
       " None,\n",
       " None,\n",
       " None,\n",
       " None,\n",
       " None,\n",
       " None,\n",
       " None,\n",
       " None,\n",
       " None,\n",
       " None,\n",
       " None,\n",
       " None,\n",
       " None,\n",
       " None,\n",
       " None,\n",
       " None,\n",
       " None,\n",
       " None,\n",
       " None,\n",
       " None,\n",
       " None,\n",
       " None,\n",
       " None,\n",
       " None,\n",
       " None,\n",
       " None,\n",
       " None,\n",
       " None,\n",
       " None,\n",
       " None,\n",
       " None,\n",
       " None,\n",
       " None,\n",
       " None,\n",
       " None,\n",
       " None,\n",
       " None,\n",
       " None,\n",
       " None,\n",
       " None,\n",
       " None,\n",
       " None,\n",
       " None,\n",
       " None,\n",
       " None,\n",
       " None,\n",
       " None,\n",
       " None,\n",
       " None,\n",
       " None,\n",
       " None,\n",
       " None,\n",
       " None,\n",
       " None,\n",
       " None,\n",
       " None,\n",
       " None,\n",
       " None,\n",
       " None,\n",
       " None,\n",
       " None,\n",
       " None,\n",
       " None,\n",
       " None,\n",
       " None,\n",
       " None,\n",
       " None,\n",
       " None,\n",
       " None,\n",
       " None,\n",
       " None,\n",
       " None,\n",
       " None,\n",
       " None,\n",
       " None,\n",
       " None,\n",
       " None,\n",
       " None,\n",
       " None,\n",
       " None,\n",
       " None,\n",
       " None,\n",
       " None,\n",
       " None,\n",
       " None,\n",
       " None,\n",
       " None,\n",
       " None,\n",
       " None,\n",
       " None,\n",
       " None,\n",
       " None,\n",
       " None,\n",
       " None,\n",
       " None,\n",
       " None,\n",
       " None,\n",
       " None,\n",
       " None,\n",
       " None,\n",
       " None,\n",
       " None,\n",
       " None,\n",
       " None,\n",
       " None,\n",
       " None,\n",
       " None,\n",
       " None,\n",
       " None,\n",
       " None,\n",
       " None,\n",
       " None,\n",
       " None,\n",
       " None,\n",
       " None]"
      ]
     },
     "execution_count": 57,
     "metadata": {},
     "output_type": "execute_result"
    }
   ],
   "source": [
    "country_capital_city_tz = dict()\n",
    "[country_capital_city_tz.update({name['name']:name['continent'].split()[-1]+\"/\"+\"_\".join(name['capital'].split(\" \")).replace(\",\",\"\")}) for name in countries_info]"
   ]
  },
  {
   "cell_type": "code",
   "execution_count": 63,
   "metadata": {},
   "outputs": [
    {
     "data": {
      "text/plain": [
       "'Asia/Ankara'"
      ]
     },
     "execution_count": 63,
     "metadata": {},
     "output_type": "execute_result"
    }
   ],
   "source": [
    "country_capital_city_tz['Turkey']"
   ]
  },
  {
   "cell_type": "code",
   "execution_count": 64,
   "metadata": {},
   "outputs": [
    {
     "data": {
      "text/plain": [
       "'Africa/Lilongwe'"
      ]
     },
     "execution_count": 64,
     "metadata": {},
     "output_type": "execute_result"
    }
   ],
   "source": [
    "country_capital_city_tz['Malawi']"
   ]
  },
  {
   "cell_type": "code",
   "execution_count": 65,
   "metadata": {},
   "outputs": [
    {
     "data": {
      "text/plain": [
       "'America/Washington_D.C.'"
      ]
     },
     "execution_count": 65,
     "metadata": {},
     "output_type": "execute_result"
    }
   ],
   "source": [
    "country_capital_city_tz['United States']"
   ]
  },
  {
   "cell_type": "code",
   "execution_count": 66,
   "metadata": {},
   "outputs": [],
   "source": [
    "tz_exceptions = {'Albania': 'Europe/Skopje',\n",
    " 'Andorra': 'Europe/Madrid',\n",
    " 'Antigua and Barbuda': 'America/Antigua',\n",
    " 'Australia': 'Australia/Sydney',\n",
    " 'Bahrain': 'Asia/Bahrain',\n",
    " 'Barbados': 'America/Barbados',\n",
    " 'Belize': 'America/Belize',\n",
    " 'Bolivia': 'America/La_Paz',\n",
    " 'Brazil': 'America/Sao_Paulo',\n",
    " 'Brunei Darussalam': 'Asia/Brunei',\n",
    " \"C\\\\u00f4te d'Ivoire\": 'Africa/Abidjan',\n",
    " 'Cameroon': 'Africa/Lagos',\n",
    " 'Canada': 'Canada/Eastern',\n",
    " 'Cape Verde': 'Atlantic/Cape_Verde',\n",
    " 'Chad': 'Africa/Ndjamena',\n",
    " 'Comoros': 'Indian/Comoro',\n",
    " 'Costa Rica': 'America/Costa_Rica',\n",
    " 'Djibouti': 'Africa/Djibouti',\n",
    " 'Dominica': 'America/Dominica',\n",
    " 'Ecuador': 'America/Guatemala',\n",
    " 'El Salvador': 'America/Guatemala',\n",
    " 'Federated States of Micronesia': 'US/Hawaii',\n",
    " 'Fiji': 'Pacific/Fiji',\n",
    " 'Grenada': 'America/Grenada',\n",
    " 'Guatemala': 'America/Guatemala',\n",
    " 'Guyana': 'America/Guyana',\n",
    " 'Iceland': 'Iceland',\n",
    " 'India': 'Asia/Calcutta',\n",
    " 'Jamaica': 'America/St_Thomas',\n",
    " 'Kazakhstan': 'Asia/Tashkent',\n",
    " 'Kiribati': 'Pacific/Kiritimati',\n",
    " 'Kuwait': 'Asia/Kuwait',\n",
    " 'Luxembourg': 'Europe/Luxembourg',\n",
    " 'Madagascar': 'Indian/Antananarivo',\n",
    " 'Malawi': 'Africa/Lusaka',\n",
    " 'Maldives': 'Indian/Maldives',\n",
    " 'Malta': 'Europe/Malta',\n",
    " 'Marshall Islands': '',\n",
    " 'Mauritius': 'Indian/Mauritius',\n",
    " 'Morocco': 'Africa/Lagos',\n",
    " 'Myanmar': 'Asia/Rangoon',\n",
    " 'Nauru': 'Pacific/Nauru',\n",
    " 'New Zealand': 'Pacific/Auckland',\n",
    " 'Nigeria': 'Africa/Lagos',\n",
    " 'Pakistan': 'Asia/Karachi',\n",
    " 'Palau': 'Pacific/Palau',\n",
    " 'Panama': 'America/Panama',\n",
    " 'Papua New Guinea': 'Pacific/Port_Moresby',\n",
    " 'Paraguay': 'America/Asuncion',\n",
    " \"People's Republic of China\": 'Asia/Shanghai',\n",
    " 'Qatar': 'Asia/Qatar',\n",
    " 'Saint Kitts and Nevis': 'America/St_Kitts',\n",
    " 'Saint Lucia': 'America/St_Lucia',\n",
    " 'Saint Vincent and the Grenadines': 'America/St_Vincent',\n",
    " 'Samoa': 'Pacific/Samoa',\n",
    " 'Seychelles': 'Indian/Mauritius',\n",
    " 'Solomon Islands': 'Pacific/Midway',\n",
    " 'South Africa': 'Africa/Johannesburg',\n",
    " 'Sri Lanka': 'Asia/Calcutta',\n",
    " 'Switzerland': 'Europe/Zurich',\n",
    " 'Tanzania': 'Africa/Dar_es_Salaam',\n",
    " 'Tonga': 'Pacific/Tongatapu',\n",
    " 'Turkey': 'Asia/Istanbul',\n",
    " 'Tuvalu': 'Pacific/Funafuti',\n",
    " 'United Arab Emirates': 'Asia/Dubai',\n",
    " 'United States': 'US/Central',\n",
    " 'Vanuatu': 'Pacific/Honolulu',\n",
    " 'Vatican City': 'Europe/Vatican',\n",
    " 'Vietnam': 'Asia/Phnom_Penh',\n",
    " 'Yemen': 'Asia/Aden'}"
   ]
  },
  {
   "cell_type": "code",
   "execution_count": 67,
   "metadata": {},
   "outputs": [],
   "source": [
    "for country in tz_exceptions.keys():\n",
    "    country_capital_city_tz[country] = tz_exceptions[country]"
   ]
  },
  {
   "cell_type": "code",
   "execution_count": 68,
   "metadata": {},
   "outputs": [
    {
     "data": {
      "text/plain": [
       "'Asia/Istanbul'"
      ]
     },
     "execution_count": 68,
     "metadata": {},
     "output_type": "execute_result"
    }
   ],
   "source": [
    "country_capital_city_tz['Turkey']"
   ]
  },
  {
   "cell_type": "code",
   "execution_count": 69,
   "metadata": {},
   "outputs": [
    {
     "data": {
      "text/plain": [
       "'Africa/Lusaka'"
      ]
     },
     "execution_count": 69,
     "metadata": {},
     "output_type": "execute_result"
    }
   ],
   "source": [
    "country_capital_city_tz['Malawi']"
   ]
  },
  {
   "cell_type": "code",
   "execution_count": 70,
   "metadata": {},
   "outputs": [],
   "source": [
    "import json\n",
    "with open('country_capital_city_tz.json', 'w') as file:\n",
    "     file.write(json.dumps(country_capital_city_tz))"
   ]
  },
  {
   "cell_type": "code",
   "execution_count": null,
   "metadata": {},
   "outputs": [],
   "source": []
  },
  {
   "cell_type": "code",
   "execution_count": 71,
   "metadata": {},
   "outputs": [
    {
     "name": "stdout",
     "output_type": "stream",
     "text": [
      "{\"Canada\": \"Canada/Eastern\", \"East Timor\": \"Asia/Dili\", \"Sao Tome and Principe\": \"Africa/Sao_Tome\", \"Turkmenistan\": \"Asia/Ashgabat\", \"Lithuania\": \"Europe/Vilnius\", \"Cambodia\": \"Asia/Phnom_Penh\", \"Saint Kitts and Nevis\": \"America/St_Kitts\", \"Ethiopia\": \"Africa/Addis_Ababa\", \"The Gambia\": \"Africa/Banjul\", \"Sri Lanka\": \"Asia/Calcutta\", \"Swaziland\": \"Africa/Mbabane\", \"Argentina\": \"America/Buenos_Aires\", \"Bolivia\": \"America/La_Paz\", \"Cameroon\": \"Africa/Lagos\", \"Burkina Faso\": \"Africa/Ouagadougou\", \"Ghana\": \"Africa/Accra\", \"Saudi Arabia\": \"Asia/Riyadh\", \"Laos\": \"Asia/Vientiane\", \"Japan\": \"Asia/Tokyo\", \"Republic of Ireland\": \"Europe/Dublin\", \"Slovenia\": \"Europe/Ljubljana\", \"Guatemala\": \"America/Guatemala\", \"Bosnia and Herzegovina\": \"Europe/Sarajevo\", \"Kuwait\": \"Asia/Kuwait\", \"Germany\": \"Europe/Berlin\", \"Dominica\": \"America/Dominica\", \"Liberia\": \"Africa/Monrovia\", \"Maldives\": \"Indian/Maldives\", \"Pakistan\": \"Asia/Karachi\", \"Oman\": \"Asia/Muscat\", \"Tanzania\": \"Africa/Dar_es_Salaam\", \"Seychelles\": \"Indian/Mauritius\", \"Gabon\": \"Africa/Libreville\", \"Monaco\": \"Europe/Monaco\", \"New Zealand\": \"Pacific/Auckland\", \"Yemen\": \"Asia/Aden\", \"Andorra\": \"Europe/Madrid\", \"Albania\": \"Europe/Skopje\", \"Samoa\": \"Pacific/Samoa\", \"United Arab Emirates\": \"Asia/Dubai\", \"India\": \"Asia/Calcutta\", \"Azerbaijan\": \"Asia/Baku\", \"Lesotho\": \"Africa/Maseru\", \"Saint Vincent and the Grenadines\": \"America/St_Vincent\", \"Kenya\": \"Africa/Nairobi\", \"South Korea\": \"Asia/Seoul\", \"Tajikistan\": \"Asia/Dushanbe\", \"Turkey\": \"Asia/Istanbul\", \"Afghanistan\": \"Asia/Kabul\", \"Czech Republic\": \"Europe/Prague\", \"Eritrea\": \"Africa/Asmara\", \"Solomon Islands\": \"Pacific/Midway\", \"Saint Lucia\": \"America/St_Lucia\", \"San Marino\": \"Europe/San_Marino\", \"Cyprus\": \"Asia/Nicosia\", \"Mongolia\": \"Asia/Ulaanbaatar\", \"France\": \"Europe/Paris\", \"Rwanda\": \"Africa/Kigali\", \"Slovakia\": \"Europe/Bratislava\", \"Somalia\": \"Africa/Mogadishu\", \"Peru\": \"America/Lima\", \"Vanuatu\": \"Pacific/Honolulu\", \"Nauru\": \"Pacific/Nauru\", \"Norway\": \"Europe/Oslo\", \"Cote d'Ivoire\": \"Africa/Yamoussoukro\", \"Benin\": \"Africa/Porto-Novo\", \"Federated States of Micronesia\": \"US/Hawaii\", \"Cuba\": \"America/Havana\", \"Montenegro\": \"Europe/Podgorica\", \"Republic of the Congo\": \"Africa/Brazzaville\", \"Togo\": \"Africa/Lome\", \"Armenia\": \"Asia/Yerevan\", \"C\\\\u00f4te d'Ivoire\": \"Africa/Abidjan\", \"Dominican Republic\": \"America/Santo_Domingo\", \"Ukraine\": \"Europe/Kiev\", \"Bahrain\": \"Asia/Bahrain\", \"Tonga\": \"Pacific/Tongatapu\", \"Indonesia\": \"Asia/Jakarta\", \"Libya\": \"Africa/Tripoli\", \"Finland\": \"Europe/Helsinki\", \"Central African Republic\": \"Africa/Bangui\", \"Mauritius\": \"Indian/Mauritius\", \"Liechtenstein\": \"Europe/Vaduz\", \"Vietnam\": \"Asia/Phnom_Penh\", \"Mali\": \"Africa/Bamako\", \"Vatican City\": \"Europe/Vatican\", \"Russia\": \"Europe/Moscow\", \"Bulgaria\": \"Europe/Sofia\", \"United States\": \"US/Central\", \"Romania\": \"Europe/Bucharest\", \"Angola\": \"Africa/Luanda\", \"Portugal\": \"Europe/Lisbon\", \"South Africa\": \"Africa/Johannesburg\", \"Fiji\": \"Pacific/Fiji\", \"Sweden\": \"Europe/Stockholm\", \"Qatar\": \"Asia/Qatar\", \"Malaysia\": \"Asia/Kuala_Lumpur\", \"Senegal\": \"Africa/Dakar\", \"Mozambique\": \"Africa/Maputo\", \"Uganda\": \"Africa/Kampala\", \"Hungary\": \"Europe/Budapest\", \"Niger\": \"Africa/Niamey\", \"Brazil\": \"America/Sao_Paulo\", \"Jamaica\": \"America/St_Thomas\", \"Guinea\": \"Africa/Conakry\", \"Panama\": \"America/Panama\", \"Costa Rica\": \"America/Costa_Rica\", \"Luxembourg\": \"Europe/Luxembourg\", \"Cape Verde\": \"Atlantic/Cape_Verde\", \"Bahamas\": \"America/Nassau\", \"Syria\": \"Asia/Damascus\", \"Italy\": \"Europe/Rome\", \"Nigeria\": \"Africa/Lagos\", \"Ecuador\": \"America/Guatemala\", \"Bangladesh\": \"Asia/Dhaka\", \"Australia\": \"Australia/Sydney\", \"Iran\": \"Asia/Tehran\", \"Algeria\": \"Africa/Algiers\", \"El Salvador\": \"America/Guatemala\", \"Tuvalu\": \"Pacific/Funafuti\", \"Marshall Islands\": \"\", \"Chile\": \"America/Santiago\", \"Belgium\": \"Europe/Brussels\", \"Kiribati\": \"Pacific/Kiritimati\", \"Haiti\": \"America/Port-au-Prince\", \"Iraq\": \"Asia/Baghdad\", \"Sierra Leone\": \"Africa/Freetown\", \"Georgia\": \"Asia/Tbilisi\", \"Denmark\": \"Europe/Copenhagen\", \"Philippines\": \"Asia/Manila\", \"Moldova\": \"Europe/Chisinau\", \"Morocco\": \"Africa/Lagos\", \"Namibia\": \"Africa/Windhoek\", \"Guinea-Bissau\": \"Africa/Bissau\", \"Thailand\": \"Asia/Bangkok\", \"Switzerland\": \"Europe/Zurich\", \"Grenada\": \"America/Grenada\", \"Belize\": \"America/Belize\", \"Chad\": \"Africa/Ndjamena\", \"Estonia\": \"Europe/Tallinn\", \"Uruguay\": \"America/Montevideo\", \"Equatorial Guinea\": \"Africa/Malabo\", \"Lebanon\": \"Asia/Beirut\", \"Uzbekistan\": \"Asia/Tashkent\", \"Tunisia\": \"Africa/Tunis\", \"Djibouti\": \"Africa/Djibouti\", \"Antigua and Barbuda\": \"America/Antigua\", \"Spain\": \"Europe/Madrid\", \"Colombia\": \"America/Bogota\", \"Burundi\": \"Africa/Bujumbura\", \"Nicaragua\": \"America/Managua\", \"Barbados\": \"America/Barbados\", \"Madagascar\": \"Indian/Antananarivo\", \"Palau\": \"Pacific/Palau\", \"Bhutan\": \"Asia/Thimphu\", \"Sudan\": \"Africa/Khartoum\", \"Nepal\": \"Asia/Kathmandu\", \"Malta\": \"Europe/Malta\", \"Brunei Darussalam\": \"Asia/Brunei\", \"Democratic Republic of the Congo\": \"Africa/Kinshasa\", \"Suriname\": \"America/Paramaribo\", \"Kingdom of the Netherlands\": \"Europe/Amsterdam\", \"Venezuela\": \"America/Caracas\", \"Israel\": \"Asia/Jerusalem\", \"Iceland\": \"Iceland\", \"Zambia\": \"Africa/Lusaka\", \"Austria\": \"Europe/Vienna\", \"Papua New Guinea\": \"Pacific/Port_Moresby\", \"Malawi\": \"Africa/Lusaka\", \"Zimbabwe\": \"Africa/Harare\", \"Jordan\": \"Asia/Amman\", \"Kazakhstan\": \"Asia/Tashkent\", \"Poland\": \"Europe/Warsaw\", \"Mauritania\": \"Africa/Nouakchott\", \"Kyrgyzstan\": \"Asia/Bishkek\", \"Macedonia\": \"Europe/Skopje\", \"North Korea\": \"Asia/Pyongyang\", \"Trinidad and Tobago\": \"America/Port_of_Spain\", \"Latvia\": \"Europe/Riga\", \"Guyana\": \"America/Guyana\", \"Belarus\": \"Europe/Minsk\", \"Honduras\": \"America/Tegucigalpa\", \"Myanmar\": \"Asia/Rangoon\", \"Mexico\": \"America/Mexico_City\", \"Egypt\": \"Africa/Cairo\", \"Singapore\": \"Asia/Singapore\", \"Serbia\": \"Europe/Belgrade\", \"Botswana\": \"Africa/Gaborone\", \"United Kingdom\": \"Europe/London\", \"People's Republic of China\": \"Asia/Shanghai\", \"Greece\": \"Europe/Athens\", \"Paraguay\": \"America/Asuncion\", \"Croatia\": \"Europe/Zagreb\", \"Comoros\": \"Indian/Comoro\"}"
     ]
    }
   ],
   "source": [
    "!head country_capital_city_tz.json"
   ]
  },
  {
   "cell_type": "code",
   "execution_count": null,
   "metadata": {},
   "outputs": [],
   "source": []
  },
  {
   "cell_type": "markdown",
   "metadata": {},
   "source": [
    "### Add TimeZone information for each session )"
   ]
  },
  {
   "cell_type": "markdown",
   "metadata": {},
   "source": [
    "### SWITCHING TO Map Reduce"
   ]
  },
  {
   "cell_type": "code",
   "execution_count": 72,
   "metadata": {},
   "outputs": [
    {
     "data": {
      "text/plain": [
       "'\\\\xe5\\\\x9d\\\\x82\\\\xe6\\\\x9c\\\\xac\\\\xe9\\\\xbe\\\\x8d\\\\xe4\\\\xb8\\\\x80'"
      ]
     },
     "execution_count": 72,
     "metadata": {},
     "output_type": "execute_result"
    }
   ],
   "source": [
    "import ast\n",
    "str_ = \"'\\\\xe5\\\\x9d\\\\x82\\\\xe6\\\\x9c\\\\xac\\\\xe9\\\\xbe\\\\x8d\\\\xe4\\\\xb8\\\\x80'\"\n",
    "str_[1:-1]"
   ]
  },
  {
   "cell_type": "code",
   "execution_count": 73,
   "metadata": {},
   "outputs": [
    {
     "name": "stdout",
     "output_type": "stream",
     "text": [
      "Overwriting MRTranslate.py\n"
     ]
    }
   ],
   "source": [
    "%%writefile MRTranslate.py\n",
    "\n",
    "import os\n",
    "\n",
    "import mrjob\n",
    "from mrjob.job import MRJob\n",
    "from mrjob.step import MRStep\n",
    "from mrjob import step\n",
    "from mrjob.protocol import RawProtocol\n",
    "\n",
    "from collections import defaultdict, Counter\n",
    "\n",
    "import re\n",
    "import sys\n",
    "import json\n",
    "\n",
    "import datetime\n",
    "from datetime import datetime\n",
    "from dateutil import parser\n",
    "from dateutil import tz\n",
    "import pytz\n",
    "\n",
    "import ast\n",
    "\n",
    "#import goslate \n",
    "#import translate\n",
    "from googletrans import Translator\n",
    "\n",
    "import requests\n",
    "\n",
    "\n",
    "class MRTranslate(MRJob):\n",
    "\n",
    "    def __init__(self, *args, **kwargs):\n",
    "        super(MRTranslate, self).__init__(*args, **kwargs)\n",
    "        self.min_line_length = 12\n",
    "        self.translator   = Translator()\n",
    "        self.day_of_week  = {0:\"Monday\",1:\"Tuesday\",2:\"Wednesday\",3:\"Thursday\",4:\"Friday\",5:\"Saturday\",6:\"Sunday\"}\n",
    "        self.time_of_day  = {\"Night\":[0,1,2,3,4], \"Dawn\":[5,6],\"Morning\":[7,8,9],\"LateMorning\":[10,11], \"Lunch\":[12,13],\"Afternoon\":[14,15,16],\"LateAfternoon\":[17,18],\"Evening\":[19,20,21],\"LateEvening\":[22,23]}\n",
    "\n",
    "    \n",
    "    def configure_options(self):\n",
    "        super(MRTranslate, self).configure_options()\n",
    "        self.add_file_option('--tzFile', default='/user/w210/data/country_capital_city_tz.json', dest='tzFile')\n",
    "        self.add_passthrough_option('--num-mappers',  default=10, type=\"int\", dest=\"num_mappers\",  help=\"Number of mappers\")\n",
    "        self.add_passthrough_option('--num-reducers', default=10, type=\"int\", dest=\"num_reducers\", help=\"Number of reducers\")\n",
    "        self.add_passthru_arg('--local_dir',    default='/user/hduser',  dest=\"local_dir\",  help=\"Working directory for user\")\n",
    "        self.add_passthru_arg('--tmp_dir',      default='/user/hduser',  dest=\"tmp_dir\",    help=\"Temp directory for user\")                                    \n",
    "        \n",
    "    #def configure_args(self):\n",
    "    #    super(MRTranslate, self).configure_args()\n",
    "    #    self.add_file_arg('--tzFile', default='/user/w210/data/country_capital_city_tz.json', dest='tzFile')\n",
    "    #    self.add_passthru_arg('--num_mappers',  default=10,  dest=\"num_mappers\",  help=\"Number of mappers\")\n",
    "    #    self.add_passthru_arg('--num_reducers', default=10,  dest=\"num_reducers\", help=\"Number of reducers\")\n",
    "    #    self.add_passthru_arg('--local_dir',    default='/user/hduser',  dest=\"local_dir\",  help=\"Working directory for user\")\n",
    "    #    self.add_passthru_arg('--tmp_dir',      default='/user/hduser',  dest=\"tmp_dir\",    help=\"Temp directory for user\")\n",
    "        \n",
    "    def translate(self, text):\n",
    "        try:\n",
    "            result = self.translator.translate(text)\n",
    "        except:\n",
    "            result = \"Null\"\n",
    "        return result\n",
    "    \n",
    "    def utc_to_local(self, utc_timestamp, local_tz):\n",
    "        try:\n",
    "            local_dt = utc_timestamp.replace(tzinfo=pytz.utc).astimezone(local_tz)\n",
    "            #sys.stderr.write(\"LOCAL_DT:\"+repr(local_dt)+\"\\n\")\n",
    "            result = local_tz.normalize(local_dt)\n",
    "            #sys.stderr.write(\"RESULT ====> \"+repr(result)+\"\\n\")\n",
    "        except:\n",
    "            result = None\n",
    "        return result\n",
    "    \n",
    "    def get_time_of_day(self, hour):\n",
    "        for key in self.time_of_day.keys():\n",
    "            if hour in self.time_of_day[key]:\n",
    "                return key\n",
    "\n",
    "    def mapper_translate(self, _, line_):\n",
    "        \n",
    "        tzFile = str(self.options.tzFile) \n",
    "        \n",
    "        tz_dict = dict()\n",
    "        \n",
    "        #sys.stderr.write(\"About to OPEN tzFILE\"+\"\\n\")\n",
    "        \n",
    "        with open(tzFile,'r') as f:\n",
    "            \n",
    "            #sys.stderr.write(\"OPENED tzFILE\"+\"\\n\")\n",
    "            \n",
    "            lines     = f.readlines()\n",
    "            \n",
    "            tz_dict   = ast.literal_eval(lines[0])\n",
    "    \n",
    "        if len(line_) > self.min_line_length:\n",
    "            \n",
    "            line      = line_.split(\"\\t\")\n",
    "            user_id   = list(line)[0]\n",
    "            value     = [v.replace('\"','').strip() for v in line[1:]]\n",
    "            utc_time  = value[0][:-1]\n",
    "            traid     = value[1]\n",
    "            try:\n",
    "                #artname   = self.translator.translate(value[2]).text\n",
    "                artname   = value[2]\n",
    "            except:\n",
    "                artname   = value[2]\n",
    "            something = value[3]\n",
    "            try:\n",
    "                #tracname  = self.translator.translate(value[4]).text\n",
    "                tracname  = value[4]\n",
    "            except:\n",
    "                tracname  = value[4]\n",
    "            session_window = value[5]\n",
    "            gender    = value[6]\n",
    "            age       = value[7]\n",
    "            country   = value[8]\n",
    "            registered= value[9] \n",
    "            reg_date  = value[10]\n",
    "                \n",
    "                \n",
    "            try:\n",
    "                local_tz  = pytz.timezone(tz_dict[country])\n",
    "            except:\n",
    "                local_tz  = None\n",
    "            try:\n",
    "                utc    = datetime.strptime(utc_time, '%Y-%m-%dT%H:%M:%S')\n",
    "            except: \n",
    "                utc    = None\n",
    "                \n",
    "            try:\n",
    "                event_time = self.utc_to_local(utc, local_tz)\n",
    "            except: \n",
    "                event_time = None\n",
    "                    \n",
    "            try:\n",
    "                time_diff  = event_time.utcoffset()\n",
    "                local_time = event_time + time_diff\n",
    "            except:\n",
    "                local_time = \"Null\"\n",
    "                \n",
    "            try:\n",
    "                day_of_week = self.day_of_week[local_time.weekday()]\n",
    "            except:\n",
    "                day_of_week = \"Null\"\n",
    "                    \n",
    "            try:\n",
    "                time_of_day = self.get_time_of_day(local_time.hour)\n",
    "            except:\n",
    "                time_of_day = \"Null\"\n",
    "                    \n",
    "            #sys.stderr.write(\" utc_time: \" + repr(str(utc_time)) + \" traid:  \"    + repr(str(traid))     + \" artname: \"     + repr(str(artname)) +\"\\n\")\n",
    "            #sys.stderr.write(\" artname:  \" + repr(str(artname))  + \" something: \" + repr(str(something)) +  \"\\n\")\n",
    "            #sys.stderr.write(\" tracname: \" + repr(str(tracname)) + \" session_window: \" + repr(str(session_window)) + \" gender: \" + repr(str(gender)) + \"\\n\")\n",
    "            #sys.stderr.write(\" age: \"      + repr(str(age))      + \" country:\"   + repr(str(country))    + \" registered: \"  + repr(str(registered))  + \"\\n\")\n",
    "            #sys.stderr.write(\" reg_date: \" + repr(str(reg_date)) + \" local_tz: \" + repr(str(local_tz))   + \" local_time: \"  + str(local_time) + \" time_of_day: \" + str(time_of_day) + \" day_of_week: \" +  str(day_of_week)+\"\\n\")\n",
    "            #sys.stderr.write(\"============================================================================================================================\")\n",
    "            #sys.stderr.write(\"============================================================================================================================\")\n",
    "                    \n",
    "            value_ = []\n",
    "                \n",
    "            for x in [utc_time, traid, artname, something, tracname, session_window, gender, age, country, registered, reg_date, local_tz, local_time, time_of_day, day_of_week]:\n",
    "                try:\n",
    "                    value_.append(repr(x))\n",
    "                except:\n",
    "                    value_.append(\"Null\")\n",
    "                        \n",
    "            #sys.stderr.write(\"\\t\".join([repr(x) for x in value_]))\n",
    "                \n",
    "            try:\n",
    "                yield user_id, value_\n",
    "\n",
    "            except:\n",
    "                yield user_id, None\n",
    "        \n",
    "        \n",
    "\n",
    "\n",
    "\n",
    "\n",
    "    def steps(self):\n",
    "        \n",
    "        JOBCONF = {\n",
    "            'mapreduce.job.maps': self.options.num_mappers,\n",
    "            'mapreduce.job.reduces': self.options.num_reducers,\n",
    "            'mapreduce.partition.keypartitioner.options': '-k1',\n",
    "            'mapreduce.output.key.comparator.class': 'org.apache.hadoop.mapred.lib.KeyFieldBasedComparator',\n",
    "            'mapreduce.text.key.comparator.options': '-k1',\n",
    "            'mapreduce.map.memory.mb':40960,\n",
    "            'mapreduce.reduce.memory.mb':40960,\n",
    "            'mapreduce.map.java.opts':'-Xmx30720m',\n",
    "            'mapreduce.reduce.java.opts':'-Xmx61440m'\n",
    "        }\n",
    "        JOBCONF1 = {\n",
    "            'mapreduce.job.maps': self.options.num_mappers,\n",
    "            'mapred.reduce.tasks': self.options.num_reducers,\n",
    "            'mapreduce.partition.keypartitioner.options': '-k1',\n",
    "            'mapreduce.output.key.comparator.class': 'org.apache.hadoop.mapred.lib.KeyFieldBasedComparator',\n",
    "            'mapreduce.text.key.comparator.options': '-k1',\n",
    "            'mapreduce.map.memory.mb':40960,\n",
    "            'mapreduce.reduce.memory.mb':40960,\n",
    "            'mapreduce.map.java.opts':'-Xmx30720m',\n",
    "            'mapreduce.reduce.java.opts':'-Xmx61440m'\n",
    "        }\n",
    "        \n",
    "        return [MRStep(mapper=self.mapper_translate,\n",
    "                       jobconf=JOBCONF)]\n",
    "       \n",
    "\n",
    "if __name__ == '__main__':\n",
    "    MRTranslate.run()\n"
   ]
  },
  {
   "cell_type": "code",
   "execution_count": 74,
   "metadata": {},
   "outputs": [
    {
     "name": "stdout",
     "output_type": "stream",
     "text": [
      "userid\ttimestamp\tartid\tartname_\ttraid\ttraname_\tsession_window\tgender\tage\tcountry\tregistered\treg_date\r\n",
      "user_000001\t2009-05-04T23:08:57Z\tf1b1cf71-bd35-4e99-8624-24a6e15f133a\tDeep Dish\t\tFuck Me Im Famous (Pacha Ibiza)-09-28-2007\t23\tm\t\tJapan\tAug 13, 2006\t2006-08-13\r\n",
      "user_000001\t2009-05-04T13:54:10Z\ta7f7df4a-77d8-4f12-8acd-5c60c93f4de8\t坂本龍一\t\tComposition 0919 (Live_2009_4_15)\t13\tm\t\tJapan\tAug 13, 2006\t2006-08-13\r\n",
      "user_000001\t2009-05-04T13:52:04Z\ta7f7df4a-77d8-4f12-8acd-5c60c93f4de8\t坂本龍一\t\tMc2 (Live_2009_4_15)\t13\tm\t\tJapan\tAug 13, 2006\t2006-08-13\r\n",
      "user_000001\t2009-05-04T13:42:52Z\ta7f7df4a-77d8-4f12-8acd-5c60c93f4de8\t坂本龍一\t\tHibari (Live_2009_4_15)\t13\tm\t\tJapan\tAug 13, 2006\t2006-08-13\r\n"
     ]
    }
   ],
   "source": [
    "!head -n 5 data/Session_data_1k.csv"
   ]
  },
  {
   "cell_type": "code",
   "execution_count": 75,
   "metadata": {},
   "outputs": [
    {
     "name": "stdout",
     "output_type": "stream",
     "text": [
      "-rw-r--r-- 1 hduser hadoop 153K Sep 16 11:15 data/Session_data_1k.csv\r\n",
      "-rw-r--r-- 1 hduser hadoop 1.6M Sep 16 11:15 data/Session_data_10k.csv\r\n",
      "-rw-r--r-- 1 hduser hadoop  17M Sep 16 11:15 data/Session_data_100k.csv\r\n",
      "-rw-r--r-- 1 hduser hadoop 1.4K Sep 16 12:45 data/Session_data_10.csv\r\n",
      "-rw-r--r-- 1 hduser hadoop 164M Sep 16 20:17 data/Session_data_1M.csv\r\n"
     ]
    }
   ],
   "source": [
    "!ls -alrth  data/Session_data_*"
   ]
  },
  {
   "cell_type": "code",
   "execution_count": 76,
   "metadata": {},
   "outputs": [],
   "source": [
    "!export PATH=$PATH:/usr/local/hadoop/bin:/usr/local/hadoop/sbin"
   ]
  },
  {
   "cell_type": "code",
   "execution_count": 77,
   "metadata": {},
   "outputs": [],
   "source": [
    "!export HADOOP_opts=\"-Dhadoop.tmp.dir=/path/\""
   ]
  },
  {
   "cell_type": "code",
   "execution_count": 78,
   "metadata": {},
   "outputs": [],
   "source": [
    "TRANSLATE_PY ='/data_data/session_length/MRTranslate.py'"
   ]
  },
  {
   "cell_type": "code",
   "execution_count": 79,
   "metadata": {},
   "outputs": [],
   "source": [
    "JAR_FILE = '/usr/local/hadoop/share/hadoop/tools/lib/hadoop-streaming-3.0.1.jar'"
   ]
  },
  {
   "cell_type": "code",
   "execution_count": 80,
   "metadata": {},
   "outputs": [],
   "source": [
    "USER = !whoami\n",
    "USER = 'w210'\n",
    "OUTPUT_PATH_BASE = '/user/{USER}'.format(USER=USER)"
   ]
  },
  {
   "cell_type": "code",
   "execution_count": 81,
   "metadata": {},
   "outputs": [],
   "source": [
    "OUTPUT_DIR = \"{OUTPUT_PATH_BASE}/data/output\" "
   ]
  },
  {
   "cell_type": "code",
   "execution_count": 82,
   "metadata": {},
   "outputs": [],
   "source": [
    "TEST_1k = \"{OUTPUT_PATH_BASE}/data/Session_data_1k.csv\".format(OUTPUT_PATH_BASE=OUTPUT_PATH_BASE)\n",
    "TEST_10k = \"{OUTPUT_PATH_BASE}/data/Session_data_10k.csv\".format(OUTPUT_PATH_BASE=OUTPUT_PATH_BASE)\n",
    "TEST_100k = \"{OUTPUT_PATH_BASE}/data/Session_data_100k.csv\".format(OUTPUT_PATH_BASE=OUTPUT_PATH_BASE)\n",
    "TEST_1M = \"{OUTPUT_PATH_BASE}/data/Session_data_1M.csv\".format(OUTPUT_PATH_BASE=OUTPUT_PATH_BASE)\n",
    "FULL_DATA = \"{OUTPUT_PATH_BASE}/data/Session_data.csv\".format(OUTPUT_PATH_BASE=OUTPUT_PATH_BASE)"
   ]
  },
  {
   "cell_type": "code",
   "execution_count": 83,
   "metadata": {},
   "outputs": [],
   "source": [
    "!hdfs dfs -chgrp hadoop /user/w210/data/Session*"
   ]
  },
  {
   "cell_type": "code",
   "execution_count": 84,
   "metadata": {},
   "outputs": [
    {
     "name": "stdout",
     "output_type": "stream",
     "text": [
      "-rw-r--r--   1 hduser hadoop 3298819885 2018-09-18 16:53 /user/w210/data/Session_data.csv\r\n",
      "-rw-r--r--   1 hduser hadoop   16905208 2018-09-18 16:53 /user/w210/data/Session_data_100k.csv\r\n",
      "-rw-r--r--   1 hduser hadoop    1610078 2018-09-18 16:53 /user/w210/data/Session_data_10k.csv\r\n",
      "-rw-r--r--   1 hduser hadoop     156293 2018-09-18 16:53 /user/w210/data/Session_data_1k.csv\r\n"
     ]
    }
   ],
   "source": [
    "!hdfs dfs -ls /user/w210/data/Session*"
   ]
  },
  {
   "cell_type": "code",
   "execution_count": 85,
   "metadata": {},
   "outputs": [
    {
     "name": "stdout",
     "output_type": "stream",
     "text": [
      "/user/w210/data/Session_data_1k.csv\r\n"
     ]
    }
   ],
   "source": [
    "!echo {TEST_1k}"
   ]
  },
  {
   "cell_type": "code",
   "execution_count": 86,
   "metadata": {},
   "outputs": [
    {
     "name": "stdout",
     "output_type": "stream",
     "text": [
      "-rw-r--r--   1 hduser hadoop     156293 2018-09-18 16:53 /user/w210/data/Session_data_1k.csv\r\n"
     ]
    }
   ],
   "source": [
    "!hdfs dfs -ls {TEST_1k}"
   ]
  },
  {
   "cell_type": "code",
   "execution_count": 87,
   "metadata": {},
   "outputs": [
    {
     "name": "stdout",
     "output_type": "stream",
     "text": [
      "-rw-r--r-- 1 hduser hadoop 6.3K Sep 16 16:07 country_capital_city_tz\r\n",
      "-rw-r--r-- 1 hduser hadoop 5.9K Oct 23 04:12 country_capital_city_tz.json\r\n"
     ]
    }
   ],
   "source": [
    "!ls -alrth country_capital*"
   ]
  },
  {
   "cell_type": "code",
   "execution_count": 88,
   "metadata": {},
   "outputs": [],
   "source": [
    "TZ_FILE='/user/w210/data/country_capital_city_tz.json'"
   ]
  },
  {
   "cell_type": "code",
   "execution_count": 89,
   "metadata": {},
   "outputs": [],
   "source": [
    "INPUT_FILE='/user/w210/data/Session_data_1M.csv'"
   ]
  },
  {
   "cell_type": "code",
   "execution_count": 90,
   "metadata": {},
   "outputs": [],
   "source": [
    "TMP_DIR='/user/hduser/tmp'"
   ]
  },
  {
   "cell_type": "code",
   "execution_count": 91,
   "metadata": {},
   "outputs": [
    {
     "name": "stdout",
     "output_type": "stream",
     "text": [
      "total 3.3G\r\n",
      "-rw-r--r--  1 hduser hadoop 3.1G Sep 15 01:03 Session_data.csv\r\n",
      "drwxr-xr-x  2 hduser hadoop 4.0K Sep 15 01:03 tmp\r\n",
      "-rw-r--r--  1 hduser hadoop   30 Sep 15 04:37 timezones.csv\r\n",
      "-rw-r--r--  1 hduser hadoop    0 Sep 15 15:20 test.csv\r\n",
      "-rw-r--r--  1 hduser hadoop 153K Sep 16 11:15 Session_data_1k.csv\r\n",
      "-rw-r--r--  1 hduser hadoop 1.6M Sep 16 11:15 Session_data_10k.csv\r\n",
      "-rw-r--r--  1 hduser hadoop  17M Sep 16 11:15 Session_data_100k.csv\r\n",
      "-rw-r--r--  1 hduser hadoop 1.4K Sep 16 12:45 Session_data_10.csv\r\n",
      "drwxr-xr-x  4 hduser hadoop 4.0K Sep 16 20:17 .\r\n",
      "-rw-r--r--  1 hduser hadoop 164M Sep 16 20:17 Session_data_1M.csv\r\n",
      "drwxr-xr-x  4 hduser hadoop 4.0K Sep 28 19:19 lastFM\r\n",
      "drwxr-xr-x 14 hduser hadoop 4.0K Oct 23 04:12 ..\r\n"
     ]
    }
   ],
   "source": [
    "!ls -alrth data"
   ]
  },
  {
   "cell_type": "code",
   "execution_count": 92,
   "metadata": {},
   "outputs": [],
   "source": [
    "#!hdfs dfs -copyFromLocal data/Session_data.csv /user/hduser/"
   ]
  },
  {
   "cell_type": "code",
   "execution_count": 93,
   "metadata": {},
   "outputs": [],
   "source": [
    "#!hdfs dfs -rmdir /user/hdfs/output\n",
    "#!hdfs dfs -ls /user/hduser"
   ]
  },
  {
   "cell_type": "code",
   "execution_count": 94,
   "metadata": {},
   "outputs": [],
   "source": [
    "#!hdfs dfs -rm -r /user/hduser/output\n",
    "#!hdfs dfs -ls /user/hdfs"
   ]
  },
  {
   "cell_type": "code",
   "execution_count": 95,
   "metadata": {},
   "outputs": [],
   "source": [
    "#!hadoop jar /usr/local/hadoop/share/hadoop/tools/lib/hadoop-streaming-3.0.1.jar \\\n",
    "#    -D mapreduce.job.maps=10 \\\n",
    "#    -D hadoop.tmp.dir='/user/hduser/tmp' \\\n",
    "#    -files MRTranslate.py,country_capital_city_tz.json \\\n",
    "#    -input '/user/hduser/Session_data_1M.csv' \\\n",
    "#    -output '/user/hduser/output' \\\n",
    "#    -numReduceTasks 10 \\\n",
    "#    -cmdenv tzFile='country_capital_city_tz.json' \\\n",
    "#    -cmdenv PATH={PATH}"
   ]
  },
  {
   "cell_type": "code",
   "execution_count": 96,
   "metadata": {},
   "outputs": [],
   "source": [
    "#!hadoop fs -rm -r /user/hdfs/output\n",
    "#!hadoop jar /usr/local/hadoop/share/hadoop/tools/lib/hadoop-streaming-3.0.1.jar \\\n",
    "#    -D mapreduce.job.maps=10 \\\n",
    "#    -D hadoop.tmp.dir='/user/hduser/tmp' \\\n",
    "#    -files MRTranslate.py,country_capital_city_tz.json\\\n",
    "#    -input '/user/hduser/Session_data_1M.csv' \\\n",
    "#    -output '/user/hduser/output' \\\n",
    "#    -numReduceTasks 10 \\\n",
    "#    -cmdenv tzFile='country_capital_city_tz.json' \\\n",
    "#    -cmdenv PATH={PATH}"
   ]
  },
  {
   "cell_type": "code",
   "execution_count": 97,
   "metadata": {},
   "outputs": [],
   "source": [
    "#!rm /data_data/session_length/session_data_1M_is_holiday.tsv\n",
    "#!rm -R /tmp/MRtranslate*\n",
    "#!python MRTranslate.py ./data/Session_data_1M.csv  --tzFile=/data_data/session_length/country_capital_city_tz.json --tmp_dir=/data_data/session_length/hadoop/tmp  > session_data_1M_is_holiday.tsv"
   ]
  },
  {
   "cell_type": "code",
   "execution_count": 60,
   "metadata": {},
   "outputs": [
    {
     "name": "stdout",
     "output_type": "stream",
     "text": [
      "head: cannot open 'session_data_1M.tsv' for reading: No such file or directory\r\n"
     ]
    }
   ],
   "source": [
    "!head session_data_1M.tsv"
   ]
  },
  {
   "cell_type": "markdown",
   "metadata": {},
   "source": [
    "### Save as file (via toPandas())"
   ]
  },
  {
   "cell_type": "code",
   "execution_count": null,
   "metadata": {},
   "outputs": [],
   "source": []
  },
  {
   "cell_type": "code",
   "execution_count": 1,
   "metadata": {},
   "outputs": [],
   "source": [
    "#spark.conf.set(\"spark.sql.execution.arrow.enabled\", \"false\")\n",
    "#session_with_holiday_DF.toPandas().to_csv(\"session_with_timezone.csv\", sep='\\t', encoding='utf-8',index=False)\n",
    "#spark.conf.set(\"spark.sql.execution.arrow.enabled\", \"true\")"
   ]
  },
  {
   "cell_type": "code",
   "execution_count": 2,
   "metadata": {},
   "outputs": [
    {
     "name": "stdout",
     "output_type": "stream",
     "text": [
      "userid\tgender\tage\tcountry\tstartdate\tday_of_week\ttimeofday\tsessionid\tsession_start\tsession_length\tis_holiday\r\n",
      "user_000001\tm\t\tJapan\t2006-08-13\tsunday   \tnoon\t1\t2006-08-13\t230\t0\r\n",
      "user_000001\tm\t\tJapan\t2006-08-15\ttuesday  \tmorning\t1\t2006-08-15\t170\t0\r\n",
      "user_000001\tm\t\tJapan\t2006-08-16\twednesday\tmorning\t1\t2006-08-16\t43\t0\r\n",
      "user_000001\tm\t\tJapan\t2006-08-16\twednesday\tnoon\t2\t2006-08-16\t86\t0\r\n",
      "user_000001\tm\t\tJapan\t2006-08-17\tthursday \tnoon\t1\t2006-08-17\t115\t0\r\n",
      "user_000001\tm\t\tJapan\t2006-08-18\tfriday   \tevening\t1\t2006-08-18\t46\t0\r\n",
      "user_000001\tm\t\tJapan\t2006-08-19\tsaturday \tmorning\t1\t2006-08-19\t113\t0\r\n",
      "user_000001\tm\t\tJapan\t2006-08-20\tsunday   \tnoon\t1\t2006-08-20\t112\t0\r\n",
      "user_000001\tm\t\tJapan\t2006-08-21\tmonday   \tnight\t1\t2006-08-21\t18\t0\r\n"
     ]
    }
   ],
   "source": [
    "!head session_with_holiday_all.csv"
   ]
  },
  {
   "cell_type": "code",
   "execution_count": null,
   "metadata": {},
   "outputs": [],
   "source": []
  },
  {
   "cell_type": "markdown",
   "metadata": {},
   "source": [
    "### Compute Delta since last song"
   ]
  },
  {
   "cell_type": "code",
   "execution_count": null,
   "metadata": {},
   "outputs": [],
   "source": []
  },
  {
   "cell_type": "code",
   "execution_count": null,
   "metadata": {},
   "outputs": [],
   "source": []
  },
  {
   "cell_type": "code",
   "execution_count": null,
   "metadata": {},
   "outputs": [],
   "source": []
  },
  {
   "cell_type": "code",
   "execution_count": null,
   "metadata": {},
   "outputs": [],
   "source": []
  },
  {
   "cell_type": "code",
   "execution_count": null,
   "metadata": {},
   "outputs": [],
   "source": []
  },
  {
   "cell_type": "code",
   "execution_count": null,
   "metadata": {},
   "outputs": [],
   "source": []
  },
  {
   "cell_type": "code",
   "execution_count": null,
   "metadata": {},
   "outputs": [],
   "source": []
  }
 ],
 "metadata": {
  "kernelspec": {
   "display_name": "Python 2",
   "language": "python",
   "name": "python2"
  },
  "language_info": {
   "codemirror_mode": {
    "name": "ipython",
    "version": 2
   },
   "file_extension": ".py",
   "mimetype": "text/x-python",
   "name": "python",
   "nbconvert_exporter": "python",
   "pygments_lexer": "ipython2",
   "version": "2.7.12"
  }
 },
 "nbformat": 4,
 "nbformat_minor": 2
}

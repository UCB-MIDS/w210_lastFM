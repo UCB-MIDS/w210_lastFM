{
 "cells": [
  {
   "cell_type": "markdown",
   "metadata": {},
   "source": [
    "## ETL: Add local timezone to each song played"
   ]
  },
  {
   "cell_type": "code",
   "execution_count": 1,
   "metadata": {},
   "outputs": [],
   "source": [
    "import os\n",
    "import lxml\n",
    "\n",
    "import pandas as pd"
   ]
  },
  {
   "cell_type": "markdown",
   "metadata": {},
   "source": [
    "#### Use maximum width of notebook"
   ]
  },
  {
   "cell_type": "code",
   "execution_count": 2,
   "metadata": {},
   "outputs": [
    {
     "data": {
      "text/html": [
       "<style>.container { width:100% !important; }</style>"
      ],
      "text/plain": [
       "<IPython.core.display.HTML object>"
      ]
     },
     "metadata": {},
     "output_type": "display_data"
    }
   ],
   "source": [
    "from IPython.core.display import display, HTML\n",
    "display(HTML(\"<style>.container { width:100% !important; }</style>\"))\n",
    "\n",
    "pd.set_option('display.height', 1000)\n",
    "pd.set_option('display.max_rows', 500)\n",
    "pd.set_option('display.max_columns', 500)\n",
    "pd.set_option('display.width', 1000)\n",
    "pd.set_option('display.expand_frame_repr', False)\n",
    "pd.set_option('max_colwidth', 800)\n",
    "pd.set_option('display.max_colwidth', 500)\n",
    "pd.set_option('expand_frame_repr', True)"
   ]
  },
  {
   "cell_type": "code",
   "execution_count": null,
   "metadata": {},
   "outputs": [],
   "source": [
    "!whoami"
   ]
  },
  {
   "cell_type": "code",
   "execution_count": null,
   "metadata": {},
   "outputs": [],
   "source": [
    "os.chdir(\"/data_data/session_length/\")\n",
    "!pwd"
   ]
  },
  {
   "cell_type": "code",
   "execution_count": null,
   "metadata": {},
   "outputs": [],
   "source": [
    "!env"
   ]
  },
  {
   "cell_type": "markdown",
   "metadata": {},
   "source": [
    "### Make sure no other spark jobs running before doing this"
   ]
  },
  {
   "cell_type": "code",
   "execution_count": null,
   "metadata": {},
   "outputs": [],
   "source": [
    "#import pymongo\n",
    "#import pymongo_spark\n",
    "\n",
    "#pymongo_spark.activate()\n"
   ]
  },
  {
   "cell_type": "code",
   "execution_count": null,
   "metadata": {},
   "outputs": [],
   "source": [
    "#sc.stop()\n",
    "#spark.stop()"
   ]
  },
  {
   "cell_type": "markdown",
   "metadata": {},
   "source": [
    "### If you want to restart Yarn etc"
   ]
  },
  {
   "cell_type": "code",
   "execution_count": null,
   "metadata": {},
   "outputs": [],
   "source": [
    "!export HADOOP_HOME=/usr/local/hadoop \n",
    "!export PATH=$PATH:/usr/local/hadoop/bin:/usr/local/hadoop/sbin"
   ]
  },
  {
   "cell_type": "code",
   "execution_count": null,
   "metadata": {},
   "outputs": [],
   "source": [
    "#!/usr/local/hadoop/sbin/stop-all.sh\n",
    "#!/usr/local/hadoop/sbin/start-all.sh"
   ]
  },
  {
   "cell_type": "code",
   "execution_count": null,
   "metadata": {},
   "outputs": [],
   "source": [
    "APP_NAME = \"ETL Add Local TimeZone and is_holiday flag\"\n",
    "\n",
    "try:\n",
    "    sc.stop()\n",
    "    spark.stop()\n",
    "except:\n",
    "    pass\n",
    "\n",
    "from pyspark import SparkConf\n",
    "from pyspark.context import SparkContext\n",
    "from pyspark.sql.session import SparkSession\n",
    "\n",
    "try:\n",
    "    sc and spark\n",
    "except (NameError, UnboundLocalError) as e:\n",
    "    import findspark\n",
    "    #findspark.init()\n",
    "    import pyspark\n",
    "    import pyspark.sql\n",
    "    \n",
    "    #sc = pyspark.SparkContext()\n",
    "    #spark = pyspark.sql.SparkSession(sc).builder.appName(APP_NAME).getOrCreate()\n",
    "    \n",
    "sc = SparkContext(conf = SparkConf() .set(\"spark.sql.autoBroadcastJoinThreshold\",-1) .set(\"spark.driver.maxResultSize\", \"40g\") .set(\"spark.sql.execution.arrow.enabled\", \"true\") .set('spark.sql.broadcastTimeout', 1000) .set('spark.local.dir', '/data_data/session_length/spark_tmp/') .set('spark.driver.memory', '80G') .set(\"spark.executor.instances\", \"20\") .set(\"spark.executor.cores\", 20) .set(\"spark.executor.memory\", \"12G\")).getOrCreate()\n",
    "spark = SparkSession(sc)\n",
    "spark.sparkContext.setLogLevel(\"ERROR\")\n",
    "    "
   ]
  },
  {
   "cell_type": "markdown",
   "metadata": {},
   "source": [
    "### Check configuration of Spark Environment"
   ]
  },
  {
   "cell_type": "code",
   "execution_count": null,
   "metadata": {},
   "outputs": [],
   "source": [
    "sc._conf.getAll()"
   ]
  },
  {
   "cell_type": "code",
   "execution_count": null,
   "metadata": {},
   "outputs": [],
   "source": [
    "from pyspark.sql.types import StructField, StructType, StringType, LongType, DateType, DoubleType, IntegerType\n",
    "from pyspark.sql.functions import count, mean, stddev_pop, min, max, lit, round, bround, pow, col, corr, lower, upper, avg, stddev, abs, log\n",
    "from pyspark.sql.functions import lit, trim, rtrim, rpad, trim, coalesce\n",
    "from pyspark.sql.functions import current_date, current_timestamp, date_add, date_sub, months_between, to_date\n",
    "from pyspark.sql.functions import udf, col, sum\n",
    "from pyspark.sql.window import Window\n",
    "from pyspark.sql.functions import desc, dense_rank, rank, expr\n",
    "\n",
    "from pyspark.ml import Pipeline\n",
    "from pyspark.ml.feature import RFormula\n",
    "from pyspark.ml.classification import LogisticRegression, GBTClassifier, DecisionTreeClassifier, RandomForestClassifier\n",
    "from pyspark.ml.evaluation import BinaryClassificationEvaluator\n",
    "from pyspark.ml.regression import RandomForestRegressor, GBTRegressor\n",
    "from pyspark.ml.feature import OneHotEncoderEstimator, StringIndexer, VectorAssembler\n",
    "from pyspark.ml.tuning import CrossValidator, ParamGridBuilder\n",
    "\n",
    "from datetime import datetime"
   ]
  },
  {
   "cell_type": "markdown",
   "metadata": {},
   "source": [
    "### Import Data"
   ]
  },
  {
   "cell_type": "markdown",
   "metadata": {},
   "source": [
    "#### Import utility tools"
   ]
  },
  {
   "cell_type": "markdown",
   "metadata": {},
   "source": [
    "#### Import both data sets"
   ]
  },
  {
   "cell_type": "code",
   "execution_count": null,
   "metadata": {},
   "outputs": [],
   "source": [
    "!head data/lastFM/lastfm-dataset-1K/userid-profile.tsv"
   ]
  },
  {
   "cell_type": "code",
   "execution_count": null,
   "metadata": {},
   "outputs": [],
   "source": [
    "users_df = None"
   ]
  },
  {
   "cell_type": "code",
   "execution_count": null,
   "metadata": {},
   "outputs": [],
   "source": [
    "from_pattern = 'MMM dd, yyyy'\n",
    "to_pattern = 'yyyy-MM-dd'\n",
    "\n",
    "def import_user_data():\n",
    "    global users_df\n",
    "    print(\"==================================================================================================================\")\n",
    "    print(\"======================================== IMPORTING USERID-PROFILE.CSV  ======================================\")\n",
    "    print(\"==================================================================================================================\\n\\n\")\n",
    "    userSchema = StructType([\\\n",
    "        StructField('userid',  StringType(), True),\\\n",
    "        StructField('gender',  StringType(), True),\\\n",
    "        StructField('age',     IntegerType(), True),\\\n",
    "        StructField('country', StringType(), True),\\\n",
    "        StructField('registered', StringType(), True)])\n",
    "    users = spark.read.format('csv').schema(userSchema).option(\"sep\",\"\\t\").load('/data_data/session_length/data/lastFM/lastfm-dataset-1K/userid-profile.tsv')\n",
    "    users.show(5,False)\n",
    "    #func = udf(lambda x: datetime.strptime(x, to_pattern), DateType() )\n",
    "    users_df = users.withColumn('reg_date', to_date(col(\"registered\"), from_pattern)).na.drop(subset=[\"country\"])\n",
    "    users_df.show(5,False)"
   ]
  },
  {
   "cell_type": "code",
   "execution_count": null,
   "metadata": {},
   "outputs": [],
   "source": [
    "import_user_data()"
   ]
  },
  {
   "cell_type": "markdown",
   "metadata": {},
   "source": [
    "#### Import music_data"
   ]
  },
  {
   "cell_type": "code",
   "execution_count": null,
   "metadata": {},
   "outputs": [],
   "source": [
    "!head data/lastFM/lastfm-dataset-1K/userid-timestamp-artid-artname-traid-traname.tsv"
   ]
  },
  {
   "cell_type": "code",
   "execution_count": null,
   "metadata": {},
   "outputs": [],
   "source": [
    "sessions_DF = None\n",
    "sessions_df = None"
   ]
  },
  {
   "cell_type": "code",
   "execution_count": null,
   "metadata": {},
   "outputs": [],
   "source": [
    "from_pattern = 'yyyy-MM-ddTHH:mm:ssZ'\n",
    "to_pattern = 'yyyy-MM-dd'\n",
    "\n",
    "def import_session_data():\n",
    "    global sessions_DF\n",
    "    global sessions_df\n",
    "    print(\"====================================================================================================================\")\n",
    "    print(\"====================================userid-timestamp-artid-artname-traid-traname.tsv================================\")\n",
    "    print(\"==================================================================================================================\\n\\n\")\n",
    "    userSchema = StructType([\\\n",
    "        StructField('userid',  StringType(), True),\\\n",
    "        StructField('timestamp',  StringType(), True),\\\n",
    "        StructField('artid',     StringType(), True),\\\n",
    "        StructField('artname_', StringType(), True),\\\n",
    "        StructField('traid', StringType(), True),\\\n",
    "        StructField('traname_', StringType(), True)\n",
    "        ])\n",
    "    sessions = spark.read.format('csv').schema(userSchema).option(\"sep\",\"\\t\").load('/data_data/session_length/data/lastFM/lastfm-dataset-1K/userid-timestamp-artid-artname-traid-traname.tsv')\n",
    "    sessions.show(5,False)\n",
    "    #Assign window to time (using hour as window....)\n",
    "    def get_window(x):\n",
    "        return int(str(x).split(\"T\")[1].split(\":\")[0])\n",
    "    getWindow = udf(lambda timestamp:  get_window(timestamp))\n",
    "    sessions_DF_ = sessions.withColumn('session_date',to_date(col('timestamp'))).withColumn('session_window', getWindow(col('timestamp')))\n",
    "    sessions_DF  = sessions_DF_.drop('artid','artname_','traid','traname_')\n",
    "    sessions_DF.show(5,False)\n",
    "    #Translate artname_ to English\n",
    "    def translate_to_english(str_to_translate):\n",
    "        return gs.translate(str_to_translate, 'en')\n",
    "    func = udf(lambda str_to_translate:  translate_to_english(str_to_translate), StringType())\n",
    "    #sessions_df = sessions_DF.withColumn('artname', translate_to_english('artname_'))\n",
    "    #sessions_df[[\"artname_\"]].apply(lambda row: np.mean(row),axis=0)\n",
    "    #sessions_df[\"artname\"] = sessions_DF[\"artname_\"].apply(lambda name: translate_to_english(name),axis=0)\n",
    "    #.withColumn('traname', func(col('traname_')))\n",
    "    #sessions_df = sessions_DF.rdd.map(lambda x: (x[\"artname_\"]))\n",
    "    #print(sessions_df.take(5))"
   ]
  },
  {
   "cell_type": "code",
   "execution_count": null,
   "metadata": {},
   "outputs": [],
   "source": [
    "!whoami"
   ]
  },
  {
   "cell_type": "code",
   "execution_count": null,
   "metadata": {},
   "outputs": [],
   "source": [
    "import_session_data()"
   ]
  },
  {
   "cell_type": "code",
   "execution_count": null,
   "metadata": {},
   "outputs": [],
   "source": [
    "#from pyspark.sql.types import Row\n",
    "\n",
    "#row = Row(\"artname_\")\n",
    "#df_sessions = sessions_df.map(row).toDF()\n",
    "#schema = StructType([StructField(\"artname\", StringType(), True)])\n",
    "#df_sessions = sessions_df.toDF([\"artname\"],)\n",
    "#[gs.translate(x,'en') for x in df_sessions]\n",
    "#df_sessions = sessions_df.flatMap(gs.translate)\n",
    "#df_sessions.take(5)"
   ]
  },
  {
   "cell_type": "code",
   "execution_count": null,
   "metadata": {},
   "outputs": [],
   "source": [
    "users_df.show()"
   ]
  },
  {
   "cell_type": "code",
   "execution_count": null,
   "metadata": {},
   "outputs": [],
   "source": [
    "users_df.filter(\"userid = 'user_000004'\").show(20)"
   ]
  },
  {
   "cell_type": "code",
   "execution_count": null,
   "metadata": {},
   "outputs": [],
   "source": []
  },
  {
   "cell_type": "markdown",
   "metadata": {},
   "source": [
    "#### Denormalize by joining user and session databases"
   ]
  },
  {
   "cell_type": "code",
   "execution_count": null,
   "metadata": {},
   "outputs": [],
   "source": [
    "users_df = users_df.withColumnRenamed('userid','user_id')\n",
    "u = users_df.alias('u')\n",
    "s = sessions_DF.alias('s')\n",
    "join_condition = [ (u.user_id == s.userid) ]\n",
    "sessionsDF = s.join(u, join_condition, 'inner').drop('user_id')\n",
    "sessionsDF.show(20,False)"
   ]
  },
  {
   "cell_type": "markdown",
   "metadata": {},
   "source": [
    "#### Save as TSV file for Time Series analysis"
   ]
  },
  {
   "cell_type": "markdown",
   "metadata": {},
   "source": [
    "#### Uncomment if you want a fresh copy of the file"
   ]
  },
  {
   "cell_type": "code",
   "execution_count": null,
   "metadata": {},
   "outputs": [],
   "source": [
    "#!rm -R /data_data/session_length/data/tmp\n",
    "#sessionsDF.coalesce(1).write.option(\"delimiter\", \"\\t\").csv('/data_data/session_length/data/tmp', header=\"True\")\n",
    "#!mv /data_data/session_length/data/tmp/part-* /data_data/session_length/data/Session_data.csv"
   ]
  },
  {
   "cell_type": "code",
   "execution_count": null,
   "metadata": {
    "scrolled": true
   },
   "outputs": [],
   "source": [
    "!head /data_data/session_length/data/Session_data.csv"
   ]
  },
  {
   "cell_type": "markdown",
   "metadata": {},
   "source": [
    "### Get Local time by converting from UTC to Local [WORK IN PROGRESS]"
   ]
  },
  {
   "cell_type": "code",
   "execution_count": null,
   "metadata": {},
   "outputs": [],
   "source": [
    "from dateutil import tz\n",
    "import pytz"
   ]
  },
  {
   "cell_type": "markdown",
   "metadata": {},
   "source": [
    "### Use countryInfo from here: https://gist.githubusercontent.com/pamelafox/986163/raw/f5f9db4f1b287804fd07ffb3296ed0036292bc7a/countryinfo.py"
   ]
  },
  {
   "cell_type": "code",
   "execution_count": null,
   "metadata": {},
   "outputs": [],
   "source": [
    "countries_info = [\n",
    "{'timezones': ['Europe/Albania'], 'code': 'AD', 'continent': 'Europe', 'name': 'Albania', 'capital': 'Skopje'},\n",
    "{'timezones': ['Europe/Madrid'], 'code': 'AD', 'continent': 'Europe', 'name': 'Andorra', 'capital': 'Madrid'},\n",
    "{'timezones': ['Asia/Kabul'], 'code': 'AF', 'continent': 'Asia', 'name': 'Afghanistan', 'capital': 'Kabul'},\n",
    "{'timezones': ['America/Antigua'], 'code': 'AG', 'continent': 'America', 'name': 'Antigua and Barbuda', 'capital': \"Antigua\"},\n",
    "{'timezones': ['Europe/Tirane'], 'code': 'AL', 'continent': 'Europe', 'name': 'Albania', 'capital': 'Tirana'},\n",
    "{'timezones': ['Asia/Yerevan'], 'code': 'AM', 'continent': 'Asia', 'name': 'Armenia', 'capital': 'Yerevan'},\n",
    "{'timezones': ['Africa/Luanda'], 'code': 'AO', 'continent': 'Africa', 'name': 'Angola', 'capital': 'Luanda'},\n",
    "{'timezones': ['America/Argentina/Buenos_Aires', 'America/Argentina/Cordoba', 'America/Argentina/Jujuy', 'America/Argentina/Tucuman', 'America/Argentina/Catamarca', 'America/Argentina/La_Rioja', 'America/Argentina/San_Juan', 'America/Argentina/Mendoza', 'America/Argentina/Rio_Gallegos', 'America/Argentina/Ushuaia'], 'code': 'AR', 'continent': 'America', 'name': 'Argentina', 'capital': 'Buenos Aires'},\n",
    "{'timezones': ['Europe/Vienna'], 'code': 'AT', 'continent': 'Europe', 'name': 'Austria', 'capital': 'Vienna'},\n",
    "{'timezones': ['Australia/Sydney'],'code':'AU', 'continent': 'Australia', 'name':'Australia', 'capital':'Sydney'},\n",
    "{'timezones': ['Asia/Baku'], 'code': 'AZ', 'continent': 'Asia', 'name': 'Azerbaijan', 'capital': 'Baku'},\n",
    "{'timezones': ['America/Barbados'], 'code': 'BB', 'continent': 'America', 'name': 'Barbados', 'capital': 'Barbados'},\n",
    "{'timezones': ['Asia/Dhaka'], 'code': 'BD', 'continent': 'Asia', 'name': 'Bangladesh', 'capital': 'Dhaka'},\n",
    "{'timezones': ['Europe/Brussels'], 'code': 'BE', 'continent': 'Europe', 'name': 'Belgium', 'capital': 'Brussels'},\n",
    "{'timezones': ['Africa/Ouagadougou'], 'code': 'BF', 'continent': 'Africa', 'name': 'Burkina Faso', 'capital': 'Ouagadougou'},\n",
    "{'timezones': ['Europe/Sofia'], 'code': 'BG', 'continent': 'Europe', 'name': 'Bulgaria', 'capital': 'Sofia'},\n",
    "{'timezones': ['Asia/Bahrain'], 'code': 'BH', 'continent': 'Asia', 'name': 'Bahrain', 'capital': 'Bahrain'},\n",
    "{'timezones': ['Africa/Bujumbura'], 'code': 'BI', 'continent': 'Africa', 'name': 'Burundi', 'capital': 'Bujumbura'},\n",
    "{'timezones': ['Africa/Porto-Novo'], 'code': 'BJ', 'continent': 'Africa', 'name': 'Benin', 'capital': 'Porto-Novo'},\n",
    "{'timezones': ['Asia/Brunei'], 'code': 'BN', 'continent': 'Asia', 'name': 'Brunei Darussalam', 'capital': 'Brunei'},\n",
    "{'timezones': ['America/La_Paz'], 'code': 'BO', 'continent': 'America', 'name': 'Bolivia', 'capital': 'La_Paz'},\n",
    "{'timezones': ['America/Sao_Paulo'], 'code': 'BR', 'continent': 'America', 'name': 'Brazil', 'capital': 'Sao_Paulo'},\n",
    "{'timezones': ['America/Nassau'], 'code': 'BS', 'continent': 'America', 'name': 'Bahamas', 'capital': 'Nassau'},\n",
    "{'timezones': ['Asia/Thimphu'], 'code': 'BT', 'continent': 'Asia', 'name': 'Bhutan', 'capital': 'Thimphu'},\n",
    "{'timezones': ['Africa/Gaborone'], 'code': 'BW', 'continent': 'Africa', 'name': 'Botswana', 'capital': 'Gaborone'},\n",
    "{'timezones': ['Europe/Minsk'], 'code': 'BY', 'continent': 'Europe', 'name': 'Belarus', 'capital': 'Minsk'},\n",
    "{'timezones': ['America/Belize'], 'code': 'BZ', 'continent': 'America', 'name': 'Belize', 'capital': 'Belize'},\n",
    "{'timezones': ['Canada/Eastern'], 'code': 'CA', 'continent': 'Canada', 'name': 'Canada', 'capital': 'Eastern'},\n",
    "{'timezones': ['Africa/Kinshasa', 'Africa/Lubumbashi'], 'code': 'CD', 'continent': 'Africa', 'name': 'Democratic Republic of the Congo', 'capital': 'Kinshasa'},\n",
    "{'timezones': ['Africa/Brazzaville'], 'code': 'CG', 'continent': 'Africa', 'name': 'Republic of the Congo', 'capital': 'Brazzaville'},\n",
    "{'timezones': ['Africa/Abidjan'], 'code': 'CI', 'continent': 'Africa', 'name': \"Cote d'Ivoire\", 'capital': 'Abidjan'},\n",
    "{'timezones': ['Africa/Abidjan'], 'code': 'CI', 'continent': 'Africa', 'name': \"C\\\\u00f4te d'Ivoire\", 'capital': 'Abidjan'},\n",
    "{'timezones': ['America/Santiago', 'Pacific/Easter'], 'code': 'CL', 'continent': 'America', 'name': 'Chile', 'capital': 'Santiago'},\n",
    "{'timezones': ['Africa/Douala'], 'code': 'CM', 'continent': 'Africa', 'name': 'Cameroon', 'capital': 'Lagos'},\n",
    "{'timezones': ['Asia/Shanghai', 'Asia/Harbin', 'Asia/Chongqing', 'Asia/Urumqi', 'Asia/Kashgar'], 'code': 'CN', 'continent': 'Asia', 'name': \"People's Republic of China\", 'capital': 'Shanghai'},\n",
    "{'timezones': ['Asia/Shanghai', 'Asia/Harbin', 'Asia/Chongqing', 'Asia/Urumqi', 'Asia/Kashgar'], 'code': 'CN', 'continent': 'Asia', 'name': \"China\", 'capital': 'Shanghai'},\n",
    "{'timezones': ['America/Bogota'], 'code': 'CO', 'continent': 'America', 'name': 'Colombia', 'capital': 'Bogota'},\n",
    "{'timezones': ['America/Costa_Rica'], 'code': 'CR', 'continent': 'America', 'name': 'Costa Rica', 'capital': 'Costa_Rica'},\n",
    "{'timezones': ['America/Havana'], 'code': 'CU', 'continent': 'America', 'name': 'Cuba', 'capital': 'Havana'},\n",
    "{'timezones': ['Atlantic/Cape_Verde'], 'code': 'CV', 'continent': 'Atlantic', 'name': 'Cape Verde', 'capital': 'Cape_Verde'},\n",
    "{'timezones': ['Asia/Nicosia'], 'code': 'CY', 'continent': 'Asia', 'name': 'Cyprus', 'capital': 'Nicosia'},\n",
    "{'timezones': ['Europe/Prague'], 'code': 'CZ', 'continent': 'Europe', 'name': 'Czech Republic', 'capital': 'Prague'},\n",
    "{'timezones': ['Europe/Berlin'], 'code': 'DE', 'continent': 'Europe', 'name': 'Germany', 'capital': 'Berlin'},\n",
    "{'timezones': ['Africa/Djibouti'], 'code': 'DJ', 'continent': 'Africa', 'name': 'Djibouti', 'capital': 'Djibouti City'},\n",
    "{'timezones': ['Europe/Copenhagen'], 'code': 'DK', 'continent': 'Europe', 'name': 'Denmark', 'capital': 'Copenhagen'},\n",
    "{'timezones': ['America/Dominica'], 'code': 'DM', 'continent': 'America', 'name': 'Dominica', 'capital': 'Roseau'},\n",
    "{'timezones': ['America/Santo_Domingo'], 'code': 'DO', 'continent': 'America', 'name': 'Dominican Republic', 'capital': 'Dominica'},\n",
    "{'timezones': ['America/Guayaquil', 'Pacific/Galapagos'], 'code': 'EC', 'continent': 'America', 'name': 'Ecuador', 'capital': 'Guatemala'},\n",
    "{'timezones': ['Europe/Tallinn'], 'code': 'EE', 'continent': 'Europe', 'name': 'Estonia', 'capital': 'Tallinn'},\n",
    "{'timezones': ['Africa/Cairo'], 'code': 'EG', 'continent': 'Africa', 'name': 'Egypt', 'capital': 'Cairo'},\n",
    "{'timezones': ['Africa/Asmera'], 'code': 'ER', 'continent': 'Africa', 'name': 'Eritrea', 'capital': 'Asmara'},\n",
    "{'timezones': ['Africa/Addis_Ababa'], 'code': 'ET', 'continent': 'Africa', 'name': 'Ethiopia', 'capital': 'Addis Ababa'},\n",
    "{'timezones': ['Europe/Helsinki'], 'code': 'FI', 'continent': 'Europe', 'name': 'Finland', 'capital': 'Helsinki'},\n",
    "{'timezones': ['Pacific/Fiji'], 'code': 'FJ', 'continent': 'Pacific', 'name': 'Fiji', 'capital': 'Fiji'},\n",
    "{'timezones': ['Europe/Paris'], 'code': 'FR', 'continent': 'Europe', 'name': 'France', 'capital': 'Paris'},\n",
    "{'timezones': ['Africa/Libreville'], 'code': 'GA', 'continent': 'Africa', 'name': 'Gabon', 'capital': 'Libreville'},\n",
    "{'timezones': ['Asia/Tbilisi'], 'code': 'GE', 'continent': 'Asia', 'name': 'Georgia', 'capital': 'Tbilisi'},\n",
    "{'timezones': ['Africa/Accra'], 'code': 'GH', 'continent': 'Africa', 'name': 'Ghana', 'capital': 'Accra'},\n",
    "{'timezones': ['Africa/Banjul'], 'code': 'GM', 'continent': 'Africa', 'name': 'The Gambia', 'capital': 'Banjul'},\n",
    "{'timezones': ['Africa/Conakry'], 'code': 'GN', 'continent': 'Africa', 'name': 'Guinea', 'capital': 'Conakry'},\n",
    "{'timezones': ['Europe/Athens'], 'code': 'GR', 'continent': 'Europe', 'name': 'Greece', 'capital': 'Athens'},\n",
    "{'timezones': ['America/Guatemala'], 'code': 'GT', 'continent': 'America', 'name': 'Guatemala', 'capital': 'Guatemala'},\n",
    "{'timezones': ['America/Guatemala'], 'code': 'GT', 'continent': 'America', 'name': 'Haiti', 'capital': 'Port-au-Prince'},\n",
    "{'timezones': ['Africa/Bissau'], 'code': 'GW', 'continent': 'Africa', 'name': 'Guinea-Bissau', 'capital': 'Bissau'},\n",
    "{'timezones': ['America/Guyana'], 'code': 'GY', 'continent': 'America', 'name': 'Guyana', 'capital': 'Georgetown'},\n",
    "{'timezones': ['America/Tegucigalpa'], 'code': 'HN', 'continent': 'America', 'name': 'Honduras', 'capital': 'Tegucigalpa'},\n",
    "{'timezones': ['Europe/Budapest'], 'code': 'HU', 'continent': 'Europe', 'name': 'Hungary', 'capital': 'Budapest'},\n",
    "{'timezones': ['Asia/Jakarta', 'Asia/Pontianak', 'Asia/Makassar', 'Asia/Jayapura'], 'code': 'ID', 'continent': 'Asia', 'name': 'Indonesia', 'capital': 'Jakarta'},\n",
    "{'timezones': ['Europe/Dublin'], 'code': 'IE', 'continent': 'Europe', 'name': 'Republic of Ireland', 'capital': 'Dublin'},\n",
    "{'timezones': ['Asia/Jerusalem'], 'code': 'IL', 'continent': 'Asia', 'name': 'Israel', 'capital': 'Jerusalem'},\n",
    "{'timezones': ['Asia/Calcutta'], 'code': 'IN', 'continent': 'Asia', 'name': 'India', 'capital': 'Calcutta'},\n",
    "{'timezones': ['Asia/Baghdad'], 'code': 'IQ', 'continent': 'Asia', 'name': 'Iraq', 'capital': 'Baghdad'},\n",
    "{'timezones': ['Asia/Tehran'], 'code': 'IR', 'continent': 'Asia', 'name': 'Iran', 'capital': 'Tehran'},\n",
    "{'timezones': ['Atlantic/Reykjavik'], 'code': 'IS', 'continent': 'Europe', 'name': 'Iceland', 'capital': 'Iceland'},\n",
    "{'timezones': ['Europe/Rome'], 'code': 'IT', 'continent': 'Europe', 'name': 'Italy', 'capital': 'Rome'},\n",
    "{'timezones': ['America/Jamaica'], 'code': 'JM', 'continent': 'America', 'name': 'Jamaica', 'capital': 'St_Thomas'},\n",
    "{'timezones': ['Asia/Amman'], 'code': 'JO', 'continent': 'Asia', 'name': 'Jordan', 'capital': 'Amman'},\n",
    "{'timezones': ['Asia/Tokyo'], 'code': 'JP', 'continent': 'Asia', 'name': 'Japan', 'capital': 'Tokyo'},\n",
    "{'timezones': ['Africa/Nairobi'], 'code': 'KE', 'continent': 'Africa', 'name': 'Kenya', 'capital': 'Nairobi'},\n",
    "{'timezones': ['Asia/Bishkek'], 'code': 'KG', 'continent': 'Asia', 'name': 'Kyrgyzstan', 'capital': 'Bishkek'},\n",
    "{'timezones': ['Pacific/Tarawa', 'Pacific/Enderbury', 'Pacific/Kiritimati'], 'code': 'KI', 'continent': 'Oceania', 'name': 'Kiribati', 'capital': 'Tarawa'},\n",
    "{'timezones': ['Asia/Pyongyang'], 'code': 'KP', 'continent': 'Asia', 'name': 'North Korea', 'capital': 'Pyongyang'},\n",
    "{'timezones': ['Asia/Seoul'], 'code': 'KR', 'continent': 'Asia', 'name': 'South Korea', 'capital': 'Seoul'},\n",
    "{'timezones': ['Asia/Kuwait'], 'code': 'KW', 'continent': 'Asia', 'name': 'Kuwait', 'capital': 'Kuwait'},\n",
    "{'timezones': ['Asia/Beirut'], 'code': 'LB', 'continent': 'Asia', 'name': 'Lebanon', 'capital': 'Beirut'},\n",
    "{'timezones': ['Europe/Vaduz'], 'code': 'LI', 'continent': 'Europe', 'name': 'Liechtenstein', 'capital': 'Vaduz'},\n",
    "{'timezones': ['Africa/Monrovia'], 'code': 'LR', 'continent': 'Africa', 'name': 'Liberia', 'capital': 'Monrovia'},\n",
    "{'timezones': ['Africa/Maseru'], 'code': 'LS', 'continent': 'Africa', 'name': 'Lesotho', 'capital': 'Maseru'},\n",
    "{'timezones': ['Europe/Vilnius'], 'code': 'LT', 'continent': 'Europe', 'name': 'Lithuania', 'capital': 'Vilnius'},\n",
    "{'timezones': ['Europe/Luxembourg'], 'code': 'LU', 'continent': 'Europe', 'name': 'Luxembourg', 'capital': 'Luxembourg City'},\n",
    "{'timezones': ['Europe/Riga'], 'code': 'LV', 'continent': 'Europe', 'name': 'Latvia', 'capital': 'Riga'},\n",
    "{'timezones': ['Africa/Tripoli'], 'code': 'LY', 'continent': 'Africa', 'name': 'Libya', 'capital': 'Tripoli'},\n",
    "{'timezones': ['Indian/Antananarivo'], 'code': 'MG', 'continent': 'Indian', 'name': 'Madagascar', 'capital': 'Antananarivo'},\n",
    "{'timezones': ['Pacific/Majuro', 'Pacific/Kwajalein'], 'code': 'MH', 'continent': 'Oceania', 'name': 'Marshall Islands', 'capital': 'Majuro'},\n",
    "{'timezones': ['Europe/Skopje'], 'code': 'MK', 'continent': 'Europe', 'name': 'Macedonia', 'capital': 'Skopje'},\n",
    "{'timezones': ['Africa/Bamako'], 'code': 'ML', 'continent': 'Africa', 'name': 'Mali', 'capital': 'Bamako'},\n",
    "{'timezones': ['Asia/Rangoon'], 'code': 'MM', 'continent': 'Asia', 'name': 'Myanmar', 'capital': 'Naypyidaw'},\n",
    "{'timezones': ['Asia/Ulaanbaatar', 'Asia/Hovd', 'Asia/Choibalsan'], 'code': 'MN', 'continent': 'Asia', 'name': 'Mongolia', 'capital': 'Ulaanbaatar'},\n",
    "{'timezones': ['Africa/Nouakchott'], 'code': 'MR', 'continent': 'Africa', 'name': 'Mauritania', 'capital': 'Nouakchott'},\n",
    "{'timezones': ['Europe/Malta'], 'code': 'MT', 'continent': 'Europe', 'name': 'Malta', 'capital': 'Valletta'},\n",
    "{'timezones': ['Indian/Mauritius'], 'code': 'MU', 'continent': 'Africa', 'name': 'Mauritius', 'capital': 'Port Louis'},\n",
    "{'timezones': ['Indian/Maldives'], 'code': 'MV', 'continent': 'Asia', 'name': 'Maldives', 'capital': 'Male'},\n",
    "{'timezones': ['Africa/Blantyre'], 'code': 'MW', 'continent': 'Africa', 'name': 'Malawi', 'capital': 'Lusaka'},\n",
    "{'timezones': ['America/Mexico_City', 'America/Cancun', 'America/Merida', 'America/Monterrey', 'America/Mazatlan', 'America/Chihuahua', 'America/Hermosillo', 'America/Tijuana'], 'code': 'MX', 'continent': 'America', 'name': 'Mexico', 'capital': 'Mexico City'},\n",
    "{'timezones': ['Asia/Kuala_Lumpur', 'Asia/Kuching'], 'code': 'MY', 'continent': 'Asia', 'name': 'Malaysia', 'capital': 'Kuala Lumpur'},\n",
    "{'timezones': ['Africa/Maputo'], 'code': 'MZ', 'continent': 'Africa', 'name': 'Mozambique', 'capital': 'Maputo'},\n",
    "{'timezones': ['Africa/Windhoek'], 'code': 'NA', 'continent': 'Africa', 'name': 'Namibia', 'capital': 'Windhoek'},\n",
    "{'timezones': ['Africa/Niamey'], 'code': 'NE', 'continent': 'Africa', 'name': 'Niger', 'capital': 'Niamey'},\n",
    "{'timezones': ['Africa/Lagos'], 'code': 'NG', 'continent': 'Africa', 'name': 'Nigeria', 'capital': 'Lagos'},\n",
    "{'timezones': ['America/Managua'], 'code': 'NI', 'continent': 'America', 'name': 'Nicaragua', 'capital': 'Managua'},\n",
    "{'timezones': ['Europe/Amsterdam'], 'code': 'NL', 'continent': 'Europe', 'name': 'Kingdom of the Netherlands', 'capital': 'Amsterdam'},\n",
    "{'timezones': ['Europe/Oslo'], 'code': 'NO', 'continent': 'Europe', 'name': 'Norway', 'capital': 'Oslo'},\n",
    "{'timezones': ['Asia/Katmandu'], 'code': 'NP', 'continent': 'Asia', 'name': 'Nepal', 'capital': 'Kathmandu'},\n",
    "{'timezones': ['Pacific/Nauru'], 'code': 'NR', 'continent': 'Oceania', 'name': 'Nauru', 'capital': 'Yaren'},\n",
    "{'timezones': ['Pacific/Auckland', 'Pacific/Chatham'], 'code': 'NZ', 'continent': 'Oceania', 'name': 'New Zealand', 'capital': 'Auckland'},\n",
    "{'timezones': ['Asia/Muscat'], 'code': 'OM', 'continent': 'Asia', 'name': 'Oman', 'capital': 'Muscat'},\n",
    "{'timezones': ['America/Panama'], 'code': 'PA', 'continent': 'America', 'name': 'Panama', 'capital': 'Panama'},\n",
    "{'timezones': ['America/Lima'], 'code': 'PE', 'continent': 'America', 'name': 'Peru', 'capital': 'Lima'},\n",
    "{'timezones': ['Pacific/Port_Moresby'], 'code': 'PG', 'continent': 'Oceania', 'name': 'Papua New Guinea', 'capital': 'Port_Moresby'},\n",
    "{'timezones': ['Asia/Manila'], 'code': 'PH', 'continent': 'Asia', 'name': 'Philippines', 'capital': 'Manila'},\n",
    "{'timezones': ['Asia/Karachi'], 'code': 'PK', 'continent': 'Asia', 'name': 'Pakistan', 'capital': 'Karachi'},\n",
    "{'timezones': ['Europe/Warsaw'], 'code': 'PL', 'continent': 'Europe', 'name': 'Poland', 'capital': 'Warsaw'},\n",
    "{'timezones': ['Europe/Lisbon', 'Atlantic/Madeira', 'Atlantic/Azores'], 'code': 'PT', 'continent': 'Europe', 'name': 'Portugal', 'capital': 'Lisbon'},\n",
    "{'timezones': ['Pacific/Palau'], 'code': 'PW', 'continent': 'Oceania', 'name': 'Palau', 'capital': 'Ngerulmud'},\n",
    "{'timezones': ['America/Asuncion'], 'code': 'PY', 'continent': 'America', 'name': 'Paraguay', 'capital': 'Asuncicion'},\n",
    "{'timezones': ['Asia/Qatar'], 'code': 'QA', 'continent': 'Asia', 'name': 'Qatar', 'capital': 'Qatar'},\n",
    "{'timezones': ['Europe/Bucharest'], 'code': 'RO', 'continent': 'Europe', 'name': 'Romania', 'capital': 'Bucharest'},\n",
    "{'timezones': ['Europe/Kaliningrad', 'Europe/Moscow'], 'code': 'RU', 'continent': 'Europe', 'name': 'Russia', 'capital': 'Moscow'},\n",
    "{'timezones': ['Europe/Kaliningrad', 'Europe/Moscow'], 'code': 'RU', 'continent': 'Europe', 'name': 'Russian Federation', 'capital': 'Moscow'},\n",
    "\n",
    "{'timezones': ['Africa/Kigali'], 'code': 'RW', 'continent': 'Africa', 'name': 'Rwanda', 'capital': 'Kigali'},\n",
    "{'timezones': ['Asia/Riyadh'], 'code': 'SA', 'continent': 'Asia', 'name': 'Saudi Arabia', 'capital': 'Riyadh'},\n",
    "{'timezones': ['Pacific/Guadalcanal'], 'code': 'SB', 'continent': 'Oceania', 'name': 'Solomon Islands', 'capital': 'Honiara'},\n",
    "{'timezones': ['Indian/Mahe'], 'code': 'SC', 'continent': 'Africa', 'name': 'Seychelles', 'capital': 'Victoria'},\n",
    "{'timezones': ['Africa/Khartoum'], 'code': 'SD', 'continent': 'Africa', 'name': 'Sudan', 'capital': 'Khartoum'},\n",
    "{'timezones': ['Europe/Stockholm'], 'code': 'SE', 'continent': 'Europe', 'name': 'Sweden', 'capital': 'Stockholm'},\n",
    "{'timezones': ['Asia/Singapore'], 'code': 'SG', 'continent': 'Asia', 'name': 'Singapore', 'capital': 'Singapore'},\n",
    "{'timezones': ['Europe/Ljubljana'], 'code': 'SI', 'continent': 'Europe', 'name': 'Slovenia', 'capital': 'Ljubljana'},\n",
    "{'timezones': ['Europe/Bratislava'], 'code': 'SK', 'continent': 'Europe', 'name': 'Slovakia', 'capital': 'Bratislava'},\n",
    "{'timezones': ['Africa/Freetown'], 'code': 'SL', 'continent': 'Africa', 'name': 'Sierra Leone', 'capital': 'Freetown'},\n",
    "{'timezones': ['Europe/San_Marino'], 'code': 'SM', 'continent': 'Europe', 'name': 'San Marino', 'capital': 'San Marino'},\n",
    "{'timezones': ['Africa/Dakar'], 'code': 'SN', 'continent': 'Africa', 'name': 'Senegal', 'capital': 'Dakar'},\n",
    "{'timezones': ['Africa/Mogadishu'], 'code': 'SO', 'continent': 'Africa', 'name': 'Somalia', 'capital': 'Mogadishu'},\n",
    "{'timezones': ['America/Paramaribo'], 'code': 'SR', 'continent': 'America', 'name': 'Suriname', 'capital': 'Paramaribo'},\n",
    "{'timezones': ['Africa/Sao_Tome'], 'code': 'ST', 'continent': 'Africa', 'name': 'Sao Tome and Principe', 'capital': 'Sao Tome'},\n",
    "{'timezones': ['Asia/Damascus'], 'code': 'SY', 'continent': 'Asia', 'name': 'Syria', 'capital': 'Damascus'},\n",
    "{'timezones': ['Africa/Lome'], 'code': 'TG', 'continent': 'Africa', 'name': 'Togo', 'capital': 'Lome'},\n",
    "{'timezones': ['Asia/Bangkok'], 'code': 'TH', 'continent': 'Asia', 'name': 'Thailand', 'capital': 'Bangkok'},\n",
    "{'timezones': ['Asia/Dushanbe'], 'code': 'TJ', 'continent': 'Asia', 'name': 'Tajikistan', 'capital': 'Dushanbe'},\n",
    "{'timezones': ['Asia/Ashgabat'], 'code': 'TM', 'continent': 'Asia', 'name': 'Turkmenistan', 'capital': 'Ashgabat'},\n",
    "{'timezones': ['Africa/Tunis'], 'code': 'TN', 'continent': 'Africa', 'name': 'Tunisia', 'capital': 'Tunis'},\n",
    "{'timezones': ['Pacific/Tongatapu'], 'code': 'TO', 'continent': 'Oceania', 'name': 'Tonga', 'capital': 'Nukualofa'},\n",
    "{'timezones': ['Europe/Istanbul'], 'code': 'TR', 'continent': 'Asia', 'name': 'Turkey', 'capital': 'Istanbul'},\n",
    "{'timezones': ['America/Port_of_Spain'], 'code': 'TT', 'continent': 'America', 'name': 'Trinidad and Tobago', 'capital': 'Port of Spain'},\n",
    "{'timezones': ['Pacific/Funafuti'], 'code': 'TV', 'continent': 'Oceania', 'name': 'Tuvalu', 'capital': 'Funafuti'},\n",
    "{'timezones': ['Africa/Dar_es_Salaam'], 'code': 'TZ', 'continent': 'Africa', 'name': 'Tanzania', 'capital': 'Dar_es_Salam'},\n",
    "{'timezones': ['Europe/Kiev', 'Europe/Uzhgorod', 'Europe/Zaporozhye', 'Europe/Simferopol'], 'code': 'UA', 'continent': 'Europe', 'name': 'Ukraine', 'capital': 'Kiev'},\n",
    "{'timezones': ['Africa/Kampala'], 'code': 'UG', 'continent': 'Africa', 'name': 'Uganda', 'capital': 'Kampala'},\n",
    "{'timezones': ['America/Nome'], 'code': 'US', 'continent': 'US', 'name': 'United States', 'capital': 'Central'},\n",
    "{'timezones': ['America/Montevideo'], 'code': 'UY', 'continent': 'America', 'name': 'Uruguay', 'capital': 'Montevideo'},\n",
    "{'timezones': ['Asia/Samarkand', 'Asia/Tashkent'], 'code': 'UZ', 'continent': 'Asia', 'name': 'Uzbekistan', 'capital': 'Tashkent'},\n",
    "{'timezones': ['Europe/Vatican'], 'code': 'VA', 'continent': 'Europe', 'name': 'Vatican City', 'capital': 'Vatican City'},\n",
    "{'timezones': ['America/Caracas'], 'code': 'VE', 'continent': 'America', 'name': 'Venezuela', 'capital': 'Caracas'},\n",
    "{'timezones': ['Asia/Saigon'], 'code': 'VN', 'continent': 'Asia', 'name': 'Vietnam', 'capital': 'Phnom_Penh'},\n",
    "{'timezones': ['Pacific/Efate'], 'code': 'VU', 'continent': 'Oceania', 'name': 'Vanuatu', 'capital': 'Port Vila'},\n",
    "{'timezones': ['Asia/Aden'], 'code': 'YE', 'continent': 'Asia', 'name': 'Yemen', 'capital': \"Aden\"},\n",
    "{'timezones': ['Africa/Lusaka'], 'code': 'ZM', 'continent': 'Africa', 'name': 'Zambia', 'capital': 'Lusaka'},\n",
    "{'timezones': ['Africa/Harare'], 'code': 'ZW', 'continent': 'Africa', 'name': 'Zimbabwe', 'capital': 'Harare'},\n",
    "{'timezones': ['Africa/Algiers'], 'code': 'DZ', 'continent': 'Africa', 'name': 'Algeria', 'capital': 'Algiers'},\n",
    "{'timezones': ['Europe/Sarajevo'], 'code': 'BA', 'continent': 'Europe', 'name': 'Bosnia and Herzegovina', 'capital': 'Sarajevo'},\n",
    "{'timezones': ['Asia/Phnom_Penh'], 'code': 'KH', 'continent': 'Asia', 'name': 'Cambodia', 'capital': 'Phnom Penh'},\n",
    "{'timezones': ['Africa/Bangui'], 'code': 'CF', 'continent': 'Africa', 'name': 'Central African Republic', 'capital': 'Bangui'},\n",
    "{'timezones': ['Africa/Ndjamena'], 'code': 'TD', 'continent': 'Africa', 'name': 'Chad', 'capital': \"Ndjamena\"},\n",
    "{'timezones': ['Indian/Comoro'], 'code': 'KM', 'continent': 'Africa', 'name': 'Comoros', 'capital': 'Moroni'},\n",
    "{'timezones': ['Europe/Zagreb'], 'code': 'HR', 'continent': 'Europe', 'name': 'Croatia', 'capital': 'Zagreb'},\n",
    "{'timezones': ['Asia/Dili'], 'code': 'TL', 'continent': 'Asia', 'name': 'East Timor', 'capital': 'Dili'},\n",
    "{'timezones': ['America/El_Salvador'], 'code': 'SV', 'continent': 'America', 'name': 'El Salvador', 'capital': 'Guatemala'},\n",
    "{'timezones': ['Africa/Malabo'], 'code': 'GQ', 'continent': 'Africa', 'name': 'Equatorial Guinea', 'capital': 'Malabo'},\n",
    "{'timezones': ['America/Grenada'], 'code': 'GD', 'continent': 'America', 'name': 'Grenada', 'capital': \"St. George's\"},\n",
    "{'timezones': ['Asia/Almaty', 'Asia/Qyzylorda', 'Asia/Aqtobe', 'Asia/Aqtau', 'Asia/Oral'], 'code': 'KZ', 'continent': 'Asia', 'name': 'Kazakhstan', 'capital': 'Tashkent'},\n",
    "{'timezones': ['Asia/Vientiane'], 'code': 'LA', 'continent': 'Asia', 'name': 'Laos', 'capital': 'Vientiane'},\n",
    "{'timezones': ['Pacific/Truk', 'Pacific/Ponape', 'Pacific/Kosrae'], 'code': 'FM', 'continent': 'Oceania', 'name': 'Federated States of Micronesia', 'capital': 'Palikir'},\n",
    "{'timezones': ['Europe/Chisinau'], 'code': 'MD', 'continent': 'Europe', 'name': 'Moldova', 'capital': 'Chisinau'},\n",
    "{'timezones': ['Europe/Monaco'], 'code': 'MC', 'continent': 'Europe', 'name': 'Monaco', 'capital': 'Monaco'},\n",
    "{'timezones': ['Europe/Podgorica'], 'code': 'ME', 'continent': 'Europe', 'name': 'Montenegro', 'capital': 'Podgorica'},\n",
    "{'timezones': ['Africa/Casablanca'], 'code': 'MA', 'continent': 'Africa', 'name': 'Morocco', 'capital': 'Lagos'},\n",
    "{'timezones': ['America/St_Kitts'], 'code': 'KN', 'continent': 'America', 'name': 'Saint Kitts and Nevis', 'capital': 'Basseterre'},\n",
    "{'timezones': ['America/St_Lucia'], 'code': 'LC', 'continent': 'America', 'name': 'Saint Lucia', 'capital': 'Castries'},\n",
    "{'timezones': ['America/St_Vincent'], 'code': 'VC', 'continent': 'America', 'name': 'Saint Vincent and the Grenadines', 'capital': 'Kingstown'},\n",
    "{'timezones': ['Pacific/Apia'], 'code': 'WS', 'continent': 'Pacific', 'name': 'Samoa', 'capital': 'Samoa'},\n",
    "{'timezones': ['Europe/Belgrade'], 'code': 'RS', 'continent': 'Europe', 'name': 'Serbia', 'capital': 'Belgrade'},\n",
    "{'timezones': ['Africa/Johannesburg'], 'code': 'ZA', 'continent': 'Africa', 'name': 'South Africa', 'capital': 'Johannesburg'},\n",
    "{'timezones': ['Europe/Madrid', 'Africa/Ceuta', 'Atlantic/Canary'], 'code': 'ES', 'continent': 'Europe', 'name': 'Spain', 'capital': 'Madrid'},\n",
    "{'timezones': ['Asia/Colombo'], 'code': 'LK', 'continent': 'Asia', 'name': 'Sri Lanka', 'capital': 'Sri Jayewardenepura Kotte'},\n",
    "{'timezones': ['Africa/Mbabane'], 'code': 'SZ', 'continent': 'Africa', 'name': 'Swaziland', 'capital': 'Mbabane'},\n",
    "{'timezones': ['Europe/Zurich'], 'code': 'CH', 'continent': 'Europe', 'name': 'Switzerland', 'capital': 'Zurich'},\n",
    "{'timezones': ['Asia/Dubai'], 'code': 'AE', 'continent': 'Asia', 'name': 'United Arab Emirates', 'capital': 'Dubai'},\n",
    "{'timezones': ['Europe/London'], 'code': 'GB', 'continent': 'Europe', 'name': 'United Kingdom', 'capital': 'London'},\n",
    "]"
   ]
  },
  {
   "cell_type": "code",
   "execution_count": null,
   "metadata": {},
   "outputs": [],
   "source": [
    "country_capital_city_tz = dict()\n",
    "[country_capital_city_tz.update({name['name']:name['continent'].split()[-1]+\"/\"+\"_\".join(name['capital'].split(\" \")).replace(\",\",\"\")}) for name in countries_info]"
   ]
  },
  {
   "cell_type": "code",
   "execution_count": null,
   "metadata": {},
   "outputs": [],
   "source": [
    "country_capital_city_tz['Turkey']"
   ]
  },
  {
   "cell_type": "code",
   "execution_count": null,
   "metadata": {},
   "outputs": [],
   "source": [
    "country_capital_city_tz['Malawi']"
   ]
  },
  {
   "cell_type": "code",
   "execution_count": null,
   "metadata": {},
   "outputs": [],
   "source": [
    "country_capital_city_tz['United States']"
   ]
  },
  {
   "cell_type": "code",
   "execution_count": null,
   "metadata": {},
   "outputs": [],
   "source": [
    "tz_exceptions = {'Albania': 'Europe/Skopje',\n",
    " 'Andorra': 'Europe/Madrid',\n",
    " 'Antigua and Barbuda': 'America/Antigua',\n",
    " 'Australia': 'Australia/Sydney',\n",
    " 'Bahrain': 'Asia/Bahrain',\n",
    " 'Barbados': 'America/Barbados',\n",
    " 'Belize': 'America/Belize',\n",
    " 'Bolivia': 'America/La_Paz',\n",
    " 'Brazil': 'America/Sao_Paulo',\n",
    " 'Brunei Darussalam': 'Asia/Brunei',\n",
    " \"C\\\\u00f4te d'Ivoire\": 'Africa/Abidjan',\n",
    " 'Cameroon': 'Africa/Lagos',\n",
    " 'Canada': 'Canada/Eastern',\n",
    " 'Cape Verde': 'Atlantic/Cape_Verde',\n",
    " 'Chad': 'Africa/Ndjamena',\n",
    " 'Comoros': 'Indian/Comoro',\n",
    " 'Costa Rica': 'America/Costa_Rica',\n",
    " 'Djibouti': 'Africa/Djibouti',\n",
    " 'Dominica': 'America/Dominica',\n",
    " 'Ecuador': 'America/Guatemala',\n",
    " 'El Salvador': 'America/Guatemala',\n",
    " 'Federated States of Micronesia': 'US/Hawaii',\n",
    " 'Fiji': 'Pacific/Fiji',\n",
    " 'Grenada': 'America/Grenada',\n",
    " 'Guatemala': 'America/Guatemala',\n",
    " 'Guyana': 'America/Guyana',\n",
    " 'Iceland': 'Iceland',\n",
    " 'India': 'Asia/Calcutta',\n",
    " 'Jamaica': 'America/St_Thomas',\n",
    " 'Kazakhstan': 'Asia/Tashkent',\n",
    " 'Kiribati': 'Pacific/Kiritimati',\n",
    " 'Kuwait': 'Asia/Kuwait',\n",
    " 'Luxembourg': 'Europe/Luxembourg',\n",
    " 'Madagascar': 'Indian/Antananarivo',\n",
    " 'Malawi': 'Africa/Lusaka',\n",
    " 'Maldives': 'Indian/Maldives',\n",
    " 'Malta': 'Europe/Malta',\n",
    " 'Marshall Islands': '',\n",
    " 'Mauritius': 'Indian/Mauritius',\n",
    " 'Morocco': 'Africa/Lagos',\n",
    " 'Myanmar': 'Asia/Rangoon',\n",
    " 'Nauru': 'Pacific/Nauru',\n",
    " 'New Zealand': 'Pacific/Auckland',\n",
    " 'Nigeria': 'Africa/Lagos',\n",
    " 'Pakistan': 'Asia/Karachi',\n",
    " 'Palau': 'Pacific/Palau',\n",
    " 'Panama': 'America/Panama',\n",
    " 'Papua New Guinea': 'Pacific/Port_Moresby',\n",
    " 'Paraguay': 'America/Asuncion',\n",
    " \"People's Republic of China\": 'Asia/Shanghai',\n",
    " 'Qatar': 'Asia/Qatar',\n",
    " 'Saint Kitts and Nevis': 'America/St_Kitts',\n",
    " 'Saint Lucia': 'America/St_Lucia',\n",
    " 'Saint Vincent and the Grenadines': 'America/St_Vincent',\n",
    " 'Samoa': 'Pacific/Samoa',\n",
    " 'Seychelles': 'Indian/Mauritius',\n",
    " 'Solomon Islands': 'Pacific/Midway',\n",
    " 'South Africa': 'Africa/Johannesburg',\n",
    " 'Sri Lanka': 'Asia/Calcutta',\n",
    " 'Switzerland': 'Europe/Zurich',\n",
    " 'Tanzania': 'Africa/Dar_es_Salaam',\n",
    " 'Tonga': 'Pacific/Tongatapu',\n",
    " 'Turkey': 'Asia/Istanbul',\n",
    " 'Tuvalu': 'Pacific/Funafuti',\n",
    " 'United Arab Emirates': 'Asia/Dubai',\n",
    " 'United States': 'US/Central',\n",
    " 'Vanuatu': 'Pacific/Honolulu',\n",
    " 'Vatican City': 'Europe/Vatican',\n",
    " 'Vietnam': 'Asia/Phnom_Penh',\n",
    " 'Yemen': 'Asia/Aden'}"
   ]
  },
  {
   "cell_type": "code",
   "execution_count": null,
   "metadata": {},
   "outputs": [],
   "source": [
    "for country in tz_exceptions.keys():\n",
    "    country_capital_city_tz[country] = tz_exceptions[country]"
   ]
  },
  {
   "cell_type": "code",
   "execution_count": null,
   "metadata": {},
   "outputs": [],
   "source": [
    "country_capital_city_tz['Turkey']"
   ]
  },
  {
   "cell_type": "code",
   "execution_count": null,
   "metadata": {},
   "outputs": [],
   "source": [
    "country_capital_city_tz['Malawi']"
   ]
  },
  {
   "cell_type": "code",
   "execution_count": null,
   "metadata": {},
   "outputs": [],
   "source": [
    "import json\n",
    "with open('country_capital_city_tz.json', 'w') as file:\n",
    "     file.write(json.dumps(country_capital_city_tz))"
   ]
  },
  {
   "cell_type": "code",
   "execution_count": null,
   "metadata": {},
   "outputs": [],
   "source": []
  },
  {
   "cell_type": "code",
   "execution_count": null,
   "metadata": {},
   "outputs": [],
   "source": [
    "!head country_capital_city_tz.json"
   ]
  },
  {
   "cell_type": "code",
   "execution_count": null,
   "metadata": {},
   "outputs": [],
   "source": []
  },
  {
   "cell_type": "markdown",
   "metadata": {},
   "source": [
    "### Add TimeZone information for each session )"
   ]
  },
  {
   "cell_type": "markdown",
   "metadata": {},
   "source": [
    "### SWITCHING TO Map Reduce"
   ]
  },
  {
   "cell_type": "code",
   "execution_count": null,
   "metadata": {},
   "outputs": [],
   "source": [
    "import ast\n",
    "str_ = \"'\\\\xe5\\\\x9d\\\\x82\\\\xe6\\\\x9c\\\\xac\\\\xe9\\\\xbe\\\\x8d\\\\xe4\\\\xb8\\\\x80'\"\n",
    "str_[1:-1]"
   ]
  },
  {
   "cell_type": "code",
   "execution_count": null,
   "metadata": {},
   "outputs": [],
   "source": [
    "%%writefile MRTranslate.py\n",
    "\n",
    "import os\n",
    "\n",
    "import mrjob\n",
    "from mrjob.job import MRJob\n",
    "from mrjob.step import MRStep\n",
    "from mrjob import step\n",
    "from mrjob.protocol import RawProtocol\n",
    "\n",
    "from collections import defaultdict, Counter\n",
    "\n",
    "import re\n",
    "import sys\n",
    "import json\n",
    "\n",
    "import datetime\n",
    "from datetime import datetime\n",
    "from dateutil import parser\n",
    "from dateutil import tz\n",
    "import pytz\n",
    "\n",
    "import ast\n",
    "\n",
    "#import goslate \n",
    "#import translate\n",
    "from googletrans import Translator\n",
    "\n",
    "import requests\n",
    "\n",
    "\n",
    "class MRTranslate(MRJob):\n",
    "\n",
    "    def __init__(self, *args, **kwargs):\n",
    "        super(MRTranslate, self).__init__(*args, **kwargs)\n",
    "        self.min_line_length = 12\n",
    "        self.translator   = Translator()\n",
    "        self.day_of_week  = {0:\"Monday\",1:\"Tuesday\",2:\"Wednesday\",3:\"Thursday\",4:\"Friday\",5:\"Saturday\",6:\"Sunday\"}\n",
    "        self.time_of_day  = {\"Night\":[0,1,2,3,4], \"Dawn\":[5,6],\"Morning\":[7,8,9],\"LateMorning\":[10,11], \"Lunch\":[12,13],\"Afternoon\":[14,15,16],\"LateAfternoon\":[17,18],\"Evening\":[19,20,21],\"LateEvening\":[22,23]}\n",
    "        self.exceptions   = ['Russian Federation', 'Russia', 'Turkey', 'Netherlands', 'China', 'Peoples Republic of China']\n",
    "    \n",
    "#    def configure_options(self):\n",
    "#        super(MRTranslate, self).configure_options()\n",
    "#        self.add_file_option('--tzFile', default='/user/w210/data/country_capital_city_tz.json', dest='tzFile')\n",
    "#        self.add_passthru_arg('--num-mappers',  default=10, type=\"int\",  dest=\"num_mappers\",  help=\"Number of mappers\")\n",
    "#        self.add_passthru_arg('--num-reducers', default=10, type=\"int\",  dest=\"num_reducers\", help=\"Number of reducers\")\n",
    "#        self.add_passthru_arg('--local_dir',    default='/user/hduser',  dest=\"local_dir\",    help=\"Working directory for user\")\n",
    "#        self.add_passthru_arg('--tmp_dir',      default='/user/hduser',  dest=\"tmp_dir\",      help=\"Temp directory for user\")                                    \n",
    "        \n",
    "    def configure_args(self):\n",
    "        super(MRTranslate, self).configure_args()\n",
    "        self.add_file_arg('--tzFile', default='/data_data/session_length/country_capital_city_tz.json', dest='tzFile')\n",
    "        self.add_passthru_arg('--num_mappers',  default=10,  dest=\"num_mappers\",  help=\"Number of mappers\")\n",
    "        self.add_passthru_arg('--num_reducers', default=10,  dest=\"num_reducers\", help=\"Number of reducers\")\n",
    "        self.add_passthru_arg('--local_dir',    default='/user/hduser',  dest=\"local_dir\",  help=\"Working directory for user\")\n",
    "        self.add_passthru_arg('--tmp_dir',      default='/user/hduser',  dest=\"tmp_dir\",    help=\"Temp directory for user\")\n",
    "        \n",
    "    def translate(self, text):\n",
    "        try:\n",
    "            result = self.translator.translate(text)\n",
    "        except:\n",
    "            result = \"\"\n",
    "        return result\n",
    "    \n",
    "    def utc_to_local(self, utc_timestamp, local_tz):\n",
    "        try:\n",
    "            local_dt = utc_timestamp.replace(tzinfo=pytz.utc).astimezone(local_tz)\n",
    "            #sys.stderr.write(\"LOCAL_DT:\"+repr(local_dt)+\"\\n\")\n",
    "            result = local_tz.normalize(local_dt)\n",
    "            #sys.stderr.write(\"RESULT ====> \"+repr(result)+\"\\n\")\n",
    "        except:\n",
    "            result = None\n",
    "        return result\n",
    "    \n",
    "    def get_time_of_day(self, hour):\n",
    "        for key in self.time_of_day.keys():\n",
    "            if hour in self.time_of_day[key]:\n",
    "                return key\n",
    "\n",
    "    def mapper_translate(self, _, line_):\n",
    "        \n",
    "        tzFile = str(self.options.tzFile) \n",
    "        \n",
    "        tz_dict = dict()\n",
    "        \n",
    "        #sys.stderr.write(\"About to OPEN tzFILE\"+\"\\n\")\n",
    "        \n",
    "        with open(tzFile,'r') as f:\n",
    "            \n",
    "            #sys.stderr.write(\"OPENED tzFILE\"+\"\\n\")\n",
    "            \n",
    "            lines     = f.readlines()\n",
    "            \n",
    "            tz_dict   = ast.literal_eval(lines[0])\n",
    "    \n",
    "        if len(line_) > self.min_line_length:\n",
    "            \n",
    "            line      = line_.split(\"\\t\")\n",
    "            user_id   = list(line)[0]\n",
    "            value     = [v.replace('\"','').strip() for v in line[1:]]\n",
    "            utc_time  = value[0][:-1]\n",
    "            traid     = value[1]\n",
    "            try:\n",
    "                #artname   = self.translator.translate(value[2]).text\n",
    "                artname   = value[2]\n",
    "            except:\n",
    "                artname   = value[2]\n",
    "            something = value[3]\n",
    "            try:\n",
    "                #tracname  = self.translator.translate(value[4]).text\n",
    "                tracname  = value[4]\n",
    "            except:\n",
    "                tracname  = value[4]\n",
    "            session_window = value[5]\n",
    "            gender    = value[6]\n",
    "            age       = value[7]\n",
    "            country   = value[8]\n",
    "            registered= value[9] \n",
    "            reg_date  = value[10]\n",
    "                \n",
    "            \n",
    "            if country == \"\":\n",
    "                country = \"United States\"\n",
    "            \n",
    "            try:\n",
    "                local_tz  = pytz.timezone(tz_dict[country])\n",
    "            except:\n",
    "                local_tz  = None\n",
    "            try:\n",
    "                utc    = datetime.strptime(utc_time, '%Y-%m-%dT%H:%M:%S')\n",
    "            except: \n",
    "                try:\n",
    "                    utc    = datetime.strptime(utc_time, '%Y-%m-%dT%H:%M')\n",
    "                except: \n",
    "                    if user_id == \"userid\":\n",
    "                        pass\n",
    "                    else:\n",
    "                        sys.stderr.write(\" UTC Exception:\\t\" + repr(str(utc_time)) + \" COUNTRY:  \"    + repr(str(country)) +\"\\n\")\n",
    "                        utc    = None\n",
    "                \n",
    "                utc    = None\n",
    "                \n",
    "            try:\n",
    "                event_time = self.utc_to_local(utc, local_tz)\n",
    "            except: \n",
    "                event_time = None\n",
    "                    \n",
    "            try:\n",
    "                time_diff  = event_time.utcoffset()\n",
    "                local_time = event_time + time_diff\n",
    "            except:\n",
    "                local_time = None\n",
    "                \n",
    "            try:\n",
    "                day_of_week = self.day_of_week[local_time.weekday()]\n",
    "            except:\n",
    "                day_of_week = None\n",
    "                    \n",
    "            try:\n",
    "                time_of_day = self.get_time_of_day(local_time.hour)\n",
    "            except:\n",
    "                time_of_day = None\n",
    "                    \n",
    "            #sys.stderr.write(\"\\n\" + \" utc_time: \" + repr(str(utc_time)) + \" traid:  \"    + repr(str(traid))     + \" artname: \"     + repr(str(artname)) +\"\\n\")\n",
    "            #sys.stderr.write(\" artname:  \" + repr(str(artname))  + \" something: \" + repr(str(something)) +  \"\\n\")\n",
    "            #sys.stderr.write(\" tracname: \" + repr(str(tracname)) + \" session_window: \" + repr(str(session_window)) + \" gender: \" + repr(str(gender)) + \"\\n\")\n",
    "            #sys.stderr.write(\" age: \"      + repr(str(age))      + \" country:\"   + repr(str(country))    + \" registered: \"  + repr(str(registered))  + \"\\n\")\n",
    "            \n",
    "            #if not time_of_day:\n",
    "            #    sys.stderr.write(\"\\n reg_date: \" + repr(str(reg_date)) + \" local_tz: \" + repr(str(local_tz))   + \" local_time: \"  + str(local_time) + \" time_of_day: \" + str(time_of_day) + \" day_of_week: \" +  str(day_of_week)+\"\\n\")\n",
    "            #    sys.stderr.write(\"\\n============================================================================================================================\\n\")\n",
    "\n",
    "                    \n",
    "            value_ = []\n",
    "                \n",
    "            for x in [utc_time, traid, artname, something, tracname, session_window, gender, age, country, registered, reg_date, local_tz, local_time, time_of_day, day_of_week]:\n",
    "                try:\n",
    "                    value_.append(repr(x))\n",
    "                except:\n",
    "                    value_.append(\"\")\n",
    "                        \n",
    "            #sys.stderr.write(\"\\t\".join([repr(x) for x in value_]))\n",
    "            \n",
    "            if user_id == \"userid\":\n",
    "                pass\n",
    "            else:\n",
    "                try:\n",
    "                    yield user_id, value_\n",
    "\n",
    "                except:\n",
    "                    yield user_id, None\n",
    "        \n",
    "        \n",
    "\n",
    "\n",
    "\n",
    "\n",
    "    def steps(self):\n",
    "        \n",
    "        JOBCONF = {\n",
    "            'mapreduce.job.maps': self.options.num_mappers,\n",
    "            'mapreduce.job.reduces': self.options.num_reducers,\n",
    "            'mapreduce.partition.keypartitioner.options': '-k1',\n",
    "            'mapreduce.output.key.comparator.class': 'org.apache.hadoop.mapred.lib.KeyFieldBasedComparator',\n",
    "            'mapreduce.text.key.comparator.options': '-k1',\n",
    "            'mapreduce.map.memory.mb':40960,\n",
    "            'mapreduce.reduce.memory.mb':40960,\n",
    "            'mapreduce.map.java.opts':'-Xmx30720m',\n",
    "            'mapreduce.reduce.java.opts':'-Xmx61440m'\n",
    "        }\n",
    "        JOBCONF1 = {\n",
    "            'mapreduce.job.maps': self.options.num_mappers,\n",
    "            'mapred.reduce.tasks': self.options.num_reducers,\n",
    "            'mapreduce.partition.keypartitioner.options': '-k1',\n",
    "            'mapreduce.output.key.comparator.class': 'org.apache.hadoop.mapred.lib.KeyFieldBasedComparator',\n",
    "            'mapreduce.text.key.comparator.options': '-k1',\n",
    "            'mapreduce.map.memory.mb':40960,\n",
    "            'mapreduce.reduce.memory.mb':40960,\n",
    "            'mapreduce.map.java.opts':'-Xmx30720m',\n",
    "            'mapreduce.reduce.java.opts':'-Xmx61440m'\n",
    "        }\n",
    "        \n",
    "        return [MRStep(mapper=self.mapper_translate,\n",
    "                       jobconf=JOBCONF)]\n",
    "       \n",
    "\n",
    "if __name__ == '__main__':\n",
    "    MRTranslate.run()"
   ]
  },
  {
   "cell_type": "code",
   "execution_count": null,
   "metadata": {},
   "outputs": [],
   "source": [
    "source_file = '/data_data/session_length/data/Session_data.csv'"
   ]
  },
  {
   "cell_type": "code",
   "execution_count": null,
   "metadata": {},
   "outputs": [],
   "source": [
    "!tail {source_file}"
   ]
  },
  {
   "cell_type": "code",
   "execution_count": null,
   "metadata": {},
   "outputs": [],
   "source": []
  },
  {
   "cell_type": "code",
   "execution_count": null,
   "metadata": {},
   "outputs": [],
   "source": [
    "import MRTranslate\n",
    "reload(MRTranslate)\n",
    "\n",
    "temp_list = []\n",
    "\n",
    "def myJob(source_file):\n",
    "    mr_job = MRTranslate.MRTranslate(args=[source_file])\n",
    "    with mr_job.make_runner() as runner:\n",
    "        runner.run()\n",
    "        for line in runner.stream_output():\n",
    "            key, value = mr_job.parse_output_line(line)\n",
    "            temp_list.append([key, value])\n",
    "        return temp_list"
   ]
  },
  {
   "cell_type": "code",
   "execution_count": null,
   "metadata": {},
   "outputs": [],
   "source": [
    "output_list = myJob(source_file)\n",
    "output_ALL_df   = pd.Series(output_list)"
   ]
  },
  {
   "cell_type": "code",
   "execution_count": null,
   "metadata": {},
   "outputs": [],
   "source": [
    "output_ALL_df.head()"
   ]
  },
  {
   "cell_type": "code",
   "execution_count": null,
   "metadata": {},
   "outputs": [],
   "source": [
    "!rm session_with_timezone_u4.csv"
   ]
  },
  {
   "cell_type": "code",
   "execution_count": null,
   "metadata": {},
   "outputs": [],
   "source": [
    "output_ALL_df.to_csv(\"session_with_timezone_ALL.csv\", sep='@' , encoding='utf-8')"
   ]
  },
  {
   "cell_type": "code",
   "execution_count": null,
   "metadata": {},
   "outputs": [],
   "source": [
    "!head session_with_timezone_u4.csv"
   ]
  },
  {
   "cell_type": "code",
   "execution_count": null,
   "metadata": {},
   "outputs": [],
   "source": []
  },
  {
   "cell_type": "code",
   "execution_count": null,
   "metadata": {},
   "outputs": [],
   "source": [
    "!cat data/Session_data_100k.csv | grep user_000004"
   ]
  },
  {
   "cell_type": "code",
   "execution_count": null,
   "metadata": {},
   "outputs": [],
   "source": [
    "!tail data/Session_data_u4.csv"
   ]
  },
  {
   "cell_type": "code",
   "execution_count": null,
   "metadata": {},
   "outputs": [],
   "source": [
    "!python synNet/EDA/num_nodes.py -r hadoop \"/media/notebooks/HW7/synnet/synnet.txt\" --output-dir={NUM_NODES_OUT} --no-output\n",
    "\n",
    "#    -cmdenv tzFile='country_capital_city_tz.json' \\\n",
    "#    -cmdenv PATH={PATH}\n"
   ]
  },
  {
   "cell_type": "code",
   "execution_count": null,
   "metadata": {},
   "outputs": [],
   "source": [
    "!rm /data_data/session_length/session_data_1k.csv\n",
    "!rm -R /tmp/MRtranslate*\n",
    "!python MRTranslate.py /data_data/session_length/data/Session_data_1k.csv   --tzFile=/data_data/session_length/country_capital_city_tz.json --tmp_dir=/data_data/session_length/hadoop/tmp  > session_data_1k_is_holiday.tsv"
   ]
  },
  {
   "cell_type": "code",
   "execution_count": null,
   "metadata": {},
   "outputs": [],
   "source": [
    "!head session_data_1k_is_holiday.tsv"
   ]
  },
  {
   "cell_type": "code",
   "execution_count": null,
   "metadata": {},
   "outputs": [],
   "source": []
  },
  {
   "cell_type": "code",
   "execution_count": null,
   "metadata": {},
   "outputs": [],
   "source": [
    "!head -n 5 data/Session_data_1k.csv"
   ]
  },
  {
   "cell_type": "code",
   "execution_count": null,
   "metadata": {},
   "outputs": [],
   "source": [
    "!ls -alrth  data/Session_data_*"
   ]
  },
  {
   "cell_type": "code",
   "execution_count": null,
   "metadata": {},
   "outputs": [],
   "source": [
    "!export PATH=$PATH:/usr/local/hadoop/bin:/usr/local/hadoop/sbin"
   ]
  },
  {
   "cell_type": "code",
   "execution_count": null,
   "metadata": {},
   "outputs": [],
   "source": [
    "!export HADOOP_opts=\"-Dhadoop.tmp.dir=/path/\""
   ]
  },
  {
   "cell_type": "code",
   "execution_count": null,
   "metadata": {},
   "outputs": [],
   "source": [
    "TRANSLATE_PY ='/data_data/session_length/MRTranslate.py'"
   ]
  },
  {
   "cell_type": "code",
   "execution_count": null,
   "metadata": {},
   "outputs": [],
   "source": [
    "JAR_FILE = '/usr/local/hadoop/share/hadoop/tools/lib/hadoop-streaming-3.0.1.jar'"
   ]
  },
  {
   "cell_type": "code",
   "execution_count": null,
   "metadata": {},
   "outputs": [],
   "source": [
    "USER = !whoami\n",
    "USER = 'w210'\n",
    "OUTPUT_PATH_BASE = '/user/{USER}'.format(USER=USER)"
   ]
  },
  {
   "cell_type": "code",
   "execution_count": null,
   "metadata": {},
   "outputs": [],
   "source": [
    "OUTPUT_DIR = \"{OUTPUT_PATH_BASE}/data/output\" "
   ]
  },
  {
   "cell_type": "code",
   "execution_count": null,
   "metadata": {},
   "outputs": [],
   "source": [
    "TEST_1k = \"{OUTPUT_PATH_BASE}/data/Session_data_1k.csv\".format(OUTPUT_PATH_BASE=OUTPUT_PATH_BASE)\n",
    "TEST_10k = \"{OUTPUT_PATH_BASE}/data/Session_data_10k.csv\".format(OUTPUT_PATH_BASE=OUTPUT_PATH_BASE)\n",
    "TEST_100k = \"{OUTPUT_PATH_BASE}/data/Session_data_100k.csv\".format(OUTPUT_PATH_BASE=OUTPUT_PATH_BASE)\n",
    "TEST_1M = \"{OUTPUT_PATH_BASE}/data/Session_data_1M.csv\".format(OUTPUT_PATH_BASE=OUTPUT_PATH_BASE)\n",
    "FULL_DATA = \"{OUTPUT_PATH_BASE}/data/Session_data.csv\".format(OUTPUT_PATH_BASE=OUTPUT_PATH_BASE)"
   ]
  },
  {
   "cell_type": "code",
   "execution_count": null,
   "metadata": {},
   "outputs": [],
   "source": [
    "!hdfs dfs -chgrp hadoop /user/w210/data/Session*"
   ]
  },
  {
   "cell_type": "code",
   "execution_count": null,
   "metadata": {},
   "outputs": [],
   "source": [
    "!hdfs dfs -ls /user/w210/data/Session*"
   ]
  },
  {
   "cell_type": "code",
   "execution_count": null,
   "metadata": {},
   "outputs": [],
   "source": [
    "!echo {TEST_1k}"
   ]
  },
  {
   "cell_type": "code",
   "execution_count": null,
   "metadata": {},
   "outputs": [],
   "source": [
    "!hdfs dfs -ls {TEST_1k}"
   ]
  },
  {
   "cell_type": "code",
   "execution_count": null,
   "metadata": {},
   "outputs": [],
   "source": [
    "!ls -alrth country_capital*"
   ]
  },
  {
   "cell_type": "code",
   "execution_count": null,
   "metadata": {},
   "outputs": [],
   "source": [
    "TZ_FILE='/user/w210/data/country_capital_city_tz.json'"
   ]
  },
  {
   "cell_type": "code",
   "execution_count": null,
   "metadata": {},
   "outputs": [],
   "source": [
    "INPUT_FILE='/user/w210/data/Session_data_1M.csv'"
   ]
  },
  {
   "cell_type": "code",
   "execution_count": null,
   "metadata": {},
   "outputs": [],
   "source": [
    "TMP_DIR='/user/hduser/tmp'"
   ]
  },
  {
   "cell_type": "code",
   "execution_count": null,
   "metadata": {},
   "outputs": [],
   "source": [
    "!ls -alrth data"
   ]
  },
  {
   "cell_type": "code",
   "execution_count": null,
   "metadata": {},
   "outputs": [],
   "source": [
    "#!hdfs dfs -rm /user/hduser/Session_data*.csv\n",
    "#!hdfs dfs -copyFromLocal data/Session_data*.csv /user/hduser/\n",
    "#!hdfs dfs -ls /user/hduser"
   ]
  },
  {
   "cell_type": "code",
   "execution_count": null,
   "metadata": {},
   "outputs": [],
   "source": [
    "!hdfs dfs -rm -r /user/hduser/output*\n",
    "!hdfs dfs -ls /user/hduser"
   ]
  },
  {
   "cell_type": "code",
   "execution_count": null,
   "metadata": {},
   "outputs": [],
   "source": [
    "#!hdfs dfs -rm -r /user/hduser/output_all\n",
    "#!hadoop jar /usr/local/hadoop/share/hadoop/tools/lib/hadoop-streaming-3.0.1.jar \\\n",
    "#    -D mapreduce.job.maps=10     \\\n",
    "#    -D hadoop.tmp.dir='/data_data/session_length/hadoop/tmp' \\\n",
    "#    -files MRTranslate.py,country_capital_city_tz.json\\\n",
    "#    -input '/user/hduser/Session_data.csv' \\\n",
    "#    -output '/user/hduser/output_all' \\\n",
    "#    -numReduceTasks 10 \\\n",
    "#    -cmdenv tzFile='country_capital_city_tz.json' \\\n",
    "#    -cmdenv PATH={PATH}"
   ]
  },
  {
   "cell_type": "code",
   "execution_count": null,
   "metadata": {},
   "outputs": [],
   "source": []
  },
  {
   "cell_type": "code",
   "execution_count": null,
   "metadata": {},
   "outputs": [],
   "source": [
    "!hdfs dfs -ls /user/hduser/output_all/ "
   ]
  },
  {
   "cell_type": "code",
   "execution_count": null,
   "metadata": {},
   "outputs": [],
   "source": [
    "!hdfs dfs -tail /user/hduser/output_all/part-00001"
   ]
  },
  {
   "cell_type": "code",
   "execution_count": null,
   "metadata": {},
   "outputs": [],
   "source": [
    "!head data/Session_data.csv"
   ]
  },
  {
   "cell_type": "code",
   "execution_count": null,
   "metadata": {},
   "outputs": [],
   "source": [
    "#!hdfs fs -rm -r /user/hduser/output_5\n",
    "#!hdfs jar /usr/local/hadoop/share/hadoop/tools/lib/hadoop-streaming-3.0.1.jar     \\\n",
    "#    -D mapreduce.job.maps=10     \\\n",
    "#    -D hadoop.tmp.dir='/data_data/session_length/hadoop/tmp' \\\n",
    "#    -files MRTranslate.py,country_capital_city_tz.json    \\\n",
    "#    -input '/user/hduser/Session_data.csv'  \\\n",
    "#    -output '/user/hduser/output_5'     \\\n",
    "#    -numReduceTasks 10     \\\n",
    "#    -cmdenv tzFile='country_capital_city_tz.json'     \\\n",
    "#    -cmdenv PATH={PATH}"
   ]
  },
  {
   "cell_type": "code",
   "execution_count": null,
   "metadata": {},
   "outputs": [],
   "source": [
    "!hdfs dfs -ls /user/hduser/ "
   ]
  },
  {
   "cell_type": "code",
   "execution_count": null,
   "metadata": {},
   "outputs": [],
   "source": [
    "!hdfs dfs -tail /user/hduser/output_5/part-00000"
   ]
  },
  {
   "cell_type": "code",
   "execution_count": null,
   "metadata": {},
   "outputs": [],
   "source": [
    "!head session_data_1K_is_holiday.tsv"
   ]
  },
  {
   "cell_type": "markdown",
   "metadata": {},
   "source": [
    "### Save as file (via toPandas())"
   ]
  },
  {
   "cell_type": "code",
   "execution_count": null,
   "metadata": {},
   "outputs": [],
   "source": [
    "session_with_holiday_DF = spark.createDataFrame(output_ALL_df)"
   ]
  },
  {
   "cell_type": "code",
   "execution_count": null,
   "metadata": {},
   "outputs": [],
   "source": [
    "session_with_holiday_DF.show()"
   ]
  },
  {
   "cell_type": "code",
   "execution_count": null,
   "metadata": {},
   "outputs": [],
   "source": []
  },
  {
   "cell_type": "code",
   "execution_count": null,
   "metadata": {},
   "outputs": [],
   "source": [
    "spark.conf.set(\"spark.sql.execution.arrow.enabled\", \"false\")\n",
    "session_with_holiday_DF.toPandas().to_csv(\"session_with_timezone.csv\", sep='\\t', encoding='utf-8',index=False)\n",
    "spark.conf.set(\"spark.sql.execution.arrow.enabled\", \"true\")"
   ]
  },
  {
   "cell_type": "code",
   "execution_count": null,
   "metadata": {},
   "outputs": [],
   "source": [
    "!head session_with_holiday_all.csv"
   ]
  },
  {
   "cell_type": "code",
   "execution_count": null,
   "metadata": {},
   "outputs": [],
   "source": []
  }
 ],
 "metadata": {
  "kernelspec": {
   "display_name": "Python 2",
   "language": "python",
   "name": "python2"
  },
  "language_info": {
   "codemirror_mode": {
    "name": "ipython",
    "version": 2
   },
   "file_extension": ".py",
   "mimetype": "text/x-python",
   "name": "python",
   "nbconvert_exporter": "python",
   "pygments_lexer": "ipython2",
   "version": "2.7.12"
  }
 },
 "nbformat": 4,
 "nbformat_minor": 2
}

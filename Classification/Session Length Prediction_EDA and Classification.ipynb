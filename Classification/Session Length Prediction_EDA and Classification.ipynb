{
 "cells": [
  {
   "cell_type": "code",
   "execution_count": 1,
   "metadata": {},
   "outputs": [],
   "source": [
    "import pandas as pd"
   ]
  },
  {
   "cell_type": "code",
   "execution_count": 2,
   "metadata": {},
   "outputs": [
    {
     "data": {
      "text/html": [
       "<style>.container { width:100% !important; }</style>"
      ],
      "text/plain": [
       "<IPython.core.display.HTML object>"
      ]
     },
     "metadata": {},
     "output_type": "display_data"
    }
   ],
   "source": [
    "from IPython.core.display import display, HTML\n",
    "display(HTML(\"<style>.container { width:100% !important; }</style>\"))\n",
    "\n",
    "pd.set_option('display.height', 1000)\n",
    "pd.set_option('display.max_rows', 500)\n",
    "pd.set_option('display.max_columns', 500)\n",
    "pd.set_option('display.width', 1000)\n",
    "pd.set_option('display.expand_frame_repr', False)\n",
    "pd.set_option('max_colwidth', 800)\n",
    "pd.set_option('display.max_colwidth', 500)\n",
    "pd.set_option('expand_frame_repr', True)"
   ]
  },
  {
   "cell_type": "code",
   "execution_count": null,
   "metadata": {},
   "outputs": [],
   "source": []
  },
  {
   "cell_type": "code",
   "execution_count": 4,
   "metadata": {},
   "outputs": [],
   "source": [
    "APP_NAME = \"Survival Analysis EDA\"\n",
    "\n",
    "try:\n",
    "    sc.stop()\n",
    "    spark.stop()\n",
    "except:\n",
    "    pass\n",
    "\n",
    "from pyspark import SparkConf\n",
    "from pyspark.context import SparkContext\n",
    "from pyspark.sql.session import SparkSession\n",
    "\n",
    "try:\n",
    "    sc and spark\n",
    "except (NameError, UnboundLocalError) as e:\n",
    "    import findspark\n",
    "    #findspark.init()\n",
    "    import pyspark\n",
    "    import pyspark.sql\n",
    "    \n",
    "    #sc = pyspark.SparkContext()\n",
    "    #spark = pyspark.sql.SparkSession(sc).builder.appName(APP_NAME).getOrCreate()\n",
    "    \n",
    "sc = SparkContext(conf = SparkConf() .set(\"spark.driver.maxResultSize\", \"60g\") .set(\"spark.sql.execution.arrow.enabled\", \"true\") .set('spark.sql.broadcastTimeout', 1000) .set('spark.local.dir', '/data_data/session_length/spark_tmp/') .set('spark.driver.memory', '60G') .set(\"spark.executor.instances\", \"10\") .set(\"spark.executor.cores\", 10) .set(\"spark.executor.memory\", \"20G\")).getOrCreate()\n",
    "spark = SparkSession(sc)\n",
    "spark.sparkContext.setLogLevel(\"ERROR\")\n",
    "    "
   ]
  },
  {
   "cell_type": "code",
   "execution_count": 5,
   "metadata": {},
   "outputs": [
    {
     "data": {
      "text/plain": [
       "[(u'spark.local.dir', u'/data_data/session_length/spark_tmp/'),\n",
       " (u'spark.driver.maxResultSize', u'60g'),\n",
       " (u'spark.sql.execution.arrow.enabled', u'true'),\n",
       " (u'spark.executor.id', u'driver'),\n",
       " (u'spark.executor.cores', u'10'),\n",
       " (u'spark.app.name', u'pyspark-shell'),\n",
       " (u'spark.executor.memory', u'20G'),\n",
       " (u'spark.app.id', u'local-1541469357372'),\n",
       " (u'spark.executor.instances', u'10'),\n",
       " (u'spark.rdd.compress', u'True'),\n",
       " (u'spark.driver.host', u'ip-172-31-41-62.ec2.internal'),\n",
       " (u'spark.serializer.objectStreamReset', u'100'),\n",
       " (u'spark.driver.port', u'41916'),\n",
       " (u'spark.master', u'local[*]'),\n",
       " (u'spark.driver.memory', u'60G'),\n",
       " (u'spark.submit.deployMode', u'client'),\n",
       " (u'spark.sql.broadcastTimeout', u'1000'),\n",
       " (u'spark.ui.showConsoleProgress', u'true')]"
      ]
     },
     "execution_count": 5,
     "metadata": {},
     "output_type": "execute_result"
    }
   ],
   "source": [
    "sc._conf.getAll()"
   ]
  },
  {
   "cell_type": "code",
   "execution_count": 33,
   "metadata": {},
   "outputs": [],
   "source": [
    "from pyspark.sql.types import StructField, StructType, StringType, LongType, DateType, DoubleType, IntegerType, TimestampType\n",
    "from pyspark.sql.functions import count, mean, stddev_pop, min, max, lit, round, bround, pow, col, corr, lower, upper, avg, stddev, abs, log\n",
    "from pyspark.sql.functions import lit, trim, rtrim, rpad, trim, coalesce\n",
    "from pyspark.sql.functions import current_date, current_timestamp, date_add, date_sub, months_between, to_date\n",
    "from pyspark.sql.functions import udf, col, countDistinct, lag\n",
    "from pyspark.sql.window import Window\n",
    "from pyspark.sql.functions import desc, dense_rank, rank, expr\n",
    "\n",
    "from pyspark.ml import Pipeline\n",
    "from pyspark.ml.feature import StringIndexer\n",
    "\n",
    "from pyspark.ml import Pipeline\n",
    "from pyspark.ml.feature import RFormula, Bucketizer, QuantileDiscretizer\n",
    "from pyspark.ml.classification import LogisticRegression, GBTClassifier, DecisionTreeClassifier, RandomForestClassifier, MultilayerPerceptronClassifier,NaiveBayes\n",
    "from pyspark.ml.evaluation import BinaryClassificationEvaluator, MulticlassClassificationEvaluator, RegressionEvaluator\n",
    "from pyspark.ml.regression import RandomForestRegressor, GBTRegressor\n",
    "from pyspark.ml.feature import OneHotEncoderEstimator, StringIndexer, VectorAssembler\n",
    "from pyspark.ml.tuning import CrossValidator, ParamGridBuilder\n",
    "from pyspark.ml.regression import AFTSurvivalRegression\n",
    "from pyspark.ml.linalg import Vectors\n",
    "\n",
    "from datetime import datetime\n",
    "import numpy as np\n",
    "\n",
    "import matplotlib.pyplot as plt\n",
    "%matplotlib inline\n",
    "import seaborn as sns"
   ]
  },
  {
   "cell_type": "markdown",
   "metadata": {},
   "source": [
    "### IMPORT MODEL DATA"
   ]
  },
  {
   "cell_type": "code",
   "execution_count": 77,
   "metadata": {},
   "outputs": [
    {
     "name": "stdout",
     "output_type": "stream",
     "text": [
      "userid|session_id|gender|age|country|day_of_week|time_of_day|is_holiday|time_since_epoch|days_since_epoch|absence_time|genre_10_name|genre_9_name|genre_8_name|genre_7_name|genre_6_name|genre_5_name|genre_4_name|genre_3_name|genre_2_name|genre_1_name|undefined_genre_name|genre_10_freq|genre_9_freq|genre_8_freq|genre_7_freq|genre_6_freq|genre_5_freq|genre_4_freq|genre_3_freq|genre_2_freq|genre_1_freq|undefined_genre_freq|session_length|session_length_1\r\n",
      "user_000372|3841|m|Null|Singapore|Saturday|Night|0|149565642|1731|479|trip-hop|punk|classicrock|alternative|indie|chillout|pop|electronic|rock|undefined_genres|undefined_genres|0.01|0.01|0.02|0.02|0.02|0.02|0.02|0.03|0.05|0.27|0.27|4|\r\n",
      "user_000372|3840|m|Null|Singapore|Monday|Morning|0|149756668|1733|3156|ambient|folk|metal|femalevocalists|electronic|alternative|pop|indie|rock|undefined_genres|undefined_genres|0.01|0.01|0.01|0.02|0.02|0.02|0.02|0.02|0.06|0.3|0.3|4|4.0\r\n",
      "user_000372|3839|m|Null|Singapore|Monday|LateAfternoon|0|149794760|1733|634|classicrock|indierock|metal|covers|indie|alternative|cover|pop|rock|undefined_genres|undefined_genres|0.02|0.02|0.02|0.02|0.02|0.02|0.02|0.03|0.07|0.25|0.25|7|4.0\r\n",
      "user_000372|3838|m|Null|Singapore|Tuesday|Evening|0|149887958|1734|1534|alternative|singer-songwriter|acoustic|hardcore|punk|metal|electronic|indie|rock|undefined_genres|undefined_genres|0.01|0.01|0.02|0.02|0.02|0.02|0.03|0.03|0.04|0.27|0.27|39|7.0\r\n",
      "user_000372|3837|m|Null|Singapore|Tuesday|Evening|0|149895390|1734|61|soul|chillout|jazz|classicrock|electronic|alternative|indie|pop|rock|undefined_genres|undefined_genres|0.01|0.01|0.01|0.02|0.02|0.02|0.02|0.03|0.06|0.28|0.28|4|39.0\r\n",
      "user_000372|3836|m|Null|Singapore|Wednesday|Night|0|149912529|1735|203|classicrock|metal|jazz|punk|electronic|pop|indie|alternative|rock|undefined_genres|undefined_genres|0.01|0.01|0.01|0.01|0.01|0.02|0.02|0.02|0.05|0.33|0.33|24|4.0\r\n",
      "user_000372|3835|m|Null|Singapore|Wednesday|Night|0|149919954|1735|123|punk|femalevocalists|classicrock|pop|metal|alternative|indie|electronic|rock|undefined_genres|undefined_genres|0.01|0.01|0.01|0.02|0.02|0.02|0.03|0.03|0.05|0.28|0.28|80|24.0\r\n",
      "user_000372|3834|m|Null|Singapore|Wednesday|Dawn|0|149928282|1735|125|classicrock|newwave|alternative|indie|80s|electronic|punk|pop|rock|undefined_genres|undefined_genres|0.01|0.01|0.02|0.02|0.02|0.02|0.02|0.02|0.04|0.34|0.34|43|80.0\r\n",
      "user_000372|3833|m|Null|Singapore|Wednesday|LateEvening|0|149988533|1735|983|folk|classicrock|alternative|pop|indie|thrash|ahahhahah|electronic|rock|undefined_genres|undefined_genres|0.01|0.02|0.02|0.02|0.03|0.04|0.04|0.04|0.05|0.29|0.29|4|43.0\r\n"
     ]
    }
   ],
   "source": [
    "!head new_model_1_df_11_06_2018.tsv"
   ]
  },
  {
   "cell_type": "markdown",
   "metadata": {},
   "source": [
    "#### Define Schema (here we assume 10 genres)"
   ]
  },
  {
   "cell_type": "code",
   "execution_count": 115,
   "metadata": {},
   "outputs": [
    {
     "data": {
      "text/plain": [
       "StructType(List(StructField(userid,StringType,true),StructField(session_id,IntegerType,true),StructField(gender,StringType,true),StructField(age,StringType,true),StructField(country,StringType,true),StructField(day_of_week,StringType,true),StructField(time_of_day,StringType,true),StructField(is_holiday,IntegerType,true),StructField(time_since_epoch,IntegerType,true),StructField(days_since_epoch,IntegerType,true),StructField(absence_time,IntegerType,true),StructField(genre_10,StringType,true),StructField(genre_9,StringType,true),StructField(genre_8,StringType,true),StructField(genre_7,StringType,true),StructField(genre_6,StringType,true),StructField(genre_5,StringType,true),StructField(genre_4,StringType,true),StructField(genre_3,StringType,true),StructField(genre_2,StringType,true),StructField(genre_1,StringType,true),StructField(undefined_genre,StringType,true),StructField(genre_10_freq,DoubleType,true),StructField(genre_9_freq,DoubleType,true),StructField(genre_8_freq,DoubleType,true),StructField(genre_7_freq,DoubleType,true),StructField(genre_6_freq,DoubleType,true),StructField(genre_5_freq,DoubleType,true),StructField(genre_4_freq,DoubleType,true),StructField(genre_3_freq,DoubleType,true),StructField(genre_2_freq,DoubleType,true),StructField(genre_1_freq,DoubleType,true),StructField(undefined_genre_freq,DoubleType,true),StructField(session_length,IntegerType,true),StructField(session_length_1,DoubleType,true)))"
      ]
     },
     "execution_count": 115,
     "metadata": {},
     "output_type": "execute_result"
    }
   ],
   "source": [
    "session_Schema = StructType([StructField('userid', StringType(), True), \n",
    "                             StructField('session_id', IntegerType(), True), \n",
    "                             StructField('gender', StringType(), True), \n",
    "                             StructField('age', StringType(), True), \n",
    "                             StructField('country', StringType(), True), \n",
    "                             StructField('day_of_week', StringType(), True),\n",
    "                             StructField('time_of_day', StringType(), True), \n",
    "                             StructField('is_holiday', IntegerType(), True), \n",
    "                             StructField('time_since_epoch', IntegerType(), True), \n",
    "                             StructField('days_since_epoch', IntegerType(), True), \n",
    "                             StructField('absence_time', IntegerType(), True),\n",
    "                             StructField('genre_10', StringType(), True),\n",
    "                             StructField('genre_9', StringType(), True),\n",
    "                             StructField('genre_8', StringType(), True),\n",
    "                             StructField('genre_7', StringType(), True),\n",
    "                             StructField('genre_6', StringType(), True),\n",
    "                             StructField('genre_5', StringType(), True),\n",
    "                             StructField('genre_4', StringType(), True),\n",
    "                             StructField('genre_3', StringType(), True),\n",
    "                             StructField('genre_2', StringType(), True),\n",
    "                             StructField('genre_1', StringType(), True),\n",
    "                             StructField('undefined_genre', StringType(), True),\n",
    "                             StructField('genre_10_freq', DoubleType(), True),\n",
    "                             StructField('genre_9_freq', DoubleType(), True),\n",
    "                             StructField('genre_8_freq', DoubleType(), True),\n",
    "                             StructField('genre_7_freq', DoubleType(), True),\n",
    "                             StructField('genre_6_freq', DoubleType(), True),\n",
    "                             StructField('genre_5_freq', DoubleType(), True),\n",
    "                             StructField('genre_4_freq', DoubleType(), True),\n",
    "                             StructField('genre_3_freq', DoubleType(), True),\n",
    "                             StructField('genre_2_freq', DoubleType(), True),\n",
    "                             StructField('genre_1_freq', DoubleType(), True),\n",
    "                             StructField('undefined_genre_freq', DoubleType(), True), \n",
    "                             StructField('session_length', IntegerType(), True), \n",
    "                             StructField('session_length_1', DoubleType(), True)])\n",
    "\n",
    "\n",
    "session_Schema"
   ]
  },
  {
   "cell_type": "code",
   "execution_count": 116,
   "metadata": {},
   "outputs": [],
   "source": [
    "the_model_df = spark.read.format('csv').options(sep='|').schema(session_Schema).option('header',True).load('new_model_1_df_11_06_2018.tsv')"
   ]
  },
  {
   "cell_type": "code",
   "execution_count": 117,
   "metadata": {},
   "outputs": [
    {
     "name": "stdout",
     "output_type": "stream",
     "text": [
      "+-----------+----------+------+----+---------+-----------+-------------+----------+----------------+----------------+------------+-----------+-----------------+-----------+---------------+----------+-----------+----------+----------+-------+----------------+----------------+-------------+------------+------------+------------+------------+------------+------------+------------+------------+------------+--------------------+--------------+----------------+\n",
      "|userid     |session_id|gender|age |country  |day_of_week|time_of_day  |is_holiday|time_since_epoch|days_since_epoch|absence_time|genre_10   |genre_9          |genre_8    |genre_7        |genre_6   |genre_5    |genre_4   |genre_3   |genre_2|genre_1         |undefined_genre |genre_10_freq|genre_9_freq|genre_8_freq|genre_7_freq|genre_6_freq|genre_5_freq|genre_4_freq|genre_3_freq|genre_2_freq|genre_1_freq|undefined_genre_freq|session_length|session_length_1|\n",
      "+-----------+----------+------+----+---------+-----------+-------------+----------+----------------+----------------+------------+-----------+-----------------+-----------+---------------+----------+-----------+----------+----------+-------+----------------+----------------+-------------+------------+------------+------------+------------+------------+------------+------------+------------+------------+--------------------+--------------+----------------+\n",
      "|user_000372|3841      |m     |Null|Singapore|Saturday   |Night        |0         |149565642       |1731            |479         |trip-hop   |punk             |classicrock|alternative    |indie     |chillout   |pop       |electronic|rock   |undefined_genres|undefined_genres|0.01         |0.01        |0.02        |0.02        |0.02        |0.02        |0.02        |0.03        |0.05        |0.27        |0.27                |4             |null            |\n",
      "|user_000372|3840      |m     |Null|Singapore|Monday     |Morning      |0         |149756668       |1733            |3156        |ambient    |folk             |metal      |femalevocalists|electronic|alternative|pop       |indie     |rock   |undefined_genres|undefined_genres|0.01         |0.01        |0.01        |0.02        |0.02        |0.02        |0.02        |0.02        |0.06        |0.3         |0.3                 |4             |4.0             |\n",
      "|user_000372|3839      |m     |Null|Singapore|Monday     |LateAfternoon|0         |149794760       |1733            |634         |classicrock|indierock        |metal      |covers         |indie     |alternative|cover     |pop       |rock   |undefined_genres|undefined_genres|0.02         |0.02        |0.02        |0.02        |0.02        |0.02        |0.02        |0.03        |0.07        |0.25        |0.25                |7             |4.0             |\n",
      "|user_000372|3838      |m     |Null|Singapore|Tuesday    |Evening      |0         |149887958       |1734            |1534        |alternative|singer-songwriter|acoustic   |hardcore       |punk      |metal      |electronic|indie     |rock   |undefined_genres|undefined_genres|0.01         |0.01        |0.02        |0.02        |0.02        |0.02        |0.03        |0.03        |0.04        |0.27        |0.27                |39            |7.0             |\n",
      "|user_000372|3837      |m     |Null|Singapore|Tuesday    |Evening      |0         |149895390       |1734            |61          |soul       |chillout         |jazz       |classicrock    |electronic|alternative|indie     |pop       |rock   |undefined_genres|undefined_genres|0.01         |0.01        |0.01        |0.02        |0.02        |0.02        |0.02        |0.03        |0.06        |0.28        |0.28                |4             |39.0            |\n",
      "+-----------+----------+------+----+---------+-----------+-------------+----------+----------------+----------------+------------+-----------+-----------------+-----------+---------------+----------+-----------+----------+----------+-------+----------------+----------------+-------------+------------+------------+------------+------------+------------+------------+------------+------------+------------+--------------------+--------------+----------------+\n",
      "only showing top 5 rows\n",
      "\n"
     ]
    }
   ],
   "source": [
    "the_model_df.show(5, False)"
   ]
  },
  {
   "cell_type": "markdown",
   "metadata": {},
   "source": [
    "#### Turn categorical values into integer values"
   ]
  },
  {
   "cell_type": "code",
   "execution_count": 118,
   "metadata": {},
   "outputs": [
    {
     "data": {
      "text/plain": [
       "['userid',\n",
       " 'session_id',\n",
       " 'gender',\n",
       " 'age',\n",
       " 'country',\n",
       " 'day_of_week',\n",
       " 'time_of_day',\n",
       " 'is_holiday',\n",
       " 'time_since_epoch',\n",
       " 'days_since_epoch',\n",
       " 'absence_time',\n",
       " 'genre_10',\n",
       " 'genre_9',\n",
       " 'genre_8',\n",
       " 'genre_7',\n",
       " 'genre_6',\n",
       " 'genre_5',\n",
       " 'genre_4',\n",
       " 'genre_3',\n",
       " 'genre_2',\n",
       " 'genre_1',\n",
       " 'undefined_genre',\n",
       " 'genre_10_freq',\n",
       " 'genre_9_freq',\n",
       " 'genre_8_freq',\n",
       " 'genre_7_freq',\n",
       " 'genre_6_freq',\n",
       " 'genre_5_freq',\n",
       " 'genre_4_freq',\n",
       " 'genre_3_freq',\n",
       " 'genre_2_freq',\n",
       " 'genre_1_freq',\n",
       " 'undefined_genre_freq',\n",
       " 'session_length',\n",
       " 'session_length_1']"
      ]
     },
     "execution_count": 118,
     "metadata": {},
     "output_type": "execute_result"
    }
   ],
   "source": [
    "the_model_df.columns"
   ]
  },
  {
   "cell_type": "code",
   "execution_count": 119,
   "metadata": {},
   "outputs": [
    {
     "data": {
      "text/plain": [
       "{'country',\n",
       " 'day_of_week',\n",
       " 'gender',\n",
       " 'genre_1',\n",
       " 'genre_10',\n",
       " 'genre_2',\n",
       " 'genre_3',\n",
       " 'genre_4',\n",
       " 'genre_5',\n",
       " 'genre_6',\n",
       " 'genre_7',\n",
       " 'genre_8',\n",
       " 'genre_9',\n",
       " 'session_id',\n",
       " 'time_of_day',\n",
       " 'undefined_genre',\n",
       " 'userid'}"
      ]
     },
     "execution_count": 119,
     "metadata": {},
     "output_type": "execute_result"
    }
   ],
   "source": [
    "set(the_model_df.columns)-set(['age','is_holiday','time_since_epoch','days_since_epoch','absence_time','genre_10_freq','genre_9_freq','genre_8_freq',\n",
    "                                                                                                                                          'genre_7_freq','genre_6_freq','genre_5_freq','genre_4_freq','genre_3_freq','genre_2_freq','genre_1_freq','undefined_genre_freq','session_length','session_length_1'])"
   ]
  },
  {
   "cell_type": "code",
   "execution_count": 121,
   "metadata": {},
   "outputs": [],
   "source": [
    "indexers = [StringIndexer(inputCol=column, outputCol=column+\"_index\").fit(the_model_df) for column in list(set(the_model_df.columns)-set(['age','is_holiday','time_since_epoch','days_since_epoch','absence_time','genre_10_freq','genre_9_freq','genre_8_freq',\n",
    "                                                                                                                                          'genre_7_freq','genre_6_freq','genre_5_freq','genre_4_freq','genre_3_freq','genre_2_freq','genre_1_freq','undefined_genre_freq','session_length','session_length_1'])) ]"
   ]
  },
  {
   "cell_type": "code",
   "execution_count": 122,
   "metadata": {},
   "outputs": [],
   "source": [
    "pipeline = Pipeline(stages=indexers)\n",
    "the_model_df_ = pipeline.fit(the_model_df).transform(the_model_df)"
   ]
  },
  {
   "cell_type": "code",
   "execution_count": 123,
   "metadata": {},
   "outputs": [
    {
     "name": "stdout",
     "output_type": "stream",
     "text": [
      "+-----------+----------+------+----+---------+-----------+-------------+----------+----------------+----------------+------------+-----------+-----------------+-----------+---------------+----------+-----------+----------+----------+-------+----------------+----------------+-------------+------------+------------+------------+------------+------------+------------+------------+------------+------------+--------------------+--------------+----------------+------------+---------------------+-----------------+-------------+-------------+-------------+-------------+-------------+-------------+-------------+-------------+----------------+-----------------+--------------+-------------+------------+-------------+\n",
      "|     userid|session_id|gender| age|  country|day_of_week|  time_of_day|is_holiday|time_since_epoch|days_since_epoch|absence_time|   genre_10|          genre_9|    genre_8|        genre_7|   genre_6|    genre_5|   genre_4|   genre_3|genre_2|         genre_1| undefined_genre|genre_10_freq|genre_9_freq|genre_8_freq|genre_7_freq|genre_6_freq|genre_5_freq|genre_4_freq|genre_3_freq|genre_2_freq|genre_1_freq|undefined_genre_freq|session_length|session_length_1|userid_index|undefined_genre_index|day_of_week_index|genre_9_index|genre_8_index|genre_7_index|genre_6_index|genre_5_index|genre_4_index|genre_3_index|genre_2_index|session_id_index|time_of_day_index|genre_10_index|genre_1_index|gender_index|country_index|\n",
      "+-----------+----------+------+----+---------+-----------+-------------+----------+----------------+----------------+------------+-----------+-----------------+-----------+---------------+----------+-----------+----------+----------+-------+----------------+----------------+-------------+------------+------------+------------+------------+------------+------------+------------+------------+------------+--------------------+--------------+----------------+------------+---------------------+-----------------+-------------+-------------+-------------+-------------+-------------+-------------+-------------+-------------+----------------+-----------------+--------------+-------------+------------+-------------+\n",
      "|user_000372|      3841|     m|Null|Singapore|   Saturday|        Night|         0|       149565642|            1731|         479|   trip-hop|             punk|classicrock|    alternative|     indie|   chillout|       pop|electronic|   rock|undefined_genres|undefined_genres|         0.01|        0.01|        0.02|        0.02|        0.02|        0.02|        0.02|        0.03|        0.05|        0.27|                0.27|             4|            null|       268.0|                  0.0|              6.0|          6.0|          0.0|          6.0|          3.0|         17.0|          3.0|          2.0|          0.0|          3839.0|              1.0|          52.0|          0.0|         0.0|         36.0|\n",
      "|user_000372|      3840|     m|Null|Singapore|     Monday|      Morning|         0|       149756668|            1733|        3156|    ambient|             folk|      metal|femalevocalists|electronic|alternative|       pop|     indie|   rock|undefined_genres|undefined_genres|         0.01|        0.01|        0.01|        0.02|        0.02|        0.02|        0.02|        0.02|        0.06|         0.3|                 0.3|             4|             4.0|       268.0|                  0.0|              2.0|         17.0|          3.0|          5.0|          1.0|          1.0|          3.0|          0.0|          0.0|          3837.0|              4.0|          20.0|          0.0|         0.0|         36.0|\n",
      "|user_000372|      3839|     m|Null|Singapore|     Monday|LateAfternoon|         0|       149794760|            1733|         634|classicrock|        indierock|      metal|         covers|     indie|alternative|     cover|       pop|   rock|undefined_genres|undefined_genres|         0.02|        0.02|        0.02|        0.02|        0.02|        0.02|        0.02|        0.03|        0.07|        0.25|                0.25|             7|             4.0|       268.0|                  0.0|              2.0|          8.0|          3.0|         38.0|          3.0|          1.0|         14.0|          3.0|          0.0|          3838.0|              3.0|           0.0|          0.0|         0.0|         36.0|\n",
      "|user_000372|      3838|     m|Null|Singapore|    Tuesday|      Evening|         0|       149887958|            1734|        1534|alternative|singer-songwriter|   acoustic|       hardcore|      punk|      metal|electronic|     indie|   rock|undefined_genres|undefined_genres|         0.01|        0.01|        0.02|        0.02|        0.02|        0.02|        0.03|        0.03|        0.04|        0.27|                0.27|            39|             7.0|       268.0|                  0.0|              0.0|         16.0|         24.0|         42.0|          9.0|          5.0|          2.0|          0.0|          0.0|          3840.0|              2.0|          27.0|          0.0|         0.0|         36.0|\n",
      "|user_000372|      3837|     m|Null|Singapore|    Tuesday|      Evening|         0|       149895390|            1734|          61|       soul|         chillout|       jazz|    classicrock|electronic|alternative|     indie|       pop|   rock|undefined_genres|undefined_genres|         0.01|        0.01|        0.01|        0.02|        0.02|        0.02|        0.02|        0.03|        0.06|        0.28|                0.28|             4|            39.0|       268.0|                  0.0|              0.0|         14.0|         14.0|          1.0|          1.0|          1.0|          1.0|          3.0|          0.0|          3836.0|              2.0|          33.0|          0.0|         0.0|         36.0|\n",
      "+-----------+----------+------+----+---------+-----------+-------------+----------+----------------+----------------+------------+-----------+-----------------+-----------+---------------+----------+-----------+----------+----------+-------+----------------+----------------+-------------+------------+------------+------------+------------+------------+------------+------------+------------+------------+--------------------+--------------+----------------+------------+---------------------+-----------------+-------------+-------------+-------------+-------------+-------------+-------------+-------------+-------------+----------------+-----------------+--------------+-------------+------------+-------------+\n",
      "only showing top 5 rows\n",
      "\n"
     ]
    }
   ],
   "source": [
    "the_model_df_.show(5)"
   ]
  },
  {
   "cell_type": "code",
   "execution_count": 162,
   "metadata": {},
   "outputs": [],
   "source": [
    "the_model_DF = the_model_df_.select('userid','session_id','age','gender','gender_index','country','country_index','day_of_week','day_of_week_index','time_of_day','time_of_day_index','is_holiday',\n",
    "                                    'genre_10','genre_9','genre_8','genre_7','genre_6','genre_5','genre_4','genre_3','genre_2','genre_1','undefined_genre',\n",
    "                                    'genre_10_freq','genre_9_freq','genre_8_freq','genre_7_freq','genre_6_freq','genre_5_freq','genre_4_freq','genre_3_freq','genre_2_freq','genre_1_freq',\n",
    "                                    'undefined_genre_freq','absence_time','days_since_epoch','session_length','session_length_1')"
   ]
  },
  {
   "cell_type": "code",
   "execution_count": 163,
   "metadata": {},
   "outputs": [
    {
     "name": "stdout",
     "output_type": "stream",
     "text": [
      "+-----------+----------+----+------+------------+---------+-------------+-----------+-----------------+-------------+-----------------+----------+-----------------+-----------------+---------------+----------------+---------------+---------------+-----------------+-----------+-----------+----------------+----------------+-------------+------------+------------+------------+------------+------------+------------+------------+------------+------------+--------------------+------------+----------------+--------------+----------------+\n",
      "|     userid|session_id| age|gender|gender_index|  country|country_index|day_of_week|day_of_week_index|  time_of_day|time_of_day_index|is_holiday|         genre_10|          genre_9|        genre_8|         genre_7|        genre_6|        genre_5|          genre_4|    genre_3|    genre_2|         genre_1| undefined_genre|genre_10_freq|genre_9_freq|genre_8_freq|genre_7_freq|genre_6_freq|genre_5_freq|genre_4_freq|genre_3_freq|genre_2_freq|genre_1_freq|undefined_genre_freq|absence_time|days_since_epoch|session_length|session_length_1|\n",
      "+-----------+----------+----+------+------------+---------+-------------+-----------+-----------------+-------------+-----------------+----------+-----------------+-----------------+---------------+----------------+---------------+---------------+-----------------+-----------+-----------+----------------+----------------+-------------+------------+------------+------------+------------+------------+------------+------------+------------+------------+--------------------+------------+----------------+--------------+----------------+\n",
      "|user_000372|      3841|Null|     m|         0.0|Singapore|         36.0|   Saturday|              6.0|        Night|              1.0|         0|         trip-hop|             punk|    classicrock|     alternative|          indie|       chillout|              pop| electronic|       rock|undefined_genres|undefined_genres|         0.01|        0.01|        0.02|        0.02|        0.02|        0.02|        0.02|        0.03|        0.05|        0.27|                0.27|         479|            1731|             4|            null|\n",
      "|user_000372|      3840|Null|     m|         0.0|Singapore|         36.0|     Monday|              2.0|      Morning|              4.0|         0|          ambient|             folk|          metal| femalevocalists|     electronic|    alternative|              pop|      indie|       rock|undefined_genres|undefined_genres|         0.01|        0.01|        0.01|        0.02|        0.02|        0.02|        0.02|        0.02|        0.06|         0.3|                 0.3|        3156|            1733|             4|             4.0|\n",
      "|user_000372|      3839|Null|     m|         0.0|Singapore|         36.0|     Monday|              2.0|LateAfternoon|              3.0|         0|      classicrock|        indierock|          metal|          covers|          indie|    alternative|            cover|        pop|       rock|undefined_genres|undefined_genres|         0.02|        0.02|        0.02|        0.02|        0.02|        0.02|        0.02|        0.03|        0.07|        0.25|                0.25|         634|            1733|             7|             4.0|\n",
      "|user_000372|      3838|Null|     m|         0.0|Singapore|         36.0|    Tuesday|              0.0|      Evening|              2.0|         0|      alternative|singer-songwriter|       acoustic|        hardcore|           punk|          metal|       electronic|      indie|       rock|undefined_genres|undefined_genres|         0.01|        0.01|        0.02|        0.02|        0.02|        0.02|        0.03|        0.03|        0.04|        0.27|                0.27|        1534|            1734|            39|             7.0|\n",
      "|user_000372|      3837|Null|     m|         0.0|Singapore|         36.0|    Tuesday|              0.0|      Evening|              2.0|         0|             soul|         chillout|           jazz|     classicrock|     electronic|    alternative|            indie|        pop|       rock|undefined_genres|undefined_genres|         0.01|        0.01|        0.01|        0.02|        0.02|        0.02|        0.02|        0.03|        0.06|        0.28|                0.28|          61|            1734|             4|            39.0|\n",
      "|user_000372|      3836|Null|     m|         0.0|Singapore|         36.0|  Wednesday|              1.0|        Night|              1.0|         0|      classicrock|            metal|           jazz|            punk|     electronic|            pop|            indie|alternative|       rock|undefined_genres|undefined_genres|         0.01|        0.01|        0.01|        0.01|        0.01|        0.02|        0.02|        0.02|        0.05|        0.33|                0.33|         203|            1735|            24|             4.0|\n",
      "|user_000372|      3835|Null|     m|         0.0|Singapore|         36.0|  Wednesday|              1.0|        Night|              1.0|         0|             punk|  femalevocalists|    classicrock|             pop|          metal|    alternative|            indie| electronic|       rock|undefined_genres|undefined_genres|         0.01|        0.01|        0.01|        0.02|        0.02|        0.02|        0.03|        0.03|        0.05|        0.28|                0.28|         123|            1735|            80|            24.0|\n",
      "|user_000372|      3834|Null|     m|         0.0|Singapore|         36.0|  Wednesday|              1.0|         Dawn|              8.0|         0|      classicrock|          newwave|    alternative|           indie|            80s|     electronic|             punk|        pop|       rock|undefined_genres|undefined_genres|         0.01|        0.01|        0.02|        0.02|        0.02|        0.02|        0.02|        0.02|        0.04|        0.34|                0.34|         125|            1735|            43|            80.0|\n",
      "|user_000372|      3833|Null|     m|         0.0|Singapore|         36.0|  Wednesday|              1.0|  LateEvening|              7.0|         0|             folk|      classicrock|    alternative|             pop|          indie|         thrash|        ahahhahah| electronic|       rock|undefined_genres|undefined_genres|         0.01|        0.02|        0.02|        0.02|        0.03|        0.04|        0.04|        0.04|        0.05|        0.29|                0.29|         983|            1735|             4|            43.0|\n",
      "|user_000372|      3832|Null|     m|         0.0|Singapore|         36.0|   Thursday|              3.0|      Morning|              4.0|         0|             punk|     instrumental|            pop|     electronica|    classicrock|    alternative|       electronic|      indie|       rock|undefined_genres|undefined_genres|         0.01|        0.01|        0.01|        0.01|        0.01|        0.01|        0.03|        0.03|        0.06|        0.32|                0.32|         545|            1736|            47|             4.0|\n",
      "|user_000372|      3831|Null|     m|         0.0|Singapore|         36.0|   Thursday|              3.0|LateAfternoon|              3.0|         0|              70s|      classicrock|            80s| femalevocalists|    alternative|            pop|            indie| electronic|       rock|undefined_genres|undefined_genres|         0.01|        0.01|        0.01|        0.01|        0.02|        0.02|        0.02|        0.02|        0.05|         0.3|                 0.3|         511|            1736|            20|            47.0|\n",
      "|user_000372|      3830|Null|     m|         0.0|Singapore|         36.0|     Friday|              4.0|LateAfternoon|              3.0|         0|             soul|            metal|            pop|           indie|    alternative|femalevocalists|      classicrock| electronic|       rock|undefined_genres|undefined_genres|         0.02|        0.02|        0.02|        0.02|        0.02|        0.02|        0.02|        0.02|        0.05|        0.27|                0.27|        1355|            1737|            54|            20.0|\n",
      "|user_000372|      3829|Null|     m|         0.0|Singapore|         36.0|   Saturday|              6.0|         Dawn|              8.0|         0|     instrumental|  femalevocalists|          cover|           metal|            pop|     electronic|      alternative|      indie|       rock|undefined_genres|undefined_genres|         0.01|        0.01|        0.01|        0.02|        0.02|        0.02|        0.02|        0.03|        0.03|        0.29|                0.29|         739|            1738|             4|            54.0|\n",
      "|user_000372|      3828|Null|     m|         0.0|Singapore|         36.0|     Monday|              2.0|         Dawn|              8.0|         0|             folk|          ambient|            pop| femalevocalists|    classicrock|    alternative|       electronic|      indie|       rock|undefined_genres|undefined_genres|         0.01|        0.01|        0.02|        0.02|        0.02|        0.02|        0.03|        0.03|        0.06|        0.31|                0.31|        2843|            1740|            42|             4.0|\n",
      "|user_000372|      3827|Null|     m|         0.0|Singapore|         36.0|     Monday|              2.0|      Morning|              4.0|         0|        americana|             rock|          metal|     psychobilly|      hellbilly|          drunk|    outlawcountry|       folk|    country|undefined_genres|undefined_genres|         0.02|        0.02|        0.02|        0.02|        0.02|        0.02|        0.02|        0.03|        0.07|        0.28|                0.28|         157|            1740|            43|            42.0|\n",
      "|user_000372|      3826|Null|     m|         0.0|Singapore|         36.0|     Monday|              2.0|LateAfternoon|              3.0|         0|          newwave|              pop|    classicrock|           metal|alternativerock|     electronic|            indie|alternative|       rock|undefined_genres|undefined_genres|         0.01|        0.02|        0.02|        0.02|        0.02|        0.02|        0.02|        0.03|        0.05|        0.25|                0.25|         552|            1740|            48|            43.0|\n",
      "|user_000372|      3825|Null|     m|         0.0|Singapore|         36.0|    Tuesday|              0.0|      Morning|              4.0|         0|              pop|  femalevocalists|           punk|           metal|       punkrock|    alternative|       electronic|      indie|       rock|undefined_genres|undefined_genres|         0.01|        0.01|        0.02|        0.02|        0.02|        0.02|        0.02|        0.03|        0.05|        0.32|                0.32|         752|            1741|            25|            48.0|\n",
      "|user_000372|      3824|Null|     m|         0.0|Singapore|         36.0|    Tuesday|              0.0|      Morning|              4.0|         0|            metal|      classicrock|            pop|      electronic|          indie|           live|singer-songwriter|       rock|alternative|undefined_genres|undefined_genres|         0.01|        0.01|        0.02|        0.02|        0.02|        0.03|        0.04|        0.04|        0.05|        0.26|                0.26|          71|            1741|            21|            25.0|\n",
      "|user_000372|      3823|Null|     m|         0.0|Singapore|         36.0|    Tuesday|              0.0|      Evening|              2.0|         0|singer-songwriter|      classicrock|          blues| femalevocalists|     electronic|            pop|            indie|alternative|       rock|undefined_genres|undefined_genres|         0.01|        0.01|        0.01|        0.02|        0.02|        0.02|        0.02|        0.02|        0.05|        0.34|                0.34|         692|            1741|            24|            21.0|\n",
      "|user_000372|      3822|Null|     m|         0.0|Singapore|         36.0|  Wednesday|              1.0|        Night|              1.0|         0|            metal|              pop|femalevocalists|progressivemetal|progressiverock|     electronic|      alternative|      indie|       rock|undefined_genres|undefined_genres|         0.01|        0.01|        0.01|        0.02|        0.02|        0.02|        0.03|        0.03|        0.07|        0.24|                0.24|         266|            1742|            25|            24.0|\n",
      "+-----------+----------+----+------+------------+---------+-------------+-----------+-----------------+-------------+-----------------+----------+-----------------+-----------------+---------------+----------------+---------------+---------------+-----------------+-----------+-----------+----------------+----------------+-------------+------------+------------+------------+------------+------------+------------+------------+------------+------------+--------------------+------------+----------------+--------------+----------------+\n",
      "only showing top 20 rows\n",
      "\n"
     ]
    }
   ],
   "source": [
    "the_model_DF.show()"
   ]
  },
  {
   "cell_type": "code",
   "execution_count": 164,
   "metadata": {},
   "outputs": [
    {
     "data": {
      "text/plain": [
       "327"
      ]
     },
     "execution_count": 164,
     "metadata": {},
     "output_type": "execute_result"
    }
   ],
   "source": [
    "the_model_DF.select('userid').distinct().count()"
   ]
  },
  {
   "cell_type": "code",
   "execution_count": 165,
   "metadata": {},
   "outputs": [],
   "source": [
    "userSession_df = the_model_DF"
   ]
  },
  {
   "cell_type": "code",
   "execution_count": 166,
   "metadata": {},
   "outputs": [
    {
     "name": "stdout",
     "output_type": "stream",
     "text": [
      "+-----------+----------+----+------+------------+---------+-------------+-----------+-----------------+-------------+-----------------+----------+-----------------+-----------------+---------------+----------------+---------------+---------------+-----------------+-----------+-----------+----------------+----------------+-------------+------------+------------+------------+------------+------------+------------+------------+------------+------------+--------------------+------------+----------------+--------------+----------------+\n",
      "|     userid|session_id| age|gender|gender_index|  country|country_index|day_of_week|day_of_week_index|  time_of_day|time_of_day_index|is_holiday|         genre_10|          genre_9|        genre_8|         genre_7|        genre_6|        genre_5|          genre_4|    genre_3|    genre_2|         genre_1| undefined_genre|genre_10_freq|genre_9_freq|genre_8_freq|genre_7_freq|genre_6_freq|genre_5_freq|genre_4_freq|genre_3_freq|genre_2_freq|genre_1_freq|undefined_genre_freq|absence_time|days_since_epoch|session_length|session_length_1|\n",
      "+-----------+----------+----+------+------------+---------+-------------+-----------+-----------------+-------------+-----------------+----------+-----------------+-----------------+---------------+----------------+---------------+---------------+-----------------+-----------+-----------+----------------+----------------+-------------+------------+------------+------------+------------+------------+------------+------------+------------+------------+--------------------+------------+----------------+--------------+----------------+\n",
      "|user_000372|      3841|Null|     m|         0.0|Singapore|         36.0|   Saturday|              6.0|        Night|              1.0|         0|         trip-hop|             punk|    classicrock|     alternative|          indie|       chillout|              pop| electronic|       rock|undefined_genres|undefined_genres|         0.01|        0.01|        0.02|        0.02|        0.02|        0.02|        0.02|        0.03|        0.05|        0.27|                0.27|         479|            1731|             4|            null|\n",
      "|user_000372|      3840|Null|     m|         0.0|Singapore|         36.0|     Monday|              2.0|      Morning|              4.0|         0|          ambient|             folk|          metal| femalevocalists|     electronic|    alternative|              pop|      indie|       rock|undefined_genres|undefined_genres|         0.01|        0.01|        0.01|        0.02|        0.02|        0.02|        0.02|        0.02|        0.06|         0.3|                 0.3|        3156|            1733|             4|             4.0|\n",
      "|user_000372|      3839|Null|     m|         0.0|Singapore|         36.0|     Monday|              2.0|LateAfternoon|              3.0|         0|      classicrock|        indierock|          metal|          covers|          indie|    alternative|            cover|        pop|       rock|undefined_genres|undefined_genres|         0.02|        0.02|        0.02|        0.02|        0.02|        0.02|        0.02|        0.03|        0.07|        0.25|                0.25|         634|            1733|             7|             4.0|\n",
      "|user_000372|      3838|Null|     m|         0.0|Singapore|         36.0|    Tuesday|              0.0|      Evening|              2.0|         0|      alternative|singer-songwriter|       acoustic|        hardcore|           punk|          metal|       electronic|      indie|       rock|undefined_genres|undefined_genres|         0.01|        0.01|        0.02|        0.02|        0.02|        0.02|        0.03|        0.03|        0.04|        0.27|                0.27|        1534|            1734|            39|             7.0|\n",
      "|user_000372|      3837|Null|     m|         0.0|Singapore|         36.0|    Tuesday|              0.0|      Evening|              2.0|         0|             soul|         chillout|           jazz|     classicrock|     electronic|    alternative|            indie|        pop|       rock|undefined_genres|undefined_genres|         0.01|        0.01|        0.01|        0.02|        0.02|        0.02|        0.02|        0.03|        0.06|        0.28|                0.28|          61|            1734|             4|            39.0|\n",
      "|user_000372|      3836|Null|     m|         0.0|Singapore|         36.0|  Wednesday|              1.0|        Night|              1.0|         0|      classicrock|            metal|           jazz|            punk|     electronic|            pop|            indie|alternative|       rock|undefined_genres|undefined_genres|         0.01|        0.01|        0.01|        0.01|        0.01|        0.02|        0.02|        0.02|        0.05|        0.33|                0.33|         203|            1735|            24|             4.0|\n",
      "|user_000372|      3835|Null|     m|         0.0|Singapore|         36.0|  Wednesday|              1.0|        Night|              1.0|         0|             punk|  femalevocalists|    classicrock|             pop|          metal|    alternative|            indie| electronic|       rock|undefined_genres|undefined_genres|         0.01|        0.01|        0.01|        0.02|        0.02|        0.02|        0.03|        0.03|        0.05|        0.28|                0.28|         123|            1735|            80|            24.0|\n",
      "|user_000372|      3834|Null|     m|         0.0|Singapore|         36.0|  Wednesday|              1.0|         Dawn|              8.0|         0|      classicrock|          newwave|    alternative|           indie|            80s|     electronic|             punk|        pop|       rock|undefined_genres|undefined_genres|         0.01|        0.01|        0.02|        0.02|        0.02|        0.02|        0.02|        0.02|        0.04|        0.34|                0.34|         125|            1735|            43|            80.0|\n",
      "|user_000372|      3833|Null|     m|         0.0|Singapore|         36.0|  Wednesday|              1.0|  LateEvening|              7.0|         0|             folk|      classicrock|    alternative|             pop|          indie|         thrash|        ahahhahah| electronic|       rock|undefined_genres|undefined_genres|         0.01|        0.02|        0.02|        0.02|        0.03|        0.04|        0.04|        0.04|        0.05|        0.29|                0.29|         983|            1735|             4|            43.0|\n",
      "|user_000372|      3832|Null|     m|         0.0|Singapore|         36.0|   Thursday|              3.0|      Morning|              4.0|         0|             punk|     instrumental|            pop|     electronica|    classicrock|    alternative|       electronic|      indie|       rock|undefined_genres|undefined_genres|         0.01|        0.01|        0.01|        0.01|        0.01|        0.01|        0.03|        0.03|        0.06|        0.32|                0.32|         545|            1736|            47|             4.0|\n",
      "|user_000372|      3831|Null|     m|         0.0|Singapore|         36.0|   Thursday|              3.0|LateAfternoon|              3.0|         0|              70s|      classicrock|            80s| femalevocalists|    alternative|            pop|            indie| electronic|       rock|undefined_genres|undefined_genres|         0.01|        0.01|        0.01|        0.01|        0.02|        0.02|        0.02|        0.02|        0.05|         0.3|                 0.3|         511|            1736|            20|            47.0|\n",
      "|user_000372|      3830|Null|     m|         0.0|Singapore|         36.0|     Friday|              4.0|LateAfternoon|              3.0|         0|             soul|            metal|            pop|           indie|    alternative|femalevocalists|      classicrock| electronic|       rock|undefined_genres|undefined_genres|         0.02|        0.02|        0.02|        0.02|        0.02|        0.02|        0.02|        0.02|        0.05|        0.27|                0.27|        1355|            1737|            54|            20.0|\n",
      "|user_000372|      3829|Null|     m|         0.0|Singapore|         36.0|   Saturday|              6.0|         Dawn|              8.0|         0|     instrumental|  femalevocalists|          cover|           metal|            pop|     electronic|      alternative|      indie|       rock|undefined_genres|undefined_genres|         0.01|        0.01|        0.01|        0.02|        0.02|        0.02|        0.02|        0.03|        0.03|        0.29|                0.29|         739|            1738|             4|            54.0|\n",
      "|user_000372|      3828|Null|     m|         0.0|Singapore|         36.0|     Monday|              2.0|         Dawn|              8.0|         0|             folk|          ambient|            pop| femalevocalists|    classicrock|    alternative|       electronic|      indie|       rock|undefined_genres|undefined_genres|         0.01|        0.01|        0.02|        0.02|        0.02|        0.02|        0.03|        0.03|        0.06|        0.31|                0.31|        2843|            1740|            42|             4.0|\n",
      "|user_000372|      3827|Null|     m|         0.0|Singapore|         36.0|     Monday|              2.0|      Morning|              4.0|         0|        americana|             rock|          metal|     psychobilly|      hellbilly|          drunk|    outlawcountry|       folk|    country|undefined_genres|undefined_genres|         0.02|        0.02|        0.02|        0.02|        0.02|        0.02|        0.02|        0.03|        0.07|        0.28|                0.28|         157|            1740|            43|            42.0|\n",
      "|user_000372|      3826|Null|     m|         0.0|Singapore|         36.0|     Monday|              2.0|LateAfternoon|              3.0|         0|          newwave|              pop|    classicrock|           metal|alternativerock|     electronic|            indie|alternative|       rock|undefined_genres|undefined_genres|         0.01|        0.02|        0.02|        0.02|        0.02|        0.02|        0.02|        0.03|        0.05|        0.25|                0.25|         552|            1740|            48|            43.0|\n",
      "|user_000372|      3825|Null|     m|         0.0|Singapore|         36.0|    Tuesday|              0.0|      Morning|              4.0|         0|              pop|  femalevocalists|           punk|           metal|       punkrock|    alternative|       electronic|      indie|       rock|undefined_genres|undefined_genres|         0.01|        0.01|        0.02|        0.02|        0.02|        0.02|        0.02|        0.03|        0.05|        0.32|                0.32|         752|            1741|            25|            48.0|\n",
      "|user_000372|      3824|Null|     m|         0.0|Singapore|         36.0|    Tuesday|              0.0|      Morning|              4.0|         0|            metal|      classicrock|            pop|      electronic|          indie|           live|singer-songwriter|       rock|alternative|undefined_genres|undefined_genres|         0.01|        0.01|        0.02|        0.02|        0.02|        0.03|        0.04|        0.04|        0.05|        0.26|                0.26|          71|            1741|            21|            25.0|\n",
      "|user_000372|      3823|Null|     m|         0.0|Singapore|         36.0|    Tuesday|              0.0|      Evening|              2.0|         0|singer-songwriter|      classicrock|          blues| femalevocalists|     electronic|            pop|            indie|alternative|       rock|undefined_genres|undefined_genres|         0.01|        0.01|        0.01|        0.02|        0.02|        0.02|        0.02|        0.02|        0.05|        0.34|                0.34|         692|            1741|            24|            21.0|\n",
      "|user_000372|      3822|Null|     m|         0.0|Singapore|         36.0|  Wednesday|              1.0|        Night|              1.0|         0|            metal|              pop|femalevocalists|progressivemetal|progressiverock|     electronic|      alternative|      indie|       rock|undefined_genres|undefined_genres|         0.01|        0.01|        0.01|        0.02|        0.02|        0.02|        0.03|        0.03|        0.07|        0.24|                0.24|         266|            1742|            25|            24.0|\n",
      "+-----------+----------+----+------+------------+---------+-------------+-----------+-----------------+-------------+-----------------+----------+-----------------+-----------------+---------------+----------------+---------------+---------------+-----------------+-----------+-----------+----------------+----------------+-------------+------------+------------+------------+------------+------------+------------+------------+------------+------------+--------------------+------------+----------------+--------------+----------------+\n",
      "only showing top 20 rows\n",
      "\n"
     ]
    }
   ],
   "source": [
    "userSession_df.show()"
   ]
  },
  {
   "cell_type": "code",
   "execution_count": 167,
   "metadata": {},
   "outputs": [
    {
     "data": {
      "text/plain": [
       "327"
      ]
     },
     "execution_count": 167,
     "metadata": {},
     "output_type": "execute_result"
    }
   ],
   "source": [
    "userSession_df.select('userid').distinct().count()"
   ]
  },
  {
   "cell_type": "markdown",
   "metadata": {},
   "source": [
    "### EDA"
   ]
  },
  {
   "cell_type": "markdown",
   "metadata": {},
   "source": [
    "#### Explore Distribution of Session Lengths"
   ]
  },
  {
   "cell_type": "code",
   "execution_count": 168,
   "metadata": {},
   "outputs": [],
   "source": [
    "plot_df = userSession_df.toPandas()"
   ]
  },
  {
   "cell_type": "code",
   "execution_count": 169,
   "metadata": {},
   "outputs": [],
   "source": [
    "plot_df2 = plot_df[['age','day_of_week','time_of_day','session_length','gender']].dropna()"
   ]
  },
  {
   "cell_type": "code",
   "execution_count": 170,
   "metadata": {},
   "outputs": [
    {
     "data": {
      "image/png": "[encoded data removed]",
      "text/plain": [
       "<Figure size 775.625x720 with 16 Axes>"
      ]
     },
     "metadata": {},
     "output_type": "display_data"
    }
   ],
   "source": [
    "g = sns.PairGrid(plot_df2, vars=['age', 'gender', 'time_of_day', 'session_length'],hue='gender', palette='RdBu_r')\n",
    "g.map(plt.scatter, alpha=0.8)\n",
    "g.add_legend();"
   ]
  },
  {
   "cell_type": "code",
   "execution_count": 171,
   "metadata": {},
   "outputs": [
    {
     "data": {
      "image/png": "[encoded data removed]",
      "text/plain": [
       "<Figure size 2592x1080 with 1 Axes>"
      ]
     },
     "metadata": {},
     "output_type": "display_data"
    }
   ],
   "source": [
    "fig, ax = plt.subplots()\n",
    "fig.set_size_inches(36, 15)\n",
    "sns.countplot(plot_df['session_length'])\n",
    "ax.set_xticklabels(ax.get_xticklabels(), rotation=90, ha=\"right\")\n",
    "plt.show()"
   ]
  },
  {
   "cell_type": "code",
   "execution_count": null,
   "metadata": {},
   "outputs": [],
   "source": []
  },
  {
   "cell_type": "code",
   "execution_count": 172,
   "metadata": {},
   "outputs": [],
   "source": [
    "userSession_df = userSession_df.withColumn('log_sess', round(log(\"session_length\"),2)).drop('session_length').withColumnRenamed('log_sess','session_length')"
   ]
  },
  {
   "cell_type": "code",
   "execution_count": 173,
   "metadata": {},
   "outputs": [
    {
     "name": "stdout",
     "output_type": "stream",
     "text": [
      "+-----------+----------+----+------+------------+---------+-------------+-----------+-----------------+-------------+-----------------+----------+-----------+-----------------+-----------+---------------+-----------+-----------+----------+-----------+-------+----------------+----------------+-------------+------------+------------+------------+------------+------------+------------+------------+------------+------------+--------------------+------------+----------------+----------------+--------------+\n",
      "|userid     |session_id|age |gender|gender_index|country  |country_index|day_of_week|day_of_week_index|time_of_day  |time_of_day_index|is_holiday|genre_10   |genre_9          |genre_8    |genre_7        |genre_6    |genre_5    |genre_4   |genre_3    |genre_2|genre_1         |undefined_genre |genre_10_freq|genre_9_freq|genre_8_freq|genre_7_freq|genre_6_freq|genre_5_freq|genre_4_freq|genre_3_freq|genre_2_freq|genre_1_freq|undefined_genre_freq|absence_time|days_since_epoch|session_length_1|session_length|\n",
      "+-----------+----------+----+------+------------+---------+-------------+-----------+-----------------+-------------+-----------------+----------+-----------+-----------------+-----------+---------------+-----------+-----------+----------+-----------+-------+----------------+----------------+-------------+------------+------------+------------+------------+------------+------------+------------+------------+------------+--------------------+------------+----------------+----------------+--------------+\n",
      "|user_000372|3841      |Null|m     |0.0         |Singapore|36.0         |Saturday   |6.0              |Night        |1.0              |0         |trip-hop   |punk             |classicrock|alternative    |indie      |chillout   |pop       |electronic |rock   |undefined_genres|undefined_genres|0.01         |0.01        |0.02        |0.02        |0.02        |0.02        |0.02        |0.03        |0.05        |0.27        |0.27                |479         |1731            |null            |1.39          |\n",
      "|user_000372|3840      |Null|m     |0.0         |Singapore|36.0         |Monday     |2.0              |Morning      |4.0              |0         |ambient    |folk             |metal      |femalevocalists|electronic |alternative|pop       |indie      |rock   |undefined_genres|undefined_genres|0.01         |0.01        |0.01        |0.02        |0.02        |0.02        |0.02        |0.02        |0.06        |0.3         |0.3                 |3156        |1733            |4.0             |1.39          |\n",
      "|user_000372|3839      |Null|m     |0.0         |Singapore|36.0         |Monday     |2.0              |LateAfternoon|3.0              |0         |classicrock|indierock        |metal      |covers         |indie      |alternative|cover     |pop        |rock   |undefined_genres|undefined_genres|0.02         |0.02        |0.02        |0.02        |0.02        |0.02        |0.02        |0.03        |0.07        |0.25        |0.25                |634         |1733            |4.0             |1.95          |\n",
      "|user_000372|3838      |Null|m     |0.0         |Singapore|36.0         |Tuesday    |0.0              |Evening      |2.0              |0         |alternative|singer-songwriter|acoustic   |hardcore       |punk       |metal      |electronic|indie      |rock   |undefined_genres|undefined_genres|0.01         |0.01        |0.02        |0.02        |0.02        |0.02        |0.03        |0.03        |0.04        |0.27        |0.27                |1534        |1734            |7.0             |3.66          |\n",
      "|user_000372|3837      |Null|m     |0.0         |Singapore|36.0         |Tuesday    |0.0              |Evening      |2.0              |0         |soul       |chillout         |jazz       |classicrock    |electronic |alternative|indie     |pop        |rock   |undefined_genres|undefined_genres|0.01         |0.01        |0.01        |0.02        |0.02        |0.02        |0.02        |0.03        |0.06        |0.28        |0.28                |61          |1734            |39.0            |1.39          |\n",
      "|user_000372|3836      |Null|m     |0.0         |Singapore|36.0         |Wednesday  |1.0              |Night        |1.0              |0         |classicrock|metal            |jazz       |punk           |electronic |pop        |indie     |alternative|rock   |undefined_genres|undefined_genres|0.01         |0.01        |0.01        |0.01        |0.01        |0.02        |0.02        |0.02        |0.05        |0.33        |0.33                |203         |1735            |4.0             |3.18          |\n",
      "|user_000372|3835      |Null|m     |0.0         |Singapore|36.0         |Wednesday  |1.0              |Night        |1.0              |0         |punk       |femalevocalists  |classicrock|pop            |metal      |alternative|indie     |electronic |rock   |undefined_genres|undefined_genres|0.01         |0.01        |0.01        |0.02        |0.02        |0.02        |0.03        |0.03        |0.05        |0.28        |0.28                |123         |1735            |24.0            |4.38          |\n",
      "|user_000372|3834      |Null|m     |0.0         |Singapore|36.0         |Wednesday  |1.0              |Dawn         |8.0              |0         |classicrock|newwave          |alternative|indie          |80s        |electronic |punk      |pop        |rock   |undefined_genres|undefined_genres|0.01         |0.01        |0.02        |0.02        |0.02        |0.02        |0.02        |0.02        |0.04        |0.34        |0.34                |125         |1735            |80.0            |3.76          |\n",
      "|user_000372|3833      |Null|m     |0.0         |Singapore|36.0         |Wednesday  |1.0              |LateEvening  |7.0              |0         |folk       |classicrock      |alternative|pop            |indie      |thrash     |ahahhahah |electronic |rock   |undefined_genres|undefined_genres|0.01         |0.02        |0.02        |0.02        |0.03        |0.04        |0.04        |0.04        |0.05        |0.29        |0.29                |983         |1735            |43.0            |1.39          |\n",
      "|user_000372|3832      |Null|m     |0.0         |Singapore|36.0         |Thursday   |3.0              |Morning      |4.0              |0         |punk       |instrumental     |pop        |electronica    |classicrock|alternative|electronic|indie      |rock   |undefined_genres|undefined_genres|0.01         |0.01        |0.01        |0.01        |0.01        |0.01        |0.03        |0.03        |0.06        |0.32        |0.32                |545         |1736            |4.0             |3.85          |\n",
      "+-----------+----------+----+------+------------+---------+-------------+-----------+-----------------+-------------+-----------------+----------+-----------+-----------------+-----------+---------------+-----------+-----------+----------+-----------+-------+----------------+----------------+-------------+------------+------------+------------+------------+------------+------------+------------+------------+------------+--------------------+------------+----------------+----------------+--------------+\n",
      "only showing top 10 rows\n",
      "\n"
     ]
    }
   ],
   "source": [
    "userSession_df.show(10, False)"
   ]
  },
  {
   "cell_type": "code",
   "execution_count": 174,
   "metadata": {},
   "outputs": [],
   "source": [
    "#w = Window.partitionBy(\"userid\").orderBy(\"window\").rowsBetween(Window.unboundedPreceding,Window.currentRow)\n",
    "#(user_session_with_window_df.withColumn(\"cumSum\", sum(\"session_length\").over(w)).show())"
   ]
  },
  {
   "cell_type": "code",
   "execution_count": 175,
   "metadata": {},
   "outputs": [],
   "source": [
    "plot_log_df = userSession_df.toPandas()"
   ]
  },
  {
   "cell_type": "code",
   "execution_count": 176,
   "metadata": {},
   "outputs": [
    {
     "data": {
      "text/plain": [
       "<matplotlib.axes._subplots.AxesSubplot at 0x7f69dd667d10>"
      ]
     },
     "execution_count": 176,
     "metadata": {},
     "output_type": "execute_result"
    },
    {
     "data": {
      "image/png": "[encoded data removed]",
      "text/plain": [
       "<Figure size 1440x1080 with 1 Axes>"
      ]
     },
     "metadata": {},
     "output_type": "display_data"
    }
   ],
   "source": [
    "fig, ax = plt.subplots()\n",
    "fig.set_size_inches(20, 15)\n",
    "sns.countplot(plot_log_df['session_length'])"
   ]
  },
  {
   "cell_type": "code",
   "execution_count": 177,
   "metadata": {},
   "outputs": [
    {
     "data": {
      "image/png": "[encoded data removed]",
      "text/plain": [
       "<Figure size 1259x288 with 1 Axes>"
      ]
     },
     "metadata": {},
     "output_type": "display_data"
    }
   ],
   "source": [
    "with sns.axes_style(style='ticks'):\n",
    "    g = sns.factorplot(\"day_of_week\", \"session_length\", \"time_of_day\", data=plot_log_df, kind=\"box\", size=4, aspect=4)\n",
    "    g.set_axis_labels(\"Day of Week\", \"Session Length\")"
   ]
  },
  {
   "cell_type": "code",
   "execution_count": 184,
   "metadata": {},
   "outputs": [
    {
     "data": {
      "text/plain": [
       "<matplotlib.axes._subplots.AxesSubplot at 0x7f6a472826d0>"
      ]
     },
     "execution_count": 184,
     "metadata": {},
     "output_type": "execute_result"
    },
    {
     "data": {
      "image/png": "[encoded data removed]",
      "text/plain": [
       "<Figure size 1440x864 with 1 Axes>"
      ]
     },
     "metadata": {},
     "output_type": "display_data"
    }
   ],
   "source": [
    "fig, ax = plt.subplots()\n",
    "fig.set_size_inches(20, 12)\n",
    "sns.countplot(plot_df['day_of_week'])"
   ]
  },
  {
   "cell_type": "code",
   "execution_count": 179,
   "metadata": {},
   "outputs": [
    {
     "name": "stdout",
     "output_type": "stream",
     "text": [
      "+-------------+------------+\n",
      "|  time_of_day|num_sessions|\n",
      "+-------------+------------+\n",
      "|      Evening|       41963|\n",
      "|         Dawn|       16312|\n",
      "|  LateEvening|       22599|\n",
      "|  LateMorning|       27191|\n",
      "|      Morning|       30984|\n",
      "|    Afternoon|       49618|\n",
      "|        Lunch|       30420|\n",
      "|        Night|       43932|\n",
      "|LateAfternoon|       32714|\n",
      "+-------------+------------+\n",
      "\n"
     ]
    }
   ],
   "source": [
    "sess_tod_df = userSession_df.groupBy('time_of_day').agg(count(\"time_of_day\").alias(\"num_sessions\"))\n",
    "sess_tod_df.show()"
   ]
  },
  {
   "cell_type": "code",
   "execution_count": 193,
   "metadata": {},
   "outputs": [],
   "source": [
    "timeofday    = list([x[0] for x in pd.Series(sess_tod_df.select('time_of_day').collect())])\n",
    "num_sessions = list([y[0] for y in pd.Series(sess_tod_df.select('num_sessions').collect())])"
   ]
  },
  {
   "cell_type": "code",
   "execution_count": 183,
   "metadata": {},
   "outputs": [
    {
     "data": {
      "text/plain": [
       "<matplotlib.axes._subplots.AxesSubplot at 0x7f6a44a34490>"
      ]
     },
     "execution_count": 183,
     "metadata": {},
     "output_type": "execute_result"
    },
    {
     "data": {
      "image/png": "[encoded data removed]",
      "text/plain": [
       "<Figure size 1080x864 with 1 Axes>"
      ]
     },
     "metadata": {},
     "output_type": "display_data"
    }
   ],
   "source": [
    "fig, ax = plt.subplots()\n",
    "fig.set_size_inches(15,12)\n",
    "sns.countplot(plot_df['time_of_day'])"
   ]
  },
  {
   "cell_type": "code",
   "execution_count": 190,
   "metadata": {},
   "outputs": [
    {
     "name": "stdout",
     "output_type": "stream",
     "text": [
      "+-------------+---------------+\n",
      "|  time_of_day|avg_sess_length|\n",
      "+-------------+---------------+\n",
      "|      Evening|           3.62|\n",
      "|         Dawn|           3.71|\n",
      "|  LateEvening|           3.59|\n",
      "|  LateMorning|           3.67|\n",
      "|      Morning|           3.72|\n",
      "|    Afternoon|           3.66|\n",
      "|        Lunch|           3.69|\n",
      "|        Night|           3.64|\n",
      "|LateAfternoon|           3.63|\n",
      "+-------------+---------------+\n",
      "\n"
     ]
    }
   ],
   "source": [
    "sess_tod_sl_df = userSession_df.groupBy('time_of_day').agg(round(avg(\"session_length\"),2).alias(\"avg_sess_length\"))\n",
    "sess_tod_sl_df.show()"
   ]
  },
  {
   "cell_type": "code",
   "execution_count": 194,
   "metadata": {},
   "outputs": [],
   "source": [
    "avg_sess_len = list([z[0] for z in pd.Series(sess_tod_sl_df.select('avg_sess_length').collect())])"
   ]
  },
  {
   "cell_type": "code",
   "execution_count": 196,
   "metadata": {},
   "outputs": [
    {
     "data": {
      "text/plain": [
       "[3.62, 3.71, 3.59, 3.67, 3.72, 3.66, 3.69, 3.64, 3.63]"
      ]
     },
     "execution_count": 196,
     "metadata": {},
     "output_type": "execute_result"
    }
   ],
   "source": [
    "avg_sess_len"
   ]
  },
  {
   "cell_type": "code",
   "execution_count": 199,
   "metadata": {},
   "outputs": [
    {
     "data": {
      "text/plain": [
       "array([[<matplotlib.axes._subplots.AxesSubplot object at 0x7f69ff728490>]],\n",
       "      dtype=object)"
      ]
     },
     "execution_count": 199,
     "metadata": {},
     "output_type": "execute_result"
    },
    {
     "data": {
      "image/png": "[encoded data removed]",
      "text/plain": [
       "<Figure size 1080x864 with 1 Axes>"
      ]
     },
     "metadata": {},
     "output_type": "display_data"
    },
    {
     "data": {
      "image/png": "[encoded data removed]",
      "text/plain": [
       "<Figure size 432x288 with 1 Axes>"
      ]
     },
     "metadata": {},
     "output_type": "display_data"
    }
   ],
   "source": [
    "fig, ax = plt.subplots()\n",
    "fig.set_size_inches(15,12)\n"
   ]
  },
  {
   "cell_type": "code",
   "execution_count": null,
   "metadata": {},
   "outputs": [],
   "source": [
    "plt.bar()"
   ]
  },
  {
   "cell_type": "code",
   "execution_count": 186,
   "metadata": {},
   "outputs": [
    {
     "data": {
      "image/png": "[encoded data removed]",
      "text/plain": [
       "<Figure size 287x180 with 2 Axes>"
      ]
     },
     "metadata": {},
     "output_type": "display_data"
    }
   ],
   "source": [
    "\n",
    "sns.pairplot(plot_df2, hue='time_of_day', size=2.5)\n",
    "plt.show()"
   ]
  },
  {
   "cell_type": "code",
   "execution_count": 200,
   "metadata": {},
   "outputs": [
    {
     "data": {
      "text/plain": [
       "<seaborn.axisgrid.FacetGrid at 0x7f6a4502f110>"
      ]
     },
     "execution_count": 200,
     "metadata": {},
     "output_type": "execute_result"
    },
    {
     "data": {
      "image/png": "[encoded data removed]",
      "text/plain": [
       "<Figure size 467x360 with 1 Axes>"
      ]
     },
     "metadata": {},
     "output_type": "display_data"
    }
   ],
   "source": [
    "sns.lmplot(\"age\", \"session_length\", data=plot_log_df, hue='time_of_day', fit_reg=False)"
   ]
  },
  {
   "cell_type": "code",
   "execution_count": 219,
   "metadata": {},
   "outputs": [
    {
     "ename": "TypeError",
     "evalue": "can't multiply sequence by non-int of type 'float'",
     "output_type": "error",
     "traceback": [
      "\u001b[0;31m\u001b[0m",
      "\u001b[0;31mTypeError\u001b[0mTraceback (most recent call last)",
      "\u001b[0;32m<ipython-input-219-3ff3952e5e90>\u001b[0m in \u001b[0;36m<module>\u001b[0;34m()\u001b[0m\n\u001b[0;32m----> 1\u001b[0;31m \u001b[0msns\u001b[0m\u001b[0;34m.\u001b[0m\u001b[0mjointplot\u001b[0m\u001b[0;34m(\u001b[0m\u001b[0;34m\"session_length\"\u001b[0m\u001b[0;34m,\u001b[0m \u001b[0;34m\"age\"\u001b[0m\u001b[0;34m,\u001b[0m \u001b[0mdata\u001b[0m\u001b[0;34m=\u001b[0m\u001b[0mplot_log_df\u001b[0m\u001b[0;34m.\u001b[0m\u001b[0mdropna\u001b[0m\u001b[0;34m(\u001b[0m\u001b[0;34m)\u001b[0m\u001b[0;34m,\u001b[0m \u001b[0mkind\u001b[0m\u001b[0;34m=\u001b[0m\u001b[0;34m'reg'\u001b[0m\u001b[0;34m)\u001b[0m\u001b[0;34m;\u001b[0m\u001b[0;34m\u001b[0m\u001b[0m\n\u001b[0m",
      "\u001b[0;32m/usr/local/lib/python2.7/dist-packages/seaborn/axisgrid.pyc\u001b[0m in \u001b[0;36mjointplot\u001b[0;34m(x, y, data, kind, stat_func, color, height, ratio, space, dropna, xlim, ylim, joint_kws, marginal_kws, annot_kws, **kwargs)\u001b[0m\n\u001b[1;32m   2323\u001b[0m \u001b[0;34m\u001b[0m\u001b[0m\n\u001b[1;32m   2324\u001b[0m         \u001b[0mmarginal_kws\u001b[0m\u001b[0;34m.\u001b[0m\u001b[0msetdefault\u001b[0m\u001b[0;34m(\u001b[0m\u001b[0;34m\"color\"\u001b[0m\u001b[0;34m,\u001b[0m \u001b[0mcolor\u001b[0m\u001b[0;34m)\u001b[0m\u001b[0;34m\u001b[0m\u001b[0m\n\u001b[0;32m-> 2325\u001b[0;31m         \u001b[0mgrid\u001b[0m\u001b[0;34m.\u001b[0m\u001b[0mplot_marginals\u001b[0m\u001b[0;34m(\u001b[0m\u001b[0mdistplot\u001b[0m\u001b[0;34m,\u001b[0m \u001b[0;34m**\u001b[0m\u001b[0mmarginal_kws\u001b[0m\u001b[0;34m)\u001b[0m\u001b[0;34m\u001b[0m\u001b[0m\n\u001b[0m\u001b[1;32m   2326\u001b[0m \u001b[0;34m\u001b[0m\u001b[0m\n\u001b[1;32m   2327\u001b[0m         \u001b[0mjoint_kws\u001b[0m\u001b[0;34m.\u001b[0m\u001b[0msetdefault\u001b[0m\u001b[0;34m(\u001b[0m\u001b[0;34m\"color\"\u001b[0m\u001b[0;34m,\u001b[0m \u001b[0mcolor\u001b[0m\u001b[0;34m)\u001b[0m\u001b[0;34m\u001b[0m\u001b[0m\n",
      "\u001b[0;32m/usr/local/lib/python2.7/dist-packages/seaborn/axisgrid.pyc\u001b[0m in \u001b[0;36mplot_marginals\u001b[0;34m(self, func, **kwargs)\u001b[0m\n\u001b[1;32m   1811\u001b[0m         \u001b[0mkwargs\u001b[0m\u001b[0;34m[\u001b[0m\u001b[0;34m\"vertical\"\u001b[0m\u001b[0;34m]\u001b[0m \u001b[0;34m=\u001b[0m \u001b[0mTrue\u001b[0m\u001b[0;34m\u001b[0m\u001b[0m\n\u001b[1;32m   1812\u001b[0m         \u001b[0mplt\u001b[0m\u001b[0;34m.\u001b[0m\u001b[0msca\u001b[0m\u001b[0;34m(\u001b[0m\u001b[0mself\u001b[0m\u001b[0;34m.\u001b[0m\u001b[0max_marg_y\u001b[0m\u001b[0;34m)\u001b[0m\u001b[0;34m\u001b[0m\u001b[0m\n\u001b[0;32m-> 1813\u001b[0;31m         \u001b[0mfunc\u001b[0m\u001b[0;34m(\u001b[0m\u001b[0mself\u001b[0m\u001b[0;34m.\u001b[0m\u001b[0my\u001b[0m\u001b[0;34m,\u001b[0m \u001b[0;34m**\u001b[0m\u001b[0mkwargs\u001b[0m\u001b[0;34m)\u001b[0m\u001b[0;34m\u001b[0m\u001b[0m\n\u001b[0m\u001b[1;32m   1814\u001b[0m \u001b[0;34m\u001b[0m\u001b[0m\n\u001b[1;32m   1815\u001b[0m         \u001b[0;32mreturn\u001b[0m \u001b[0mself\u001b[0m\u001b[0;34m\u001b[0m\u001b[0m\n",
      "\u001b[0;32m/usr/local/lib/python2.7/dist-packages/seaborn/distributions.pyc\u001b[0m in \u001b[0;36mdistplot\u001b[0;34m(a, bins, hist, kde, rug, fit, hist_kws, kde_kws, rug_kws, fit_kws, color, vertical, norm_hist, axlabel, label, ax)\u001b[0m\n\u001b[1;32m    213\u001b[0m     \u001b[0;32mif\u001b[0m \u001b[0mhist\u001b[0m\u001b[0;34m:\u001b[0m\u001b[0;34m\u001b[0m\u001b[0m\n\u001b[1;32m    214\u001b[0m         \u001b[0;32mif\u001b[0m \u001b[0mbins\u001b[0m \u001b[0;32mis\u001b[0m \u001b[0mNone\u001b[0m\u001b[0;34m:\u001b[0m\u001b[0;34m\u001b[0m\u001b[0m\n\u001b[0;32m--> 215\u001b[0;31m             \u001b[0mbins\u001b[0m \u001b[0;34m=\u001b[0m \u001b[0mmin\u001b[0m\u001b[0;34m(\u001b[0m\u001b[0m_freedman_diaconis_bins\u001b[0m\u001b[0;34m(\u001b[0m\u001b[0ma\u001b[0m\u001b[0;34m)\u001b[0m\u001b[0;34m,\u001b[0m \u001b[0;36m50\u001b[0m\u001b[0;34m)\u001b[0m\u001b[0;34m\u001b[0m\u001b[0m\n\u001b[0m\u001b[1;32m    216\u001b[0m         \u001b[0mhist_kws\u001b[0m\u001b[0;34m.\u001b[0m\u001b[0msetdefault\u001b[0m\u001b[0;34m(\u001b[0m\u001b[0;34m\"alpha\"\u001b[0m\u001b[0;34m,\u001b[0m \u001b[0;36m0.4\u001b[0m\u001b[0;34m)\u001b[0m\u001b[0;34m\u001b[0m\u001b[0m\n\u001b[1;32m    217\u001b[0m         \u001b[0;32mif\u001b[0m \u001b[0mLooseVersion\u001b[0m\u001b[0;34m(\u001b[0m\u001b[0mmpl\u001b[0m\u001b[0;34m.\u001b[0m\u001b[0m__version__\u001b[0m\u001b[0;34m)\u001b[0m \u001b[0;34m<\u001b[0m \u001b[0mLooseVersion\u001b[0m\u001b[0;34m(\u001b[0m\u001b[0;34m\"2.2\"\u001b[0m\u001b[0;34m)\u001b[0m\u001b[0;34m:\u001b[0m\u001b[0;34m\u001b[0m\u001b[0m\n",
      "\u001b[0;32m/usr/local/lib/python2.7/dist-packages/seaborn/distributions.pyc\u001b[0m in \u001b[0;36m_freedman_diaconis_bins\u001b[0;34m(a)\u001b[0m\n\u001b[1;32m     32\u001b[0m     \u001b[0;32mif\u001b[0m \u001b[0mlen\u001b[0m\u001b[0;34m(\u001b[0m\u001b[0ma\u001b[0m\u001b[0;34m)\u001b[0m \u001b[0;34m<\u001b[0m \u001b[0;36m2\u001b[0m\u001b[0;34m:\u001b[0m\u001b[0;34m\u001b[0m\u001b[0m\n\u001b[1;32m     33\u001b[0m         \u001b[0;32mreturn\u001b[0m \u001b[0;36m1\u001b[0m\u001b[0;34m\u001b[0m\u001b[0m\n\u001b[0;32m---> 34\u001b[0;31m     \u001b[0mh\u001b[0m \u001b[0;34m=\u001b[0m \u001b[0;36m2\u001b[0m \u001b[0;34m*\u001b[0m \u001b[0miqr\u001b[0m\u001b[0;34m(\u001b[0m\u001b[0ma\u001b[0m\u001b[0;34m)\u001b[0m \u001b[0;34m/\u001b[0m \u001b[0;34m(\u001b[0m\u001b[0mlen\u001b[0m\u001b[0;34m(\u001b[0m\u001b[0ma\u001b[0m\u001b[0;34m)\u001b[0m \u001b[0;34m**\u001b[0m \u001b[0;34m(\u001b[0m\u001b[0;36m1\u001b[0m \u001b[0;34m/\u001b[0m \u001b[0;36m3\u001b[0m\u001b[0;34m)\u001b[0m\u001b[0;34m)\u001b[0m\u001b[0;34m\u001b[0m\u001b[0m\n\u001b[0m\u001b[1;32m     35\u001b[0m     \u001b[0;31m# fall back to sqrt(a) bins if iqr is 0\u001b[0m\u001b[0;34m\u001b[0m\u001b[0;34m\u001b[0m\u001b[0m\n\u001b[1;32m     36\u001b[0m     \u001b[0;32mif\u001b[0m \u001b[0mh\u001b[0m \u001b[0;34m==\u001b[0m \u001b[0;36m0\u001b[0m\u001b[0;34m:\u001b[0m\u001b[0;34m\u001b[0m\u001b[0m\n",
      "\u001b[0;32m/usr/local/lib/python2.7/dist-packages/seaborn/utils.pyc\u001b[0m in \u001b[0;36miqr\u001b[0;34m(a)\u001b[0m\n\u001b[1;32m    364\u001b[0m     \u001b[0;34m\"\"\"Calculate the IQR for an array of numbers.\"\"\"\u001b[0m\u001b[0;34m\u001b[0m\u001b[0m\n\u001b[1;32m    365\u001b[0m     \u001b[0ma\u001b[0m \u001b[0;34m=\u001b[0m \u001b[0mnp\u001b[0m\u001b[0;34m.\u001b[0m\u001b[0masarray\u001b[0m\u001b[0;34m(\u001b[0m\u001b[0ma\u001b[0m\u001b[0;34m)\u001b[0m\u001b[0;34m\u001b[0m\u001b[0m\n\u001b[0;32m--> 366\u001b[0;31m     \u001b[0mq1\u001b[0m \u001b[0;34m=\u001b[0m \u001b[0mstats\u001b[0m\u001b[0;34m.\u001b[0m\u001b[0mscoreatpercentile\u001b[0m\u001b[0;34m(\u001b[0m\u001b[0ma\u001b[0m\u001b[0;34m,\u001b[0m \u001b[0;36m25\u001b[0m\u001b[0;34m)\u001b[0m\u001b[0;34m\u001b[0m\u001b[0m\n\u001b[0m\u001b[1;32m    367\u001b[0m     \u001b[0mq3\u001b[0m \u001b[0;34m=\u001b[0m \u001b[0mstats\u001b[0m\u001b[0;34m.\u001b[0m\u001b[0mscoreatpercentile\u001b[0m\u001b[0;34m(\u001b[0m\u001b[0ma\u001b[0m\u001b[0;34m,\u001b[0m \u001b[0;36m75\u001b[0m\u001b[0;34m)\u001b[0m\u001b[0;34m\u001b[0m\u001b[0m\n\u001b[1;32m    368\u001b[0m     \u001b[0;32mreturn\u001b[0m \u001b[0mq3\u001b[0m \u001b[0;34m-\u001b[0m \u001b[0mq1\u001b[0m\u001b[0;34m\u001b[0m\u001b[0m\n",
      "\u001b[0;32m/usr/local/lib/python2.7/dist-packages/scipy/stats/stats.pyc\u001b[0m in \u001b[0;36mscoreatpercentile\u001b[0;34m(a, per, limit, interpolation_method, axis)\u001b[0m\n\u001b[1;32m   1661\u001b[0m         \u001b[0maxis\u001b[0m \u001b[0;34m=\u001b[0m \u001b[0;36m0\u001b[0m\u001b[0;34m\u001b[0m\u001b[0m\n\u001b[1;32m   1662\u001b[0m \u001b[0;34m\u001b[0m\u001b[0m\n\u001b[0;32m-> 1663\u001b[0;31m     \u001b[0;32mreturn\u001b[0m \u001b[0m_compute_qth_percentile\u001b[0m\u001b[0;34m(\u001b[0m\u001b[0msorted\u001b[0m\u001b[0;34m,\u001b[0m \u001b[0mper\u001b[0m\u001b[0;34m,\u001b[0m \u001b[0minterpolation_method\u001b[0m\u001b[0;34m,\u001b[0m \u001b[0maxis\u001b[0m\u001b[0;34m)\u001b[0m\u001b[0;34m\u001b[0m\u001b[0m\n\u001b[0m\u001b[1;32m   1664\u001b[0m \u001b[0;34m\u001b[0m\u001b[0m\n\u001b[1;32m   1665\u001b[0m \u001b[0;34m\u001b[0m\u001b[0m\n",
      "\u001b[0;32m/usr/local/lib/python2.7/dist-packages/scipy/stats/stats.pyc\u001b[0m in \u001b[0;36m_compute_qth_percentile\u001b[0;34m(sorted, per, interpolation_method, axis)\u001b[0m\n\u001b[1;32m   1704\u001b[0m \u001b[0;34m\u001b[0m\u001b[0m\n\u001b[1;32m   1705\u001b[0m     \u001b[0;31m# Use np.add.reduce (== np.sum but a little faster) to coerce data type\u001b[0m\u001b[0;34m\u001b[0m\u001b[0;34m\u001b[0m\u001b[0m\n\u001b[0;32m-> 1706\u001b[0;31m     \u001b[0;32mreturn\u001b[0m \u001b[0mnp\u001b[0m\u001b[0;34m.\u001b[0m\u001b[0madd\u001b[0m\u001b[0;34m.\u001b[0m\u001b[0mreduce\u001b[0m\u001b[0;34m(\u001b[0m\u001b[0msorted\u001b[0m\u001b[0;34m[\u001b[0m\u001b[0mindexer\u001b[0m\u001b[0;34m]\u001b[0m \u001b[0;34m*\u001b[0m \u001b[0mweights\u001b[0m\u001b[0;34m,\u001b[0m \u001b[0maxis\u001b[0m\u001b[0;34m=\u001b[0m\u001b[0maxis\u001b[0m\u001b[0;34m)\u001b[0m \u001b[0;34m/\u001b[0m \u001b[0msumval\u001b[0m\u001b[0;34m\u001b[0m\u001b[0m\n\u001b[0m\u001b[1;32m   1707\u001b[0m \u001b[0;34m\u001b[0m\u001b[0m\n\u001b[1;32m   1708\u001b[0m \u001b[0;34m\u001b[0m\u001b[0m\n",
      "\u001b[0;31mTypeError\u001b[0m: can't multiply sequence by non-int of type 'float'"
     ]
    },
    {
     "data": {
      "image/png": "[encoded data removed]",
      "text/plain": [
       "<Figure size 432x432 with 3 Axes>"
      ]
     },
     "metadata": {},
     "output_type": "display_data"
    }
   ],
   "source": [
    "sns.jointplot(\"session_length\", \"age\", data=plot_log_df.dropna(), kind='reg');"
   ]
  },
  {
   "cell_type": "code",
   "execution_count": 220,
   "metadata": {},
   "outputs": [
    {
     "data": {
      "text/plain": [
       "<matplotlib.axes._subplots.AxesSubplot at 0x7f69e04d7d10>"
      ]
     },
     "execution_count": 220,
     "metadata": {},
     "output_type": "execute_result"
    },
    {
     "data": {
      "image/png": "[encoded data removed]",
      "text/plain": [
       "<Figure size 2592x1728 with 1 Axes>"
      ]
     },
     "metadata": {},
     "output_type": "display_data"
    }
   ],
   "source": [
    "fig, ax = plt.subplots()\n",
    "fig.set_size_inches(36, 24)\n",
    "sns.countplot(plot_log_df['age'])"
   ]
  },
  {
   "cell_type": "code",
   "execution_count": 221,
   "metadata": {},
   "outputs": [
    {
     "data": {
      "text/plain": [
       "<matplotlib.axes._subplots.AxesSubplot at 0x7f69e615e510>"
      ]
     },
     "execution_count": 221,
     "metadata": {},
     "output_type": "execute_result"
    },
    {
     "data": {
      "image/png": "[encoded data removed]",
      "text/plain": [
       "<Figure size 2592x1728 with 1 Axes>"
      ]
     },
     "metadata": {},
     "output_type": "display_data"
    }
   ],
   "source": [
    "fig, ax = plt.subplots()\n",
    "fig.set_size_inches(36, 24)\n",
    "sns.barplot(x=\"age\", y=\"session_length\", hue=\"gender\", data=plot_log_df)"
   ]
  },
  {
   "cell_type": "code",
   "execution_count": 222,
   "metadata": {},
   "outputs": [
    {
     "data": {
      "text/plain": [
       "<matplotlib.axes._subplots.AxesSubplot at 0x7f69e0857d10>"
      ]
     },
     "execution_count": 222,
     "metadata": {},
     "output_type": "execute_result"
    },
    {
     "data": {
      "image/png": "[encoded data removed]",
      "text/plain": [
       "<Figure size 864x576 with 1 Axes>"
      ]
     },
     "metadata": {},
     "output_type": "display_data"
    }
   ],
   "source": [
    "fig, ax = plt.subplots()\n",
    "fig.set_size_inches(12, 8)\n",
    "sns.barplot(x=\"day_of_week\", y=\"session_length\", hue=\"gender\", data=plot_log_df)"
   ]
  },
  {
   "cell_type": "code",
   "execution_count": 223,
   "metadata": {},
   "outputs": [
    {
     "data": {
      "text/plain": [
       "<matplotlib.axes._subplots.AxesSubplot at 0x7f69f9184d10>"
      ]
     },
     "execution_count": 223,
     "metadata": {},
     "output_type": "execute_result"
    },
    {
     "data": {
      "image/png": "[encoded data removed]",
      "text/plain": [
       "<Figure size 864x576 with 1 Axes>"
      ]
     },
     "metadata": {},
     "output_type": "display_data"
    }
   ],
   "source": [
    "fig, ax = plt.subplots()\n",
    "fig.set_size_inches(12, 8)\n",
    "sns.barplot(x=\"time_of_day\", y=\"session_length\", hue=\"gender\", data=plot_log_df)"
   ]
  },
  {
   "cell_type": "code",
   "execution_count": null,
   "metadata": {},
   "outputs": [],
   "source": [
    "cols = ['age']\n",
    "fig, ax = plt.subplots()\n",
    "fig.set_size_inches(24, 12)\n",
    "for col in cols:\n",
    "    sns.kdeplot(plot_log_df[col], shade=True)"
   ]
  },
  {
   "cell_type": "code",
   "execution_count": null,
   "metadata": {},
   "outputs": [],
   "source": [
    "#sns.kdeplot(plot_log_df.session_length[plot_log_df.gender=='M'], label='men', shade=True)\n",
    "#sns.kdeplot(plot_log_df.session_length[plot_log_df.gender=='W'], label='women', shade=True)\n",
    "#plt.xlabel('split_frac');"
   ]
  },
  {
   "cell_type": "code",
   "execution_count": null,
   "metadata": {},
   "outputs": [],
   "source": []
  },
  {
   "cell_type": "code",
   "execution_count": 229,
   "metadata": {
    "scrolled": true
   },
   "outputs": [
    {
     "data": {
      "image/png": "[encoded data removed]",
      "text/plain": [
       "<Figure size 2592x1080 with 1 Axes>"
      ]
     },
     "metadata": {},
     "output_type": "display_data"
    }
   ],
   "source": [
    "fig, ax = plt.subplots()\n",
    "fig.set_size_inches(36, 15)\n",
    "sns.countplot(plot_log_df['country'], order = plot_log_df['country'].value_counts().index)\n",
    "ax.set_xticklabels(ax.get_xticklabels(), rotation=40, ha=\"right\")\n",
    "plt.show()"
   ]
  },
  {
   "cell_type": "code",
   "execution_count": null,
   "metadata": {},
   "outputs": [],
   "source": []
  },
  {
   "cell_type": "code",
   "execution_count": 232,
   "metadata": {},
   "outputs": [
    {
     "data": {
      "image/png": "[encoded data removed]",
      "text/plain": [
       "<Figure size 5291x432 with 1 Axes>"
      ]
     },
     "metadata": {},
     "output_type": "display_data"
    }
   ],
   "source": [
    "with sns.axes_style(style='ticks'):\n",
    "    g = sns.factorplot(\"day_of_week\", \"session_length\", \"time_of_day\", data=plot_df, kind=\"box\", size=6, aspect=12)\n",
    "    g.set_axis_labels(\"Day of Week\", \"Session Length\")"
   ]
  },
  {
   "cell_type": "code",
   "execution_count": 227,
   "metadata": {},
   "outputs": [
    {
     "data": {
      "image/png": "[encoded data removed]",
      "text/plain": [
       "<Figure size 2987x360 with 1 Axes>"
      ]
     },
     "metadata": {},
     "output_type": "display_data"
    }
   ],
   "source": [
    "with sns.axes_style('white'):\n",
    "    g = sns.factorplot(\"day_of_week\", data=plot_log_df, aspect=8.0, kind='count',\n",
    "                       hue='time_of_day')\n",
    "    g.set_ylabels('Session Length')"
   ]
  },
  {
   "cell_type": "code",
   "execution_count": null,
   "metadata": {},
   "outputs": [],
   "source": []
  },
  {
   "cell_type": "markdown",
   "metadata": {},
   "source": [
    "## CLASSIFICATION"
   ]
  },
  {
   "cell_type": "code",
   "execution_count": null,
   "metadata": {},
   "outputs": [],
   "source": []
  },
  {
   "cell_type": "code",
   "execution_count": 233,
   "metadata": {},
   "outputs": [
    {
     "data": {
      "text/plain": [
       "[1.39, 1.39, 1.95, 3.66, 1.39, 3.18, 4.38, 3.76, 1.39, 3.85]"
      ]
     },
     "execution_count": 233,
     "metadata": {},
     "output_type": "execute_result"
    }
   ],
   "source": [
    "data = userSession_df.select('session_length').rdd.map(lambda row: row.session_length).collect()\n",
    "data[:10]"
   ]
  },
  {
   "cell_type": "code",
   "execution_count": 234,
   "metadata": {},
   "outputs": [],
   "source": [
    "data = pd.DataFrame(data,columns=['session_length']).iloc[:,0]"
   ]
  },
  {
   "cell_type": "code",
   "execution_count": 235,
   "metadata": {},
   "outputs": [
    {
     "data": {
      "text/plain": [
       "0    1.39\n",
       "1    1.39\n",
       "2    1.95\n",
       "3    3.66\n",
       "4    1.39\n",
       "5    3.18\n",
       "6    4.38\n",
       "7    3.76\n",
       "8    1.39\n",
       "9    3.85\n",
       "Name: session_length, dtype: float64"
      ]
     },
     "execution_count": 235,
     "metadata": {},
     "output_type": "execute_result"
    }
   ],
   "source": [
    "data.head(10)"
   ]
  },
  {
   "cell_type": "code",
   "execution_count": 236,
   "metadata": {},
   "outputs": [
    {
     "data": {
      "text/plain": [
       "count    295733.000000\n",
       "mean          3.655479\n",
       "std           1.306022\n",
       "min           0.690000\n",
       "25%           2.770000\n",
       "50%           3.760000\n",
       "75%           4.570000\n",
       "max           9.830000\n",
       "Name: session_length, dtype: float64"
      ]
     },
     "execution_count": 236,
     "metadata": {},
     "output_type": "execute_result"
    }
   ],
   "source": [
    "data.describe()"
   ]
  },
  {
   "cell_type": "code",
   "execution_count": 237,
   "metadata": {},
   "outputs": [
    {
     "data": {
      "text/plain": [
       "[0.69, 1.3899999999999997, 2.48, 3.0, 3.4, 3.76, 4.06, 4.39, 4.77, 5.28]"
      ]
     },
     "execution_count": 237,
     "metadata": {},
     "output_type": "execute_result"
    }
   ],
   "source": [
    "deciles = list(np.percentile(data, np.arange(0, 100, 10)))\n",
    "deciles"
   ]
  },
  {
   "cell_type": "markdown",
   "metadata": {},
   "source": [
    "#### Add Quantile Bucketized Column"
   ]
  },
  {
   "cell_type": "code",
   "execution_count": 238,
   "metadata": {},
   "outputs": [
    {
     "name": "stdout",
     "output_type": "stream",
     "text": [
      "+-----------+----------+----+------+------------+---------+-------------+-----------+-----------------+-------------+-----------------+----------+-----------------+-----------------+---------------+----------------+---------------+---------------+-----------------+-----------+-----------+----------------+----------------+-------------+------------+------------+------------+------------+------------+------------+------------+------------+------------+--------------------+------------+----------------+----------------+--------------+\n",
      "|     userid|session_id| age|gender|gender_index|  country|country_index|day_of_week|day_of_week_index|  time_of_day|time_of_day_index|is_holiday|         genre_10|          genre_9|        genre_8|         genre_7|        genre_6|        genre_5|          genre_4|    genre_3|    genre_2|         genre_1| undefined_genre|genre_10_freq|genre_9_freq|genre_8_freq|genre_7_freq|genre_6_freq|genre_5_freq|genre_4_freq|genre_3_freq|genre_2_freq|genre_1_freq|undefined_genre_freq|absence_time|days_since_epoch|session_length_1|session_length|\n",
      "+-----------+----------+----+------+------------+---------+-------------+-----------+-----------------+-------------+-----------------+----------+-----------------+-----------------+---------------+----------------+---------------+---------------+-----------------+-----------+-----------+----------------+----------------+-------------+------------+------------+------------+------------+------------+------------+------------+------------+------------+--------------------+------------+----------------+----------------+--------------+\n",
      "|user_000372|      3841|Null|     m|         0.0|Singapore|         36.0|   Saturday|              6.0|        Night|              1.0|         0|         trip-hop|             punk|    classicrock|     alternative|          indie|       chillout|              pop| electronic|       rock|undefined_genres|undefined_genres|         0.01|        0.01|        0.02|        0.02|        0.02|        0.02|        0.02|        0.03|        0.05|        0.27|                0.27|         479|            1731|            null|          1.39|\n",
      "|user_000372|      3840|Null|     m|         0.0|Singapore|         36.0|     Monday|              2.0|      Morning|              4.0|         0|          ambient|             folk|          metal| femalevocalists|     electronic|    alternative|              pop|      indie|       rock|undefined_genres|undefined_genres|         0.01|        0.01|        0.01|        0.02|        0.02|        0.02|        0.02|        0.02|        0.06|         0.3|                 0.3|        3156|            1733|             4.0|          1.39|\n",
      "|user_000372|      3839|Null|     m|         0.0|Singapore|         36.0|     Monday|              2.0|LateAfternoon|              3.0|         0|      classicrock|        indierock|          metal|          covers|          indie|    alternative|            cover|        pop|       rock|undefined_genres|undefined_genres|         0.02|        0.02|        0.02|        0.02|        0.02|        0.02|        0.02|        0.03|        0.07|        0.25|                0.25|         634|            1733|             4.0|          1.95|\n",
      "|user_000372|      3838|Null|     m|         0.0|Singapore|         36.0|    Tuesday|              0.0|      Evening|              2.0|         0|      alternative|singer-songwriter|       acoustic|        hardcore|           punk|          metal|       electronic|      indie|       rock|undefined_genres|undefined_genres|         0.01|        0.01|        0.02|        0.02|        0.02|        0.02|        0.03|        0.03|        0.04|        0.27|                0.27|        1534|            1734|             7.0|          3.66|\n",
      "|user_000372|      3837|Null|     m|         0.0|Singapore|         36.0|    Tuesday|              0.0|      Evening|              2.0|         0|             soul|         chillout|           jazz|     classicrock|     electronic|    alternative|            indie|        pop|       rock|undefined_genres|undefined_genres|         0.01|        0.01|        0.01|        0.02|        0.02|        0.02|        0.02|        0.03|        0.06|        0.28|                0.28|          61|            1734|            39.0|          1.39|\n",
      "|user_000372|      3836|Null|     m|         0.0|Singapore|         36.0|  Wednesday|              1.0|        Night|              1.0|         0|      classicrock|            metal|           jazz|            punk|     electronic|            pop|            indie|alternative|       rock|undefined_genres|undefined_genres|         0.01|        0.01|        0.01|        0.01|        0.01|        0.02|        0.02|        0.02|        0.05|        0.33|                0.33|         203|            1735|             4.0|          3.18|\n",
      "|user_000372|      3835|Null|     m|         0.0|Singapore|         36.0|  Wednesday|              1.0|        Night|              1.0|         0|             punk|  femalevocalists|    classicrock|             pop|          metal|    alternative|            indie| electronic|       rock|undefined_genres|undefined_genres|         0.01|        0.01|        0.01|        0.02|        0.02|        0.02|        0.03|        0.03|        0.05|        0.28|                0.28|         123|            1735|            24.0|          4.38|\n",
      "|user_000372|      3834|Null|     m|         0.0|Singapore|         36.0|  Wednesday|              1.0|         Dawn|              8.0|         0|      classicrock|          newwave|    alternative|           indie|            80s|     electronic|             punk|        pop|       rock|undefined_genres|undefined_genres|         0.01|        0.01|        0.02|        0.02|        0.02|        0.02|        0.02|        0.02|        0.04|        0.34|                0.34|         125|            1735|            80.0|          3.76|\n",
      "|user_000372|      3833|Null|     m|         0.0|Singapore|         36.0|  Wednesday|              1.0|  LateEvening|              7.0|         0|             folk|      classicrock|    alternative|             pop|          indie|         thrash|        ahahhahah| electronic|       rock|undefined_genres|undefined_genres|         0.01|        0.02|        0.02|        0.02|        0.03|        0.04|        0.04|        0.04|        0.05|        0.29|                0.29|         983|            1735|            43.0|          1.39|\n",
      "|user_000372|      3832|Null|     m|         0.0|Singapore|         36.0|   Thursday|              3.0|      Morning|              4.0|         0|             punk|     instrumental|            pop|     electronica|    classicrock|    alternative|       electronic|      indie|       rock|undefined_genres|undefined_genres|         0.01|        0.01|        0.01|        0.01|        0.01|        0.01|        0.03|        0.03|        0.06|        0.32|                0.32|         545|            1736|             4.0|          3.85|\n",
      "|user_000372|      3831|Null|     m|         0.0|Singapore|         36.0|   Thursday|              3.0|LateAfternoon|              3.0|         0|              70s|      classicrock|            80s| femalevocalists|    alternative|            pop|            indie| electronic|       rock|undefined_genres|undefined_genres|         0.01|        0.01|        0.01|        0.01|        0.02|        0.02|        0.02|        0.02|        0.05|         0.3|                 0.3|         511|            1736|            47.0|           3.0|\n",
      "|user_000372|      3830|Null|     m|         0.0|Singapore|         36.0|     Friday|              4.0|LateAfternoon|              3.0|         0|             soul|            metal|            pop|           indie|    alternative|femalevocalists|      classicrock| electronic|       rock|undefined_genres|undefined_genres|         0.02|        0.02|        0.02|        0.02|        0.02|        0.02|        0.02|        0.02|        0.05|        0.27|                0.27|        1355|            1737|            20.0|          3.99|\n",
      "|user_000372|      3829|Null|     m|         0.0|Singapore|         36.0|   Saturday|              6.0|         Dawn|              8.0|         0|     instrumental|  femalevocalists|          cover|           metal|            pop|     electronic|      alternative|      indie|       rock|undefined_genres|undefined_genres|         0.01|        0.01|        0.01|        0.02|        0.02|        0.02|        0.02|        0.03|        0.03|        0.29|                0.29|         739|            1738|            54.0|          1.39|\n",
      "|user_000372|      3828|Null|     m|         0.0|Singapore|         36.0|     Monday|              2.0|         Dawn|              8.0|         0|             folk|          ambient|            pop| femalevocalists|    classicrock|    alternative|       electronic|      indie|       rock|undefined_genres|undefined_genres|         0.01|        0.01|        0.02|        0.02|        0.02|        0.02|        0.03|        0.03|        0.06|        0.31|                0.31|        2843|            1740|             4.0|          3.74|\n",
      "|user_000372|      3827|Null|     m|         0.0|Singapore|         36.0|     Monday|              2.0|      Morning|              4.0|         0|        americana|             rock|          metal|     psychobilly|      hellbilly|          drunk|    outlawcountry|       folk|    country|undefined_genres|undefined_genres|         0.02|        0.02|        0.02|        0.02|        0.02|        0.02|        0.02|        0.03|        0.07|        0.28|                0.28|         157|            1740|            42.0|          3.76|\n",
      "|user_000372|      3826|Null|     m|         0.0|Singapore|         36.0|     Monday|              2.0|LateAfternoon|              3.0|         0|          newwave|              pop|    classicrock|           metal|alternativerock|     electronic|            indie|alternative|       rock|undefined_genres|undefined_genres|         0.01|        0.02|        0.02|        0.02|        0.02|        0.02|        0.02|        0.03|        0.05|        0.25|                0.25|         552|            1740|            43.0|          3.87|\n",
      "|user_000372|      3825|Null|     m|         0.0|Singapore|         36.0|    Tuesday|              0.0|      Morning|              4.0|         0|              pop|  femalevocalists|           punk|           metal|       punkrock|    alternative|       electronic|      indie|       rock|undefined_genres|undefined_genres|         0.01|        0.01|        0.02|        0.02|        0.02|        0.02|        0.02|        0.03|        0.05|        0.32|                0.32|         752|            1741|            48.0|          3.22|\n",
      "|user_000372|      3824|Null|     m|         0.0|Singapore|         36.0|    Tuesday|              0.0|      Morning|              4.0|         0|            metal|      classicrock|            pop|      electronic|          indie|           live|singer-songwriter|       rock|alternative|undefined_genres|undefined_genres|         0.01|        0.01|        0.02|        0.02|        0.02|        0.03|        0.04|        0.04|        0.05|        0.26|                0.26|          71|            1741|            25.0|          3.04|\n",
      "|user_000372|      3823|Null|     m|         0.0|Singapore|         36.0|    Tuesday|              0.0|      Evening|              2.0|         0|singer-songwriter|      classicrock|          blues| femalevocalists|     electronic|            pop|            indie|alternative|       rock|undefined_genres|undefined_genres|         0.01|        0.01|        0.01|        0.02|        0.02|        0.02|        0.02|        0.02|        0.05|        0.34|                0.34|         692|            1741|            21.0|          3.18|\n",
      "|user_000372|      3822|Null|     m|         0.0|Singapore|         36.0|  Wednesday|              1.0|        Night|              1.0|         0|            metal|              pop|femalevocalists|progressivemetal|progressiverock|     electronic|      alternative|      indie|       rock|undefined_genres|undefined_genres|         0.01|        0.01|        0.01|        0.02|        0.02|        0.02|        0.03|        0.03|        0.07|        0.24|                0.24|         266|            1742|            24.0|          3.22|\n",
      "+-----------+----------+----+------+------------+---------+-------------+-----------+-----------------+-------------+-----------------+----------+-----------------+-----------------+---------------+----------------+---------------+---------------+-----------------+-----------+-----------+----------------+----------------+-------------+------------+------------+------------+------------+------------+------------+------------+------------+------------+--------------------+------------+----------------+----------------+--------------+\n",
      "only showing top 20 rows\n",
      "\n"
     ]
    }
   ],
   "source": [
    "userSession_df.show()"
   ]
  },
  {
   "cell_type": "code",
   "execution_count": 295,
   "metadata": {},
   "outputs": [
    {
     "name": "stdout",
     "output_type": "stream",
     "text": [
      "+-----------+--------+------+----+-------+----------+--------------+-----------+------------+---------+---------+--------------------+-----------------------+----------------------+-------------------------+-------------------+-----------------+------------+----------+--------------+\n",
      "|     userid|genderid|gender| age|country| startdate|day_of_week_id|day_of_week|timeofday_id|timeofday|sessionid|session_length_mvavg|session_length_mvavg_10|session_length_mvavg_5|session_length_mvavg_time|      session_start|previous_duration|absence_time|is_holiday|session_length|\n",
      "+-----------+--------+------+----+-------+----------+--------------+-----------+------------+---------+---------+--------------------+-----------------------+----------------------+-------------------------+-------------------+-----------------+------------+----------+--------------+\n",
      "|user_000001|     1.0|     m|null|  Japan|2006-08-14|             0|     Sunday|           4|    Night|        1|                null|                   null|                  null|                     null|2006-08-14 00:59:20|             null|        null|         0|          5.54|\n",
      "|user_000001|     1.0|     m|null|  Japan|2006-08-15|             0|     Sunday|           4|    Night|        1|             15304.0|                15304.0|               15304.0|                     null|2006-08-15 23:27:51|          15304.0|    167311.0|         0|          5.23|\n",
      "|user_000001|     1.0|     m|null|  Japan|2006-08-16|             0|     Sunday|           3|  Evening|        1|             13252.0|                13252.0|               13252.0|                  15304.0|2006-08-16 21:27:16|          11200.0|     79165.0|         0|          3.89|\n",
      "|user_000001|     1.0|     m|null|  Japan|2006-08-17|             0|     Sunday|           4|    Night|        1|             9820.67|                9820.67|               9820.67|                   9131.0|2006-08-17 00:43:02|           2958.0|     11746.0|         0|          4.56|\n",
      "|user_000001|     1.0|     m|null|  Japan|2006-08-18|             0|     Sunday|           4|    Night|        1|              8810.0|                 8810.0|                8810.0|                     null|2006-08-18 00:33:27|           5778.0|     85825.0|         0|          4.91|\n",
      "|user_000001|     1.0|     m|null|  Japan|2006-08-19|             0|     Sunday|           1|  Morning|        1|              8673.0|                 8673.0|                8673.0|                  8013.33|2006-08-19 06:09:27|           8125.0|    106560.0|         0|          3.93|\n",
      "|user_000001|     1.0|     m|null|  Japan|2006-08-19|             0|     Sunday|           4|    Night|        2|             7740.83|                7740.83|                6228.2|                   6780.0|2006-08-19 23:26:52|           3080.0|     62245.0|         0|          4.88|\n",
      "|user_000001|     1.0|     m|null|  Japan|2006-08-21|             0|     Sunday|           4|    Night|        1|             7771.43|                7771.43|                5579.2|                     null|2006-08-21 00:01:54|           7955.0|     88502.0|         0|          4.85|\n",
      "|user_000001|     1.0|     m|null|  Japan|2006-08-21|             0|     Sunday|           2|Afternoon|        2|             7765.75|                7765.75|                6532.8|                   7726.0|2006-08-21 14:36:08|           7726.0|     52454.0|         0|          2.94|\n",
      "|user_000001|     1.0|     m|null|  Japan|2006-08-21|             0|     Sunday|           2|Afternoon|        3|             7031.78|                7031.78|                5609.2|                   4443.0|2006-08-21 15:33:20|           1160.0|      3432.0|         0|          3.09|\n",
      "|user_000001|     1.0|     m|null|  Japan|2006-08-21|             0|     Sunday|           2|Afternoon|        4|              6466.1|                 6466.1|                4259.2|                  11200.0|2006-08-21 16:32:45|           1375.0|      3565.0|         0|           2.3|\n",
      "|user_000001|     1.0|     m|null|  Japan|2006-08-21|             0|     Sunday|           3|  Evening|        5|             5934.18|                 4997.2|                3766.2|                   7015.0|2006-08-21 20:09:25|            615.0|     13000.0|         0|          3.22|\n",
      "|user_000001|     1.0|     m|null|  Japan|2006-08-22|             0|     Sunday|           4|    Night|        1|             5565.58|                 4028.3|                2477.4|                   4256.4|2006-08-22 01:38:07|           1511.0|     19722.0|         0|           4.6|\n",
      "|user_000001|     1.0|     m|null|  Japan|2006-08-22|             0|     Sunday|           4|    Night|        2|             5597.23|                 4330.2|                2127.6|                   4860.2|2006-08-22 03:56:13|           5977.0|      8286.0|         0|          3.37|\n",
      "|user_000001|     1.0|     m|null|  Japan|2006-08-22|             0|     Sunday|           4|    Night|        3|              5322.0|                 3926.8|                2244.4|                   4053.4|2006-08-22 04:55:52|           1744.0|      3579.0|         0|          3.81|\n",
      "|user_000001|     1.0|     m|null|  Japan|2006-08-23|             0|     Sunday|           4|    Night|        1|             5148.73|                 3386.6|                2514.0|                   3982.0|2006-08-23 23:32:01|           2723.0|    153369.0|         0|          3.22|\n",
      "|user_000001|     1.0|     m|null|  Japan|2006-08-24|             0|     Sunday|           4|    Night|        1|             4922.63|                 3231.7|                2697.2|                   8125.0|2006-08-24 00:31:14|           1531.0|      3553.0|         0|          3.81|\n",
      "|user_000001|     1.0|     m|null|  Japan|2006-08-25|             0|     Sunday|           4|    Night|        1|             4795.35|                 2712.1|                2946.8|                   2697.2|2006-08-25 01:08:42|           2759.0|     88648.0|         0|          2.94|\n",
      "|user_000001|     1.0|     m|null|  Japan|2006-08-25|             0|     Sunday|           4|    Night|        2|             4592.39|                 2053.7|                1979.8|                   2623.4|2006-08-25 02:04:23|           1142.0|      3341.0|         0|          3.14|\n",
      "|user_000001|     1.0|     m|null|  Japan|2006-08-25|             0|     Sunday|           4|    Night|        3|             4423.74|                 2076.5|                1908.6|                   1705.6|2006-08-25 23:38:34|           1388.0|     77651.0|         0|          4.88|\n",
      "+-----------+--------+------+----+-------+----------+--------------+-----------+------------+---------+---------+--------------------+-----------------------+----------------------+-------------------------+-------------------+-----------------+------------+----------+--------------+\n",
      "only showing top 20 rows\n",
      "\n"
     ]
    }
   ],
   "source": [
    "#userSession_df.show()"
   ]
  },
  {
   "cell_type": "code",
   "execution_count": 239,
   "metadata": {},
   "outputs": [
    {
     "data": {
      "text/plain": [
       "510"
      ]
     },
     "execution_count": 239,
     "metadata": {},
     "output_type": "execute_result"
    }
   ],
   "source": [
    "num_windows = int(userSession_df.select('session_length').distinct().count())\n",
    "num_windows"
   ]
  },
  {
   "cell_type": "code",
   "execution_count": 240,
   "metadata": {},
   "outputs": [
    {
     "data": {
      "text/plain": [
       "10"
      ]
     },
     "execution_count": 240,
     "metadata": {},
     "output_type": "execute_result"
    }
   ],
   "source": [
    "num_buckets = len(deciles)\n",
    "num_buckets"
   ]
  },
  {
   "cell_type": "code",
   "execution_count": 241,
   "metadata": {},
   "outputs": [
    {
     "name": "stdout",
     "output_type": "stream",
     "text": [
      "+-----------+----------+----+------+------------+---------+-------------+-----------+-----------------+-------------+-----------------+----------+-----------------+-----------------+---------------+----------------+---------------+---------------+-----------------+-----------+-----------+----------------+----------------+-------------+------------+------------+------------+------------+------------+------------+------------+------------+------------+--------------------+------------+----------------+----------------+--------------+------+\n",
      "|     userid|session_id| age|gender|gender_index|  country|country_index|day_of_week|day_of_week_index|  time_of_day|time_of_day_index|is_holiday|         genre_10|          genre_9|        genre_8|         genre_7|        genre_6|        genre_5|          genre_4|    genre_3|    genre_2|         genre_1| undefined_genre|genre_10_freq|genre_9_freq|genre_8_freq|genre_7_freq|genre_6_freq|genre_5_freq|genre_4_freq|genre_3_freq|genre_2_freq|genre_1_freq|undefined_genre_freq|absence_time|days_since_epoch|session_length_1|session_length|decile|\n",
      "+-----------+----------+----+------+------------+---------+-------------+-----------+-----------------+-------------+-----------------+----------+-----------------+-----------------+---------------+----------------+---------------+---------------+-----------------+-----------+-----------+----------------+----------------+-------------+------------+------------+------------+------------+------------+------------+------------+------------+------------+--------------------+------------+----------------+----------------+--------------+------+\n",
      "|user_000372|      3841|Null|     m|         0.0|Singapore|         36.0|   Saturday|              6.0|        Night|              1.0|         0|         trip-hop|             punk|    classicrock|     alternative|          indie|       chillout|              pop| electronic|       rock|undefined_genres|undefined_genres|         0.01|        0.01|        0.02|        0.02|        0.02|        0.02|        0.02|        0.03|        0.05|        0.27|                0.27|         479|            1731|            null|          1.39|   0.0|\n",
      "|user_000372|      3840|Null|     m|         0.0|Singapore|         36.0|     Monday|              2.0|      Morning|              4.0|         0|          ambient|             folk|          metal| femalevocalists|     electronic|    alternative|              pop|      indie|       rock|undefined_genres|undefined_genres|         0.01|        0.01|        0.01|        0.02|        0.02|        0.02|        0.02|        0.02|        0.06|         0.3|                 0.3|        3156|            1733|             4.0|          1.39|   0.0|\n",
      "|user_000372|      3839|Null|     m|         0.0|Singapore|         36.0|     Monday|              2.0|LateAfternoon|              3.0|         0|      classicrock|        indierock|          metal|          covers|          indie|    alternative|            cover|        pop|       rock|undefined_genres|undefined_genres|         0.02|        0.02|        0.02|        0.02|        0.02|        0.02|        0.02|        0.03|        0.07|        0.25|                0.25|         634|            1733|             4.0|          1.95|   1.0|\n",
      "|user_000372|      3838|Null|     m|         0.0|Singapore|         36.0|    Tuesday|              0.0|      Evening|              2.0|         0|      alternative|singer-songwriter|       acoustic|        hardcore|           punk|          metal|       electronic|      indie|       rock|undefined_genres|undefined_genres|         0.01|        0.01|        0.02|        0.02|        0.02|        0.02|        0.03|        0.03|        0.04|        0.27|                0.27|        1534|            1734|             7.0|          3.66|   4.0|\n",
      "|user_000372|      3837|Null|     m|         0.0|Singapore|         36.0|    Tuesday|              0.0|      Evening|              2.0|         0|             soul|         chillout|           jazz|     classicrock|     electronic|    alternative|            indie|        pop|       rock|undefined_genres|undefined_genres|         0.01|        0.01|        0.01|        0.02|        0.02|        0.02|        0.02|        0.03|        0.06|        0.28|                0.28|          61|            1734|            39.0|          1.39|   0.0|\n",
      "|user_000372|      3836|Null|     m|         0.0|Singapore|         36.0|  Wednesday|              1.0|        Night|              1.0|         0|      classicrock|            metal|           jazz|            punk|     electronic|            pop|            indie|alternative|       rock|undefined_genres|undefined_genres|         0.01|        0.01|        0.01|        0.01|        0.01|        0.02|        0.02|        0.02|        0.05|        0.33|                0.33|         203|            1735|             4.0|          3.18|   3.0|\n",
      "|user_000372|      3835|Null|     m|         0.0|Singapore|         36.0|  Wednesday|              1.0|        Night|              1.0|         0|             punk|  femalevocalists|    classicrock|             pop|          metal|    alternative|            indie| electronic|       rock|undefined_genres|undefined_genres|         0.01|        0.01|        0.01|        0.02|        0.02|        0.02|        0.03|        0.03|        0.05|        0.28|                0.28|         123|            1735|            24.0|          4.38|   6.0|\n",
      "|user_000372|      3834|Null|     m|         0.0|Singapore|         36.0|  Wednesday|              1.0|         Dawn|              8.0|         0|      classicrock|          newwave|    alternative|           indie|            80s|     electronic|             punk|        pop|       rock|undefined_genres|undefined_genres|         0.01|        0.01|        0.02|        0.02|        0.02|        0.02|        0.02|        0.02|        0.04|        0.34|                0.34|         125|            1735|            80.0|          3.76|   5.0|\n",
      "|user_000372|      3833|Null|     m|         0.0|Singapore|         36.0|  Wednesday|              1.0|  LateEvening|              7.0|         0|             folk|      classicrock|    alternative|             pop|          indie|         thrash|        ahahhahah| electronic|       rock|undefined_genres|undefined_genres|         0.01|        0.02|        0.02|        0.02|        0.03|        0.04|        0.04|        0.04|        0.05|        0.29|                0.29|         983|            1735|            43.0|          1.39|   0.0|\n",
      "|user_000372|      3832|Null|     m|         0.0|Singapore|         36.0|   Thursday|              3.0|      Morning|              4.0|         0|             punk|     instrumental|            pop|     electronica|    classicrock|    alternative|       electronic|      indie|       rock|undefined_genres|undefined_genres|         0.01|        0.01|        0.01|        0.01|        0.01|        0.01|        0.03|        0.03|        0.06|        0.32|                0.32|         545|            1736|             4.0|          3.85|   5.0|\n",
      "|user_000372|      3831|Null|     m|         0.0|Singapore|         36.0|   Thursday|              3.0|LateAfternoon|              3.0|         0|              70s|      classicrock|            80s| femalevocalists|    alternative|            pop|            indie| electronic|       rock|undefined_genres|undefined_genres|         0.01|        0.01|        0.01|        0.01|        0.02|        0.02|        0.02|        0.02|        0.05|         0.3|                 0.3|         511|            1736|            47.0|           3.0|   2.0|\n",
      "|user_000372|      3830|Null|     m|         0.0|Singapore|         36.0|     Friday|              4.0|LateAfternoon|              3.0|         0|             soul|            metal|            pop|           indie|    alternative|femalevocalists|      classicrock| electronic|       rock|undefined_genres|undefined_genres|         0.02|        0.02|        0.02|        0.02|        0.02|        0.02|        0.02|        0.02|        0.05|        0.27|                0.27|        1355|            1737|            20.0|          3.99|   5.0|\n",
      "|user_000372|      3829|Null|     m|         0.0|Singapore|         36.0|   Saturday|              6.0|         Dawn|              8.0|         0|     instrumental|  femalevocalists|          cover|           metal|            pop|     electronic|      alternative|      indie|       rock|undefined_genres|undefined_genres|         0.01|        0.01|        0.01|        0.02|        0.02|        0.02|        0.02|        0.03|        0.03|        0.29|                0.29|         739|            1738|            54.0|          1.39|   0.0|\n",
      "|user_000372|      3828|Null|     m|         0.0|Singapore|         36.0|     Monday|              2.0|         Dawn|              8.0|         0|             folk|          ambient|            pop| femalevocalists|    classicrock|    alternative|       electronic|      indie|       rock|undefined_genres|undefined_genres|         0.01|        0.01|        0.02|        0.02|        0.02|        0.02|        0.03|        0.03|        0.06|        0.31|                0.31|        2843|            1740|             4.0|          3.74|   4.0|\n",
      "|user_000372|      3827|Null|     m|         0.0|Singapore|         36.0|     Monday|              2.0|      Morning|              4.0|         0|        americana|             rock|          metal|     psychobilly|      hellbilly|          drunk|    outlawcountry|       folk|    country|undefined_genres|undefined_genres|         0.02|        0.02|        0.02|        0.02|        0.02|        0.02|        0.02|        0.03|        0.07|        0.28|                0.28|         157|            1740|            42.0|          3.76|   5.0|\n",
      "|user_000372|      3826|Null|     m|         0.0|Singapore|         36.0|     Monday|              2.0|LateAfternoon|              3.0|         0|          newwave|              pop|    classicrock|           metal|alternativerock|     electronic|            indie|alternative|       rock|undefined_genres|undefined_genres|         0.01|        0.02|        0.02|        0.02|        0.02|        0.02|        0.02|        0.03|        0.05|        0.25|                0.25|         552|            1740|            43.0|          3.87|   5.0|\n",
      "|user_000372|      3825|Null|     m|         0.0|Singapore|         36.0|    Tuesday|              0.0|      Morning|              4.0|         0|              pop|  femalevocalists|           punk|           metal|       punkrock|    alternative|       electronic|      indie|       rock|undefined_genres|undefined_genres|         0.01|        0.01|        0.02|        0.02|        0.02|        0.02|        0.02|        0.03|        0.05|        0.32|                0.32|         752|            1741|            48.0|          3.22|   3.0|\n",
      "|user_000372|      3824|Null|     m|         0.0|Singapore|         36.0|    Tuesday|              0.0|      Morning|              4.0|         0|            metal|      classicrock|            pop|      electronic|          indie|           live|singer-songwriter|       rock|alternative|undefined_genres|undefined_genres|         0.01|        0.01|        0.02|        0.02|        0.02|        0.03|        0.04|        0.04|        0.05|        0.26|                0.26|          71|            1741|            25.0|          3.04|   3.0|\n",
      "|user_000372|      3823|Null|     m|         0.0|Singapore|         36.0|    Tuesday|              0.0|      Evening|              2.0|         0|singer-songwriter|      classicrock|          blues| femalevocalists|     electronic|            pop|            indie|alternative|       rock|undefined_genres|undefined_genres|         0.01|        0.01|        0.01|        0.02|        0.02|        0.02|        0.02|        0.02|        0.05|        0.34|                0.34|         692|            1741|            21.0|          3.18|   3.0|\n",
      "|user_000372|      3822|Null|     m|         0.0|Singapore|         36.0|  Wednesday|              1.0|        Night|              1.0|         0|            metal|              pop|femalevocalists|progressivemetal|progressiverock|     electronic|      alternative|      indie|       rock|undefined_genres|undefined_genres|         0.01|        0.01|        0.01|        0.02|        0.02|        0.02|        0.03|        0.03|        0.07|        0.24|                0.24|         266|            1742|            24.0|          3.22|   3.0|\n",
      "+-----------+----------+----+------+------------+---------+-------------+-----------+-----------------+-------------+-----------------+----------+-----------------+-----------------+---------------+----------------+---------------+---------------+-----------------+-----------+-----------+----------------+----------------+-------------+------------+------------+------------+------------+------------+------------+------------+------------+------------+--------------------+------------+----------------+----------------+--------------+------+\n",
      "only showing top 20 rows\n",
      "\n"
     ]
    }
   ],
   "source": [
    "session_length_bucketizer = QuantileDiscretizer(numBuckets=num_buckets, inputCol=\"session_length\", outputCol=\"decile\", relativeError=0.01, handleInvalid=\"error\")\n",
    "bucketizer = session_length_bucketizer.fit(userSession_df)\n",
    "user_session_with_window_bucketized_df = bucketizer.setHandleInvalid(\"skip\").transform(userSession_df)\n",
    "user_session_with_window_bucketized_df.show()\n"
   ]
  },
  {
   "cell_type": "code",
   "execution_count": 242,
   "metadata": {},
   "outputs": [
    {
     "name": "stdout",
     "output_type": "stream",
     "text": [
      "root\n",
      " |-- userid: string (nullable = true)\n",
      " |-- session_id: integer (nullable = true)\n",
      " |-- age: string (nullable = true)\n",
      " |-- gender: string (nullable = true)\n",
      " |-- gender_index: double (nullable = false)\n",
      " |-- country: string (nullable = true)\n",
      " |-- country_index: double (nullable = false)\n",
      " |-- day_of_week: string (nullable = true)\n",
      " |-- day_of_week_index: double (nullable = false)\n",
      " |-- time_of_day: string (nullable = true)\n",
      " |-- time_of_day_index: double (nullable = false)\n",
      " |-- is_holiday: integer (nullable = true)\n",
      " |-- genre_10: string (nullable = true)\n",
      " |-- genre_9: string (nullable = true)\n",
      " |-- genre_8: string (nullable = true)\n",
      " |-- genre_7: string (nullable = true)\n",
      " |-- genre_6: string (nullable = true)\n",
      " |-- genre_5: string (nullable = true)\n",
      " |-- genre_4: string (nullable = true)\n",
      " |-- genre_3: string (nullable = true)\n",
      " |-- genre_2: string (nullable = true)\n",
      " |-- genre_1: string (nullable = true)\n",
      " |-- undefined_genre: string (nullable = true)\n",
      " |-- genre_10_freq: double (nullable = true)\n",
      " |-- genre_9_freq: double (nullable = true)\n",
      " |-- genre_8_freq: double (nullable = true)\n",
      " |-- genre_7_freq: double (nullable = true)\n",
      " |-- genre_6_freq: double (nullable = true)\n",
      " |-- genre_5_freq: double (nullable = true)\n",
      " |-- genre_4_freq: double (nullable = true)\n",
      " |-- genre_3_freq: double (nullable = true)\n",
      " |-- genre_2_freq: double (nullable = true)\n",
      " |-- genre_1_freq: double (nullable = true)\n",
      " |-- undefined_genre_freq: double (nullable = true)\n",
      " |-- absence_time: integer (nullable = true)\n",
      " |-- days_since_epoch: integer (nullable = true)\n",
      " |-- session_length_1: double (nullable = true)\n",
      " |-- session_length: double (nullable = true)\n",
      " |-- decile: double (nullable = true)\n",
      "\n"
     ]
    }
   ],
   "source": [
    "user_session_with_window_bucketized_df.printSchema()"
   ]
  },
  {
   "cell_type": "code",
   "execution_count": 243,
   "metadata": {},
   "outputs": [],
   "source": [
    "decile_dict = {1.0:\"<5_mins\",2.0:\"<5_mins\",3.0:\"<10_mins\",4.0:\"<20_mins\",5.0:\"<30_mins\",6.0:\"<40_mins\",7.0:\"<1_hour\",8.0:\"<1.5_hours\",9.0:\"<2_hours\",10.0:\">3_hours\"}"
   ]
  },
  {
   "cell_type": "code",
   "execution_count": 244,
   "metadata": {},
   "outputs": [
    {
     "data": {
      "text/plain": [
       "{1.0: '<5_mins',\n",
       " 2.0: '<5_mins',\n",
       " 3.0: '<10_mins',\n",
       " 4.0: '<20_mins',\n",
       " 5.0: '<30_mins',\n",
       " 6.0: '<40_mins',\n",
       " 7.0: '<1_hour',\n",
       " 8.0: '<1.5_hours',\n",
       " 9.0: '<2_hours',\n",
       " 10.0: '>3_hours'}"
      ]
     },
     "execution_count": 244,
     "metadata": {},
     "output_type": "execute_result"
    }
   ],
   "source": [
    "decile_dict"
   ]
  },
  {
   "cell_type": "code",
   "execution_count": 245,
   "metadata": {},
   "outputs": [],
   "source": [
    "def get_description(decile):\n",
    "    try:\n",
    "        return decile_dict[decile]\n",
    "    except:\n",
    "        return None"
   ]
  },
  {
   "cell_type": "code",
   "execution_count": 246,
   "metadata": {},
   "outputs": [
    {
     "data": {
      "text/plain": [
       "'<5_mins'"
      ]
     },
     "execution_count": 246,
     "metadata": {},
     "output_type": "execute_result"
    }
   ],
   "source": [
    "get_description(1.0)"
   ]
  },
  {
   "cell_type": "code",
   "execution_count": 247,
   "metadata": {},
   "outputs": [],
   "source": [
    "get_desc = udf(lambda bucket: get_description(bucket), returnType=StringType())"
   ]
  },
  {
   "cell_type": "code",
   "execution_count": 248,
   "metadata": {},
   "outputs": [],
   "source": [
    "user_session_with_window_bucketized_descr_df = user_session_with_window_bucketized_df.withColumn('description', get_desc('decile'))"
   ]
  },
  {
   "cell_type": "code",
   "execution_count": 250,
   "metadata": {},
   "outputs": [
    {
     "name": "stdout",
     "output_type": "stream",
     "text": [
      "+-----------+----------+----+------+------------+---------+-------------+-----------+-----------------+-------------+-----------------+----------+-----------------+-----------------+---------------+----------------+---------------+---------------+-----------------+-----------+-----------+----------------+----------------+-------------+------------+------------+------------+------------+------------+------------+------------+------------+------------+--------------------+------------+----------------+----------------+--------------+------+-----------+\n",
      "|     userid|session_id| age|gender|gender_index|  country|country_index|day_of_week|day_of_week_index|  time_of_day|time_of_day_index|is_holiday|         genre_10|          genre_9|        genre_8|         genre_7|        genre_6|        genre_5|          genre_4|    genre_3|    genre_2|         genre_1| undefined_genre|genre_10_freq|genre_9_freq|genre_8_freq|genre_7_freq|genre_6_freq|genre_5_freq|genre_4_freq|genre_3_freq|genre_2_freq|genre_1_freq|undefined_genre_freq|absence_time|days_since_epoch|session_length_1|session_length|decile|description|\n",
      "+-----------+----------+----+------+------------+---------+-------------+-----------+-----------------+-------------+-----------------+----------+-----------------+-----------------+---------------+----------------+---------------+---------------+-----------------+-----------+-----------+----------------+----------------+-------------+------------+------------+------------+------------+------------+------------+------------+------------+------------+--------------------+------------+----------------+----------------+--------------+------+-----------+\n",
      "|user_000372|      3841|Null|     m|         0.0|Singapore|         36.0|   Saturday|              6.0|        Night|              1.0|         0|         trip-hop|             punk|    classicrock|     alternative|          indie|       chillout|              pop| electronic|       rock|undefined_genres|undefined_genres|         0.01|        0.01|        0.02|        0.02|        0.02|        0.02|        0.02|        0.03|        0.05|        0.27|                0.27|         479|            1731|            null|          1.39|   0.0|       null|\n",
      "|user_000372|      3840|Null|     m|         0.0|Singapore|         36.0|     Monday|              2.0|      Morning|              4.0|         0|          ambient|             folk|          metal| femalevocalists|     electronic|    alternative|              pop|      indie|       rock|undefined_genres|undefined_genres|         0.01|        0.01|        0.01|        0.02|        0.02|        0.02|        0.02|        0.02|        0.06|         0.3|                 0.3|        3156|            1733|             4.0|          1.39|   0.0|       null|\n",
      "|user_000372|      3839|Null|     m|         0.0|Singapore|         36.0|     Monday|              2.0|LateAfternoon|              3.0|         0|      classicrock|        indierock|          metal|          covers|          indie|    alternative|            cover|        pop|       rock|undefined_genres|undefined_genres|         0.02|        0.02|        0.02|        0.02|        0.02|        0.02|        0.02|        0.03|        0.07|        0.25|                0.25|         634|            1733|             4.0|          1.95|   1.0|    <5_mins|\n",
      "|user_000372|      3838|Null|     m|         0.0|Singapore|         36.0|    Tuesday|              0.0|      Evening|              2.0|         0|      alternative|singer-songwriter|       acoustic|        hardcore|           punk|          metal|       electronic|      indie|       rock|undefined_genres|undefined_genres|         0.01|        0.01|        0.02|        0.02|        0.02|        0.02|        0.03|        0.03|        0.04|        0.27|                0.27|        1534|            1734|             7.0|          3.66|   4.0|   <20_mins|\n",
      "|user_000372|      3837|Null|     m|         0.0|Singapore|         36.0|    Tuesday|              0.0|      Evening|              2.0|         0|             soul|         chillout|           jazz|     classicrock|     electronic|    alternative|            indie|        pop|       rock|undefined_genres|undefined_genres|         0.01|        0.01|        0.01|        0.02|        0.02|        0.02|        0.02|        0.03|        0.06|        0.28|                0.28|          61|            1734|            39.0|          1.39|   0.0|       null|\n",
      "|user_000372|      3836|Null|     m|         0.0|Singapore|         36.0|  Wednesday|              1.0|        Night|              1.0|         0|      classicrock|            metal|           jazz|            punk|     electronic|            pop|            indie|alternative|       rock|undefined_genres|undefined_genres|         0.01|        0.01|        0.01|        0.01|        0.01|        0.02|        0.02|        0.02|        0.05|        0.33|                0.33|         203|            1735|             4.0|          3.18|   3.0|   <10_mins|\n",
      "|user_000372|      3835|Null|     m|         0.0|Singapore|         36.0|  Wednesday|              1.0|        Night|              1.0|         0|             punk|  femalevocalists|    classicrock|             pop|          metal|    alternative|            indie| electronic|       rock|undefined_genres|undefined_genres|         0.01|        0.01|        0.01|        0.02|        0.02|        0.02|        0.03|        0.03|        0.05|        0.28|                0.28|         123|            1735|            24.0|          4.38|   6.0|   <40_mins|\n",
      "|user_000372|      3834|Null|     m|         0.0|Singapore|         36.0|  Wednesday|              1.0|         Dawn|              8.0|         0|      classicrock|          newwave|    alternative|           indie|            80s|     electronic|             punk|        pop|       rock|undefined_genres|undefined_genres|         0.01|        0.01|        0.02|        0.02|        0.02|        0.02|        0.02|        0.02|        0.04|        0.34|                0.34|         125|            1735|            80.0|          3.76|   5.0|   <30_mins|\n",
      "|user_000372|      3833|Null|     m|         0.0|Singapore|         36.0|  Wednesday|              1.0|  LateEvening|              7.0|         0|             folk|      classicrock|    alternative|             pop|          indie|         thrash|        ahahhahah| electronic|       rock|undefined_genres|undefined_genres|         0.01|        0.02|        0.02|        0.02|        0.03|        0.04|        0.04|        0.04|        0.05|        0.29|                0.29|         983|            1735|            43.0|          1.39|   0.0|       null|\n",
      "|user_000372|      3832|Null|     m|         0.0|Singapore|         36.0|   Thursday|              3.0|      Morning|              4.0|         0|             punk|     instrumental|            pop|     electronica|    classicrock|    alternative|       electronic|      indie|       rock|undefined_genres|undefined_genres|         0.01|        0.01|        0.01|        0.01|        0.01|        0.01|        0.03|        0.03|        0.06|        0.32|                0.32|         545|            1736|             4.0|          3.85|   5.0|   <30_mins|\n",
      "|user_000372|      3831|Null|     m|         0.0|Singapore|         36.0|   Thursday|              3.0|LateAfternoon|              3.0|         0|              70s|      classicrock|            80s| femalevocalists|    alternative|            pop|            indie| electronic|       rock|undefined_genres|undefined_genres|         0.01|        0.01|        0.01|        0.01|        0.02|        0.02|        0.02|        0.02|        0.05|         0.3|                 0.3|         511|            1736|            47.0|           3.0|   2.0|    <5_mins|\n",
      "|user_000372|      3830|Null|     m|         0.0|Singapore|         36.0|     Friday|              4.0|LateAfternoon|              3.0|         0|             soul|            metal|            pop|           indie|    alternative|femalevocalists|      classicrock| electronic|       rock|undefined_genres|undefined_genres|         0.02|        0.02|        0.02|        0.02|        0.02|        0.02|        0.02|        0.02|        0.05|        0.27|                0.27|        1355|            1737|            20.0|          3.99|   5.0|   <30_mins|\n",
      "|user_000372|      3829|Null|     m|         0.0|Singapore|         36.0|   Saturday|              6.0|         Dawn|              8.0|         0|     instrumental|  femalevocalists|          cover|           metal|            pop|     electronic|      alternative|      indie|       rock|undefined_genres|undefined_genres|         0.01|        0.01|        0.01|        0.02|        0.02|        0.02|        0.02|        0.03|        0.03|        0.29|                0.29|         739|            1738|            54.0|          1.39|   0.0|       null|\n",
      "|user_000372|      3828|Null|     m|         0.0|Singapore|         36.0|     Monday|              2.0|         Dawn|              8.0|         0|             folk|          ambient|            pop| femalevocalists|    classicrock|    alternative|       electronic|      indie|       rock|undefined_genres|undefined_genres|         0.01|        0.01|        0.02|        0.02|        0.02|        0.02|        0.03|        0.03|        0.06|        0.31|                0.31|        2843|            1740|             4.0|          3.74|   4.0|   <20_mins|\n",
      "|user_000372|      3827|Null|     m|         0.0|Singapore|         36.0|     Monday|              2.0|      Morning|              4.0|         0|        americana|             rock|          metal|     psychobilly|      hellbilly|          drunk|    outlawcountry|       folk|    country|undefined_genres|undefined_genres|         0.02|        0.02|        0.02|        0.02|        0.02|        0.02|        0.02|        0.03|        0.07|        0.28|                0.28|         157|            1740|            42.0|          3.76|   5.0|   <30_mins|\n",
      "|user_000372|      3826|Null|     m|         0.0|Singapore|         36.0|     Monday|              2.0|LateAfternoon|              3.0|         0|          newwave|              pop|    classicrock|           metal|alternativerock|     electronic|            indie|alternative|       rock|undefined_genres|undefined_genres|         0.01|        0.02|        0.02|        0.02|        0.02|        0.02|        0.02|        0.03|        0.05|        0.25|                0.25|         552|            1740|            43.0|          3.87|   5.0|   <30_mins|\n",
      "|user_000372|      3825|Null|     m|         0.0|Singapore|         36.0|    Tuesday|              0.0|      Morning|              4.0|         0|              pop|  femalevocalists|           punk|           metal|       punkrock|    alternative|       electronic|      indie|       rock|undefined_genres|undefined_genres|         0.01|        0.01|        0.02|        0.02|        0.02|        0.02|        0.02|        0.03|        0.05|        0.32|                0.32|         752|            1741|            48.0|          3.22|   3.0|   <10_mins|\n",
      "|user_000372|      3824|Null|     m|         0.0|Singapore|         36.0|    Tuesday|              0.0|      Morning|              4.0|         0|            metal|      classicrock|            pop|      electronic|          indie|           live|singer-songwriter|       rock|alternative|undefined_genres|undefined_genres|         0.01|        0.01|        0.02|        0.02|        0.02|        0.03|        0.04|        0.04|        0.05|        0.26|                0.26|          71|            1741|            25.0|          3.04|   3.0|   <10_mins|\n",
      "|user_000372|      3823|Null|     m|         0.0|Singapore|         36.0|    Tuesday|              0.0|      Evening|              2.0|         0|singer-songwriter|      classicrock|          blues| femalevocalists|     electronic|            pop|            indie|alternative|       rock|undefined_genres|undefined_genres|         0.01|        0.01|        0.01|        0.02|        0.02|        0.02|        0.02|        0.02|        0.05|        0.34|                0.34|         692|            1741|            21.0|          3.18|   3.0|   <10_mins|\n",
      "|user_000372|      3822|Null|     m|         0.0|Singapore|         36.0|  Wednesday|              1.0|        Night|              1.0|         0|            metal|              pop|femalevocalists|progressivemetal|progressiverock|     electronic|      alternative|      indie|       rock|undefined_genres|undefined_genres|         0.01|        0.01|        0.01|        0.02|        0.02|        0.02|        0.03|        0.03|        0.07|        0.24|                0.24|         266|            1742|            24.0|          3.22|   3.0|   <10_mins|\n",
      "+-----------+----------+----+------+------------+---------+-------------+-----------+-----------------+-------------+-----------------+----------+-----------------+-----------------+---------------+----------------+---------------+---------------+-----------------+-----------+-----------+----------------+----------------+-------------+------------+------------+------------+------------+------------+------------+------------+------------+------------+--------------------+------------+----------------+----------------+--------------+------+-----------+\n",
      "only showing top 20 rows\n",
      "\n"
     ]
    }
   ],
   "source": [
    "user_session_with_window_bucketized_descr_df.show(20)"
   ]
  },
  {
   "cell_type": "code",
   "execution_count": 251,
   "metadata": {},
   "outputs": [],
   "source": [
    "train_data = None\n",
    "dev_data = None\n",
    "test_data = None"
   ]
  },
  {
   "cell_type": "code",
   "execution_count": 252,
   "metadata": {},
   "outputs": [
    {
     "name": "stdout",
     "output_type": "stream",
     "text": [
      "root\n",
      " |-- userid: string (nullable = true)\n",
      " |-- session_id: integer (nullable = true)\n",
      " |-- age: string (nullable = true)\n",
      " |-- gender: string (nullable = true)\n",
      " |-- gender_index: double (nullable = false)\n",
      " |-- country: string (nullable = true)\n",
      " |-- country_index: double (nullable = false)\n",
      " |-- day_of_week: string (nullable = true)\n",
      " |-- day_of_week_index: double (nullable = false)\n",
      " |-- time_of_day: string (nullable = true)\n",
      " |-- time_of_day_index: double (nullable = false)\n",
      " |-- is_holiday: integer (nullable = true)\n",
      " |-- genre_10: string (nullable = true)\n",
      " |-- genre_9: string (nullable = true)\n",
      " |-- genre_8: string (nullable = true)\n",
      " |-- genre_7: string (nullable = true)\n",
      " |-- genre_6: string (nullable = true)\n",
      " |-- genre_5: string (nullable = true)\n",
      " |-- genre_4: string (nullable = true)\n",
      " |-- genre_3: string (nullable = true)\n",
      " |-- genre_2: string (nullable = true)\n",
      " |-- genre_1: string (nullable = true)\n",
      " |-- undefined_genre: string (nullable = true)\n",
      " |-- genre_10_freq: double (nullable = true)\n",
      " |-- genre_9_freq: double (nullable = true)\n",
      " |-- genre_8_freq: double (nullable = true)\n",
      " |-- genre_7_freq: double (nullable = true)\n",
      " |-- genre_6_freq: double (nullable = true)\n",
      " |-- genre_5_freq: double (nullable = true)\n",
      " |-- genre_4_freq: double (nullable = true)\n",
      " |-- genre_3_freq: double (nullable = true)\n",
      " |-- genre_2_freq: double (nullable = true)\n",
      " |-- genre_1_freq: double (nullable = true)\n",
      " |-- undefined_genre_freq: double (nullable = true)\n",
      " |-- absence_time: integer (nullable = true)\n",
      " |-- days_since_epoch: integer (nullable = true)\n",
      " |-- session_length_1: double (nullable = true)\n",
      " |-- session_length: double (nullable = true)\n",
      " |-- decile: double (nullable = true)\n",
      " |-- description: string (nullable = true)\n",
      "\n"
     ]
    }
   ],
   "source": [
    "user_session_with_window_bucketized_descr_df.printSchema()"
   ]
  },
  {
   "cell_type": "code",
   "execution_count": 257,
   "metadata": {},
   "outputs": [],
   "source": [
    "from pyspark.sql.functions import percent_rank\n",
    "\n",
    "def get_train_dev_test_data():\n",
    "    print(\"==================================================================================================================\")\n",
    "    print(\"============================================     CREATE TRAIN/DEV/TEST SETS      =================================\")\n",
    "    print(\"==================================================================================================================\\n\\n\")\n",
    "    global train_data, dev_data, test_data\n",
    "    global user_session_with_window_df\n",
    "    \n",
    "    print(\"SESSION_DATA_WITH_WINDOW_BUCKETIZED_DESCR_DF.USERID.COUNT():\\t{}\".format(user_session_with_window_bucketized_descr_df.select(\"userid\").distinct().count()))\n",
    "    session_data = user_session_with_window_bucketized_descr_df.select(\"userid\",\"gender\",\"age\",\"country\", \"day_of_week\", \"time_of_day\",\"is_holiday\",\"genre_10\",\"genre_9\",\"genre_8\",\"genre_7\",\"genre_6\",\"genre_5\",\"genre_4\",\"genre_3\",\"genre_2\",\"genre_1\",\"genre_10_freq\",\"genre_9_freq\",\"genre_8_freq\",\"genre_7_freq\",\"genre_6_freq\",\"genre_5_freq\",\"genre_4_freq\",\"genre_3_freq\",\"genre_2_freq\",\"genre_1_freq\",\"absence_time\",\"days_since_epoch\",\"session_length_1\",\"session_length\",\"decile\").na.drop()\n",
    "    print(\"SESSION_DATA.USERID.COUNT():\\t{}\".format(session_data.select(\"userid\").distinct().count()))\n",
    "    categoricalColumns = [\"userid\",\"gender\",\"country\", \"day_of_week\", \"time_of_day\",\"genre_10\",\"genre_9\",\"genre_8\",\"genre_7\",\"genre_6\",\"genre_5\",\"genre_4\",\"genre_3\",\"genre_2\",\"genre_1\"]\n",
    "    cols = session_data.columns\n",
    "    stages =[]\n",
    "    for categoricalCol in categoricalColumns:\n",
    "        stringIndexer  = StringIndexer(inputCol=categoricalCol, outputCol=categoricalCol+\"Index\")\n",
    "        encoder = OneHotEncoderEstimator(inputCols=[stringIndexer.getOutputCol()], outputCols=[categoricalCol+\"classVec\"])\n",
    "        stages += [stringIndexer,encoder]\n",
    "    label_stringIdx = StringIndexer(inputCol=\"decile\", outputCol=\"label\")\n",
    "    stages += [label_stringIdx]\n",
    "    numericCols = [\"is_holiday\",\"genre_10_freq\",\"genre_9_freq\",\"genre_8_freq\",\"genre_7_freq\",\"genre_6_freq\",\"genre_5_freq\",\"genre_4_freq\",\"genre_3_freq\",\"genre_2_freq\",\"genre_1_freq\",\"is_holiday\",\"absence_time\",\"days_since_epoch\",\"session_length_1\",\"session_length\",\"decile\"]\n",
    "    assemblerInputs = [c + \"classVec\" for c in categoricalColumns] + numericCols\n",
    "    assembler = VectorAssembler(inputCols=assemblerInputs, outputCol=\"features\")\n",
    "    stages += [assembler]\n",
    "    pipeline = Pipeline(stages=stages)\n",
    "    pipelineModel = pipeline.fit(session_data)\n",
    "    session_data = pipelineModel.transform(session_data)\n",
    "    selectedcols = [\"label\",\"features\"] + cols\n",
    "    session_data = session_data.select(selectedcols)\n",
    "    print(\"************************************       DATA BEFORE TRAIN/DEV/TEST SPLIT     *************************************\")\n",
    "    #session_data.show(5,False)\n",
    "    print(\"************************************           Splitting Train/Test data        *************************************\")\n",
    "    #train_data, dev_data, test_data = session_data.randomSplit([0.65, 0.2, 0.15])\n",
    "    \n",
    "    print(\"SESSION_DATA.COUNT():\\t{}\".format(session_data.count()))\n",
    "    print(\"SESSION_DATA.USERID.COUNT():\\t{}\".format(session_data.select(\"userid\").distinct().count()))\n",
    "\n",
    "    session_data_df = session_data.withColumn(\"rank\", percent_rank().over(Window.partitionBy().orderBy(\"userid\")))\n",
    "    train_data = session_data_df.where(\"rank <= .65\").drop(\"rank\")\n",
    "    #train_data.show()\n",
    "    dev_data = session_data_df.where((\"rank > .65\") and (\"rank < 0.799\")).drop(\"rank\")\n",
    "    #dev_data.show()\n",
    "    test_data = session_data_df.where(\"rank > .80\").drop(\"rank\")\n",
    "    #test_data.show()"
   ]
  },
  {
   "cell_type": "code",
   "execution_count": 258,
   "metadata": {},
   "outputs": [
    {
     "name": "stdout",
     "output_type": "stream",
     "text": [
      "==================================================================================================================\n",
      "============================================     CREATE TRAIN/DEV/TEST SETS      =================================\n",
      "==================================================================================================================\n",
      "\n",
      "\n",
      "SESSION_DATA_WITH_WINDOW_BUCKETIZED_DESCR_DF.USERID.COUNT():\t327\n",
      "SESSION_DATA.USERID.COUNT():\t327\n",
      "************************************       DATA BEFORE TRAIN/DEV/TEST SPLIT     *************************************\n",
      "************************************           Splitting Train/Test data        *************************************\n",
      "SESSION_DATA.COUNT():\t295406\n",
      "SESSION_DATA.USERID.COUNT():\t327\n"
     ]
    }
   ],
   "source": [
    "get_train_dev_test_data()"
   ]
  },
  {
   "cell_type": "code",
   "execution_count": 259,
   "metadata": {},
   "outputs": [
    {
     "name": "stdout",
     "output_type": "stream",
     "text": [
      "+-----+-------------------------------------------------------------------------------------------------------------------------------------------------------------------------------------------------------------------------------------------------------------------------------------------------+-----------+------+----+-------+-----------+-----------+----------+---------------+---------------+---------------+---------------+---------------+-----------+-----------+-----------+-------+----------------+-------------+------------+------------+------------+------------+------------+------------+------------+------------+------------+------------+----------------+----------------+--------------+------+\n",
      "|label|features                                                                                                                                                                                                                                                                                         |userid     |gender|age |country|day_of_week|time_of_day|is_holiday|genre_10       |genre_9        |genre_8        |genre_7        |genre_6        |genre_5    |genre_4    |genre_3    |genre_2|genre_1         |genre_10_freq|genre_9_freq|genre_8_freq|genre_7_freq|genre_6_freq|genre_5_freq|genre_4_freq|genre_3_freq|genre_2_freq|genre_1_freq|absence_time|days_since_epoch|session_length_1|session_length|decile|\n",
      "+-----+-------------------------------------------------------------------------------------------------------------------------------------------------------------------------------------------------------------------------------------------------------------------------------------------------+-----------+------+----+-------+-----------+-----------+----------+---------------+---------------+---------------+---------------+---------------+-----------+-----------+-----------+-------+----------------+-------------+------------+------------+------------+------------+------------+------------+------------+------------+------------+------------+----------------+----------------+--------------+------+\n",
      "|9.0  |(2050,[95,326,354,372,376,384,657,939,1173,1378,1580,1754,1894,1991,2032,2034,2035,2036,2037,2038,2039,2040,2041,2042,2043,2045,2046,2047,2048,2049],[1.0,1.0,1.0,1.0,1.0,1.0,1.0,1.0,1.0,1.0,1.0,1.0,1.0,1.0,1.0,0.01,0.01,0.02,0.02,0.02,0.03,0.03,0.04,0.05,0.25,1132.0,959.0,242.0,5.14,8.0])|user_000001|m     |Null|Japan  |Thursday   |Night      |0         |alternativerock|metal          |chillout       |femalevocalists|electronic     |pop        |alternative|indie      |rock   |undefined_genres|0.01         |0.01        |0.02        |0.02        |0.02        |0.03        |0.03        |0.04        |0.05        |0.25        |1132        |959             |242.0           |5.14          |8.0   |\n",
      "|4.0  |(2050,[95,326,354,372,379,393,656,927,1170,1384,1580,1754,1894,1991,2032,2034,2035,2036,2037,2038,2039,2040,2041,2042,2043,2045,2046,2047,2048,2049],[1.0,1.0,1.0,1.0,1.0,1.0,1.0,1.0,1.0,1.0,1.0,1.0,1.0,1.0,1.0,0.01,0.01,0.02,0.02,0.02,0.03,0.03,0.03,0.05,0.28,146.0,959.0,170.0,4.09,6.0]) |user_000001|m     |Null|Japan  |Thursday   |Morning    |0         |chillout       |alternativerock|metal          |electronic     |femalevocalists|pop        |alternative|indie      |rock   |undefined_genres|0.01         |0.01        |0.02        |0.02        |0.02        |0.03        |0.03        |0.03        |0.05        |0.28        |146         |959             |170.0           |4.09          |6.0   |\n",
      "|2.0  |(2050,[95,326,354,373,379,383,665,929,1176,1384,1580,1754,1894,1991,2032,2034,2035,2036,2037,2038,2039,2040,2041,2042,2043,2045,2046,2047,2048,2049],[1.0,1.0,1.0,1.0,1.0,1.0,1.0,1.0,1.0,1.0,1.0,1.0,1.0,1.0,1.0,0.01,0.01,0.02,0.02,0.02,0.03,0.03,0.05,0.05,0.25,1334.0,960.0,60.0,4.64,7.0]) |user_000001|m     |Null|Japan  |Friday     |Morning    |0         |classicrock    |instrumental   |electronic     |british        |femalevocalists|pop        |alternative|indie      |rock   |undefined_genres|0.01         |0.01        |0.02        |0.02        |0.02        |0.03        |0.03        |0.05        |0.05        |0.25        |1334        |960             |60.0            |4.64          |7.0   |\n",
      "|9.0  |(2050,[95,326,354,380,386,665,928,1170,1383,1580,1755,1895,1991,2032,2034,2035,2036,2037,2038,2039,2040,2041,2042,2043,2045,2046,2047,2048,2049],[1.0,1.0,1.0,1.0,1.0,1.0,1.0,1.0,1.0,1.0,1.0,1.0,1.0,1.0,0.01,0.01,0.02,0.02,0.02,0.02,0.03,0.03,0.05,0.27,1640.0,961.0,104.0,4.94,8.0])        |user_000001|m     |Null|Japan  |Saturday   |Lunch      |0         |metal          |instrumental   |femalevocalists|electronic     |alternativerock|pop        |indie      |alternative|rock   |undefined_genres|0.01         |0.01        |0.02        |0.02        |0.02        |0.02        |0.03        |0.03        |0.05        |0.27        |1640        |961             |104.0           |4.94          |8.0   |\n",
      "|1.0  |(2050,[95,326,354,374,383,657,926,1180,1377,1579,1755,1896,1991,2032,2034,2035,2036,2037,2038,2039,2040,2041,2042,2043,2045,2046,2047,2048,2049],[1.0,1.0,1.0,1.0,1.0,1.0,1.0,1.0,1.0,1.0,1.0,1.0,1.0,1.0,0.01,0.01,0.01,0.01,0.02,0.03,0.03,0.03,0.04,0.27,986.0,962.0,140.0,4.01,5.0])         |user_000001|m     |Null|Japan  |Sunday     |Dawn       |0         |classicrock    |metal          |alternativerock|instrumental   |pop            |alternative|indie      |electronic |rock   |undefined_genres|0.01         |0.01        |0.01        |0.01        |0.02        |0.03        |0.03        |0.03        |0.04        |0.27        |986         |962             |140.0           |4.01          |5.0   |\n",
      "+-----+-------------------------------------------------------------------------------------------------------------------------------------------------------------------------------------------------------------------------------------------------------------------------------------------------+-----------+------+----+-------+-----------+-----------+----------+---------------+---------------+---------------+---------------+---------------+-----------+-----------+-----------+-------+----------------+-------------+------------+------------+------------+------------+------------+------------+------------+------------+------------+------------+----------------+----------------+--------------+------+\n",
      "only showing top 5 rows\n",
      "\n"
     ]
    }
   ],
   "source": [
    "train_data.show(5,False)"
   ]
  },
  {
   "cell_type": "code",
   "execution_count": 260,
   "metadata": {},
   "outputs": [
    {
     "name": "stdout",
     "output_type": "stream",
     "text": [
      "+-----+-------------------------------------------------------------------------------------------------------------------------------------------------------------------------------------------------------------------------------------------------------------------------------------------------+-----------+------+----+-------+-----------+-----------+----------+---------------+---------------+---------------+---------------+---------------+-----------+-----------+-----------+-------+----------------+-------------+------------+------------+------------+------------+------------+------------+------------+------------+------------+------------+----------------+----------------+--------------+------+\n",
      "|label|features                                                                                                                                                                                                                                                                                         |userid     |gender|age |country|day_of_week|time_of_day|is_holiday|genre_10       |genre_9        |genre_8        |genre_7        |genre_6        |genre_5    |genre_4    |genre_3    |genre_2|genre_1         |genre_10_freq|genre_9_freq|genre_8_freq|genre_7_freq|genre_6_freq|genre_5_freq|genre_4_freq|genre_3_freq|genre_2_freq|genre_1_freq|absence_time|days_since_epoch|session_length_1|session_length|decile|\n",
      "+-----+-------------------------------------------------------------------------------------------------------------------------------------------------------------------------------------------------------------------------------------------------------------------------------------------------+-----------+------+----+-------+-----------+-----------+----------+---------------+---------------+---------------+---------------+---------------+-----------+-----------+-----------+-------+----------------+-------------+------------+------------+------------+------------+------------+------------+------------+------------+------------+------------+----------------+----------------+--------------+------+\n",
      "|9.0  |(2050,[95,326,354,372,376,384,657,939,1173,1378,1580,1754,1894,1991,2032,2034,2035,2036,2037,2038,2039,2040,2041,2042,2043,2045,2046,2047,2048,2049],[1.0,1.0,1.0,1.0,1.0,1.0,1.0,1.0,1.0,1.0,1.0,1.0,1.0,1.0,1.0,0.01,0.01,0.02,0.02,0.02,0.03,0.03,0.04,0.05,0.25,1132.0,959.0,242.0,5.14,8.0])|user_000001|m     |Null|Japan  |Thursday   |Night      |0         |alternativerock|metal          |chillout       |femalevocalists|electronic     |pop        |alternative|indie      |rock   |undefined_genres|0.01         |0.01        |0.02        |0.02        |0.02        |0.03        |0.03        |0.04        |0.05        |0.25        |1132        |959             |242.0           |5.14          |8.0   |\n",
      "|4.0  |(2050,[95,326,354,372,379,393,656,927,1170,1384,1580,1754,1894,1991,2032,2034,2035,2036,2037,2038,2039,2040,2041,2042,2043,2045,2046,2047,2048,2049],[1.0,1.0,1.0,1.0,1.0,1.0,1.0,1.0,1.0,1.0,1.0,1.0,1.0,1.0,1.0,0.01,0.01,0.02,0.02,0.02,0.03,0.03,0.03,0.05,0.28,146.0,959.0,170.0,4.09,6.0]) |user_000001|m     |Null|Japan  |Thursday   |Morning    |0         |chillout       |alternativerock|metal          |electronic     |femalevocalists|pop        |alternative|indie      |rock   |undefined_genres|0.01         |0.01        |0.02        |0.02        |0.02        |0.03        |0.03        |0.03        |0.05        |0.28        |146         |959             |170.0           |4.09          |6.0   |\n",
      "|2.0  |(2050,[95,326,354,373,379,383,665,929,1176,1384,1580,1754,1894,1991,2032,2034,2035,2036,2037,2038,2039,2040,2041,2042,2043,2045,2046,2047,2048,2049],[1.0,1.0,1.0,1.0,1.0,1.0,1.0,1.0,1.0,1.0,1.0,1.0,1.0,1.0,1.0,0.01,0.01,0.02,0.02,0.02,0.03,0.03,0.05,0.05,0.25,1334.0,960.0,60.0,4.64,7.0]) |user_000001|m     |Null|Japan  |Friday     |Morning    |0         |classicrock    |instrumental   |electronic     |british        |femalevocalists|pop        |alternative|indie      |rock   |undefined_genres|0.01         |0.01        |0.02        |0.02        |0.02        |0.03        |0.03        |0.05        |0.05        |0.25        |1334        |960             |60.0            |4.64          |7.0   |\n",
      "|9.0  |(2050,[95,326,354,380,386,665,928,1170,1383,1580,1755,1895,1991,2032,2034,2035,2036,2037,2038,2039,2040,2041,2042,2043,2045,2046,2047,2048,2049],[1.0,1.0,1.0,1.0,1.0,1.0,1.0,1.0,1.0,1.0,1.0,1.0,1.0,1.0,0.01,0.01,0.02,0.02,0.02,0.02,0.03,0.03,0.05,0.27,1640.0,961.0,104.0,4.94,8.0])        |user_000001|m     |Null|Japan  |Saturday   |Lunch      |0         |metal          |instrumental   |femalevocalists|electronic     |alternativerock|pop        |indie      |alternative|rock   |undefined_genres|0.01         |0.01        |0.02        |0.02        |0.02        |0.02        |0.03        |0.03        |0.05        |0.27        |1640        |961             |104.0           |4.94          |8.0   |\n",
      "|1.0  |(2050,[95,326,354,374,383,657,926,1180,1377,1579,1755,1896,1991,2032,2034,2035,2036,2037,2038,2039,2040,2041,2042,2043,2045,2046,2047,2048,2049],[1.0,1.0,1.0,1.0,1.0,1.0,1.0,1.0,1.0,1.0,1.0,1.0,1.0,1.0,0.01,0.01,0.01,0.01,0.02,0.03,0.03,0.03,0.04,0.27,986.0,962.0,140.0,4.01,5.0])         |user_000001|m     |Null|Japan  |Sunday     |Dawn       |0         |classicrock    |metal          |alternativerock|instrumental   |pop            |alternative|indie      |electronic |rock   |undefined_genres|0.01         |0.01        |0.01        |0.01        |0.02        |0.03        |0.03        |0.03        |0.04        |0.27        |986         |962             |140.0           |4.01          |5.0   |\n",
      "+-----+-------------------------------------------------------------------------------------------------------------------------------------------------------------------------------------------------------------------------------------------------------------------------------------------------+-----------+------+----+-------+-----------+-----------+----------+---------------+---------------+---------------+---------------+---------------+-----------+-----------+-----------+-------+----------------+-------------+------------+------------+------------+------------+------------+------------+------------+------------+------------+------------+----------------+----------------+--------------+------+\n",
      "only showing top 5 rows\n",
      "\n"
     ]
    }
   ],
   "source": [
    "dev_data.show(5,False)"
   ]
  },
  {
   "cell_type": "code",
   "execution_count": 261,
   "metadata": {},
   "outputs": [
    {
     "name": "stdout",
     "output_type": "stream",
     "text": [
      "+-----+----------------------------------------------------------------------------------------------------------------------------------------------------------------------------------------------------------------------------------------------------------------------------------------------+-----------+------+----+-------------+-----------+-----------+----------+---------------+---------------+---------+----------+-------------------+-----------+-----------+-----------+-------+----------------+-------------+------------+------------+------------+------------+------------+------------+------------+------------+------------+------------+----------------+----------------+--------------+------+\n",
      "|label|features                                                                                                                                                                                                                                                                                      |userid     |gender|age |country      |day_of_week|time_of_day|is_holiday|genre_10       |genre_9        |genre_8  |genre_7   |genre_6            |genre_5    |genre_4    |genre_3    |genre_2|genre_1         |genre_10_freq|genre_9_freq|genre_8_freq|genre_7_freq|genre_6_freq|genre_5_freq|genre_4_freq|genre_3_freq|genre_2_freq|genre_1_freq|absence_time|days_since_epoch|session_length_1|session_length|decile|\n",
      "+-----+----------------------------------------------------------------------------------------------------------------------------------------------------------------------------------------------------------------------------------------------------------------------------------------------+-----------+------+----+-------------+-----------+-----------+----------+---------------+---------------+---------+----------+-------------------+-----------+-----------+-----------+-------+----------------+-------------+------------+------------+------------+------------+------------+------------+------------+------------+------------+------------+----------------+----------------+--------------+------+\n",
      "|8.0  |(2050,[13,326,328,372,381,449,656,945,1172,1377,1581,1754,1896,1991,2032,2034,2035,2036,2037,2038,2039,2040,2041,2042,2043,2045,2046,2047,2048,2049],[1.0,1.0,1.0,1.0,1.0,1.0,1.0,1.0,1.0,1.0,1.0,1.0,1.0,1.0,1.0,0.01,0.01,0.01,0.01,0.02,0.02,0.03,0.03,0.04,0.27,32.0,791.0,6.0,2.94,2.0]) |user_000783|m     |Null|United States|Thursday   |LateMorning|0         |psychedelic    |alternativerock|ambient  |metal     |pop                |indie      |alternative|electronic |rock   |undefined_genres|0.01         |0.01        |0.01        |0.01        |0.02        |0.02        |0.03        |0.03        |0.04        |0.27        |32          |791             |6.0             |2.94          |2.0   |\n",
      "|4.0  |(2050,[13,326,328,373,392,658,934,1170,1377,1666,1826,1895,1991,2032,2034,2035,2036,2037,2038,2039,2040,2041,2042,2043,2045,2046,2047,2048,2049],[1.0,1.0,1.0,1.0,1.0,1.0,1.0,1.0,1.0,1.0,1.0,1.0,1.0,1.0,0.01,0.01,0.02,0.02,0.02,0.03,0.03,0.03,0.05,0.28,1218.0,792.0,19.0,4.25,6.0])      |user_000783|m     |Null|United States|Friday     |Dawn       |0         |hip-hop        |femalevocalists|indie    |electronic|pop                |176bpm     |1987       |alternative|rock   |undefined_genres|0.01         |0.01        |0.02        |0.02        |0.02        |0.03        |0.03        |0.03        |0.05        |0.28        |1218        |792             |19.0            |4.25          |6.0   |\n",
      "|4.0  |(2050,[13,326,328,373,379,386,661,951,1176,1377,1579,1755,1896,1991,2032,2034,2035,2036,2037,2038,2039,2040,2041,2042,2043,2045,2046,2047,2048,2049],[1.0,1.0,1.0,1.0,1.0,1.0,1.0,1.0,1.0,1.0,1.0,1.0,1.0,1.0,1.0,0.01,0.01,0.01,0.01,0.02,0.02,0.03,0.03,0.05,0.27,90.0,792.0,70.0,4.09,6.0])|user_000783|m     |Null|United States|Friday     |Morning    |0         |metal          |punk           |dance    |british   |pop                |alternative|indie      |electronic |rock   |undefined_genres|0.01         |0.01        |0.01        |0.01        |0.02        |0.02        |0.03        |0.03        |0.05        |0.27        |90          |792             |70.0            |4.09          |6.0   |\n",
      "|0.0  |(2050,[13,326,328,373,381,385,656,933,1188,1378,1580,1754,1894,1991,2032,2034,2035,2036,2037,2038,2039,2040,2041,2042,2043,2045,2046,2047,2048],[1.0,1.0,1.0,1.0,1.0,1.0,1.0,1.0,1.0,1.0,1.0,1.0,1.0,1.0,1.0,0.01,0.01,0.01,0.01,0.02,0.02,0.02,0.03,0.05,0.28,175.0,792.0,60.0,1.39])        |user_000783|m     |Null|United States|Friday     |LateMorning|0         |femalevocalists|alternativerock|indierock|ambient   |electronic         |pop        |alternative|indie      |rock   |undefined_genres|0.01         |0.01        |0.01        |0.01        |0.02        |0.02        |0.02        |0.03        |0.05        |0.28        |175         |792             |60.0            |1.39          |0.0   |\n",
      "|3.0  |(2050,[13,326,328,373,377,421,662,936,1168,1438,1589,1755,1895,1991,2032,2034,2035,2036,2037,2038,2039,2040,2041,2042,2043,2045,2046,2047,2048,2049],[1.0,1.0,1.0,1.0,1.0,1.0,1.0,1.0,1.0,1.0,1.0,1.0,1.0,1.0,1.0,0.01,0.02,0.02,0.02,0.02,0.03,0.03,0.05,0.05,0.24,449.0,792.0,4.0,5.86,9.0])|user_000783|m     |Null|United States|Friday     |Evening    |0         |hiphop         |electronic     |hip-hop  |pop       |femalejazzvocalists|jazz       |indie      |alternative|rock   |undefined_genres|0.01         |0.02        |0.02        |0.02        |0.02        |0.03        |0.03        |0.05        |0.05        |0.24        |449         |792             |4.0             |5.86          |9.0   |\n",
      "+-----+----------------------------------------------------------------------------------------------------------------------------------------------------------------------------------------------------------------------------------------------------------------------------------------------+-----------+------+----+-------------+-----------+-----------+----------+---------------+---------------+---------+----------+-------------------+-----------+-----------+-----------+-------+----------------+-------------+------------+------------+------------+------------+------------+------------+------------+------------+------------+------------+----------------+----------------+--------------+------+\n",
      "only showing top 5 rows\n",
      "\n"
     ]
    }
   ],
   "source": [
    "test_data.show(5,False)"
   ]
  },
  {
   "cell_type": "markdown",
   "metadata": {},
   "source": [
    "### BASELINE DL model with Multinomial Naive Bayes"
   ]
  },
  {
   "cell_type": "code",
   "execution_count": 262,
   "metadata": {},
   "outputs": [],
   "source": [
    "smoothings  = [0.1,0.2,0.3,0.4,0.5,0.6,0.7,0.8,0.9,1.0]"
   ]
  },
  {
   "cell_type": "code",
   "execution_count": 263,
   "metadata": {},
   "outputs": [],
   "source": [
    "mnbModel = None"
   ]
  },
  {
   "cell_type": "code",
   "execution_count": 273,
   "metadata": {},
   "outputs": [],
   "source": [
    "def mnb_classifier(smoothing):\n",
    "    global mnbModel\n",
    "    global lr_results\n",
    "    global train_data, dev_data, test_data\n",
    "    mnb = NaiveBayes(smoothing=smoothing, modelType=\"multinomial\")\n",
    "    #print(\"---------------------------------  Fitting Model to TRAIN  ---------------------------\")\n",
    "    mnbModel = mnb.fit(train_data)\n",
    "    #print(\"---------------------------------  Generating Predictions  ---------------------------\")\n",
    "    predictions = mnbModel.transform(dev_data)\n",
    "    selected = predictions.select(\"label\", \"prediction\", \"userid\", \"gender\",\"is_holiday\",\"country\", \"day_of_week\", \"time_of_day\",\"genre_10\",\"genre_9\",\"genre_8\",\"genre_7\",\"genre_6\",\"genre_5\",\"genre_4\",\"genre_3\",\"genre_2\",\"genre_1\",\n",
    "                                  \"genre_10_freq\",\"genre_9_freq\",\"genre_8_freq\",\"genre_7_freq\",\"genre_6_freq\",\"genre_5_freq\",\"genre_4_freq\",\"genre_3_freq\",\"genre_2_freq\",\"genre_1_freq\",\"absence_time\",\"days_since_epoch\",\"session_length_1\",\"session_length\",\"decile\")\n",
    "    evaluator = MulticlassClassificationEvaluator().setMetricName('accuracy').setLabelCol('label').setPredictionCol(\"prediction\")\n",
    "    #print(\"---------------------------------  Evaluating Model     ------------------------------\")\n",
    "    result = evaluator.evaluate(mnbModel.transform(dev_data))\n",
    "    #result.select(\"features\",\"label\",\"prediction\").show(5,False)\n",
    "    mnb_results.update({smoothing:result})\n"
   ]
  },
  {
   "cell_type": "code",
   "execution_count": 274,
   "metadata": {},
   "outputs": [],
   "source": [
    "def eval_mnb_classifier():\n",
    "    print(\"###########################################################################################\")\n",
    "    print(\"############################     MULTINOMIAL NAIVE BAYES CLASSIFIER      ##################\")\n",
    "    print(\"###########################################################################################\")\n",
    "    print(\"\\tSMOOTHING\\tACCURACY\")\n",
    "    for smoothing in smoothings:\n",
    "        mnb_classifier(smoothing)\n",
    "        print(\"\\t{}\\t\\t{}\".format(smoothing, mnb_results[smoothing]))\n",
    "        "
   ]
  },
  {
   "cell_type": "code",
   "execution_count": 275,
   "metadata": {},
   "outputs": [
    {
     "name": "stdout",
     "output_type": "stream",
     "text": [
      "###########################################################################################\n",
      "############################     MULTINOMIAL NAIVE BAYES CLASSIFIER      ##################\n",
      "###########################################################################################\n",
      "\tSMOOTHING\tACCURACY\n",
      "\t0.1\t\t0.142868622616\n",
      "\t0.2\t\t0.142843246307\n",
      "\t0.3\t\t0.142813640612\n",
      "\t0.4\t\t0.142784034918\n",
      "\t0.5\t\t0.142784034918\n",
      "\t0.6\t\t0.142775576148\n",
      "\t0.7\t\t0.142754429223\n",
      "\t0.8\t\t0.142750199838\n",
      "\t0.9\t\t0.142750199838\n",
      "\t1.0\t\t0.142724823529\n"
     ]
    }
   ],
   "source": [
    "mnb_results = dict()\n",
    "\n",
    "eval_mnb_classifier()"
   ]
  },
  {
   "cell_type": "markdown",
   "metadata": {},
   "source": [
    "### BASELINE DL model with Multinomial Logistic Regression"
   ]
  },
  {
   "cell_type": "code",
   "execution_count": 323,
   "metadata": {},
   "outputs": [],
   "source": [
    "lrModel = None"
   ]
  },
  {
   "cell_type": "code",
   "execution_count": 276,
   "metadata": {},
   "outputs": [],
   "source": [
    "def logistic_classifier(regparam, elasticnetparam):\n",
    "    global lrModel\n",
    "    global lr_results\n",
    "    global train_data, dev_data, test_data\n",
    "    lr = LogisticRegression(labelCol=\"label\", featuresCol=\"features\", maxIter=10, regParam=regparam, elasticNetParam=elasticnetparam)\n",
    "    #print(\"---------------------------------  Fitting Model to TRAIN  ---------------------------\")\n",
    "    lrModel = lr.fit(train_data)\n",
    "    #print(\"---------------------------------  Generating Predictions  ---------------------------\")\n",
    "    predictions = lrModel.transform(dev_data)\n",
    "    selected = predictions.select(\"label\", \"prediction\", \"userid\", \"gender\",\"is_holiday\",\"country\", \"day_of_week\", \"time_of_day\",\"genre_10\",\"genre_9\",\"genre_8\",\"genre_7\",\"genre_6\",\"genre_5\",\"genre_4\",\"genre_3\",\"genre_2\",\"genre_1\",\n",
    "                                  \"genre_10_freq\",\"genre_9_freq\",\"genre_8_freq\",\"genre_7_freq\",\"genre_6_freq\",\"genre_5_freq\",\"genre_4_freq\",\"genre_3_freq\",\"genre_2_freq\",\"genre_1_freq\",\"absence_time\",\"days_since_epoch\",\"session_length_1\",\"session_length\")\n",
    "    evaluator = MulticlassClassificationEvaluator().setMetricName('accuracy').setLabelCol('label').setPredictionCol(\"prediction\")\n",
    "    #print(\"---------------------------------  Evaluating Model     ------------------------------\")\n",
    "    result = evaluator.evaluate(lrModel.transform(dev_data))\n",
    "    #result.select(\"features\",\"label\",\"prediction\").show(5,False)\n",
    "    lr_results.update({elasticnetparam:{regparam:result}})\n",
    "    #print(\"MULTINOMIAL LOGISTIC REGRESSION RESULTS:\\t{}\".format(lr_results))"
   ]
  },
  {
   "cell_type": "code",
   "execution_count": 280,
   "metadata": {},
   "outputs": [],
   "source": [
    "regparams        = [0.0000000001,  0.000001,  0.01, 0.1, 0.5]\n",
    "elasticnetparams = [0.0000000001,  0.000001,  0.01, 0.1, 0.5]"
   ]
  },
  {
   "cell_type": "code",
   "execution_count": 281,
   "metadata": {},
   "outputs": [],
   "source": [
    "def eval_mlr_classifier():\n",
    "    print(\"###########################################################################################\")\n",
    "    print(\"###############################         LOGISTIC REGRESSION         #######################\")\n",
    "    print(\"###########################################################################################\")\n",
    "    print(\"\\tREGPARAM\\tELASTICNETPARAM\\t\\tACCURACY\")\n",
    "    for regparam in regparams:\n",
    "        for elasticnetparam in elasticnetparams:\n",
    "            logistic_classifier(regparam, elasticnetparam)\n",
    "            print(\"\\t{}\\t\\t\\t{}\\t\\t{}\".format(regparam, elasticnetparam,lr_results))\n",
    "        "
   ]
  },
  {
   "cell_type": "code",
   "execution_count": 282,
   "metadata": {
    "scrolled": false
   },
   "outputs": [
    {
     "name": "stdout",
     "output_type": "stream",
     "text": [
      "###########################################################################################\n",
      "###############################         LOGISTIC REGRESSION         #######################\n",
      "###########################################################################################\n",
      "\tREGPARAM\tELASTICNETPARAM\t\tACCURACY\n",
      "\t1e-10\t\t\t1e-10\t\t{1e-10: {1e-10: 0.4239197093566683}}\n",
      "\t1e-10\t\t\t1e-06\t\t{1e-06: {1e-10: 0.4239197093566683}, 1e-10: {1e-10: 0.4239197093566683}}\n",
      "\t1e-10\t\t\t0.01\t\t{1e-06: {1e-10: 0.4239197093566683}, 0.01: {1e-10: 0.4239197093566683}, 1e-10: {1e-10: 0.4239197093566683}}\n",
      "\t1e-10\t\t\t0.1\t\t{1e-06: {1e-10: 0.4239197093566683}, 0.1: {1e-10: 0.4239197093566683}, 0.01: {1e-10: 0.4239197093566683}, 1e-10: {1e-10: 0.4239197093566683}}\n",
      "\t1e-10\t\t\t0.5\t\t{0.5: {1e-10: 0.4239197093566683}, 1e-06: {1e-10: 0.4239197093566683}, 0.1: {1e-10: 0.4239197093566683}, 0.01: {1e-10: 0.4239197093566683}, 1e-10: {1e-10: 0.4239197093566683}}\n",
      "\t1e-06\t\t\t1e-10\t\t{0.5: {1e-10: 0.4239197093566683}, 1e-06: {1e-10: 0.4239197093566683}, 0.1: {1e-10: 0.4239197093566683}, 1e-10: {1e-06: 0.4239197093566683}, 0.01: {1e-10: 0.4239197093566683}}\n",
      "\t1e-06\t\t\t1e-06\t\t{0.5: {1e-10: 0.4239197093566683}, 1e-06: {1e-06: 0.4239197093566683}, 0.1: {1e-10: 0.4239197093566683}, 1e-10: {1e-06: 0.4239197093566683}, 0.01: {1e-10: 0.4239197093566683}}\n",
      "\t1e-06\t\t\t0.01\t\t{0.5: {1e-10: 0.4239197093566683}, 1e-06: {1e-06: 0.4239197093566683}, 0.1: {1e-10: 0.4239197093566683}, 1e-10: {1e-06: 0.4239197093566683}, 0.01: {1e-06: 0.4239239387415888}}\n",
      "\t1e-06\t\t\t0.1\t\t{0.5: {1e-10: 0.4239197093566683}, 1e-06: {1e-06: 0.4239197093566683}, 0.1: {1e-06: 0.42389856243206553}, 1e-10: {1e-06: 0.4239197093566683}, 0.01: {1e-06: 0.4239239387415888}}\n",
      "\t1e-06\t\t\t0.5\t\t{0.5: {1e-06: 0.4239323975114299}, 1e-06: {1e-06: 0.4239197093566683}, 0.1: {1e-06: 0.42389856243206553}, 1e-10: {1e-06: 0.4239197093566683}, 0.01: {1e-06: 0.4239239387415888}}\n",
      "\t0.01\t\t\t1e-10\t\t{0.5: {1e-06: 0.4239323975114299}, 1e-06: {1e-06: 0.4239197093566683}, 0.1: {1e-06: 0.42389856243206553}, 1e-10: {0.01: 0.4468810400903397}, 0.01: {1e-06: 0.4239239387415888}}\n",
      "\t0.01\t\t\t1e-06\t\t{0.5: {1e-06: 0.4239323975114299}, 1e-06: {0.01: 0.4468810400903397}, 0.1: {1e-06: 0.42389856243206553}, 1e-10: {0.01: 0.4468810400903397}, 0.01: {1e-06: 0.4239239387415888}}\n",
      "\t0.01\t\t\t0.01\t\t{0.5: {1e-06: 0.4239323975114299}, 1e-06: {0.01: 0.4468810400903397}, 0.1: {1e-06: 0.42389856243206553}, 1e-10: {0.01: 0.4468810400903397}, 0.01: {0.01: 0.47025685054622507}}\n",
      "\t0.01\t\t\t0.1\t\t{0.5: {1e-06: 0.4239323975114299}, 1e-06: {0.01: 0.4468810400903397}, 0.1: {0.01: 0.5553013225286647}, 1e-10: {0.01: 0.4468810400903397}, 0.01: {0.01: 0.47025685054622507}}\n",
      "\t0.01\t\t\t0.5\t\t{0.5: {0.01: 0.48330027364120437}, 1e-06: {0.01: 0.4468810400903397}, 0.1: {0.01: 0.5553013225286647}, 1e-10: {0.01: 0.4468810400903397}, 0.01: {0.01: 0.47025685054622507}}\n",
      "\t0.1\t\t\t1e-10\t\t{0.5: {0.01: 0.48330027364120437}, 1e-06: {0.01: 0.4468810400903397}, 0.1: {0.01: 0.5553013225286647}, 1e-10: {0.1: 0.3975114299127478}, 0.01: {0.01: 0.47025685054622507}}\n",
      "\t0.1\t\t\t1e-06\t\t{0.5: {0.01: 0.48330027364120437}, 1e-06: {0.1: 0.4150422304084317}, 0.1: {0.01: 0.5553013225286647}, 1e-10: {0.1: 0.3975114299127478}, 0.01: {0.01: 0.47025685054622507}}\n",
      "\t0.1\t\t\t0.01\t\t{0.5: {0.01: 0.48330027364120437}, 1e-06: {0.1: 0.4150422304084317}, 0.1: {0.01: 0.5553013225286647}, 1e-10: {0.1: 0.3975114299127478}, 0.01: {0.1: 0.43646406503102253}}\n",
      "\t0.1\t\t\t0.1\t\t{0.5: {0.01: 0.48330027364120437}, 1e-06: {0.1: 0.4150422304084317}, 0.1: {0.1: 0.4528994548322837}, 1e-10: {0.1: 0.3975114299127478}, 0.01: {0.1: 0.43646406503102253}}\n",
      "\t0.1\t\t\t0.5\t\t{0.5: {0.1: 0.300468192910705}, 1e-06: {0.1: 0.4150422304084317}, 0.1: {0.1: 0.4528994548322837}, 1e-10: {0.1: 0.3975114299127478}, 0.01: {0.1: 0.43646406503102253}}\n",
      "\t0.5\t\t\t1e-10\t\t{0.5: {0.1: 0.300468192910705}, 1e-06: {0.1: 0.4150422304084317}, 0.1: {0.1: 0.4528994548322837}, 1e-10: {0.5: 0.3396576735845306}, 0.01: {0.1: 0.43646406503102253}}\n",
      "\t0.5\t\t\t1e-06\t\t{0.5: {0.1: 0.300468192910705}, 1e-06: {0.5: 0.33942082802897977}, 0.1: {0.1: 0.4528994548322837}, 1e-10: {0.5: 0.3396576735845306}, 0.01: {0.1: 0.43646406503102253}}\n",
      "\t0.5\t\t\t0.01\t\t{0.5: {0.1: 0.300468192910705}, 1e-06: {0.5: 0.33942082802897977}, 0.1: {0.1: 0.4528994548322837}, 1e-10: {0.5: 0.3396576735845306}, 0.01: {0.5: 0.3329202634060929}}\n",
      "\t0.5\t\t\t0.1\t\t{0.5: {0.1: 0.300468192910705}, 1e-06: {0.5: 0.33942082802897977}, 0.1: {0.5: 0.3168612888627607}, 1e-10: {0.5: 0.3396576735845306}, 0.01: {0.5: 0.3329202634060929}}\n",
      "\t0.5\t\t\t0.5\t\t{0.5: {0.5: 0.11527611539453818}, 1e-06: {0.5: 0.33942082802897977}, 0.1: {0.5: 0.3168612888627607}, 1e-10: {0.5: 0.3396576735845306}, 0.01: {0.5: 0.3329202634060929}}\n"
     ]
    }
   ],
   "source": [
    "lr_results = {}\n",
    "eval_mlr_classifier()"
   ]
  },
  {
   "cell_type": "code",
   "execution_count": 283,
   "metadata": {},
   "outputs": [
    {
     "data": {
      "image/png": "[encoded data removed]",
      "text/plain": [
       "<Figure size 432x288 with 1 Axes>"
      ]
     },
     "metadata": {},
     "output_type": "display_data"
    }
   ],
   "source": [
    "trainingSummary = lrModel.summary\n",
    "\n",
    "objectiveHistory = trainingSummary.objectiveHistory\n",
    "plt.plot(objectiveHistory)\n",
    "plt.ylabel('Objective Function')\n",
    "plt.xlabel('Iteration')\n",
    "plt.show()"
   ]
  },
  {
   "cell_type": "code",
   "execution_count": 284,
   "metadata": {},
   "outputs": [
    {
     "name": "stdout",
     "output_type": "stream",
     "text": [
      "+-------------------------------------------------------------------------------------------------------------------------------------------------------------------------------------------------------------------------------------------------------------------------------------------------+-----+----------+\n",
      "|features                                                                                                                                                                                                                                                                                         |label|prediction|\n",
      "+-------------------------------------------------------------------------------------------------------------------------------------------------------------------------------------------------------------------------------------------------------------------------------------------------+-----+----------+\n",
      "|(2050,[95,326,354,372,376,384,657,939,1173,1378,1580,1754,1894,1991,2032,2034,2035,2036,2037,2038,2039,2040,2041,2042,2043,2045,2046,2047,2048,2049],[1.0,1.0,1.0,1.0,1.0,1.0,1.0,1.0,1.0,1.0,1.0,1.0,1.0,1.0,1.0,0.01,0.01,0.02,0.02,0.02,0.03,0.03,0.04,0.05,0.25,1132.0,959.0,242.0,5.14,8.0])|9.0  |0.0       |\n",
      "|(2050,[95,326,354,372,379,393,656,927,1170,1384,1580,1754,1894,1991,2032,2034,2035,2036,2037,2038,2039,2040,2041,2042,2043,2045,2046,2047,2048,2049],[1.0,1.0,1.0,1.0,1.0,1.0,1.0,1.0,1.0,1.0,1.0,1.0,1.0,1.0,1.0,0.01,0.01,0.02,0.02,0.02,0.03,0.03,0.03,0.05,0.28,146.0,959.0,170.0,4.09,6.0]) |4.0  |0.0       |\n",
      "|(2050,[95,326,354,373,379,383,665,929,1176,1384,1580,1754,1894,1991,2032,2034,2035,2036,2037,2038,2039,2040,2041,2042,2043,2045,2046,2047,2048,2049],[1.0,1.0,1.0,1.0,1.0,1.0,1.0,1.0,1.0,1.0,1.0,1.0,1.0,1.0,1.0,0.01,0.01,0.02,0.02,0.02,0.03,0.03,0.05,0.05,0.25,1334.0,960.0,60.0,4.64,7.0]) |2.0  |0.0       |\n",
      "|(2050,[95,326,354,380,386,665,928,1170,1383,1580,1755,1895,1991,2032,2034,2035,2036,2037,2038,2039,2040,2041,2042,2043,2045,2046,2047,2048,2049],[1.0,1.0,1.0,1.0,1.0,1.0,1.0,1.0,1.0,1.0,1.0,1.0,1.0,1.0,0.01,0.01,0.02,0.02,0.02,0.02,0.03,0.03,0.05,0.27,1640.0,961.0,104.0,4.94,8.0])        |9.0  |0.0       |\n",
      "|(2050,[95,326,354,374,383,657,926,1180,1377,1579,1755,1896,1991,2032,2034,2035,2036,2037,2038,2039,2040,2041,2042,2043,2045,2046,2047,2048,2049],[1.0,1.0,1.0,1.0,1.0,1.0,1.0,1.0,1.0,1.0,1.0,1.0,1.0,1.0,0.01,0.01,0.01,0.01,0.02,0.03,0.03,0.03,0.04,0.27,986.0,962.0,140.0,4.01,5.0])         |1.0  |0.0       |\n",
      "|(2050,[95,326,354,371,379,394,671,927,1174,1378,1585,1757,1894,1991,2032,2034,2035,2036,2037,2038,2039,2040,2041,2042,2043,2045,2046,2047,2048,2049],[1.0,1.0,1.0,1.0,1.0,1.0,1.0,1.0,1.0,1.0,1.0,1.0,1.0,1.0,1.0,0.01,0.01,0.02,0.02,0.02,0.02,0.02,0.03,0.04,0.28,1342.0,963.0,55.0,4.91,8.0]) |9.0  |0.0       |\n",
      "|(2050,[95,326,354,371,377,385,657,935,1192,1378,1579,1757,1894,1991,2032,2034,2035,2036,2037,2038,2039,2040,2041,2042,2043,2045,2046,2047,2048,2049],[1.0,1.0,1.0,1.0,1.0,1.0,1.0,1.0,1.0,1.0,1.0,1.0,1.0,1.0,1.0,0.01,0.01,0.01,0.01,0.02,0.02,0.02,0.04,0.04,0.28,745.0,963.0,136.0,4.81,7.0]) |2.0  |0.0       |\n",
      "|(2050,[95,326,354,371,382,425,657,948,1168,1381,1578,1755,1895,1991,2032,2034,2035,2036,2037,2038,2039,2040,2041,2042,2043,2045,2046,2047,2048,2049],[1.0,1.0,1.0,1.0,1.0,1.0,1.0,1.0,1.0,1.0,1.0,1.0,1.0,1.0,1.0,0.01,0.02,0.02,0.02,0.02,0.02,0.03,0.03,0.06,0.29,37.0,963.0,123.0,3.14,3.0])  |5.0  |0.0       |\n",
      "|(2050,[95,326,354,371,382,387,659,929,1172,1386,1584,1754,1894,1991,2032,2034,2035,2036,2037,2038,2039,2040,2041,2042,2043,2045,2046,2047,2048,2049],[1.0,1.0,1.0,1.0,1.0,1.0,1.0,1.0,1.0,1.0,1.0,1.0,1.0,1.0,1.0,0.01,0.02,0.02,0.02,0.02,0.02,0.03,0.04,0.06,0.27,36.0,963.0,23.0,3.3,3.0])    |5.0  |0.0       |\n",
      "|(2050,[95,326,354,369,376,390,658,924,1171,1377,1578,1754,1894,1991,2032,2034,2035,2036,2037,2038,2039,2040,2041,2042,2043,2045,2046,2047,2048,2049],[1.0,1.0,1.0,1.0,1.0,1.0,1.0,1.0,1.0,1.0,1.0,1.0,1.0,1.0,1.0,0.01,0.01,0.01,0.02,0.02,0.02,0.03,0.04,0.05,0.27,209.0,964.0,27.0,2.4,1.0])   |7.0  |0.0       |\n",
      "+-------------------------------------------------------------------------------------------------------------------------------------------------------------------------------------------------------------------------------------------------------------------------------------------------+-----+----------+\n",
      "only showing top 10 rows\n",
      "\n"
     ]
    }
   ],
   "source": [
    "predictions = lrModel.transform(dev_data)\n",
    "predictions.select(\"features\",\"label\",\"prediction\").show(10, False)"
   ]
  },
  {
   "cell_type": "code",
   "execution_count": 285,
   "metadata": {},
   "outputs": [
    {
     "name": "stdout",
     "output_type": "stream",
     "text": [
      "Test Error = 0.884724\n"
     ]
    }
   ],
   "source": [
    "# Select (prediction, true label) and compute test error\n",
    "evaluator = MulticlassClassificationEvaluator(\n",
    "    labelCol=\"label\", predictionCol=\"prediction\", metricName=\"accuracy\")\n",
    "accuracy = evaluator.evaluate(predictions)\n",
    "print(\"Test Error = %g\" % (1.0 - accuracy))"
   ]
  },
  {
   "cell_type": "code",
   "execution_count": 286,
   "metadata": {},
   "outputs": [],
   "source": [
    "import matplotlib.pyplot as plt\n",
    "import numpy as np\n",
    "import itertools\n",
    "\n",
    "def plot_confusion_matrix(cm, classes,\n",
    "                          normalize=False,\n",
    "                          title='Confusion matrix',\n",
    "                          cmap=plt.cm.Blues):\n",
    "\n",
    "    if normalize:\n",
    "        cm = cm.astype('float') / cm.sum(axis=1)[:, np.newaxis]\n",
    "        print(\"Normalized confusion matrix\")\n",
    "    else:\n",
    "        print('Confusion matrix, without normalization')\n",
    "\n",
    "    print(cm)\n",
    "\n",
    "    plt.imshow(cm, interpolation='nearest', cmap=cmap)\n",
    "    plt.title(title)\n",
    "    plt.colorbar()\n",
    "    tick_marks = np.arange(len(classes))\n",
    "    plt.xticks(tick_marks, classes, rotation=45)\n",
    "    plt.yticks(tick_marks, classes)\n",
    "\n",
    "    fmt = '.2f' if normalize else 'd'\n",
    "    thresh = cm.max() / 2.\n",
    "    for i, j in itertools.product(range(cm.shape[0]), range(cm.shape[1])):\n",
    "        plt.text(j, i, format(cm[i, j], fmt),\n",
    "                 horizontalalignment=\"center\",\n",
    "                 color=\"white\" if cm[i, j] > thresh else \"black\")\n",
    "\n",
    "    plt.tight_layout()\n",
    "    plt.ylabel('True label')\n",
    "    plt.xlabel('Predicted label')"
   ]
  },
  {
   "cell_type": "code",
   "execution_count": 288,
   "metadata": {},
   "outputs": [
    {
     "name": "stdout",
     "output_type": "stream",
     "text": [
      "+-----------+------+----+-------------+------------+----------+--------------+------+----------+\n",
      "|userid     |gender|age |time_of_day  |absence_time|is_holiday|session_length|decile|prediction|\n",
      "+-----------+------+----+-------------+------------+----------+--------------+------+----------+\n",
      "|user_000001|m     |Null|Morning      |7604        |0         |1.39          |0.0   |0.0       |\n",
      "|user_000002|f     |Null|Night        |125         |0         |5.11          |8.0   |0.0       |\n",
      "|user_000003|m     |22  |Morning      |3640        |1         |5.35          |9.0   |0.0       |\n",
      "|user_000005|m     |Null|Night        |50          |0         |1.39          |0.0   |0.0       |\n",
      "|user_000005|m     |Null|LateEvening  |119         |0         |1.39          |0.0   |0.0       |\n",
      "|user_000012|f     |28  |LateAfternoon|299         |0         |5.53          |9.0   |0.0       |\n",
      "|user_000012|f     |28  |Night        |602         |0         |2.71          |2.0   |0.0       |\n",
      "|user_000021|m     |27  |LateMorning  |919         |0         |3.69          |4.0   |0.0       |\n",
      "|user_000021|m     |27  |Afternoon    |46          |0         |5.14          |8.0   |0.0       |\n",
      "|user_000021|m     |27  |Morning      |968         |0         |5.04          |8.0   |0.0       |\n",
      "|user_000021|m     |27  |LateAfternoon|480         |0         |2.56          |2.0   |0.0       |\n",
      "|user_000021|m     |27  |Afternoon    |186         |0         |2.77          |2.0   |0.0       |\n",
      "|user_000021|m     |27  |Dawn         |646         |0         |1.95          |1.0   |0.0       |\n",
      "|user_000025|Null  |19  |Evening      |1126        |0         |5.53          |9.0   |0.0       |\n",
      "|user_000029|m     |Null|Morning      |44          |0         |2.3           |1.0   |0.0       |\n",
      "|user_000029|m     |Null|LateMorning  |152         |0         |4.6           |7.0   |0.0       |\n",
      "|user_000029|m     |Null|Morning      |962         |0         |4.22          |6.0   |0.0       |\n",
      "|user_000034|f     |35  |Dawn         |1234        |0         |3.33          |3.0   |0.0       |\n",
      "|user_000034|f     |35  |Lunch        |44          |0         |4.26          |6.0   |0.0       |\n",
      "|user_000034|f     |35  |Lunch        |109         |0         |3.14          |3.0   |0.0       |\n",
      "|user_000035|m     |22  |Night        |3124        |0         |1.39          |0.0   |0.0       |\n",
      "|user_000035|m     |22  |Morning      |94          |0         |2.94          |2.0   |0.0       |\n",
      "|user_000054|m     |28  |LateMorning  |84          |0         |3.18          |3.0   |0.0       |\n",
      "|user_000067|m     |36  |Morning      |75          |0         |3.93          |5.0   |0.0       |\n",
      "|user_000072|f     |25  |Evening      |76          |0         |2.71          |2.0   |0.0       |\n",
      "|user_000074|m     |35  |Night        |130         |0         |5.77          |9.0   |0.0       |\n",
      "|user_000074|m     |35  |Evening      |127         |0         |1.39          |0.0   |0.0       |\n",
      "|user_000075|f     |20  |Night        |97          |0         |4.36          |6.0   |0.0       |\n",
      "|user_000084|m     |18  |Afternoon    |44          |0         |3.0           |2.0   |0.0       |\n",
      "|user_000084|m     |18  |Evening      |85          |0         |3.14          |3.0   |0.0       |\n",
      "+-----------+------+----+-------------+------------+----------+--------------+------+----------+\n",
      "only showing top 30 rows\n",
      "\n"
     ]
    }
   ],
   "source": [
    "predictions.select('userid','gender','age','time_of_day','absence_time','is_holiday','session_length', 'decile','prediction').sample(0.001,100).show(30, False)"
   ]
  },
  {
   "cell_type": "code",
   "execution_count": 289,
   "metadata": {},
   "outputs": [
    {
     "data": {
      "text/html": [
       "<div>\n",
       "<style scoped>\n",
       "    .dataframe tbody tr th:only-of-type {\n",
       "        vertical-align: middle;\n",
       "    }\n",
       "\n",
       "    .dataframe tbody tr th {\n",
       "        vertical-align: top;\n",
       "    }\n",
       "\n",
       "    .dataframe thead th {\n",
       "        text-align: right;\n",
       "    }\n",
       "</style>\n",
       "<table border=\"1\" class=\"dataframe\">\n",
       "  <thead>\n",
       "    <tr style=\"text-align: right;\">\n",
       "      <th></th>\n",
       "      <th>label</th>\n",
       "      <th>count</th>\n",
       "    </tr>\n",
       "  </thead>\n",
       "  <tbody>\n",
       "    <tr>\n",
       "      <th>0</th>\n",
       "      <td>0.0</td>\n",
       "      <td>27256</td>\n",
       "    </tr>\n",
       "    <tr>\n",
       "      <th>1</th>\n",
       "      <td>1.0</td>\n",
       "      <td>25369</td>\n",
       "    </tr>\n",
       "    <tr>\n",
       "      <th>2</th>\n",
       "      <td>2.0</td>\n",
       "      <td>24764</td>\n",
       "    </tr>\n",
       "    <tr>\n",
       "      <th>3</th>\n",
       "      <td>3.0</td>\n",
       "      <td>23584</td>\n",
       "    </tr>\n",
       "    <tr>\n",
       "      <th>4</th>\n",
       "      <td>4.0</td>\n",
       "      <td>23350</td>\n",
       "    </tr>\n",
       "    <tr>\n",
       "      <th>5</th>\n",
       "      <td>5.0</td>\n",
       "      <td>23185</td>\n",
       "    </tr>\n",
       "    <tr>\n",
       "      <th>6</th>\n",
       "      <td>6.0</td>\n",
       "      <td>22785</td>\n",
       "    </tr>\n",
       "    <tr>\n",
       "      <th>7</th>\n",
       "      <td>7.0</td>\n",
       "      <td>22592</td>\n",
       "    </tr>\n",
       "    <tr>\n",
       "      <th>8</th>\n",
       "      <td>8.0</td>\n",
       "      <td>22583</td>\n",
       "    </tr>\n",
       "    <tr>\n",
       "      <th>9</th>\n",
       "      <td>9.0</td>\n",
       "      <td>20973</td>\n",
       "    </tr>\n",
       "  </tbody>\n",
       "</table>\n",
       "</div>"
      ],
      "text/plain": [
       "   label  count\n",
       "0    0.0  27256\n",
       "1    1.0  25369\n",
       "2    2.0  24764\n",
       "3    3.0  23584\n",
       "4    4.0  23350\n",
       "5    5.0  23185\n",
       "6    6.0  22785\n",
       "7    7.0  22592\n",
       "8    8.0  22583\n",
       "9    9.0  20973"
      ]
     },
     "execution_count": 289,
     "metadata": {},
     "output_type": "execute_result"
    }
   ],
   "source": [
    "class_temp  = predictions.select(\"label\").groupBy(\"label\").count().sort('count', ascending=False).toPandas()\n",
    "class_temp"
   ]
  },
  {
   "cell_type": "code",
   "execution_count": 290,
   "metadata": {},
   "outputs": [],
   "source": [
    "class_names = class_temp['label']"
   ]
  },
  {
   "cell_type": "code",
   "execution_count": 291,
   "metadata": {},
   "outputs": [
    {
     "data": {
      "text/plain": [
       "0    0.0\n",
       "1    1.0\n",
       "2    2.0\n",
       "3    3.0\n",
       "4    4.0\n",
       "5    5.0\n",
       "6    6.0\n",
       "7    7.0\n",
       "8    8.0\n",
       "9    9.0\n",
       "Name: label, dtype: float64"
      ]
     },
     "execution_count": 291,
     "metadata": {},
     "output_type": "execute_result"
    }
   ],
   "source": [
    "class_names"
   ]
  },
  {
   "cell_type": "markdown",
   "metadata": {},
   "source": [
    "### Manually Create Confusion Matrix"
   ]
  },
  {
   "cell_type": "code",
   "execution_count": 292,
   "metadata": {},
   "outputs": [
    {
     "name": "stdout",
     "output_type": "stream",
     "text": [
      "+-----+----------+\n",
      "|label|prediction|\n",
      "+-----+----------+\n",
      "|  9.0|       0.0|\n",
      "|  4.0|       0.0|\n",
      "|  2.0|       0.0|\n",
      "|  9.0|       0.0|\n",
      "|  1.0|       0.0|\n",
      "|  9.0|       0.0|\n",
      "|  2.0|       0.0|\n",
      "|  5.0|       0.0|\n",
      "|  5.0|       0.0|\n",
      "|  7.0|       0.0|\n",
      "|  5.0|       0.0|\n",
      "|  2.0|       0.0|\n",
      "|  5.0|       0.0|\n",
      "|  6.0|       0.0|\n",
      "|  5.0|       0.0|\n",
      "|  1.0|       0.0|\n",
      "|  0.0|       0.0|\n",
      "|  5.0|       0.0|\n",
      "|  5.0|       0.0|\n",
      "|  9.0|       0.0|\n",
      "+-----+----------+\n",
      "only showing top 20 rows\n",
      "\n"
     ]
    }
   ],
   "source": [
    "df = predictions.select('label','prediction')\n",
    "df.show()"
   ]
  },
  {
   "cell_type": "code",
   "execution_count": 293,
   "metadata": {},
   "outputs": [
    {
     "name": "stdout",
     "output_type": "stream",
     "text": [
      "\tLABEL\tLabels\tPredictions\n",
      "\t0.0\t27256\t27256\n",
      "\t1.0\t25369\t0\n",
      "\t2.0\t24764\t0\n",
      "\t3.0\t23584\t0\n",
      "\t4.0\t23350\t0\n",
      "\t5.0\t23185\t0\n",
      "\t6.0\t22785\t0\n",
      "\t7.0\t22592\t0\n",
      "\t8.0\t22583\t0\n",
      "\t9.0\t20973\t0\n"
     ]
    }
   ],
   "source": [
    "print(\"\\tLABEL\\tLabels\\tPredictions\")\n",
    "for label in class_names:\n",
    "    num_labels = df[df['label'] == label].count()\n",
    "    num_correct_preds = df[(df['label'] == label) & (df['prediction'] == label)].count()\n",
    "    print(\"\\t{}\\t{}\\t{}\".format(label,num_labels,num_correct_preds))"
   ]
  },
  {
   "cell_type": "code",
   "execution_count": 294,
   "metadata": {},
   "outputs": [],
   "source": [
    "predictions_rdd = predictions.select('prediction','label').rdd.map(tuple)"
   ]
  },
  {
   "cell_type": "code",
   "execution_count": 295,
   "metadata": {},
   "outputs": [
    {
     "data": {
      "text/plain": [
       "[(0.0, 9.0), (0.0, 4.0), (0.0, 2.0), (0.0, 9.0), (0.0, 1.0)]"
      ]
     },
     "execution_count": 295,
     "metadata": {},
     "output_type": "execute_result"
    }
   ],
   "source": [
    "predictions_rdd.take(5)"
   ]
  },
  {
   "cell_type": "code",
   "execution_count": 296,
   "metadata": {},
   "outputs": [],
   "source": [
    "from pyspark.mllib.classification import LogisticRegressionWithLBFGS\n",
    "from pyspark.mllib.util import MLUtils\n",
    "from pyspark.mllib.evaluation import MulticlassMetrics\n",
    "\n"
   ]
  },
  {
   "cell_type": "code",
   "execution_count": 297,
   "metadata": {},
   "outputs": [
    {
     "ename": "IllegalArgumentException",
     "evalue": "u\"Error while instantiating 'org.apache.spark.sql.internal.SessionStateBuilder':\"",
     "output_type": "error",
     "traceback": [
      "\u001b[0;31m\u001b[0m",
      "\u001b[0;31mIllegalArgumentException\u001b[0mTraceback (most recent call last)",
      "\u001b[0;32m<ipython-input-297-4e5d8644ef03>\u001b[0m in \u001b[0;36m<module>\u001b[0;34m()\u001b[0m\n\u001b[0;32m----> 1\u001b[0;31m \u001b[0mmetrics\u001b[0m \u001b[0;34m=\u001b[0m \u001b[0mMulticlassMetrics\u001b[0m\u001b[0;34m(\u001b[0m\u001b[0mpredictions_rdd\u001b[0m\u001b[0;34m.\u001b[0m\u001b[0mmap\u001b[0m\u001b[0;34m(\u001b[0m\u001b[0mtuple\u001b[0m\u001b[0;34m)\u001b[0m\u001b[0;34m)\u001b[0m\u001b[0;34m\u001b[0m\u001b[0m\n\u001b[0m",
      "\u001b[0;32m/usr/local/lib/python2.7/dist-packages/pyspark/mllib/evaluation.pyc\u001b[0m in \u001b[0;36m__init__\u001b[0;34m(self, predictionAndLabels)\u001b[0m\n\u001b[1;32m    201\u001b[0m         df = sql_ctx.createDataFrame(predictionAndLabels, schema=StructType([\n\u001b[1;32m    202\u001b[0m             \u001b[0mStructField\u001b[0m\u001b[0;34m(\u001b[0m\u001b[0;34m\"prediction\"\u001b[0m\u001b[0;34m,\u001b[0m \u001b[0mDoubleType\u001b[0m\u001b[0;34m(\u001b[0m\u001b[0;34m)\u001b[0m\u001b[0;34m,\u001b[0m \u001b[0mnullable\u001b[0m\u001b[0;34m=\u001b[0m\u001b[0mFalse\u001b[0m\u001b[0;34m)\u001b[0m\u001b[0;34m,\u001b[0m\u001b[0;34m\u001b[0m\u001b[0m\n\u001b[0;32m--> 203\u001b[0;31m             StructField(\"label\", DoubleType(), nullable=False)]))\n\u001b[0m\u001b[1;32m    204\u001b[0m         \u001b[0mjava_class\u001b[0m \u001b[0;34m=\u001b[0m \u001b[0msc\u001b[0m\u001b[0;34m.\u001b[0m\u001b[0m_jvm\u001b[0m\u001b[0;34m.\u001b[0m\u001b[0morg\u001b[0m\u001b[0;34m.\u001b[0m\u001b[0mapache\u001b[0m\u001b[0;34m.\u001b[0m\u001b[0mspark\u001b[0m\u001b[0;34m.\u001b[0m\u001b[0mmllib\u001b[0m\u001b[0;34m.\u001b[0m\u001b[0mevaluation\u001b[0m\u001b[0;34m.\u001b[0m\u001b[0mMulticlassMetrics\u001b[0m\u001b[0;34m\u001b[0m\u001b[0m\n\u001b[1;32m    205\u001b[0m         \u001b[0mjava_model\u001b[0m \u001b[0;34m=\u001b[0m \u001b[0mjava_class\u001b[0m\u001b[0;34m(\u001b[0m\u001b[0mdf\u001b[0m\u001b[0;34m.\u001b[0m\u001b[0m_jdf\u001b[0m\u001b[0;34m)\u001b[0m\u001b[0;34m\u001b[0m\u001b[0m\n",
      "\u001b[0;32m/usr/local/lib/python2.7/dist-packages/pyspark/sql/context.pyc\u001b[0m in \u001b[0;36mcreateDataFrame\u001b[0;34m(self, data, schema, samplingRatio, verifySchema)\u001b[0m\n\u001b[1;32m    300\u001b[0m         \u001b[0mPy4JJavaError\u001b[0m\u001b[0;34m:\u001b[0m \u001b[0;34m.\u001b[0m\u001b[0;34m.\u001b[0m\u001b[0;34m.\u001b[0m\u001b[0;34m\u001b[0m\u001b[0m\n\u001b[1;32m    301\u001b[0m         \"\"\"\n\u001b[0;32m--> 302\u001b[0;31m         \u001b[0;32mreturn\u001b[0m \u001b[0mself\u001b[0m\u001b[0;34m.\u001b[0m\u001b[0msparkSession\u001b[0m\u001b[0;34m.\u001b[0m\u001b[0mcreateDataFrame\u001b[0m\u001b[0;34m(\u001b[0m\u001b[0mdata\u001b[0m\u001b[0;34m,\u001b[0m \u001b[0mschema\u001b[0m\u001b[0;34m,\u001b[0m \u001b[0msamplingRatio\u001b[0m\u001b[0;34m,\u001b[0m \u001b[0mverifySchema\u001b[0m\u001b[0;34m)\u001b[0m\u001b[0;34m\u001b[0m\u001b[0m\n\u001b[0m\u001b[1;32m    303\u001b[0m \u001b[0;34m\u001b[0m\u001b[0m\n\u001b[1;32m    304\u001b[0m     \u001b[0;34m@\u001b[0m\u001b[0msince\u001b[0m\u001b[0;34m(\u001b[0m\u001b[0;36m1.3\u001b[0m\u001b[0;34m)\u001b[0m\u001b[0;34m\u001b[0m\u001b[0m\n",
      "\u001b[0;32m/usr/local/lib/python2.7/dist-packages/pyspark/sql/session.pyc\u001b[0m in \u001b[0;36mcreateDataFrame\u001b[0;34m(self, data, schema, samplingRatio, verifySchema)\u001b[0m\n\u001b[1;32m    689\u001b[0m             \u001b[0mrdd\u001b[0m\u001b[0;34m,\u001b[0m \u001b[0mschema\u001b[0m \u001b[0;34m=\u001b[0m \u001b[0mself\u001b[0m\u001b[0;34m.\u001b[0m\u001b[0m_createFromLocal\u001b[0m\u001b[0;34m(\u001b[0m\u001b[0mmap\u001b[0m\u001b[0;34m(\u001b[0m\u001b[0mprepare\u001b[0m\u001b[0;34m,\u001b[0m \u001b[0mdata\u001b[0m\u001b[0;34m)\u001b[0m\u001b[0;34m,\u001b[0m \u001b[0mschema\u001b[0m\u001b[0;34m)\u001b[0m\u001b[0;34m\u001b[0m\u001b[0m\n\u001b[1;32m    690\u001b[0m         \u001b[0mjrdd\u001b[0m \u001b[0;34m=\u001b[0m \u001b[0mself\u001b[0m\u001b[0;34m.\u001b[0m\u001b[0m_jvm\u001b[0m\u001b[0;34m.\u001b[0m\u001b[0mSerDeUtil\u001b[0m\u001b[0;34m.\u001b[0m\u001b[0mtoJavaArray\u001b[0m\u001b[0;34m(\u001b[0m\u001b[0mrdd\u001b[0m\u001b[0;34m.\u001b[0m\u001b[0m_to_java_object_rdd\u001b[0m\u001b[0;34m(\u001b[0m\u001b[0;34m)\u001b[0m\u001b[0;34m)\u001b[0m\u001b[0;34m\u001b[0m\u001b[0m\n\u001b[0;32m--> 691\u001b[0;31m         \u001b[0mjdf\u001b[0m \u001b[0;34m=\u001b[0m \u001b[0mself\u001b[0m\u001b[0;34m.\u001b[0m\u001b[0m_jsparkSession\u001b[0m\u001b[0;34m.\u001b[0m\u001b[0mapplySchemaToPythonRDD\u001b[0m\u001b[0;34m(\u001b[0m\u001b[0mjrdd\u001b[0m\u001b[0;34m.\u001b[0m\u001b[0mrdd\u001b[0m\u001b[0;34m(\u001b[0m\u001b[0;34m)\u001b[0m\u001b[0;34m,\u001b[0m \u001b[0mschema\u001b[0m\u001b[0;34m.\u001b[0m\u001b[0mjson\u001b[0m\u001b[0;34m(\u001b[0m\u001b[0;34m)\u001b[0m\u001b[0;34m)\u001b[0m\u001b[0;34m\u001b[0m\u001b[0m\n\u001b[0m\u001b[1;32m    692\u001b[0m         \u001b[0mdf\u001b[0m \u001b[0;34m=\u001b[0m \u001b[0mDataFrame\u001b[0m\u001b[0;34m(\u001b[0m\u001b[0mjdf\u001b[0m\u001b[0;34m,\u001b[0m \u001b[0mself\u001b[0m\u001b[0;34m.\u001b[0m\u001b[0m_wrapped\u001b[0m\u001b[0;34m)\u001b[0m\u001b[0;34m\u001b[0m\u001b[0m\n\u001b[1;32m    693\u001b[0m         \u001b[0mdf\u001b[0m\u001b[0;34m.\u001b[0m\u001b[0m_schema\u001b[0m \u001b[0;34m=\u001b[0m \u001b[0mschema\u001b[0m\u001b[0;34m\u001b[0m\u001b[0m\n",
      "\u001b[0;32m/usr/local/lib/python2.7/dist-packages/py4j/java_gateway.pyc\u001b[0m in \u001b[0;36m__call__\u001b[0;34m(self, *args)\u001b[0m\n\u001b[1;32m   1158\u001b[0m         \u001b[0manswer\u001b[0m \u001b[0;34m=\u001b[0m \u001b[0mself\u001b[0m\u001b[0;34m.\u001b[0m\u001b[0mgateway_client\u001b[0m\u001b[0;34m.\u001b[0m\u001b[0msend_command\u001b[0m\u001b[0;34m(\u001b[0m\u001b[0mcommand\u001b[0m\u001b[0;34m)\u001b[0m\u001b[0;34m\u001b[0m\u001b[0m\n\u001b[1;32m   1159\u001b[0m         return_value = get_return_value(\n\u001b[0;32m-> 1160\u001b[0;31m             answer, self.gateway_client, self.target_id, self.name)\n\u001b[0m\u001b[1;32m   1161\u001b[0m \u001b[0;34m\u001b[0m\u001b[0m\n\u001b[1;32m   1162\u001b[0m         \u001b[0;32mfor\u001b[0m \u001b[0mtemp_arg\u001b[0m \u001b[0;32min\u001b[0m \u001b[0mtemp_args\u001b[0m\u001b[0;34m:\u001b[0m\u001b[0;34m\u001b[0m\u001b[0m\n",
      "\u001b[0;32m/usr/local/lib/python2.7/dist-packages/pyspark/sql/utils.pyc\u001b[0m in \u001b[0;36mdeco\u001b[0;34m(*a, **kw)\u001b[0m\n\u001b[1;32m     77\u001b[0m                 \u001b[0;32mraise\u001b[0m \u001b[0mQueryExecutionException\u001b[0m\u001b[0;34m(\u001b[0m\u001b[0ms\u001b[0m\u001b[0;34m.\u001b[0m\u001b[0msplit\u001b[0m\u001b[0;34m(\u001b[0m\u001b[0;34m': '\u001b[0m\u001b[0;34m,\u001b[0m \u001b[0;36m1\u001b[0m\u001b[0;34m)\u001b[0m\u001b[0;34m[\u001b[0m\u001b[0;36m1\u001b[0m\u001b[0;34m]\u001b[0m\u001b[0;34m,\u001b[0m \u001b[0mstackTrace\u001b[0m\u001b[0;34m)\u001b[0m\u001b[0;34m\u001b[0m\u001b[0m\n\u001b[1;32m     78\u001b[0m             \u001b[0;32mif\u001b[0m \u001b[0ms\u001b[0m\u001b[0;34m.\u001b[0m\u001b[0mstartswith\u001b[0m\u001b[0;34m(\u001b[0m\u001b[0;34m'java.lang.IllegalArgumentException: '\u001b[0m\u001b[0;34m)\u001b[0m\u001b[0;34m:\u001b[0m\u001b[0;34m\u001b[0m\u001b[0m\n\u001b[0;32m---> 79\u001b[0;31m                 \u001b[0;32mraise\u001b[0m \u001b[0mIllegalArgumentException\u001b[0m\u001b[0;34m(\u001b[0m\u001b[0ms\u001b[0m\u001b[0;34m.\u001b[0m\u001b[0msplit\u001b[0m\u001b[0;34m(\u001b[0m\u001b[0;34m': '\u001b[0m\u001b[0;34m,\u001b[0m \u001b[0;36m1\u001b[0m\u001b[0;34m)\u001b[0m\u001b[0;34m[\u001b[0m\u001b[0;36m1\u001b[0m\u001b[0;34m]\u001b[0m\u001b[0;34m,\u001b[0m \u001b[0mstackTrace\u001b[0m\u001b[0;34m)\u001b[0m\u001b[0;34m\u001b[0m\u001b[0m\n\u001b[0m\u001b[1;32m     80\u001b[0m             \u001b[0;32mraise\u001b[0m\u001b[0;34m\u001b[0m\u001b[0m\n\u001b[1;32m     81\u001b[0m     \u001b[0;32mreturn\u001b[0m \u001b[0mdeco\u001b[0m\u001b[0;34m\u001b[0m\u001b[0m\n",
      "\u001b[0;31mIllegalArgumentException\u001b[0m: u\"Error while instantiating 'org.apache.spark.sql.internal.SessionStateBuilder':\""
     ]
    }
   ],
   "source": [
    "metrics = MulticlassMetrics(predictions_rdd.map(tuple))"
   ]
  },
  {
   "cell_type": "code",
   "execution_count": 298,
   "metadata": {},
   "outputs": [
    {
     "name": "stderr",
     "output_type": "stream",
     "text": [
      "Exception AttributeError: \"'MulticlassMetrics' object has no attribute '_sc'\" in <bound method MulticlassMetrics.__del__ of <pyspark.mllib.evaluation.MulticlassMetrics object at 0x7f69f9ee4310>> ignored\n"
     ]
    },
    {
     "ename": "NameError",
     "evalue": "name 'metrics' is not defined",
     "output_type": "error",
     "traceback": [
      "\u001b[0;31m\u001b[0m",
      "\u001b[0;31mNameError\u001b[0mTraceback (most recent call last)",
      "\u001b[0;32m<ipython-input-298-1db7756e1a5b>\u001b[0m in \u001b[0;36m<module>\u001b[0;34m()\u001b[0m\n\u001b[1;32m      2\u001b[0m \u001b[0;34m\u001b[0m\u001b[0m\n\u001b[1;32m      3\u001b[0m \u001b[0;31m# Overall statistics\u001b[0m\u001b[0;34m\u001b[0m\u001b[0;34m\u001b[0m\u001b[0m\n\u001b[0;32m----> 4\u001b[0;31m \u001b[0mprecision\u001b[0m \u001b[0;34m=\u001b[0m \u001b[0mmetrics\u001b[0m\u001b[0;34m.\u001b[0m\u001b[0mprecision\u001b[0m\u001b[0;34m(\u001b[0m\u001b[0;34m)\u001b[0m\u001b[0;34m\u001b[0m\u001b[0m\n\u001b[0m\u001b[1;32m      5\u001b[0m \u001b[0mrecall\u001b[0m \u001b[0;34m=\u001b[0m \u001b[0mmetrics\u001b[0m\u001b[0;34m.\u001b[0m\u001b[0mrecall\u001b[0m\u001b[0;34m(\u001b[0m\u001b[0;34m)\u001b[0m\u001b[0;34m\u001b[0m\u001b[0m\n\u001b[1;32m      6\u001b[0m \u001b[0mf1Score\u001b[0m \u001b[0;34m=\u001b[0m \u001b[0mmetrics\u001b[0m\u001b[0;34m.\u001b[0m\u001b[0mfMeasure\u001b[0m\u001b[0;34m(\u001b[0m\u001b[0;34m)\u001b[0m\u001b[0;34m\u001b[0m\u001b[0m\n",
      "\u001b[0;31mNameError\u001b[0m: name 'metrics' is not defined"
     ]
    }
   ],
   "source": [
    "\n",
    "\n",
    "# Overall statistics\n",
    "precision = metrics.precision()\n",
    "recall = metrics.recall()\n",
    "f1Score = metrics.fMeasure()\n",
    "print(\"Summary Stats\")\n",
    "print(\"Precision = \\t\\t%s\" % precision)\n",
    "print(\"Recall = \\t\\t%s\" % recall)\n",
    "print(\"F1 Score = \\t\\t%s\" % f1Score)\n",
    "\n",
    "# Statistics by class\n",
    "#labels = data.map(lambda lp: lp.label).distinct().collect()\n",
    "labels = class_names\n",
    "for label in sorted(labels):\n",
    "    print(\"Class %s precision = \\t%s\" % (label, metrics.precision(label)))\n",
    "    print(\"Class %s recall = \\t%s\" % (label, metrics.recall(label)))\n",
    "    print(\"Class %s F1 Measure = \\t%s\" % (label, metrics.fMeasure(label, beta=1.0)))\n",
    "\n",
    "# Weighted stats\n",
    "print(\"Weighted recall = \\t%s\" % metrics.weightedRecall)\n",
    "print(\"Weighted precision = \\t%s\" % metrics.weightedPrecision)\n",
    "print(\"Weighted F(1) Score = \\t%s\" % metrics.weightedFMeasure())\n",
    "print(\"Weighted F(0.5) Score = %s\" % metrics.weightedFMeasure(beta=0.5))\n",
    "print(\"Weighted false positive rate = %s\" % metrics.weightedFalsePositiveRate)"
   ]
  },
  {
   "cell_type": "code",
   "execution_count": 299,
   "metadata": {},
   "outputs": [
    {
     "ename": "NameError",
     "evalue": "name 'metrics' is not defined",
     "output_type": "error",
     "traceback": [
      "\u001b[0;31m\u001b[0m",
      "\u001b[0;31mNameError\u001b[0mTraceback (most recent call last)",
      "\u001b[0;32m<ipython-input-299-90518c020a62>\u001b[0m in \u001b[0;36m<module>\u001b[0;34m()\u001b[0m\n\u001b[0;32m----> 1\u001b[0;31m \u001b[0mm\u001b[0m \u001b[0;34m=\u001b[0m \u001b[0mmetrics\u001b[0m\u001b[0;34m.\u001b[0m\u001b[0mconfusionMatrix\u001b[0m\u001b[0;34m(\u001b[0m\u001b[0;34m)\u001b[0m\u001b[0;34m\u001b[0m\u001b[0m\n\u001b[0m",
      "\u001b[0;31mNameError\u001b[0m: name 'metrics' is not defined"
     ]
    }
   ],
   "source": [
    "m = metrics.confusionMatrix()"
   ]
  },
  {
   "cell_type": "code",
   "execution_count": 348,
   "metadata": {},
   "outputs": [],
   "source": [
    "from pyspark.mllib.linalg import Vectors, DenseMatrix \n",
    "\n",
    "import seaborn as sns\n",
    "sns.set() \n",
    "\n",
    "\n",
    "def display_cm(m):\n",
    "  a = m.toArray().astype(np.float)\n",
    "  row_sums = a.sum(axis=1)\n",
    "  percentage_matrix = a.astype(np.float) / row_sums[:, np.newaxis]\n",
    "  print(percentage_matrix)\n",
    "  plt.figure(figsize=(3, 3))\n",
    "  sns.heatmap(percentage_matrix, annot=True,  fmt='.2f', xticklabels=['0' ,'1','2'], yticklabels=['0' ,'1','2']);\n",
    "  plt.title('Confusion Matrix');"
   ]
  },
  {
   "cell_type": "code",
   "execution_count": 349,
   "metadata": {},
   "outputs": [
    {
     "name": "stdout",
     "output_type": "stream",
     "text": [
      "[[9.99950296e-01 0.00000000e+00 0.00000000e+00 0.00000000e+00\n",
      "  0.00000000e+00 0.00000000e+00 0.00000000e+00 0.00000000e+00\n",
      "  0.00000000e+00 4.97042597e-05]\n",
      " [0.00000000e+00 9.76685873e-01 0.00000000e+00 0.00000000e+00\n",
      "  0.00000000e+00 7.94921041e-03 0.00000000e+00 0.00000000e+00\n",
      "  0.00000000e+00 1.53649168e-02]\n",
      " [8.25053996e-01 1.66140555e-04 1.73007698e-01 0.00000000e+00\n",
      "  0.00000000e+00 1.21836407e-03 0.00000000e+00 0.00000000e+00\n",
      "  0.00000000e+00 5.53801850e-04]\n",
      " [1.75922608e-01 8.17389227e-01 2.98578765e-04 0.00000000e+00\n",
      "  0.00000000e+00 4.47868148e-03 0.00000000e+00 0.00000000e+00\n",
      "  0.00000000e+00 1.91090410e-03]\n",
      " [4.09607150e-03 9.84236331e-01 0.00000000e+00 0.00000000e+00\n",
      "  0.00000000e+00 4.40637994e-03 0.00000000e+00 0.00000000e+00\n",
      "  0.00000000e+00 7.26121765e-03]\n",
      " [0.00000000e+00 9.67186525e-01 0.00000000e+00 0.00000000e+00\n",
      "  0.00000000e+00 2.15845290e-02 0.00000000e+00 0.00000000e+00\n",
      "  0.00000000e+00 1.12289457e-02]\n",
      " [0.00000000e+00 9.70787552e-01 0.00000000e+00 0.00000000e+00\n",
      "  0.00000000e+00 1.84222646e-03 0.00000000e+00 0.00000000e+00\n",
      "  0.00000000e+00 2.73702217e-02]\n",
      " [1.00000000e+00 0.00000000e+00 0.00000000e+00 0.00000000e+00\n",
      "  0.00000000e+00 0.00000000e+00 0.00000000e+00 0.00000000e+00\n",
      "  0.00000000e+00 0.00000000e+00]\n",
      " [9.97954740e-01 0.00000000e+00 1.64940292e-03 0.00000000e+00\n",
      "  0.00000000e+00 0.00000000e+00 0.00000000e+00 6.59761166e-05\n",
      "  0.00000000e+00 3.29880583e-04]\n",
      " [0.00000000e+00 8.21885322e-01 0.00000000e+00 0.00000000e+00\n",
      "  0.00000000e+00 0.00000000e+00 0.00000000e+00 0.00000000e+00\n",
      "  0.00000000e+00 1.78114678e-01]]\n"
     ]
    },
    {
     "data": {
      "image/png": "[encoded data removed]",
      "text/plain": [
       "<Figure size 216x216 with 2 Axes>"
      ]
     },
     "metadata": {},
     "output_type": "display_data"
    }
   ],
   "source": [
    "display_cm(m)"
   ]
  },
  {
   "cell_type": "markdown",
   "metadata": {},
   "source": [
    "### BASELINE DL model with an generic MLP Classifier"
   ]
  },
  {
   "cell_type": "code",
   "execution_count": 363,
   "metadata": {},
   "outputs": [
    {
     "name": "stdout",
     "output_type": "stream",
     "text": [
      "root\n",
      " |-- label: double (nullable = false)\n",
      " |-- features: vector (nullable = true)\n",
      " |-- userid: string (nullable = true)\n",
      " |-- gender: string (nullable = true)\n",
      " |-- age: double (nullable = true)\n",
      " |-- country: string (nullable = true)\n",
      " |-- day_of_week: string (nullable = true)\n",
      " |-- timeofday: string (nullable = true)\n",
      " |-- session_length_mvavg: double (nullable = true)\n",
      " |-- session_length_mvavg_10: double (nullable = true)\n",
      " |-- session_length_mvavg_5: double (nullable = true)\n",
      " |-- session_length_mvavg_time: double (nullable = true)\n",
      " |-- previous_duration: double (nullable = true)\n",
      " |-- absence_time: double (nullable = true)\n",
      " |-- is_holiday: integer (nullable = true)\n",
      " |-- session_length: double (nullable = true)\n",
      " |-- decile: double (nullable = true)\n",
      "\n"
     ]
    }
   ],
   "source": [
    "train_data.printSchema()"
   ]
  },
  {
   "cell_type": "code",
   "execution_count": 364,
   "metadata": {},
   "outputs": [],
   "source": [
    "def mlp_classifier():\n",
    "    print(\"###########################################################################################\")\n",
    "    print(\"##################################       MLP CLASSIFIER      ##############################\")\n",
    "    print(\"###########################################################################################\")\n",
    "    global mlp_results\n",
    "    global train_data, dev_data, test_data\n",
    "    layer_1 = train_data.schema[\"features\"].metadata[\"ml_attr\"][\"num_attrs\"]\n",
    "    layer_2 = layer_1*4\n",
    "    layer_3 = int(layer_2/2)\n",
    "    layer_4 = num_buckets\n",
    "    layers = [layer_1, layer_2, layer_3, layer_4]\n",
    "    print(\"LAYERS: \\t{}\".format(layers))\n",
    "    print(\"---------------------------------  Training MLP Model        ------------------------------\")\n",
    "    trainer = MultilayerPerceptronClassifier(maxIter=5, layers=layers, blockSize=128)\n",
    "    print(\"---------------------------------  Fitting Model to TRAIN    ------------------------------\")\n",
    "    mlp_model = trainer.fit (train_data)        \n",
    "    print(\"---------------------------------  Testing Model against DEV ------------------------------\")\n",
    "    predictions = mlp_model.transform(dev_data)\n",
    "    selected = predictions.select(\"label\", \"prediction\", \"userid\", \"gender\",\"country\", \"day_of_week\", \"timeofday\", \"is_holiday\",\"session_length_mvavg\",\"session_length_mvavg_10\",\"session_length_mvavg_5\",\"session_length_mvavg_time\",\"previous_duration\",\"absence_time\",\"is_holiday\",\"session_length\")\n",
    "    print(\"evaluator = MulticlassClassificationEvaluator().....\")\n",
    "    evaluator = MulticlassClassificationEvaluator().setMetricName('accuracy').setLabelCol('label').setPredictionCol(\"prediction\")\n",
    "    print(\"result = evaluator.evaluate(mlp_model.transform(dev_data))\")\n",
    "    result = evaluator.evaluate(mlp_model.transform(dev_data))\n",
    "    mlp_results.append(result)\n",
    "    print(\"MLP CLASSIFIER RESULTS:\\t{}\".format(mlp_results))"
   ]
  },
  {
   "cell_type": "code",
   "execution_count": 365,
   "metadata": {},
   "outputs": [],
   "source": [
    "#mlp_results = []\n",
    "#mlp_classifier()"
   ]
  },
  {
   "cell_type": "markdown",
   "metadata": {},
   "source": [
    "### BASELINE Model with Decision Tree Classifier"
   ]
  },
  {
   "cell_type": "code",
   "execution_count": 366,
   "metadata": {},
   "outputs": [],
   "source": [
    "dt_results = dict()\n",
    "maxBins = 100\n"
   ]
  },
  {
   "cell_type": "code",
   "execution_count": 300,
   "metadata": {},
   "outputs": [],
   "source": [
    "def decisionTree_classifier(max_depth):\n",
    "    global dt_results\n",
    "    global train_data, dev_data, test_data\n",
    "    dt = DecisionTreeClassifier(labelCol=\"label\", featuresCol=\"features\", maxDepth=max_depth, maxBins=100)\n",
    "    dtModel = dt.fit(train_data)\n",
    "    #print(\"numNodes = \", dtModel.numNodes)\n",
    "    #print(\"depth = \", dtModel.depth)\n",
    "    evaluator = MulticlassClassificationEvaluator().setMetricName ('accuracy').setPredictionCol ('prediction').setLabelCol ('label')\n",
    "    #print(\"result = evaluator.evaluate(dfModel.transform(dev_data))\")\n",
    "    result = evaluator.evaluate(dtModel.transform(dev_data))\n",
    "    #print(\"dt_results.append(result)\")\n",
    "    dt_results.update({max_depth:result})\n",
    "    #print(\"DECISION TREE CLASSIFIER RESULTS:\\t{}\".format(dt_results))"
   ]
  },
  {
   "cell_type": "code",
   "execution_count": 301,
   "metadata": {},
   "outputs": [],
   "source": [
    "def eval_dt_classifier():\n",
    "    print(\"###########################################################################################\")\n",
    "    print(\"###############################          DECISION TREE              #######################\")\n",
    "    print(\"###########################################################################################\")\n",
    "    print(\"\\tNUM_TREES\\tMAX_TREE_DEPTH\\t\\tACCURACY\")\n",
    "    global dt_results\n",
    "    for max_tree_depth in max_tree_depths:\n",
    "        decisionTree_classifier(max_tree_depth)\n",
    "        print(\"\\t\\t\\t\\t{}\\t\\t{}\".format(max_tree_depth,dt_results[max_tree_depth]))\n",
    "        "
   ]
  },
  {
   "cell_type": "code",
   "execution_count": 302,
   "metadata": {},
   "outputs": [],
   "source": [
    "max_tree_depths = [1,2,3,4,5,6,7,8,9,10]"
   ]
  },
  {
   "cell_type": "code",
   "execution_count": 303,
   "metadata": {
    "scrolled": true
   },
   "outputs": [
    {
     "name": "stdout",
     "output_type": "stream",
     "text": [
      "###########################################################################################\n",
      "###############################          DECISION TREE              #######################\n",
      "###########################################################################################\n",
      "\tNUM_TREES\tMAX_TREE_DEPTH\t\tACCURACY\n",
      "\t\t\t\t1\t\t0.222571381444\n",
      "\t\t\t\t2\t\t0.32231719541\n",
      "\t\t\t\t3\t\t0.427053683583\n",
      "\t\t\t\t4\t\t0.623868110861\n",
      "\t\t\t\t5\t\t0.808937536214\n",
      "\t\t\t\t6\t\t0.904449735875\n",
      "\t\t\t\t7\t\t1.0\n",
      "\t\t\t\t8\t\t1.0\n",
      "\t\t\t\t9\t\t1.0\n",
      "\t\t\t\t10\t\t1.0\n"
     ]
    }
   ],
   "source": [
    "dt_results = dict()\n",
    "eval_dt_classifier()"
   ]
  },
  {
   "cell_type": "markdown",
   "metadata": {},
   "source": [
    "### BASELINE Model with RandomForest Classifier"
   ]
  },
  {
   "cell_type": "code",
   "execution_count": 304,
   "metadata": {},
   "outputs": [],
   "source": [
    "rfModel = None\n",
    "def randomForest_classifier(num_tree, max_tree_depth):\n",
    "    global rf_results\n",
    "    global rfModel\n",
    "    global train_data, dev_data, test_data\n",
    "    #rf = RandomForestClassifier(labelCol=\"label\", featuresCol=\"features\", maxDepth=20, maxBins=100)\n",
    "    rf = RandomForestClassifier(numTrees=num_tree, featureSubsetStrategy=\"auto\", impurity=\"gini\", labelCol=\"label\", featuresCol=\"features\", maxDepth=max_tree_depth, maxBins=100)\n",
    "    \n",
    "    #print(\"---------------------------------  Fitting Model to Train     ------------------------------\")\n",
    "    rfModel = rf.fit(train_data)\n",
    "    #print(\"---------------------------------  Transforming Dev           ------------------------------\")\n",
    "    predictions = rfModel.transform(dev_data)\n",
    "    selected = predictions.select(\"label\", \"prediction\", \"userid\", \"gender\",\"is_holiday\",\"country\", \"day_of_week\", \"time_of_day\",\"genre_10\",\"genre_9\",\"genre_8\",\"genre_7\",\"genre_6\",\"genre_5\",\"genre_4\",\"genre_3\",\"genre_2\",\"genre_1\",\n",
    "                                  \"genre_10_freq\",\"genre_9_freq\",\"genre_8_freq\",\"genre_7_freq\",\"genre_6_freq\",\"genre_5_freq\",\"genre_4_freq\",\"genre_3_freq\",\"genre_2_freq\",\"genre_1_freq\",\"absence_time\",\"days_since_epoch\",\"session_length_1\",\"session_length\")\n",
    "    #print(\"---------------------------------     Evaluating Model        ------------------------------\")\n",
    "    evaluator = MulticlassClassificationEvaluator().setMetricName('accuracy').setPredictionCol ('prediction').setLabelCol ('label')\n",
    "    result = evaluator.evaluate(rfModel.transform(dev_data))\n",
    "    #print(\"---------------------------------  Summarizing Results        ------------------------------\")\n",
    "    rf_results.update({num_tree:{max_tree_depth:result}})\n",
    "    #print(\"RANDOM FOREST CLASSIFIER RESULTS:\\t{}\".format(rf_results))"
   ]
  },
  {
   "cell_type": "code",
   "execution_count": 305,
   "metadata": {},
   "outputs": [],
   "source": [
    "def eval_rf_classifier():\n",
    "    print(\"###########################################################################################\")\n",
    "    print(\"###############################          RANDOM FOREST              #######################\")\n",
    "    print(\"###########################################################################################\")\n",
    "    print(\"\\tNUM_TREES\\tMAX_TREE_DEPTH\\t\\tACCURACY\")\n",
    "    for num_tree in num_trees:\n",
    "        for max_tree_depth in max_tree_depths:\n",
    "            randomForest_classifier(num_tree, max_tree_depth)\n",
    "            print(\"\\t{}\\t\\t\\t{}\\t\\t{}\".format(num_tree, max_tree_depth,rf_results))\n",
    "        "
   ]
  },
  {
   "cell_type": "code",
   "execution_count": 306,
   "metadata": {},
   "outputs": [],
   "source": [
    "max_tree_depths = [20, 25, 30]\n",
    "num_trees       = [30,40,50,60,70]"
   ]
  },
  {
   "cell_type": "code",
   "execution_count": null,
   "metadata": {},
   "outputs": [
    {
     "name": "stdout",
     "output_type": "stream",
     "text": [
      "###########################################################################################\n",
      "###############################          RANDOM FOREST              #######################\n",
      "###########################################################################################\n",
      "\tNUM_TREES\tMAX_TREE_DEPTH\t\tACCURACY\n"
     ]
    }
   ],
   "source": [
    "rf_results = dict()\n",
    "\n",
    "eval_rf_classifier()"
   ]
  },
  {
   "cell_type": "code",
   "execution_count": null,
   "metadata": {},
   "outputs": [],
   "source": [
    "#max_tree_depths = [20,25,30]\n",
    "#num_trees       = [20,25,30,35,40,45,50]"
   ]
  },
  {
   "cell_type": "code",
   "execution_count": 377,
   "metadata": {},
   "outputs": [
    {
     "name": "stdout",
     "output_type": "stream",
     "text": [
      "###########################################################################################\n",
      "###############################          RANDOM FOREST              #######################\n",
      "###########################################################################################\n",
      "\tNUM_TREES\tMAX_TREE_DEPTH\t\tACCURACY\n",
      "\t20\t\t\t20\t\t{20: {20: 0.9311531420104213}}\n",
      "\t20\t\t\t25\t\t{20: {25: 0.9574942290854095}}\n",
      "\t20\t\t\t30\t\t{20: {30: 0.9730098763769065}}\n",
      "\t25\t\t\t20\t\t{25: {20: 0.9437236328902332}, 20: {30: 0.9730098763769065}}\n",
      "\t25\t\t\t25\t\t{25: {25: 0.9709647989517447}, 20: {30: 0.9730098763769065}}\n",
      "\t25\t\t\t30\t\t{25: {30: 0.9843618929824454}, 20: {30: 0.9730098763769065}}\n",
      "\t30\t\t\t20\t\t{25: {30: 0.9843618929824454}, 20: {30: 0.9730098763769065}, 30: {20: 0.9331737274903716}}\n",
      "\t30\t\t\t25\t\t{25: {30: 0.9843618929824454}, 20: {30: 0.9730098763769065}, 30: {25: 0.9655398330873933}}\n",
      "\t30\t\t\t30\t\t{25: {30: 0.9843618929824454}, 20: {30: 0.9730098763769065}, 30: {30: 0.979041017885243}}\n",
      "\t35\t\t\t20\t\t{25: {30: 0.9843618929824454}, 35: {20: 0.9448931232740833}, 20: {30: 0.9730098763769065}, 30: {30: 0.979041017885243}}\n",
      "\t35\t\t\t25\t\t{25: {30: 0.9843618929824454}, 35: {25: 0.9715709745957298}, 20: {30: 0.9730098763769065}, 30: {30: 0.979041017885243}}\n",
      "\t35\t\t\t30\t\t{25: {30: 0.9843618929824454}, 35: {30: 0.982145371940803}, 20: {30: 0.9730098763769065}, 30: {30: 0.979041017885243}}\n",
      "\t40\t\t\t20\t\t{40: {20: 0.9698687844035293}, 25: {30: 0.9843618929824454}, 35: {30: 0.982145371940803}, 20: {30: 0.9730098763769065}, 30: {30: 0.979041017885243}}\n",
      "\t40\t\t\t25\t\t{35: {30: 0.982145371940803}, 20: {30: 0.9730098763769065}, 40: {25: 0.9766469302408171}, 25: {30: 0.9843618929824454}, 30: {30: 0.979041017885243}}\n",
      "\t40\t\t\t30\t\t{35: {30: 0.982145371940803}, 20: {30: 0.9730098763769065}, 40: {30: 0.985298709886786}, 25: {30: 0.9843618929824454}, 30: {30: 0.979041017885243}}\n",
      "\t45\t\t\t20\t\t{35: {30: 0.982145371940803}, 20: {30: 0.9730098763769065}, 40: {30: 0.985298709886786}, 25: {30: 0.9843618929824454}, 45: {20: 0.9610271921821711}, 30: {30: 0.979041017885243}}\n",
      "\t45\t\t\t25\t\t{35: {30: 0.982145371940803}, 20: {30: 0.9730098763769065}, 40: {30: 0.985298709886786}, 25: {30: 0.9843618929824454}, 45: {25: 0.9740507840483961}, 30: {30: 0.979041017885243}}\n",
      "\t45\t\t\t30\t\t{35: {30: 0.982145371940803}, 20: {30: 0.9730098763769065}, 40: {30: 0.985298709886786}, 25: {30: 0.9843618929824454}, 45: {30: 0.9854395385717523}, 30: {30: 0.979041017885243}}\n",
      "\t50\t\t\t20\t\t{50: {20: 0.9600536373600133}, 35: {30: 0.982145371940803}, 20: {30: 0.9730098763769065}, 40: {30: 0.985298709886786}, 25: {30: 0.9843618929824454}, 45: {30: 0.9854395385717523}, 30: {30: 0.979041017885243}}\n",
      "\t50\t\t\t25\t\t{50: {25: 0.9742283506511796}, 35: {30: 0.982145371940803}, 20: {30: 0.9730098763769065}, 40: {30: 0.985298709886786}, 25: {30: 0.9843618929824454}, 45: {30: 0.9854395385717523}, 30: {30: 0.979041017885243}}\n",
      "\t50\t\t\t30\t\t{50: {30: 0.9818943295023849}, 35: {30: 0.982145371940803}, 20: {30: 0.9730098763769065}, 40: {30: 0.985298709886786}, 25: {30: 0.9843618929824454}, 45: {30: 0.9854395385717523}, 30: {30: 0.979041017885243}}\n"
     ]
    }
   ],
   "source": [
    "#rf_results = dict()\n",
    "\n",
    "#eval_rf_classifier()"
   ]
  },
  {
   "cell_type": "markdown",
   "metadata": {},
   "source": [
    "### SCIKIT LEARN"
   ]
  },
  {
   "cell_type": "code",
   "execution_count": 378,
   "metadata": {},
   "outputs": [
    {
     "name": "stdout",
     "output_type": "stream",
     "text": [
      "/usr/local/lib/python2.7/dist-packages/pip/_vendor/requests/__init__.py:83: RequestsDependencyWarning: Old version of cryptography ([1, 2, 3]) may cause slowdown.\n",
      "  warnings.warn(warning, RequestsDependencyWarning)\n",
      "Requirement already satisfied: keras in /usr/local/lib/python2.7/dist-packages (1.2.2)\n",
      "Requirement already satisfied: six in /usr/local/lib/python2.7/dist-packages (from keras) (1.11.0)\n",
      "Requirement already satisfied: theano in /usr/local/lib/python2.7/dist-packages (from keras) (1.0.3)\n",
      "Requirement already satisfied: pyyaml in /usr/lib/python2.7/dist-packages (from keras) (3.11)\n",
      "Requirement already satisfied: numpy>=1.9.1 in /usr/local/lib/python2.7/dist-packages (from theano->keras) (1.14.2)\n",
      "Requirement already satisfied: scipy>=0.14 in /usr/local/lib/python2.7/dist-packages (from theano->keras) (1.0.1)\n",
      "\u001b[33mYou are using pip version 18.0, however version 18.1 is available.\n",
      "You should consider upgrading via the 'pip install --upgrade pip' command.\u001b[0m\n"
     ]
    }
   ],
   "source": [
    "# Import SciKitLearn\n",
    "from sklearn.preprocessing import LabelEncoder \n",
    "from sklearn.preprocessing import MinMaxScaler\n",
    "from sklearn.preprocessing import minmax_scale\n",
    "from sklearn.preprocessing import MaxAbsScaler\n",
    "from sklearn.preprocessing import StandardScaler\n",
    "from sklearn.preprocessing import RobustScaler\n",
    "from sklearn.preprocessing import Normalizer\n",
    "from sklearn.metrics import r2_score\n",
    "from sklearn.decomposition import PCA\n",
    "from sklearn.cluster import KMeans\n",
    "from sklearn.mixture import GMM\n",
    "\n",
    "# Regression models\n",
    "from sklearn.linear_model import LinearRegression\n",
    "from sklearn.linear_model import Ridge\n",
    "from sklearn.linear_model import Lasso, MultiTaskLassoCV, LassoLarsCV, LassoLarsIC \n",
    "from sklearn.ensemble import RandomForestRegressor\n",
    "from sklearn.ensemble import AdaBoostRegressor\n",
    "from sklearn.ensemble import GradientBoostingRegressor\n",
    "from sklearn.tree import DecisionTreeRegressor\n",
    "from sklearn.svm import SVR\n",
    "from sklearn.multioutput import MultiOutputRegressor\n",
    "from sklearn.model_selection import GridSearchCV as CV\n",
    "\n",
    "# Other packages\n",
    "import time\n",
    "import numpy as np\n",
    "import pandas as pd\n",
    "import re\n",
    "import scipy as sp\n",
    "import matplotlib.pyplot as plt\n",
    "from numpy import concatenate\n",
    "from pandas import DataFrame, Series, read_csv, scatter_matrix\n",
    "\n",
    "# Install packages\n",
    "!pip install keras\n",
    "\n",
    "# Weighted Mean Absolute Error Function\n",
    "def weighted_mean_abs_err(y_true, y_pred, weights):\n",
    "  return np.mean(np.mean(np.abs(y_true - y_pred), axis=1) * weights)"
   ]
  },
  {
   "cell_type": "code",
   "execution_count": 379,
   "metadata": {},
   "outputs": [],
   "source": [
    "#!head /data_data/session_length/usersessions-with-ids-jayashree.csv"
   ]
  },
  {
   "cell_type": "code",
   "execution_count": 380,
   "metadata": {},
   "outputs": [
    {
     "name": "stdout",
     "output_type": "stream",
     "text": [
      "+-----------+--------+------+----+-------+----------+--------------+-----------+------------+---------+---------+--------------------+-----------------------+----------------------+-------------------------+-------------------+-----------------+------------+----------+--------------+------+-----------+\n",
      "|     userid|genderid|gender| age|country| startdate|day_of_week_id|day_of_week|timeofday_id|timeofday|sessionid|session_length_mvavg|session_length_mvavg_10|session_length_mvavg_5|session_length_mvavg_time|      session_start|previous_duration|absence_time|is_holiday|session_length|decile|description|\n",
      "+-----------+--------+------+----+-------+----------+--------------+-----------+------------+---------+---------+--------------------+-----------------------+----------------------+-------------------------+-------------------+-----------------+------------+----------+--------------+------+-----------+\n",
      "|user_000001|     1.0|     m|null|  Japan|2006-08-14|             0|     Sunday|           4|    Night|        1|                null|                   null|                  null|                     null|2006-08-14 00:59:20|             null|        null|         0|          5.54|   9.0|   <2_hours|\n",
      "|user_000001|     1.0|     m|null|  Japan|2006-08-15|             0|     Sunday|           4|    Night|        1|             15304.0|                15304.0|               15304.0|                     null|2006-08-15 23:27:51|          15304.0|    167311.0|         0|          5.23|   8.0| <1.5_hours|\n",
      "|user_000001|     1.0|     m|null|  Japan|2006-08-16|             0|     Sunday|           3|  Evening|        1|             13252.0|                13252.0|               13252.0|                  15304.0|2006-08-16 21:27:16|          11200.0|     79165.0|         0|          3.89|   4.0|   <20_mins|\n",
      "|user_000001|     1.0|     m|null|  Japan|2006-08-17|             0|     Sunday|           4|    Night|        1|             9820.67|                9820.67|               9820.67|                   9131.0|2006-08-17 00:43:02|           2958.0|     11746.0|         0|          4.56|   6.0|   <40_mins|\n",
      "|user_000001|     1.0|     m|null|  Japan|2006-08-18|             0|     Sunday|           4|    Night|        1|              8810.0|                 8810.0|                8810.0|                     null|2006-08-18 00:33:27|           5778.0|     85825.0|         0|          4.91|   7.0|    <1_hour|\n",
      "+-----------+--------+------+----+-------+----------+--------------+-----------+------------+---------+---------+--------------------+-----------------------+----------------------+-------------------------+-------------------+-----------------+------------+----------+--------------+------+-----------+\n",
      "only showing top 5 rows\n",
      "\n"
     ]
    }
   ],
   "source": [
    "user_session_with_window_bucketized_descr_df.show(5)"
   ]
  },
  {
   "cell_type": "code",
   "execution_count": 381,
   "metadata": {},
   "outputs": [
    {
     "name": "stdout",
     "output_type": "stream",
     "text": [
      "+-----------+--------+------+----+-------+----------+--------------+-----------+------------+---------+---------+--------------------+-----------------------+----------------------+-------------------------+-------------------+-----------------+------------+----------+--------------+\n",
      "|userid     |genderid|gender|age |country|startdate |day_of_week_id|day_of_week|timeofday_id|timeofday|sessionid|session_length_mvavg|session_length_mvavg_10|session_length_mvavg_5|session_length_mvavg_time|session_start      |previous_duration|absence_time|is_holiday|session_length|\n",
      "+-----------+--------+------+----+-------+----------+--------------+-----------+------------+---------+---------+--------------------+-----------------------+----------------------+-------------------------+-------------------+-----------------+------------+----------+--------------+\n",
      "|user_000001|1.0     |m     |null|Japan  |2006-08-14|0             |Sunday     |4           |Night    |1        |null                |null                   |null                  |null                     |2006-08-14 00:59:20|null             |null        |0         |5.54          |\n",
      "|user_000001|1.0     |m     |null|Japan  |2006-08-15|0             |Sunday     |4           |Night    |1        |15304.0             |15304.0                |15304.0               |null                     |2006-08-15 23:27:51|15304.0          |167311.0    |0         |5.23          |\n",
      "|user_000001|1.0     |m     |null|Japan  |2006-08-16|0             |Sunday     |3           |Evening  |1        |13252.0             |13252.0                |13252.0               |15304.0                  |2006-08-16 21:27:16|11200.0          |79165.0     |0         |3.89          |\n",
      "|user_000001|1.0     |m     |null|Japan  |2006-08-17|0             |Sunday     |4           |Night    |1        |9820.67             |9820.67                |9820.67               |9131.0                   |2006-08-17 00:43:02|2958.0           |11746.0     |0         |4.56          |\n",
      "|user_000001|1.0     |m     |null|Japan  |2006-08-18|0             |Sunday     |4           |Night    |1        |8810.0              |8810.0                 |8810.0                |null                     |2006-08-18 00:33:27|5778.0           |85825.0     |0         |4.91          |\n",
      "+-----------+--------+------+----+-------+----------+--------------+-----------+------------+---------+---------+--------------------+-----------------------+----------------------+-------------------------+-------------------+-----------------+------------+----------+--------------+\n",
      "only showing top 5 rows\n",
      "\n"
     ]
    }
   ],
   "source": [
    "userSession_df.show(5,False)"
   ]
  },
  {
   "cell_type": "code",
   "execution_count": 382,
   "metadata": {},
   "outputs": [
    {
     "data": {
      "text/plain": [
       "55"
      ]
     },
     "execution_count": 382,
     "metadata": {},
     "output_type": "execute_result"
    }
   ],
   "source": [
    "int(\"user_000055\".split(\"_\")[1].lstrip(\"0\"))"
   ]
  },
  {
   "cell_type": "code",
   "execution_count": 383,
   "metadata": {},
   "outputs": [],
   "source": [
    "def get_user_num(userid):\n",
    "    return int(userid.split(\"_\")[1].lstrip(\"0\"))"
   ]
  },
  {
   "cell_type": "code",
   "execution_count": 384,
   "metadata": {},
   "outputs": [],
   "source": [
    "get_user_num_udf = udf(lambda userid: get_user_num(userid), IntegerType())"
   ]
  },
  {
   "cell_type": "code",
   "execution_count": 386,
   "metadata": {},
   "outputs": [],
   "source": [
    "userSession_df_ = userSession_df.withColumn('usernum', get_user_num_udf('userid'))"
   ]
  },
  {
   "cell_type": "code",
   "execution_count": 387,
   "metadata": {},
   "outputs": [
    {
     "name": "stdout",
     "output_type": "stream",
     "text": [
      "+-----------+--------+------+----+-------+----------+--------------+-----------+------------+---------+---------+--------------------+-----------------------+----------------------+-------------------------+-------------------+-----------------+------------+----------+--------------+-------+\n",
      "|     userid|genderid|gender| age|country| startdate|day_of_week_id|day_of_week|timeofday_id|timeofday|sessionid|session_length_mvavg|session_length_mvavg_10|session_length_mvavg_5|session_length_mvavg_time|      session_start|previous_duration|absence_time|is_holiday|session_length|usernum|\n",
      "+-----------+--------+------+----+-------+----------+--------------+-----------+------------+---------+---------+--------------------+-----------------------+----------------------+-------------------------+-------------------+-----------------+------------+----------+--------------+-------+\n",
      "|user_000001|     1.0|     m|null|  Japan|2006-08-14|             0|     Sunday|           4|    Night|        1|                null|                   null|                  null|                     null|2006-08-14 00:59:20|             null|        null|         0|          5.54|      1|\n",
      "|user_000001|     1.0|     m|null|  Japan|2006-08-15|             0|     Sunday|           4|    Night|        1|             15304.0|                15304.0|               15304.0|                     null|2006-08-15 23:27:51|          15304.0|    167311.0|         0|          5.23|      1|\n",
      "|user_000001|     1.0|     m|null|  Japan|2006-08-16|             0|     Sunday|           3|  Evening|        1|             13252.0|                13252.0|               13252.0|                  15304.0|2006-08-16 21:27:16|          11200.0|     79165.0|         0|          3.89|      1|\n",
      "|user_000001|     1.0|     m|null|  Japan|2006-08-17|             0|     Sunday|           4|    Night|        1|             9820.67|                9820.67|               9820.67|                   9131.0|2006-08-17 00:43:02|           2958.0|     11746.0|         0|          4.56|      1|\n",
      "|user_000001|     1.0|     m|null|  Japan|2006-08-18|             0|     Sunday|           4|    Night|        1|              8810.0|                 8810.0|                8810.0|                     null|2006-08-18 00:33:27|           5778.0|     85825.0|         0|          4.91|      1|\n",
      "+-----------+--------+------+----+-------+----------+--------------+-----------+------------+---------+---------+--------------------+-----------------------+----------------------+-------------------------+-------------------+-----------------+------------+----------+--------------+-------+\n",
      "only showing top 5 rows\n",
      "\n"
     ]
    }
   ],
   "source": [
    "userSession_df_.show(5)"
   ]
  },
  {
   "cell_type": "code",
   "execution_count": 388,
   "metadata": {},
   "outputs": [
    {
     "name": "stdout",
     "output_type": "stream",
     "text": [
      "root\n",
      " |-- userid: string (nullable = true)\n",
      " |-- genderid: double (nullable = true)\n",
      " |-- gender: string (nullable = true)\n",
      " |-- age: double (nullable = true)\n",
      " |-- country: string (nullable = true)\n",
      " |-- startdate: string (nullable = true)\n",
      " |-- day_of_week_id: integer (nullable = true)\n",
      " |-- day_of_week: string (nullable = true)\n",
      " |-- timeofday_id: integer (nullable = true)\n",
      " |-- timeofday: string (nullable = true)\n",
      " |-- sessionid: integer (nullable = true)\n",
      " |-- session_length_mvavg: double (nullable = true)\n",
      " |-- session_length_mvavg_10: double (nullable = true)\n",
      " |-- session_length_mvavg_5: double (nullable = true)\n",
      " |-- session_length_mvavg_time: double (nullable = true)\n",
      " |-- session_start: string (nullable = true)\n",
      " |-- previous_duration: double (nullable = true)\n",
      " |-- absence_time: double (nullable = true)\n",
      " |-- is_holiday: integer (nullable = true)\n",
      " |-- session_length: double (nullable = true)\n",
      "\n"
     ]
    }
   ],
   "source": [
    "userSession_df.printSchema()"
   ]
  },
  {
   "cell_type": "code",
   "execution_count": 389,
   "metadata": {},
   "outputs": [],
   "source": [
    "country_ids = the_model_df_.select('country','country_index').distinct().toPandas().set_index('country').T.to_dict('list')"
   ]
  },
  {
   "cell_type": "code",
   "execution_count": 390,
   "metadata": {},
   "outputs": [
    {
     "name": "stdout",
     "output_type": "stream",
     "text": [
      "+-----------+--------+------+----+-------+----------+--------------+-----------+------------+---------+---------+--------------------+-----------------------+----------------------+-------------------------+-------------------+-----------------+------------+----------+--------------+-------+\n",
      "|     userid|genderid|gender| age|country| startdate|day_of_week_id|day_of_week|timeofday_id|timeofday|sessionid|session_length_mvavg|session_length_mvavg_10|session_length_mvavg_5|session_length_mvavg_time|      session_start|previous_duration|absence_time|is_holiday|session_length|usernum|\n",
      "+-----------+--------+------+----+-------+----------+--------------+-----------+------------+---------+---------+--------------------+-----------------------+----------------------+-------------------------+-------------------+-----------------+------------+----------+--------------+-------+\n",
      "|user_000001|     1.0|     m|null|  Japan|2006-08-14|             0|     Sunday|           4|    Night|        1|                null|                   null|                  null|                     null|2006-08-14 00:59:20|             null|        null|         0|          5.54|      1|\n",
      "|user_000001|     1.0|     m|null|  Japan|2006-08-15|             0|     Sunday|           4|    Night|        1|             15304.0|                15304.0|               15304.0|                     null|2006-08-15 23:27:51|          15304.0|    167311.0|         0|          5.23|      1|\n",
      "|user_000001|     1.0|     m|null|  Japan|2006-08-16|             0|     Sunday|           3|  Evening|        1|             13252.0|                13252.0|               13252.0|                  15304.0|2006-08-16 21:27:16|          11200.0|     79165.0|         0|          3.89|      1|\n",
      "|user_000001|     1.0|     m|null|  Japan|2006-08-17|             0|     Sunday|           4|    Night|        1|             9820.67|                9820.67|               9820.67|                   9131.0|2006-08-17 00:43:02|           2958.0|     11746.0|         0|          4.56|      1|\n",
      "|user_000001|     1.0|     m|null|  Japan|2006-08-18|             0|     Sunday|           4|    Night|        1|              8810.0|                 8810.0|                8810.0|                     null|2006-08-18 00:33:27|           5778.0|     85825.0|         0|          4.91|      1|\n",
      "+-----------+--------+------+----+-------+----------+--------------+-----------+------------+---------+---------+--------------------+-----------------------+----------------------+-------------------------+-------------------+-----------------+------------+----------+--------------+-------+\n",
      "only showing top 5 rows\n",
      "\n"
     ]
    }
   ],
   "source": [
    "userSession_df_.show(5)"
   ]
  },
  {
   "cell_type": "code",
   "execution_count": 391,
   "metadata": {},
   "outputs": [
    {
     "data": {
      "text/plain": [
       "6"
      ]
     },
     "execution_count": 391,
     "metadata": {},
     "output_type": "execute_result"
    }
   ],
   "source": [
    "int(country_ids['Turkey'][0])"
   ]
  },
  {
   "cell_type": "code",
   "execution_count": 392,
   "metadata": {},
   "outputs": [],
   "source": [
    "def get_country_id(country):\n",
    "    try:\n",
    "        return int(country_ids[country][0])\n",
    "    except:\n",
    "        return 9999999"
   ]
  },
  {
   "cell_type": "code",
   "execution_count": 393,
   "metadata": {},
   "outputs": [],
   "source": [
    "get_country_id_udf = udf(lambda country: get_country_id(country), IntegerType())"
   ]
  },
  {
   "cell_type": "code",
   "execution_count": 398,
   "metadata": {},
   "outputs": [],
   "source": [
    "userSession_df_ = userSession_df_.withColumn('country_id', get_country_id_udf('country'))"
   ]
  },
  {
   "cell_type": "code",
   "execution_count": 399,
   "metadata": {},
   "outputs": [
    {
     "name": "stdout",
     "output_type": "stream",
     "text": [
      "+-----------+--------+------+----+-------+----------+--------------+-----------+------------+---------+---------+--------------------+-----------------------+----------------------+-------------------------+-------------------+-----------------+------------+----------+--------------+-------+----------+\n",
      "|userid     |genderid|gender|age |country|startdate |day_of_week_id|day_of_week|timeofday_id|timeofday|sessionid|session_length_mvavg|session_length_mvavg_10|session_length_mvavg_5|session_length_mvavg_time|session_start      |previous_duration|absence_time|is_holiday|session_length|usernum|country_id|\n",
      "+-----------+--------+------+----+-------+----------+--------------+-----------+------------+---------+---------+--------------------+-----------------------+----------------------+-------------------------+-------------------+-----------------+------------+----------+--------------+-------+----------+\n",
      "|user_000001|1.0     |m     |null|Japan  |2006-08-14|0             |Sunday     |4           |Night    |1        |null                |null                   |null                  |null                     |2006-08-14 00:59:20|null             |null        |0         |5.54          |1      |42        |\n",
      "|user_000001|1.0     |m     |null|Japan  |2006-08-15|0             |Sunday     |4           |Night    |1        |15304.0             |15304.0                |15304.0               |null                     |2006-08-15 23:27:51|15304.0          |167311.0    |0         |5.23          |1      |42        |\n",
      "|user_000001|1.0     |m     |null|Japan  |2006-08-16|0             |Sunday     |3           |Evening  |1        |13252.0             |13252.0                |13252.0               |15304.0                  |2006-08-16 21:27:16|11200.0          |79165.0     |0         |3.89          |1      |42        |\n",
      "|user_000001|1.0     |m     |null|Japan  |2006-08-17|0             |Sunday     |4           |Night    |1        |9820.67             |9820.67                |9820.67               |9131.0                   |2006-08-17 00:43:02|2958.0           |11746.0     |0         |4.56          |1      |42        |\n",
      "|user_000001|1.0     |m     |null|Japan  |2006-08-18|0             |Sunday     |4           |Night    |1        |8810.0              |8810.0                 |8810.0                |null                     |2006-08-18 00:33:27|5778.0           |85825.0     |0         |4.91          |1      |42        |\n",
      "+-----------+--------+------+----+-------+----------+--------------+-----------+------------+---------+---------+--------------------+-----------------------+----------------------+-------------------------+-------------------+-----------------+------------+----------+--------------+-------+----------+\n",
      "only showing top 5 rows\n",
      "\n"
     ]
    }
   ],
   "source": [
    "userSession_df_.show(5, False)"
   ]
  },
  {
   "cell_type": "code",
   "execution_count": 400,
   "metadata": {},
   "outputs": [],
   "source": [
    "data = userSession_df_.select('country_id','usernum','genderid','age','day_of_week_id','timeofday_id','session_length_mvavg','session_length_mvavg_10','session_length_mvavg_5','session_length_mvavg_time','session_length','previous_duration','is_holiday').dropna().toPandas()"
   ]
  },
  {
   "cell_type": "code",
   "execution_count": 401,
   "metadata": {},
   "outputs": [
    {
     "data": {
      "text/html": [
       "<div>\n",
       "<style scoped>\n",
       "    .dataframe tbody tr th:only-of-type {\n",
       "        vertical-align: middle;\n",
       "    }\n",
       "\n",
       "    .dataframe tbody tr th {\n",
       "        vertical-align: top;\n",
       "    }\n",
       "\n",
       "    .dataframe thead th {\n",
       "        text-align: right;\n",
       "    }\n",
       "</style>\n",
       "<table border=\"1\" class=\"dataframe\">\n",
       "  <thead>\n",
       "    <tr style=\"text-align: right;\">\n",
       "      <th></th>\n",
       "      <th>country_id</th>\n",
       "      <th>usernum</th>\n",
       "      <th>genderid</th>\n",
       "      <th>age</th>\n",
       "      <th>day_of_week_id</th>\n",
       "      <th>timeofday_id</th>\n",
       "      <th>session_length_mvavg</th>\n",
       "      <th>session_length_mvavg_10</th>\n",
       "      <th>session_length_mvavg_5</th>\n",
       "      <th>session_length_mvavg_time</th>\n",
       "      <th>session_length</th>\n",
       "      <th>previous_duration</th>\n",
       "      <th>is_holiday</th>\n",
       "    </tr>\n",
       "  </thead>\n",
       "  <tbody>\n",
       "    <tr>\n",
       "      <th>0</th>\n",
       "      <td>0</td>\n",
       "      <td>3</td>\n",
       "      <td>1.0</td>\n",
       "      <td>22.0</td>\n",
       "      <td>6</td>\n",
       "      <td>4</td>\n",
       "      <td>6706.67</td>\n",
       "      <td>6706.67</td>\n",
       "      <td>6706.67</td>\n",
       "      <td>4134.0</td>\n",
       "      <td>4.73</td>\n",
       "      <td>10704.0</td>\n",
       "      <td>1</td>\n",
       "    </tr>\n",
       "    <tr>\n",
       "      <th>1</th>\n",
       "      <td>0</td>\n",
       "      <td>3</td>\n",
       "      <td>1.0</td>\n",
       "      <td>22.0</td>\n",
       "      <td>6</td>\n",
       "      <td>1</td>\n",
       "      <td>6725.50</td>\n",
       "      <td>6725.50</td>\n",
       "      <td>6725.50</td>\n",
       "      <td>10704.0</td>\n",
       "      <td>5.57</td>\n",
       "      <td>6782.0</td>\n",
       "      <td>1</td>\n",
       "    </tr>\n",
       "    <tr>\n",
       "      <th>2</th>\n",
       "      <td>0</td>\n",
       "      <td>3</td>\n",
       "      <td>1.0</td>\n",
       "      <td>22.0</td>\n",
       "      <td>6</td>\n",
       "      <td>1</td>\n",
       "      <td>8537.20</td>\n",
       "      <td>8537.20</td>\n",
       "      <td>8537.20</td>\n",
       "      <td>5282.0</td>\n",
       "      <td>3.37</td>\n",
       "      <td>15784.0</td>\n",
       "      <td>1</td>\n",
       "    </tr>\n",
       "    <tr>\n",
       "      <th>3</th>\n",
       "      <td>0</td>\n",
       "      <td>3</td>\n",
       "      <td>1.0</td>\n",
       "      <td>22.0</td>\n",
       "      <td>6</td>\n",
       "      <td>3</td>\n",
       "      <td>7406.33</td>\n",
       "      <td>7406.33</td>\n",
       "      <td>8060.80</td>\n",
       "      <td>13244.0</td>\n",
       "      <td>3.47</td>\n",
       "      <td>1752.0</td>\n",
       "      <td>1</td>\n",
       "    </tr>\n",
       "    <tr>\n",
       "      <th>4</th>\n",
       "      <td>0</td>\n",
       "      <td>3</td>\n",
       "      <td>1.0</td>\n",
       "      <td>22.0</td>\n",
       "      <td>6</td>\n",
       "      <td>4</td>\n",
       "      <td>6622.86</td>\n",
       "      <td>6622.86</td>\n",
       "      <td>7388.80</td>\n",
       "      <td>9470.0</td>\n",
       "      <td>3.18</td>\n",
       "      <td>1922.0</td>\n",
       "      <td>1</td>\n",
       "    </tr>\n",
       "  </tbody>\n",
       "</table>\n",
       "</div>"
      ],
      "text/plain": [
       "   country_id  usernum  genderid   age  day_of_week_id  timeofday_id  session_length_mvavg  session_length_mvavg_10  session_length_mvavg_5  session_length_mvavg_time  session_length  previous_duration  is_holiday\n",
       "0           0        3       1.0  22.0               6             4               6706.67                  6706.67                 6706.67                     4134.0            4.73            10704.0           1\n",
       "1           0        3       1.0  22.0               6             1               6725.50                  6725.50                 6725.50                    10704.0            5.57             6782.0           1\n",
       "2           0        3       1.0  22.0               6             1               8537.20                  8537.20                 8537.20                     5282.0            3.37            15784.0           1\n",
       "3           0        3       1.0  22.0               6             3               7406.33                  7406.33                 8060.80                    13244.0            3.47             1752.0           1\n",
       "4           0        3       1.0  22.0               6             4               6622.86                  6622.86                 7388.80                     9470.0            3.18             1922.0           1"
      ]
     },
     "execution_count": 401,
     "metadata": {},
     "output_type": "execute_result"
    }
   ],
   "source": [
    "data.head()"
   ]
  },
  {
   "cell_type": "code",
   "execution_count": 402,
   "metadata": {},
   "outputs": [],
   "source": [
    "model_df = data[[\"usernum\",\"age\",\"genderid\",\"country_id\", \"day_of_week_id\", \"timeofday_id\", \"session_length_mvavg\",\"session_length_mvavg_10\",\"session_length_mvavg_5\",\"session_length_mvavg_time\",\"previous_duration\",\"is_holiday\",\"session_length\"]]"
   ]
  },
  {
   "cell_type": "code",
   "execution_count": 403,
   "metadata": {},
   "outputs": [
    {
     "data": {
      "text/html": [
       "<div>\n",
       "<style scoped>\n",
       "    .dataframe tbody tr th:only-of-type {\n",
       "        vertical-align: middle;\n",
       "    }\n",
       "\n",
       "    .dataframe tbody tr th {\n",
       "        vertical-align: top;\n",
       "    }\n",
       "\n",
       "    .dataframe thead th {\n",
       "        text-align: right;\n",
       "    }\n",
       "</style>\n",
       "<table border=\"1\" class=\"dataframe\">\n",
       "  <thead>\n",
       "    <tr style=\"text-align: right;\">\n",
       "      <th></th>\n",
       "      <th>usernum</th>\n",
       "      <th>age</th>\n",
       "      <th>genderid</th>\n",
       "      <th>country_id</th>\n",
       "      <th>day_of_week_id</th>\n",
       "      <th>timeofday_id</th>\n",
       "      <th>session_length_mvavg</th>\n",
       "      <th>session_length_mvavg_10</th>\n",
       "      <th>session_length_mvavg_5</th>\n",
       "      <th>session_length_mvavg_time</th>\n",
       "      <th>previous_duration</th>\n",
       "      <th>is_holiday</th>\n",
       "      <th>session_length</th>\n",
       "    </tr>\n",
       "  </thead>\n",
       "  <tbody>\n",
       "    <tr>\n",
       "      <th>0</th>\n",
       "      <td>3</td>\n",
       "      <td>22.0</td>\n",
       "      <td>1.0</td>\n",
       "      <td>0</td>\n",
       "      <td>6</td>\n",
       "      <td>4</td>\n",
       "      <td>6706.67</td>\n",
       "      <td>6706.67</td>\n",
       "      <td>6706.67</td>\n",
       "      <td>4134.0</td>\n",
       "      <td>10704.0</td>\n",
       "      <td>1</td>\n",
       "      <td>4.73</td>\n",
       "    </tr>\n",
       "    <tr>\n",
       "      <th>1</th>\n",
       "      <td>3</td>\n",
       "      <td>22.0</td>\n",
       "      <td>1.0</td>\n",
       "      <td>0</td>\n",
       "      <td>6</td>\n",
       "      <td>1</td>\n",
       "      <td>6725.50</td>\n",
       "      <td>6725.50</td>\n",
       "      <td>6725.50</td>\n",
       "      <td>10704.0</td>\n",
       "      <td>6782.0</td>\n",
       "      <td>1</td>\n",
       "      <td>5.57</td>\n",
       "    </tr>\n",
       "    <tr>\n",
       "      <th>2</th>\n",
       "      <td>3</td>\n",
       "      <td>22.0</td>\n",
       "      <td>1.0</td>\n",
       "      <td>0</td>\n",
       "      <td>6</td>\n",
       "      <td>1</td>\n",
       "      <td>8537.20</td>\n",
       "      <td>8537.20</td>\n",
       "      <td>8537.20</td>\n",
       "      <td>5282.0</td>\n",
       "      <td>15784.0</td>\n",
       "      <td>1</td>\n",
       "      <td>3.37</td>\n",
       "    </tr>\n",
       "    <tr>\n",
       "      <th>3</th>\n",
       "      <td>3</td>\n",
       "      <td>22.0</td>\n",
       "      <td>1.0</td>\n",
       "      <td>0</td>\n",
       "      <td>6</td>\n",
       "      <td>3</td>\n",
       "      <td>7406.33</td>\n",
       "      <td>7406.33</td>\n",
       "      <td>8060.80</td>\n",
       "      <td>13244.0</td>\n",
       "      <td>1752.0</td>\n",
       "      <td>1</td>\n",
       "      <td>3.47</td>\n",
       "    </tr>\n",
       "    <tr>\n",
       "      <th>4</th>\n",
       "      <td>3</td>\n",
       "      <td>22.0</td>\n",
       "      <td>1.0</td>\n",
       "      <td>0</td>\n",
       "      <td>6</td>\n",
       "      <td>4</td>\n",
       "      <td>6622.86</td>\n",
       "      <td>6622.86</td>\n",
       "      <td>7388.80</td>\n",
       "      <td>9470.0</td>\n",
       "      <td>1922.0</td>\n",
       "      <td>1</td>\n",
       "      <td>3.18</td>\n",
       "    </tr>\n",
       "  </tbody>\n",
       "</table>\n",
       "</div>"
      ],
      "text/plain": [
       "   usernum   age  genderid  country_id  day_of_week_id  timeofday_id  session_length_mvavg  session_length_mvavg_10  session_length_mvavg_5  session_length_mvavg_time  previous_duration  is_holiday  session_length\n",
       "0        3  22.0       1.0           0               6             4               6706.67                  6706.67                 6706.67                     4134.0            10704.0           1            4.73\n",
       "1        3  22.0       1.0           0               6             1               6725.50                  6725.50                 6725.50                    10704.0             6782.0           1            5.57\n",
       "2        3  22.0       1.0           0               6             1               8537.20                  8537.20                 8537.20                     5282.0            15784.0           1            3.37\n",
       "3        3  22.0       1.0           0               6             3               7406.33                  7406.33                 8060.80                    13244.0             1752.0           1            3.47\n",
       "4        3  22.0       1.0           0               6             4               6622.86                  6622.86                 7388.80                     9470.0             1922.0           1            3.18"
      ]
     },
     "execution_count": 403,
     "metadata": {},
     "output_type": "execute_result"
    }
   ],
   "source": [
    "model_df.head()"
   ]
  },
  {
   "cell_type": "markdown",
   "metadata": {},
   "source": [
    "### TENSORFLOW"
   ]
  },
  {
   "cell_type": "code",
   "execution_count": 404,
   "metadata": {},
   "outputs": [],
   "source": [
    "from sklearn.utils import shuffle\n",
    "from sklearn import preprocessing"
   ]
  },
  {
   "cell_type": "code",
   "execution_count": 405,
   "metadata": {},
   "outputs": [
    {
     "name": "stdout",
     "output_type": "stream",
     "text": [
      "+-------+----+--------+----------+--------------+------------+--------------------+-----------------------+----------------------+-------------------------+-----------------+----------+--------------+\n",
      "|usernum| age|genderid|country_id|day_of_week_id|timeofday_id|session_length_mvavg|session_length_mvavg_10|session_length_mvavg_5|session_length_mvavg_time|previous_duration|is_holiday|session_length|\n",
      "+-------+----+--------+----------+--------------+------------+--------------------+-----------------------+----------------------+-------------------------+-----------------+----------+--------------+\n",
      "|      3|22.0|     1.0|         0|             6|           4|             6706.67|                6706.67|               6706.67|                   4134.0|          10704.0|         1|          4.73|\n",
      "|      3|22.0|     1.0|         0|             6|           1|              6725.5|                 6725.5|                6725.5|                  10704.0|           6782.0|         1|          5.57|\n",
      "|      3|22.0|     1.0|         0|             6|           1|              8537.2|                 8537.2|                8537.2|                   5282.0|          15784.0|         1|          3.37|\n",
      "|      3|22.0|     1.0|         0|             6|           3|             7406.33|                7406.33|                8060.8|                  13244.0|           1752.0|         1|          3.47|\n",
      "|      3|22.0|     1.0|         0|             6|           4|             6622.86|                6622.86|                7388.8|                   9470.0|           1922.0|         1|          3.18|\n",
      "|      3|22.0|     1.0|         0|             6|           4|              5976.5|                 5976.5|                5538.4|                   5458.0|           1452.0|         1|          4.48|\n",
      "|      3|22.0|     1.0|         0|             6|           1|             5903.33|                5903.33|                5245.6|                  5411.33|           5318.0|         0|          2.48|\n",
      "|      3|22.0|     1.0|         0|             6|           1|              5387.1|                 5387.1|                2237.0|                   7465.5|            741.0|         1|          3.14|\n",
      "|      3|22.0|     1.0|         0|             6|           4|             5023.82|                 5112.8|                2164.8|                   3517.0|           1391.0|         1|          5.82|\n",
      "|      3|22.0|     1.0|         0|             6|           3|             6295.33|                 6612.8|                5836.8|                  4243.75|          20282.0|         1|          3.18|\n",
      "|      3|22.0|     1.0|         0|             6|           4|             5924.15|                 5689.4|                5840.4|                  9105.33|           1470.0|         1|          4.68|\n",
      "|      3|22.0|     1.0|         0|             6|           4|             5965.21|                 5661.1|                6076.6|                   6250.6|           6499.0|         1|           2.2|\n",
      "|      3|22.0|     1.0|         0|             6|           4|             5605.47|                 4139.6|                6042.2|                   3689.0|            569.0|         1|          4.17|\n",
      "|      3|22.0|     1.0|         0|             6|           1|              5501.0|                 4357.8|                6550.8|                   3649.0|           3934.0|         1|          4.11|\n",
      "|      3|22.0|     1.0|         0|             6|           1|             5395.06|                 4535.6|                3234.4|                   3032.6|           3700.0|         1|          2.94|\n",
      "|      3|22.0|     1.0|         0|             6|           1|             5159.89|                 4506.6|                3172.8|                   2201.4|           1162.0|         1|          3.66|\n",
      "|      3|22.0|     1.0|         0|             6|           1|             5013.68|                 4213.0|                2349.4|                   4223.6|           2382.0|         1|           4.3|\n",
      "|      3|22.0|     1.0|         0|             6|           4|              5114.1|                 5213.4|                3876.0|                   2529.6|           7664.0|         0|          3.76|\n",
      "|      3|22.0|     1.0|         0|             6|           1|             5001.36|                 3448.6|                3662.8|                   3109.6|           2634.0|         0|          2.71|\n",
      "|      3|22.0|     1.0|         0|             6|           4|             4823.87|                 3393.5|                3614.2|                  8453.75|            919.0|         1|           2.3|\n",
      "+-------+----+--------+----------+--------------+------------+--------------------+-----------------------+----------------------+-------------------------+-----------------+----------+--------------+\n",
      "only showing top 20 rows\n",
      "\n"
     ]
    }
   ],
   "source": [
    "model_spark = spark.createDataFrame(model_df)\n",
    "model_spark.show()"
   ]
  },
  {
   "cell_type": "code",
   "execution_count": 406,
   "metadata": {},
   "outputs": [
    {
     "data": {
      "text/plain": [
       "pyspark.sql.dataframe.DataFrame"
      ]
     },
     "execution_count": 406,
     "metadata": {},
     "output_type": "execute_result"
    }
   ],
   "source": [
    "type(model_spark)"
   ]
  },
  {
   "cell_type": "code",
   "execution_count": 407,
   "metadata": {},
   "outputs": [
    {
     "name": "stdout",
     "output_type": "stream",
     "text": [
      "+-------+----+--------+----------+--------------+------------+--------------------+-----------------------+----------------------+-------------------------+-----------------+----------+--------------+\n",
      "|usernum| age|genderid|country_id|day_of_week_id|timeofday_id|session_length_mvavg|session_length_mvavg_10|session_length_mvavg_5|session_length_mvavg_time|previous_duration|is_holiday|session_length|\n",
      "+-------+----+--------+----------+--------------+------------+--------------------+-----------------------+----------------------+-------------------------+-----------------+----------+--------------+\n",
      "|      3|22.0|     1.0|         0|             6|           4|             6706.67|                6706.67|               6706.67|                   4134.0|          10704.0|         1|           7.0|\n",
      "|      3|22.0|     1.0|         0|             6|           1|              6725.5|                 6725.5|                6725.5|                  10704.0|           6782.0|         1|           9.0|\n",
      "|      3|22.0|     1.0|         0|             6|           1|              8537.2|                 8537.2|                8537.2|                   5282.0|          15784.0|         1|           2.0|\n",
      "|      3|22.0|     1.0|         0|             6|           3|             7406.33|                7406.33|                8060.8|                  13244.0|           1752.0|         1|           3.0|\n",
      "|      3|22.0|     1.0|         0|             6|           4|             6622.86|                6622.86|                7388.8|                   9470.0|           1922.0|         1|           2.0|\n",
      "|      3|22.0|     1.0|         0|             6|           4|              5976.5|                 5976.5|                5538.4|                   5458.0|           1452.0|         1|           6.0|\n",
      "|      3|22.0|     1.0|         0|             6|           1|             5903.33|                5903.33|                5245.6|                  5411.33|           5318.0|         0|           0.0|\n",
      "|      3|22.0|     1.0|         0|             6|           1|              5387.1|                 5387.1|                2237.0|                   7465.5|            741.0|         1|           2.0|\n",
      "|      3|22.0|     1.0|         0|             6|           4|             5023.82|                 5112.8|                2164.8|                   3517.0|           1391.0|         1|           9.0|\n",
      "|      3|22.0|     1.0|         0|             6|           3|             6295.33|                 6612.8|                5836.8|                  4243.75|          20282.0|         1|           2.0|\n",
      "|      3|22.0|     1.0|         0|             6|           4|             5924.15|                 5689.4|                5840.4|                  9105.33|           1470.0|         1|           7.0|\n",
      "|      3|22.0|     1.0|         0|             6|           4|             5965.21|                 5661.1|                6076.6|                   6250.6|           6499.0|         1|           0.0|\n",
      "|      3|22.0|     1.0|         0|             6|           4|             5605.47|                 4139.6|                6042.2|                   3689.0|            569.0|         1|           5.0|\n",
      "|      3|22.0|     1.0|         0|             6|           1|              5501.0|                 4357.8|                6550.8|                   3649.0|           3934.0|         1|           5.0|\n",
      "|      3|22.0|     1.0|         0|             6|           1|             5395.06|                 4535.6|                3234.4|                   3032.6|           3700.0|         1|           1.0|\n",
      "|      3|22.0|     1.0|         0|             6|           1|             5159.89|                 4506.6|                3172.8|                   2201.4|           1162.0|         1|           3.0|\n",
      "|      3|22.0|     1.0|         0|             6|           1|             5013.68|                 4213.0|                2349.4|                   4223.6|           2382.0|         1|           5.0|\n",
      "|      3|22.0|     1.0|         0|             6|           4|              5114.1|                 5213.4|                3876.0|                   2529.6|           7664.0|         0|           4.0|\n",
      "|      3|22.0|     1.0|         0|             6|           1|             5001.36|                 3448.6|                3662.8|                   3109.6|           2634.0|         0|           1.0|\n",
      "|      3|22.0|     1.0|         0|             6|           4|             4823.87|                 3393.5|                3614.2|                  8453.75|            919.0|         1|           0.0|\n",
      "+-------+----+--------+----------+--------------+------------+--------------------+-----------------------+----------------------+-------------------------+-----------------+----------+--------------+\n",
      "only showing top 20 rows\n",
      "\n"
     ]
    }
   ],
   "source": [
    "session_length_bucketizer = QuantileDiscretizer(numBuckets=num_buckets, inputCol=\"session_length\", outputCol=\"decile\", relativeError=0.01, handleInvalid=\"error\")\n",
    "bucketizer = session_length_bucketizer.fit(model_spark)\n",
    "model_bucketized_df = bucketizer.setHandleInvalid(\"skip\").transform(model_spark).drop('session_length').withColumnRenamed('decile','session_length')\n",
    "model_bucketized_df.show()"
   ]
  },
  {
   "cell_type": "code",
   "execution_count": 408,
   "metadata": {},
   "outputs": [
    {
     "data": {
      "text/html": [
       "<div>\n",
       "<style scoped>\n",
       "    .dataframe tbody tr th:only-of-type {\n",
       "        vertical-align: middle;\n",
       "    }\n",
       "\n",
       "    .dataframe tbody tr th {\n",
       "        vertical-align: top;\n",
       "    }\n",
       "\n",
       "    .dataframe thead th {\n",
       "        text-align: right;\n",
       "    }\n",
       "</style>\n",
       "<table border=\"1\" class=\"dataframe\">\n",
       "  <thead>\n",
       "    <tr style=\"text-align: right;\">\n",
       "      <th></th>\n",
       "      <th>usernum</th>\n",
       "      <th>age</th>\n",
       "      <th>genderid</th>\n",
       "      <th>country_id</th>\n",
       "      <th>day_of_week_id</th>\n",
       "      <th>timeofday_id</th>\n",
       "      <th>session_length_mvavg</th>\n",
       "      <th>session_length_mvavg_10</th>\n",
       "      <th>session_length_mvavg_5</th>\n",
       "      <th>session_length_mvavg_time</th>\n",
       "      <th>previous_duration</th>\n",
       "      <th>is_holiday</th>\n",
       "      <th>session_length</th>\n",
       "    </tr>\n",
       "  </thead>\n",
       "  <tbody>\n",
       "    <tr>\n",
       "      <th>0</th>\n",
       "      <td>3</td>\n",
       "      <td>22.0</td>\n",
       "      <td>1.0</td>\n",
       "      <td>0</td>\n",
       "      <td>6</td>\n",
       "      <td>4</td>\n",
       "      <td>6706.67</td>\n",
       "      <td>6706.67</td>\n",
       "      <td>6706.67</td>\n",
       "      <td>4134.0</td>\n",
       "      <td>10704.0</td>\n",
       "      <td>1</td>\n",
       "      <td>7.0</td>\n",
       "    </tr>\n",
       "    <tr>\n",
       "      <th>1</th>\n",
       "      <td>3</td>\n",
       "      <td>22.0</td>\n",
       "      <td>1.0</td>\n",
       "      <td>0</td>\n",
       "      <td>6</td>\n",
       "      <td>1</td>\n",
       "      <td>6725.50</td>\n",
       "      <td>6725.50</td>\n",
       "      <td>6725.50</td>\n",
       "      <td>10704.0</td>\n",
       "      <td>6782.0</td>\n",
       "      <td>1</td>\n",
       "      <td>9.0</td>\n",
       "    </tr>\n",
       "    <tr>\n",
       "      <th>2</th>\n",
       "      <td>3</td>\n",
       "      <td>22.0</td>\n",
       "      <td>1.0</td>\n",
       "      <td>0</td>\n",
       "      <td>6</td>\n",
       "      <td>1</td>\n",
       "      <td>8537.20</td>\n",
       "      <td>8537.20</td>\n",
       "      <td>8537.20</td>\n",
       "      <td>5282.0</td>\n",
       "      <td>15784.0</td>\n",
       "      <td>1</td>\n",
       "      <td>2.0</td>\n",
       "    </tr>\n",
       "    <tr>\n",
       "      <th>3</th>\n",
       "      <td>3</td>\n",
       "      <td>22.0</td>\n",
       "      <td>1.0</td>\n",
       "      <td>0</td>\n",
       "      <td>6</td>\n",
       "      <td>3</td>\n",
       "      <td>7406.33</td>\n",
       "      <td>7406.33</td>\n",
       "      <td>8060.80</td>\n",
       "      <td>13244.0</td>\n",
       "      <td>1752.0</td>\n",
       "      <td>1</td>\n",
       "      <td>3.0</td>\n",
       "    </tr>\n",
       "    <tr>\n",
       "      <th>4</th>\n",
       "      <td>3</td>\n",
       "      <td>22.0</td>\n",
       "      <td>1.0</td>\n",
       "      <td>0</td>\n",
       "      <td>6</td>\n",
       "      <td>4</td>\n",
       "      <td>6622.86</td>\n",
       "      <td>6622.86</td>\n",
       "      <td>7388.80</td>\n",
       "      <td>9470.0</td>\n",
       "      <td>1922.0</td>\n",
       "      <td>1</td>\n",
       "      <td>2.0</td>\n",
       "    </tr>\n",
       "  </tbody>\n",
       "</table>\n",
       "</div>"
      ],
      "text/plain": [
       "   usernum   age  genderid  country_id  day_of_week_id  timeofday_id  session_length_mvavg  session_length_mvavg_10  session_length_mvavg_5  session_length_mvavg_time  previous_duration  is_holiday  session_length\n",
       "0        3  22.0       1.0           0               6             4               6706.67                  6706.67                 6706.67                     4134.0            10704.0           1             7.0\n",
       "1        3  22.0       1.0           0               6             1               6725.50                  6725.50                 6725.50                    10704.0             6782.0           1             9.0\n",
       "2        3  22.0       1.0           0               6             1               8537.20                  8537.20                 8537.20                     5282.0            15784.0           1             2.0\n",
       "3        3  22.0       1.0           0               6             3               7406.33                  7406.33                 8060.80                    13244.0             1752.0           1             3.0\n",
       "4        3  22.0       1.0           0               6             4               6622.86                  6622.86                 7388.80                     9470.0             1922.0           1             2.0"
      ]
     },
     "execution_count": 408,
     "metadata": {},
     "output_type": "execute_result"
    }
   ],
   "source": [
    "unscaled_model_df = model_bucketized_df.select(\"usernum\",\"age\",\"genderid\",\"country_id\", \"day_of_week_id\", \"timeofday_id\", \"session_length_mvavg\",\"session_length_mvavg_10\",\"session_length_mvavg_5\",\"session_length_mvavg_time\",\"previous_duration\",\"is_holiday\",\"session_length\").toPandas().dropna()\n",
    "unscaled_model_df[:5]"
   ]
  },
  {
   "cell_type": "code",
   "execution_count": 409,
   "metadata": {},
   "outputs": [],
   "source": [
    "scaler = preprocessing.StandardScaler()\n",
    "scaled_df = scaler.fit_transform(unscaled_model_df)\n",
    "model_df = pd.DataFrame(scaled_df, columns=[\"usernum\",\"age\",\"genderid\",\"country_id\", \"day_of_week_id\", \"timeofday_id\", \"session_length_mvavg\",\"session_length_mvavg_10\",\"session_length_mvavg_5\",\"session_length_mvavg_time\",\"previous_duration\",\"is_holiday\",\"session_length\"])"
   ]
  },
  {
   "cell_type": "code",
   "execution_count": 410,
   "metadata": {},
   "outputs": [
    {
     "data": {
      "text/html": [
       "<div>\n",
       "<style scoped>\n",
       "    .dataframe tbody tr th:only-of-type {\n",
       "        vertical-align: middle;\n",
       "    }\n",
       "\n",
       "    .dataframe tbody tr th {\n",
       "        vertical-align: top;\n",
       "    }\n",
       "\n",
       "    .dataframe thead th {\n",
       "        text-align: right;\n",
       "    }\n",
       "</style>\n",
       "<table border=\"1\" class=\"dataframe\">\n",
       "  <thead>\n",
       "    <tr style=\"text-align: right;\">\n",
       "      <th></th>\n",
       "      <th>usernum</th>\n",
       "      <th>age</th>\n",
       "      <th>genderid</th>\n",
       "      <th>country_id</th>\n",
       "      <th>day_of_week_id</th>\n",
       "      <th>timeofday_id</th>\n",
       "      <th>session_length_mvavg</th>\n",
       "      <th>session_length_mvavg_10</th>\n",
       "      <th>session_length_mvavg_5</th>\n",
       "      <th>session_length_mvavg_time</th>\n",
       "      <th>previous_duration</th>\n",
       "      <th>is_holiday</th>\n",
       "      <th>session_length</th>\n",
       "    </tr>\n",
       "  </thead>\n",
       "  <tbody>\n",
       "    <tr>\n",
       "      <th>0</th>\n",
       "      <td>-1.692347</td>\n",
       "      <td>-0.7091</td>\n",
       "      <td>0.716434</td>\n",
       "      <td>-0.784539</td>\n",
       "      <td>2.736619</td>\n",
       "      <td>1.594627</td>\n",
       "      <td>0.148356</td>\n",
       "      <td>0.153590</td>\n",
       "      <td>0.137208</td>\n",
       "      <td>-0.280015</td>\n",
       "      <td>0.499551</td>\n",
       "      <td>1.843271</td>\n",
       "      <td>0.899578</td>\n",
       "    </tr>\n",
       "    <tr>\n",
       "      <th>1</th>\n",
       "      <td>-1.692347</td>\n",
       "      <td>-0.7091</td>\n",
       "      <td>0.716434</td>\n",
       "      <td>-0.784539</td>\n",
       "      <td>2.736619</td>\n",
       "      <td>-0.938752</td>\n",
       "      <td>0.153299</td>\n",
       "      <td>0.157021</td>\n",
       "      <td>0.140264</td>\n",
       "      <td>0.777204</td>\n",
       "      <td>0.095568</td>\n",
       "      <td>1.843271</td>\n",
       "      <td>1.596929</td>\n",
       "    </tr>\n",
       "    <tr>\n",
       "      <th>2</th>\n",
       "      <td>-1.692347</td>\n",
       "      <td>-0.7091</td>\n",
       "      <td>0.716434</td>\n",
       "      <td>-0.784539</td>\n",
       "      <td>2.736619</td>\n",
       "      <td>-0.938752</td>\n",
       "      <td>0.628909</td>\n",
       "      <td>0.487165</td>\n",
       "      <td>0.434265</td>\n",
       "      <td>-0.095283</td>\n",
       "      <td>1.022814</td>\n",
       "      <td>1.843271</td>\n",
       "      <td>-0.843799</td>\n",
       "    </tr>\n",
       "    <tr>\n",
       "      <th>3</th>\n",
       "      <td>-1.692347</td>\n",
       "      <td>-0.7091</td>\n",
       "      <td>0.716434</td>\n",
       "      <td>-0.784539</td>\n",
       "      <td>2.736619</td>\n",
       "      <td>0.750167</td>\n",
       "      <td>0.332032</td>\n",
       "      <td>0.281088</td>\n",
       "      <td>0.356955</td>\n",
       "      <td>1.185931</td>\n",
       "      <td>-0.422545</td>\n",
       "      <td>1.843271</td>\n",
       "      <td>-0.495124</td>\n",
       "    </tr>\n",
       "    <tr>\n",
       "      <th>4</th>\n",
       "      <td>-1.692347</td>\n",
       "      <td>-0.7091</td>\n",
       "      <td>0.716434</td>\n",
       "      <td>-0.784539</td>\n",
       "      <td>2.736619</td>\n",
       "      <td>1.594627</td>\n",
       "      <td>0.126354</td>\n",
       "      <td>0.138317</td>\n",
       "      <td>0.247904</td>\n",
       "      <td>0.578634</td>\n",
       "      <td>-0.405034</td>\n",
       "      <td>1.843271</td>\n",
       "      <td>-0.843799</td>\n",
       "    </tr>\n",
       "  </tbody>\n",
       "</table>\n",
       "</div>"
      ],
      "text/plain": [
       "    usernum     age  genderid  country_id  day_of_week_id  timeofday_id  session_length_mvavg  session_length_mvavg_10  session_length_mvavg_5  session_length_mvavg_time  previous_duration  is_holiday  session_length\n",
       "0 -1.692347 -0.7091  0.716434   -0.784539        2.736619      1.594627              0.148356                 0.153590                0.137208                  -0.280015           0.499551    1.843271        0.899578\n",
       "1 -1.692347 -0.7091  0.716434   -0.784539        2.736619     -0.938752              0.153299                 0.157021                0.140264                   0.777204           0.095568    1.843271        1.596929\n",
       "2 -1.692347 -0.7091  0.716434   -0.784539        2.736619     -0.938752              0.628909                 0.487165                0.434265                  -0.095283           1.022814    1.843271       -0.843799\n",
       "3 -1.692347 -0.7091  0.716434   -0.784539        2.736619      0.750167              0.332032                 0.281088                0.356955                   1.185931          -0.422545    1.843271       -0.495124\n",
       "4 -1.692347 -0.7091  0.716434   -0.784539        2.736619      1.594627              0.126354                 0.138317                0.247904                   0.578634          -0.405034    1.843271       -0.843799"
      ]
     },
     "execution_count": 410,
     "metadata": {},
     "output_type": "execute_result"
    }
   ],
   "source": [
    "model_df[:5]"
   ]
  },
  {
   "cell_type": "code",
   "execution_count": 411,
   "metadata": {},
   "outputs": [],
   "source": [
    "#train cut point ~ 65% of samples\n",
    "train_size = int(0.65*model_df.shape[0])\n",
    "\n",
    "#dev cut point ~20% of samples\n",
    "dev_size   = int(0.2*model_df.shape[0])\n",
    "\n",
    "#test cut point ~15% of samples\n",
    "test_size  = int(0.15%model_df.shape[0])\n",
    "test_cut   = train_size + dev_size"
   ]
  },
  {
   "cell_type": "code",
   "execution_count": 412,
   "metadata": {},
   "outputs": [],
   "source": [
    "input_       = shuffle(model_df.reset_index())\n",
    "input_data   = np.array(input_.iloc[:,1:-1]).astype(np.float32)\n",
    "input_labels = np.array(input_.iloc[:,-1]).astype(np.float32)"
   ]
  },
  {
   "cell_type": "code",
   "execution_count": 413,
   "metadata": {},
   "outputs": [
    {
     "data": {
      "text/plain": [
       "array([[ 1.0339746 , -0.87162197, -1.3958017 ,  0.46530983,  0.16761963,\n",
       "        -0.09429235, -0.37191388, -0.5217272 , -0.56005096, -0.44431028,\n",
       "        -0.52008975, -0.5425139 ],\n",
       "       [-1.1694909 , -0.38405675, -1.3958017 , -0.784539  ,  2.7366185 ,\n",
       "         0.7501674 ,  0.3873895 ,  0.4390568 ,  0.33764413,  0.33272165,\n",
       "         0.12719026,  1.8432708 ],\n",
       "       [ 0.6605059 ,  1.8912476 ,  0.7164342 , -0.784539  , -0.47463012,\n",
       "        -0.9387521 ,  0.31916285, -0.25554535, -0.05867369, -0.33582062,\n",
       "         0.6419036 ,  1.8432708 ],\n",
       "       [ 0.5111184 , -0.70910025,  0.7164342 ,  1.268784  , -1.1168798 ,\n",
       "        -0.9387521 , -0.72806597,  0.04312792, -0.13692462, -0.33919984,\n",
       "        -0.2181837 ,  1.8432708 ],\n",
       "       [ 1.6035144 ,  0.10350847,  0.7164342 , -0.24888949, -1.1168798 ,\n",
       "        -0.09429235, -0.5909695 , -0.77675664, -0.70749766,  0.05768376,\n",
       "        -0.5442958 , -0.5425139 ]], dtype=float32)"
      ]
     },
     "execution_count": 413,
     "metadata": {},
     "output_type": "execute_result"
    }
   ],
   "source": [
    "input_data[:5]"
   ]
  },
  {
   "cell_type": "code",
   "execution_count": 414,
   "metadata": {},
   "outputs": [
    {
     "data": {
      "text/plain": [
       "array([ 0.55090266,  0.8995781 ,  0.55090266,  1.2482535 , -0.1464482 ],\n",
       "      dtype=float32)"
      ]
     },
     "execution_count": 414,
     "metadata": {},
     "output_type": "execute_result"
    }
   ],
   "source": [
    "input_labels[:5]"
   ]
  },
  {
   "cell_type": "code",
   "execution_count": 415,
   "metadata": {},
   "outputs": [
    {
     "data": {
      "text/plain": [
       "[1.61, 2.48, 3.04, 3.4, 3.74, 4.01, 4.3, 4.61, 4.95, 5.42]"
      ]
     },
     "execution_count": 415,
     "metadata": {},
     "output_type": "execute_result"
    }
   ],
   "source": [
    "deciles\n"
   ]
  },
  {
   "cell_type": "code",
   "execution_count": 416,
   "metadata": {},
   "outputs": [
    {
     "data": {
      "text/plain": [
       "(202239, 12)"
      ]
     },
     "execution_count": 416,
     "metadata": {},
     "output_type": "execute_result"
    }
   ],
   "source": [
    "input_data.shape"
   ]
  },
  {
   "cell_type": "code",
   "execution_count": 417,
   "metadata": {},
   "outputs": [],
   "source": [
    "num_examples = train_size"
   ]
  },
  {
   "cell_type": "code",
   "execution_count": 418,
   "metadata": {},
   "outputs": [
    {
     "data": {
      "text/plain": [
       "array([[ 1.0339746 , -0.87162197, -1.3958017 ,  0.46530983,  0.16761963,\n",
       "        -0.09429235, -0.37191388, -0.5217272 , -0.56005096, -0.44431028,\n",
       "        -0.52008975, -0.5425139 ],\n",
       "       [-1.1694909 , -0.38405675, -1.3958017 , -0.784539  ,  2.7366185 ,\n",
       "         0.7501674 ,  0.3873895 ,  0.4390568 ,  0.33764413,  0.33272165,\n",
       "         0.12719026,  1.8432708 ],\n",
       "       [ 0.6605059 ,  1.8912476 ,  0.7164342 , -0.784539  , -0.47463012,\n",
       "        -0.9387521 ,  0.31916285, -0.25554535, -0.05867369, -0.33582062,\n",
       "         0.6419036 ,  1.8432708 ],\n",
       "       [ 0.5111184 , -0.70910025,  0.7164342 ,  1.268784  , -1.1168798 ,\n",
       "        -0.9387521 , -0.72806597,  0.04312792, -0.13692462, -0.33919984,\n",
       "        -0.2181837 ,  1.8432708 ],\n",
       "       [ 1.6035144 ,  0.10350847,  0.7164342 , -0.24888949, -1.1168798 ,\n",
       "        -0.09429235, -0.5909695 , -0.77675664, -0.70749766,  0.05768376,\n",
       "        -0.5442958 , -0.5425139 ]], dtype=float32)"
      ]
     },
     "execution_count": 418,
     "metadata": {},
     "output_type": "execute_result"
    }
   ],
   "source": [
    "train_X = input_data[:train_size]\n",
    "train_X[:5]"
   ]
  },
  {
   "cell_type": "code",
   "execution_count": 419,
   "metadata": {},
   "outputs": [
    {
     "data": {
      "text/plain": [
       "(131455, 12)"
      ]
     },
     "execution_count": 419,
     "metadata": {},
     "output_type": "execute_result"
    }
   ],
   "source": [
    "train_X.shape"
   ]
  },
  {
   "cell_type": "code",
   "execution_count": 420,
   "metadata": {},
   "outputs": [
    {
     "data": {
      "text/plain": [
       "dtype('float32')"
      ]
     },
     "execution_count": 420,
     "metadata": {},
     "output_type": "execute_result"
    }
   ],
   "source": [
    "train_X.dtype"
   ]
  },
  {
   "cell_type": "code",
   "execution_count": 421,
   "metadata": {},
   "outputs": [
    {
     "data": {
      "text/plain": [
       "(131455,)"
      ]
     },
     "execution_count": 421,
     "metadata": {},
     "output_type": "execute_result"
    }
   ],
   "source": [
    "train_Y = input_labels[:train_size]\n",
    "train_Y.shape"
   ]
  },
  {
   "cell_type": "code",
   "execution_count": 422,
   "metadata": {},
   "outputs": [
    {
     "data": {
      "text/plain": [
       "array([[-1.4215823 ,  0.10350847,  0.7164342 ,  0.46530983,  1.4521191 ,\n",
       "        -0.9387521 , -0.7980331 , -0.15429895, -0.35869515, -0.57471675,\n",
       "        -0.21962576, -0.5425139 ],\n",
       "       [ 1.2673926 ,  0.10350847,  0.7164342 ,  1.8044336 , -0.47463012,\n",
       "        -0.09429235, -0.3342316 , -0.34704253, -0.07460949,  0.6144537 ,\n",
       "        -0.53348035, -0.5425139 ],\n",
       "       [-1.5242863 ,  0.10350847,  0.7164342 , -0.5167142 ,  2.7366185 ,\n",
       "        -0.9387521 , -0.651268  , -0.77626467, -0.74478936, -0.37588874,\n",
       "        -0.5218409 , -0.5425139 ],\n",
       "       [ 0.6605059 ,  1.8912476 ,  0.7164342 , -0.784539  ,  0.16761963,\n",
       "         1.5946271 ,  0.2518235 , -0.19635738, -0.19193722, -0.71001506,\n",
       "         0.4123066 ,  1.8432708 ],\n",
       "       [-0.936073  , -1.1966654 ,  0.7164342 ,  1.0902343 , -0.47463012,\n",
       "         1.5946271 , -0.49674273, -0.3058588 , -0.06931919, -0.45029637,\n",
       "         0.22998872, -0.5425139 ]], dtype=float32)"
      ]
     },
     "execution_count": 422,
     "metadata": {},
     "output_type": "execute_result"
    }
   ],
   "source": [
    "dev_X = input_data[train_size:test_cut]\n",
    "dev_X[:5]"
   ]
  },
  {
   "cell_type": "code",
   "execution_count": 423,
   "metadata": {},
   "outputs": [
    {
     "data": {
      "text/plain": [
       "array([-1.1924745,  1.2482535, -1.5411499,  1.2482535,  0.8995781],\n",
       "      dtype=float32)"
      ]
     },
     "execution_count": 423,
     "metadata": {},
     "output_type": "execute_result"
    }
   ],
   "source": [
    "dev_Y = input_labels[train_size:test_cut]\n",
    "dev_Y[:5]"
   ]
  },
  {
   "cell_type": "code",
   "execution_count": 424,
   "metadata": {},
   "outputs": [
    {
     "data": {
      "text/plain": [
       "131455"
      ]
     },
     "execution_count": 424,
     "metadata": {},
     "output_type": "execute_result"
    }
   ],
   "source": [
    "n_samples = train_X.shape[0]\n",
    "n_samples"
   ]
  },
  {
   "cell_type": "code",
   "execution_count": 425,
   "metadata": {},
   "outputs": [
    {
     "data": {
      "text/plain": [
       "12"
      ]
     },
     "execution_count": 425,
     "metadata": {},
     "output_type": "execute_result"
    }
   ],
   "source": [
    "num_features = train_X.shape[1]\n",
    "num_features"
   ]
  },
  {
   "cell_type": "markdown",
   "metadata": {},
   "source": [
    "### Logistic Regression with TensorFlow"
   ]
  },
  {
   "cell_type": "code",
   "execution_count": 426,
   "metadata": {},
   "outputs": [
    {
     "name": "stderr",
     "output_type": "stream",
     "text": [
      "/usr/local/lib/python2.7/dist-packages/requests/__init__.py:83: RequestsDependencyWarning: Old version of cryptography ([1, 2, 3]) may cause slowdown.\n",
      "  warnings.warn(warning, RequestsDependencyWarning)\n"
     ]
    }
   ],
   "source": [
    "from __future__ import print_function\n",
    "import tensorflow as tf\n",
    "from tensorflow.contrib import rnn\n"
   ]
  },
  {
   "cell_type": "code",
   "execution_count": 427,
   "metadata": {},
   "outputs": [],
   "source": [
    "learning_rate   = 0.01\n",
    "training_epochs = 1000\n",
    "batch_size      = 1000\n",
    "display_step    = 10"
   ]
  },
  {
   "cell_type": "code",
   "execution_count": 428,
   "metadata": {},
   "outputs": [],
   "source": [
    "# tf Graph Input\n",
    "X = tf.placeholder(tf.float32, [batch_size, num_features])\n",
    "Y = tf.placeholder(tf.float32, [batch_size,])\n",
    "\n",
    "# Set model weights\n",
    "W = tf.Variable(tf.zeros([num_features, batch_size]))\n",
    "b = tf.Variable(tf.zeros([batch_size]))"
   ]
  },
  {
   "cell_type": "code",
   "execution_count": 429,
   "metadata": {},
   "outputs": [],
   "source": [
    "with tf.name_scope('prediction'):\n",
    "    pred = tf.nn.softmax(tf.matmul(X, W) + b)\n",
    "    tf.summary.histogram('predictions', pred)\n",
    "\n",
    "with tf.name_scope('cost'):\n",
    "    cost = tf.reduce_mean(-tf.reduce_sum(Y*tf.log(pred), reduction_indices=1))\n",
    "    tf.summary.histogram('cost', cost)\n",
    "    \n",
    "optimizer = tf.train.GradientDescentOptimizer(learning_rate).minimize(cost)\n",
    "\n",
    "init = tf.global_variables_initializer()"
   ]
  },
  {
   "cell_type": "code",
   "execution_count": 430,
   "metadata": {},
   "outputs": [],
   "source": [
    "def get_next_batch(i, b_size,data,labels):\n",
    "    start = i*b_size\n",
    "    end = start + b_size\n",
    "    return data[start:end], labels[start:end]"
   ]
  },
  {
   "cell_type": "code",
   "execution_count": 431,
   "metadata": {},
   "outputs": [
    {
     "data": {
      "text/plain": [
       "[numpy.ndarray, numpy.ndarray]"
      ]
     },
     "execution_count": 431,
     "metadata": {},
     "output_type": "execute_result"
    }
   ],
   "source": [
    "[ type(x) for x in get_next_batch(0,batch_size, train_X, train_Y)]"
   ]
  },
  {
   "cell_type": "code",
   "execution_count": 432,
   "metadata": {},
   "outputs": [
    {
     "data": {
      "text/plain": [
       "131455"
      ]
     },
     "execution_count": 432,
     "metadata": {},
     "output_type": "execute_result"
    }
   ],
   "source": [
    "n_samples"
   ]
  },
  {
   "cell_type": "code",
   "execution_count": 433,
   "metadata": {},
   "outputs": [
    {
     "data": {
      "text/plain": [
       "(40447, 12)"
      ]
     },
     "execution_count": 433,
     "metadata": {},
     "output_type": "execute_result"
    }
   ],
   "source": [
    "dev_X.shape"
   ]
  },
  {
   "cell_type": "code",
   "execution_count": 434,
   "metadata": {},
   "outputs": [
    {
     "data": {
      "text/plain": [
       "(40447,)"
      ]
     },
     "execution_count": 434,
     "metadata": {},
     "output_type": "execute_result"
    }
   ],
   "source": [
    "dev_Y.shape"
   ]
  },
  {
   "cell_type": "code",
   "execution_count": 435,
   "metadata": {},
   "outputs": [
    {
     "name": "stdout",
     "output_type": "stream",
     "text": [
      "/data_data/session_length\r\n"
     ]
    }
   ],
   "source": [
    "!pwd"
   ]
  },
  {
   "cell_type": "code",
   "execution_count": 436,
   "metadata": {},
   "outputs": [
    {
     "name": "stdout",
     "output_type": "stream",
     "text": [
      "\u001b[31mE1102 11:19:17.324633 MainThread main.py:197] TensorBoard attempted to bind to port 6006, but it was already in use\r\n",
      "\u001b[0mTensorBoard attempted to bind to port 6006, but it was already in use\r\n"
     ]
    }
   ],
   "source": [
    "!tensorboard --logdir=/data_data/session_length/logs/"
   ]
  },
  {
   "cell_type": "code",
   "execution_count": 437,
   "metadata": {},
   "outputs": [],
   "source": [
    "#!mkdir ./logs"
   ]
  },
  {
   "cell_type": "markdown",
   "metadata": {},
   "source": [
    "### LSTM Classifier: Train classifier to predict decile that a session will fall into"
   ]
  },
  {
   "cell_type": "code",
   "execution_count": null,
   "metadata": {},
   "outputs": [],
   "source": [
    "# Start training\n",
    "with tf.Session() as sess:\n",
    "    sess.run(init)\n",
    "    \n",
    "    with tf.name_scope('train'):\n",
    "        for epoch in range(training_epochs):\n",
    "            avg_cost = 0\n",
    "            total_batch = int(n_samples/batch_size)\n",
    "\n",
    "            for i in range(total_batch):\n",
    "                #print(\"ITERATION:\\t{}\\tBATCH_SIZE:\\t{}\".format(i,batch_size))\n",
    "                batch_xs, batch_ys = get_next_batch(i,batch_size, train_X, train_Y)\n",
    "\n",
    "                _, c = sess.run([optimizer, cost], feed_dict={X: batch_xs, Y: batch_ys})\n",
    "                #print(\"cost:\\t{}\".format(c))\n",
    "                avg_cost += c / total_batch\n",
    "\n",
    "            if (epoch+1) % display_step == 0:\n",
    "                print(\"Epoch:\", '%04d' % (epoch+1), \"cost=\", \"{:.9f}\".format(avg_cost))\n",
    "\n",
    "                tf.summary.scalar('average_cost', avg_cost)\n",
    "            \n",
    "        print(\"Optimization Finished!\")\n",
    "        \n",
    "    with tf.name_scope('accuracy'):\n",
    "        correct_prediction = tf.equal(tf.argmax(pred, 1), tf.argmax(Y, 1))\n",
    "        accuracy = tf.reduce_mean(tf.cast(correct_prediction, tf.float32))\n",
    "        print(\"Accuracy:\\t{}\".format(accuracy))\n",
    "        tf.summary.scalar('accuracy', accuracy)\n",
    "    \n",
    "    devX = dev_X[:batch_size]\n",
    "    devY = dev_Y[:batch_size]\n",
    "    \n",
    "    print(\"Accuracy:\", accuracy.eval({X: devX, Y: devY}))\n",
    "    \n",
    "    merged = tf.summary.merge_all()\n",
    "    train_writer = tf.summary.FileWriter('/data_data/session_length/logs/train', sess.graph)\n",
    "    test_writer  = tf.summary.FileWriter('/data_data/session_length/logs/test')"
   ]
  },
  {
   "cell_type": "code",
   "execution_count": null,
   "metadata": {},
   "outputs": [],
   "source": []
  },
  {
   "cell_type": "markdown",
   "metadata": {},
   "source": [
    "### LSTM Classifier: Using Keras"
   ]
  },
  {
   "cell_type": "code",
   "execution_count": 444,
   "metadata": {},
   "outputs": [
    {
     "name": "stderr",
     "output_type": "stream",
     "text": [
      "Using TensorFlow backend.\n"
     ]
    }
   ],
   "source": [
    "from keras import models\n",
    "from keras import layers"
   ]
  },
  {
   "cell_type": "code",
   "execution_count": 446,
   "metadata": {},
   "outputs": [
    {
     "data": {
      "text/plain": [
       "array([[ 1.0339746 , -0.87162197, -1.3958017 ,  0.46530983,  0.16761963,\n",
       "        -0.09429235, -0.37191388, -0.5217272 , -0.56005096, -0.44431028,\n",
       "        -0.52008975, -0.5425139 ],\n",
       "       [-1.1694909 , -0.38405675, -1.3958017 , -0.784539  ,  2.7366185 ,\n",
       "         0.7501674 ,  0.3873895 ,  0.4390568 ,  0.33764413,  0.33272165,\n",
       "         0.12719026,  1.8432708 ],\n",
       "       [ 0.6605059 ,  1.8912476 ,  0.7164342 , -0.784539  , -0.47463012,\n",
       "        -0.9387521 ,  0.31916285, -0.25554535, -0.05867369, -0.33582062,\n",
       "         0.6419036 ,  1.8432708 ],\n",
       "       [ 0.5111184 , -0.70910025,  0.7164342 ,  1.268784  , -1.1168798 ,\n",
       "        -0.9387521 , -0.72806597,  0.04312792, -0.13692462, -0.33919984,\n",
       "        -0.2181837 ,  1.8432708 ],\n",
       "       [ 1.6035144 ,  0.10350847,  0.7164342 , -0.24888949, -1.1168798 ,\n",
       "        -0.09429235, -0.5909695 , -0.77675664, -0.70749766,  0.05768376,\n",
       "        -0.5442958 , -0.5425139 ]], dtype=float32)"
      ]
     },
     "execution_count": 446,
     "metadata": {},
     "output_type": "execute_result"
    }
   ],
   "source": [
    "train_X[:5]"
   ]
  },
  {
   "cell_type": "code",
   "execution_count": 447,
   "metadata": {},
   "outputs": [
    {
     "data": {
      "text/plain": [
       "array([ 0.55090266,  0.8995781 ,  0.55090266,  1.2482535 , -0.1464482 ],\n",
       "      dtype=float32)"
      ]
     },
     "execution_count": 447,
     "metadata": {},
     "output_type": "execute_result"
    }
   ],
   "source": [
    "train_Y[:5]"
   ]
  },
  {
   "cell_type": "code",
   "execution_count": 449,
   "metadata": {},
   "outputs": [
    {
     "data": {
      "text/plain": [
       "131455"
      ]
     },
     "execution_count": 449,
     "metadata": {},
     "output_type": "execute_result"
    }
   ],
   "source": [
    "len(train_Y)"
   ]
  },
  {
   "cell_type": "code",
   "execution_count": null,
   "metadata": {},
   "outputs": [],
   "source": [
    "model = models.Sequential()\n",
    "model.add(layers.Dense(100, activation='relu', input_shape=(len(train_Y,))))"
   ]
  },
  {
   "cell_type": "code",
   "execution_count": null,
   "metadata": {},
   "outputs": [],
   "source": []
  },
  {
   "cell_type": "code",
   "execution_count": null,
   "metadata": {},
   "outputs": [],
   "source": []
  },
  {
   "cell_type": "code",
   "execution_count": null,
   "metadata": {},
   "outputs": [],
   "source": []
  },
  {
   "cell_type": "code",
   "execution_count": null,
   "metadata": {},
   "outputs": [],
   "source": []
  },
  {
   "cell_type": "markdown",
   "metadata": {},
   "source": [
    "### LSTM Classifier Part II"
   ]
  },
  {
   "cell_type": "code",
   "execution_count": null,
   "metadata": {},
   "outputs": [],
   "source": [
    "# Training Parameters\n",
    "learning_rate = 0.001\n",
    "training_steps = 10000\n",
    "batch_size = 100\n",
    "display_step = 200\n",
    "\n",
    "# Network Parameters\n",
    "num_input = 7 \n",
    "timesteps = 28 \n",
    "num_hidden = 128 # hidden layer num of features\n",
    "num_classes = 10 # MNIST total classes (0-9 digits)\n",
    "\n",
    "# tf Graph input\n",
    "X = tf.placeholder(\"float\", [None, timesteps, num_input])\n",
    "Y = tf.placeholder(\"float\", [None, num_classes])"
   ]
  },
  {
   "cell_type": "code",
   "execution_count": null,
   "metadata": {},
   "outputs": [],
   "source": [
    "hidden_layer_size = 100\n",
    "\n",
    "num_classes       = 10\n",
    "\n",
    "_seq_len          = n_samples\n",
    "\n",
    "_labels           = deciles\n",
    "\n",
    "time_steps        = 10\n",
    "\n",
    "embed_dimension   = 50"
   ]
  },
  {
   "cell_type": "code",
   "execution_count": null,
   "metadata": {},
   "outputs": [],
   "source": [
    "_inputs   = tf.placeholder(tf.int32,   shape=[batch_size, time_steps])\n",
    "_labels   = tf.placeholder(tf.float32, shape=[batch_size, num_classes])\n",
    "_size     = 10\n",
    "_seqlens  = tf.placeholder(tf.int32, shape=[batch_size])"
   ]
  },
  {
   "cell_type": "code",
   "execution_count": null,
   "metadata": {},
   "outputs": [],
   "source": [
    "with tf.name_scope('embeddings'):\n",
    "    embeddings = tf.Variable( tf.random_uniform([_size, embed_dimension], -1.0, 1.0), name='embedding')\n",
    "    embed      = tf.nn.embedding_lookup(embeddings, _inputs)"
   ]
  },
  {
   "cell_type": "code",
   "execution_count": null,
   "metadata": {},
   "outputs": [],
   "source": [
    "embeddings.get_shape()"
   ]
  },
  {
   "cell_type": "code",
   "execution_count": null,
   "metadata": {},
   "outputs": [],
   "source": [
    "embed.get_shape()"
   ]
  },
  {
   "cell_type": "code",
   "execution_count": null,
   "metadata": {},
   "outputs": [],
   "source": [
    "tf.reset_default_graph()\n",
    "\n",
    "with tf.variable_scope('lstm'):\n",
    "    \n",
    "    lstm_cell       = tf.contrib.rnn.BasicLSTMCell(hidden_layer_size, forget_bias=1.0)\n",
    "    \n",
    "    print(\"LSTM output_size: \\t{}\\tinput_spec:\\{}\".format(lstm_cell.output_size,lstm_cell.input_spec))\n",
    "    \n",
    "    outputs, states = tf.nn.dynamic_rnn(lstm_cell, embed, sequence_length = _seqlens, dtype=tf.float32)\n",
    "    \n",
    "    weights         = { 'linear_layer': tf.Variable(tf.truncated_normal([hidden_layer_size, num_classes], mean=0, stddev=0.01)) }\n",
    "    \n",
    "    biases          = { 'linear_layer': tf.Variable(tf.truncated_normal([num_classes], mean=0, stddev=0.01))}\n",
    "    \n",
    "    final_output    = tf.matmul(states[1], weights[\"linear_layer\"]) + biases[\"linear_layer\"]\n",
    "    \n",
    "    softmax         = tf.nn.softmax_cross_entropy_with_logits(logits = final_output, labels = _labels)\n",
    "    \n",
    "    cross_entropy   = tf.reduce_mean(softmax)\n",
    "    \n",
    "    "
   ]
  },
  {
   "cell_type": "code",
   "execution_count": null,
   "metadata": {},
   "outputs": [],
   "source": [
    "train_step = tf.train.RMSPropOptimizer(0.001, 0.9).minimize(cross_entropy)\n",
    "\n",
    "correction_prediction = tf.equal(tf.argmax(_labels, 1), tf.argmax(final_output, 1))\n",
    "\n",
    "accuracy   = (tf.reduce_mean(tf.cast(correct_prediction, tf.float32)))*100\n",
    "\n",
    "with tf.Session() as sess:\n",
    "    \n",
    "    sess.run(tf.global_variables_initializer())\n",
    "    \n",
    "    for step in range(1000):\n",
    "        \n",
    "        x_batch, y_batch = get_next_batch(step, batch_size, train_X, train_Y)\n",
    "    \n",
    "        if step % 100 == 0:\n",
    "\n",
    "            acc = sess.run(accuracy,feed_dict={inputs:x_batch, _labels:y_batch})\n",
    "\n",
    "            print(\"Accuracy at %d: %.5f\" % (step, acc))\n",
    "            \n",
    "            \n",
    "    for test_batch in range(5):\n",
    "        \n",
    "        x_tes, y_test = get_next_batch(test_batch, batch_size, train_X, train_Y)\n",
    "        \n",
    "        batch_pred, batch_acc = sess.run([tf.argmax(final_output,1), accuracy], feed_dict={_inputs:x_test, _labels:y_test})\n",
    "        \n",
    "        print(\"Test batch accuracy %d: %.5f\" % (test_batch, batch_acc))\n",
    "\n",
    "    ouput_example  = session.run([outputs], feed_dict={_inputs:x_test, _labels:y_test})\n",
    "    \n",
    "    states_example = sess.run([states[1]], feed_dict={_inputs:x_test, _labels:y_test})\n",
    "        \n",
    "    "
   ]
  },
  {
   "cell_type": "code",
   "execution_count": null,
   "metadata": {},
   "outputs": [],
   "source": []
  },
  {
   "cell_type": "markdown",
   "metadata": {},
   "source": [
    "### CNN with TensorFlow"
   ]
  },
  {
   "cell_type": "code",
   "execution_count": null,
   "metadata": {},
   "outputs": [],
   "source": []
  },
  {
   "cell_type": "code",
   "execution_count": null,
   "metadata": {},
   "outputs": [],
   "source": []
  },
  {
   "cell_type": "code",
   "execution_count": null,
   "metadata": {},
   "outputs": [],
   "source": []
  },
  {
   "cell_type": "code",
   "execution_count": null,
   "metadata": {},
   "outputs": [],
   "source": []
  },
  {
   "cell_type": "code",
   "execution_count": null,
   "metadata": {},
   "outputs": [],
   "source": []
  },
  {
   "cell_type": "code",
   "execution_count": null,
   "metadata": {},
   "outputs": [],
   "source": []
  },
  {
   "cell_type": "code",
   "execution_count": null,
   "metadata": {},
   "outputs": [],
   "source": []
  },
  {
   "cell_type": "code",
   "execution_count": null,
   "metadata": {},
   "outputs": [],
   "source": []
  },
  {
   "cell_type": "code",
   "execution_count": null,
   "metadata": {},
   "outputs": [],
   "source": []
  },
  {
   "cell_type": "code",
   "execution_count": null,
   "metadata": {},
   "outputs": [],
   "source": []
  },
  {
   "cell_type": "code",
   "execution_count": null,
   "metadata": {},
   "outputs": [],
   "source": []
  },
  {
   "cell_type": "code",
   "execution_count": null,
   "metadata": {},
   "outputs": [],
   "source": []
  },
  {
   "cell_type": "code",
   "execution_count": null,
   "metadata": {},
   "outputs": [],
   "source": []
  },
  {
   "cell_type": "code",
   "execution_count": null,
   "metadata": {},
   "outputs": [],
   "source": []
  },
  {
   "cell_type": "code",
   "execution_count": null,
   "metadata": {},
   "outputs": [],
   "source": []
  }
 ],
 "metadata": {
  "kernelspec": {
   "display_name": "Python 2",
   "language": "python",
   "name": "python2"
  },
  "language_info": {
   "codemirror_mode": {
    "name": "ipython",
    "version": 2
   },
   "file_extension": ".py",
   "mimetype": "text/x-python",
   "name": "python",
   "nbconvert_exporter": "python",
   "pygments_lexer": "ipython2",
   "version": "2.7.12"
  }
 },
 "nbformat": 4,
 "nbformat_minor": 2
}
